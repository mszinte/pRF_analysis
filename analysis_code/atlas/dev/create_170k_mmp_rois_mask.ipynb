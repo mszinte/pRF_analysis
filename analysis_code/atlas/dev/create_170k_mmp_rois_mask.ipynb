{
 "cells": [
  {
   "cell_type": "code",
   "execution_count": null,
   "id": "142b86d3-15f5-47a5-8030-04b8706a9908",
   "metadata": {
    "tags": []
   },
   "outputs": [],
   "source": [
    "# General imports\n",
    "import os\n",
    "import sys\n",
    "import cortex\n",
    "import numpy as np\n",
    "import matplotlib.pyplot as plt\n",
    "\n",
    "# Personals Import \n",
    "sys.path.append(\"{}/../utils\".format(os.getcwd()))\n",
    "from cifti_utils import from_170k_to_59k\n",
    "from surface_utils import load_surface\n",
    "from pycortex_utils import get_rois\n",
    "\n",
    "# load settings\n",
    "import json\n",
    "with open('../settings.json') as f:\n",
    "    json_s = f.read()\n",
    "    analysis_info = json.loads(json_s)\n",
    "formats = analysis_info['formats']\n",
    "extensions = analysis_info['extensions']\n",
    "rois_group = analysis_info['rois_group']"
   ]
  },
  {
   "cell_type": "code",
   "execution_count": null,
   "id": "fc649bd9-428a-4ea5-a718-569bd7249c5c",
   "metadata": {
    "tags": []
   },
   "outputs": [],
   "source": [
    "main_dir = '/home/mszinte/disks/meso_S/data'\n",
    "code_dir = '/home/mszinte/disks/meso_H/projects'\n",
    "project_dir = 'RetinoMaps'\n",
    "\n",
    "_170k_dir_ ='{}/{}/derivatives/pp_data/cortex/db/sub-170k'.format(\n",
    "    main_dir, project_dir)\n",
    "_170k_fn = 'sub-170k_template.dtseries.nii'\n",
    "\n",
    "mmp_rois_dir = '{}/{}/derivatives/pp_data/cortex/db/sub-170k/'.format(\n",
    "    main_dir, project_dir)\n",
    "mmp_rois_fn = 'mmp_atlas_rois_59k.npz'"
   ]
  },
  {
   "cell_type": "code",
   "execution_count": null,
   "id": "4c39a19b-678e-4825-8e20-f04c2ba9defa",
   "metadata": {
    "tags": []
   },
   "outputs": [],
   "source": [
    "# load any 170k data to acces 59k mask \n",
    "img_170k, data_170k = load_surface('{}/{}'.format(_170k_dir_,_170k_fn))\n",
    "rois_dict_59k = dict(np.load('{}/{}'.format(mmp_rois_dir,mmp_rois_fn)))"
   ]
  },
  {
   "cell_type": "code",
   "execution_count": null,
   "id": "0ca52315",
   "metadata": {
    "tags": []
   },
   "outputs": [],
   "source": [
    "# Load surface \n",
    "surfs = [cortex.polyutils.Surface(*d) for d in cortex.db.get_surf('sub-170k', \"flat\")]\n",
    "surf_lh, surf_rh = surfs[0], surfs[1]\n",
    "lh_vert_num, rh_vert_num = surf_lh.pts.shape[0], surf_rh.pts.shape[0]"
   ]
  },
  {
   "cell_type": "code",
   "execution_count": null,
   "id": "e9824315-fb4e-4f03-879f-3c830fab20a3",
   "metadata": {
    "tags": []
   },
   "outputs": [],
   "source": [
    "# Decompose the 170k datas \n",
    "results = from_170k_to_59k(img=img_170k, data=data_170k, return_concat_hemis=False, return_59k_mask=True)\n",
    "data_59k_L = results['data_L']\n",
    "data_59k_R = results['data_R']\n",
    "mask_59k = results['mask_59k']"
   ]
  },
  {
   "cell_type": "code",
   "execution_count": null,
   "id": "7281fa3c",
   "metadata": {
    "tags": []
   },
   "outputs": [],
   "source": [
    "# Make hemi masks 59k\n",
    "mask_59k_L = mask_59k[:lh_vert_num]\n",
    "mask_59k_R = mask_59k[-rh_vert_num:]"
   ]
  },
  {
   "cell_type": "code",
   "execution_count": null,
   "id": "2f881f4e",
   "metadata": {
    "tags": []
   },
   "outputs": [],
   "source": [
    "#  Make rois dict \n",
    "rois_dict_59k_L = {roi: data[:lh_vert_num] for roi, data in rois_dict_59k.items()}\n",
    "rois_dict_59k_R = {roi: data[-rh_vert_num:] for roi, data in rois_dict_59k.items()}"
   ]
  },
  {
   "cell_type": "code",
   "execution_count": null,
   "id": "2c391e27-60f7-4cf7-b6bc-4244dc5aeed9",
   "metadata": {
    "tags": []
   },
   "outputs": [],
   "source": [
    "# Make the final 170k Rois dict \n",
    "n_vertrx_170k = data_170k.shape[1]\n",
    "\n",
    "rois_dict_170k = {}\n",
    "for key, value in rois_dict_59k.items():\n",
    "    rois_dict_170k[key] = value[mask_59k]\n",
    "    vertex_to_add = n_vertrx_170k - len(value[mask_59k])\n",
    "    rois_dict_170k[key] = np.concatenate((value[mask_59k], np.full(vertex_to_add, False)))\n",
    "    \n",
    "    \n",
    "rois_dict_170k_L = {}\n",
    "for key, value in rois_dict_59k_L.items():\n",
    "    rois_dict_170k_L[key] = value[mask_59k_L]\n",
    "    vertex_to_add = n_vertrx_170k - len(value[mask_59k_L])\n",
    "    rois_dict_170k_L[key] = np.concatenate((value[mask_59k_L], np.full(vertex_to_add, False)))\n",
    "\n",
    "rois_dict_170k_R = {}\n",
    "for key, value in rois_dict_59k_R.items():\n",
    "    rois_dict_170k_R[key] = value[mask_59k_R]\n",
    "    vertex_to_add = n_vertrx_170k - (len(value[mask_59k_R])+len(value[mask_59k_L]))\n",
    "    rois_dict_170k_R[key] = np.concatenate((np.full(len(value[mask_59k_L]), False),value[mask_59k_R], np.full(vertex_to_add, False)))"
   ]
  },
  {
   "cell_type": "code",
   "execution_count": null,
   "id": "4163716f-1eca-4f87-95ce-5cd263ce66b3",
   "metadata": {
    "tags": []
   },
   "outputs": [],
   "source": [
    "# Define groups and their corresponding ROIs in a dictionary\n",
    "groups = dict(zip(rois, rois_group))"
   ]
  },
  {
   "cell_type": "code",
   "execution_count": null,
   "id": "3b60f365-4d43-48b9-a94d-e17ce0260674",
   "metadata": {
    "tags": []
   },
   "outputs": [],
   "source": [
    "# Brain 59k group\n",
    "rois_dict_59k_group = {}\n",
    "for group_name, rois_keys in groups.items():\n",
    "    # Create an array of False for the group\n",
    "    group_array = np.array([False] * len(next(iter(rois_dict_59k.values()))))\n",
    "    for key in rois_keys:\n",
    "        if key in rois_dict_59k:  # Check for key existence\n",
    "            # Combine arrays with logical OR\n",
    "            group_array = np.logical_or(group_array, rois_dict_59k[key])\n",
    "    # Add the result under the group key\n",
    "    rois_dict_59k_group[group_name] = group_array\n",
    "    \n",
    "# Left hemisphere 59k group\n",
    "rois_dict_59k_group_L = {}\n",
    "for group_name, rois_keys in groups.items():\n",
    "    # Create an array of False for the group\n",
    "    group_array = np.array([False] * len(next(iter(rois_dict_59k_L.values()))))\n",
    "    for key in rois_keys:\n",
    "        if key in rois_dict_59k_L:  # Check for key existence\n",
    "            # Combine arrays with logical OR\n",
    "            group_array = np.logical_or(group_array, rois_dict_59k_L[key])\n",
    "    # Add the result under the group key\n",
    "    rois_dict_59k_group_L[group_name] = group_array\n",
    "\n",
    "# Right hemisphere 59k group \n",
    "rois_dict_59k_group_R = {}\n",
    "for group_name, rois_keys in groups.items():\n",
    "    # Create an array of False for the group\n",
    "    group_array = np.array([False] * len(next(iter(rois_dict_59k_R.values()))))\n",
    "    for key in rois_keys:\n",
    "        if key in rois_dict_59k_R:  # Check for key existence\n",
    "            # Combine arrays with logical OR\n",
    "            group_array = np.logical_or(group_array, rois_dict_59k_R[key])\n",
    "    # Add the result under the group key\n",
    "    rois_dict_59k_group_R[group_name] = group_array\n",
    "    \n",
    "\n",
    "# Brain 170k group\n",
    "rois_dict_170k_group = {}\n",
    "for group_name, rois_keys in groups.items():\n",
    "    # Create an array of False for the group\n",
    "    group_array = np.array([False] * len(next(iter(rois_dict_170k.values()))))\n",
    "    for key in rois_keys:\n",
    "        if key in rois_dict_170k:  # Check for key existence\n",
    "            # Combine arrays with logical OR\n",
    "            group_array = np.logical_or(group_array, rois_dict_170k[key])\n",
    "    # Add the result under the group key\n",
    "    rois_dict_170k_group[group_name] = group_array\n",
    "\n",
    "# Left hemisphere 170k group\n",
    "rois_dict_170k_group_L = {}\n",
    "for group_name, rois_keys in groups.items():\n",
    "    # Create an array of False for the group\n",
    "    group_array = np.array([False] * len(next(iter(rois_dict_170k_L.values()))))\n",
    "    for key in rois_keys:\n",
    "        if key in rois_dict_170k_L:  # Check for key existence\n",
    "            # Combine arrays with logical OR\n",
    "            group_array = np.logical_or(group_array, rois_dict_170k_L[key])\n",
    "    # Add the result under the group key\n",
    "    rois_dict_170k_group_L[group_name] = group_array\n",
    "\n",
    "# Right hemisphere 170k group \n",
    "rois_dict_170k_group_R = {}\n",
    "for group_name, rois_keys in groups.items():\n",
    "    # Create an array of False for the group\n",
    "    group_array = np.array([False] * len(next(iter(rois_dict_170k_R.values()))))\n",
    "    for key in rois_keys:\n",
    "        if key in rois_dict_170k_R:  # Check for key existence\n",
    "            # Combine arrays with logical OR\n",
    "            group_array = np.logical_or(group_array, rois_dict_170k_R[key])\n",
    "    # Add the result under the group key\n",
    "    rois_dict_170k_group_R[group_name] = group_array"
   ]
  },
  {
   "cell_type": "code",
   "execution_count": null,
   "id": "b6708cab-0e7e-4849-b3f6-1764cf263da7",
   "metadata": {
    "tags": []
   },
   "outputs": [],
   "source": [
    "atlas_dir = '{}/{}/analysis_code/atlas'.format(code_dir,project_dir)\n",
    "os.makedirs(atlas_dir, exist_ok=True)\n",
    "\n",
    "# Brain 170k \n",
    "rois_170k_fn = 'mmp_atlas_rois_170k.npz'\n",
    "np.savez('{}/{}'.format(atlas_dir,rois_170k_fn), **rois_dict_170k)\n",
    "\n",
    "# Left hemisphere 170k \n",
    "rois_170k_fn_L = 'mmp_atlas_rois_170k_hemi-L.npz'\n",
    "np.savez('{}/{}'.format(atlas_dir,rois_170k_fn_L), **rois_dict_170k_L)\n",
    "\n",
    "# Right hemisphere 170k \n",
    "rois_170k_fn_R = 'mmp_atlas_rois_170k_hemi-R.npz'\n",
    "np.savez('{}/{}'.format(atlas_dir,rois_170k_fn_R), **rois_dict_170k_R)\n",
    "\n",
    "# Brain 59k \n",
    "rois_59k_fn = 'mmp_atlas_rois_59k.npz'\n",
    "np.savez('{}/{}'.format(atlas_dir,rois_59k_fn), **rois_dict_59k)\n",
    "\n",
    "# Left hemisphere 59k \n",
    "rois_59k_fn_L = 'mmp_atlas_rois_59k_hemi-L.npz'\n",
    "np.savez('{}/{}'.format(atlas_dir,rois_59k_fn_L), **rois_dict_59k_L)\n",
    "\n",
    "# right hemisphere 59k \n",
    "rois_59k_fn_R = 'mmp_atlas_rois_59k_hemi-R.npz'\n",
    "np.savez('{}/{}'.format(atlas_dir,rois_59k_fn_R), **rois_dict_59k_R)\n",
    "\n",
    "# Brain 59k group\n",
    "rois_59k_group_fn = 'mmp_group_atlas_rois_59k.npz'\n",
    "np.savez('{}/{}'.format(atlas_dir,rois_59k_group_fn), **rois_dict_59k_group)\n",
    "\n",
    "# Brain 170k group\n",
    "rois_170k_group_fn = 'mmp_group_atlas_rois_170k.npz'\n",
    "np.savez('{}/{}'.format(atlas_dir,rois_170k_group_fn), **rois_dict_170k_group)\n",
    "\n",
    "# Left hemisphere 170k group \n",
    "rois_170k_group_fn_L = 'mmp_group_atlas_rois_170k_hemi-L.npz'\n",
    "np.savez('{}/{}'.format(atlas_dir,rois_170k_group_fn_L), **rois_dict_170k_group_L)\n",
    "\n",
    "# Right hemisphere 170k group\n",
    "rois_170k_group_fn_R = 'mmp_group_atlas_rois_170k_hemi-R.npz'\n",
    "np.savez('{}/{}'.format(atlas_dir,rois_170k_group_fn_R), **rois_dict_170k_group_R)\n",
    "\n",
    "# left hemisphere 59k group \n",
    "rois_59k_group_fn_L = 'mmp_group_atlas_rois_59k_hemi-L.npz'\n",
    "np.savez('{}/{}'.format(atlas_dir,rois_59k_group_fn_L), **rois_dict_59k_group_L)\n",
    "\n",
    "# Right hemisphere 59k group \n",
    "rois_59k_group_fn_R = 'mmp_group_atlas_rois_59k_hemi-R.npz'\n",
    "np.savez('{}/{}'.format(atlas_dir,rois_59k_group_fn_R), **rois_dict_59k_group_R)"
   ]
  },
  {
   "cell_type": "code",
   "execution_count": null,
   "id": "e56c06bb",
   "metadata": {},
   "outputs": [],
   "source": [
    "# Make verification with replot areas \n",
    "roi_name = 'V1'\n",
    "pycortex_subject = 'sub-170k'\n",
    "roi_data = np.array((rois_dict_170k_L[roi_name] == True).astype(np.int32)).reshape((1, rois_dict_170k_L[roi_name].shape[0]))\n",
    "\n",
    "results = from_170k_to_59k(img=img_170k, data=roi_data, return_concat_hemis=True, return_59k_mask=False)\n",
    "roi_data_59k = results['data_concat']\n",
    "\n",
    "vertex_data = cortex.Vertex(roi_data_59k[0,:], pycortex_subject, cmap='BROYG', vmin=0, vmax=1)\n",
    "cortex.quickshow(vertex_data, with_colorbar=False)\n",
    "plt.title('{}'.format(roi_name),fontsize=25)\n",
    "plt.show()"
   ]
  },
  {
   "cell_type": "code",
   "execution_count": null,
   "id": "4a94cd42-4b69-4721-aaa7-2ed8be6e4f11",
   "metadata": {},
   "outputs": [],
   "source": [
    "# Make verification with replot areas \n",
    "roi_name = 'sPCS'\n",
    "pycortex_subject = 'sub-170k'\n",
    "roi_data = np.array((rois_dict_170k_group_R[roi_name] == True).astype(np.int32)).reshape((1, rois_dict_170k_group_R[roi_name].shape[0]))\n",
    "\n",
    "results = from_170k_to_59k(img=img_170k, data=roi_data, return_concat_hemis=True, return_59k_mask=False)\n",
    "roi_data_59k = results['data_concat']\n",
    "\n",
    "vertex_data = cortex.Vertex(roi_data_59k[0,:], pycortex_subject, cmap='BROYG', vmin=0, vmax=1)\n",
    "cortex.quickshow(vertex_data, with_colorbar=False)\n",
    "plt.title('{}'.format(roi_name),fontsize=25)\n",
    "plt.show()"
   ]
  }
 ],
 "metadata": {
  "kernelspec": {
   "display_name": "prf_env",
   "language": "python",
   "name": "prf_env"
  },
  "language_info": {
   "codemirror_mode": {
    "name": "ipython",
    "version": 3
   },
   "file_extension": ".py",
   "mimetype": "text/x-python",
   "name": "python",
   "nbconvert_exporter": "python",
   "pygments_lexer": "ipython3",
   "version": "3.11.7"
  }
 },
 "nbformat": 4,
 "nbformat_minor": 5
}
