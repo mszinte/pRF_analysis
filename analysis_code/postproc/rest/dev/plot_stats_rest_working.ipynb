{
 "cells": [
  {
   "cell_type": "code",
   "execution_count": 1,
   "id": "5bf161f4-d8f7-4449-8f15-07cef34f0f3f",
   "metadata": {
    "tags": []
   },
   "outputs": [],
   "source": [
    "# Stop warnings\n",
    "import warnings\n",
    "warnings.filterwarnings(\"ignore\")\n",
    "\n",
    "# Imports\n",
    "import os\n",
    "import sys\n",
    "import cortex\n",
    "import numpy as np\n",
    "\n",
    "# Personal imports\n",
    "sys.path.append(\"{}/../../../utils\".format(os.getcwd()))\n",
    "from pycortex_utils import draw_cortex, set_pycortex_config_file, load_surface_pycortex, create_colormap, get_rois\n",
    "from surface_utils import load_surface"
   ]
  },
  {
   "cell_type": "code",
   "execution_count": 2,
   "id": "c6825993-952d-4236-a7a0-0e717ef579e1",
   "metadata": {
    "tags": []
   },
   "outputs": [],
   "source": [
    "# Directories\n",
    "main_dir = '/home/mszinte/disks/meso_S/data'\n",
    "project_dir = 'RetinoMaps'"
   ]
  },
  {
   "cell_type": "code",
   "execution_count": 3,
   "id": "c3a8230a-cb52-435e-aca3-84c3c10462ad",
   "metadata": {
    "tags": []
   },
   "outputs": [],
   "source": [
    "# Set pycortex db and colormaps\n",
    "cortex_dir = \"{}/{}/derivatives/pp_data/cortex\".format(main_dir, project_dir)\n",
    "set_pycortex_config_file(cortex_dir)\n",
    "\n",
    "# Webgl port\n",
    "port_num = 25000"
   ]
  },
  {
   "cell_type": "markdown",
   "id": "0e1ac206-2828-4dac-b5b8-c2df29b5eb80",
   "metadata": {},
   "source": [
    "# Load data"
   ]
  },
  {
   "cell_type": "code",
   "execution_count": 4,
   "id": "af45996e-9599-4f4a-87a3-c98612c4e0f4",
   "metadata": {
    "tags": []
   },
   "outputs": [],
   "source": [
    "# Settings \n",
    "subject = 'sub-01'"
   ]
  },
  {
   "cell_type": "code",
   "execution_count": 5,
   "id": "4d8e4d47-371b-469f-8062-11532c2d806e",
   "metadata": {
    "tags": []
   },
   "outputs": [],
   "source": [
    "# Directories\n",
    "data_L_fn = '{}_ses-01_task-rest_space-fsLR_den-170k_desc-full_corr_fisher-z_fdr_alpha1_L.shape.gii'.format(subject)\n",
    "data_R_fn = '{}_ses-01_task-rest_space-fsLR_den-170k_desc-full_corr_fisher-z_fdr_alpha1_R.shape.gii'.format(subject)\n"
   ]
  },
  {
   "cell_type": "code",
   "execution_count": 6,
   "id": "09589608-abe4-4595-9aae-9af43f611add",
   "metadata": {
    "tags": []
   },
   "outputs": [],
   "source": [
    "# Load data\n",
    "img_L, data_L = load_surface(fn=data_L_fn)\n",
    "img_R, data_R = load_surface(fn=data_L_fn)"
   ]
  },
  {
   "cell_type": "code",
   "execution_count": 7,
   "id": "96c3b536-35ab-4ff4-83e2-131f737a5e30",
   "metadata": {
    "tags": []
   },
   "outputs": [],
   "source": [
    "# concat data \n"
   ]
  },
  {
   "cell_type": "markdown",
   "id": "194fc4c3-da99-4df5-b334-4c44b4d55ee5",
   "metadata": {},
   "source": [
    "# Plot data "
   ]
  },
  {
   "cell_type": "code",
   "execution_count": 8,
   "id": "dfb9e515-d3c2-4903-a738-31e3d0519fd0",
   "metadata": {
    "tags": []
   },
   "outputs": [],
   "source": [
    "pycortex_subject = 'sub-170k'\n",
    "data_brain = np.concatenate([data_L, data_R], axis=1)\n",
    "index2plot = 0\n",
    "data2plot = data_brain[index2plot, :]\n",
    "colormap_name = 'BuWtRd' \n",
    "save_svg = False\n",
    "vmin = -0.4\n",
    "vmax = 0.4\n",
    "alpha_range = [0, 0.4]\n",
    "alpha_data = np.abs(data_brain[index2plot, :])\n",
    "alpha = alpha_data\n",
    "alpha = (alpha - alpha_range[0]) / (alpha_range[1] - alpha_range[0])\n",
    "alpha[alpha>1]=1\n",
    "roi_name = 'XXX'"
   ]
  },
  {
   "cell_type": "code",
   "execution_count": 9,
   "id": "2da4e7eb-a311-44bf-abfc-e0c7256d67ea",
   "metadata": {
    "tags": []
   },
   "outputs": [
    {
     "ename": "ModuleNotFoundError",
     "evalue": "No module named 'ipdb'",
     "output_type": "error",
     "traceback": [
      "\u001b[0;31m---------------------------------------------------------------------------\u001b[0m",
      "\u001b[0;31mModuleNotFoundError\u001b[0m                       Traceback (most recent call last)",
      "Cell \u001b[0;32mIn[9], line 17\u001b[0m\n\u001b[1;32m      1\u001b[0m param_rois \u001b[38;5;241m=\u001b[39m {\u001b[38;5;124m'\u001b[39m\u001b[38;5;124msubject\u001b[39m\u001b[38;5;124m'\u001b[39m: pycortex_subject,\n\u001b[1;32m      2\u001b[0m               \u001b[38;5;124m'\u001b[39m\u001b[38;5;124mdata\u001b[39m\u001b[38;5;124m'\u001b[39m: data2plot,\n\u001b[1;32m      3\u001b[0m               \u001b[38;5;124m'\u001b[39m\u001b[38;5;124mcmap\u001b[39m\u001b[38;5;124m'\u001b[39m: colormap_name,\n\u001b[0;32m   (...)\u001b[0m\n\u001b[1;32m     14\u001b[0m               \u001b[38;5;124m'\u001b[39m\u001b[38;5;124mwith_labels\u001b[39m\u001b[38;5;124m'\u001b[39m: \u001b[38;5;28;01mFalse\u001b[39;00m,\n\u001b[1;32m     15\u001b[0m               \u001b[38;5;124m'\u001b[39m\u001b[38;5;124mroi_name\u001b[39m\u001b[38;5;124m'\u001b[39m: roi_name}\n\u001b[0;32m---> 17\u001b[0m volume_roi \u001b[38;5;241m=\u001b[39m draw_cortex(\u001b[38;5;241m*\u001b[39m\u001b[38;5;241m*\u001b[39mparam_rois)\n",
      "File \u001b[0;32m~/GitHub_projects/pRF_analysis/analysis_code/postproc/rest/dev/../../../utils/pycortex_utils.py:539\u001b[0m, in \u001b[0;36mdraw_cortex\u001b[0;34m(subject, data, vmin, vmax, description, cortex_type, cmap, cbar, cmap_dict, cmap_steps, xfmname, alpha, depth, thick, height, sampler, with_curvature, with_labels, with_colorbar, with_borders, curv_brightness, curv_contrast, add_roi, roi_name, col_offset, zoom_roi, zoom_hem, zoom_margin, cbar_label)\u001b[0m\n\u001b[1;32m    537\u001b[0m \u001b[38;5;28;01mfrom\u001b[39;00m\u001b[38;5;250m \u001b[39m\u001b[38;5;21;01mmatplotlib\u001b[39;00m\u001b[38;5;250m \u001b[39m\u001b[38;5;28;01mimport\u001b[39;00m cm\n\u001b[1;32m    538\u001b[0m \u001b[38;5;28;01mimport\u001b[39;00m\u001b[38;5;250m \u001b[39m\u001b[38;5;21;01mmatplotlib\u001b[39;00m\u001b[38;5;250m \u001b[39m\u001b[38;5;28;01mas\u001b[39;00m\u001b[38;5;250m \u001b[39m\u001b[38;5;21;01mmpl\u001b[39;00m\n\u001b[0;32m--> 539\u001b[0m \u001b[38;5;28;01mimport\u001b[39;00m\u001b[38;5;250m \u001b[39m\u001b[38;5;21;01mipdb\u001b[39;00m\n\u001b[1;32m    541\u001b[0m deb \u001b[38;5;241m=\u001b[39m ipdb\u001b[38;5;241m.\u001b[39mset_trace\n\u001b[1;32m    543\u001b[0m \u001b[38;5;66;03m# define colormap\u001b[39;00m\n",
      "\u001b[0;31mModuleNotFoundError\u001b[0m: No module named 'ipdb'"
     ]
    }
   ],
   "source": [
    "param_rois = {'subject': pycortex_subject,\n",
    "              'data': data2plot,\n",
    "              'cmap': colormap_name,\n",
    "              'alpha': alpha,\n",
    "              'cbar': 'discrete', \n",
    "              'vmin': vmin,\n",
    "              'vmax': vmax,\n",
    "              'cmap_steps': 50,\n",
    "              'cortex_type': 'VertexRGB',\n",
    "              'description': 'NAME',\n",
    "              'curv_brightness': 1, \n",
    "              'curv_contrast': 0.25,\n",
    "              'add_roi': save_svg,\n",
    "              'with_labels': False,\n",
    "              'roi_name': roi_name}\n",
    "\n",
    "volume_roi = draw_cortex(**param_rois)\n",
    "\n",
    "# fig_dir = '/Users/uriel/Downloads'\n",
    "# plt.savefig('{}/FIG_name.pdf'.format(fig_dir))"
   ]
  },
  {
   "cell_type": "markdown",
   "id": "b2c09d63-f5ea-404c-9268-d4243cc7f80a",
   "metadata": {},
   "source": [
    "# WebGL"
   ]
  },
  {
   "cell_type": "code",
   "execution_count": 31,
   "id": "1d71da8d-2e47-44b1-8eb4-5eae745f925a",
   "metadata": {
    "tags": []
   },
   "outputs": [
    {
     "name": "stdout",
     "output_type": "stream",
     "text": [
      "Go to (in 5 s...): http://localhost:25004/\n",
      "Generating new ctm file...\n",
      "wm\n",
      "wm\n",
      "inflated\n",
      "inflated\n",
      "Started server on port 25004\n",
      "Stopping server\n",
      "Stopping server\n",
      "Stopping server\n"
     ]
    }
   ],
   "source": [
    "port_num = port_num + 1\n",
    "\n",
    "# Remome overlays_visible=('sulci','roi'), to have borders \n",
    "print(\"Go to (in 5 s...): http://localhost:{}/\".format(port_num))\n",
    "handle = cortex.webgl.show(data=volume_roi,\n",
    "                           recache=True,\n",
    "                           port=port_num,\n",
    "                           overlays_visible=('rois', 'sulci'), # Border to plots possible value 'roi', 'sulcis'\n",
    "                           labels_visible=() # Labels to plot, possible value'roi', 'sulcis'\n",
    "                          )"
   ]
  },
  {
   "cell_type": "code",
   "execution_count": 29,
   "id": "44f74e22-5d51-4b80-bfbe-d3bc573d2c8f",
   "metadata": {
    "tags": []
   },
   "outputs": [],
   "source": [
    "# Set view\n",
    "inflated_general = {'camera.azimuth':241,\n",
    "                    'camera.altitude':60,\n",
    "                    'camera.radius':430,\n",
    "                    'surface.{subject}.unfold':0,\n",
    "                    'surface.{subject}.pivot':46,\n",
    "                    'surface.{subject}.left':True,\n",
    "                    'surface.{subject}.right':True,\n",
    "                    'surface.{subject}.depth':0.5,\n",
    "                    'surface.{subject}.specularity':0,\n",
    "                    'surface.{subject}.layers':4,\n",
    "                    'surface.{subject}.dither':False,\n",
    "                    'surface.{subject}.colorbar':False,\n",
    "                    'surface.{subject}.sampler':'nearest',\n",
    "                    'surface.{subject}.curvature.brightness':0.25,\n",
    "                    'surface.{subject}.curvature.contrast':0.25,\n",
    "                    'surface.{subject}.curvature.smoothness':1}\n",
    "handle._set_view(**inflated_general)\n",
    "\n",
    "# save view\n",
    "im1 = handle.getImage('{}/name.png'.format(fig_dir),size = (3000, 3000))"
   ]
  },
  {
   "cell_type": "code",
   "execution_count": null,
   "id": "984d1e67-68c6-47c3-850c-d4693bbbf954",
   "metadata": {},
   "outputs": [],
   "source": []
  }
 ],
 "metadata": {
  "kernelspec": {
   "display_name": "Python 3 (ipykernel)",
   "language": "python",
   "name": "python3"
  },
  "language_info": {
   "codemirror_mode": {
    "name": "ipython",
    "version": 3
   },
   "file_extension": ".py",
   "mimetype": "text/x-python",
   "name": "python",
   "nbconvert_exporter": "python",
   "pygments_lexer": "ipython3",
   "version": "3.12.2"
  }
 },
 "nbformat": 4,
 "nbformat_minor": 5
}
