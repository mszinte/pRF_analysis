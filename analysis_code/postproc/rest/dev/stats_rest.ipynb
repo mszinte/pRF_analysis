{
 "cells": [
  {
   "cell_type": "markdown",
   "id": "fd8b9911-db9e-4c19-aaca-5b0dfceddb6a",
   "metadata": {},
   "source": [
    "# Todo\n",
    "- [x] take care of loading utils in right fodler (chatgpt)\n",
    "- [ ] check for better way to only take cortex from cifti file\n",
    "- [ ] write in readme of RetinoMaps how you generate the files of mask and put the code in github\n",
    "- [x] get code for loading 91k\n",
    "- [x] load single subject 91k resample GLM inter-task output\n",
    "- [x] load single concatenated 91k resting state (xcpd output)\n",
    "- [x] load 91k atlas to mask concatenated 91k resting state per macro-region seed (use leaveout -to avoid seed autocorrelation)\n",
    "- [x] target: mask resting state with leaveout macro-region seed\n",
    "- [x] seed: create 12 seed regions masked resting state timeseries\n",
    "- [ ] correlate and get slope/r/stder\n",
    "- [ ] correct for multiple test for significance\n",
    "- [ ] median avg significant seed/target vertices to end with 12 maps for 12 seeds of only significant correlations\n",
    "- [ ] plot 12 flatmaps for 12 seeds\n",
    "- [ ] make winner take all plot"
   ]
  },
  {
   "cell_type": "markdown",
   "id": "bc64f1ff-79fd-4cb0-bdbd-51aedbee8a87",
   "metadata": {},
   "source": [
    "# Reference code\n",
    "- load surface files utils\n",
    "  - https://github.com/mszinte/pRF_analysis/blob/main/analysis_code/utils/surface_utils.py\n",
    "    - loading: `load_surface`\n",
    "    - saving: `make_surface_image`\n",
    "- stats line codes :\n",
    "  - usage: https://github.com/mszinte/pRF_analysis/blob/main/analysis_code/postproc/prf/postfit/compute_css_stats.py\n",
    "  - utils: https://github.com/mszinte/pRF_analysis/blob/main/analysis_code/utils/maths_utils.py\n",
    "  - correlation: `linear_regression_surf`\n",
    "- drawing codes|\n",
    "  - move back to 170k\n",
    "  - or create 91k pycortex subject and utils\n",
    "  - or use workbench"
   ]
  },
  {
   "cell_type": "code",
   "execution_count": 1,
   "id": "fb1988d8-4eb8-487e-83d5-a1767a1a7b0d",
   "metadata": {},
   "outputs": [],
   "source": [
    "# Load individual subject 91k resample GLM inter-task output\n",
    "import json\n",
    "import numpy as np\n",
    "import os, sys\n",
    "\n",
    "sys.path.append(os.path.abspath('/home/mszinte/disks/meso_H/projects/pRF_analysis/analysis_code/utils/'))\n",
    "from surface_utils import load_surface, make_surface_image\n",
    "from maths_utils import linear_regression_surf"
   ]
  },
  {
   "cell_type": "code",
   "execution_count": 2,
   "id": "8eb1bfd5-ec60-431e-9ee9-2314f1a49ca3",
   "metadata": {},
   "outputs": [],
   "source": [
    "# Define settings\n",
    "settings_filepath = '/home/mszinte/disks/meso_H/projects/pRF_analysis/RetinoMaps/settings.json'\n",
    "with open(settings_filepath, 'r') as file:\n",
    "    settings = json.load(file)\n",
    "\n",
    "subjects = settings['subjects']\n",
    "subject = subjects[0]\n",
    "task_names = settings['task_names']\n",
    "task_name = task_names[0]\n",
    "rois = settings['rois']\n",
    "fdr_alpha = settings['fdr_alpha']\n",
    "\n",
    "# Define finename\n",
    "main_data = '/home/mszinte/disks/meso_S/data'\n",
    "project = settings['project_name']\n",
    "seed_folder = 'derivatives/pp_data'\n",
    "atlas_folder = '/home/mszinte/disks/meso_H/projects/pRF_analysis/analysis_code/atlas/macro_regions'"
   ]
  },
  {
   "cell_type": "code",
   "execution_count": 3,
   "id": "d13a0aa2-b16f-4375-903e-eb5e6a7aa432",
   "metadata": {},
   "outputs": [
    {
     "name": "stdout",
     "output_type": "stream",
     "text": [
      "Timeseries data shape: (996, 64984)\n"
     ]
    }
   ],
   "source": [
    "# Load resting-state dense timeseries\n",
    "timeseries_fn = f'{main_data}/{project}/{seed_folder}/{subject}/91k/{task_name}/timeseries/{subject}_ses-01_task-{task_name}_space-fsLR_den-91k_desc-denoised_bold.dtseries.nii'\n",
    "timeseries_img, timeseries_data = load_surface(timeseries_fn)\n",
    "timeseries_data = timeseries_data[:, 0:64984]\n",
    "print(f'Timeseries data shape: {timeseries_data.shape}')"
   ]
  },
  {
   "cell_type": "code",
   "execution_count": 4,
   "id": "f6525e3f-5d64-4f31-9aa6-815bdcc598fb",
   "metadata": {},
   "outputs": [
    {
     "name": "stdout",
     "output_type": "stream",
     "text": [
      "Seed mask data shape: (12, 64984)\n"
     ]
    }
   ],
   "source": [
    "# Load seed mask file as array (12,64984) from V1 to mPCS\n",
    "for roi_num, roi in enumerate(rois):\n",
    "    seed_mask_lh_fn = f'{main_data}/{project}/{seed_folder}/{subject}/91k/{task_name}/seed/{subject}_91k_intertask_Sac_Pur_vision-pursuit-saccade_lh_{roi}.shape.gii'\n",
    "    seed_mask_lh_img, seed_mask_lh_data = load_surface(seed_mask_lh_fn)\n",
    "    seed_mask_rh_fn = f'{main_data}/{project}/{seed_folder}/{subject}/91k/{task_name}/seed/{subject}_91k_intertask_Sac_Pur_vision-pursuit-saccade_rh_{roi}.shape.gii'\n",
    "    seed_mask_rh_img, seed_mask_rh_data = load_surface(seed_mask_rh_fn)\n",
    "\n",
    "    roi_seed_mask_data = np.hstack((seed_mask_lh_data, seed_mask_rh_data))\n",
    "\n",
    "    if roi_num == 0:\n",
    "        seed_mask_data = roi_seed_mask_data\n",
    "    else:\n",
    "        seed_mask_data = np.vstack((seed_mask_data, roi_seed_mask_data))\n",
    "\n",
    "print(f'Seed mask data shape: {seed_mask_data.shape}')"
   ]
  },
  {
   "cell_type": "code",
   "execution_count": 5,
   "id": "076c49a6-4b3c-43a6-be3c-19def6cb9acb",
   "metadata": {},
   "outputs": [
    {
     "name": "stdout",
     "output_type": "stream",
     "text": [
      "Leave-out target mask data shape: (12, 64984)\n"
     ]
    }
   ],
   "source": [
    "# Load leaveout macro-region target masks as array (12,64984) from V1 to mPCS\n",
    "for roi_num, roi in enumerate(rois):\n",
    "    leaveout_target_mask_lh_fn = f'{atlas_folder}/atlas-Glasser_space-fsLR_den-32k_filtered_ROIs_discarded_lh_{roi}.shape.gii'\n",
    "    leaveout_target_mask_lh_img, leaveout_target_mask_lh_data = load_surface(leaveout_target_mask_lh_fn)\n",
    "    leaveout_target_mask_rh_fn = f'{atlas_folder}/atlas-Glasser_space-fsLR_den-32k_filtered_ROIs_discarded_rh_{roi}.shape.gii'\n",
    "    leaveout_target_mask_rh_img, leaveout_target_mask_rh_data = load_surface(leaveout_target_mask_rh_fn)\n",
    "\n",
    "    roi_leaveout_target_mask_data = np.hstack((leaveout_target_mask_lh_data, leaveout_target_mask_rh_data))\n",
    "\n",
    "    if roi_num == 0:\n",
    "        leaveout_target_mask_data = roi_leaveout_target_mask_data\n",
    "    else:\n",
    "        leaveout_target_mask_data = np.vstack((leaveout_target_mask_data, roi_leaveout_target_mask_data))\n",
    "\n",
    "print(f'Leave-out target mask data shape: {leaveout_target_mask_data.shape}')"
   ]
  },
  {
   "cell_type": "code",
   "execution_count": 11,
   "id": "45fda6f8-1aea-4b7a-8ae4-512180a5ce99",
   "metadata": {},
   "outputs": [
    {
     "name": "stdout",
     "output_type": "stream",
     "text": [
      "V1 Seed timeseries: (996, 993)\n",
      "V1 Target timeseries: (996, 1618)\n"
     ]
    },
    {
     "ename": "NameError",
     "evalue": "name 'fff' is not defined",
     "output_type": "error",
     "traceback": [
      "\u001b[0;31m---------------------------------------------------------------------------\u001b[0m",
      "\u001b[0;31mNameError\u001b[0m                                 Traceback (most recent call last)",
      "Cell \u001b[0;32mIn[11], line 18\u001b[0m\n\u001b[1;32m     13\u001b[0m     seed_column_repeated \u001b[38;5;241m=\u001b[39m np\u001b[38;5;241m.\u001b[39mtile(seed_column_data[:, np\u001b[38;5;241m.\u001b[39mnewaxis], (\u001b[38;5;241m1\u001b[39m, target_data\u001b[38;5;241m.\u001b[39mshape[\u001b[38;5;241m1\u001b[39m]))\n\u001b[1;32m     14\u001b[0m     results \u001b[38;5;241m=\u001b[39m linear_regression_surf(bold_signal\u001b[38;5;241m=\u001b[39mtarget_data,\n\u001b[1;32m     15\u001b[0m                                      model_prediction\u001b[38;5;241m=\u001b[39mseed_column_repeated, \n\u001b[1;32m     16\u001b[0m                                      correction\u001b[38;5;241m=\u001b[39m\u001b[38;5;124m'\u001b[39m\u001b[38;5;124mfdr_tsbh\u001b[39m\u001b[38;5;124m'\u001b[39m, \n\u001b[1;32m     17\u001b[0m                                      alpha\u001b[38;5;241m=\u001b[39mfdr_alpha)\n\u001b[0;32m---> 18\u001b[0m     \u001b[43mfff\u001b[49m\n\u001b[1;32m     25\u001b[0m \u001b[38;5;66;03m# \u001b[39;00m\n\u001b[1;32m     26\u001b[0m \n\u001b[1;32m     27\u001b[0m \u001b[38;5;66;03m# Save results\u001b[39;00m\n\u001b[0;32m   (...)\u001b[0m\n\u001b[1;32m     33\u001b[0m \u001b[38;5;66;03m#                                       maps_names=maps_names)\u001b[39;00m\n\u001b[1;32m     34\u001b[0m \u001b[38;5;66;03m# print('Saving: {}/{}'.format(prf_deriv_dir, stat_prf_loo_fn))\u001b[39;00m\n",
      "\u001b[0;31mNameError\u001b[0m: name 'fff' is not defined"
     ]
    }
   ],
   "source": [
    "# Correlation\n",
    "for roi_num, roi in enumerate(rois):\n",
    "\n",
    "    # solve problem with target data being too few vertices for some reason\n",
    "    seed_data = timeseries_data[:, seed_mask_data[roi_num,:].astype(bool)]\n",
    "    target_data = timeseries_data[:, leaveout_target_mask_data[roi_num,:].astype(bool)]\n",
    "\n",
    "    print(f'{roi} Seed timeseries: {seed_data.shape}')\n",
    "    print(f'{roi} Target timeseries: {target_data.shape}')\n",
    "\n",
    "    for seed_col in range(seed_data.shape[1]):\n",
    "        seed_column_data = seed_data[:, seed_col]\n",
    "        seed_column_repeated = np.tile(seed_column_data[:, np.newaxis], (1, target_data.shape[1]))\n",
    "        results = linear_regression_surf(bold_signal=target_data,\n",
    "                                         model_prediction=seed_column_repeated, \n",
    "                                         correction='fdr_tsbh', \n",
    "                                         alpha=fdr_alpha)\n",
    "        results.shape\n",
    "    \n",
    "    # Save results\n",
    "    # prf_deriv_dir = \"{}/{}/{}/prf/prf_derivatives\".format(\n",
    "    #     pp_dir, subject, format_)\n",
    "    # stat_prf_loo_fn = prf_pred_loo_fn.split('/')[-1].replace('pred_css', 'stats')\n",
    "    # stat_prf_loo_img = make_surface_image(data=results, \n",
    "    #                                       source_img=bold_img, \n",
    "    #                                       maps_names=maps_names)\n",
    "    # print('Saving: {}/{}'.format(prf_deriv_dir, stat_prf_loo_fn))\n",
    "\n",
    "\n",
    "    "
   ]
  },
  {
   "cell_type": "code",
   "execution_count": 13,
   "id": "90869fc1-103c-416e-ac81-76b9dd2302ef",
   "metadata": {},
   "outputs": [
    {
     "data": {
      "text/plain": [
       "(8, 1618)"
      ]
     },
     "execution_count": 13,
     "metadata": {},
     "output_type": "execute_result"
    }
   ],
   "source": []
  },
  {
   "cell_type": "code",
   "execution_count": null,
   "id": "9861ea72-438a-4d31-a739-f7b99a5b2b30",
   "metadata": {},
   "outputs": [],
   "source": [
    "a, b = np.unique(leaveout_target_mask_data[0,:],return_counts=True)\n",
    "print(a)\n",
    "print(b)\n",
    "print(c)"
   ]
  },
  {
   "cell_type": "code",
   "execution_count": null,
   "id": "254e5f5f-114a-48a7-bfa5-168b786bc53f",
   "metadata": {},
   "outputs": [],
   "source": [
    "import numpy as np\n",
    "\n",
    "# Assuming seed_data and target_data are your input arrays\n",
    "# seed_data shape: (996, 993)\n",
    "# target_data shape: (996, 1618)\n",
    "\n",
    "# Initialize an empty list to store the correlation results\n",
    "correlation_results = []\n",
    "\n",
    "# Iterate over each column in seed_data\n",
    "for seed_col in range(seed_data.shape[1]):  # 993 columns\n",
    "    # Extract the current column from seed_data\n",
    "    seed_column_data = seed_data[:, seed_col]  # Shape: (996,)\n",
    "    \n",
    "    # Create a new array that matches the shape of target_data\n",
    "    # Repeat the seed_column_data to match the number of rows in target_data\n",
    "    seed_column_repeated = np.tile(seed_column_data[:, np.newaxis], (1, target_data.shape[1]))  # Shape: (996, 1618)\n",
    "    \n",
    "    # Now you can call your correlation function with the repeated seed column and target_data\n",
    "    correlation = linear_regression_surf(seed_column_repeated, target_data)  # Assuming this function returns the correlation\n",
    "    \n",
    "    # Append the correlation result for the current seed column\n",
    "    correlation_results.append(correlation)\n",
    "\n",
    "# Convert the results to a NumPy array for further processing\n",
    "correlation_results_array = np.array(correlation_results)  # Shape: (993, 1618)\n",
    "\n",
    "# Now you can use correlation_results_array as needed\n"
   ]
  }
 ],
 "metadata": {
  "kernelspec": {
   "display_name": "mszinte",
   "language": "python",
   "name": "mszinte"
  },
  "language_info": {
   "codemirror_mode": {
    "name": "ipython",
    "version": 3
   },
   "file_extension": ".py",
   "mimetype": "text/x-python",
   "name": "python",
   "nbconvert_exporter": "python",
   "pygments_lexer": "ipython3",
   "version": "3.11.9"
  }
 },
 "nbformat": 4,
 "nbformat_minor": 5
}
