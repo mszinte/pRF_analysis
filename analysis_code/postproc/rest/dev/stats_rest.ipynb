{
 "cells": [
  {
   "cell_type": "markdown",
   "id": "fd8b9911-db9e-4c19-aaca-5b0dfceddb6a",
   "metadata": {},
   "source": [
    "# Todo\n",
    "- [ ] get code for loading 91k\n",
    "- [ ] load single subject 91k resample GLM inter-task output\n",
    "- [ ] load single concatenated 91k resting state (xcpd output)\n",
    "- [ ] load 91k atlas to mask concatenated 91k resting state\n",
    "- [ ] target: mask resting state by atlas (macro-regions)\n",
    "- [ ] seed: create 12 seed regions masked resting state timeseries\n",
    "- [ ] correlate and get slope/r/stder\n",
    "- [ ] correct for multiple test for significance\n",
    "- [ ] median avg significant seed/target vertices to end with 12 maps for 12 seeds of only significant correlations\n",
    "- [ ] plot 12 flatmaps for 12 seeds\n",
    "- [ ] make winner take all plot"
   ]
  },
  {
   "cell_type": "markdown",
   "id": "bc64f1ff-79fd-4cb0-bdbd-51aedbee8a87",
   "metadata": {},
   "source": [
    "# reference code\n",
    "- load surface files utils\n",
    "  - https://github.com/mszinte/pRF_analysis/blob/main/analysis_code/utils/surface_utils.py\n",
    "    - loading: load_surface\n",
    "    - saving: make_surface_image\n",
    "- stats line codes :\n",
    "  - usage: https://github.com/mszinte/pRF_analysis/blob/main/analysis_code/postproc/prf/postfit/compute_css_stats.py\n",
    "  - utils: https://github.com/mszinte/pRF_analysis/blob/main/analysis_code/utils/maths_utils.py\n",
    "  - correlation: linear_regression_surf\n",
    "- drawing codes|\n",
    "  - move back to 170k\n",
    "  - or create 91k pycortex subject and utils\n",
    "  - or use workbench"
   ]
  },
  {
   "cell_type": "code",
   "execution_count": null,
   "id": "3b0ade5a-df6b-4215-8813-24e8fc30f69e",
   "metadata": {},
   "outputs": [],
   "source": []
  }
 ],
 "metadata": {
  "kernelspec": {
   "display_name": "Python 3 (ipykernel)",
   "language": "python",
   "name": "python3"
  },
  "language_info": {
   "codemirror_mode": {
    "name": "ipython",
    "version": 3
   },
   "file_extension": ".py",
   "mimetype": "text/x-python",
   "name": "python",
   "nbconvert_exporter": "python",
   "pygments_lexer": "ipython3",
   "version": "3.9.2"
  }
 },
 "nbformat": 4,
 "nbformat_minor": 5
}
