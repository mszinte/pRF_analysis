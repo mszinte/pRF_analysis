{
 "cells": [
  {
   "cell_type": "markdown",
   "id": "fd8b9911-db9e-4c19-aaca-5b0dfceddb6a",
   "metadata": {},
   "source": [
    "# Todo\n",
    "- [x] take care of loading utils in right fodler (chatgpt)\n",
    "- [ ] write in readme of RetinoMaps how you generate the files of mask and put the code in github\n",
    "- [x] get code for loading 91k\n",
    "- [x] load single subject 91k resample GLM inter-task output\n",
    "- [x] load single concatenated 91k resting state (xcpd output)\n",
    "- [x] load 91k atlas to mask concatenated 91k resting state per macro-region seed (use leaveout -to avoid seed autocorrelation)\n",
    "- [x] target: mask resting state with leaveout macro-region seed\n",
    "- [x] seed: create 12 seed regions masked resting state timeseries\n",
    "- [x] correlate and get slope/r/stder\n",
    "- [x] correct for multiple test for significance\n",
    "- [x] zfisher value and stats\n",
    "- [ ] median avg significant seed/target vertices to end with 12 maps for 12 seeds of only significant correlations\n",
    "- [ ] plot 12 flatmaps for 12 seeds\n",
    "- [ ] make winner take all plot"
   ]
  },
  {
   "cell_type": "markdown",
   "id": "bc64f1ff-79fd-4cb0-bdbd-51aedbee8a87",
   "metadata": {},
   "source": [
    "# Reference code\n",
    "- load surface files utils\n",
    "  - https://github.com/mszinte/pRF_analysis/blob/main/analysis_code/utils/surface_utils.py\n",
    "    - loading: `load_surface`\n",
    "    - saving: `make_surface_image`\n",
    "- stats line codes :\n",
    "  - usage: https://github.com/mszinte/pRF_analysis/blob/main/analysis_code/postproc/prf/postfit/compute_css_stats.py\n",
    "  - utils: https://github.com/mszinte/pRF_analysis/blob/main/analysis_code/utils/maths_utils.py\n",
    "  - correlation: `linear_regression_surf`\n",
    "- drawing codes|\n",
    "  - move back to 170k\n",
    "  - or create 91k pycortex subject and utils\n",
    "  - or use workbench"
   ]
  },
  {
   "cell_type": "code",
   "execution_count": 1,
   "id": "9d4612f5-833e-40fa-bad2-06040c622ef8",
   "metadata": {},
   "outputs": [],
   "source": [
    "# Define main folders\n",
    "main_data = '/home/mszinte/disks/meso_S/data'\n",
    "main_codes = '/home/mszinte/disks/meso_H/projects'"
   ]
  },
  {
   "cell_type": "code",
   "execution_count": 2,
   "id": "fb1988d8-4eb8-487e-83d5-a1767a1a7b0d",
   "metadata": {},
   "outputs": [],
   "source": [
    "# Load individual subject 91k resample GLM inter-task output\n",
    "import json\n",
    "import numpy as np\n",
    "import os, sys\n",
    "\n",
    "sys.path.append(os.path.abspath(f'{main_codes}/pRF_analysis/analysis_code/utils/'))\n",
    "from surface_utils import load_surface, make_surface_image\n",
    "from maths_utils import linear_regression_surf"
   ]
  },
  {
   "cell_type": "code",
   "execution_count": 23,
   "id": "8eb1bfd5-ec60-431e-9ee9-2314f1a49ca3",
   "metadata": {},
   "outputs": [],
   "source": [
    "# Define settings\n",
    "settings_filepath = f'{main_codes}/pRF_analysis/RetinoMaps/settings.json'\n",
    "with open(settings_filepath, 'r') as file:\n",
    "    settings = json.load(file)\n",
    "\n",
    "subjects = settings['subjects']\n",
    "subject = subjects[0]\n",
    "task_names = settings['task_names']\n",
    "task_name = task_names[0]\n",
    "rois = settings['rois']\n",
    "fdr_alpha = settings['fdr_alpha']\n",
    "\n",
    "# Define finename\n",
    "project = settings['project_name']\n",
    "seed_folder = 'derivatives/pp_data'\n",
    "atlas_folder = f'{main_codes}/pRF_analysis/analysis_code/atlas/macro_regions/leaveout'\n",
    "vertex_num_91k = 64984"
   ]
  },
  {
   "cell_type": "code",
   "execution_count": 4,
   "id": "d13a0aa2-b16f-4375-903e-eb5e6a7aa432",
   "metadata": {},
   "outputs": [
    {
     "name": "stdout",
     "output_type": "stream",
     "text": [
      "Timeseries data shape: (996, 64984)\n"
     ]
    }
   ],
   "source": [
    "# Load resting-state dense timeseries\n",
    "timeseries_fn = f'{main_data}/{project}/{seed_folder}/{subject}/91k/{task_name}/timeseries/{subject}_ses-01_task-{task_name}_space-fsLR_den-91k_desc-denoised_bold.dtseries.nii'\n",
    "timeseries_img, timeseries_data = load_surface(timeseries_fn)\n",
    "timeseries_data = timeseries_data[:, 0:vertex_num_91k]\n",
    "print(f'Timeseries data shape: {timeseries_data.shape}')"
   ]
  },
  {
   "cell_type": "code",
   "execution_count": 5,
   "id": "f6525e3f-5d64-4f31-9aa6-815bdcc598fb",
   "metadata": {},
   "outputs": [
    {
     "name": "stdout",
     "output_type": "stream",
     "text": [
      "Seed mask data shape: (12, 64984)\n"
     ]
    }
   ],
   "source": [
    "# Load seed mask file as array (12,64984) from V1 to mPCS\n",
    "for roi_num, roi in enumerate(rois):\n",
    "    seed_mask_lh_fn = f'{main_data}/{project}/{seed_folder}/{subject}/91k/{task_name}/seed/{subject}_91k_intertask_Sac_Pur_vision-pursuit-saccade_lh_{roi}.shape.gii'\n",
    "    seed_mask_lh_img, seed_mask_lh_data = load_surface(seed_mask_lh_fn)\n",
    "    seed_mask_rh_fn = f'{main_data}/{project}/{seed_folder}/{subject}/91k/{task_name}/seed/{subject}_91k_intertask_Sac_Pur_vision-pursuit-saccade_rh_{roi}.shape.gii'\n",
    "    seed_mask_rh_img, seed_mask_rh_data = load_surface(seed_mask_rh_fn)\n",
    "\n",
    "    roi_seed_mask_data = np.hstack((seed_mask_lh_data, seed_mask_rh_data))\n",
    "\n",
    "    if roi_num == 0:\n",
    "        seed_mask_data = roi_seed_mask_data\n",
    "    else:\n",
    "        seed_mask_data = np.vstack((seed_mask_data, roi_seed_mask_data))\n",
    "\n",
    "print(f'Seed mask data shape: {seed_mask_data.shape}')"
   ]
  },
  {
   "cell_type": "code",
   "execution_count": 6,
   "id": "076c49a6-4b3c-43a6-be3c-19def6cb9acb",
   "metadata": {},
   "outputs": [
    {
     "name": "stdout",
     "output_type": "stream",
     "text": [
      "Leave-out target mask data shape: (12, 64984)\n"
     ]
    }
   ],
   "source": [
    "# Load leaveout macro-region target masks as array (12,64984) from V1 to mPCS\n",
    "for roi_num, roi in enumerate(rois):\n",
    "    leaveout_target_mask_lh_fn = f'{atlas_folder}/atlas-Glasser_space-fsLR_den-32k_filtered_ROIs_discarded_leaveout_bin_lh_{roi}.shape.gii'\n",
    "    leaveout_target_mask_lh_img, leaveout_target_mask_lh_data = load_surface(leaveout_target_mask_lh_fn)\n",
    "    leaveout_target_mask_rh_fn = f'{atlas_folder}/atlas-Glasser_space-fsLR_den-32k_filtered_ROIs_discarded_leaveout_bin_rh_{roi}.shape.gii'\n",
    "    leaveout_target_mask_rh_img, leaveout_target_mask_rh_data = load_surface(leaveout_target_mask_rh_fn)\n",
    "\n",
    "    roi_leaveout_target_mask_data = np.hstack((leaveout_target_mask_lh_data, leaveout_target_mask_rh_data))\n",
    "\n",
    "    if roi_num == 0:\n",
    "        leaveout_target_mask_data = roi_leaveout_target_mask_data\n",
    "    else:\n",
    "        leaveout_target_mask_data = np.vstack((leaveout_target_mask_data, roi_leaveout_target_mask_data))\n",
    "\n",
    "print(f'Leave-out target mask data shape: {leaveout_target_mask_data.shape}')"
   ]
  },
  {
   "cell_type": "code",
   "execution_count": 29,
   "id": "45fda6f8-1aea-4b7a-8ae4-512180a5ce99",
   "metadata": {},
   "outputs": [
    {
     "name": "stdout",
     "output_type": "stream",
     "text": [
      "V1 Seed timeseries: (996, 993)\n",
      "V1 Target timeseries: (996, 64984)\n",
      "V2 Seed timeseries: (996, 804)\n",
      "V2 Target timeseries: (996, 64984)\n",
      "V3 Seed timeseries: (996, 898)\n",
      "V3 Target timeseries: (996, 64984)\n",
      "V3AB Seed timeseries: (996, 422)\n",
      "V3AB Target timeseries: (996, 64984)\n",
      "LO Seed timeseries: (996, 105)\n",
      "LO Target timeseries: (996, 64984)\n",
      "VO Seed timeseries: (996, 371)\n",
      "VO Target timeseries: (996, 64984)\n",
      "hMT+ Seed timeseries: (996, 269)\n",
      "hMT+ Target timeseries: (996, 64984)\n",
      "iIPS Seed timeseries: (996, 496)\n",
      "iIPS Target timeseries: (996, 64984)\n",
      "sIPS Seed timeseries: (996, 886)\n",
      "sIPS Target timeseries: (996, 64984)\n",
      "iPCS Seed timeseries: (996, 275)\n",
      "iPCS Target timeseries: (996, 64984)\n",
      "sPCS Seed timeseries: (996, 725)\n",
      "sPCS Target timeseries: (996, 64984)\n",
      "mPCS Seed timeseries: (996, 161)\n",
      "mPCS Target timeseries: (996, 64984)\n"
     ]
    }
   ],
   "source": [
    "# ROWS : slope / intercept / rvalue / fisher-z / pvalue / stderr / trs / pvalue adjusted for alpha1 / pvalue adjusted for alpha2`\n",
    "rvalue_row = 2\n",
    "pvalue_fdr_alpha1_row = -2\n",
    "pvalue_fdr_alpha2_row = -1\n",
    "pvalue_fdr_alpha1 = np.zeros((len(rois), vertex_num_91k)) * np.nan\n",
    "pvalue_fdr_alpha2 = np.zeros((len(rois), vertex_num_91k)) * np.nan\n",
    "\n",
    "# Correlation\n",
    "for roi_num, roi in enumerate(rois):\n",
    "    # Get the seed data as before\n",
    "    seed_data = timeseries_data[:, seed_mask_data[roi_num,:].astype(bool)]\n",
    "    \n",
    "    # Create a copy of the original timeseries_data\n",
    "    target_data = np.full(timeseries_data.shape, np.nan)  # Initialize with NaN\n",
    "    \n",
    "    # Apply the mask to the target_data\n",
    "    target_data[:, leaveout_target_mask_data[roi_num, :].astype(bool)] = timeseries_data[:, leaveout_target_mask_data[roi_num,:].astype(bool)]\n",
    "    \n",
    "    print(f'{roi} Seed timeseries: {seed_data.shape}')\n",
    "    print(f'{roi} Target timeseries: {target_data.shape}')\n",
    "\n",
    "    # to accelerate debugging take first 10 (to delete)\n",
    "    seed_data = seed_data[:,:10]\n",
    "\n",
    "    for target_col in range(target_data.shape[1]):\n",
    "        target_column_data = target_data[:, target_col]\n",
    "        \n",
    "        target_column_repeated = np.tile(target_column_data[:, np.newaxis], (1, seed_data.shape[1]))\n",
    "\n",
    "        \n",
    "        results = linear_regression_surf(bold_signal=target_column_repeated,\n",
    "                                         model_prediction=seed_data,\n",
    "                                         correction='fdr_tsbh', \n",
    "                                         alpha=fdr_alpha,\n",
    "                                         use_fisher=True\n",
    "                                        )\n",
    "            \n",
    "        # median of r values for significant correlations as a function of level of correctio (fdr_alpha1, fdr_alpha2)\n",
    "        pvalue_fdr_alpha1[roi_num, target_col] = np.median(results[rvalue_row, :][results[pvalue_fdr_alpha1_row,:]<=fdr_alpha[0]])\n",
    "        pvalue_fdr_alpha2[roi_num, target_col] = np.median(results[rvalue_row, :][results[pvalue_fdr_alpha2_row,:]<=fdr_alpha[0]])\n"
   ]
  },
  {
   "cell_type": "code",
   "execution_count": 65,
   "id": "764ba907-8618-46e1-852a-e2811e824781",
   "metadata": {},
   "outputs": [],
   "source": [
    "def find_winner(pvalue_fdr_alpha):\n",
    "    winner_indices = []\n",
    "\n",
    "    # Iterate over each column to find the winner index\n",
    "    for col in range(pvalue_fdr_alpha.shape[1]):\n",
    "        column_data = pvalue_fdr_alpha[:, col]\n",
    "        \n",
    "        # Check if all values are NaN\n",
    "        if np.all(np.isnan(column_data)):\n",
    "            winner_indices.append(-1)  # Append -1 for all-NaN columns\n",
    "        else:\n",
    "            winner_index = np.nanargmax(column_data)\n",
    "            winner_indices.append(winner_index)\n",
    "\n",
    "    # Convert winner_indices to a numpy array\n",
    "    winner_indices = np.array(winner_indices)\n",
    "\n",
    "    # Get the corresponding values, handling NaNs\n",
    "    winner_values = np.array([pvalue_fdr_alpha[idx, col] if idx != -1 else np.nan \n",
    "                              for col, idx in enumerate(winner_indices)])\n",
    "\n",
    "    # Change -1 in winner_indices to NaN\n",
    "    winner_indices = np.where(winner_indices == -1, np.nan, winner_indices)\n",
    "\n",
    "    # Stack the results\n",
    "    data_with_winners = np.vstack((pvalue_fdr_alpha, winner_indices, winner_values))\n",
    "\n",
    "    return data_with_winners"
   ]
  },
  {
   "cell_type": "code",
   "execution_count": 69,
   "id": "34ecda88-4369-4b31-8061-f6c9f3235f58",
   "metadata": {},
   "outputs": [],
   "source": [
    "# Make the files with all 12 ROIS seeds, the winner index (13) and the winner r value (14)\n",
    "pvalue_fdr_alpha1_with_winners = find_winner(pvalue_fdr_alpha1)\n",
    "pvalue_fdr_alpha2_with_winners = find_winner(pvalue_fdr_alpha2)"
   ]
  },
  {
   "cell_type": "code",
   "execution_count": null,
   "id": "ed052852-883d-432f-9729-93b99ba45ec7",
   "metadata": {},
   "outputs": [],
   "source": []
  }
 ],
 "metadata": {
  "kernelspec": {
   "display_name": "mszinte",
   "language": "python",
   "name": "mszinte"
  },
  "language_info": {
   "codemirror_mode": {
    "name": "ipython",
    "version": 3
   },
   "file_extension": ".py",
   "mimetype": "text/x-python",
   "name": "python",
   "nbconvert_exporter": "python",
   "pygments_lexer": "ipython3",
   "version": "3.11.9"
  }
 },
 "nbformat": 4,
 "nbformat_minor": 5
}
