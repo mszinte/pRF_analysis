{
 "cells": [
  {
   "cell_type": "code",
   "execution_count": 3,
   "id": "f187975a-9b74-4905-9c61-87ae1f05ee80",
   "metadata": {
    "tags": []
   },
   "outputs": [],
   "source": [
    "# General imports \n",
    "import os\n",
    "import cv2\n",
    "import json\n",
    "import numpy as np"
   ]
  },
  {
   "cell_type": "code",
   "execution_count": 9,
   "id": "e6dfca28-fb5d-48ec-a7b3-01c68caf3e9b",
   "metadata": {
    "tags": []
   },
   "outputs": [],
   "source": [
    "# Define directories \n",
    "home_dir = '/Users/sinakling/disks/meso_shared'\n",
    "main_dir = '{}/centbids'.format(home_dir)\n",
    "project_dir = 'centbids'\n",
    "\n",
    "tasks = ['pRF']\n",
    "task = tasks[0]\n",
    "stim_video_fn = '{}/derivatives/vdm/{}_vid(4).mp4'.format(main_dir, task)\n",
    "\n",
    "# Analysis parameters\n",
    "base_dir = os.path.abspath(os.path.join(os.getcwd(), \"../../../../\"))\n",
    "settings_path = os.path.join(base_dir, project_dir, \"settings.json\")\n",
    "\n",
    "with open(settings_path) as f:\n",
    "    json_s = f.read()\n",
    "    analysis_info = json.loads(json_s)"
   ]
  },
  {
   "cell_type": "code",
   "execution_count": null,
   "id": "27e9cce6-501e-4641-90a4-6e3cbc485415",
   "metadata": {
    "tags": []
   },
   "outputs": [],
   "source": [
    "# open video\n",
    "cap = cv2.VideoCapture(stim_video_fn)\n",
    "\n",
    "# get video settings\n",
    "vid_width, vid_height = cap.get(3), cap.get(4)\n",
    "vid_fps = cap.get(cv2.CAP_PROP_FPS)\n",
    "vid_frames = cap.get(cv2.CAP_PROP_FRAME_COUNT)\n",
    "\n",
    "# set VDM settings\n",
    "TR = analysis_info['TR']\n",
    "\n",
    "vdm_width = analysis_info['vdm_size_pix'][0] \n",
    "vdm_height = analysis_info['vdm_size_pix'][1]\n",
    "\n",
    "vdm_frames_sampled = vid_fps * TR\n",
    "vdm_frames = vid_frames / vdm_frames_sampled\n",
    "vdm_mat = np.zeros((vdm_width, vdm_height, int(vdm_frames)))\n"
   ]
  },
  {
   "cell_type": "code",
   "execution_count": null,
   "id": "e96d54c0",
   "metadata": {},
   "outputs": [],
   "source": [
    "# define top and bottom part as 16/9 screen experiment and VDM should be a square: \n",
    "\n",
    "#=============== Screen ===============================\n",
    "#               1920 px  (~73.3 cm)                                                      ============ Converting rectangular screen to square ============\n",
    "# +--------------------------------------------------+\t\t\t\t\t\t\t\t\t\t\t\t\n",
    "# |                                                  |\n",
    "# |                                                  |\t\t\t\t\t\t\t\t\t\t\t\t\t1920 px  (~73.3 cm)\n",
    "# |                                                  |\t\t\t\t\t\t\t\t\t  +--------------------------------------------------+\n",
    "# |                                                  |\t1080 px  (~43.5 cm)  ->\t\t\t  |                  MARGIN                          |\n",
    "# +--------------------------------------------------+\t\t\t\t\t        \t\t  |              (420 px each)                       |\n",
    "#\t\t\t\t\t\t\t\t\t\t\t\t\t\t\t\t\t\t\t\t\t\t  +--------------------------------------------------+\n",
    "#\t\t\t\t\t\t\t\t\t\t\t\t\t\t\t\t\t\t\t\t\t\t  |                                                  |\n",
    "#\t\t\t\t\t\t\t\t\t\t\t\t\t\t\t\t\t\t\t\t\t\t  |                SQUARE AREA                       |\n",
    "#\t\t\t\t\t\t\t\t\t\t\t\t\t\t\t\t\t\t\t\t\t\t  |               1920 x 1920 px                     |\n",
    "#\t\t\t\t\t\t\t\t\t\t\t\t\t\t\t\t\t\t\t\t\t\t  |                                                  |\n",
    "#\t\t\t\t\t\t\t\t\t\t\t\t\t\t\t\t\t\t\t\t\t\t  +--------------------------------------------------+\n",
    "#\t\t\t\t\t\t\t\t\t\t\t\t\t\t\t\t\t\t\t\t\t\t  |                  MARGIN                          |\n",
    "#\t\t\t\t\t\t\t\t\t\t\t\t\t\t\t\t\t\t\t\t\t\t  |              (420 px each)                       |\n",
    "#\t\t\t\t\t\t\t\t\t\t\t\t\t\t\t\t\t\t\t\t\t\t  +--------------------------------------------------+\n",
    "#\t\t\t\t\t\t\t\t\t\t\t\t\t\t\t\t\t\t\t\t\t\t\n",
    "#\t\t\t\t\t\t\t\t\t\t\t\t\t\t\t\t\t\t\t\t\t\t  Screen height = 1080 px\n",
    "#\t\t\t\t\t\t\t\t\t\t\t\t\t\t\t\t\t\t\t\t\t\t  Square size   = 1920 px\n",
    "#\t\t\t\t\t\t\t\t\t\t\t\t\t\t\t\t\t\t\t\t\t\t  Added margins = (1920 - 1080) / 2 = 420 px (top & bottom). Final dimensions, to be taken into account when giving dimensions to prfpy!\n",
    "\n",
    "\n",
    "\n",
    "height_to_add = (vid_width - vid_height) / 2 \n",
    "add_mat =  np.zeros((int(height_to_add),int(vid_width)))"
   ]
  },
  {
   "cell_type": "code",
   "execution_count": 14,
   "id": "92270319",
   "metadata": {},
   "outputs": [],
   "source": [
    "vdm_video_fn = '{}/derivatives/vdm/vdm_{}_{}_{}.mp4'.format(main_dir, task, vdm_width, vdm_height)\n",
    "vdm_numpy_fn = '{}/derivatives/vdm/vdm_{}_{}_{}.npy'.format(main_dir, task, vdm_width, vdm_height)"
   ]
  },
  {
   "cell_type": "code",
   "execution_count": 15,
   "id": "dfe6d12f-f415-461f-8fd3-100fcc2482db",
   "metadata": {
    "tags": []
   },
   "outputs": [],
   "source": [
    "# create VDM matrix\n",
    "vid_idx, vdm_idx = 0, 0\n",
    "while(cap.isOpened()):\n",
    "    \n",
    "    # read video frames\n",
    "    ret, vid_frame = cap.read()\n",
    "    if not ret: break\n",
    "\n",
    "    # process sampled frames\n",
    "    if np.mod(vid_idx, int(vdm_frames_sampled)) == 0:\n",
    "\n",
    "        # convert frame to grayscale\n",
    "        gray_mat = cv2.cvtColor(vid_frame, cv2.COLOR_BGR2GRAY)\n",
    "\n",
    "        # convert to binary\n",
    "        binary_mat = (gray_mat > 5).astype(np.uint8)\n",
    "    \n",
    "        # add top and bottom blank    \n",
    "        binary_reshape_mat = np.concatenate((add_mat,binary_mat,add_mat), axis=0)\n",
    "        \n",
    "        # resize to create VDM\n",
    "        binary_reshape_resize_mat = cv2.resize(binary_reshape_mat, dsize=(vdm_width, vdm_height),\n",
    "                                               interpolation=cv2.INTER_NEAREST)\n",
    "        \n",
    "        # fill VDM matrix\n",
    "        vdm_mat[...,vdm_idx] = binary_reshape_resize_mat\n",
    "        vdm_idx += 1\n",
    "\n",
    "\n",
    "    vid_idx += 1\n",
    "    \n",
    "cap.release()"
   ]
  },
  {
   "cell_type": "code",
   "execution_count": null,
   "id": "e1bee256",
   "metadata": {},
   "outputs": [
    {
     "name": "stdout",
     "output_type": "stream",
     "text": [
      "White pixel heights (row indices): [18 18 18 ... 32 32 32]\n",
      "White pixel widths (column indices): [18 18 18 ... 32 32 32]\n"
     ]
    }
   ],
   "source": [
    "import numpy as np\n",
    "\n",
    "# find coordinates of white pixels\n",
    "white_coords = np.argwhere(vdm_mat == 1)\n",
    "\n",
    "# get height (rows) and width (columns) of white pixels\n",
    "white_heights = white_coords[:, 0]\n",
    "white_widths = white_coords[:, 1]\n",
    "\n",
    "print(\"White pixel heights (row indices):\", white_heights)\n",
    "print(\"White pixel widths (column indices):\", white_widths)\n",
    "\n",
    "\n",
    "\n",
    "# ===== Stimulus grid ==========\n",
    "#\n",
    "#   0        18       32       50   (px)\n",
    "#   |--------|--------|--------|\n",
    "#   |        |        |        |\n",
    "#   |        +--------+        |\n",
    "#   |        | 15x15  |        |\n",
    "#   |        |  box   |        |\n",
    "#   |        +--------+        |\n",
    "#   |                          |\n",
    "#   +--------------------------+\n",
    "#  0                          50\n",
    "#        (50 x 50 px matrix)\n",
    "\n"
   ]
  },
  {
   "cell_type": "code",
   "execution_count": 16,
   "id": "8bc027be-a73b-49a1-bc92-976083b2d79d",
   "metadata": {
    "tags": []
   },
   "outputs": [],
   "source": [
    "# save VDM as numpy matrix\n",
    "np.save(vdm_numpy_fn, vdm_mat)\n",
    "\n",
    "# save VDM as video\n",
    "fourcc = cv2.VideoWriter_fourcc(*'mp4v')\n",
    "out = cv2.VideoWriter(vdm_video_fn, fourcc, 1/TR, (vdm_width, vdm_height), False)\n",
    "[out.write(np.uint8(frame*255)) for frame in np.split(vdm_mat, vdm_frames, axis=2)]\n",
    "out.release()"
   ]
  }
 ],
 "metadata": {
  "kernelspec": {
   "display_name": "skling",
   "language": "python",
   "name": "python3"
  },
  "language_info": {
   "codemirror_mode": {
    "name": "ipython",
    "version": 3
   },
   "file_extension": ".py",
   "mimetype": "text/x-python",
   "name": "python",
   "nbconvert_exporter": "python",
   "pygments_lexer": "ipython3",
   "version": "3.11.7"
  }
 },
 "nbformat": 4,
 "nbformat_minor": 5
}
