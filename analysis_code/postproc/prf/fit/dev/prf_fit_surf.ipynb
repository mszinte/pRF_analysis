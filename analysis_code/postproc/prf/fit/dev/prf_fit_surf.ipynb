{
 "cells": [
  {
   "cell_type": "code",
   "execution_count": 4,
   "id": "9789253f-ca28-4a38-85f9-513dfad08087",
   "metadata": {},
   "outputs": [],
   "source": [
    "import sys, os\n",
    "import numpy as np\n",
    "import glob\n",
    "import datetime\n",
    "import json\n",
    "import ipdb\n",
    "deb = ipdb.set_trace\n",
    "\n",
    "# MRI analysis imports\n",
    "from prfpy.stimulus import PRFStimulus2D\n",
    "from prfpy.model import Iso2DGaussianModel, Norm_Iso2DGaussianModel, CSS_Iso2DGaussianModel\n",
    "from prfpy.fit import Iso2DGaussianFitter, Norm_Iso2DGaussianFitter, CSS_Iso2DGaussianFitter\n",
    "import nibabel as nb\n",
    "\n",
    "sys.path.append(\"{}/../../../../utils\".format(os.getcwd()))\n",
    "from surface_utils import make_surface_image , load_surface\n"
   ]
  },
  {
   "cell_type": "code",
   "execution_count": 11,
   "id": "ec4966d1",
   "metadata": {},
   "outputs": [],
   "source": [
    "subject = 'sub-03'\n",
    "# dir_data = '/home/mszinte/disks/meso_S/data/RetinoMaps'\n",
    "# dir_code = '/home/mszinte/disks/meso_H/projects/RetinoMaps'\n",
    "\n",
    "dir_data = '/Users/uriel/disks/meso_shared/RetinoMaps'\n",
    "dir_code = '/Users/uriel/disks/meso_H/projects/RetinoMaps'\n",
    "\n",
    "input_vd = '{}/derivatives/vdm/vdm.npy'.format(dir_data)\n",
    "input_fn_fsnative = '{}/derivatives/pp_data/{}/fsnative/func/fmriprep_dct_avg/{}_task-pRF_hemi-L_fmriprep_dct_avg_bold.func.gii'.format(\n",
    "    dir_data, subject, subject)\n",
    "\n",
    "# Analysis parameters\n",
    "with open('{}/analysis_code/settings.json'.format(dir_code)) as f:\n",
    "    json_s = f.read()\n",
    "    analysis_info = json.loads(json_s)\n",
    "screen_size_cm = analysis_info['screen_size_cm']\n",
    "screen_distance_cm = analysis_info['screen_distance_cm']\n",
    "TR = analysis_info['TR']\n",
    "gauss_grid_nr = analysis_info['gauss_grid_nr']\n",
    "\n",
    "max_ecc_size = analysis_info['max_ecc_size']\n",
    "n_jobs = 32\n",
    "n_batches = 32\n",
    "xtol = 1e-4\n",
    "ftol = 1e-4\n",
    "rsq_threshold = 0.01\n",
    "verbose = False"
   ]
  },
  {
   "cell_type": "code",
   "execution_count": 9,
   "id": "c1c5ea77-ddb7-4082-b86d-386c16d70086",
   "metadata": {},
   "outputs": [],
   "source": [
    "# defind pRF parameter range\n",
    "sizes = max_ecc_size * np.linspace(0.1,1,gauss_grid_nr)**2\n",
    "eccs = max_ecc_size * np.linspace(0.25,1,gauss_grid_nr)**2\n",
    "polars = np.linspace(0, 2*np.pi, gauss_grid_nr)\n",
    "\n",
    "# # defind dn parameters\n",
    "# fixed_grid_baseline = 0\n",
    "\n",
    "# gauss_grid_bounds = [(0,1000)] #only prf amplitudes between 0 and 1000\n",
    "# dn_grid_bounds = [(0,1000),(0,1000)] #only prf amplitudes between 0 and 1000, only neural baseline values between 0 and 1000\n",
    "\n",
    "# surround_size_grid = max_ecc_size * np.linspace(0.1, 1, dn_grid_nr)**2\n",
    "# surround_amplitude_grid = np.linspace(0, 10, dn_grid_nr)\n",
    "# surround_baseline_grid = np.linspace(0, 10, dn_grid_nr)\n",
    "# neural_baseline_grid = np.linspace(0, 10, dn_grid_nr)"
   ]
  },
  {
   "cell_type": "code",
   "execution_count": 12,
   "id": "0e4ed94e-fee2-4986-a0d6-d1cc9441786d",
   "metadata": {},
   "outputs": [],
   "source": [
    "vdm = np.load(input_vd)\n",
    "# Load fsnative data \n",
    "data_img_fsnative, raw_data_fsnative = load_surface(input_fn_fsnative)\n"
   ]
  },
  {
   "cell_type": "code",
   "execution_count": 15,
   "id": "b3180f1b-61e0-432c-bf95-0fa794897324",
   "metadata": {},
   "outputs": [],
   "source": [
    "# Create subsample of data\n",
    "# data_fsnative_ = data_fsnative[:,0:10]\n",
    "#data_fsnative_ = data_fsnative[:,0:80000]\n",
    "\n",
    "valid_vertices = ~np.isnan(raw_data_fsnative).any(axis=0)\n",
    "valid_vertices_idx = np.where(valid_vertices)[0]\n",
    "data_fsnative_ = raw_data_fsnative[:,valid_vertices]\n",
    "\n"
   ]
  },
  {
   "cell_type": "code",
   "execution_count": null,
   "id": "b9504828-1765-4ad2-8b5a-4985e8616291",
   "metadata": {},
   "outputs": [],
   "source": [
    "# compute how much data is pick from the full amount\n",
    "data_fsnative_.shape[1]/data_fsnative.shape[1]"
   ]
  },
  {
   "cell_type": "code",
   "execution_count": null,
   "id": "8bfcc0ac-a071-4e85-b996-294182585eed",
   "metadata": {},
   "outputs": [],
   "source": [
    "# # Check and plot the variance of the vertices\n",
    "# data_var = np.var(data_fsnative_,axis=0)\n",
    "\n",
    "# import plotly.figure_factory as ff\n",
    "# import numpy as np\n",
    "\n",
    "# x = data_var\n",
    "# hist_data = [x]\n",
    "# group_labels = ['variance'] # name of the dataset\n",
    "\n",
    "# fig = ff.create_distplot(hist_data, group_labels,bin_size=.1)\n",
    "# fig.show()"
   ]
  },
  {
   "cell_type": "code",
   "execution_count": 16,
   "id": "dff40c24-f4fb-48e8-bcac-fb8ce64cd68f",
   "metadata": {},
   "outputs": [
    {
     "name": "stderr",
     "output_type": "stream",
     "text": [
      "/Users/uriel/softwares/anaconda3/envs/amblyo_env/prfpy/prfpy/fit.py:441: RuntimeWarning: divide by zero encountered in divide\n",
      "  slopes = (n_timepoints * np.dot(vox_data, predictions.T) - sumd *\n",
      "/Users/uriel/softwares/anaconda3/envs/amblyo_env/prfpy/prfpy/fit.py:441: RuntimeWarning: invalid value encountered in divide\n",
      "  slopes = (n_timepoints * np.dot(vox_data, predictions.T) - sumd *\n",
      "/Users/uriel/softwares/anaconda3/envs/amblyo_env/prfpy/prfpy/fit.py:450: RuntimeWarning: invalid value encountered in multiply\n",
      "  slopes[..., np.newaxis] *\n",
      "/Users/uriel/softwares/anaconda3/envs/amblyo_env/prfpy/prfpy/fit.py:449: RuntimeWarning: invalid value encountered in subtract\n",
      "  resid = np.linalg.norm((vox_data -\n",
      "/Users/uriel/softwares/anaconda3/envs/amblyo_env/prfpy/prfpy/fit.py:441: RuntimeWarning: divide by zero encountered in divide\n",
      "  slopes = (n_timepoints * np.dot(vox_data, predictions.T) - sumd *\n",
      "/Users/uriel/softwares/anaconda3/envs/amblyo_env/prfpy/prfpy/fit.py:441: RuntimeWarning: invalid value encountered in divide\n",
      "  slopes = (n_timepoints * np.dot(vox_data, predictions.T) - sumd *\n",
      "/Users/uriel/softwares/anaconda3/envs/amblyo_env/prfpy/prfpy/fit.py:450: RuntimeWarning: invalid value encountered in multiply\n",
      "  slopes[..., np.newaxis] *\n",
      "/Users/uriel/softwares/anaconda3/envs/amblyo_env/prfpy/prfpy/fit.py:441: RuntimeWarning: divide by zero encountered in divide\n",
      "  slopes = (n_timepoints * np.dot(vox_data, predictions.T) - sumd *\n",
      "/Users/uriel/softwares/anaconda3/envs/amblyo_env/prfpy/prfpy/fit.py:441: RuntimeWarning: invalid value encountered in divide\n",
      "  slopes = (n_timepoints * np.dot(vox_data, predictions.T) - sumd *\n",
      "/Users/uriel/softwares/anaconda3/envs/amblyo_env/prfpy/prfpy/fit.py:450: RuntimeWarning: invalid value encountered in multiply\n",
      "  slopes[..., np.newaxis] *\n",
      "/Users/uriel/softwares/anaconda3/envs/amblyo_env/prfpy/prfpy/fit.py:449: RuntimeWarning: invalid value encountered in subtract\n",
      "  resid = np.linalg.norm((vox_data -\n",
      "/Users/uriel/softwares/anaconda3/envs/amblyo_env/prfpy/prfpy/fit.py:441: RuntimeWarning: divide by zero encountered in divide\n",
      "  slopes = (n_timepoints * np.dot(vox_data, predictions.T) - sumd *\n",
      "/Users/uriel/softwares/anaconda3/envs/amblyo_env/prfpy/prfpy/fit.py:441: RuntimeWarning: invalid value encountered in divide\n",
      "  slopes = (n_timepoints * np.dot(vox_data, predictions.T) - sumd *\n",
      "/Users/uriel/softwares/anaconda3/envs/amblyo_env/prfpy/prfpy/fit.py:441: RuntimeWarning: divide by zero encountered in divide\n",
      "  slopes = (n_timepoints * np.dot(vox_data, predictions.T) - sumd *\n",
      "/Users/uriel/softwares/anaconda3/envs/amblyo_env/prfpy/prfpy/fit.py:441: RuntimeWarning: invalid value encountered in divide\n",
      "  slopes = (n_timepoints * np.dot(vox_data, predictions.T) - sumd *\n",
      "/Users/uriel/softwares/anaconda3/envs/amblyo_env/prfpy/prfpy/fit.py:449: RuntimeWarning: invalid value encountered in subtract\n",
      "  resid = np.linalg.norm((vox_data -\n",
      "/Users/uriel/softwares/anaconda3/envs/amblyo_env/prfpy/prfpy/fit.py:450: RuntimeWarning: invalid value encountered in multiply\n",
      "  slopes[..., np.newaxis] *\n",
      "/Users/uriel/softwares/anaconda3/envs/amblyo_env/prfpy/prfpy/fit.py:441: RuntimeWarning: divide by zero encountered in divide\n",
      "  slopes = (n_timepoints * np.dot(vox_data, predictions.T) - sumd *\n",
      "/Users/uriel/softwares/anaconda3/envs/amblyo_env/prfpy/prfpy/fit.py:441: RuntimeWarning: invalid value encountered in divide\n",
      "  slopes = (n_timepoints * np.dot(vox_data, predictions.T) - sumd *\n",
      "/Users/uriel/softwares/anaconda3/envs/amblyo_env/prfpy/prfpy/fit.py:450: RuntimeWarning: invalid value encountered in multiply\n",
      "  slopes[..., np.newaxis] *\n",
      "/Users/uriel/softwares/anaconda3/envs/amblyo_env/prfpy/prfpy/fit.py:449: RuntimeWarning: invalid value encountered in subtract\n",
      "  resid = np.linalg.norm((vox_data -\n",
      "/Users/uriel/softwares/anaconda3/envs/amblyo_env/prfpy/prfpy/fit.py:449: RuntimeWarning: invalid value encountered in subtract\n",
      "  resid = np.linalg.norm((vox_data -\n",
      "/Users/uriel/softwares/anaconda3/envs/amblyo_env/prfpy/prfpy/fit.py:450: RuntimeWarning: invalid value encountered in multiply\n",
      "  slopes[..., np.newaxis] *\n",
      "/Users/uriel/softwares/anaconda3/envs/amblyo_env/prfpy/prfpy/fit.py:441: RuntimeWarning: divide by zero encountered in divide\n",
      "  slopes = (n_timepoints * np.dot(vox_data, predictions.T) - sumd *\n",
      "/Users/uriel/softwares/anaconda3/envs/amblyo_env/prfpy/prfpy/fit.py:441: RuntimeWarning: invalid value encountered in divide\n",
      "  slopes = (n_timepoints * np.dot(vox_data, predictions.T) - sumd *\n",
      "/Users/uriel/softwares/anaconda3/envs/amblyo_env/prfpy/prfpy/fit.py:449: RuntimeWarning: invalid value encountered in subtract\n",
      "  resid = np.linalg.norm((vox_data -\n",
      "/Users/uriel/softwares/anaconda3/envs/amblyo_env/prfpy/prfpy/fit.py:441: RuntimeWarning: divide by zero encountered in divide\n",
      "  slopes = (n_timepoints * np.dot(vox_data, predictions.T) - sumd *\n",
      "/Users/uriel/softwares/anaconda3/envs/amblyo_env/prfpy/prfpy/fit.py:441: RuntimeWarning: invalid value encountered in divide\n",
      "  slopes = (n_timepoints * np.dot(vox_data, predictions.T) - sumd *\n",
      "/Users/uriel/softwares/anaconda3/envs/amblyo_env/prfpy/prfpy/fit.py:450: RuntimeWarning: invalid value encountered in multiply\n",
      "  slopes[..., np.newaxis] *\n",
      "/Users/uriel/softwares/anaconda3/envs/amblyo_env/prfpy/prfpy/fit.py:449: RuntimeWarning: invalid value encountered in subtract\n",
      "  resid = np.linalg.norm((vox_data -\n",
      "/Users/uriel/softwares/anaconda3/envs/amblyo_env/prfpy/prfpy/fit.py:450: RuntimeWarning: invalid value encountered in multiply\n",
      "  slopes[..., np.newaxis] *\n",
      "/Users/uriel/softwares/anaconda3/envs/amblyo_env/prfpy/prfpy/fit.py:449: RuntimeWarning: invalid value encountered in subtract\n",
      "  resid = np.linalg.norm((vox_data -\n",
      "/Users/uriel/softwares/anaconda3/envs/amblyo_env/prfpy/prfpy/fit.py:441: RuntimeWarning: divide by zero encountered in divide\n",
      "  slopes = (n_timepoints * np.dot(vox_data, predictions.T) - sumd *\n",
      "/Users/uriel/softwares/anaconda3/envs/amblyo_env/prfpy/prfpy/fit.py:441: RuntimeWarning: invalid value encountered in divide\n",
      "  slopes = (n_timepoints * np.dot(vox_data, predictions.T) - sumd *\n",
      "/Users/uriel/softwares/anaconda3/envs/amblyo_env/prfpy/prfpy/fit.py:450: RuntimeWarning: invalid value encountered in multiply\n",
      "  slopes[..., np.newaxis] *\n",
      "/Users/uriel/softwares/anaconda3/envs/amblyo_env/prfpy/prfpy/fit.py:449: RuntimeWarning: invalid value encountered in subtract\n",
      "  resid = np.linalg.norm((vox_data -\n",
      "/Users/uriel/softwares/anaconda3/envs/amblyo_env/prfpy/prfpy/fit.py:441: RuntimeWarning: divide by zero encountered in divide\n",
      "  slopes = (n_timepoints * np.dot(vox_data, predictions.T) - sumd *\n",
      "/Users/uriel/softwares/anaconda3/envs/amblyo_env/prfpy/prfpy/fit.py:441: RuntimeWarning: invalid value encountered in divide\n",
      "  slopes = (n_timepoints * np.dot(vox_data, predictions.T) - sumd *\n",
      "/Users/uriel/softwares/anaconda3/envs/amblyo_env/prfpy/prfpy/fit.py:450: RuntimeWarning: invalid value encountered in multiply\n",
      "  slopes[..., np.newaxis] *\n",
      "/Users/uriel/softwares/anaconda3/envs/amblyo_env/prfpy/prfpy/fit.py:449: RuntimeWarning: invalid value encountered in subtract\n",
      "  resid = np.linalg.norm((vox_data -\n",
      "/Users/uriel/softwares/anaconda3/envs/amblyo_env/prfpy/prfpy/fit.py:441: RuntimeWarning: divide by zero encountered in divide\n",
      "  slopes = (n_timepoints * np.dot(vox_data, predictions.T) - sumd *\n",
      "/Users/uriel/softwares/anaconda3/envs/amblyo_env/prfpy/prfpy/fit.py:441: RuntimeWarning: invalid value encountered in divide\n",
      "  slopes = (n_timepoints * np.dot(vox_data, predictions.T) - sumd *\n",
      "/Users/uriel/softwares/anaconda3/envs/amblyo_env/prfpy/prfpy/fit.py:450: RuntimeWarning: invalid value encountered in multiply\n",
      "  slopes[..., np.newaxis] *\n",
      "/Users/uriel/softwares/anaconda3/envs/amblyo_env/prfpy/prfpy/fit.py:449: RuntimeWarning: invalid value encountered in subtract\n",
      "  resid = np.linalg.norm((vox_data -\n",
      "/Users/uriel/softwares/anaconda3/envs/amblyo_env/prfpy/prfpy/fit.py:441: RuntimeWarning: divide by zero encountered in divide\n",
      "  slopes = (n_timepoints * np.dot(vox_data, predictions.T) - sumd *\n",
      "/Users/uriel/softwares/anaconda3/envs/amblyo_env/prfpy/prfpy/fit.py:441: RuntimeWarning: invalid value encountered in divide\n",
      "  slopes = (n_timepoints * np.dot(vox_data, predictions.T) - sumd *\n",
      "/Users/uriel/softwares/anaconda3/envs/amblyo_env/prfpy/prfpy/fit.py:450: RuntimeWarning: invalid value encountered in multiply\n",
      "  slopes[..., np.newaxis] *\n",
      "/Users/uriel/softwares/anaconda3/envs/amblyo_env/prfpy/prfpy/fit.py:449: RuntimeWarning: invalid value encountered in subtract\n",
      "  resid = np.linalg.norm((vox_data -\n",
      "/Users/uriel/softwares/anaconda3/envs/amblyo_env/prfpy/prfpy/fit.py:441: RuntimeWarning: divide by zero encountered in divide\n",
      "  slopes = (n_timepoints * np.dot(vox_data, predictions.T) - sumd *\n",
      "/Users/uriel/softwares/anaconda3/envs/amblyo_env/prfpy/prfpy/fit.py:441: RuntimeWarning: invalid value encountered in divide\n",
      "  slopes = (n_timepoints * np.dot(vox_data, predictions.T) - sumd *\n",
      "/Users/uriel/softwares/anaconda3/envs/amblyo_env/prfpy/prfpy/fit.py:450: RuntimeWarning: invalid value encountered in multiply\n",
      "  slopes[..., np.newaxis] *\n",
      "/Users/uriel/softwares/anaconda3/envs/amblyo_env/prfpy/prfpy/fit.py:449: RuntimeWarning: invalid value encountered in subtract\n",
      "  resid = np.linalg.norm((vox_data -\n",
      "/Users/uriel/softwares/anaconda3/envs/amblyo_env/prfpy/prfpy/fit.py:441: RuntimeWarning: divide by zero encountered in divide\n",
      "  slopes = (n_timepoints * np.dot(vox_data, predictions.T) - sumd *\n",
      "/Users/uriel/softwares/anaconda3/envs/amblyo_env/prfpy/prfpy/fit.py:441: RuntimeWarning: invalid value encountered in divide\n",
      "  slopes = (n_timepoints * np.dot(vox_data, predictions.T) - sumd *\n",
      "/Users/uriel/softwares/anaconda3/envs/amblyo_env/prfpy/prfpy/fit.py:450: RuntimeWarning: invalid value encountered in multiply\n",
      "  slopes[..., np.newaxis] *\n",
      "/Users/uriel/softwares/anaconda3/envs/amblyo_env/prfpy/prfpy/fit.py:449: RuntimeWarning: invalid value encountered in subtract\n",
      "  resid = np.linalg.norm((vox_data -\n",
      "/Users/uriel/softwares/anaconda3/envs/amblyo_env/prfpy/prfpy/fit.py:441: RuntimeWarning: divide by zero encountered in divide\n",
      "  slopes = (n_timepoints * np.dot(vox_data, predictions.T) - sumd *\n",
      "/Users/uriel/softwares/anaconda3/envs/amblyo_env/prfpy/prfpy/fit.py:441: RuntimeWarning: invalid value encountered in divide\n",
      "  slopes = (n_timepoints * np.dot(vox_data, predictions.T) - sumd *\n",
      "/Users/uriel/softwares/anaconda3/envs/amblyo_env/prfpy/prfpy/fit.py:450: RuntimeWarning: invalid value encountered in multiply\n",
      "  slopes[..., np.newaxis] *\n",
      "/Users/uriel/softwares/anaconda3/envs/amblyo_env/prfpy/prfpy/fit.py:449: RuntimeWarning: invalid value encountered in subtract\n",
      "  resid = np.linalg.norm((vox_data -\n",
      "/Users/uriel/softwares/anaconda3/envs/amblyo_env/prfpy/prfpy/fit.py:441: RuntimeWarning: divide by zero encountered in divide\n",
      "  slopes = (n_timepoints * np.dot(vox_data, predictions.T) - sumd *\n",
      "/Users/uriel/softwares/anaconda3/envs/amblyo_env/prfpy/prfpy/fit.py:441: RuntimeWarning: invalid value encountered in divide\n",
      "  slopes = (n_timepoints * np.dot(vox_data, predictions.T) - sumd *\n",
      "/Users/uriel/softwares/anaconda3/envs/amblyo_env/prfpy/prfpy/fit.py:450: RuntimeWarning: invalid value encountered in multiply\n",
      "  slopes[..., np.newaxis] *\n",
      "/Users/uriel/softwares/anaconda3/envs/amblyo_env/prfpy/prfpy/fit.py:449: RuntimeWarning: invalid value encountered in subtract\n",
      "  resid = np.linalg.norm((vox_data -\n",
      "/Users/uriel/softwares/anaconda3/envs/amblyo_env/prfpy/prfpy/fit.py:441: RuntimeWarning: divide by zero encountered in divide\n",
      "  slopes = (n_timepoints * np.dot(vox_data, predictions.T) - sumd *\n",
      "/Users/uriel/softwares/anaconda3/envs/amblyo_env/prfpy/prfpy/fit.py:441: RuntimeWarning: invalid value encountered in divide\n",
      "  slopes = (n_timepoints * np.dot(vox_data, predictions.T) - sumd *\n",
      "/Users/uriel/softwares/anaconda3/envs/amblyo_env/prfpy/prfpy/fit.py:450: RuntimeWarning: invalid value encountered in multiply\n",
      "  slopes[..., np.newaxis] *\n",
      "/Users/uriel/softwares/anaconda3/envs/amblyo_env/prfpy/prfpy/fit.py:449: RuntimeWarning: invalid value encountered in subtract\n",
      "  resid = np.linalg.norm((vox_data -\n",
      "/Users/uriel/softwares/anaconda3/envs/amblyo_env/prfpy/prfpy/fit.py:441: RuntimeWarning: divide by zero encountered in divide\n",
      "  slopes = (n_timepoints * np.dot(vox_data, predictions.T) - sumd *\n",
      "/Users/uriel/softwares/anaconda3/envs/amblyo_env/prfpy/prfpy/fit.py:441: RuntimeWarning: invalid value encountered in divide\n",
      "  slopes = (n_timepoints * np.dot(vox_data, predictions.T) - sumd *\n",
      "/Users/uriel/softwares/anaconda3/envs/amblyo_env/prfpy/prfpy/fit.py:450: RuntimeWarning: invalid value encountered in multiply\n",
      "  slopes[..., np.newaxis] *\n",
      "/Users/uriel/softwares/anaconda3/envs/amblyo_env/prfpy/prfpy/fit.py:449: RuntimeWarning: invalid value encountered in subtract\n",
      "  resid = np.linalg.norm((vox_data -\n",
      "/Users/uriel/softwares/anaconda3/envs/amblyo_env/prfpy/prfpy/fit.py:441: RuntimeWarning: divide by zero encountered in divide\n",
      "  slopes = (n_timepoints * np.dot(vox_data, predictions.T) - sumd *\n",
      "/Users/uriel/softwares/anaconda3/envs/amblyo_env/prfpy/prfpy/fit.py:441: RuntimeWarning: invalid value encountered in divide\n",
      "  slopes = (n_timepoints * np.dot(vox_data, predictions.T) - sumd *\n",
      "/Users/uriel/softwares/anaconda3/envs/amblyo_env/prfpy/prfpy/fit.py:450: RuntimeWarning: invalid value encountered in multiply\n",
      "  slopes[..., np.newaxis] *\n",
      "/Users/uriel/softwares/anaconda3/envs/amblyo_env/prfpy/prfpy/fit.py:449: RuntimeWarning: invalid value encountered in subtract\n",
      "  resid = np.linalg.norm((vox_data -\n",
      "/Users/uriel/softwares/anaconda3/envs/amblyo_env/prfpy/prfpy/fit.py:441: RuntimeWarning: divide by zero encountered in divide\n",
      "  slopes = (n_timepoints * np.dot(vox_data, predictions.T) - sumd *\n",
      "/Users/uriel/softwares/anaconda3/envs/amblyo_env/prfpy/prfpy/fit.py:441: RuntimeWarning: invalid value encountered in divide\n",
      "  slopes = (n_timepoints * np.dot(vox_data, predictions.T) - sumd *\n",
      "/Users/uriel/softwares/anaconda3/envs/amblyo_env/prfpy/prfpy/fit.py:450: RuntimeWarning: invalid value encountered in multiply\n",
      "  slopes[..., np.newaxis] *\n",
      "/Users/uriel/softwares/anaconda3/envs/amblyo_env/prfpy/prfpy/fit.py:449: RuntimeWarning: invalid value encountered in subtract\n",
      "  resid = np.linalg.norm((vox_data -\n",
      "/Users/uriel/softwares/anaconda3/envs/amblyo_env/prfpy/prfpy/fit.py:441: RuntimeWarning: divide by zero encountered in divide\n",
      "  slopes = (n_timepoints * np.dot(vox_data, predictions.T) - sumd *\n",
      "/Users/uriel/softwares/anaconda3/envs/amblyo_env/prfpy/prfpy/fit.py:441: RuntimeWarning: invalid value encountered in divide\n",
      "  slopes = (n_timepoints * np.dot(vox_data, predictions.T) - sumd *\n",
      "/Users/uriel/softwares/anaconda3/envs/amblyo_env/prfpy/prfpy/fit.py:450: RuntimeWarning: invalid value encountered in multiply\n",
      "  slopes[..., np.newaxis] *\n",
      "/Users/uriel/softwares/anaconda3/envs/amblyo_env/prfpy/prfpy/fit.py:449: RuntimeWarning: invalid value encountered in subtract\n",
      "  resid = np.linalg.norm((vox_data -\n",
      "/Users/uriel/softwares/anaconda3/envs/amblyo_env/prfpy/prfpy/fit.py:441: RuntimeWarning: divide by zero encountered in divide\n",
      "  slopes = (n_timepoints * np.dot(vox_data, predictions.T) - sumd *\n",
      "/Users/uriel/softwares/anaconda3/envs/amblyo_env/prfpy/prfpy/fit.py:441: RuntimeWarning: invalid value encountered in divide\n",
      "  slopes = (n_timepoints * np.dot(vox_data, predictions.T) - sumd *\n",
      "/Users/uriel/softwares/anaconda3/envs/amblyo_env/prfpy/prfpy/fit.py:450: RuntimeWarning: invalid value encountered in multiply\n",
      "  slopes[..., np.newaxis] *\n",
      "/Users/uriel/softwares/anaconda3/envs/amblyo_env/prfpy/prfpy/fit.py:449: RuntimeWarning: invalid value encountered in subtract\n",
      "  resid = np.linalg.norm((vox_data -\n",
      "/Users/uriel/softwares/anaconda3/envs/amblyo_env/prfpy/prfpy/fit.py:441: RuntimeWarning: divide by zero encountered in divide\n",
      "  slopes = (n_timepoints * np.dot(vox_data, predictions.T) - sumd *\n",
      "/Users/uriel/softwares/anaconda3/envs/amblyo_env/prfpy/prfpy/fit.py:441: RuntimeWarning: invalid value encountered in divide\n",
      "  slopes = (n_timepoints * np.dot(vox_data, predictions.T) - sumd *\n",
      "/Users/uriel/softwares/anaconda3/envs/amblyo_env/prfpy/prfpy/fit.py:450: RuntimeWarning: invalid value encountered in multiply\n",
      "  slopes[..., np.newaxis] *\n",
      "/Users/uriel/softwares/anaconda3/envs/amblyo_env/prfpy/prfpy/fit.py:449: RuntimeWarning: invalid value encountered in subtract\n",
      "  resid = np.linalg.norm((vox_data -\n",
      "/Users/uriel/softwares/anaconda3/envs/amblyo_env/prfpy/prfpy/fit.py:441: RuntimeWarning: divide by zero encountered in divide\n",
      "  slopes = (n_timepoints * np.dot(vox_data, predictions.T) - sumd *\n",
      "/Users/uriel/softwares/anaconda3/envs/amblyo_env/prfpy/prfpy/fit.py:441: RuntimeWarning: invalid value encountered in divide\n",
      "  slopes = (n_timepoints * np.dot(vox_data, predictions.T) - sumd *\n",
      "/Users/uriel/softwares/anaconda3/envs/amblyo_env/prfpy/prfpy/fit.py:450: RuntimeWarning: invalid value encountered in multiply\n",
      "  slopes[..., np.newaxis] *\n",
      "/Users/uriel/softwares/anaconda3/envs/amblyo_env/prfpy/prfpy/fit.py:449: RuntimeWarning: invalid value encountered in subtract\n",
      "  resid = np.linalg.norm((vox_data -\n",
      "/Users/uriel/softwares/anaconda3/envs/amblyo_env/prfpy/prfpy/fit.py:441: RuntimeWarning: divide by zero encountered in divide\n",
      "  slopes = (n_timepoints * np.dot(vox_data, predictions.T) - sumd *\n",
      "/Users/uriel/softwares/anaconda3/envs/amblyo_env/prfpy/prfpy/fit.py:441: RuntimeWarning: invalid value encountered in divide\n",
      "  slopes = (n_timepoints * np.dot(vox_data, predictions.T) - sumd *\n",
      "/Users/uriel/softwares/anaconda3/envs/amblyo_env/prfpy/prfpy/fit.py:450: RuntimeWarning: invalid value encountered in multiply\n",
      "  slopes[..., np.newaxis] *\n",
      "/Users/uriel/softwares/anaconda3/envs/amblyo_env/prfpy/prfpy/fit.py:449: RuntimeWarning: invalid value encountered in subtract\n",
      "  resid = np.linalg.norm((vox_data -\n",
      "/Users/uriel/softwares/anaconda3/envs/amblyo_env/prfpy/prfpy/fit.py:441: RuntimeWarning: divide by zero encountered in divide\n",
      "  slopes = (n_timepoints * np.dot(vox_data, predictions.T) - sumd *\n",
      "/Users/uriel/softwares/anaconda3/envs/amblyo_env/prfpy/prfpy/fit.py:441: RuntimeWarning: invalid value encountered in divide\n",
      "  slopes = (n_timepoints * np.dot(vox_data, predictions.T) - sumd *\n",
      "/Users/uriel/softwares/anaconda3/envs/amblyo_env/prfpy/prfpy/fit.py:450: RuntimeWarning: invalid value encountered in multiply\n",
      "  slopes[..., np.newaxis] *\n",
      "/Users/uriel/softwares/anaconda3/envs/amblyo_env/prfpy/prfpy/fit.py:449: RuntimeWarning: invalid value encountered in subtract\n",
      "  resid = np.linalg.norm((vox_data -\n",
      "/Users/uriel/softwares/anaconda3/envs/amblyo_env/prfpy/prfpy/fit.py:441: RuntimeWarning: divide by zero encountered in divide\n",
      "  slopes = (n_timepoints * np.dot(vox_data, predictions.T) - sumd *\n",
      "/Users/uriel/softwares/anaconda3/envs/amblyo_env/prfpy/prfpy/fit.py:441: RuntimeWarning: invalid value encountered in divide\n",
      "  slopes = (n_timepoints * np.dot(vox_data, predictions.T) - sumd *\n",
      "/Users/uriel/softwares/anaconda3/envs/amblyo_env/prfpy/prfpy/fit.py:441: RuntimeWarning: divide by zero encountered in divide\n",
      "  slopes = (n_timepoints * np.dot(vox_data, predictions.T) - sumd *\n",
      "/Users/uriel/softwares/anaconda3/envs/amblyo_env/prfpy/prfpy/fit.py:441: RuntimeWarning: invalid value encountered in divide\n",
      "  slopes = (n_timepoints * np.dot(vox_data, predictions.T) - sumd *\n",
      "/Users/uriel/softwares/anaconda3/envs/amblyo_env/prfpy/prfpy/fit.py:450: RuntimeWarning: invalid value encountered in multiply\n",
      "  slopes[..., np.newaxis] *\n",
      "/Users/uriel/softwares/anaconda3/envs/amblyo_env/prfpy/prfpy/fit.py:450: RuntimeWarning: invalid value encountered in multiply\n",
      "  slopes[..., np.newaxis] *\n",
      "/Users/uriel/softwares/anaconda3/envs/amblyo_env/prfpy/prfpy/fit.py:449: RuntimeWarning: invalid value encountered in subtract\n",
      "  resid = np.linalg.norm((vox_data -\n",
      "/Users/uriel/softwares/anaconda3/envs/amblyo_env/prfpy/prfpy/fit.py:441: RuntimeWarning: divide by zero encountered in divide\n",
      "  slopes = (n_timepoints * np.dot(vox_data, predictions.T) - sumd *\n",
      "/Users/uriel/softwares/anaconda3/envs/amblyo_env/prfpy/prfpy/fit.py:441: RuntimeWarning: invalid value encountered in divide\n",
      "  slopes = (n_timepoints * np.dot(vox_data, predictions.T) - sumd *\n",
      "/Users/uriel/softwares/anaconda3/envs/amblyo_env/prfpy/prfpy/fit.py:450: RuntimeWarning: invalid value encountered in multiply\n",
      "  slopes[..., np.newaxis] *\n",
      "/Users/uriel/softwares/anaconda3/envs/amblyo_env/prfpy/prfpy/fit.py:449: RuntimeWarning: invalid value encountered in subtract\n",
      "  resid = np.linalg.norm((vox_data -\n",
      "/Users/uriel/softwares/anaconda3/envs/amblyo_env/prfpy/prfpy/fit.py:449: RuntimeWarning: invalid value encountered in subtract\n",
      "  resid = np.linalg.norm((vox_data -\n",
      "/Users/uriel/softwares/anaconda3/envs/amblyo_env/prfpy/prfpy/fit.py:441: RuntimeWarning: divide by zero encountered in divide\n",
      "  slopes = (n_timepoints * np.dot(vox_data, predictions.T) - sumd *\n",
      "/Users/uriel/softwares/anaconda3/envs/amblyo_env/prfpy/prfpy/fit.py:441: RuntimeWarning: invalid value encountered in divide\n",
      "  slopes = (n_timepoints * np.dot(vox_data, predictions.T) - sumd *\n",
      "/Users/uriel/softwares/anaconda3/envs/amblyo_env/prfpy/prfpy/fit.py:450: RuntimeWarning: invalid value encountered in multiply\n",
      "  slopes[..., np.newaxis] *\n",
      "/Users/uriel/softwares/anaconda3/envs/amblyo_env/prfpy/prfpy/fit.py:449: RuntimeWarning: invalid value encountered in subtract\n",
      "  resid = np.linalg.norm((vox_data -\n",
      "/Users/uriel/softwares/anaconda3/envs/amblyo_env/prfpy/prfpy/fit.py:441: RuntimeWarning: divide by zero encountered in divide\n",
      "  slopes = (n_timepoints * np.dot(vox_data, predictions.T) - sumd *\n",
      "/Users/uriel/softwares/anaconda3/envs/amblyo_env/prfpy/prfpy/fit.py:441: RuntimeWarning: invalid value encountered in divide\n",
      "  slopes = (n_timepoints * np.dot(vox_data, predictions.T) - sumd *\n",
      "/Users/uriel/softwares/anaconda3/envs/amblyo_env/prfpy/prfpy/fit.py:450: RuntimeWarning: invalid value encountered in multiply\n",
      "  slopes[..., np.newaxis] *\n",
      "/Users/uriel/softwares/anaconda3/envs/amblyo_env/prfpy/prfpy/fit.py:441: RuntimeWarning: divide by zero encountered in divide\n",
      "  slopes = (n_timepoints * np.dot(vox_data, predictions.T) - sumd *\n",
      "/Users/uriel/softwares/anaconda3/envs/amblyo_env/prfpy/prfpy/fit.py:441: RuntimeWarning: invalid value encountered in divide\n",
      "  slopes = (n_timepoints * np.dot(vox_data, predictions.T) - sumd *\n",
      "/Users/uriel/softwares/anaconda3/envs/amblyo_env/prfpy/prfpy/fit.py:450: RuntimeWarning: invalid value encountered in multiply\n",
      "  slopes[..., np.newaxis] *\n",
      "/Users/uriel/softwares/anaconda3/envs/amblyo_env/prfpy/prfpy/fit.py:449: RuntimeWarning: invalid value encountered in subtract\n",
      "  resid = np.linalg.norm((vox_data -\n",
      "/Users/uriel/softwares/anaconda3/envs/amblyo_env/prfpy/prfpy/fit.py:449: RuntimeWarning: invalid value encountered in subtract\n",
      "  resid = np.linalg.norm((vox_data -\n"
     ]
    },
    {
     "ename": "KeyboardInterrupt",
     "evalue": "",
     "output_type": "error",
     "traceback": [
      "\u001b[0;31m---------------------------------------------------------------------------\u001b[0m",
      "\u001b[0;31mKeyboardInterrupt\u001b[0m                         Traceback (most recent call last)",
      "\u001b[0;32m/var/folders/23/5sgzmvyd5z19_rg8xcncjs1c0000gn/T/ipykernel_28950/2307833859.py\u001b[0m in \u001b[0;36m<module>\u001b[0;34m\u001b[0m\n\u001b[1;32m     12\u001b[0m \u001b[0;34m\u001b[0m\u001b[0m\n\u001b[1;32m     13\u001b[0m \u001b[0;34m\u001b[0m\u001b[0m\n\u001b[0;32m---> 14\u001b[0;31m gauss_fitter.grid_fit(ecc_grid=eccs, \n\u001b[0m\u001b[1;32m     15\u001b[0m                       \u001b[0mpolar_grid\u001b[0m\u001b[0;34m=\u001b[0m\u001b[0mpolars\u001b[0m\u001b[0;34m,\u001b[0m\u001b[0;34m\u001b[0m\u001b[0;34m\u001b[0m\u001b[0m\n\u001b[1;32m     16\u001b[0m                       \u001b[0msize_grid\u001b[0m\u001b[0;34m=\u001b[0m\u001b[0msizes\u001b[0m\u001b[0;34m,\u001b[0m\u001b[0;34m\u001b[0m\u001b[0;34m\u001b[0m\u001b[0m\n",
      "\u001b[0;32m~/softwares/anaconda3/envs/amblyo_env/prfpy/prfpy/fit.py\u001b[0m in \u001b[0;36mgrid_fit\u001b[0;34m(self, ecc_grid, polar_grid, size_grid, verbose, n_batches, fixed_grid_baseline, grid_bounds, hrf_1_grid, hrf_2_grid)\u001b[0m\n\u001b[1;32m    483\u001b[0m \u001b[0;34m\u001b[0m\u001b[0m\n\u001b[1;32m    484\u001b[0m         \u001b[0;31m# perform grid fit\u001b[0m\u001b[0;34m\u001b[0m\u001b[0;34m\u001b[0m\u001b[0m\n\u001b[0;32m--> 485\u001b[0;31m         grid_search_rbs = Parallel(self.n_jobs, verbose=verbose)(\n\u001b[0m\u001b[1;32m    486\u001b[0m             delayed(rsq_betas_for_batch)(\n\u001b[1;32m    487\u001b[0m                 \u001b[0mdata\u001b[0m\u001b[0;34m=\u001b[0m\u001b[0mdata\u001b[0m\u001b[0;34m,\u001b[0m\u001b[0;34m\u001b[0m\u001b[0;34m\u001b[0m\u001b[0m\n",
      "\u001b[0;32m~/softwares/anaconda3/envs/amblyo_env/lib/python3.9/site-packages/joblib/parallel.py\u001b[0m in \u001b[0;36m__call__\u001b[0;34m(self, iterable)\u001b[0m\n\u001b[1;32m   1096\u001b[0m \u001b[0;34m\u001b[0m\u001b[0m\n\u001b[1;32m   1097\u001b[0m             \u001b[0;32mwith\u001b[0m \u001b[0mself\u001b[0m\u001b[0;34m.\u001b[0m\u001b[0m_backend\u001b[0m\u001b[0;34m.\u001b[0m\u001b[0mretrieval_context\u001b[0m\u001b[0;34m(\u001b[0m\u001b[0;34m)\u001b[0m\u001b[0;34m:\u001b[0m\u001b[0;34m\u001b[0m\u001b[0;34m\u001b[0m\u001b[0m\n\u001b[0;32m-> 1098\u001b[0;31m                 \u001b[0mself\u001b[0m\u001b[0;34m.\u001b[0m\u001b[0mretrieve\u001b[0m\u001b[0;34m(\u001b[0m\u001b[0;34m)\u001b[0m\u001b[0;34m\u001b[0m\u001b[0;34m\u001b[0m\u001b[0m\n\u001b[0m\u001b[1;32m   1099\u001b[0m             \u001b[0;31m# Make sure that we get a last message telling us we are done\u001b[0m\u001b[0;34m\u001b[0m\u001b[0;34m\u001b[0m\u001b[0m\n\u001b[1;32m   1100\u001b[0m             \u001b[0melapsed_time\u001b[0m \u001b[0;34m=\u001b[0m \u001b[0mtime\u001b[0m\u001b[0;34m.\u001b[0m\u001b[0mtime\u001b[0m\u001b[0;34m(\u001b[0m\u001b[0;34m)\u001b[0m \u001b[0;34m-\u001b[0m \u001b[0mself\u001b[0m\u001b[0;34m.\u001b[0m\u001b[0m_start_time\u001b[0m\u001b[0;34m\u001b[0m\u001b[0;34m\u001b[0m\u001b[0m\n",
      "\u001b[0;32m~/softwares/anaconda3/envs/amblyo_env/lib/python3.9/site-packages/joblib/parallel.py\u001b[0m in \u001b[0;36mretrieve\u001b[0;34m(self)\u001b[0m\n\u001b[1;32m    973\u001b[0m             \u001b[0;32mtry\u001b[0m\u001b[0;34m:\u001b[0m\u001b[0;34m\u001b[0m\u001b[0;34m\u001b[0m\u001b[0m\n\u001b[1;32m    974\u001b[0m                 \u001b[0;32mif\u001b[0m \u001b[0mgetattr\u001b[0m\u001b[0;34m(\u001b[0m\u001b[0mself\u001b[0m\u001b[0;34m.\u001b[0m\u001b[0m_backend\u001b[0m\u001b[0;34m,\u001b[0m \u001b[0;34m'supports_timeout'\u001b[0m\u001b[0;34m,\u001b[0m \u001b[0;32mFalse\u001b[0m\u001b[0;34m)\u001b[0m\u001b[0;34m:\u001b[0m\u001b[0;34m\u001b[0m\u001b[0;34m\u001b[0m\u001b[0m\n\u001b[0;32m--> 975\u001b[0;31m                     \u001b[0mself\u001b[0m\u001b[0;34m.\u001b[0m\u001b[0m_output\u001b[0m\u001b[0;34m.\u001b[0m\u001b[0mextend\u001b[0m\u001b[0;34m(\u001b[0m\u001b[0mjob\u001b[0m\u001b[0;34m.\u001b[0m\u001b[0mget\u001b[0m\u001b[0;34m(\u001b[0m\u001b[0mtimeout\u001b[0m\u001b[0;34m=\u001b[0m\u001b[0mself\u001b[0m\u001b[0;34m.\u001b[0m\u001b[0mtimeout\u001b[0m\u001b[0;34m)\u001b[0m\u001b[0;34m)\u001b[0m\u001b[0;34m\u001b[0m\u001b[0;34m\u001b[0m\u001b[0m\n\u001b[0m\u001b[1;32m    976\u001b[0m                 \u001b[0;32melse\u001b[0m\u001b[0;34m:\u001b[0m\u001b[0;34m\u001b[0m\u001b[0;34m\u001b[0m\u001b[0m\n\u001b[1;32m    977\u001b[0m                     \u001b[0mself\u001b[0m\u001b[0;34m.\u001b[0m\u001b[0m_output\u001b[0m\u001b[0;34m.\u001b[0m\u001b[0mextend\u001b[0m\u001b[0;34m(\u001b[0m\u001b[0mjob\u001b[0m\u001b[0;34m.\u001b[0m\u001b[0mget\u001b[0m\u001b[0;34m(\u001b[0m\u001b[0;34m)\u001b[0m\u001b[0;34m)\u001b[0m\u001b[0;34m\u001b[0m\u001b[0;34m\u001b[0m\u001b[0m\n",
      "\u001b[0;32m~/softwares/anaconda3/envs/amblyo_env/lib/python3.9/site-packages/joblib/_parallel_backends.py\u001b[0m in \u001b[0;36mwrap_future_result\u001b[0;34m(future, timeout)\u001b[0m\n\u001b[1;32m    565\u001b[0m         AsyncResults.get from multiprocessing.\"\"\"\n\u001b[1;32m    566\u001b[0m         \u001b[0;32mtry\u001b[0m\u001b[0;34m:\u001b[0m\u001b[0;34m\u001b[0m\u001b[0;34m\u001b[0m\u001b[0m\n\u001b[0;32m--> 567\u001b[0;31m             \u001b[0;32mreturn\u001b[0m \u001b[0mfuture\u001b[0m\u001b[0;34m.\u001b[0m\u001b[0mresult\u001b[0m\u001b[0;34m(\u001b[0m\u001b[0mtimeout\u001b[0m\u001b[0;34m=\u001b[0m\u001b[0mtimeout\u001b[0m\u001b[0;34m)\u001b[0m\u001b[0;34m\u001b[0m\u001b[0;34m\u001b[0m\u001b[0m\n\u001b[0m\u001b[1;32m    568\u001b[0m         \u001b[0;32mexcept\u001b[0m \u001b[0mCfTimeoutError\u001b[0m \u001b[0;32mas\u001b[0m \u001b[0me\u001b[0m\u001b[0;34m:\u001b[0m\u001b[0;34m\u001b[0m\u001b[0;34m\u001b[0m\u001b[0m\n\u001b[1;32m    569\u001b[0m             \u001b[0;32mraise\u001b[0m \u001b[0mTimeoutError\u001b[0m \u001b[0;32mfrom\u001b[0m \u001b[0me\u001b[0m\u001b[0;34m\u001b[0m\u001b[0;34m\u001b[0m\u001b[0m\n",
      "\u001b[0;32m~/softwares/anaconda3/envs/amblyo_env/lib/python3.9/concurrent/futures/_base.py\u001b[0m in \u001b[0;36mresult\u001b[0;34m(self, timeout)\u001b[0m\n\u001b[1;32m    439\u001b[0m                     \u001b[0;32mreturn\u001b[0m \u001b[0mself\u001b[0m\u001b[0;34m.\u001b[0m\u001b[0m__get_result\u001b[0m\u001b[0;34m(\u001b[0m\u001b[0;34m)\u001b[0m\u001b[0;34m\u001b[0m\u001b[0;34m\u001b[0m\u001b[0m\n\u001b[1;32m    440\u001b[0m \u001b[0;34m\u001b[0m\u001b[0m\n\u001b[0;32m--> 441\u001b[0;31m                 \u001b[0mself\u001b[0m\u001b[0;34m.\u001b[0m\u001b[0m_condition\u001b[0m\u001b[0;34m.\u001b[0m\u001b[0mwait\u001b[0m\u001b[0;34m(\u001b[0m\u001b[0mtimeout\u001b[0m\u001b[0;34m)\u001b[0m\u001b[0;34m\u001b[0m\u001b[0;34m\u001b[0m\u001b[0m\n\u001b[0m\u001b[1;32m    442\u001b[0m \u001b[0;34m\u001b[0m\u001b[0m\n\u001b[1;32m    443\u001b[0m                 \u001b[0;32mif\u001b[0m \u001b[0mself\u001b[0m\u001b[0;34m.\u001b[0m\u001b[0m_state\u001b[0m \u001b[0;32min\u001b[0m \u001b[0;34m[\u001b[0m\u001b[0mCANCELLED\u001b[0m\u001b[0;34m,\u001b[0m \u001b[0mCANCELLED_AND_NOTIFIED\u001b[0m\u001b[0;34m]\u001b[0m\u001b[0;34m:\u001b[0m\u001b[0;34m\u001b[0m\u001b[0;34m\u001b[0m\u001b[0m\n",
      "\u001b[0;32m~/softwares/anaconda3/envs/amblyo_env/lib/python3.9/threading.py\u001b[0m in \u001b[0;36mwait\u001b[0;34m(self, timeout)\u001b[0m\n\u001b[1;32m    310\u001b[0m         \u001b[0;32mtry\u001b[0m\u001b[0;34m:\u001b[0m    \u001b[0;31m# restore state no matter what (e.g., KeyboardInterrupt)\u001b[0m\u001b[0;34m\u001b[0m\u001b[0;34m\u001b[0m\u001b[0m\n\u001b[1;32m    311\u001b[0m             \u001b[0;32mif\u001b[0m \u001b[0mtimeout\u001b[0m \u001b[0;32mis\u001b[0m \u001b[0;32mNone\u001b[0m\u001b[0;34m:\u001b[0m\u001b[0;34m\u001b[0m\u001b[0;34m\u001b[0m\u001b[0m\n\u001b[0;32m--> 312\u001b[0;31m                 \u001b[0mwaiter\u001b[0m\u001b[0;34m.\u001b[0m\u001b[0macquire\u001b[0m\u001b[0;34m(\u001b[0m\u001b[0;34m)\u001b[0m\u001b[0;34m\u001b[0m\u001b[0;34m\u001b[0m\u001b[0m\n\u001b[0m\u001b[1;32m    313\u001b[0m                 \u001b[0mgotit\u001b[0m \u001b[0;34m=\u001b[0m \u001b[0;32mTrue\u001b[0m\u001b[0;34m\u001b[0m\u001b[0;34m\u001b[0m\u001b[0m\n\u001b[1;32m    314\u001b[0m             \u001b[0;32melse\u001b[0m\u001b[0;34m:\u001b[0m\u001b[0;34m\u001b[0m\u001b[0;34m\u001b[0m\u001b[0m\n",
      "\u001b[0;31mKeyboardInterrupt\u001b[0m: "
     ]
    }
   ],
   "source": [
    "# determine gauss model\n",
    "stimulus = PRFStimulus2D(screen_size_cm=screen_size_cm[1], \n",
    "                         screen_distance_cm=screen_distance_cm,\n",
    "                         design_matrix=vdm, \n",
    "                         TR=TR)\n",
    "gauss_model = Iso2DGaussianModel(stimulus=stimulus,\n",
    "                                 # normalize_hrf=True\n",
    "                                )\n",
    "\n",
    "# grid fit gauss model\n",
    "gauss_fitter = Iso2DGaussianFitter(data=data_fsnative_.T, model=gauss_model, n_jobs=n_jobs)\n",
    "\n",
    "\n",
    "gauss_fitter.grid_fit(ecc_grid=eccs, \n",
    "                      polar_grid=polars, \n",
    "                      size_grid=sizes, \n",
    "                      #grid_bounds=gauss_grid_bounds,\n",
    "                      verbose=verbose, \n",
    "                      n_batches=n_batches)\n"
   ]
  },
  {
   "cell_type": "code",
   "execution_count": null,
   "id": "3cdb43de-71b5-4be5-88cc-5df06bd0a9b2",
   "metadata": {},
   "outputs": [],
   "source": [
    "# rearange result of Gauss model \n",
    "gauss_fit = gauss_fitter.gridsearch_params\n",
    "gauss_fit_mat = np.zeros((raw_data_fsnative.shape[1],gauss_params_num))\n",
    "gauss_pred_mat = np.zeros_like(raw_data_fsnative) \n",
    "\n",
    "for est,vert in enumerate(valid_vertices):\n",
    "    gauss_fit_mat[vert] = gauss_fit[est]\n",
    "    gauss_pred_mat[:,vert] = gauss_model.return_prediction(mu_x=gauss_fit[est][0], \n",
    "                                                          mu_y=gauss_fit[est][1], \n",
    "                                                          size=gauss_fit[est][2], \n",
    "                                                          beta=gauss_fit[est][3], \n",
    "                                                          baseline=gauss_fit[est][4],\n",
    "                                                          hrf_1=gauss_fit[est][5],\n",
    "                                                          hrf_2=gauss_fit[est][6])\n",
    "\n",
    "gauss_fit_mat = np.where(gauss_fit_mat == 0, np.nan, gauss_fit_mat)\n",
    "gauss_pred_mat = np.where(gauss_pred_mat == 0, np.nan, gauss_pred_mat)"
   ]
  },
  {
   "cell_type": "code",
   "execution_count": 85,
   "id": "de90f648-8a23-44e8-ae16-02097e1ed1f8",
   "metadata": {},
   "outputs": [
    {
     "name": "stderr",
     "output_type": "stream",
     "text": [
      "/home/mszinte/env/anaconda3/envs/mszinte/lib/python3.9/site-packages/nilearn/glm/__init__.py:55: FutureWarning: The nilearn.glm module is experimental. It may change in any future release of Nilearn.\n",
      "  warn('The nilearn.glm module is experimental. '\n",
      "/home/mszinte/env/anaconda3/envs/mszinte/lib/python3.9/site-packages/nilearn/glm/__init__.py:55: FutureWarning: The nilearn.glm module is experimental. It may change in any future release of Nilearn.\n",
      "  warn('The nilearn.glm module is experimental. '\n",
      "/home/mszinte/env/anaconda3/envs/mszinte/lib/python3.9/site-packages/nilearn/glm/__init__.py:55: FutureWarning: The nilearn.glm module is experimental. It may change in any future release of Nilearn.\n",
      "  warn('The nilearn.glm module is experimental. '\n",
      "/home/mszinte/env/anaconda3/envs/mszinte/lib/python3.9/site-packages/nilearn/glm/__init__.py:55: FutureWarning: The nilearn.glm module is experimental. It may change in any future release of Nilearn.\n",
      "  warn('The nilearn.glm module is experimental. '\n",
      "/home/mszinte/env/anaconda3/envs/mszinte/lib/python3.9/site-packages/nilearn/glm/__init__.py:55: FutureWarning: The nilearn.glm module is experimental. It may change in any future release of Nilearn.\n",
      "  warn('The nilearn.glm module is experimental. '\n",
      "/home/mszinte/env/anaconda3/envs/mszinte/lib/python3.9/site-packages/nilearn/glm/__init__.py:55: FutureWarning: The nilearn.glm module is experimental. It may change in any future release of Nilearn.\n",
      "  warn('The nilearn.glm module is experimental. '\n"
     ]
    }
   ],
   "source": [
    "# iterative fit\n",
    "gauss_fitter.iterative_fit(rsq_threshold=rsq_threshold, \n",
    "                           verbose=verbose,\n",
    "                           #bounds = gauss_bounds,\n",
    "                           xtol=1e-4,\n",
    "                           ftol=1e-4)\n",
    "gauss_fit = gauss_fitter.iterative_search_params\n",
    "\n",
    "gauss_fit_mat = np.zeros((data_fsnative_.shape[1],8))\n",
    "gauss_pred_mat = np.zeros_like(data_fsnative_) \n",
    "for est in range(len(data_fsnative_.T)):\n",
    "    gauss_fit_mat[est] = gauss_fit[est]\n",
    "    gauss_pred_mat[:,est] = gauss_model.return_prediction(mu_x=gauss_fit[est][0], \n",
    "                                                          mu_y=gauss_fit[est][1], \n",
    "                                                          size=gauss_fit[est][2], \n",
    "                                                          beta=gauss_fit[est][3], \n",
    "                                                          baseline=gauss_fit[est][4],\n",
    "                                                          hrf_1=gauss_fit[est][5],\n",
    "                                                          hrf_2=gauss_fit[est][6]\n",
    "                                                         )\n"
   ]
  },
  {
   "cell_type": "code",
   "execution_count": 82,
   "id": "92cdc0c1-24e2-443b-b85a-6e84dfe3ec02",
   "metadata": {
    "scrolled": true
   },
   "outputs": [],
   "source": [
    "gauss_bounds = [(-1.5*max_ecc_size, 1.5*max_ecc_size),  # x\n",
    "                (-1.5*max_ecc_size, 1.5*max_ecc_size),  # y\n",
    "                (0, 1.5*max_ecc_size),  # prf size\n",
    "                (0, 1000),  # prf amplitude\n",
    "                (-4, 4),  # bold baseline\n",
    "                (0, None), (0, None)]  #hrf bounds\n",
    "\n",
    "# iterative fit\n",
    "gauss_fitter.iterative_fit(rsq_threshold=rsq_threshold, \n",
    "                           verbose=verbose,\n",
    "                           bounds = gauss_bounds,\n",
    "                           xtol=1e-4,\n",
    "                           ftol=1e-4)\n",
    "gauss_fit2 = gauss_fitter.iterative_search_params\n",
    "gauss_fit_mat2 = np.zeros((data_fsnative_.shape[1],8))\n",
    "gauss_pred_mat2 = np.zeros_like(data_fsnative_) \n",
    "for est in range(len(data_fsnative_.T)):\n",
    "    gauss_fit_mat2[est] = gauss_fit2[est]\n",
    "    gauss_pred_mat2[:,est] = gauss_model.return_prediction(mu_x=gauss_fit2[est][0], \n",
    "                                                           mu_y=gauss_fit2[est][1], \n",
    "                                                           size=gauss_fit2[est][2], \n",
    "                                                           beta=gauss_fit2[est][3], \n",
    "                                                           baseline=gauss_fit2[est][4],\n",
    "                                                           hrf_1=gauss_fit2[est][5],\n",
    "                                                           hrf_2=gauss_fit2[est][6]\n",
    "                                                          )"
   ]
  },
  {
   "cell_type": "code",
   "execution_count": 89,
   "id": "0d3484de-2687-4c3f-90d4-ae09e9bb73fb",
   "metadata": {},
   "outputs": [
    {
     "data": {
      "application/vnd.plotly.v1+json": {
       "config": {
        "plotlyServerURL": "https://plot.ly"
       },
       "data": [
        {
         "mode": "markers",
         "name": "data",
         "type": "scatter",
         "y": [
          -0.46628645062446594,
          -0.3999118506908417,
          -0.3991197943687439,
          -0.8573865294456482,
          -0.26823073625564575,
          -0.1627385914325714,
          -0.6361043453216553,
          -0.2657290995121002,
          -0.5077419877052307,
          0.076142318546772,
          -0.23501107096672058,
          -0.029590629041194916,
          -0.4200827181339264,
          -0.09784050285816193,
          -0.18447762727737427,
          -0.545456051826477,
          -0.4482457637786865,
          0.03194960951805115,
          -0.02269771136343479,
          -0.4555072784423828,
          0.04373297095298767,
          -0.1337515115737915,
          -0.32082855701446533,
          -0.059355948120355606,
          0.07582664489746094,
          -0.03268972784280777,
          0.2757214903831482,
          0.6203640699386597,
          0.4231453835964203,
          0.9866095781326294,
          0.8036285042762756,
          1.0354830026626587,
          1.5283628702163696,
          1.3536128997802734,
          1.4488452672958374,
          1.2526559829711914,
          1.3396334648132324,
          1.5603629350662231,
          1.3517354726791382,
          0.9184078574180603,
          0.8552902340888977,
          0.16156962513923645,
          0.1242930069565773,
          0.028367429971694946,
          -0.9112344980239868,
          -1.0329035520553589,
          -0.03701867163181305,
          -0.4693510830402374,
          -0.22452247142791748,
          -0.2824540436267853,
          -0.7881773710250854,
          -0.24013610184192657,
          -0.42941412329673767,
          -0.9981496930122375,
          -0.2455676943063736,
          -0.16127198934555054,
          -0.6078057885169983,
          -0.17111407220363617,
          0.563632071018219,
          -0.9129988551139832,
          -0.6821330189704895,
          0.2773660719394684,
          -0.6072461605072021,
          -0.675662636756897,
          -0.029450977221131325,
          -0.8967392444610596,
          -0.7195623517036438,
          -0.4605376124382019,
          -0.9773475527763367,
          -0.3026810884475708,
          -0.49836042523384094,
          -0.7097224593162537,
          -0.807296633720398,
          -0.6328802108764648,
          -0.5252379179000854,
          -0.890081524848938,
          -0.3943910300731659,
          -0.46758967638015747,
          -0.22183139622211456,
          -0.20876449346542358,
          -0.31893420219421387,
          0.25230637192726135,
          -0.07318896800279617,
          -0.22506046295166016,
          0.2385435551404953,
          -0.08879852294921875,
          -0.11152864247560501,
          -0.23897592723369598,
          0.21166647970676422,
          0.9552539587020874,
          0.6191490888595581,
          1.9802842140197754,
          2.1988022327423096,
          1.5870360136032104,
          2.533406972885132,
          1.6625475883483887,
          1.4207855463027954,
          2.0850231647491455,
          0.7682477235794067,
          0.5806468725204468,
          1.5378062725067139,
          -0.2251667082309723,
          -0.23186928033828735,
          0.2058342695236206,
          -1.041218638420105,
          -0.6210776567459106,
          -0.1004740297794342,
          -0.7650716304779053,
          -0.6696115732192993,
          0.20315973460674286,
          -1.1707488298416138,
          -0.7229003310203552,
          0.25762706995010376,
          -0.9784564971923828,
          -0.517099142074585,
          -0.44991248846054077,
          -1.042592167854309,
          -0.677906334400177,
          -0.6811428070068359,
          -0.9456957578659058,
          -0.09917367994785309,
          -0.6733994483947754,
          -0.8728137612342834,
          -0.2413674294948578,
          -0.535417914390564,
          -0.3324810564517975,
          0.13570505380630493,
          -0.04654522240161896,
          0.5611869096755981,
          0.18492022156715393,
          0.08930293470621109,
          0.6098423004150391,
          0.1550493836402893,
          0.14644750952720642,
          0.5261797308921814,
          0.01457644160836935,
          0.856430172920227,
          0.58665531873703,
          0.25736117362976074,
          1.116662621498108,
          0.013451311737298965,
          0.14440762996673584,
          -0.1317417174577713,
          -0.4736291170120239,
          0.02565174549818039,
          -0.23758713901042938,
          0.06859355419874191,
          0.8522951602935791,
          0.18415795266628265,
          -0.6131433248519897,
          -0.7683715224266052,
          -0.25518542528152466,
          -0.565893828868866,
          -1.0847607851028442,
          -0.7919835448265076,
          -0.3628041446208954,
          -0.7681311964988708,
          -0.7654743194580078,
          -0.2539704740047455,
          -1.1512296199798584,
          -0.8912054300308228,
          -0.8805222511291504,
          -0.6827316284179688,
          -0.3886902928352356,
          -0.007583148777484894,
          -0.2037220150232315,
          0.2456342577934265,
          0.39946362376213074,
          0.5640573501586914,
          0.7232057452201843,
          0.8224208950996399,
          1.5386865139007568,
          1.4751819372177124,
          1.2283508777618408,
          1.8705419301986694,
          1.4060791730880737,
          1.4777377843856812,
          1.6803518533706665,
          0.829564094543457,
          0.5531759262084961,
          0.028571736067533493,
          -0.2166322022676468,
          0.03542432188987732,
          -0.43392235040664673,
          0.01518891379237175,
          -0.563188910484314,
          -0.13469770550727844,
          0.1067449077963829,
          -0.633946418762207,
          0.08635466545820236,
          -0.3198612332344055,
          0.31265974044799805,
          -0.004660461097955704,
          -0.0021029955241829157,
          0.45219913125038147,
          -0.18587347865104675,
          -0.7306390404701233,
          -0.33799368143081665,
          -0.47076988220214844,
          -0.4388037919998169,
          -0.5814041495323181,
          -0.32107388973236084,
          0.11644595116376877,
          -0.9595583081245422,
          -0.69288170337677,
          -0.0885150283575058,
          -0.6311326622962952,
          -0.03709323704242706
         ]
        },
        {
         "name": "Gauss model (R2=0.70)",
         "type": "scatter",
         "y": [
          -0.3978143632411957,
          -0.39783647656440735,
          -0.39784958958625793,
          -0.39785709977149963,
          -0.3978612720966339,
          -0.3978635370731354,
          -0.3978647291660309,
          -0.397865355014801,
          -0.3978656530380249,
          -0.39786580204963684,
          -0.397865891456604,
          -0.3978659212589264,
          -0.3978659212589264,
          -0.3978659212589264,
          -0.3978659212589264,
          -0.3978659212589264,
          -0.3978659510612488,
          -0.3978659510612488,
          -0.3978659510612488,
          -0.39659807085990906,
          -0.3856758773326874,
          -0.3552216589450836,
          -0.3012181222438812,
          -0.22187785804271698,
          -0.10871223360300064,
          0.04025818780064583,
          0.19371728599071503,
          0.3326418399810791,
          0.4690574109554291,
          0.61702960729599,
          0.7756404876708984,
          0.9305754899978638,
          1.0617127418518066,
          1.1495108604431152,
          1.1857935190200806,
          1.202638030052185,
          1.2046228647232056,
          1.1423649787902832,
          0.9916123151779175,
          0.7760843634605408,
          0.533643364906311,
          0.2943294644355774,
          0.07703375071287155,
          -0.1075742244720459,
          -0.25397494435310364,
          -0.35872942209243774,
          -0.4251241981983185,
          -0.4625822901725769,
          -0.48055243492126465,
          -0.48566049337387085,
          -0.48227575421333313,
          -0.4736812114715576,
          -0.4625343084335327,
          -0.4507753849029541,
          -0.439637154340744,
          -0.4298121929168701,
          -0.4216005504131317,
          -0.4150296449661255,
          -0.4099615216255188,
          -0.40617725253105164,
          -0.40343502163887024,
          -0.40150436758995056,
          -0.4001832604408264,
          -0.39930465817451477,
          -0.3987366855144501,
          -0.398379385471344,
          -0.3981611728668213,
          -0.39803120493888855,
          -0.39795175194740295,
          -0.39789319038391113,
          -0.3978267312049866,
          -0.3977097272872925,
          -0.3974582552909851,
          -0.39695948362350464,
          -0.39623725414276123,
          -0.39514675736427307,
          -0.39311283826828003,
          -0.3891221284866333,
          -0.38164010643959045,
          -0.3684160113334656,
          -0.3462870419025421,
          -0.31123819947242737,
          -0.2581769526004791,
          -0.17653682827949524,
          -0.061097364872694016,
          0.06452671438455582,
          0.18711616098880768,
          0.31935805082321167,
          0.47465965151786804,
          0.6527243256568909,
          0.840441882610321,
          1.0176986455917358,
          1.1682380437850952,
          1.3061769008636475,
          1.4377129077911377,
          1.5243735313415527,
          1.5016310214996338,
          1.3525340557098389,
          1.1132607460021973,
          0.815716564655304,
          0.4690074324607849,
          0.11321008950471878,
          -0.1904744803905487,
          -0.4070771336555481,
          -0.5364584922790527,
          -0.5971686840057373,
          -0.611220121383667,
          -0.5971063375473022,
          -0.5684278011322021,
          -0.534544825553894,
          -0.501474916934967,
          -0.4726260006427765,
          -0.4494370222091675,
          -0.43199464678764343,
          -0.4195992648601532,
          -0.41119956970214844,
          -0.405593603849411,
          -0.40162011981010437,
          -0.3982390761375427,
          -0.3943607807159424,
          -0.3884696960449219,
          -0.37857890129089355,
          -0.3632661998271942,
          -0.34427404403686523,
          -0.32075801491737366,
          -0.28672993183135986,
          -0.23463746905326843,
          -0.15804608166217804,
          -0.05260476842522621,
          0.08317831158638,
          0.2503514885902405,
          0.4647310674190521,
          0.7197980284690857,
          0.9464383721351624,
          1.0993773937225342,
          1.1887624263763428,
          1.233971118927002,
          1.2394274473190308,
          1.1991612911224365,
          1.107827067375183,
          0.9670085310935974,
          0.7903454303741455,
          0.6161213517189026,
          0.460210919380188,
          0.3049161434173584,
          0.1405627727508545,
          -0.0228667464107275,
          -0.17193537950515747,
          -0.2998602092266083,
          -0.40022534132003784,
          -0.4678311347961426,
          -0.5039867758750916,
          -0.515489399433136,
          -0.5107201337814331,
          -0.496938556432724,
          -0.47941336035728455,
          -0.4615645706653595,
          -0.4453883767127991,
          -0.4318562150001526,
          -0.4212341606616974,
          -0.41334104537963867,
          -0.4077564477920532,
          -0.40397822856903076,
          -0.3945975601673126,
          -0.33504533767700195,
          -0.1845911592245102,
          0.04662490636110306,
          0.32355576753616333,
          0.6383242607116699,
          0.976260244846344,
          1.2804927825927734,
          1.478744626045227,
          1.5516971349716187,
          1.5284526348114014,
          1.4396952390670776,
          1.301051378250122,
          1.1201727390289307,
          0.9057562351226807,
          0.6739615797996521,
          0.46072742342948914,
          0.2810474932193756,
          0.11983373016119003,
          -0.03244203329086304,
          -0.170469731092453,
          -0.28550538420677185,
          -0.372852623462677,
          -0.43280136585235596,
          -0.46890580654144287,
          -0.48613595962524414,
          -0.4896255135536194,
          -0.48392799496650696,
          -0.4729747474193573,
          -0.45992550253868103,
          -0.44693711400032043,
          -0.4352434277534485,
          -0.42540615797042847,
          -0.41755279898643494,
          -0.4115515947341919,
          -0.4071369171142578,
          -0.4039980173110962,
          -0.40183332562446594,
          -0.4003809690475464,
          -0.39942991733551025,
          -0.3988208770751953,
          -0.3984387516975403,
          -0.3982035219669342,
          -0.3980614244937897,
          -0.3979771137237549
         ]
        },
        {
         "name": "Gauss bound model (R2=0.65)",
         "type": "scatter",
         "y": [
          -0.35768723487854004,
          -0.3577007055282593,
          -0.35770827531814575,
          -0.35771241784095764,
          -0.35771459341049194,
          -0.3577157258987427,
          -0.35771629214286804,
          -0.35771656036376953,
          -0.35771670937538147,
          -0.35771676898002625,
          -0.35771679878234863,
          -0.35771679878234863,
          -0.35771679878234863,
          -0.35771679878234863,
          -0.35771679878234863,
          -0.35771676898002625,
          -0.35771676898002625,
          -0.35771676898002625,
          -0.35771676898002625,
          -0.35695189237594604,
          -0.3526182472705841,
          -0.34231293201446533,
          -0.3239801824092865,
          -0.2934197187423706,
          -0.24279126524925232,
          -0.1739770919084549,
          -0.10571582615375519,
          -0.02897893823683262,
          0.0752955749630928,
          0.21577943861484528,
          0.388899564743042,
          0.5822921395301819,
          0.7776787877082825,
          0.952869176864624,
          1.107310175895691,
          1.2792232036590576,
          1.406935453414917,
          1.3925976753234863,
          1.2502108812332153,
          1.0367525815963745,
          0.792628824710846,
          0.5409180521965027,
          0.2981189787387848,
          0.07843291759490967,
          -0.10340876132249832,
          -0.23324646055698395,
          -0.31990864872932434,
          -0.3785015642642975,
          -0.4174247682094574,
          -0.4397122859954834,
          -0.44793805480003357,
          -0.4458620548248291,
          -0.4375148415565491,
          -0.42592599987983704,
          -0.4133002460002899,
          -0.40118807554244995,
          -0.3905050456523895,
          -0.38164183497428894,
          -0.3746350109577179,
          -0.3693196177482605,
          -0.36543673276901245,
          -0.3627009093761444,
          -0.36083999276161194,
          -0.3596172332763672,
          -0.3588404655456543,
          -0.35836276412010193,
          -0.3580782115459442,
          -0.35791346430778503,
          -0.35781851410865784,
          -0.35775938630104065,
          -0.35770851373672485,
          -0.357631117105484,
          -0.3574627935886383,
          -0.35715705156326294,
          -0.3567463457584381,
          -0.355984091758728,
          -0.3543083071708679,
          -0.35078856348991394,
          -0.3439100682735443,
          -0.3312884271144867,
          -0.3094162046909332,
          -0.27403050661087036,
          -0.21842767298221588,
          -0.12927336990833282,
          -0.012391874566674232,
          0.09772341698408127,
          0.212050199508667,
          0.35426065325737,
          0.5295608639717102,
          0.7253418564796448,
          0.9194824695587158,
          1.0868475437164307,
          1.2201879024505615,
          1.3496545553207397,
          1.4588615894317627,
          1.4774243831634521,
          1.347373127937317,
          1.1064754724502563,
          0.8143040537834167,
          0.4884721338748932,
          0.13807830214500427,
          -0.16989216208457947,
          -0.3863122761249542,
          -0.509772002696991,
          -0.5631213784217834,
          -0.5714297890663147,
          -0.5539081692695618,
          -0.5236630439758301,
          -0.4893556535243988,
          -0.45649540424346924,
          -0.4281916916370392,
          -0.40570762753486633,
          -0.389011412858963,
          -0.37731853127479553,
          -0.36954402923583984,
          -0.364425390958786,
          -0.36034324765205383,
          -0.3558315932750702,
          -0.34941545128822327,
          -0.33877384662628174,
          -0.3199939429759979,
          -0.2889533042907715,
          -0.2470150887966156,
          -0.20262640714645386,
          -0.1471073031425476,
          -0.06581556051969528,
          0.04983893409371376,
          0.2007688283920288,
          0.3812097907066345,
          0.5787996649742126,
          0.7933312058448792,
          1.0519145727157593,
          1.2913697957992554,
          1.3989431858062744,
          1.3804559707641602,
          1.2850100994110107,
          1.1400290727615356,
          0.9556232690811157,
          0.740922212600708,
          0.5103660225868225,
          0.2817641496658325,
          0.07823411375284195,
          -0.07443352788686752,
          -0.1871185153722763,
          -0.27755650877952576,
          -0.34936511516571045,
          -0.40058577060699463,
          -0.43202462792396545,
          -0.447379469871521,
          -0.44989073276519775,
          -0.4432532787322998,
          -0.43148061633110046,
          -0.4178774058818817,
          -0.4046105444431305,
          -0.3928528130054474,
          -0.383094847202301,
          -0.37540969252586365,
          -0.369631290435791,
          -0.36547136306762695,
          -0.36259862780570984,
          -0.36069247126579285,
          -0.35947495698928833,
          -0.35872507095336914,
          -0.3385232985019684,
          -0.23559848964214325,
          -0.036015015095472336,
          0.2190869301557541,
          0.5026692748069763,
          0.828402578830719,
          1.1558917760849,
          1.3969526290893555,
          1.4950965642929077,
          1.4829607009887695,
          1.4042797088623047,
          1.2760425806045532,
          1.1019991636276245,
          0.8888960480690002,
          0.6506714820861816,
          0.4159053862094879,
          0.2273378223180771,
          0.07295846194028854,
          -0.06992077827453613,
          -0.1985187530517578,
          -0.3025548458099365,
          -0.3773427903652191,
          -0.4244135022163391,
          -0.448709636926651,
          -0.4561614990234375,
          -0.4523310959339142,
          -0.44181007146835327,
          -0.428077757358551,
          -0.413767009973526,
          -0.4005642831325531,
          -0.3893052637577057,
          -0.3802444040775299,
          -0.3732919991016388,
          -0.3681764006614685,
          -0.3645521104335785,
          -0.3620714545249939,
          -0.36042630672454834,
          -0.35936611890792847,
          -0.3587005138397217,
          -0.3582923412322998,
          -0.35804733633995056,
          -0.35790327191352844,
          -0.3578201234340668,
          -0.3577730357646942,
          -0.35774683952331543
         ]
        }
       ],
       "layout": {
        "autosize": true,
        "template": {
         "data": {
          "bar": [
           {
            "error_x": {
             "color": "#2a3f5f"
            },
            "error_y": {
             "color": "#2a3f5f"
            },
            "marker": {
             "line": {
              "color": "#E5ECF6",
              "width": 0.5
             },
             "pattern": {
              "fillmode": "overlay",
              "size": 10,
              "solidity": 0.2
             }
            },
            "type": "bar"
           }
          ],
          "barpolar": [
           {
            "marker": {
             "line": {
              "color": "#E5ECF6",
              "width": 0.5
             },
             "pattern": {
              "fillmode": "overlay",
              "size": 10,
              "solidity": 0.2
             }
            },
            "type": "barpolar"
           }
          ],
          "carpet": [
           {
            "aaxis": {
             "endlinecolor": "#2a3f5f",
             "gridcolor": "white",
             "linecolor": "white",
             "minorgridcolor": "white",
             "startlinecolor": "#2a3f5f"
            },
            "baxis": {
             "endlinecolor": "#2a3f5f",
             "gridcolor": "white",
             "linecolor": "white",
             "minorgridcolor": "white",
             "startlinecolor": "#2a3f5f"
            },
            "type": "carpet"
           }
          ],
          "choropleth": [
           {
            "colorbar": {
             "outlinewidth": 0,
             "ticks": ""
            },
            "type": "choropleth"
           }
          ],
          "contour": [
           {
            "colorbar": {
             "outlinewidth": 0,
             "ticks": ""
            },
            "colorscale": [
             [
              0,
              "#0d0887"
             ],
             [
              0.1111111111111111,
              "#46039f"
             ],
             [
              0.2222222222222222,
              "#7201a8"
             ],
             [
              0.3333333333333333,
              "#9c179e"
             ],
             [
              0.4444444444444444,
              "#bd3786"
             ],
             [
              0.5555555555555556,
              "#d8576b"
             ],
             [
              0.6666666666666666,
              "#ed7953"
             ],
             [
              0.7777777777777778,
              "#fb9f3a"
             ],
             [
              0.8888888888888888,
              "#fdca26"
             ],
             [
              1,
              "#f0f921"
             ]
            ],
            "type": "contour"
           }
          ],
          "contourcarpet": [
           {
            "colorbar": {
             "outlinewidth": 0,
             "ticks": ""
            },
            "type": "contourcarpet"
           }
          ],
          "heatmap": [
           {
            "colorbar": {
             "outlinewidth": 0,
             "ticks": ""
            },
            "colorscale": [
             [
              0,
              "#0d0887"
             ],
             [
              0.1111111111111111,
              "#46039f"
             ],
             [
              0.2222222222222222,
              "#7201a8"
             ],
             [
              0.3333333333333333,
              "#9c179e"
             ],
             [
              0.4444444444444444,
              "#bd3786"
             ],
             [
              0.5555555555555556,
              "#d8576b"
             ],
             [
              0.6666666666666666,
              "#ed7953"
             ],
             [
              0.7777777777777778,
              "#fb9f3a"
             ],
             [
              0.8888888888888888,
              "#fdca26"
             ],
             [
              1,
              "#f0f921"
             ]
            ],
            "type": "heatmap"
           }
          ],
          "heatmapgl": [
           {
            "colorbar": {
             "outlinewidth": 0,
             "ticks": ""
            },
            "colorscale": [
             [
              0,
              "#0d0887"
             ],
             [
              0.1111111111111111,
              "#46039f"
             ],
             [
              0.2222222222222222,
              "#7201a8"
             ],
             [
              0.3333333333333333,
              "#9c179e"
             ],
             [
              0.4444444444444444,
              "#bd3786"
             ],
             [
              0.5555555555555556,
              "#d8576b"
             ],
             [
              0.6666666666666666,
              "#ed7953"
             ],
             [
              0.7777777777777778,
              "#fb9f3a"
             ],
             [
              0.8888888888888888,
              "#fdca26"
             ],
             [
              1,
              "#f0f921"
             ]
            ],
            "type": "heatmapgl"
           }
          ],
          "histogram": [
           {
            "marker": {
             "pattern": {
              "fillmode": "overlay",
              "size": 10,
              "solidity": 0.2
             }
            },
            "type": "histogram"
           }
          ],
          "histogram2d": [
           {
            "colorbar": {
             "outlinewidth": 0,
             "ticks": ""
            },
            "colorscale": [
             [
              0,
              "#0d0887"
             ],
             [
              0.1111111111111111,
              "#46039f"
             ],
             [
              0.2222222222222222,
              "#7201a8"
             ],
             [
              0.3333333333333333,
              "#9c179e"
             ],
             [
              0.4444444444444444,
              "#bd3786"
             ],
             [
              0.5555555555555556,
              "#d8576b"
             ],
             [
              0.6666666666666666,
              "#ed7953"
             ],
             [
              0.7777777777777778,
              "#fb9f3a"
             ],
             [
              0.8888888888888888,
              "#fdca26"
             ],
             [
              1,
              "#f0f921"
             ]
            ],
            "type": "histogram2d"
           }
          ],
          "histogram2dcontour": [
           {
            "colorbar": {
             "outlinewidth": 0,
             "ticks": ""
            },
            "colorscale": [
             [
              0,
              "#0d0887"
             ],
             [
              0.1111111111111111,
              "#46039f"
             ],
             [
              0.2222222222222222,
              "#7201a8"
             ],
             [
              0.3333333333333333,
              "#9c179e"
             ],
             [
              0.4444444444444444,
              "#bd3786"
             ],
             [
              0.5555555555555556,
              "#d8576b"
             ],
             [
              0.6666666666666666,
              "#ed7953"
             ],
             [
              0.7777777777777778,
              "#fb9f3a"
             ],
             [
              0.8888888888888888,
              "#fdca26"
             ],
             [
              1,
              "#f0f921"
             ]
            ],
            "type": "histogram2dcontour"
           }
          ],
          "mesh3d": [
           {
            "colorbar": {
             "outlinewidth": 0,
             "ticks": ""
            },
            "type": "mesh3d"
           }
          ],
          "parcoords": [
           {
            "line": {
             "colorbar": {
              "outlinewidth": 0,
              "ticks": ""
             }
            },
            "type": "parcoords"
           }
          ],
          "pie": [
           {
            "automargin": true,
            "type": "pie"
           }
          ],
          "scatter": [
           {
            "fillpattern": {
             "fillmode": "overlay",
             "size": 10,
             "solidity": 0.2
            },
            "type": "scatter"
           }
          ],
          "scatter3d": [
           {
            "line": {
             "colorbar": {
              "outlinewidth": 0,
              "ticks": ""
             }
            },
            "marker": {
             "colorbar": {
              "outlinewidth": 0,
              "ticks": ""
             }
            },
            "type": "scatter3d"
           }
          ],
          "scattercarpet": [
           {
            "marker": {
             "colorbar": {
              "outlinewidth": 0,
              "ticks": ""
             }
            },
            "type": "scattercarpet"
           }
          ],
          "scattergeo": [
           {
            "marker": {
             "colorbar": {
              "outlinewidth": 0,
              "ticks": ""
             }
            },
            "type": "scattergeo"
           }
          ],
          "scattergl": [
           {
            "marker": {
             "colorbar": {
              "outlinewidth": 0,
              "ticks": ""
             }
            },
            "type": "scattergl"
           }
          ],
          "scattermapbox": [
           {
            "marker": {
             "colorbar": {
              "outlinewidth": 0,
              "ticks": ""
             }
            },
            "type": "scattermapbox"
           }
          ],
          "scatterpolar": [
           {
            "marker": {
             "colorbar": {
              "outlinewidth": 0,
              "ticks": ""
             }
            },
            "type": "scatterpolar"
           }
          ],
          "scatterpolargl": [
           {
            "marker": {
             "colorbar": {
              "outlinewidth": 0,
              "ticks": ""
             }
            },
            "type": "scatterpolargl"
           }
          ],
          "scatterternary": [
           {
            "marker": {
             "colorbar": {
              "outlinewidth": 0,
              "ticks": ""
             }
            },
            "type": "scatterternary"
           }
          ],
          "surface": [
           {
            "colorbar": {
             "outlinewidth": 0,
             "ticks": ""
            },
            "colorscale": [
             [
              0,
              "#0d0887"
             ],
             [
              0.1111111111111111,
              "#46039f"
             ],
             [
              0.2222222222222222,
              "#7201a8"
             ],
             [
              0.3333333333333333,
              "#9c179e"
             ],
             [
              0.4444444444444444,
              "#bd3786"
             ],
             [
              0.5555555555555556,
              "#d8576b"
             ],
             [
              0.6666666666666666,
              "#ed7953"
             ],
             [
              0.7777777777777778,
              "#fb9f3a"
             ],
             [
              0.8888888888888888,
              "#fdca26"
             ],
             [
              1,
              "#f0f921"
             ]
            ],
            "type": "surface"
           }
          ],
          "table": [
           {
            "cells": {
             "fill": {
              "color": "#EBF0F8"
             },
             "line": {
              "color": "white"
             }
            },
            "header": {
             "fill": {
              "color": "#C8D4E3"
             },
             "line": {
              "color": "white"
             }
            },
            "type": "table"
           }
          ]
         },
         "layout": {
          "annotationdefaults": {
           "arrowcolor": "#2a3f5f",
           "arrowhead": 0,
           "arrowwidth": 1
          },
          "autotypenumbers": "strict",
          "coloraxis": {
           "colorbar": {
            "outlinewidth": 0,
            "ticks": ""
           }
          },
          "colorscale": {
           "diverging": [
            [
             0,
             "#8e0152"
            ],
            [
             0.1,
             "#c51b7d"
            ],
            [
             0.2,
             "#de77ae"
            ],
            [
             0.3,
             "#f1b6da"
            ],
            [
             0.4,
             "#fde0ef"
            ],
            [
             0.5,
             "#f7f7f7"
            ],
            [
             0.6,
             "#e6f5d0"
            ],
            [
             0.7,
             "#b8e186"
            ],
            [
             0.8,
             "#7fbc41"
            ],
            [
             0.9,
             "#4d9221"
            ],
            [
             1,
             "#276419"
            ]
           ],
           "sequential": [
            [
             0,
             "#0d0887"
            ],
            [
             0.1111111111111111,
             "#46039f"
            ],
            [
             0.2222222222222222,
             "#7201a8"
            ],
            [
             0.3333333333333333,
             "#9c179e"
            ],
            [
             0.4444444444444444,
             "#bd3786"
            ],
            [
             0.5555555555555556,
             "#d8576b"
            ],
            [
             0.6666666666666666,
             "#ed7953"
            ],
            [
             0.7777777777777778,
             "#fb9f3a"
            ],
            [
             0.8888888888888888,
             "#fdca26"
            ],
            [
             1,
             "#f0f921"
            ]
           ],
           "sequentialminus": [
            [
             0,
             "#0d0887"
            ],
            [
             0.1111111111111111,
             "#46039f"
            ],
            [
             0.2222222222222222,
             "#7201a8"
            ],
            [
             0.3333333333333333,
             "#9c179e"
            ],
            [
             0.4444444444444444,
             "#bd3786"
            ],
            [
             0.5555555555555556,
             "#d8576b"
            ],
            [
             0.6666666666666666,
             "#ed7953"
            ],
            [
             0.7777777777777778,
             "#fb9f3a"
            ],
            [
             0.8888888888888888,
             "#fdca26"
            ],
            [
             1,
             "#f0f921"
            ]
           ]
          },
          "colorway": [
           "#636efa",
           "#EF553B",
           "#00cc96",
           "#ab63fa",
           "#FFA15A",
           "#19d3f3",
           "#FF6692",
           "#B6E880",
           "#FF97FF",
           "#FECB52"
          ],
          "font": {
           "color": "#2a3f5f"
          },
          "geo": {
           "bgcolor": "white",
           "lakecolor": "white",
           "landcolor": "#E5ECF6",
           "showlakes": true,
           "showland": true,
           "subunitcolor": "white"
          },
          "hoverlabel": {
           "align": "left"
          },
          "hovermode": "closest",
          "mapbox": {
           "style": "light"
          },
          "paper_bgcolor": "white",
          "plot_bgcolor": "#E5ECF6",
          "polar": {
           "angularaxis": {
            "gridcolor": "white",
            "linecolor": "white",
            "ticks": ""
           },
           "bgcolor": "#E5ECF6",
           "radialaxis": {
            "gridcolor": "white",
            "linecolor": "white",
            "ticks": ""
           }
          },
          "scene": {
           "xaxis": {
            "backgroundcolor": "#E5ECF6",
            "gridcolor": "white",
            "gridwidth": 2,
            "linecolor": "white",
            "showbackground": true,
            "ticks": "",
            "zerolinecolor": "white"
           },
           "yaxis": {
            "backgroundcolor": "#E5ECF6",
            "gridcolor": "white",
            "gridwidth": 2,
            "linecolor": "white",
            "showbackground": true,
            "ticks": "",
            "zerolinecolor": "white"
           },
           "zaxis": {
            "backgroundcolor": "#E5ECF6",
            "gridcolor": "white",
            "gridwidth": 2,
            "linecolor": "white",
            "showbackground": true,
            "ticks": "",
            "zerolinecolor": "white"
           }
          },
          "shapedefaults": {
           "line": {
            "color": "#2a3f5f"
           }
          },
          "ternary": {
           "aaxis": {
            "gridcolor": "white",
            "linecolor": "white",
            "ticks": ""
           },
           "baxis": {
            "gridcolor": "white",
            "linecolor": "white",
            "ticks": ""
           },
           "bgcolor": "#E5ECF6",
           "caxis": {
            "gridcolor": "white",
            "linecolor": "white",
            "ticks": ""
           }
          },
          "title": {
           "x": 0.05
          },
          "xaxis": {
           "automargin": true,
           "gridcolor": "white",
           "linecolor": "white",
           "ticks": "",
           "title": {
            "standoff": 15
           },
           "zerolinecolor": "white",
           "zerolinewidth": 2
          },
          "yaxis": {
           "automargin": true,
           "gridcolor": "white",
           "linecolor": "white",
           "ticks": "",
           "title": {
            "standoff": 15
           },
           "zerolinecolor": "white",
           "zerolinewidth": 2
          }
         }
        },
        "xaxis": {
         "autorange": true,
         "range": [
          -13.635958395245174,
          220.63595839524518
         ]
        },
        "yaxis": {
         "autorange": true,
         "range": [
          -1.4764315902608112,
          2.8390897333043292
         ],
         "type": "linear"
        }
       }
      },
      "image/png": "[encoded data removed]",
      "text/html": [
       "<div>                            <div id=\"07a7a288-423d-4732-9ed3-e14ae9847cb3\" class=\"plotly-graph-div\" style=\"height:525px; width:100%;\"></div>            <script type=\"text/javascript\">                require([\"plotly\"], function(Plotly) {                    window.PLOTLYENV=window.PLOTLYENV || {};                                    if (document.getElementById(\"07a7a288-423d-4732-9ed3-e14ae9847cb3\")) {                    Plotly.newPlot(                        \"07a7a288-423d-4732-9ed3-e14ae9847cb3\",                        [{\"mode\":\"markers\",\"name\":\"data\",\"y\":[-0.46628645062446594,-0.3999118506908417,-0.3991197943687439,-0.8573865294456482,-0.26823073625564575,-0.1627385914325714,-0.6361043453216553,-0.2657290995121002,-0.5077419877052307,0.076142318546772,-0.23501107096672058,-0.029590629041194916,-0.4200827181339264,-0.09784050285816193,-0.18447762727737427,-0.545456051826477,-0.4482457637786865,0.03194960951805115,-0.02269771136343479,-0.4555072784423828,0.04373297095298767,-0.1337515115737915,-0.32082855701446533,-0.059355948120355606,0.07582664489746094,-0.03268972784280777,0.2757214903831482,0.6203640699386597,0.4231453835964203,0.9866095781326294,0.8036285042762756,1.0354830026626587,1.5283628702163696,1.3536128997802734,1.4488452672958374,1.2526559829711914,1.3396334648132324,1.5603629350662231,1.3517354726791382,0.9184078574180603,0.8552902340888977,0.16156962513923645,0.1242930069565773,0.028367429971694946,-0.9112344980239868,-1.0329035520553589,-0.03701867163181305,-0.4693510830402374,-0.22452247142791748,-0.2824540436267853,-0.7881773710250854,-0.24013610184192657,-0.42941412329673767,-0.9981496930122375,-0.2455676943063736,-0.16127198934555054,-0.6078057885169983,-0.17111407220363617,0.563632071018219,-0.9129988551139832,-0.6821330189704895,0.2773660719394684,-0.6072461605072021,-0.675662636756897,-0.029450977221131325,-0.8967392444610596,-0.7195623517036438,-0.4605376124382019,-0.9773475527763367,-0.3026810884475708,-0.49836042523384094,-0.7097224593162537,-0.807296633720398,-0.6328802108764648,-0.5252379179000854,-0.890081524848938,-0.3943910300731659,-0.46758967638015747,-0.22183139622211456,-0.20876449346542358,-0.31893420219421387,0.25230637192726135,-0.07318896800279617,-0.22506046295166016,0.2385435551404953,-0.08879852294921875,-0.11152864247560501,-0.23897592723369598,0.21166647970676422,0.9552539587020874,0.6191490888595581,1.9802842140197754,2.1988022327423096,1.5870360136032104,2.533406972885132,1.6625475883483887,1.4207855463027954,2.0850231647491455,0.7682477235794067,0.5806468725204468,1.5378062725067139,-0.2251667082309723,-0.23186928033828735,0.2058342695236206,-1.041218638420105,-0.6210776567459106,-0.1004740297794342,-0.7650716304779053,-0.6696115732192993,0.20315973460674286,-1.1707488298416138,-0.7229003310203552,0.25762706995010376,-0.9784564971923828,-0.517099142074585,-0.44991248846054077,-1.042592167854309,-0.677906334400177,-0.6811428070068359,-0.9456957578659058,-0.09917367994785309,-0.6733994483947754,-0.8728137612342834,-0.2413674294948578,-0.535417914390564,-0.3324810564517975,0.13570505380630493,-0.04654522240161896,0.5611869096755981,0.18492022156715393,0.08930293470621109,0.6098423004150391,0.1550493836402893,0.14644750952720642,0.5261797308921814,0.01457644160836935,0.856430172920227,0.58665531873703,0.25736117362976074,1.116662621498108,0.013451311737298965,0.14440762996673584,-0.1317417174577713,-0.4736291170120239,0.02565174549818039,-0.23758713901042938,0.06859355419874191,0.8522951602935791,0.18415795266628265,-0.6131433248519897,-0.7683715224266052,-0.25518542528152466,-0.565893828868866,-1.0847607851028442,-0.7919835448265076,-0.3628041446208954,-0.7681311964988708,-0.7654743194580078,-0.2539704740047455,-1.1512296199798584,-0.8912054300308228,-0.8805222511291504,-0.6827316284179688,-0.3886902928352356,-0.007583148777484894,-0.2037220150232315,0.2456342577934265,0.39946362376213074,0.5640573501586914,0.7232057452201843,0.8224208950996399,1.5386865139007568,1.4751819372177124,1.2283508777618408,1.8705419301986694,1.4060791730880737,1.4777377843856812,1.6803518533706665,0.829564094543457,0.5531759262084961,0.028571736067533493,-0.2166322022676468,0.03542432188987732,-0.43392235040664673,0.01518891379237175,-0.563188910484314,-0.13469770550727844,0.1067449077963829,-0.633946418762207,0.08635466545820236,-0.3198612332344055,0.31265974044799805,-0.004660461097955704,-0.0021029955241829157,0.45219913125038147,-0.18587347865104675,-0.7306390404701233,-0.33799368143081665,-0.47076988220214844,-0.4388037919998169,-0.5814041495323181,-0.32107388973236084,0.11644595116376877,-0.9595583081245422,-0.69288170337677,-0.0885150283575058,-0.6311326622962952,-0.03709323704242706],\"type\":\"scatter\"},{\"name\":\"Gauss model (R2=0.70)\",\"y\":[-0.3978143632411957,-0.39783647656440735,-0.39784958958625793,-0.39785709977149963,-0.3978612720966339,-0.3978635370731354,-0.3978647291660309,-0.397865355014801,-0.3978656530380249,-0.39786580204963684,-0.397865891456604,-0.3978659212589264,-0.3978659212589264,-0.3978659212589264,-0.3978659212589264,-0.3978659212589264,-0.3978659510612488,-0.3978659510612488,-0.3978659510612488,-0.39659807085990906,-0.3856758773326874,-0.3552216589450836,-0.3012181222438812,-0.22187785804271698,-0.10871223360300064,0.04025818780064583,0.19371728599071503,0.3326418399810791,0.4690574109554291,0.61702960729599,0.7756404876708984,0.9305754899978638,1.0617127418518066,1.1495108604431152,1.1857935190200806,1.202638030052185,1.2046228647232056,1.1423649787902832,0.9916123151779175,0.7760843634605408,0.533643364906311,0.2943294644355774,0.07703375071287155,-0.1075742244720459,-0.25397494435310364,-0.35872942209243774,-0.4251241981983185,-0.4625822901725769,-0.48055243492126465,-0.48566049337387085,-0.48227575421333313,-0.4736812114715576,-0.4625343084335327,-0.4507753849029541,-0.439637154340744,-0.4298121929168701,-0.4216005504131317,-0.4150296449661255,-0.4099615216255188,-0.40617725253105164,-0.40343502163887024,-0.40150436758995056,-0.4001832604408264,-0.39930465817451477,-0.3987366855144501,-0.398379385471344,-0.3981611728668213,-0.39803120493888855,-0.39795175194740295,-0.39789319038391113,-0.3978267312049866,-0.3977097272872925,-0.3974582552909851,-0.39695948362350464,-0.39623725414276123,-0.39514675736427307,-0.39311283826828003,-0.3891221284866333,-0.38164010643959045,-0.3684160113334656,-0.3462870419025421,-0.31123819947242737,-0.2581769526004791,-0.17653682827949524,-0.061097364872694016,0.06452671438455582,0.18711616098880768,0.31935805082321167,0.47465965151786804,0.6527243256568909,0.840441882610321,1.0176986455917358,1.1682380437850952,1.3061769008636475,1.4377129077911377,1.5243735313415527,1.5016310214996338,1.3525340557098389,1.1132607460021973,0.815716564655304,0.4690074324607849,0.11321008950471878,-0.1904744803905487,-0.4070771336555481,-0.5364584922790527,-0.5971686840057373,-0.611220121383667,-0.5971063375473022,-0.5684278011322021,-0.534544825553894,-0.501474916934967,-0.4726260006427765,-0.4494370222091675,-0.43199464678764343,-0.4195992648601532,-0.41119956970214844,-0.405593603849411,-0.40162011981010437,-0.3982390761375427,-0.3943607807159424,-0.3884696960449219,-0.37857890129089355,-0.3632661998271942,-0.34427404403686523,-0.32075801491737366,-0.28672993183135986,-0.23463746905326843,-0.15804608166217804,-0.05260476842522621,0.08317831158638,0.2503514885902405,0.4647310674190521,0.7197980284690857,0.9464383721351624,1.0993773937225342,1.1887624263763428,1.233971118927002,1.2394274473190308,1.1991612911224365,1.107827067375183,0.9670085310935974,0.7903454303741455,0.6161213517189026,0.460210919380188,0.3049161434173584,0.1405627727508545,-0.0228667464107275,-0.17193537950515747,-0.2998602092266083,-0.40022534132003784,-0.4678311347961426,-0.5039867758750916,-0.515489399433136,-0.5107201337814331,-0.496938556432724,-0.47941336035728455,-0.4615645706653595,-0.4453883767127991,-0.4318562150001526,-0.4212341606616974,-0.41334104537963867,-0.4077564477920532,-0.40397822856903076,-0.3945975601673126,-0.33504533767700195,-0.1845911592245102,0.04662490636110306,0.32355576753616333,0.6383242607116699,0.976260244846344,1.2804927825927734,1.478744626045227,1.5516971349716187,1.5284526348114014,1.4396952390670776,1.301051378250122,1.1201727390289307,0.9057562351226807,0.6739615797996521,0.46072742342948914,0.2810474932193756,0.11983373016119003,-0.03244203329086304,-0.170469731092453,-0.28550538420677185,-0.372852623462677,-0.43280136585235596,-0.46890580654144287,-0.48613595962524414,-0.4896255135536194,-0.48392799496650696,-0.4729747474193573,-0.45992550253868103,-0.44693711400032043,-0.4352434277534485,-0.42540615797042847,-0.41755279898643494,-0.4115515947341919,-0.4071369171142578,-0.4039980173110962,-0.40183332562446594,-0.4003809690475464,-0.39942991733551025,-0.3988208770751953,-0.3984387516975403,-0.3982035219669342,-0.3980614244937897,-0.3979771137237549],\"type\":\"scatter\"},{\"name\":\"Gauss bound model (R2=0.65)\",\"y\":[-0.35768723487854004,-0.3577007055282593,-0.35770827531814575,-0.35771241784095764,-0.35771459341049194,-0.3577157258987427,-0.35771629214286804,-0.35771656036376953,-0.35771670937538147,-0.35771676898002625,-0.35771679878234863,-0.35771679878234863,-0.35771679878234863,-0.35771679878234863,-0.35771679878234863,-0.35771676898002625,-0.35771676898002625,-0.35771676898002625,-0.35771676898002625,-0.35695189237594604,-0.3526182472705841,-0.34231293201446533,-0.3239801824092865,-0.2934197187423706,-0.24279126524925232,-0.1739770919084549,-0.10571582615375519,-0.02897893823683262,0.0752955749630928,0.21577943861484528,0.388899564743042,0.5822921395301819,0.7776787877082825,0.952869176864624,1.107310175895691,1.2792232036590576,1.406935453414917,1.3925976753234863,1.2502108812332153,1.0367525815963745,0.792628824710846,0.5409180521965027,0.2981189787387848,0.07843291759490967,-0.10340876132249832,-0.23324646055698395,-0.31990864872932434,-0.3785015642642975,-0.4174247682094574,-0.4397122859954834,-0.44793805480003357,-0.4458620548248291,-0.4375148415565491,-0.42592599987983704,-0.4133002460002899,-0.40118807554244995,-0.3905050456523895,-0.38164183497428894,-0.3746350109577179,-0.3693196177482605,-0.36543673276901245,-0.3627009093761444,-0.36083999276161194,-0.3596172332763672,-0.3588404655456543,-0.35836276412010193,-0.3580782115459442,-0.35791346430778503,-0.35781851410865784,-0.35775938630104065,-0.35770851373672485,-0.357631117105484,-0.3574627935886383,-0.35715705156326294,-0.3567463457584381,-0.355984091758728,-0.3543083071708679,-0.35078856348991394,-0.3439100682735443,-0.3312884271144867,-0.3094162046909332,-0.27403050661087036,-0.21842767298221588,-0.12927336990833282,-0.012391874566674232,0.09772341698408127,0.212050199508667,0.35426065325737,0.5295608639717102,0.7253418564796448,0.9194824695587158,1.0868475437164307,1.2201879024505615,1.3496545553207397,1.4588615894317627,1.4774243831634521,1.347373127937317,1.1064754724502563,0.8143040537834167,0.4884721338748932,0.13807830214500427,-0.16989216208457947,-0.3863122761249542,-0.509772002696991,-0.5631213784217834,-0.5714297890663147,-0.5539081692695618,-0.5236630439758301,-0.4893556535243988,-0.45649540424346924,-0.4281916916370392,-0.40570762753486633,-0.389011412858963,-0.37731853127479553,-0.36954402923583984,-0.364425390958786,-0.36034324765205383,-0.3558315932750702,-0.34941545128822327,-0.33877384662628174,-0.3199939429759979,-0.2889533042907715,-0.2470150887966156,-0.20262640714645386,-0.1471073031425476,-0.06581556051969528,0.04983893409371376,0.2007688283920288,0.3812097907066345,0.5787996649742126,0.7933312058448792,1.0519145727157593,1.2913697957992554,1.3989431858062744,1.3804559707641602,1.2850100994110107,1.1400290727615356,0.9556232690811157,0.740922212600708,0.5103660225868225,0.2817641496658325,0.07823411375284195,-0.07443352788686752,-0.1871185153722763,-0.27755650877952576,-0.34936511516571045,-0.40058577060699463,-0.43202462792396545,-0.447379469871521,-0.44989073276519775,-0.4432532787322998,-0.43148061633110046,-0.4178774058818817,-0.4046105444431305,-0.3928528130054474,-0.383094847202301,-0.37540969252586365,-0.369631290435791,-0.36547136306762695,-0.36259862780570984,-0.36069247126579285,-0.35947495698928833,-0.35872507095336914,-0.3385232985019684,-0.23559848964214325,-0.036015015095472336,0.2190869301557541,0.5026692748069763,0.828402578830719,1.1558917760849,1.3969526290893555,1.4950965642929077,1.4829607009887695,1.4042797088623047,1.2760425806045532,1.1019991636276245,0.8888960480690002,0.6506714820861816,0.4159053862094879,0.2273378223180771,0.07295846194028854,-0.06992077827453613,-0.1985187530517578,-0.3025548458099365,-0.3773427903652191,-0.4244135022163391,-0.448709636926651,-0.4561614990234375,-0.4523310959339142,-0.44181007146835327,-0.428077757358551,-0.413767009973526,-0.4005642831325531,-0.3893052637577057,-0.3802444040775299,-0.3732919991016388,-0.3681764006614685,-0.3645521104335785,-0.3620714545249939,-0.36042630672454834,-0.35936611890792847,-0.3587005138397217,-0.3582923412322998,-0.35804733633995056,-0.35790327191352844,-0.3578201234340668,-0.3577730357646942,-0.35774683952331543],\"type\":\"scatter\"}],                        {\"template\":{\"data\":{\"histogram2dcontour\":[{\"type\":\"histogram2dcontour\",\"colorbar\":{\"outlinewidth\":0,\"ticks\":\"\"},\"colorscale\":[[0.0,\"#0d0887\"],[0.1111111111111111,\"#46039f\"],[0.2222222222222222,\"#7201a8\"],[0.3333333333333333,\"#9c179e\"],[0.4444444444444444,\"#bd3786\"],[0.5555555555555556,\"#d8576b\"],[0.6666666666666666,\"#ed7953\"],[0.7777777777777778,\"#fb9f3a\"],[0.8888888888888888,\"#fdca26\"],[1.0,\"#f0f921\"]]}],\"choropleth\":[{\"type\":\"choropleth\",\"colorbar\":{\"outlinewidth\":0,\"ticks\":\"\"}}],\"histogram2d\":[{\"type\":\"histogram2d\",\"colorbar\":{\"outlinewidth\":0,\"ticks\":\"\"},\"colorscale\":[[0.0,\"#0d0887\"],[0.1111111111111111,\"#46039f\"],[0.2222222222222222,\"#7201a8\"],[0.3333333333333333,\"#9c179e\"],[0.4444444444444444,\"#bd3786\"],[0.5555555555555556,\"#d8576b\"],[0.6666666666666666,\"#ed7953\"],[0.7777777777777778,\"#fb9f3a\"],[0.8888888888888888,\"#fdca26\"],[1.0,\"#f0f921\"]]}],\"heatmap\":[{\"type\":\"heatmap\",\"colorbar\":{\"outlinewidth\":0,\"ticks\":\"\"},\"colorscale\":[[0.0,\"#0d0887\"],[0.1111111111111111,\"#46039f\"],[0.2222222222222222,\"#7201a8\"],[0.3333333333333333,\"#9c179e\"],[0.4444444444444444,\"#bd3786\"],[0.5555555555555556,\"#d8576b\"],[0.6666666666666666,\"#ed7953\"],[0.7777777777777778,\"#fb9f3a\"],[0.8888888888888888,\"#fdca26\"],[1.0,\"#f0f921\"]]}],\"heatmapgl\":[{\"type\":\"heatmapgl\",\"colorbar\":{\"outlinewidth\":0,\"ticks\":\"\"},\"colorscale\":[[0.0,\"#0d0887\"],[0.1111111111111111,\"#46039f\"],[0.2222222222222222,\"#7201a8\"],[0.3333333333333333,\"#9c179e\"],[0.4444444444444444,\"#bd3786\"],[0.5555555555555556,\"#d8576b\"],[0.6666666666666666,\"#ed7953\"],[0.7777777777777778,\"#fb9f3a\"],[0.8888888888888888,\"#fdca26\"],[1.0,\"#f0f921\"]]}],\"contourcarpet\":[{\"type\":\"contourcarpet\",\"colorbar\":{\"outlinewidth\":0,\"ticks\":\"\"}}],\"contour\":[{\"type\":\"contour\",\"colorbar\":{\"outlinewidth\":0,\"ticks\":\"\"},\"colorscale\":[[0.0,\"#0d0887\"],[0.1111111111111111,\"#46039f\"],[0.2222222222222222,\"#7201a8\"],[0.3333333333333333,\"#9c179e\"],[0.4444444444444444,\"#bd3786\"],[0.5555555555555556,\"#d8576b\"],[0.6666666666666666,\"#ed7953\"],[0.7777777777777778,\"#fb9f3a\"],[0.8888888888888888,\"#fdca26\"],[1.0,\"#f0f921\"]]}],\"surface\":[{\"type\":\"surface\",\"colorbar\":{\"outlinewidth\":0,\"ticks\":\"\"},\"colorscale\":[[0.0,\"#0d0887\"],[0.1111111111111111,\"#46039f\"],[0.2222222222222222,\"#7201a8\"],[0.3333333333333333,\"#9c179e\"],[0.4444444444444444,\"#bd3786\"],[0.5555555555555556,\"#d8576b\"],[0.6666666666666666,\"#ed7953\"],[0.7777777777777778,\"#fb9f3a\"],[0.8888888888888888,\"#fdca26\"],[1.0,\"#f0f921\"]]}],\"mesh3d\":[{\"type\":\"mesh3d\",\"colorbar\":{\"outlinewidth\":0,\"ticks\":\"\"}}],\"scatter\":[{\"fillpattern\":{\"fillmode\":\"overlay\",\"size\":10,\"solidity\":0.2},\"type\":\"scatter\"}],\"parcoords\":[{\"type\":\"parcoords\",\"line\":{\"colorbar\":{\"outlinewidth\":0,\"ticks\":\"\"}}}],\"scatterpolargl\":[{\"type\":\"scatterpolargl\",\"marker\":{\"colorbar\":{\"outlinewidth\":0,\"ticks\":\"\"}}}],\"bar\":[{\"error_x\":{\"color\":\"#2a3f5f\"},\"error_y\":{\"color\":\"#2a3f5f\"},\"marker\":{\"line\":{\"color\":\"#E5ECF6\",\"width\":0.5},\"pattern\":{\"fillmode\":\"overlay\",\"size\":10,\"solidity\":0.2}},\"type\":\"bar\"}],\"scattergeo\":[{\"type\":\"scattergeo\",\"marker\":{\"colorbar\":{\"outlinewidth\":0,\"ticks\":\"\"}}}],\"scatterpolar\":[{\"type\":\"scatterpolar\",\"marker\":{\"colorbar\":{\"outlinewidth\":0,\"ticks\":\"\"}}}],\"histogram\":[{\"marker\":{\"pattern\":{\"fillmode\":\"overlay\",\"size\":10,\"solidity\":0.2}},\"type\":\"histogram\"}],\"scattergl\":[{\"type\":\"scattergl\",\"marker\":{\"colorbar\":{\"outlinewidth\":0,\"ticks\":\"\"}}}],\"scatter3d\":[{\"type\":\"scatter3d\",\"line\":{\"colorbar\":{\"outlinewidth\":0,\"ticks\":\"\"}},\"marker\":{\"colorbar\":{\"outlinewidth\":0,\"ticks\":\"\"}}}],\"scattermapbox\":[{\"type\":\"scattermapbox\",\"marker\":{\"colorbar\":{\"outlinewidth\":0,\"ticks\":\"\"}}}],\"scatterternary\":[{\"type\":\"scatterternary\",\"marker\":{\"colorbar\":{\"outlinewidth\":0,\"ticks\":\"\"}}}],\"scattercarpet\":[{\"type\":\"scattercarpet\",\"marker\":{\"colorbar\":{\"outlinewidth\":0,\"ticks\":\"\"}}}],\"carpet\":[{\"aaxis\":{\"endlinecolor\":\"#2a3f5f\",\"gridcolor\":\"white\",\"linecolor\":\"white\",\"minorgridcolor\":\"white\",\"startlinecolor\":\"#2a3f5f\"},\"baxis\":{\"endlinecolor\":\"#2a3f5f\",\"gridcolor\":\"white\",\"linecolor\":\"white\",\"minorgridcolor\":\"white\",\"startlinecolor\":\"#2a3f5f\"},\"type\":\"carpet\"}],\"table\":[{\"cells\":{\"fill\":{\"color\":\"#EBF0F8\"},\"line\":{\"color\":\"white\"}},\"header\":{\"fill\":{\"color\":\"#C8D4E3\"},\"line\":{\"color\":\"white\"}},\"type\":\"table\"}],\"barpolar\":[{\"marker\":{\"line\":{\"color\":\"#E5ECF6\",\"width\":0.5},\"pattern\":{\"fillmode\":\"overlay\",\"size\":10,\"solidity\":0.2}},\"type\":\"barpolar\"}],\"pie\":[{\"automargin\":true,\"type\":\"pie\"}]},\"layout\":{\"autotypenumbers\":\"strict\",\"colorway\":[\"#636efa\",\"#EF553B\",\"#00cc96\",\"#ab63fa\",\"#FFA15A\",\"#19d3f3\",\"#FF6692\",\"#B6E880\",\"#FF97FF\",\"#FECB52\"],\"font\":{\"color\":\"#2a3f5f\"},\"hovermode\":\"closest\",\"hoverlabel\":{\"align\":\"left\"},\"paper_bgcolor\":\"white\",\"plot_bgcolor\":\"#E5ECF6\",\"polar\":{\"bgcolor\":\"#E5ECF6\",\"angularaxis\":{\"gridcolor\":\"white\",\"linecolor\":\"white\",\"ticks\":\"\"},\"radialaxis\":{\"gridcolor\":\"white\",\"linecolor\":\"white\",\"ticks\":\"\"}},\"ternary\":{\"bgcolor\":\"#E5ECF6\",\"aaxis\":{\"gridcolor\":\"white\",\"linecolor\":\"white\",\"ticks\":\"\"},\"baxis\":{\"gridcolor\":\"white\",\"linecolor\":\"white\",\"ticks\":\"\"},\"caxis\":{\"gridcolor\":\"white\",\"linecolor\":\"white\",\"ticks\":\"\"}},\"coloraxis\":{\"colorbar\":{\"outlinewidth\":0,\"ticks\":\"\"}},\"colorscale\":{\"sequential\":[[0.0,\"#0d0887\"],[0.1111111111111111,\"#46039f\"],[0.2222222222222222,\"#7201a8\"],[0.3333333333333333,\"#9c179e\"],[0.4444444444444444,\"#bd3786\"],[0.5555555555555556,\"#d8576b\"],[0.6666666666666666,\"#ed7953\"],[0.7777777777777778,\"#fb9f3a\"],[0.8888888888888888,\"#fdca26\"],[1.0,\"#f0f921\"]],\"sequentialminus\":[[0.0,\"#0d0887\"],[0.1111111111111111,\"#46039f\"],[0.2222222222222222,\"#7201a8\"],[0.3333333333333333,\"#9c179e\"],[0.4444444444444444,\"#bd3786\"],[0.5555555555555556,\"#d8576b\"],[0.6666666666666666,\"#ed7953\"],[0.7777777777777778,\"#fb9f3a\"],[0.8888888888888888,\"#fdca26\"],[1.0,\"#f0f921\"]],\"diverging\":[[0,\"#8e0152\"],[0.1,\"#c51b7d\"],[0.2,\"#de77ae\"],[0.3,\"#f1b6da\"],[0.4,\"#fde0ef\"],[0.5,\"#f7f7f7\"],[0.6,\"#e6f5d0\"],[0.7,\"#b8e186\"],[0.8,\"#7fbc41\"],[0.9,\"#4d9221\"],[1,\"#276419\"]]},\"xaxis\":{\"gridcolor\":\"white\",\"linecolor\":\"white\",\"ticks\":\"\",\"title\":{\"standoff\":15},\"zerolinecolor\":\"white\",\"automargin\":true,\"zerolinewidth\":2},\"yaxis\":{\"gridcolor\":\"white\",\"linecolor\":\"white\",\"ticks\":\"\",\"title\":{\"standoff\":15},\"zerolinecolor\":\"white\",\"automargin\":true,\"zerolinewidth\":2},\"scene\":{\"xaxis\":{\"backgroundcolor\":\"#E5ECF6\",\"gridcolor\":\"white\",\"linecolor\":\"white\",\"showbackground\":true,\"ticks\":\"\",\"zerolinecolor\":\"white\",\"gridwidth\":2},\"yaxis\":{\"backgroundcolor\":\"#E5ECF6\",\"gridcolor\":\"white\",\"linecolor\":\"white\",\"showbackground\":true,\"ticks\":\"\",\"zerolinecolor\":\"white\",\"gridwidth\":2},\"zaxis\":{\"backgroundcolor\":\"#E5ECF6\",\"gridcolor\":\"white\",\"linecolor\":\"white\",\"showbackground\":true,\"ticks\":\"\",\"zerolinecolor\":\"white\",\"gridwidth\":2}},\"shapedefaults\":{\"line\":{\"color\":\"#2a3f5f\"}},\"annotationdefaults\":{\"arrowcolor\":\"#2a3f5f\",\"arrowhead\":0,\"arrowwidth\":1},\"geo\":{\"bgcolor\":\"white\",\"landcolor\":\"#E5ECF6\",\"subunitcolor\":\"white\",\"showland\":true,\"showlakes\":true,\"lakecolor\":\"white\"},\"title\":{\"x\":0.05},\"mapbox\":{\"style\":\"light\"}}}},                        {\"responsive\": true}                    ).then(function(){\n",
       "                            \n",
       "var gd = document.getElementById('07a7a288-423d-4732-9ed3-e14ae9847cb3');\n",
       "var x = new MutationObserver(function (mutations, observer) {{\n",
       "        var display = window.getComputedStyle(gd).display;\n",
       "        if (!display || display === 'none') {{\n",
       "            console.log([gd, 'removed!']);\n",
       "            Plotly.purge(gd);\n",
       "            observer.disconnect();\n",
       "        }}\n",
       "}});\n",
       "\n",
       "// Listen for the removal of the full notebook cells\n",
       "var notebookContainer = gd.closest('#notebook-container');\n",
       "if (notebookContainer) {{\n",
       "    x.observe(notebookContainer, {childList: true});\n",
       "}}\n",
       "\n",
       "// Listen for the clearing of the current output cell\n",
       "var outputEl = gd.closest('.output');\n",
       "if (outputEl) {{\n",
       "    x.observe(outputEl, {childList: true});\n",
       "}}\n",
       "\n",
       "                        })                };                });            </script>        </div>"
      ]
     },
     "metadata": {},
     "output_type": "display_data"
    }
   ],
   "source": [
    "num_vert = 9\n",
    "import plotly.graph_objects as go\n",
    "fig = go.Figure()\n",
    "fig.add_trace(go.Scatter(y=data_fsnative_[:,num_vert], name='data', mode='markers'))\n",
    "fig.add_trace(go.Scatter(y=gauss_pred_mat[:,num_vert], name='Gauss model (R2={:1.2f})'.format(gauss_fit_mat[num_vert,-1])))\n",
    "fig.add_trace(go.Scatter(y=gauss_pred_mat2[:,num_vert], name='Gauss bound model (R2={:1.2f})'.format(gauss_fit_mat2[num_vert,-1])))\n",
    "fig.show()"
   ]
  },
  {
   "cell_type": "code",
   "execution_count": null,
   "id": "15ba0a07-313c-4ac5-a987-c5f56815b798",
   "metadata": {},
   "outputs": [],
   "source": [
    "# determine DN model\n",
    "dn_model = Norm_Iso2DGaussianModel(stimulus=stimulus)\n",
    "dn_fitter = Norm_Iso2DGaussianFitter(data=data_fsnative_.T, \n",
    "                                     model=dn_model, \n",
    "                                     n_jobs=n_jobs,\n",
    "                                     use_previous_gaussian_fitter_hrf=False,\n",
    "                                     previous_gaussian_fitter=gauss_fitter)"
   ]
  },
  {
   "cell_type": "code",
   "execution_count": null,
   "id": "42088f02-2ac8-4cb3-93ad-9f818af3aa3a",
   "metadata": {},
   "outputs": [],
   "source": [
    "# dn parameters\n",
    "fixed_grid_baseline = 0\n",
    "grid_bounds = [(0,100),(0,100)]\n",
    "surround_size_grid = sizes#max_ecc_size * np.linspace(0.1,1,dn_grid_nr)**2\n",
    "surround_amplitude_grid = np.linspace(0, 10, dn_grid_nr)\n",
    "surround_baseline_grid = np.linspace(0, 10, dn_grid_nr)\n",
    "neural_baseline_grid = np.linspace(0, 10, dn_grid_nr)\n",
    "\n",
    "dn_fitter.grid_fit(\n",
    "    fixed_grid_baseline=fixed_grid_baseline,\n",
    "    #grid_bounds=grid_bounds,\n",
    "    surround_amplitude_grid=surround_amplitude_grid,\n",
    "    surround_size_grid=surround_size_grid,             \n",
    "    surround_baseline_grid=surround_baseline_grid,\n",
    "    neural_baseline_grid=neural_baseline_grid,\n",
    "    n_batches=n_batches,\n",
    "    rsq_threshold=rsq_threshold,\n",
    "    verbose=verbose,\n",
    ")"
   ]
  },
  {
   "cell_type": "code",
   "execution_count": null,
   "id": "944884f8-ab62-4dc1-8c05-977a34282bf1",
   "metadata": {},
   "outputs": [],
   "source": [
    "dn_fitter.iterative_fit(rsq_threshold=rsq_threshold, \n",
    "                        verbose=verbose,\n",
    "                        #bounds = norm_bounds,\n",
    "                        xtol=xtol,\n",
    "                        ftol=ftol\n",
    "                       )\n",
    "fit_fit_dn = dn_fitter.iterative_search_params"
   ]
  },
  {
   "cell_type": "code",
   "execution_count": null,
   "id": "866203af-24be-47aa-92a7-d92d654b1cc6",
   "metadata": {},
   "outputs": [],
   "source": [
    "dn_fit_mat = np.zeros((data_fsnative_.shape[1],12))\n",
    "dn_pred_mat = np.zeros_like(data_fsnative_) \n",
    "for est in range(len(data_fsnative_.T)):\n",
    "    dn_fit_mat[est] = fit_fit_dn[est]\n",
    "    dn_pred_mat[:,est] = dn_model.return_prediction(mu_x=fit_fit_dn[est][0], \n",
    "                                                    mu_y=fit_fit_dn[est][1], \n",
    "                                                    prf_size=fit_fit_dn[est][2], \n",
    "                                                    prf_amplitude=fit_fit_dn[est][3], \n",
    "                                                    bold_baseline=fit_fit_dn[est][4],\n",
    "                                                    srf_amplitude=fit_fit_dn[est][5],\n",
    "                                                    srf_size=fit_fit_dn[est][6],\n",
    "                                                    neural_baseline=fit_fit_dn[est][7],\n",
    "                                                    surround_baseline=fit_fit_dn[est][8],\n",
    "                                                    hrf_1=fit_fit_dn[est][9],\n",
    "                                                    hrf_2=fit_fit_dn[est][10],\n",
    "                                                   )"
   ]
  },
  {
   "cell_type": "code",
   "execution_count": null,
   "id": "450a8ddb-c7c7-4ab0-9f8b-cc9838651670",
   "metadata": {},
   "outputs": [],
   "source": [
    "norm_bounds = [(-1.5*max_ecc_size, 1.5*max_ecc_size),  # x\n",
    "                (-1.5*max_ecc_size, 1.5*max_ecc_size),  # y\n",
    "                (0, 1.5*max_ecc_size),  # prf size\n",
    "                (0, 1000),  # prf amplitude\n",
    "                (-4, 4),  # bold baseline\n",
    "                (0, 1000),  # surround amplitude\n",
    "                (0.1, 3*max_ecc_size),  # surround size\n",
    "                (-4, 4),  # neural baseline\n",
    "                (-4, 4),# surround baseline\n",
    "                (0, 10), (0, 10)]  #hrf bounds\n",
    "\n",
    "dn_fitter.iterative_fit(rsq_threshold=rsq_threshold, \n",
    "                        verbose=verbose,\n",
    "                        bounds = norm_bounds,\n",
    "                        xtol=xtol,\n",
    "                        ftol=ftol\n",
    "                       )\n",
    "fit_fit_dn2 = dn_fitter.iterative_search_params"
   ]
  },
  {
   "cell_type": "code",
   "execution_count": null,
   "id": "7426c784-1b28-4f1c-874c-2bb833c343e5",
   "metadata": {},
   "outputs": [],
   "source": [
    "dn_fit_mat2 = np.zeros((data_fsnative_.shape[1],12))\n",
    "dn_pred_mat2 = np.zeros_like(data_fsnative_) \n",
    "for est in range(len(data_fsnative_.T)):\n",
    "    dn_fit_mat2[est] = fit_fit_dn2[est]\n",
    "    dn_pred_mat2[:,est] = dn_model.return_prediction(mu_x=fit_fit_dn2[est][0], \n",
    "                                                    mu_y=fit_fit_dn2[est][1], \n",
    "                                                    prf_size=fit_fit_dn2[est][2], \n",
    "                                                    prf_amplitude=fit_fit_dn2[est][3], \n",
    "                                                    bold_baseline=fit_fit_dn2[est][4],\n",
    "                                                    srf_amplitude=fit_fit_dn2[est][5],\n",
    "                                                    srf_size=fit_fit_dn2[est][6],\n",
    "                                                    neural_baseline=fit_fit_dn2[est][7],\n",
    "                                                    surround_baseline=fit_fit_dn2[est][8],\n",
    "                                                    hrf_1=fit_fit_dn2[est][9],\n",
    "                                                    hrf_2=fit_fit_dn2[est][10],\n",
    "                                                   )"
   ]
  },
  {
   "cell_type": "code",
   "execution_count": null,
   "id": "01922833-49a0-44db-bfa1-c872776a7188",
   "metadata": {},
   "outputs": [],
   "source": [
    "num_vert = 5\n",
    "import plotly.graph_objects as go\n",
    "fig = go.Figure()\n",
    "fig.add_trace(go.Scatter(y=data_fsnative_[:,num_vert], name='data', mode='markers'))\n",
    "fig.add_trace(go.Scatter(y=gauss_pred_mat[:,num_vert], name='Gauss model (R2={:1.2f})'.format(gauss_fit_mat[num_vert,-1])))\n",
    "fig.add_trace(go.Scatter(y=dn_pred_mat[:,num_vert], name='DN model (R2={:1.2f})'.format(dn_fit_mat[num_vert,-1])))\n",
    "fig.add_trace(go.Scatter(y=dn_pred_mat2[:,num_vert], name='DN model bound (R2={:1.2f})'.format(dn_fit_mat2[num_vert,-1])))\n",
    "fig.show()"
   ]
  },
  {
   "cell_type": "code",
   "execution_count": null,
   "id": "4be94cd9-4d96-4e60-827a-1338d666fde6",
   "metadata": {},
   "outputs": [],
   "source": [
    "# determine CSS model\n",
    "css_model = CSS_Iso2DGaussianModel(stimulus=stimulus)\n",
    "css_fitter = CSS_Iso2DGaussianFitter(data=data_fsnative_.T, \n",
    "                                     model=css_model, \n",
    "                                     n_jobs=n_jobs,\n",
    "                                     use_previous_gaussian_fitter_hrf=False,\n",
    "                                     previous_gaussian_fitter=gauss_fitter)\n"
   ]
  },
  {
   "cell_type": "code",
   "execution_count": 79,
   "id": "e6587ab4-b899-43f7-899c-91ecbc5ef6ce",
   "metadata": {},
   "outputs": [
    {
     "name": "stderr",
     "output_type": "stream",
     "text": [
      "[Parallel(n_jobs=32)]: Using backend LokyBackend with 32 concurrent workers.\n",
      "/home/mszinte/env/anaconda3/envs/mszinte/lib/python3.9/site-packages/nilearn/glm/__init__.py:55: FutureWarning: The nilearn.glm module is experimental. It may change in any future release of Nilearn.\n",
      "  warn('The nilearn.glm module is experimental. '\n",
      "/home/mszinte/env/anaconda3/envs/mszinte/lib/python3.9/site-packages/nilearn/glm/__init__.py:55: FutureWarning: The nilearn.glm module is experimental. It may change in any future release of Nilearn.\n",
      "  warn('The nilearn.glm module is experimental. '\n",
      "/home/mszinte/env/anaconda3/envs/mszinte/lib/python3.9/site-packages/nilearn/glm/__init__.py:55: FutureWarning: The nilearn.glm module is experimental. It may change in any future release of Nilearn.\n",
      "  warn('The nilearn.glm module is experimental. '\n",
      "/home/mszinte/env/anaconda3/envs/mszinte/lib/python3.9/site-packages/nilearn/glm/__init__.py:55: FutureWarning: The nilearn.glm module is experimental. It may change in any future release of Nilearn.\n",
      "  warn('The nilearn.glm module is experimental. '\n",
      "/home/mszinte/env/anaconda3/envs/mszinte/lib/python3.9/site-packages/nilearn/glm/__init__.py:55: FutureWarning: The nilearn.glm module is experimental. It may change in any future release of Nilearn.\n",
      "  warn('The nilearn.glm module is experimental. '\n",
      "/home/mszinte/env/anaconda3/envs/mszinte/lib/python3.9/site-packages/nilearn/glm/__init__.py:55: FutureWarning: The nilearn.glm module is experimental. It may change in any future release of Nilearn.\n",
      "  warn('The nilearn.glm module is experimental. '\n",
      "/home/mszinte/env/anaconda3/envs/mszinte/lib/python3.9/site-packages/nilearn/glm/__init__.py:55: FutureWarning: The nilearn.glm module is experimental. It may change in any future release of Nilearn.\n",
      "  warn('The nilearn.glm module is experimental. '\n",
      "/home/mszinte/env/anaconda3/envs/mszinte/lib/python3.9/site-packages/nilearn/glm/__init__.py:55: FutureWarning: The nilearn.glm module is experimental. It may change in any future release of Nilearn.\n",
      "  warn('The nilearn.glm module is experimental. '\n",
      "/home/mszinte/env/anaconda3/envs/mszinte/lib/python3.9/site-packages/nilearn/glm/__init__.py:55: FutureWarning: The nilearn.glm module is experimental. It may change in any future release of Nilearn.\n",
      "  warn('The nilearn.glm module is experimental. '\n",
      "/home/mszinte/softwares/prfpy/prfpy/rf.py:112: RuntimeWarning: divide by zero encountered in true_divide\n",
      "  return (np.exp(-((x-mu[0])**2 + (y-mu[1])**2)/(2*sigma**2))).astype('float32')\n",
      "/home/mszinte/softwares/prfpy/prfpy/rf.py:112: RuntimeWarning: divide by zero encountered in true_divide\n",
      "  return (np.exp(-((x-mu[0])**2 + (y-mu[1])**2)/(2*sigma**2))).astype('float32')\n",
      "[Parallel(n_jobs=32)]: Done   1 tasks      | elapsed:    7.1s\n",
      "[Parallel(n_jobs=32)]: Done   2 out of  32 | elapsed:    7.1s remaining:  1.8min\n",
      "/home/mszinte/softwares/prfpy/prfpy/rf.py:112: RuntimeWarning: divide by zero encountered in true_divide\n",
      "  return (np.exp(-((x-mu[0])**2 + (y-mu[1])**2)/(2*sigma**2))).astype('float32')\n",
      "/home/mszinte/softwares/prfpy/prfpy/rf.py:112: RuntimeWarning: divide by zero encountered in true_divide\n",
      "  return (np.exp(-((x-mu[0])**2 + (y-mu[1])**2)/(2*sigma**2))).astype('float32')\n",
      "/home/mszinte/softwares/prfpy/prfpy/rf.py:112: RuntimeWarning: divide by zero encountered in true_divide\n",
      "  return (np.exp(-((x-mu[0])**2 + (y-mu[1])**2)/(2*sigma**2))).astype('float32')\n",
      "[Parallel(n_jobs=32)]: Done   5 out of  32 | elapsed:    7.4s remaining:   40.2s\n",
      "/home/mszinte/softwares/prfpy/prfpy/rf.py:112: RuntimeWarning: divide by zero encountered in true_divide\n",
      "  return (np.exp(-((x-mu[0])**2 + (y-mu[1])**2)/(2*sigma**2))).astype('float32')\n",
      "/home/mszinte/softwares/prfpy/prfpy/rf.py:112: RuntimeWarning: divide by zero encountered in true_divide\n",
      "  return (np.exp(-((x-mu[0])**2 + (y-mu[1])**2)/(2*sigma**2))).astype('float32')\n",
      "/home/mszinte/softwares/prfpy/prfpy/rf.py:112: RuntimeWarning: divide by zero encountered in true_divide\n",
      "  return (np.exp(-((x-mu[0])**2 + (y-mu[1])**2)/(2*sigma**2))).astype('float32')\n",
      "[Parallel(n_jobs=32)]: Done   8 out of  32 | elapsed:    8.2s remaining:   24.5s\n",
      "/home/mszinte/softwares/prfpy/prfpy/rf.py:112: RuntimeWarning: divide by zero encountered in true_divide\n",
      "  return (np.exp(-((x-mu[0])**2 + (y-mu[1])**2)/(2*sigma**2))).astype('float32')\n",
      "/home/mszinte/env/anaconda3/envs/mszinte/lib/python3.9/site-packages/nilearn/glm/__init__.py:55: FutureWarning: The nilearn.glm module is experimental. It may change in any future release of Nilearn.\n",
      "  warn('The nilearn.glm module is experimental. '\n",
      "/home/mszinte/env/anaconda3/envs/mszinte/lib/python3.9/site-packages/nilearn/glm/__init__.py:55: FutureWarning: The nilearn.glm module is experimental. It may change in any future release of Nilearn.\n",
      "  warn('The nilearn.glm module is experimental. '\n",
      "/home/mszinte/env/anaconda3/envs/mszinte/lib/python3.9/site-packages/nilearn/glm/__init__.py:55: FutureWarning: The nilearn.glm module is experimental. It may change in any future release of Nilearn.\n",
      "  warn('The nilearn.glm module is experimental. '\n",
      "/home/mszinte/env/anaconda3/envs/mszinte/lib/python3.9/site-packages/nilearn/glm/__init__.py:55: FutureWarning: The nilearn.glm module is experimental. It may change in any future release of Nilearn.\n",
      "  warn('The nilearn.glm module is experimental. '\n",
      "/home/mszinte/env/anaconda3/envs/mszinte/lib/python3.9/site-packages/nilearn/glm/__init__.py:55: FutureWarning: The nilearn.glm module is experimental. It may change in any future release of Nilearn.\n",
      "  warn('The nilearn.glm module is experimental. '\n",
      "/home/mszinte/env/anaconda3/envs/mszinte/lib/python3.9/site-packages/nilearn/glm/__init__.py:55: FutureWarning: The nilearn.glm module is experimental. It may change in any future release of Nilearn.\n",
      "  warn('The nilearn.glm module is experimental. '\n",
      "/home/mszinte/env/anaconda3/envs/mszinte/lib/python3.9/site-packages/nilearn/glm/__init__.py:55: FutureWarning: The nilearn.glm module is experimental. It may change in any future release of Nilearn.\n",
      "  warn('The nilearn.glm module is experimental. '\n",
      "/home/mszinte/env/anaconda3/envs/mszinte/lib/python3.9/site-packages/nilearn/glm/__init__.py:55: FutureWarning: The nilearn.glm module is experimental. It may change in any future release of Nilearn.\n",
      "  warn('The nilearn.glm module is experimental. '\n",
      "/home/mszinte/env/anaconda3/envs/mszinte/lib/python3.9/site-packages/nilearn/glm/__init__.py:55: FutureWarning: The nilearn.glm module is experimental. It may change in any future release of Nilearn.\n",
      "  warn('The nilearn.glm module is experimental. '\n",
      "/home/mszinte/env/anaconda3/envs/mszinte/lib/python3.9/site-packages/nilearn/glm/__init__.py:55: FutureWarning: The nilearn.glm module is experimental. It may change in any future release of Nilearn.\n",
      "  warn('The nilearn.glm module is experimental. '\n",
      "/home/mszinte/env/anaconda3/envs/mszinte/lib/python3.9/site-packages/nilearn/glm/__init__.py:55: FutureWarning: The nilearn.glm module is experimental. It may change in any future release of Nilearn.\n",
      "  warn('The nilearn.glm module is experimental. '\n",
      "/home/mszinte/env/anaconda3/envs/mszinte/lib/python3.9/site-packages/nilearn/glm/__init__.py:55: FutureWarning: The nilearn.glm module is experimental. It may change in any future release of Nilearn.\n",
      "  warn('The nilearn.glm module is experimental. '\n",
      "/home/mszinte/env/anaconda3/envs/mszinte/lib/python3.9/site-packages/nilearn/glm/__init__.py:55: FutureWarning: The nilearn.glm module is experimental. It may change in any future release of Nilearn.\n",
      "  warn('The nilearn.glm module is experimental. '\n",
      "/home/mszinte/env/anaconda3/envs/mszinte/lib/python3.9/site-packages/nilearn/glm/__init__.py:55: FutureWarning: The nilearn.glm module is experimental. It may change in any future release of Nilearn.\n",
      "  warn('The nilearn.glm module is experimental. '\n",
      "/home/mszinte/env/anaconda3/envs/mszinte/lib/python3.9/site-packages/nilearn/glm/__init__.py:55: FutureWarning: The nilearn.glm module is experimental. It may change in any future release of Nilearn.\n",
      "  warn('The nilearn.glm module is experimental. '\n",
      "/home/mszinte/env/anaconda3/envs/mszinte/lib/python3.9/site-packages/nilearn/glm/__init__.py:55: FutureWarning: The nilearn.glm module is experimental. It may change in any future release of Nilearn.\n",
      "  warn('The nilearn.glm module is experimental. '\n",
      "/home/mszinte/env/anaconda3/envs/mszinte/lib/python3.9/site-packages/nilearn/glm/__init__.py:55: FutureWarning: The nilearn.glm module is experimental. It may change in any future release of Nilearn.\n",
      "  warn('The nilearn.glm module is experimental. '\n",
      "/home/mszinte/env/anaconda3/envs/mszinte/lib/python3.9/site-packages/nilearn/glm/__init__.py:55: FutureWarning: The nilearn.glm module is experimental. It may change in any future release of Nilearn.\n",
      "  warn('The nilearn.glm module is experimental. '\n",
      "/home/mszinte/env/anaconda3/envs/mszinte/lib/python3.9/site-packages/nilearn/glm/__init__.py:55: FutureWarning: The nilearn.glm module is experimental. It may change in any future release of Nilearn.\n",
      "  warn('The nilearn.glm module is experimental. '\n",
      "/home/mszinte/env/anaconda3/envs/mszinte/lib/python3.9/site-packages/nilearn/glm/__init__.py:55: FutureWarning: The nilearn.glm module is experimental. It may change in any future release of Nilearn.\n",
      "  warn('The nilearn.glm module is experimental. '\n",
      "/home/mszinte/env/anaconda3/envs/mszinte/lib/python3.9/site-packages/nilearn/glm/__init__.py:55: FutureWarning: The nilearn.glm module is experimental. It may change in any future release of Nilearn.\n",
      "  warn('The nilearn.glm module is experimental. '\n",
      "/home/mszinte/env/anaconda3/envs/mszinte/lib/python3.9/site-packages/nilearn/glm/__init__.py:55: FutureWarning: The nilearn.glm module is experimental. It may change in any future release of Nilearn.\n",
      "  warn('The nilearn.glm module is experimental. '\n",
      "/home/mszinte/env/anaconda3/envs/mszinte/lib/python3.9/site-packages/nilearn/glm/__init__.py:55: FutureWarning: The nilearn.glm module is experimental. It may change in any future release of Nilearn.\n",
      "  warn('The nilearn.glm module is experimental. '\n",
      "/home/mszinte/softwares/prfpy/prfpy/rf.py:112: RuntimeWarning: divide by zero encountered in true_divide\n",
      "  return (np.exp(-((x-mu[0])**2 + (y-mu[1])**2)/(2*sigma**2))).astype('float32')\n",
      "[Parallel(n_jobs=32)]: Done  11 out of  32 | elapsed:   14.5s remaining:   27.7s\n",
      "[Parallel(n_jobs=32)]: Done  14 out of  32 | elapsed:   14.7s remaining:   18.9s\n",
      "[Parallel(n_jobs=32)]: Done  17 out of  32 | elapsed:   14.8s remaining:   13.0s\n",
      "[Parallel(n_jobs=32)]: Done  20 out of  32 | elapsed:   14.9s remaining:    9.0s\n",
      "[Parallel(n_jobs=32)]: Done  23 out of  32 | elapsed:   15.0s remaining:    5.9s\n",
      "[Parallel(n_jobs=32)]: Done  26 out of  32 | elapsed:   15.0s remaining:    3.5s\n",
      "[Parallel(n_jobs=32)]: Done  29 out of  32 | elapsed:   15.1s remaining:    1.6s\n",
      "[Parallel(n_jobs=32)]: Done  32 out of  32 | elapsed:   15.2s remaining:    0.0s\n",
      "[Parallel(n_jobs=32)]: Done  32 out of  32 | elapsed:   15.2s finished\n"
     ]
    }
   ],
   "source": [
    "css_grid_nr = 10\n",
    "css_exponent_grid = np.linspace(0, 4, css_grid_nr)\n",
    "css_fitter.grid_fit(exponent_grid=css_exponent_grid,\n",
    "                verbose=verbose,\n",
    "                n_batches=n_batches,\n",
    "                fixed_grid_baseline=fixed_grid_baseline,\n",
    "                #grid_bounds=css_grid_bounds\n",
    "               )"
   ]
  },
  {
   "cell_type": "code",
   "execution_count": 91,
   "id": "61e55af2-75d2-404b-bfb2-dcc66696179a",
   "metadata": {},
   "outputs": [
    {
     "name": "stderr",
     "output_type": "stream",
     "text": [
      "[Parallel(n_jobs=32)]: Using backend LokyBackend with 32 concurrent workers.\n",
      "/home/mszinte/env/anaconda3/envs/mszinte/lib/python3.9/site-packages/nilearn/glm/__init__.py:55: FutureWarning: The nilearn.glm module is experimental. It may change in any future release of Nilearn.\n",
      "  warn('The nilearn.glm module is experimental. '\n",
      "/home/mszinte/env/anaconda3/envs/mszinte/lib/python3.9/site-packages/nilearn/glm/__init__.py:55: FutureWarning: The nilearn.glm module is experimental. It may change in any future release of Nilearn.\n",
      "  warn('The nilearn.glm module is experimental. '\n",
      "/home/mszinte/env/anaconda3/envs/mszinte/lib/python3.9/site-packages/nilearn/glm/__init__.py:55: FutureWarning: The nilearn.glm module is experimental. It may change in any future release of Nilearn.\n",
      "  warn('The nilearn.glm module is experimental. '\n",
      "/home/mszinte/env/anaconda3/envs/mszinte/lib/python3.9/site-packages/nilearn/glm/__init__.py:55: FutureWarning: The nilearn.glm module is experimental. It may change in any future release of Nilearn.\n",
      "  warn('The nilearn.glm module is experimental. '\n",
      "/home/mszinte/env/anaconda3/envs/mszinte/lib/python3.9/site-packages/nilearn/glm/__init__.py:55: FutureWarning: The nilearn.glm module is experimental. It may change in any future release of Nilearn.\n",
      "  warn('The nilearn.glm module is experimental. '\n",
      "/home/mszinte/env/anaconda3/envs/mszinte/lib/python3.9/site-packages/nilearn/glm/__init__.py:55: FutureWarning: The nilearn.glm module is experimental. It may change in any future release of Nilearn.\n",
      "  warn('The nilearn.glm module is experimental. '\n",
      "[Parallel(n_jobs=32)]: Done   2 out of  10 | elapsed:   14.2s remaining:   56.8s\n",
      "[Parallel(n_jobs=32)]: Done  10 out of  10 | elapsed:   22.6s finished\n"
     ]
    }
   ],
   "source": [
    "css_fitter.iterative_fit(rsq_threshold=rsq_threshold, \n",
    "                         verbose=True,\n",
    "                         #bounds=css_bounds,\n",
    "                         xtol=xtol,\n",
    "                         ftol=ftol)\n",
    "fit_fit_css = css_fitter.iterative_search_params"
   ]
  },
  {
   "cell_type": "code",
   "execution_count": 94,
   "id": "bee25961-c874-4e53-bb7c-4a1085fc1775",
   "metadata": {},
   "outputs": [],
   "source": [
    "css_fit_mat = np.zeros((data_fsnative_.shape[1],9))\n",
    "css_pred_mat = np.zeros_like(data_fsnative_) \n",
    "for est in range(len(data_fsnative_.T)):\n",
    "    css_fit_mat[est] = fit_fit_css[est]\n",
    "    css_pred_mat[:,est] = css_model.return_prediction(mu_x=fit_fit_css[est][0], \n",
    "                                                      mu_y=fit_fit_css[est][1], \n",
    "                                                      size=fit_fit_css[est][2], \n",
    "                                                      beta=fit_fit_css[est][3], \n",
    "                                                      baseline=fit_fit_css[est][4],\n",
    "                                                      n=fit_fit_css[est][5],\n",
    "                                                      hrf_1=fit_fit_css[est][6],\n",
    "                                                      hrf_2=fit_fit_css[est][7],\n",
    "                                                   )"
   ]
  },
  {
   "cell_type": "code",
   "execution_count": 102,
   "id": "993148cc-6b78-4f48-9ae7-ef3a1a59ef9f",
   "metadata": {},
   "outputs": [
    {
     "data": {
      "application/vnd.plotly.v1+json": {
       "config": {
        "plotlyServerURL": "https://plot.ly"
       },
       "data": [
        {
         "mode": "markers",
         "name": "data",
         "type": "scatter",
         "y": [
          -0.5511178374290466,
          -0.45432525873184204,
          -0.37060755491256714,
          -0.9833055734634399,
          -0.3370093107223511,
          -0.1776156723499298,
          -0.595872163772583,
          -0.36129575967788696,
          -0.435811311006546,
          -0.10621387511491776,
          -0.3495415151119232,
          -0.15132766962051392,
          -0.5644310116767883,
          -0.005988195538520813,
          -0.10472360998392105,
          -0.46150749921798706,
          -0.29446113109588623,
          -0.005823910236358643,
          -0.20353233814239502,
          -0.2477833479642868,
          0.022885147482156754,
          -0.1509946584701538,
          -0.1570947915315628,
          -0.06320639699697495,
          0.1081521287560463,
          0.09147556871175766,
          0.3232644200325012,
          0.705233097076416,
          0.36323219537734985,
          0.851535975933075,
          0.5239111185073853,
          0.8004815578460693,
          1.32450532913208,
          1.1317347288131714,
          1.1203171014785767,
          0.9703047871589661,
          1.1491854190826416,
          1.6528968811035156,
          1.405947208404541,
          1.343846082687378,
          1.1706902980804443,
          0.3887542486190796,
          0.6340982913970947,
          0.4066631495952606,
          -0.4975658655166626,
          -0.9951032996177673,
          0.0033018067479133606,
          -0.4040353298187256,
          -0.07308437675237656,
          -0.25033408403396606,
          -0.8598983883857727,
          -0.4108943045139313,
          -0.47238102555274963,
          -0.9692254662513733,
          -0.1587705910205841,
          -0.15425358712673187,
          -0.7339839935302734,
          -0.10207924246788025,
          0.6697758436203003,
          -0.9040325284004211,
          -0.6829488277435303,
          0.39542579650878906,
          -0.4960235357284546,
          -0.6203192472457886,
          0.1825879067182541,
          -1.0282385349273682,
          -0.5683667659759521,
          -0.38867631554603577,
          -0.8775225877761841,
          -0.26355600357055664,
          -0.4334256052970886,
          -0.8231955170631409,
          -0.6822680830955505,
          -0.48039504885673523,
          -0.43014100193977356,
          -0.8654254674911499,
          -0.35926613211631775,
          -0.43029507994651794,
          -0.2875649333000183,
          -0.20710526406764984,
          -0.2324240803718567,
          0.20863670110702515,
          -0.14798268675804138,
          -0.3133292496204376,
          0.1696399301290512,
          -0.28533846139907837,
          -0.4909433126449585,
          -0.46220216155052185,
          0.021136268973350525,
          0.4074620008468628,
          0.09033877402544022,
          1.328864574432373,
          1.606124758720398,
          0.7300369739532471,
          1.9630730152130127,
          0.9493445158004761,
          1.0850363969802856,
          1.9443933963775635,
          0.545158863067627,
          0.9906046390533447,
          1.886606216430664,
          0.3130003809928894,
          0.5404292345046997,
          0.5491885542869568,
          -0.7680581212043762,
          -0.1527097523212433,
          0.09490600228309631,
          -0.8381763696670532,
          -0.21146909892559052,
          0.3690856695175171,
          -1.1769737005233765,
          -0.5449885129928589,
          0.6666422486305237,
          -1.0465755462646484,
          -0.41764235496520996,
          -0.1453865021467209,
          -0.8382611274719238,
          -0.38787540793418884,
          -0.3457324504852295,
          -0.7100687026977539,
          -0.024645688012242317,
          -0.6328520178794861,
          -0.7820255160331726,
          -0.3193760812282562,
          -0.47501781582832336,
          -0.28785598278045654,
          0.19678948819637299,
          -0.04207003116607666,
          0.3849717974662781,
          0.13736793398857117,
          0.09726199507713318,
          0.568906843662262,
          0.14604587852954865,
          0.09661033749580383,
          0.6679296493530273,
          -0.37074363231658936,
          0.4662545323371887,
          0.425178587436676,
          -0.20778922736644745,
          0.8139334321022034,
          -0.3983389139175415,
          -0.24945801496505737,
          -0.25133147835731506,
          -0.9110279083251953,
          -0.029388777911663055,
          -0.2844585180282593,
          0.2463119924068451,
          1.0329701900482178,
          0.38278108835220337,
          -0.4383153021335602,
          -0.4488200843334198,
          0.04452250897884369,
          -0.11523217707872391,
          -0.6422730684280396,
          -0.5938053131103516,
          -0.13654962182044983,
          -0.5824614763259888,
          -0.6701014637947083,
          0.06801734864711761,
          -0.5966931581497192,
          -0.5506489872932434,
          -0.6929783821105957,
          -0.5826403498649597,
          -0.2156408131122589,
          0.012414878234267235,
          -0.07833637297153473,
          0.40944239497184753,
          0.4330477714538574,
          0.47659265995025635,
          0.5288187861442566,
          0.5189198851585388,
          0.955044686794281,
          1.1476081609725952,
          0.5531964302062988,
          1.1029293537139893,
          0.5762381553649902,
          0.7221416234970093,
          0.9290833473205566,
          -0.07194731384515762,
          -0.02183985710144043,
          -0.18469218909740448,
          -0.4277046322822571,
          0.2838822603225708,
          -0.10715187340974808,
          0.37789589166641235,
          -0.4515886902809143,
          0.31767362356185913,
          0.08910691738128662,
          -0.48125383257865906,
          0.3407508134841919,
          -0.3496856689453125,
          0.48813560605049133,
          0.15412825345993042,
          -0.11109505593776703,
          0.5454538464546204,
          0.20645302534103394,
          -0.6516730785369873,
          -0.16656610369682312,
          -0.2845739424228668,
          -0.15725058317184448,
          -0.189316526055336,
          -0.3707752227783203,
          0.3452507257461548,
          -0.7721245288848877,
          -0.657721757888794,
          0.023511484265327454,
          -0.8694106340408325,
          -0.014628812670707703
         ]
        },
        {
         "name": "Gauss model (R2=0.52)",
         "type": "scatter",
         "y": [
          -0.35696056485176086,
          -0.35693126916885376,
          -0.35691195726394653,
          -0.35689985752105713,
          -0.35689258575439453,
          -0.35688841342926025,
          -0.356886088848114,
          -0.35688480734825134,
          -0.3568841516971588,
          -0.35688379406929016,
          -0.35688361525535583,
          -0.35688352584838867,
          -0.3568834662437439,
          -0.3568834662437439,
          -0.3568834662437439,
          -0.3568834662437439,
          -0.3568834662437439,
          -0.3568834662437439,
          -0.35688355565071106,
          -0.350822389125824,
          -0.3328222930431366,
          -0.30660638213157654,
          -0.2699912488460541,
          -0.21168717741966248,
          -0.12703289091587067,
          -0.04429840296506882,
          0.031538400799036026,
          0.12976694107055664,
          0.23647668957710266,
          0.3369826078414917,
          0.4311361610889435,
          0.5219977498054504,
          0.6074903011322021,
          0.6794697046279907,
          0.7595968246459961,
          0.8413764238357544,
          0.8506808280944824,
          0.8068587183952332,
          0.7571285367012024,
          0.6816703081130981,
          0.5660021901130676,
          0.42288872599601746,
          0.27493956685066223,
          0.14021751284599304,
          0.032857056707143784,
          -0.04605623707175255,
          -0.10818227380514145,
          -0.15481127798557281,
          -0.18757264316082,
          -0.211778461933136,
          -0.23312675952911377,
          -0.2541283369064331,
          -0.27407968044281006,
          -0.2913862466812134,
          -0.30560004711151123,
          -0.3167532980442047,
          -0.3251805603504181,
          -0.331497460603714,
          -0.3363869786262512,
          -0.34038862586021423,
          -0.34381771087646484,
          -0.3467992842197418,
          -0.3493502140045166,
          -0.35145583748817444,
          -0.3531170189380646,
          -0.35436713695526123,
          -0.35526275634765625,
          -0.355872243642807,
          -0.35626354813575745,
          -0.356492817401886,
          -0.3565930426120758,
          -0.3565618693828583,
          -0.3563547134399414,
          -0.35605475306510925,
          -0.35562464594841003,
          -0.35468629002571106,
          -0.35295283794403076,
          -0.3499443233013153,
          -0.3447994887828827,
          -0.3362387418746948,
          -0.32253918051719666,
          -0.3019733726978302,
          -0.26912158727645874,
          -0.2186773419380188,
          -0.16678950190544128,
          -0.11438202112913132,
          -0.03703176602721214,
          0.057646743953228,
          0.16129006445407867,
          0.274854838848114,
          0.40017592906951904,
          0.5339419841766357,
          0.6906604766845703,
          0.8723217248916626,
          1.0321948528289795,
          1.1238539218902588,
          1.1546531915664673,
          1.1661914587020874,
          1.1023757457733154,
          0.9016891121864319,
          0.6289159655570984,
          0.384304016828537,
          0.1519879400730133,
          -0.06464771926403046,
          -0.23045726120471954,
          -0.32325518131256104,
          -0.34939366579055786,
          -0.33336180448532104,
          -0.3022529184818268,
          -0.2756504714488983,
          -0.2626519501209259,
          -0.26383572816848755,
          -0.2751263678073883,
          -0.2912813723087311,
          -0.3079974949359894,
          -0.322171688079834,
          -0.33213138580322266,
          -0.3377569317817688,
          -0.3388197720050812,
          -0.3341226875782013,
          -0.32236433029174805,
          -0.3032260239124298,
          -0.28162881731987,
          -0.25691959261894226,
          -0.21880890429019928,
          -0.1685408502817154,
          -0.10726415365934372,
          -0.03234734386205673,
          0.058739010244607925,
          0.1649378538131714,
          0.3034786581993103,
          0.47282353043556213,
          0.6014444828033447,
          0.6876642107963562,
          0.780750036239624,
          0.8469059467315674,
          0.8578134775161743,
          0.8192028999328613,
          0.7492103576660156,
          0.6619540452957153,
          0.5644477009773254,
          0.4770781099796295,
          0.3998819589614868,
          0.30211296677589417,
          0.2021961659193039,
          0.11904723197221756,
          0.04344943165779114,
          -0.035873688757419586,
          -0.11365252733230591,
          -0.1787560135126114,
          -0.23126466572284698,
          -0.27084293961524963,
          -0.2963953912258148,
          -0.3095240890979767,
          -0.3144262135028839,
          -0.31579768657684326,
          -0.31711944937705994,
          -0.3200701177120209,
          -0.32481449842453003,
          -0.33066409826278687,
          -0.33670544624328613,
          -0.3421996831893921,
          -0.3467300832271576,
          -0.29475969076156616,
          -0.14871792495250702,
          0.01796564646065235,
          0.19226548075675964,
          0.434309720993042,
          0.7306724786758423,
          0.972220242023468,
          1.1171739101409912,
          1.1834049224853516,
          1.1897861957550049,
          1.117668628692627,
          0.974946141242981,
          0.7957831621170044,
          0.6135212182998657,
          0.44708094000816345,
          0.3152752220630646,
          0.215501606464386,
          0.12025106698274612,
          0.0378585048019886,
          -0.02432423084974289,
          -0.07573311775922775,
          -0.12385232001543045,
          -0.16938678920269012,
          -0.2098751664161682,
          -0.24305658042430878,
          -0.2682790458202362,
          -0.2863749563694,
          -0.2991865873336792,
          -0.3087828755378723,
          -0.31650933623313904,
          -0.3231968879699707,
          -0.32928305864334106,
          -0.3348664939403534,
          -0.3398575484752655,
          -0.3441329598426819,
          -0.3476293683052063,
          -0.35035932064056396,
          -0.35240229964256287,
          -0.35387495160102844,
          -0.3549042344093323,
          -0.35560473799705505,
          -0.3560710847377777,
          -0.35637572407722473,
          -0.3565713167190552,
          -0.35669487714767456
         ]
        },
        {
         "name": "CSS model (R2=0.52)",
         "type": "scatter",
         "y": [
          -0.3509584367275238,
          -0.35095643997192383,
          -0.35095512866973877,
          -0.3509542942047119,
          -0.3509538173675537,
          -0.3509535491466522,
          -0.3509534001350403,
          -0.3509533107280731,
          -0.35095325112342834,
          -0.35095322132110596,
          -0.35095322132110596,
          -0.35095319151878357,
          -0.35095319151878357,
          -0.35095319151878357,
          -0.35095319151878357,
          -0.35095319151878357,
          -0.35095319151878357,
          -0.35095319151878357,
          -0.35095325112342834,
          -0.34718000888824463,
          -0.33455657958984375,
          -0.3151428997516632,
          -0.2891141474246979,
          -0.2384764552116394,
          -0.1562078893184662,
          -0.09117069095373154,
          -0.040122270584106445,
          0.05227557197213173,
          0.1591615527868271,
          0.25141870975494385,
          0.3287809491157532,
          0.4009605348110199,
          0.47157204151153564,
          0.5336992740631104,
          0.6372116804122925,
          0.7605158090591431,
          0.7559263706207275,
          0.6877751350402832,
          0.6614722609519958,
          0.618950605392456,
          0.5133267641067505,
          0.36057353019714355,
          0.20011486113071442,
          0.06245892122387886,
          -0.034537576138973236,
          -0.09472343325614929,
          -0.13665375113487244,
          -0.1646040976047516,
          -0.18186140060424805,
          -0.19503332674503326,
          -0.21064403653144836,
          -0.23028333485126495,
          -0.2515602707862854,
          -0.2715629041194916,
          -0.28873488306999207,
          -0.302571564912796,
          -0.3132951557636261,
          -0.3215384781360626,
          -0.327993243932724,
          -0.3331930637359619,
          -0.3374607563018799,
          -0.3409595489501953,
          -0.34377190470695496,
          -0.3459605872631073,
          -0.34759873151779175,
          -0.3487778306007385,
          -0.3495892584323883,
          -0.35011616349220276,
          -0.3504330813884735,
          -0.35060206055641174,
          -0.3506540060043335,
          -0.35056981444358826,
          -0.3502977788448334,
          -0.34999167919158936,
          -0.349604994058609,
          -0.34867802262306213,
          -0.3469800055027008,
          -0.34408724308013916,
          -0.339120090007782,
          -0.33070769906044006,
          -0.3169657588005066,
          -0.2961837947368622,
          -0.2565406858921051,
          -0.190526083111763,
          -0.13744662702083588,
          -0.09234309941530228,
          -0.0027466723695397377,
          0.1093062087893486,
          0.2205406129360199,
          0.3315453827381134,
          0.44955021142959595,
          0.5748773217201233,
          0.7564294338226318,
          0.996374249458313,
          1.1802079677581787,
          1.2347279787063599,
          1.2241249084472656,
          1.250115156173706,
          1.1800923347473145,
          0.936383068561554,
          0.6312373876571655,
          0.35884809494018555,
          0.11392202973365784,
          -0.09000955522060394,
          -0.22346231341362,
          -0.2787168622016907,
          -0.2751621603965759,
          -0.24384190142154694,
          -0.211858332157135,
          -0.19476772844791412,
          -0.1964859962463379,
          -0.21324534714221954,
          -0.2382631152868271,
          -0.26515254378318787,
          -0.28954562544822693,
          -0.30906572937965393,
          -0.3229563236236572,
          -0.3317493200302124,
          -0.3360542953014374,
          -0.3350200951099396,
          -0.32776862382888794,
          -0.3148896098136902,
          -0.30225038528442383,
          -0.2879502773284912,
          -0.260056734085083,
          -0.22135208547115326,
          -0.17435196042060852,
          -0.11615270376205444,
          -0.042868003249168396,
          0.045212045311927795,
          0.19020988047122955,
          0.38805675506591797,
          0.49844980239868164,
          0.5510813593864441,
          0.6637734770774841,
          0.7620864510536194,
          0.7800012826919556,
          0.7255387306213379,
          0.6351662874221802,
          0.5370214581489563,
          0.44247353076934814,
          0.3790464997291565,
          0.33263587951660156,
          0.24526365101337433,
          0.15342046320438385,
          0.09199599176645279,
          0.038145795464515686,
          -0.027651406824588776,
          -0.09800165891647339,
          -0.16084064543247223,
          -0.21211281418800354,
          -0.24919909238815308,
          -0.2716926336288452,
          -0.2828189432621002,
          -0.28776833415031433,
          -0.29121971130371094,
          -0.29594823718070984,
          -0.3027343153953552,
          -0.3110201358795166,
          -0.3197178542613983,
          -0.32781192660331726,
          -0.33465370535850525,
          -0.3399944305419922,
          -0.30354827642440796,
          -0.1835019588470459,
          -0.037860091775655746,
          0.09824603796005249,
          0.34113451838493347,
          0.690146803855896,
          0.9586725234985352,
          1.107811450958252,
          1.2134723663330078,
          1.305375576019287,
          1.2898955345153809,
          1.1435799598693848,
          0.9242008328437805,
          0.6995723843574524,
          0.5076080560684204,
          0.381313681602478,
          0.30318838357925415,
          0.21097995340824127,
          0.1277775913476944,
          0.07499849051237106,
          0.030533304437994957,
          -0.021931495517492294,
          -0.08078419417142868,
          -0.137211874127388,
          -0.18412546813488007,
          -0.21908171474933624,
          -0.24339225888252258,
          -0.26041343808174133,
          -0.27364400029182434,
          -0.28512027859687805,
          -0.2958117723464966,
          -0.306003212928772,
          -0.31551387906074524,
          -0.3239833414554596,
          -0.3311256766319275,
          -0.3368467390537262,
          -0.3412104845046997,
          -0.3443952202796936,
          -0.34663155674934387,
          -0.34815487265586853,
          -0.34916654229164124,
          -0.3498256802558899,
          -0.3502490818500519,
          -0.35051819682121277,
          -0.3506876528263092
         ]
        }
       ],
       "layout": {
        "autosize": true,
        "template": {
         "data": {
          "bar": [
           {
            "error_x": {
             "color": "#2a3f5f"
            },
            "error_y": {
             "color": "#2a3f5f"
            },
            "marker": {
             "line": {
              "color": "#E5ECF6",
              "width": 0.5
             },
             "pattern": {
              "fillmode": "overlay",
              "size": 10,
              "solidity": 0.2
             }
            },
            "type": "bar"
           }
          ],
          "barpolar": [
           {
            "marker": {
             "line": {
              "color": "#E5ECF6",
              "width": 0.5
             },
             "pattern": {
              "fillmode": "overlay",
              "size": 10,
              "solidity": 0.2
             }
            },
            "type": "barpolar"
           }
          ],
          "carpet": [
           {
            "aaxis": {
             "endlinecolor": "#2a3f5f",
             "gridcolor": "white",
             "linecolor": "white",
             "minorgridcolor": "white",
             "startlinecolor": "#2a3f5f"
            },
            "baxis": {
             "endlinecolor": "#2a3f5f",
             "gridcolor": "white",
             "linecolor": "white",
             "minorgridcolor": "white",
             "startlinecolor": "#2a3f5f"
            },
            "type": "carpet"
           }
          ],
          "choropleth": [
           {
            "colorbar": {
             "outlinewidth": 0,
             "ticks": ""
            },
            "type": "choropleth"
           }
          ],
          "contour": [
           {
            "colorbar": {
             "outlinewidth": 0,
             "ticks": ""
            },
            "colorscale": [
             [
              0,
              "#0d0887"
             ],
             [
              0.1111111111111111,
              "#46039f"
             ],
             [
              0.2222222222222222,
              "#7201a8"
             ],
             [
              0.3333333333333333,
              "#9c179e"
             ],
             [
              0.4444444444444444,
              "#bd3786"
             ],
             [
              0.5555555555555556,
              "#d8576b"
             ],
             [
              0.6666666666666666,
              "#ed7953"
             ],
             [
              0.7777777777777778,
              "#fb9f3a"
             ],
             [
              0.8888888888888888,
              "#fdca26"
             ],
             [
              1,
              "#f0f921"
             ]
            ],
            "type": "contour"
           }
          ],
          "contourcarpet": [
           {
            "colorbar": {
             "outlinewidth": 0,
             "ticks": ""
            },
            "type": "contourcarpet"
           }
          ],
          "heatmap": [
           {
            "colorbar": {
             "outlinewidth": 0,
             "ticks": ""
            },
            "colorscale": [
             [
              0,
              "#0d0887"
             ],
             [
              0.1111111111111111,
              "#46039f"
             ],
             [
              0.2222222222222222,
              "#7201a8"
             ],
             [
              0.3333333333333333,
              "#9c179e"
             ],
             [
              0.4444444444444444,
              "#bd3786"
             ],
             [
              0.5555555555555556,
              "#d8576b"
             ],
             [
              0.6666666666666666,
              "#ed7953"
             ],
             [
              0.7777777777777778,
              "#fb9f3a"
             ],
             [
              0.8888888888888888,
              "#fdca26"
             ],
             [
              1,
              "#f0f921"
             ]
            ],
            "type": "heatmap"
           }
          ],
          "heatmapgl": [
           {
            "colorbar": {
             "outlinewidth": 0,
             "ticks": ""
            },
            "colorscale": [
             [
              0,
              "#0d0887"
             ],
             [
              0.1111111111111111,
              "#46039f"
             ],
             [
              0.2222222222222222,
              "#7201a8"
             ],
             [
              0.3333333333333333,
              "#9c179e"
             ],
             [
              0.4444444444444444,
              "#bd3786"
             ],
             [
              0.5555555555555556,
              "#d8576b"
             ],
             [
              0.6666666666666666,
              "#ed7953"
             ],
             [
              0.7777777777777778,
              "#fb9f3a"
             ],
             [
              0.8888888888888888,
              "#fdca26"
             ],
             [
              1,
              "#f0f921"
             ]
            ],
            "type": "heatmapgl"
           }
          ],
          "histogram": [
           {
            "marker": {
             "pattern": {
              "fillmode": "overlay",
              "size": 10,
              "solidity": 0.2
             }
            },
            "type": "histogram"
           }
          ],
          "histogram2d": [
           {
            "colorbar": {
             "outlinewidth": 0,
             "ticks": ""
            },
            "colorscale": [
             [
              0,
              "#0d0887"
             ],
             [
              0.1111111111111111,
              "#46039f"
             ],
             [
              0.2222222222222222,
              "#7201a8"
             ],
             [
              0.3333333333333333,
              "#9c179e"
             ],
             [
              0.4444444444444444,
              "#bd3786"
             ],
             [
              0.5555555555555556,
              "#d8576b"
             ],
             [
              0.6666666666666666,
              "#ed7953"
             ],
             [
              0.7777777777777778,
              "#fb9f3a"
             ],
             [
              0.8888888888888888,
              "#fdca26"
             ],
             [
              1,
              "#f0f921"
             ]
            ],
            "type": "histogram2d"
           }
          ],
          "histogram2dcontour": [
           {
            "colorbar": {
             "outlinewidth": 0,
             "ticks": ""
            },
            "colorscale": [
             [
              0,
              "#0d0887"
             ],
             [
              0.1111111111111111,
              "#46039f"
             ],
             [
              0.2222222222222222,
              "#7201a8"
             ],
             [
              0.3333333333333333,
              "#9c179e"
             ],
             [
              0.4444444444444444,
              "#bd3786"
             ],
             [
              0.5555555555555556,
              "#d8576b"
             ],
             [
              0.6666666666666666,
              "#ed7953"
             ],
             [
              0.7777777777777778,
              "#fb9f3a"
             ],
             [
              0.8888888888888888,
              "#fdca26"
             ],
             [
              1,
              "#f0f921"
             ]
            ],
            "type": "histogram2dcontour"
           }
          ],
          "mesh3d": [
           {
            "colorbar": {
             "outlinewidth": 0,
             "ticks": ""
            },
            "type": "mesh3d"
           }
          ],
          "parcoords": [
           {
            "line": {
             "colorbar": {
              "outlinewidth": 0,
              "ticks": ""
             }
            },
            "type": "parcoords"
           }
          ],
          "pie": [
           {
            "automargin": true,
            "type": "pie"
           }
          ],
          "scatter": [
           {
            "fillpattern": {
             "fillmode": "overlay",
             "size": 10,
             "solidity": 0.2
            },
            "type": "scatter"
           }
          ],
          "scatter3d": [
           {
            "line": {
             "colorbar": {
              "outlinewidth": 0,
              "ticks": ""
             }
            },
            "marker": {
             "colorbar": {
              "outlinewidth": 0,
              "ticks": ""
             }
            },
            "type": "scatter3d"
           }
          ],
          "scattercarpet": [
           {
            "marker": {
             "colorbar": {
              "outlinewidth": 0,
              "ticks": ""
             }
            },
            "type": "scattercarpet"
           }
          ],
          "scattergeo": [
           {
            "marker": {
             "colorbar": {
              "outlinewidth": 0,
              "ticks": ""
             }
            },
            "type": "scattergeo"
           }
          ],
          "scattergl": [
           {
            "marker": {
             "colorbar": {
              "outlinewidth": 0,
              "ticks": ""
             }
            },
            "type": "scattergl"
           }
          ],
          "scattermapbox": [
           {
            "marker": {
             "colorbar": {
              "outlinewidth": 0,
              "ticks": ""
             }
            },
            "type": "scattermapbox"
           }
          ],
          "scatterpolar": [
           {
            "marker": {
             "colorbar": {
              "outlinewidth": 0,
              "ticks": ""
             }
            },
            "type": "scatterpolar"
           }
          ],
          "scatterpolargl": [
           {
            "marker": {
             "colorbar": {
              "outlinewidth": 0,
              "ticks": ""
             }
            },
            "type": "scatterpolargl"
           }
          ],
          "scatterternary": [
           {
            "marker": {
             "colorbar": {
              "outlinewidth": 0,
              "ticks": ""
             }
            },
            "type": "scatterternary"
           }
          ],
          "surface": [
           {
            "colorbar": {
             "outlinewidth": 0,
             "ticks": ""
            },
            "colorscale": [
             [
              0,
              "#0d0887"
             ],
             [
              0.1111111111111111,
              "#46039f"
             ],
             [
              0.2222222222222222,
              "#7201a8"
             ],
             [
              0.3333333333333333,
              "#9c179e"
             ],
             [
              0.4444444444444444,
              "#bd3786"
             ],
             [
              0.5555555555555556,
              "#d8576b"
             ],
             [
              0.6666666666666666,
              "#ed7953"
             ],
             [
              0.7777777777777778,
              "#fb9f3a"
             ],
             [
              0.8888888888888888,
              "#fdca26"
             ],
             [
              1,
              "#f0f921"
             ]
            ],
            "type": "surface"
           }
          ],
          "table": [
           {
            "cells": {
             "fill": {
              "color": "#EBF0F8"
             },
             "line": {
              "color": "white"
             }
            },
            "header": {
             "fill": {
              "color": "#C8D4E3"
             },
             "line": {
              "color": "white"
             }
            },
            "type": "table"
           }
          ]
         },
         "layout": {
          "annotationdefaults": {
           "arrowcolor": "#2a3f5f",
           "arrowhead": 0,
           "arrowwidth": 1
          },
          "autotypenumbers": "strict",
          "coloraxis": {
           "colorbar": {
            "outlinewidth": 0,
            "ticks": ""
           }
          },
          "colorscale": {
           "diverging": [
            [
             0,
             "#8e0152"
            ],
            [
             0.1,
             "#c51b7d"
            ],
            [
             0.2,
             "#de77ae"
            ],
            [
             0.3,
             "#f1b6da"
            ],
            [
             0.4,
             "#fde0ef"
            ],
            [
             0.5,
             "#f7f7f7"
            ],
            [
             0.6,
             "#e6f5d0"
            ],
            [
             0.7,
             "#b8e186"
            ],
            [
             0.8,
             "#7fbc41"
            ],
            [
             0.9,
             "#4d9221"
            ],
            [
             1,
             "#276419"
            ]
           ],
           "sequential": [
            [
             0,
             "#0d0887"
            ],
            [
             0.1111111111111111,
             "#46039f"
            ],
            [
             0.2222222222222222,
             "#7201a8"
            ],
            [
             0.3333333333333333,
             "#9c179e"
            ],
            [
             0.4444444444444444,
             "#bd3786"
            ],
            [
             0.5555555555555556,
             "#d8576b"
            ],
            [
             0.6666666666666666,
             "#ed7953"
            ],
            [
             0.7777777777777778,
             "#fb9f3a"
            ],
            [
             0.8888888888888888,
             "#fdca26"
            ],
            [
             1,
             "#f0f921"
            ]
           ],
           "sequentialminus": [
            [
             0,
             "#0d0887"
            ],
            [
             0.1111111111111111,
             "#46039f"
            ],
            [
             0.2222222222222222,
             "#7201a8"
            ],
            [
             0.3333333333333333,
             "#9c179e"
            ],
            [
             0.4444444444444444,
             "#bd3786"
            ],
            [
             0.5555555555555556,
             "#d8576b"
            ],
            [
             0.6666666666666666,
             "#ed7953"
            ],
            [
             0.7777777777777778,
             "#fb9f3a"
            ],
            [
             0.8888888888888888,
             "#fdca26"
            ],
            [
             1,
             "#f0f921"
            ]
           ]
          },
          "colorway": [
           "#636efa",
           "#EF553B",
           "#00cc96",
           "#ab63fa",
           "#FFA15A",
           "#19d3f3",
           "#FF6692",
           "#B6E880",
           "#FF97FF",
           "#FECB52"
          ],
          "font": {
           "color": "#2a3f5f"
          },
          "geo": {
           "bgcolor": "white",
           "lakecolor": "white",
           "landcolor": "#E5ECF6",
           "showlakes": true,
           "showland": true,
           "subunitcolor": "white"
          },
          "hoverlabel": {
           "align": "left"
          },
          "hovermode": "closest",
          "mapbox": {
           "style": "light"
          },
          "paper_bgcolor": "white",
          "plot_bgcolor": "#E5ECF6",
          "polar": {
           "angularaxis": {
            "gridcolor": "white",
            "linecolor": "white",
            "ticks": ""
           },
           "bgcolor": "#E5ECF6",
           "radialaxis": {
            "gridcolor": "white",
            "linecolor": "white",
            "ticks": ""
           }
          },
          "scene": {
           "xaxis": {
            "backgroundcolor": "#E5ECF6",
            "gridcolor": "white",
            "gridwidth": 2,
            "linecolor": "white",
            "showbackground": true,
            "ticks": "",
            "zerolinecolor": "white"
           },
           "yaxis": {
            "backgroundcolor": "#E5ECF6",
            "gridcolor": "white",
            "gridwidth": 2,
            "linecolor": "white",
            "showbackground": true,
            "ticks": "",
            "zerolinecolor": "white"
           },
           "zaxis": {
            "backgroundcolor": "#E5ECF6",
            "gridcolor": "white",
            "gridwidth": 2,
            "linecolor": "white",
            "showbackground": true,
            "ticks": "",
            "zerolinecolor": "white"
           }
          },
          "shapedefaults": {
           "line": {
            "color": "#2a3f5f"
           }
          },
          "ternary": {
           "aaxis": {
            "gridcolor": "white",
            "linecolor": "white",
            "ticks": ""
           },
           "baxis": {
            "gridcolor": "white",
            "linecolor": "white",
            "ticks": ""
           },
           "bgcolor": "#E5ECF6",
           "caxis": {
            "gridcolor": "white",
            "linecolor": "white",
            "ticks": ""
           }
          },
          "title": {
           "x": 0.05
          },
          "xaxis": {
           "automargin": true,
           "gridcolor": "white",
           "linecolor": "white",
           "ticks": "",
           "title": {
            "standoff": 15
           },
           "zerolinecolor": "white",
           "zerolinewidth": 2
          },
          "yaxis": {
           "automargin": true,
           "gridcolor": "white",
           "linecolor": "white",
           "ticks": "",
           "title": {
            "standoff": 15
           },
           "zerolinecolor": "white",
           "zerolinewidth": 2
          }
         }
        },
        "xaxis": {
         "autorange": true,
         "range": [
          -12.12405035815064,
          219.12405035815064
         ]
        },
        "yaxis": {
         "autorange": true,
         "range": [
          -1.4361037692977388,
          2.2222030839873748
         ],
         "type": "linear"
        }
       }
      },
      "image/png": "[encoded data removed]",
      "text/html": [
       "<div>                            <div id=\"8b075e05-e8b7-4104-9770-a2d851be0b32\" class=\"plotly-graph-div\" style=\"height:525px; width:100%;\"></div>            <script type=\"text/javascript\">                require([\"plotly\"], function(Plotly) {                    window.PLOTLYENV=window.PLOTLYENV || {};                                    if (document.getElementById(\"8b075e05-e8b7-4104-9770-a2d851be0b32\")) {                    Plotly.newPlot(                        \"8b075e05-e8b7-4104-9770-a2d851be0b32\",                        [{\"mode\":\"markers\",\"name\":\"data\",\"y\":[-0.5511178374290466,-0.45432525873184204,-0.37060755491256714,-0.9833055734634399,-0.3370093107223511,-0.1776156723499298,-0.595872163772583,-0.36129575967788696,-0.435811311006546,-0.10621387511491776,-0.3495415151119232,-0.15132766962051392,-0.5644310116767883,-0.005988195538520813,-0.10472360998392105,-0.46150749921798706,-0.29446113109588623,-0.005823910236358643,-0.20353233814239502,-0.2477833479642868,0.022885147482156754,-0.1509946584701538,-0.1570947915315628,-0.06320639699697495,0.1081521287560463,0.09147556871175766,0.3232644200325012,0.705233097076416,0.36323219537734985,0.851535975933075,0.5239111185073853,0.8004815578460693,1.32450532913208,1.1317347288131714,1.1203171014785767,0.9703047871589661,1.1491854190826416,1.6528968811035156,1.405947208404541,1.343846082687378,1.1706902980804443,0.3887542486190796,0.6340982913970947,0.4066631495952606,-0.4975658655166626,-0.9951032996177673,0.0033018067479133606,-0.4040353298187256,-0.07308437675237656,-0.25033408403396606,-0.8598983883857727,-0.4108943045139313,-0.47238102555274963,-0.9692254662513733,-0.1587705910205841,-0.15425358712673187,-0.7339839935302734,-0.10207924246788025,0.6697758436203003,-0.9040325284004211,-0.6829488277435303,0.39542579650878906,-0.4960235357284546,-0.6203192472457886,0.1825879067182541,-1.0282385349273682,-0.5683667659759521,-0.38867631554603577,-0.8775225877761841,-0.26355600357055664,-0.4334256052970886,-0.8231955170631409,-0.6822680830955505,-0.48039504885673523,-0.43014100193977356,-0.8654254674911499,-0.35926613211631775,-0.43029507994651794,-0.2875649333000183,-0.20710526406764984,-0.2324240803718567,0.20863670110702515,-0.14798268675804138,-0.3133292496204376,0.1696399301290512,-0.28533846139907837,-0.4909433126449585,-0.46220216155052185,0.021136268973350525,0.4074620008468628,0.09033877402544022,1.328864574432373,1.606124758720398,0.7300369739532471,1.9630730152130127,0.9493445158004761,1.0850363969802856,1.9443933963775635,0.545158863067627,0.9906046390533447,1.886606216430664,0.3130003809928894,0.5404292345046997,0.5491885542869568,-0.7680581212043762,-0.1527097523212433,0.09490600228309631,-0.8381763696670532,-0.21146909892559052,0.3690856695175171,-1.1769737005233765,-0.5449885129928589,0.6666422486305237,-1.0465755462646484,-0.41764235496520996,-0.1453865021467209,-0.8382611274719238,-0.38787540793418884,-0.3457324504852295,-0.7100687026977539,-0.024645688012242317,-0.6328520178794861,-0.7820255160331726,-0.3193760812282562,-0.47501781582832336,-0.28785598278045654,0.19678948819637299,-0.04207003116607666,0.3849717974662781,0.13736793398857117,0.09726199507713318,0.568906843662262,0.14604587852954865,0.09661033749580383,0.6679296493530273,-0.37074363231658936,0.4662545323371887,0.425178587436676,-0.20778922736644745,0.8139334321022034,-0.3983389139175415,-0.24945801496505737,-0.25133147835731506,-0.9110279083251953,-0.029388777911663055,-0.2844585180282593,0.2463119924068451,1.0329701900482178,0.38278108835220337,-0.4383153021335602,-0.4488200843334198,0.04452250897884369,-0.11523217707872391,-0.6422730684280396,-0.5938053131103516,-0.13654962182044983,-0.5824614763259888,-0.6701014637947083,0.06801734864711761,-0.5966931581497192,-0.5506489872932434,-0.6929783821105957,-0.5826403498649597,-0.2156408131122589,0.012414878234267235,-0.07833637297153473,0.40944239497184753,0.4330477714538574,0.47659265995025635,0.5288187861442566,0.5189198851585388,0.955044686794281,1.1476081609725952,0.5531964302062988,1.1029293537139893,0.5762381553649902,0.7221416234970093,0.9290833473205566,-0.07194731384515762,-0.02183985710144043,-0.18469218909740448,-0.4277046322822571,0.2838822603225708,-0.10715187340974808,0.37789589166641235,-0.4515886902809143,0.31767362356185913,0.08910691738128662,-0.48125383257865906,0.3407508134841919,-0.3496856689453125,0.48813560605049133,0.15412825345993042,-0.11109505593776703,0.5454538464546204,0.20645302534103394,-0.6516730785369873,-0.16656610369682312,-0.2845739424228668,-0.15725058317184448,-0.189316526055336,-0.3707752227783203,0.3452507257461548,-0.7721245288848877,-0.657721757888794,0.023511484265327454,-0.8694106340408325,-0.014628812670707703],\"type\":\"scatter\"},{\"name\":\"Gauss model (R2=0.52)\",\"y\":[-0.35696056485176086,-0.35693126916885376,-0.35691195726394653,-0.35689985752105713,-0.35689258575439453,-0.35688841342926025,-0.356886088848114,-0.35688480734825134,-0.3568841516971588,-0.35688379406929016,-0.35688361525535583,-0.35688352584838867,-0.3568834662437439,-0.3568834662437439,-0.3568834662437439,-0.3568834662437439,-0.3568834662437439,-0.3568834662437439,-0.35688355565071106,-0.350822389125824,-0.3328222930431366,-0.30660638213157654,-0.2699912488460541,-0.21168717741966248,-0.12703289091587067,-0.04429840296506882,0.031538400799036026,0.12976694107055664,0.23647668957710266,0.3369826078414917,0.4311361610889435,0.5219977498054504,0.6074903011322021,0.6794697046279907,0.7595968246459961,0.8413764238357544,0.8506808280944824,0.8068587183952332,0.7571285367012024,0.6816703081130981,0.5660021901130676,0.42288872599601746,0.27493956685066223,0.14021751284599304,0.032857056707143784,-0.04605623707175255,-0.10818227380514145,-0.15481127798557281,-0.18757264316082,-0.211778461933136,-0.23312675952911377,-0.2541283369064331,-0.27407968044281006,-0.2913862466812134,-0.30560004711151123,-0.3167532980442047,-0.3251805603504181,-0.331497460603714,-0.3363869786262512,-0.34038862586021423,-0.34381771087646484,-0.3467992842197418,-0.3493502140045166,-0.35145583748817444,-0.3531170189380646,-0.35436713695526123,-0.35526275634765625,-0.355872243642807,-0.35626354813575745,-0.356492817401886,-0.3565930426120758,-0.3565618693828583,-0.3563547134399414,-0.35605475306510925,-0.35562464594841003,-0.35468629002571106,-0.35295283794403076,-0.3499443233013153,-0.3447994887828827,-0.3362387418746948,-0.32253918051719666,-0.3019733726978302,-0.26912158727645874,-0.2186773419380188,-0.16678950190544128,-0.11438202112913132,-0.03703176602721214,0.057646743953228,0.16129006445407867,0.274854838848114,0.40017592906951904,0.5339419841766357,0.6906604766845703,0.8723217248916626,1.0321948528289795,1.1238539218902588,1.1546531915664673,1.1661914587020874,1.1023757457733154,0.9016891121864319,0.6289159655570984,0.384304016828537,0.1519879400730133,-0.06464771926403046,-0.23045726120471954,-0.32325518131256104,-0.34939366579055786,-0.33336180448532104,-0.3022529184818268,-0.2756504714488983,-0.2626519501209259,-0.26383572816848755,-0.2751263678073883,-0.2912813723087311,-0.3079974949359894,-0.322171688079834,-0.33213138580322266,-0.3377569317817688,-0.3388197720050812,-0.3341226875782013,-0.32236433029174805,-0.3032260239124298,-0.28162881731987,-0.25691959261894226,-0.21880890429019928,-0.1685408502817154,-0.10726415365934372,-0.03234734386205673,0.058739010244607925,0.1649378538131714,0.3034786581993103,0.47282353043556213,0.6014444828033447,0.6876642107963562,0.780750036239624,0.8469059467315674,0.8578134775161743,0.8192028999328613,0.7492103576660156,0.6619540452957153,0.5644477009773254,0.4770781099796295,0.3998819589614868,0.30211296677589417,0.2021961659193039,0.11904723197221756,0.04344943165779114,-0.035873688757419586,-0.11365252733230591,-0.1787560135126114,-0.23126466572284698,-0.27084293961524963,-0.2963953912258148,-0.3095240890979767,-0.3144262135028839,-0.31579768657684326,-0.31711944937705994,-0.3200701177120209,-0.32481449842453003,-0.33066409826278687,-0.33670544624328613,-0.3421996831893921,-0.3467300832271576,-0.29475969076156616,-0.14871792495250702,0.01796564646065235,0.19226548075675964,0.434309720993042,0.7306724786758423,0.972220242023468,1.1171739101409912,1.1834049224853516,1.1897861957550049,1.117668628692627,0.974946141242981,0.7957831621170044,0.6135212182998657,0.44708094000816345,0.3152752220630646,0.215501606464386,0.12025106698274612,0.0378585048019886,-0.02432423084974289,-0.07573311775922775,-0.12385232001543045,-0.16938678920269012,-0.2098751664161682,-0.24305658042430878,-0.2682790458202362,-0.2863749563694,-0.2991865873336792,-0.3087828755378723,-0.31650933623313904,-0.3231968879699707,-0.32928305864334106,-0.3348664939403534,-0.3398575484752655,-0.3441329598426819,-0.3476293683052063,-0.35035932064056396,-0.35240229964256287,-0.35387495160102844,-0.3549042344093323,-0.35560473799705505,-0.3560710847377777,-0.35637572407722473,-0.3565713167190552,-0.35669487714767456],\"type\":\"scatter\"},{\"name\":\"CSS model (R2=0.52)\",\"y\":[-0.3509584367275238,-0.35095643997192383,-0.35095512866973877,-0.3509542942047119,-0.3509538173675537,-0.3509535491466522,-0.3509534001350403,-0.3509533107280731,-0.35095325112342834,-0.35095322132110596,-0.35095322132110596,-0.35095319151878357,-0.35095319151878357,-0.35095319151878357,-0.35095319151878357,-0.35095319151878357,-0.35095319151878357,-0.35095319151878357,-0.35095325112342834,-0.34718000888824463,-0.33455657958984375,-0.3151428997516632,-0.2891141474246979,-0.2384764552116394,-0.1562078893184662,-0.09117069095373154,-0.040122270584106445,0.05227557197213173,0.1591615527868271,0.25141870975494385,0.3287809491157532,0.4009605348110199,0.47157204151153564,0.5336992740631104,0.6372116804122925,0.7605158090591431,0.7559263706207275,0.6877751350402832,0.6614722609519958,0.618950605392456,0.5133267641067505,0.36057353019714355,0.20011486113071442,0.06245892122387886,-0.034537576138973236,-0.09472343325614929,-0.13665375113487244,-0.1646040976047516,-0.18186140060424805,-0.19503332674503326,-0.21064403653144836,-0.23028333485126495,-0.2515602707862854,-0.2715629041194916,-0.28873488306999207,-0.302571564912796,-0.3132951557636261,-0.3215384781360626,-0.327993243932724,-0.3331930637359619,-0.3374607563018799,-0.3409595489501953,-0.34377190470695496,-0.3459605872631073,-0.34759873151779175,-0.3487778306007385,-0.3495892584323883,-0.35011616349220276,-0.3504330813884735,-0.35060206055641174,-0.3506540060043335,-0.35056981444358826,-0.3502977788448334,-0.34999167919158936,-0.349604994058609,-0.34867802262306213,-0.3469800055027008,-0.34408724308013916,-0.339120090007782,-0.33070769906044006,-0.3169657588005066,-0.2961837947368622,-0.2565406858921051,-0.190526083111763,-0.13744662702083588,-0.09234309941530228,-0.0027466723695397377,0.1093062087893486,0.2205406129360199,0.3315453827381134,0.44955021142959595,0.5748773217201233,0.7564294338226318,0.996374249458313,1.1802079677581787,1.2347279787063599,1.2241249084472656,1.250115156173706,1.1800923347473145,0.936383068561554,0.6312373876571655,0.35884809494018555,0.11392202973365784,-0.09000955522060394,-0.22346231341362,-0.2787168622016907,-0.2751621603965759,-0.24384190142154694,-0.211858332157135,-0.19476772844791412,-0.1964859962463379,-0.21324534714221954,-0.2382631152868271,-0.26515254378318787,-0.28954562544822693,-0.30906572937965393,-0.3229563236236572,-0.3317493200302124,-0.3360542953014374,-0.3350200951099396,-0.32776862382888794,-0.3148896098136902,-0.30225038528442383,-0.2879502773284912,-0.260056734085083,-0.22135208547115326,-0.17435196042060852,-0.11615270376205444,-0.042868003249168396,0.045212045311927795,0.19020988047122955,0.38805675506591797,0.49844980239868164,0.5510813593864441,0.6637734770774841,0.7620864510536194,0.7800012826919556,0.7255387306213379,0.6351662874221802,0.5370214581489563,0.44247353076934814,0.3790464997291565,0.33263587951660156,0.24526365101337433,0.15342046320438385,0.09199599176645279,0.038145795464515686,-0.027651406824588776,-0.09800165891647339,-0.16084064543247223,-0.21211281418800354,-0.24919909238815308,-0.2716926336288452,-0.2828189432621002,-0.28776833415031433,-0.29121971130371094,-0.29594823718070984,-0.3027343153953552,-0.3110201358795166,-0.3197178542613983,-0.32781192660331726,-0.33465370535850525,-0.3399944305419922,-0.30354827642440796,-0.1835019588470459,-0.037860091775655746,0.09824603796005249,0.34113451838493347,0.690146803855896,0.9586725234985352,1.107811450958252,1.2134723663330078,1.305375576019287,1.2898955345153809,1.1435799598693848,0.9242008328437805,0.6995723843574524,0.5076080560684204,0.381313681602478,0.30318838357925415,0.21097995340824127,0.1277775913476944,0.07499849051237106,0.030533304437994957,-0.021931495517492294,-0.08078419417142868,-0.137211874127388,-0.18412546813488007,-0.21908171474933624,-0.24339225888252258,-0.26041343808174133,-0.27364400029182434,-0.28512027859687805,-0.2958117723464966,-0.306003212928772,-0.31551387906074524,-0.3239833414554596,-0.3311256766319275,-0.3368467390537262,-0.3412104845046997,-0.3443952202796936,-0.34663155674934387,-0.34815487265586853,-0.34916654229164124,-0.3498256802558899,-0.3502490818500519,-0.35051819682121277,-0.3506876528263092],\"type\":\"scatter\"}],                        {\"template\":{\"data\":{\"histogram2dcontour\":[{\"type\":\"histogram2dcontour\",\"colorbar\":{\"outlinewidth\":0,\"ticks\":\"\"},\"colorscale\":[[0.0,\"#0d0887\"],[0.1111111111111111,\"#46039f\"],[0.2222222222222222,\"#7201a8\"],[0.3333333333333333,\"#9c179e\"],[0.4444444444444444,\"#bd3786\"],[0.5555555555555556,\"#d8576b\"],[0.6666666666666666,\"#ed7953\"],[0.7777777777777778,\"#fb9f3a\"],[0.8888888888888888,\"#fdca26\"],[1.0,\"#f0f921\"]]}],\"choropleth\":[{\"type\":\"choropleth\",\"colorbar\":{\"outlinewidth\":0,\"ticks\":\"\"}}],\"histogram2d\":[{\"type\":\"histogram2d\",\"colorbar\":{\"outlinewidth\":0,\"ticks\":\"\"},\"colorscale\":[[0.0,\"#0d0887\"],[0.1111111111111111,\"#46039f\"],[0.2222222222222222,\"#7201a8\"],[0.3333333333333333,\"#9c179e\"],[0.4444444444444444,\"#bd3786\"],[0.5555555555555556,\"#d8576b\"],[0.6666666666666666,\"#ed7953\"],[0.7777777777777778,\"#fb9f3a\"],[0.8888888888888888,\"#fdca26\"],[1.0,\"#f0f921\"]]}],\"heatmap\":[{\"type\":\"heatmap\",\"colorbar\":{\"outlinewidth\":0,\"ticks\":\"\"},\"colorscale\":[[0.0,\"#0d0887\"],[0.1111111111111111,\"#46039f\"],[0.2222222222222222,\"#7201a8\"],[0.3333333333333333,\"#9c179e\"],[0.4444444444444444,\"#bd3786\"],[0.5555555555555556,\"#d8576b\"],[0.6666666666666666,\"#ed7953\"],[0.7777777777777778,\"#fb9f3a\"],[0.8888888888888888,\"#fdca26\"],[1.0,\"#f0f921\"]]}],\"heatmapgl\":[{\"type\":\"heatmapgl\",\"colorbar\":{\"outlinewidth\":0,\"ticks\":\"\"},\"colorscale\":[[0.0,\"#0d0887\"],[0.1111111111111111,\"#46039f\"],[0.2222222222222222,\"#7201a8\"],[0.3333333333333333,\"#9c179e\"],[0.4444444444444444,\"#bd3786\"],[0.5555555555555556,\"#d8576b\"],[0.6666666666666666,\"#ed7953\"],[0.7777777777777778,\"#fb9f3a\"],[0.8888888888888888,\"#fdca26\"],[1.0,\"#f0f921\"]]}],\"contourcarpet\":[{\"type\":\"contourcarpet\",\"colorbar\":{\"outlinewidth\":0,\"ticks\":\"\"}}],\"contour\":[{\"type\":\"contour\",\"colorbar\":{\"outlinewidth\":0,\"ticks\":\"\"},\"colorscale\":[[0.0,\"#0d0887\"],[0.1111111111111111,\"#46039f\"],[0.2222222222222222,\"#7201a8\"],[0.3333333333333333,\"#9c179e\"],[0.4444444444444444,\"#bd3786\"],[0.5555555555555556,\"#d8576b\"],[0.6666666666666666,\"#ed7953\"],[0.7777777777777778,\"#fb9f3a\"],[0.8888888888888888,\"#fdca26\"],[1.0,\"#f0f921\"]]}],\"surface\":[{\"type\":\"surface\",\"colorbar\":{\"outlinewidth\":0,\"ticks\":\"\"},\"colorscale\":[[0.0,\"#0d0887\"],[0.1111111111111111,\"#46039f\"],[0.2222222222222222,\"#7201a8\"],[0.3333333333333333,\"#9c179e\"],[0.4444444444444444,\"#bd3786\"],[0.5555555555555556,\"#d8576b\"],[0.6666666666666666,\"#ed7953\"],[0.7777777777777778,\"#fb9f3a\"],[0.8888888888888888,\"#fdca26\"],[1.0,\"#f0f921\"]]}],\"mesh3d\":[{\"type\":\"mesh3d\",\"colorbar\":{\"outlinewidth\":0,\"ticks\":\"\"}}],\"scatter\":[{\"fillpattern\":{\"fillmode\":\"overlay\",\"size\":10,\"solidity\":0.2},\"type\":\"scatter\"}],\"parcoords\":[{\"type\":\"parcoords\",\"line\":{\"colorbar\":{\"outlinewidth\":0,\"ticks\":\"\"}}}],\"scatterpolargl\":[{\"type\":\"scatterpolargl\",\"marker\":{\"colorbar\":{\"outlinewidth\":0,\"ticks\":\"\"}}}],\"bar\":[{\"error_x\":{\"color\":\"#2a3f5f\"},\"error_y\":{\"color\":\"#2a3f5f\"},\"marker\":{\"line\":{\"color\":\"#E5ECF6\",\"width\":0.5},\"pattern\":{\"fillmode\":\"overlay\",\"size\":10,\"solidity\":0.2}},\"type\":\"bar\"}],\"scattergeo\":[{\"type\":\"scattergeo\",\"marker\":{\"colorbar\":{\"outlinewidth\":0,\"ticks\":\"\"}}}],\"scatterpolar\":[{\"type\":\"scatterpolar\",\"marker\":{\"colorbar\":{\"outlinewidth\":0,\"ticks\":\"\"}}}],\"histogram\":[{\"marker\":{\"pattern\":{\"fillmode\":\"overlay\",\"size\":10,\"solidity\":0.2}},\"type\":\"histogram\"}],\"scattergl\":[{\"type\":\"scattergl\",\"marker\":{\"colorbar\":{\"outlinewidth\":0,\"ticks\":\"\"}}}],\"scatter3d\":[{\"type\":\"scatter3d\",\"line\":{\"colorbar\":{\"outlinewidth\":0,\"ticks\":\"\"}},\"marker\":{\"colorbar\":{\"outlinewidth\":0,\"ticks\":\"\"}}}],\"scattermapbox\":[{\"type\":\"scattermapbox\",\"marker\":{\"colorbar\":{\"outlinewidth\":0,\"ticks\":\"\"}}}],\"scatterternary\":[{\"type\":\"scatterternary\",\"marker\":{\"colorbar\":{\"outlinewidth\":0,\"ticks\":\"\"}}}],\"scattercarpet\":[{\"type\":\"scattercarpet\",\"marker\":{\"colorbar\":{\"outlinewidth\":0,\"ticks\":\"\"}}}],\"carpet\":[{\"aaxis\":{\"endlinecolor\":\"#2a3f5f\",\"gridcolor\":\"white\",\"linecolor\":\"white\",\"minorgridcolor\":\"white\",\"startlinecolor\":\"#2a3f5f\"},\"baxis\":{\"endlinecolor\":\"#2a3f5f\",\"gridcolor\":\"white\",\"linecolor\":\"white\",\"minorgridcolor\":\"white\",\"startlinecolor\":\"#2a3f5f\"},\"type\":\"carpet\"}],\"table\":[{\"cells\":{\"fill\":{\"color\":\"#EBF0F8\"},\"line\":{\"color\":\"white\"}},\"header\":{\"fill\":{\"color\":\"#C8D4E3\"},\"line\":{\"color\":\"white\"}},\"type\":\"table\"}],\"barpolar\":[{\"marker\":{\"line\":{\"color\":\"#E5ECF6\",\"width\":0.5},\"pattern\":{\"fillmode\":\"overlay\",\"size\":10,\"solidity\":0.2}},\"type\":\"barpolar\"}],\"pie\":[{\"automargin\":true,\"type\":\"pie\"}]},\"layout\":{\"autotypenumbers\":\"strict\",\"colorway\":[\"#636efa\",\"#EF553B\",\"#00cc96\",\"#ab63fa\",\"#FFA15A\",\"#19d3f3\",\"#FF6692\",\"#B6E880\",\"#FF97FF\",\"#FECB52\"],\"font\":{\"color\":\"#2a3f5f\"},\"hovermode\":\"closest\",\"hoverlabel\":{\"align\":\"left\"},\"paper_bgcolor\":\"white\",\"plot_bgcolor\":\"#E5ECF6\",\"polar\":{\"bgcolor\":\"#E5ECF6\",\"angularaxis\":{\"gridcolor\":\"white\",\"linecolor\":\"white\",\"ticks\":\"\"},\"radialaxis\":{\"gridcolor\":\"white\",\"linecolor\":\"white\",\"ticks\":\"\"}},\"ternary\":{\"bgcolor\":\"#E5ECF6\",\"aaxis\":{\"gridcolor\":\"white\",\"linecolor\":\"white\",\"ticks\":\"\"},\"baxis\":{\"gridcolor\":\"white\",\"linecolor\":\"white\",\"ticks\":\"\"},\"caxis\":{\"gridcolor\":\"white\",\"linecolor\":\"white\",\"ticks\":\"\"}},\"coloraxis\":{\"colorbar\":{\"outlinewidth\":0,\"ticks\":\"\"}},\"colorscale\":{\"sequential\":[[0.0,\"#0d0887\"],[0.1111111111111111,\"#46039f\"],[0.2222222222222222,\"#7201a8\"],[0.3333333333333333,\"#9c179e\"],[0.4444444444444444,\"#bd3786\"],[0.5555555555555556,\"#d8576b\"],[0.6666666666666666,\"#ed7953\"],[0.7777777777777778,\"#fb9f3a\"],[0.8888888888888888,\"#fdca26\"],[1.0,\"#f0f921\"]],\"sequentialminus\":[[0.0,\"#0d0887\"],[0.1111111111111111,\"#46039f\"],[0.2222222222222222,\"#7201a8\"],[0.3333333333333333,\"#9c179e\"],[0.4444444444444444,\"#bd3786\"],[0.5555555555555556,\"#d8576b\"],[0.6666666666666666,\"#ed7953\"],[0.7777777777777778,\"#fb9f3a\"],[0.8888888888888888,\"#fdca26\"],[1.0,\"#f0f921\"]],\"diverging\":[[0,\"#8e0152\"],[0.1,\"#c51b7d\"],[0.2,\"#de77ae\"],[0.3,\"#f1b6da\"],[0.4,\"#fde0ef\"],[0.5,\"#f7f7f7\"],[0.6,\"#e6f5d0\"],[0.7,\"#b8e186\"],[0.8,\"#7fbc41\"],[0.9,\"#4d9221\"],[1,\"#276419\"]]},\"xaxis\":{\"gridcolor\":\"white\",\"linecolor\":\"white\",\"ticks\":\"\",\"title\":{\"standoff\":15},\"zerolinecolor\":\"white\",\"automargin\":true,\"zerolinewidth\":2},\"yaxis\":{\"gridcolor\":\"white\",\"linecolor\":\"white\",\"ticks\":\"\",\"title\":{\"standoff\":15},\"zerolinecolor\":\"white\",\"automargin\":true,\"zerolinewidth\":2},\"scene\":{\"xaxis\":{\"backgroundcolor\":\"#E5ECF6\",\"gridcolor\":\"white\",\"linecolor\":\"white\",\"showbackground\":true,\"ticks\":\"\",\"zerolinecolor\":\"white\",\"gridwidth\":2},\"yaxis\":{\"backgroundcolor\":\"#E5ECF6\",\"gridcolor\":\"white\",\"linecolor\":\"white\",\"showbackground\":true,\"ticks\":\"\",\"zerolinecolor\":\"white\",\"gridwidth\":2},\"zaxis\":{\"backgroundcolor\":\"#E5ECF6\",\"gridcolor\":\"white\",\"linecolor\":\"white\",\"showbackground\":true,\"ticks\":\"\",\"zerolinecolor\":\"white\",\"gridwidth\":2}},\"shapedefaults\":{\"line\":{\"color\":\"#2a3f5f\"}},\"annotationdefaults\":{\"arrowcolor\":\"#2a3f5f\",\"arrowhead\":0,\"arrowwidth\":1},\"geo\":{\"bgcolor\":\"white\",\"landcolor\":\"#E5ECF6\",\"subunitcolor\":\"white\",\"showland\":true,\"showlakes\":true,\"lakecolor\":\"white\"},\"title\":{\"x\":0.05},\"mapbox\":{\"style\":\"light\"}}}},                        {\"responsive\": true}                    ).then(function(){\n",
       "                            \n",
       "var gd = document.getElementById('8b075e05-e8b7-4104-9770-a2d851be0b32');\n",
       "var x = new MutationObserver(function (mutations, observer) {{\n",
       "        var display = window.getComputedStyle(gd).display;\n",
       "        if (!display || display === 'none') {{\n",
       "            console.log([gd, 'removed!']);\n",
       "            Plotly.purge(gd);\n",
       "            observer.disconnect();\n",
       "        }}\n",
       "}});\n",
       "\n",
       "// Listen for the removal of the full notebook cells\n",
       "var notebookContainer = gd.closest('#notebook-container');\n",
       "if (notebookContainer) {{\n",
       "    x.observe(notebookContainer, {childList: true});\n",
       "}}\n",
       "\n",
       "// Listen for the clearing of the current output cell\n",
       "var outputEl = gd.closest('.output');\n",
       "if (outputEl) {{\n",
       "    x.observe(outputEl, {childList: true});\n",
       "}}\n",
       "\n",
       "                        })                };                });            </script>        </div>"
      ]
     },
     "metadata": {},
     "output_type": "display_data"
    },
    {
     "name": "stdout",
     "output_type": "stream",
     "text": [
      "Performing unbounded, unconstrained minimization (Powell).\n",
      "Optimization terminated successfully.\n",
      "         Current function value: 35.769288\n",
      "         Iterations: 9\n",
      "         Function evaluations: 864\n",
      "Performing unbounded, unconstrained minimization (Powell).\n",
      "Optimization terminated successfully.\n",
      "         Current function value: 32.058717\n",
      "         Iterations: 13\n",
      "         Function evaluations: 1293\n",
      "Performing unbounded, unconstrained minimization (Powell).\n",
      "Optimization terminated successfully.\n",
      "         Current function value: 37.081283\n",
      "         Iterations: 12\n",
      "         Function evaluations: 1177\n",
      "Performing unbounded, unconstrained minimization (Powell).\n",
      "Optimization terminated successfully.\n",
      "         Current function value: 37.781398\n",
      "         Iterations: 15\n",
      "         Function evaluations: 1525\n",
      "Performing unbounded, unconstrained minimization (Powell).\n",
      "Optimization terminated successfully.\n",
      "         Current function value: 37.114706\n",
      "         Iterations: 15\n",
      "         Function evaluations: 1471\n",
      "Performing unbounded, unconstrained minimization (Powell).\n",
      "Optimization terminated successfully.\n",
      "         Current function value: 34.707110\n",
      "         Iterations: 15\n",
      "         Function evaluations: 1463\n",
      "Performing unbounded, unconstrained minimization (Powell).\n",
      "Optimization terminated successfully.\n",
      "         Current function value: 39.061848\n",
      "         Iterations: 18\n",
      "         Function evaluations: 1649\n",
      "Performing unbounded, unconstrained minimization (Powell).\n",
      "Optimization terminated successfully.\n",
      "         Current function value: 38.255665\n",
      "         Iterations: 17\n",
      "         Function evaluations: 1686\n",
      "Performing unbounded, unconstrained minimization (Powell).\n",
      "Optimization terminated successfully.\n",
      "         Current function value: 38.013216\n",
      "         Iterations: 18\n",
      "         Function evaluations: 1696\n",
      "Performing unbounded, unconstrained minimization (Powell).\n",
      "Optimization terminated successfully.\n",
      "         Current function value: 33.949337\n",
      "         Iterations: 20\n",
      "         Function evaluations: 2044\n"
     ]
    }
   ],
   "source": [
    "num_vert = 0\n",
    "import plotly.graph_objects as go\n",
    "fig = go.Figure()\n",
    "fig.add_trace(go.Scatter(y=data_fsnative_[:,num_vert], name='data', mode='markers'))\n",
    "fig.add_trace(go.Scatter(y=gauss_pred_mat[:,num_vert], name='Gauss model (R2={:1.2f})'.format(gauss_fit_mat[num_vert,-1])))\n",
    "fig.add_trace(go.Scatter(y=css_pred_mat[:,num_vert], name='CSS model (R2={:1.2f})'.format(css_fit_mat[num_vert,-1])))\n",
    "fig.show()"
   ]
  },
  {
   "cell_type": "code",
   "execution_count": null,
   "id": "d364720a-efb6-4d20-9935-22f9efe35a23",
   "metadata": {},
   "outputs": [],
   "source": []
  }
 ],
 "metadata": {
  "kernelspec": {
   "display_name": "amblyo_env",
   "language": "python",
   "name": "amblyo_env"
  },
  "language_info": {
   "codemirror_mode": {
    "name": "ipython",
    "version": 3
   },
   "file_extension": ".py",
   "mimetype": "text/x-python",
   "name": "python",
   "nbconvert_exporter": "python",
   "pygments_lexer": "ipython3",
   "version": "3.9.13"
  }
 },
 "nbformat": 4,
 "nbformat_minor": 5
}
