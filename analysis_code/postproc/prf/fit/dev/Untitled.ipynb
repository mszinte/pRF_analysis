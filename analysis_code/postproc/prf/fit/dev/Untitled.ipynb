{
 "cells": [
  {
   "cell_type": "code",
   "execution_count": 10,
   "id": "5fecf8db-5250-405f-85e0-e0872502ff20",
   "metadata": {},
   "outputs": [],
   "source": [
    "# imports\n",
    "import sys, os\n",
    "import numpy as np\n",
    "import glob\n",
    "import datetime\n",
    "import json\n",
    "from pathlib import Path\n",
    "from IPython.display import clear_output\n",
    "import importlib\n",
    "\n",
    "# MRI analysis imports\n",
    "from prfpy.stimulus import PRFStimulus2D\n",
    "from prfpy.model import Iso2DGaussianModel, CSS_Iso2DGaussianModel\n",
    "from prfpy.fit import Iso2DGaussianFitter, CSS_Iso2DGaussianFitter\n",
    "import nibabel as nb\n",
    "import cortex\n",
    "\n",
    "sys.path.append(\"{}/../../../../utils\".format(os.getcwd()))\n",
    "from surface_utils import make_surface_image , load_surface\n",
    "from pycortex_utils import draw_cortex, set_pycortex_config_file,get_roi_verts_hemi,get_roi_masks_hemi"
   ]
  },
  {
   "cell_type": "code",
   "execution_count": 2,
   "id": "9ed7e856-777a-4817-8a50-3476d914b39b",
   "metadata": {},
   "outputs": [],
   "source": [
    "# data filenames and folder\n",
    "subject = 'sub-03'\n",
    "# dir_data = '/home/mszinte/disks/meso_S/data/RetinoMaps'\n",
    "# dir_code = '/home/mszinte/disks/meso_H/projects/RetinoMaps'\n",
    "\n",
    "dir_data = '/Users/uriel/disks/meso_shared/RetinoMaps'\n",
    "dir_code = '/Users/uriel/disks/meso_H/projects/RetinoMaps'\n",
    "\n",
    "pycortex_dir = \"{}/derivatives/pp_data/cortex\".format(dir_data)\n",
    "input_vd = '{}/derivatives/vdm/vdm.npy'.format(dir_data)\n",
    "input_fn_fsnative_L = '{}/derivatives/pp_data/{}/fsnative/func/fmriprep_dct_avg/{}_task-pRF_hemi-L_fmriprep_dct_avg_bold.func.gii'.format(\n",
    "    dir_data, subject, subject)\n",
    "\n",
    "loo_fn_fsnative_L = '{}/derivatives/pp_data/{}/fsnative/func/fmriprep_dct_loo_avg/sub-02_task-pRF_hemi-L_fmriprep_dct_avg_loo-4_bold.func.gii'.format(dir_data,subject)  \n",
    "\n",
    "input_fn_fsnative_R = '{}/derivatives/pp_data/{}/fsnative/func/fmriprep_dct_avg/{}_task-pRF_hemi-R_fmriprep_dct_avg_bold.func.gii'.format(\n",
    "    dir_data, subject, subject)\n",
    "\n",
    "\n",
    "\n",
    "\n",
    "prf_fit_test_dir = \"{}/derivatives/pp_data/{}/prf/fit/test\".format(\n",
    "    dir_data, subject)\n",
    "os.makedirs(prf_fit_test_dir, exist_ok=True)"
   ]
  },
  {
   "cell_type": "code",
   "execution_count": 3,
   "id": "0c4903a9-b692-4847-9888-14083174eae5",
   "metadata": {},
   "outputs": [],
   "source": [
    "# analysis parameters\n",
    "with open('{}/analysis_code/settings.json'.format(dir_code)) as f:\n",
    "    json_s = f.read()\n",
    "    analysis_info = json.loads(json_s)\n",
    "screen_size_cm = analysis_info['screen_size_cm']\n",
    "screen_distance_cm = analysis_info['screen_distance_cm']\n",
    "TR = analysis_info['TR']\n",
    "max_ecc_size = analysis_info['max_ecc_size']\n",
    "gauss_grid_nr = analysis_info['gauss_grid_nr']\n",
    "css_grid_nr = analysis_info['css_grid_nr']\n",
    "\n",
    "n_jobs = 32\n",
    "n_batches = 32\n",
    "rsq_iterative_th = 0.01\n",
    "verbose = False\n",
    "grid_verbose, iterative_verbose = False, False\n",
    "rois = ['V1','V2','V3','V3AB','LO','VO','hMT+','iIPS','sIPS','iPCS','sPCS','mPCS']\n",
    "\n"
   ]
  },
  {
   "cell_type": "code",
   "execution_count": 30,
   "id": "65e5870f-f782-45f4-9da8-7668f7242e34",
   "metadata": {},
   "outputs": [
    {
     "ename": "FileNotFoundError",
     "evalue": "[Errno 2] No such file or directory: '/Users/uriel/disks/meso_shared/RetinoMaps/derivatives/vdm/vdm.npy'",
     "output_type": "error",
     "traceback": [
      "\u001b[0;31m---------------------------------------------------------------------------\u001b[0m",
      "\u001b[0;31mFileNotFoundError\u001b[0m                         Traceback (most recent call last)",
      "\u001b[0;32m/var/folders/23/5sgzmvyd5z19_rg8xcncjs1c0000gn/T/ipykernel_12462/3200610917.py\u001b[0m in \u001b[0;36m<module>\u001b[0;34m\u001b[0m\n\u001b[1;32m      1\u001b[0m \u001b[0;31m# load visual design\u001b[0m\u001b[0;34m\u001b[0m\u001b[0;34m\u001b[0m\u001b[0m\n\u001b[0;32m----> 2\u001b[0;31m \u001b[0mvdm\u001b[0m \u001b[0;34m=\u001b[0m \u001b[0mnp\u001b[0m\u001b[0;34m.\u001b[0m\u001b[0mload\u001b[0m\u001b[0;34m(\u001b[0m\u001b[0minput_vd\u001b[0m\u001b[0;34m)\u001b[0m\u001b[0;34m\u001b[0m\u001b[0;34m\u001b[0m\u001b[0m\n\u001b[0m\u001b[1;32m      3\u001b[0m \u001b[0;34m\u001b[0m\u001b[0m\n\u001b[1;32m      4\u001b[0m \u001b[0;31m# determine visual design\u001b[0m\u001b[0;34m\u001b[0m\u001b[0;34m\u001b[0m\u001b[0m\n\u001b[1;32m      5\u001b[0m stimulus = PRFStimulus2D(screen_size_cm=screen_size_cm[1], \n",
      "\u001b[0;32m~/softwares/anaconda3/envs/amblyo_env/lib/python3.9/site-packages/numpy/lib/npyio.py\u001b[0m in \u001b[0;36mload\u001b[0;34m(file, mmap_mode, allow_pickle, fix_imports, encoding, max_header_size)\u001b[0m\n\u001b[1;32m    403\u001b[0m             \u001b[0mown_fid\u001b[0m \u001b[0;34m=\u001b[0m \u001b[0;32mFalse\u001b[0m\u001b[0;34m\u001b[0m\u001b[0;34m\u001b[0m\u001b[0m\n\u001b[1;32m    404\u001b[0m         \u001b[0;32melse\u001b[0m\u001b[0;34m:\u001b[0m\u001b[0;34m\u001b[0m\u001b[0;34m\u001b[0m\u001b[0m\n\u001b[0;32m--> 405\u001b[0;31m             \u001b[0mfid\u001b[0m \u001b[0;34m=\u001b[0m \u001b[0mstack\u001b[0m\u001b[0;34m.\u001b[0m\u001b[0menter_context\u001b[0m\u001b[0;34m(\u001b[0m\u001b[0mopen\u001b[0m\u001b[0;34m(\u001b[0m\u001b[0mos_fspath\u001b[0m\u001b[0;34m(\u001b[0m\u001b[0mfile\u001b[0m\u001b[0;34m)\u001b[0m\u001b[0;34m,\u001b[0m \u001b[0;34m\"rb\"\u001b[0m\u001b[0;34m)\u001b[0m\u001b[0;34m)\u001b[0m\u001b[0;34m\u001b[0m\u001b[0;34m\u001b[0m\u001b[0m\n\u001b[0m\u001b[1;32m    406\u001b[0m             \u001b[0mown_fid\u001b[0m \u001b[0;34m=\u001b[0m \u001b[0;32mTrue\u001b[0m\u001b[0;34m\u001b[0m\u001b[0;34m\u001b[0m\u001b[0m\n\u001b[1;32m    407\u001b[0m \u001b[0;34m\u001b[0m\u001b[0m\n",
      "\u001b[0;31mFileNotFoundError\u001b[0m: [Errno 2] No such file or directory: '/Users/uriel/disks/meso_shared/RetinoMaps/derivatives/vdm/vdm.npy'"
     ]
    }
   ],
   "source": [
    "# load visual design\n",
    "vdm = np.load(input_vd)\n",
    "\n",
    "# determine visual design\n",
    "stimulus = PRFStimulus2D(screen_size_cm=screen_size_cm[1], \n",
    "                         screen_distance_cm=screen_distance_cm,\n",
    "                         design_matrix=vdm, \n",
    "                         TR=TR)"
   ]
  },
  {
   "cell_type": "code",
   "execution_count": 9,
   "id": "3e8dbdf9-0f9e-4d65-810d-c856bbfab2ee",
   "metadata": {},
   "outputs": [
    {
     "data": {
      "text/plain": [
       "<module 'cortex' from '/Users/uriel/softwares/anaconda3/envs/amblyo_env/lib/python3.9/site-packages/cortex/__init__.py'>"
      ]
     },
     "execution_count": 9,
     "metadata": {},
     "output_type": "execute_result"
    }
   ],
   "source": [
    "# # Set pycortex db and colormaps\n",
    "# set_pycortex_config_file(pycortex_dir)\n",
    "# importlib.reload(cortex)"
   ]
  },
  {
   "cell_type": "code",
   "execution_count": 14,
   "id": "de8d4eec-58ba-4d72-8ff7-8d1e6c372e1f",
   "metadata": {},
   "outputs": [],
   "source": [
    "# subset\n",
    "data_roi = data_roi[:,0:15] \n",
    "roi_idx = roi_idx[0:15]"
   ]
  },
  {
   "cell_type": "code",
   "execution_count": 16,
   "id": "c96d32bc-0274-464c-80c6-e50c83cf4ea1",
   "metadata": {},
   "outputs": [
    {
     "data": {
      "text/plain": [
       "(208, 15)"
      ]
     },
     "execution_count": 16,
     "metadata": {},
     "output_type": "execute_result"
    }
   ],
   "source": [
    "data_roi.shape"
   ]
  },
  {
   "cell_type": "code",
   "execution_count": 28,
   "id": "74c981c2-a11e-4258-af66-554f2a8b6e82",
   "metadata": {},
   "outputs": [],
   "source": [
    "# defind model parameter grid range\n",
    "sizes = max_ecc_size * np.linspace(0.1,1,gauss_grid_nr)**2\n",
    "eccs = max_ecc_size * np.linspace(0.1,1,gauss_grid_nr)**2\n",
    "polars = np.linspace(0, 2*np.pi, gauss_grid_nr)"
   ]
  },
  {
   "cell_type": "code",
   "execution_count": 29,
   "id": "7347a567-6b66-4a41-9195-154adee308f4",
   "metadata": {},
   "outputs": [
    {
     "ename": "NameError",
     "evalue": "name 'stimulus' is not defined",
     "output_type": "error",
     "traceback": [
      "\u001b[0;31m---------------------------------------------------------------------------\u001b[0m",
      "\u001b[0;31mNameError\u001b[0m                                 Traceback (most recent call last)",
      "\u001b[0;32m/var/folders/23/5sgzmvyd5z19_rg8xcncjs1c0000gn/T/ipykernel_12462/4051806056.py\u001b[0m in \u001b[0;36m<module>\u001b[0;34m\u001b[0m\n\u001b[1;32m      1\u001b[0m \u001b[0;31m# define gauss model\u001b[0m\u001b[0;34m\u001b[0m\u001b[0;34m\u001b[0m\u001b[0m\n\u001b[0;32m----> 2\u001b[0;31m \u001b[0mgauss_model\u001b[0m \u001b[0;34m=\u001b[0m \u001b[0mIso2DGaussianModel\u001b[0m\u001b[0;34m(\u001b[0m\u001b[0mstimulus\u001b[0m\u001b[0;34m=\u001b[0m\u001b[0mstimulus\u001b[0m\u001b[0;34m)\u001b[0m\u001b[0;34m\u001b[0m\u001b[0;34m\u001b[0m\u001b[0m\n\u001b[0m\u001b[1;32m      3\u001b[0m \u001b[0;34m\u001b[0m\u001b[0m\n\u001b[1;32m      4\u001b[0m \u001b[0;31m# grid fit gauss model\u001b[0m\u001b[0;34m\u001b[0m\u001b[0;34m\u001b[0m\u001b[0m\n\u001b[1;32m      5\u001b[0m gauss_fitter = Iso2DGaussianFitter(data=data_roi.T, \n",
      "\u001b[0;31mNameError\u001b[0m: name 'stimulus' is not defined"
     ]
    }
   ],
   "source": [
    "# define gauss model\n",
    "gauss_model = Iso2DGaussianModel(stimulus=stimulus)\n",
    "\n",
    "# grid fit gauss model\n",
    "gauss_fitter = Iso2DGaussianFitter(data=data_roi.T, \n",
    "                                   model=gauss_model, \n",
    "                                   n_jobs=n_jobs)\n",
    "\n",
    "\n",
    "\n",
    "gauss_fitter.grid_fit(ecc_grid=eccs, \n",
    "                      polar_grid=polars, \n",
    "                      size_grid=sizes, \n",
    "                      verbose=verbose, \n",
    "                      n_batches=n_batches)"
   ]
  },
  {
   "cell_type": "code",
   "execution_count": 19,
   "id": "adb08011-44c8-435a-a7fb-1250698f0808",
   "metadata": {},
   "outputs": [],
   "source": [
    "gauss_fitter.iterative_fit(rsq_threshold=0.0001, verbose=False)\n",
    "gauss_fit = gauss_fitter.iterative_search_params"
   ]
  },
  {
   "cell_type": "code",
   "execution_count": 20,
   "id": "4625e1d6-4a91-46d0-8062-918e84b2ddf9",
   "metadata": {},
   "outputs": [],
   "source": [
    "# define CSS model\n",
    "css_model = CSS_Iso2DGaussianModel(stimulus=stimulus)\n",
    "\n",
    "# grid fit CSS model\n",
    "css_fitter = CSS_Iso2DGaussianFitter(data=data_roi.T, \n",
    "                                     model=css_model, \n",
    "                                     n_jobs=n_jobs,\n",
    "                                     use_previous_gaussian_fitter_hrf=False,\n",
    "                                     previous_gaussian_fitter=gauss_fitter\n",
    "                                    )\n",
    "\n"
   ]
  },
  {
   "cell_type": "code",
   "execution_count": 21,
   "id": "4f3e8848-7187-4fbf-b54f-8b7cb988c9f0",
   "metadata": {},
   "outputs": [
    {
     "name": "stderr",
     "output_type": "stream",
     "text": [
      "[Parallel(n_jobs=32)]: Using backend LokyBackend with 32 concurrent workers.\n",
      "/Users/uriel/softwares/anaconda3/envs/amblyo_env/prfpy/prfpy/rf.py:112: RuntimeWarning: divide by zero encountered in divide\n",
      "  return (np.exp(-((x-mu[0])**2 + (y-mu[1])**2)/(2*sigma**2))).astype('float32')\n",
      "[Parallel(n_jobs=32)]: Done   1 tasks      | elapsed:    0.1s\n",
      "[Parallel(n_jobs=32)]: Batch computation too fast (0.0824s.) Setting batch_size=2.\n",
      "/Users/uriel/softwares/anaconda3/envs/amblyo_env/prfpy/prfpy/rf.py:112: RuntimeWarning: divide by zero encountered in divide\n",
      "  return (np.exp(-((x-mu[0])**2 + (y-mu[1])**2)/(2*sigma**2))).astype('float32')\n",
      "[Parallel(n_jobs=32)]: Done   2 out of  32 | elapsed:    0.1s remaining:    1.7s\n",
      "/Users/uriel/softwares/anaconda3/envs/amblyo_env/prfpy/prfpy/rf.py:112: RuntimeWarning: divide by zero encountered in divide\n",
      "  return (np.exp(-((x-mu[0])**2 + (y-mu[1])**2)/(2*sigma**2))).astype('float32')\n",
      "/Users/uriel/softwares/anaconda3/envs/amblyo_env/prfpy/prfpy/rf.py:112: RuntimeWarning: divide by zero encountered in divide\n",
      "  return (np.exp(-((x-mu[0])**2 + (y-mu[1])**2)/(2*sigma**2))).astype('float32')\n",
      "[Parallel(n_jobs=32)]: Done   5 out of  32 | elapsed:    0.2s remaining:    0.8s\n",
      "[Parallel(n_jobs=32)]: Done   8 out of  32 | elapsed:    0.2s remaining:    0.6s\n",
      "[Parallel(n_jobs=32)]: Done  11 out of  32 | elapsed:    0.3s remaining:    0.5s\n",
      "[Parallel(n_jobs=32)]: Done  14 out of  32 | elapsed:    0.3s remaining:    0.4s\n",
      "[Parallel(n_jobs=32)]: Done  17 out of  32 | elapsed:    0.6s remaining:    0.5s\n",
      "[Parallel(n_jobs=32)]: Done  20 out of  32 | elapsed:    0.9s remaining:    0.5s\n",
      "/Users/uriel/softwares/anaconda3/envs/amblyo_env/prfpy/prfpy/rf.py:112: RuntimeWarning: divide by zero encountered in divide\n",
      "  return (np.exp(-((x-mu[0])**2 + (y-mu[1])**2)/(2*sigma**2))).astype('float32')\n",
      "/Users/uriel/softwares/anaconda3/envs/amblyo_env/prfpy/prfpy/rf.py:112: RuntimeWarning: divide by zero encountered in divide\n",
      "  return (np.exp(-((x-mu[0])**2 + (y-mu[1])**2)/(2*sigma**2))).astype('float32')\n",
      "[Parallel(n_jobs=32)]: Done  23 out of  32 | elapsed:   11.6s remaining:    4.5s\n",
      "/Users/uriel/softwares/anaconda3/envs/amblyo_env/prfpy/prfpy/rf.py:112: RuntimeWarning: divide by zero encountered in divide\n",
      "  return (np.exp(-((x-mu[0])**2 + (y-mu[1])**2)/(2*sigma**2))).astype('float32')\n",
      "[Parallel(n_jobs=32)]: Done  26 out of  32 | elapsed:   11.8s remaining:    2.7s\n",
      "[Parallel(n_jobs=32)]: Done  29 out of  32 | elapsed:   12.0s remaining:    1.2s\n",
      "[Parallel(n_jobs=32)]: Done  32 out of  32 | elapsed:   12.1s remaining:    0.0s\n",
      "[Parallel(n_jobs=32)]: Done  32 out of  32 | elapsed:   12.1s finished\n"
     ]
    }
   ],
   "source": [
    "# CSS grid fit\n",
    "# ------------\n",
    "\n",
    "# defind grid values\n",
    "exponent_css_grid = np.linspace(0, 4, css_grid_nr)\n",
    "\n",
    "# run grid fit\n",
    "css_fitter.grid_fit(exponent_grid=exponent_css_grid,\n",
    "                    verbose=grid_verbose,\n",
    "                    n_batches=n_batches)\n",
    "\n"
   ]
  },
  {
   "cell_type": "code",
   "execution_count": 22,
   "id": "1df6ea7a-0665-4fc5-b532-72e7bc809c4a",
   "metadata": {},
   "outputs": [],
   "source": [
    "# run iterative fit\n",
    "css_fitter.iterative_fit(rsq_threshold=rsq_iterative_th, \n",
    "                         verbose=iterative_verbose, \n",
    "                         xtol=1e-4, \n",
    "                         ftol=1e-4)\n",
    "\n",
    "\n",
    "\n",
    "css_fit = css_fitter.iterative_search_params"
   ]
  },
  {
   "cell_type": "code",
   "execution_count": 23,
   "id": "b48bb979-26be-4f0f-9e51-0fae2c367856",
   "metadata": {},
   "outputs": [
    {
     "data": {
      "text/plain": [
       "(15, 9)"
      ]
     },
     "execution_count": 23,
     "metadata": {},
     "output_type": "execute_result"
    }
   ],
   "source": [
    "css_fit.shape"
   ]
  },
  {
   "cell_type": "code",
   "execution_count": 8,
   "id": "fd56721b-1ed5-42ef-b8c6-962aa77f4521",
   "metadata": {},
   "outputs": [],
   "source": [
    "css_fit_mat = np.zeros((data_roi.shape[1],9))\n",
    "css_pred_mat = np.zeros_like(data_roi) "
   ]
  },
  {
   "cell_type": "code",
   "execution_count": null,
   "id": "31f59017-9201-443b-b7a7-8eb4f57e1c19",
   "metadata": {},
   "outputs": [],
   "source": [
    "def get_roi_verts_hemi(fn,subject,rois):\n",
    "    \"\"\"\n",
    "    load an surface image, and return ROIS only from the corresponding \n",
    "    hemisphere\n",
    "\n",
    "    Parameters\n",
    "    ----------\n",
    "    fn : surface filename\n",
    "    subject : subject \n",
    "    rois : list of rois you want extract \n",
    "    \n",
    "    Returns\n",
    "    -------\n",
    "    img : the image load from fn   \n",
    "    data_roi : numpy rois data \n",
    "              2 dim (time x vertices from all the rois)  \n",
    "              \n",
    "    roi_idx : indices of the rois vertices \n",
    "    \n",
    "    \n",
    "    data_hemi : numpy stacked data\n",
    "                2 dim (time x vertices)    \n",
    "    \"\"\"\n",
    "    \n",
    "    import cortex\n",
    "    from surface_utils import load_surface\n",
    "\n",
    "    \n",
    "    \n",
    "    # import data \n",
    "    img, data = load_surface(fn=fn)\n",
    "    len_data = data.shape[1]\n",
    "    \n",
    "    # export masks \n",
    "    roi_verts = cortex.get_roi_verts(subject=subject, \n",
    "                                     roi= rois, \n",
    "                                     mask=True\n",
    "                                    )\n",
    "    # create a brain mask  \n",
    "    brain_mask = np.any(list(roi_verts.values()), axis=0)\n",
    "    \n",
    "    # create a hemi mask  \n",
    "    if 'hemi-L' in fn:\n",
    "        hemi_mask = brain_mask[:len_data]\n",
    "        \n",
    "    elif 'hemi-R' in fn: \n",
    "        hemi_mask = brain_mask[-len_data:]\n",
    "        \n",
    "    roi_idx = np.where(hemi_mask)[0]\n",
    "    \n",
    "    data_roi = data[:,hemi_mask]\n",
    "\n",
    "        \n",
    "    return img, data_roi, roi_idx"
   ]
  },
  {
   "cell_type": "code",
   "execution_count": 26,
   "id": "db4b3d75-2043-4842-be7d-41273f8de94a",
   "metadata": {},
   "outputs": [],
   "source": [
    "img2, data2 = load_surface(fn=loo_fn_fsnative_L)"
   ]
  },
  {
   "cell_type": "code",
   "execution_count": 27,
   "id": "5e6cd6cc-3be6-46b1-a88f-508be968a184",
   "metadata": {},
   "outputs": [],
   "source": [
    "# export masks \n",
    "roi_verts2 = cortex.get_roi_verts(subject=subject, \n",
    "                                 roi= rois, \n",
    "                                 mask=True\n",
    "                                )"
   ]
  },
  {
   "cell_type": "code",
   "execution_count": 43,
   "id": "6aecc328-a618-47a1-89a1-a7979ff14344",
   "metadata": {},
   "outputs": [
    {
     "name": "stdout",
     "output_type": "stream",
     "text": [
      "hemi-L\n"
     ]
    }
   ],
   "source": [
    "len_data = data2.shape[1]\n",
    "# create a brain mask  \n",
    "brain_mask2 = np.any(list(roi_verts2.values()), axis=0)\n",
    "\n",
    "# create a hemi mask  \n",
    "if 'hemi-L' in loo_fn_fsnative_L:\n",
    "    hemi_mask = brain_mask2[:len_data]\n",
    "    print('hemi-L')\n",
    "\n",
    "elif 'hemi-R' in loo_fn_fsnative_L: \n",
    "    hemi_mask = brain_mask2[-len_data:]\n",
    "    print('hemi-R')"
   ]
  },
  {
   "cell_type": "code",
   "execution_count": 44,
   "id": "4718dfab-5a20-4ebc-b27d-b39a190a7d06",
   "metadata": {},
   "outputs": [
    {
     "data": {
      "text/plain": [
       "(147618,)"
      ]
     },
     "execution_count": 44,
     "metadata": {},
     "output_type": "execute_result"
    }
   ],
   "source": [
    "hemi_mask.shape"
   ]
  },
  {
   "cell_type": "code",
   "execution_count": 36,
   "id": "24f451b9-e94c-448c-8297-e7577c9c3482",
   "metadata": {},
   "outputs": [],
   "source": [
    "roi_idx2 = np.where(hemi_mask)[0]"
   ]
  },
  {
   "cell_type": "code",
   "execution_count": 42,
   "id": "a76d2dd1-d8ca-40a8-8d88-1aa04cb7e5a9",
   "metadata": {},
   "outputs": [
    {
     "data": {
      "text/plain": [
       "(147618,)"
      ]
     },
     "execution_count": 42,
     "metadata": {},
     "output_type": "execute_result"
    }
   ],
   "source": [
    "hemi_mask.shape"
   ]
  },
  {
   "cell_type": "code",
   "execution_count": 41,
   "id": "2835a042-44a0-47f2-b6c9-6064128dbad4",
   "metadata": {},
   "outputs": [
    {
     "data": {
      "text/plain": [
       "True"
      ]
     },
     "execution_count": 41,
     "metadata": {},
     "output_type": "execute_result"
    }
   ],
   "source": [
    "hemi_mask[112773]"
   ]
  },
  {
   "cell_type": "code",
   "execution_count": 14,
   "id": "09edf08b-182d-4771-8e5e-2c74686a61fc",
   "metadata": {},
   "outputs": [],
   "source": [
    "css_fit = np.random.rand(data_roi.shape[1], 9)"
   ]
  },
  {
   "cell_type": "code",
   "execution_count": 31,
   "id": "e4fdeedf-0d2d-4d33-96c4-acf3de8bc185",
   "metadata": {},
   "outputs": [],
   "source": [
    "# rearange result of CSS model \n",
    "\n",
    "for est,vert in enumerate(roi_idx):\n",
    "    \n",
    "    css_fit_mat[vert] = css_fit[est]\n",
    "    css_pred_mat[:,vert] = css_model.return_prediction(mu_x=css_fit[est][0],\n",
    "                                                      mu_y=css_fit[est][1], \n",
    "                                                      size=css_fit[est][2], \n",
    "                                                      beta=css_fit[est][3], \n",
    "                                                      baseline=css_fit[est][4],\n",
    "                                                      n=css_fit[est][5],\n",
    "                                                      hrf_1=css_fit[est][6],\n",
    "                                                      hrf_2=css_fit[est][7])\n",
    "        \n",
    "css_fit_mat = np.where(css_fit_mat == 0, np.nan, css_fit_mat)\n",
    "css_pred_mat = np.where(css_pred_mat == 0, np.nan, css_pred_mat)"
   ]
  },
  {
   "cell_type": "code",
   "execution_count": 33,
   "id": "1dc083d8-b8af-47d2-aaac-ebd4ff6e784c",
   "metadata": {},
   "outputs": [
    {
     "data": {
      "text/plain": [
       "(208, 15)"
      ]
     },
     "execution_count": 33,
     "metadata": {},
     "output_type": "execute_result"
    }
   ],
   "source": [
    "# css_fit_mat.shape\n",
    "css_pred_mat.shape"
   ]
  },
  {
   "cell_type": "code",
   "execution_count": 43,
   "id": "1ad8de74-5c3b-4e22-80f9-616c0a3bcd61",
   "metadata": {},
   "outputs": [],
   "source": [
    "# export data\n",
    "maps_names = ['mu_x', 'mu_y', 'prf_size', 'prf_amplitude', 'bold_baseline',\n",
    "              'n', 'hrf_1','hrf_2', 'r_squared']\n",
    "\n",
    "css_fit_mat_L = css_fit_mat[:len_L,:].T\n",
    "css_fit_mat_R = css_fit_mat[len_L:,:].T\n",
    "\n",
    "css_pred_mat_L = css_pred_mat[:,:len_L]\n",
    "css_pred_mat_R = css_pred_mat[:,len_L:]\n",
    "\n",
    "# export fit\n",
    "img_css_fit_mat_L = make_surface_image(data=css_fit_mat_L, source_img=img,maps_names=maps_names)\n",
    "nb.save(img_css_fit_mat,'{}/{}'.format(prf_fit_dir, fit_fn_css)) \n",
    "\n",
    "# export pred\n",
    "img_css_pred_mat = make_surface_image(data=css_pred_mat, source_img=img)\n",
    "nb.save(img_css_pred_mat,'{}/{}'.format(prf_fit_dir, pred_fn_css)) "
   ]
  },
  {
   "cell_type": "code",
   "execution_count": 73,
   "id": "80536067-5557-4aba-85f5-0900df6ed768",
   "metadata": {},
   "outputs": [],
   "source": [
    "test1= css_fit_mat[len_L:,:]\n",
    "test2 = css_fit_mat[-len_R:,:]"
   ]
  },
  {
   "cell_type": "code",
   "execution_count": 68,
   "id": "3da2082a-335e-441e-8d42-7925ebf59127",
   "metadata": {},
   "outputs": [
    {
     "data": {
      "text/plain": [
       "(146878, 9)"
      ]
     },
     "execution_count": 68,
     "metadata": {},
     "output_type": "execute_result"
    }
   ],
   "source": [
    "test1.shape"
   ]
  },
  {
   "cell_type": "code",
   "execution_count": 70,
   "id": "625a62c6-76bd-4313-893b-986686bbf052",
   "metadata": {},
   "outputs": [
    {
     "data": {
      "text/plain": [
       "(146878, 9)"
      ]
     },
     "execution_count": 70,
     "metadata": {},
     "output_type": "execute_result"
    }
   ],
   "source": [
    "test2.shape"
   ]
  },
  {
   "cell_type": "code",
   "execution_count": 74,
   "id": "e78efa53-778c-47db-aadf-588fce66dd9e",
   "metadata": {},
   "outputs": [
    {
     "name": "stdout",
     "output_type": "stream",
     "text": [
      "False\n"
     ]
    }
   ],
   "source": [
    "print(np.array_equal(test1, test2))"
   ]
  },
  {
   "cell_type": "code",
   "execution_count": 65,
   "id": "02cc1e52-65dc-4763-b372-1758ea0c11fd",
   "metadata": {},
   "outputs": [
    {
     "data": {
      "text/plain": [
       "(9, 146878)"
      ]
     },
     "execution_count": 65,
     "metadata": {},
     "output_type": "execute_result"
    }
   ],
   "source": [
    "css_fit_mat_R.shape"
   ]
  },
  {
   "cell_type": "code",
   "execution_count": 72,
   "id": "565aac19-e3e6-4caa-a6d8-f630790ce1d5",
   "metadata": {},
   "outputs": [
    {
     "name": "stdout",
     "output_type": "stream",
     "text": [
      "True\n"
     ]
    }
   ],
   "source": []
  },
  {
   "cell_type": "code",
   "execution_count": 63,
   "id": "062f78c5-764c-45bf-89bb-10cd7ea54c0f",
   "metadata": {},
   "outputs": [
    {
     "data": {
      "text/plain": [
       "(146878, 9)"
      ]
     },
     "execution_count": 63,
     "metadata": {},
     "output_type": "execute_result"
    }
   ],
   "source": [
    "test.shape"
   ]
  },
  {
   "cell_type": "code",
   "execution_count": 64,
   "id": "649f05fe-7a4b-49db-a1b1-21ac7a4d9da7",
   "metadata": {},
   "outputs": [
    {
     "data": {
      "text/plain": [
       "294496"
      ]
     },
     "execution_count": 64,
     "metadata": {},
     "output_type": "execute_result"
    }
   ],
   "source": [
    "len_R + len_L"
   ]
  },
  {
   "cell_type": "code",
   "execution_count": 45,
   "id": "4bb9aa03-bab9-4b1c-82a1-1593e00c4fe4",
   "metadata": {},
   "outputs": [
    {
     "data": {
      "text/plain": [
       "(208, 146878)"
      ]
     },
     "execution_count": 45,
     "metadata": {},
     "output_type": "execute_result"
    }
   ],
   "source": [
    "css_pred_mat_R.shape"
   ]
  },
  {
   "cell_type": "markdown",
   "id": "ebcc5ae7-7ebd-4a70-bde3-7dc455b551ec",
   "metadata": {
    "tags": []
   },
   "source": [
    "# Brouillon"
   ]
  },
  {
   "cell_type": "code",
   "execution_count": null,
   "id": "3d82c476-7cee-4f61-8e04-5cf3250f546c",
   "metadata": {},
   "outputs": [],
   "source": [
    "gauss_fit = gauss_fitter.gridsearch_params\n",
    "gauss_fit_mat = np.zeros((data.shape[1],gauss_params_num))\n",
    "gauss_pred_mat = np.zeros_like(data) \n",
    "\n",
    "\n",
    "\n",
    "for est,vert in enumerate(data_where):\n",
    "    gauss_fit_mat[vert] = gauss_fit[est]\n",
    "    gauss_pred_mat[:,vert] = gauss_model.return_prediction(mu_x=gauss_fit[est][0], \n",
    "                                                          mu_y=gauss_fit[est][1], \n",
    "                                                          size=gauss_fit[est][2], \n",
    "                                                          beta=gauss_fit[est][3], \n",
    "                                                          baseline=gauss_fit[est][4],\n",
    "                                                          hrf_1=gauss_fit[est][5],\n",
    "                                                          hrf_2=gauss_fit[est][6])"
   ]
  },
  {
   "cell_type": "code",
   "execution_count": 45,
   "id": "41a2591e-7eef-4e19-8466-08e86e6d061e",
   "metadata": {},
   "outputs": [],
   "source": [
    "import re"
   ]
  },
  {
   "cell_type": "code",
   "execution_count": 54,
   "id": "416c4fb2-a34b-45ec-a76b-3b92bd373d66",
   "metadata": {},
   "outputs": [],
   "source": [
    "\n",
    "loo_deriv_avg_fn = loo_fn_fsnative_L.split('/')[-1]\n",
    "loo_deriv_avg_fn = re.sub(r'avg_loo-\\d+_bold', 'derives', loo_deriv_avg_fn)\n"
   ]
  },
  {
   "cell_type": "code",
   "execution_count": 55,
   "id": "6306caec-0440-4164-a2fb-0737b8b9f4cb",
   "metadata": {},
   "outputs": [
    {
     "data": {
      "text/plain": [
       "'sub-02_task-pRF_hemi-L_fmriprep_dct_derives.func.gii'"
      ]
     },
     "execution_count": 55,
     "metadata": {},
     "output_type": "execute_result"
    }
   ],
   "source": [
    "loo_deriv_avg_fn"
   ]
  },
  {
   "cell_type": "code",
   "execution_count": 53,
   "id": "2e63a5a8-144b-4c4a-aea2-6ed751399ab5",
   "metadata": {},
   "outputs": [
    {
     "data": {
      "text/plain": [
       "'/Users/uriel/disks/meso_shared/RetinoMaps/derivatives/pp_data/sub-02/fsnative/func/fmriprep_dct_loo_avg/sub-02_task-pRF_hemi-L_fmriprep_dct_avg_loo-4_bold.func.gii'"
      ]
     },
     "execution_count": 53,
     "metadata": {},
     "output_type": "execute_result"
    }
   ],
   "source": [
    "loo_fn_fsnative_L"
   ]
  },
  {
   "cell_type": "code",
   "execution_count": null,
   "id": "29581a87-4fcb-4dd8-9f9a-16750e89a119",
   "metadata": {},
   "outputs": [],
   "source": []
  }
 ],
 "metadata": {
  "kernelspec": {
   "display_name": "Python 3 (ipykernel)",
   "language": "python",
   "name": "python3"
  },
  "language_info": {
   "codemirror_mode": {
    "name": "ipython",
    "version": 3
   },
   "file_extension": ".py",
   "mimetype": "text/x-python",
   "name": "python",
   "nbconvert_exporter": "python",
   "pygments_lexer": "ipython3",
   "version": "3.11.7"
  }
 },
 "nbformat": 4,
 "nbformat_minor": 5
}
