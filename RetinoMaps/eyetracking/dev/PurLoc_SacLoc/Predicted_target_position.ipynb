{
 "cells": [
  {
   "cell_type": "code",
   "execution_count": 2,
   "metadata": {},
   "outputs": [],
   "source": [
    "import numpy as np \n",
    "import math \n",
    "import glob \n",
    "import pandas as pd\n",
    "import scipy.io\n",
    "import json \n",
    "import matplotlib.pyplot as plt\n",
    "import h5py\n",
    "import os\n"
   ]
  },
  {
   "cell_type": "code",
   "execution_count": 41,
   "metadata": {},
   "outputs": [],
   "source": [
    "subject = 'sub-08'\n",
    "task = 'PurLoc'\n",
    "ses = 'ses-02'"
   ]
  },
  {
   "cell_type": "code",
   "execution_count": 4,
   "metadata": {},
   "outputs": [],
   "source": [
    "def interp1d(array: np.ndarray, new_len: int) -> np.ndarray:\n",
    "    la = len(array)\n",
    "    return np.interp(np.linspace(0, la - 1, num=new_len), np.arange(la), array)\n",
    "\n",
    "def ensure_save_dir(base_dir, subject):\n",
    "    save_dir = f\"{base_dir}/{subject}/eyetracking\"\n",
    "    if not os.path.exists(save_dir):\n",
    "        os.makedirs(save_dir)\n",
    "    return save_dir"
   ]
  },
  {
   "cell_type": "code",
   "execution_count": 5,
   "metadata": {},
   "outputs": [],
   "source": [
    "def plotly_layout_template(task,run):\n",
    "    from plotly.subplots import make_subplots\n",
    "    import plotly.graph_objects as go\n",
    "    import numpy as np\n",
    "\n",
    "    # Horizontal eye trace\n",
    "    screen_val =  12.5\n",
    "    ymin1,ymax1,y_tick_num1 = -screen_val,screen_val,11\n",
    "    y_tick1 = np.linspace(ymin1,ymax1,y_tick_num1)\n",
    "    xmin1,xmax1,x_tick_num1 = 0,1,5\n",
    "    x_tick1 = np.linspace(xmin1,xmax1,x_tick_num1)\n",
    "\n",
    "    # Vertical eye trace\n",
    "    ymin2,ymax2,y_tick_num2 = -screen_val,screen_val,11\n",
    "    y_tick2 = np.linspace(ymin2,ymax2,y_tick_num2)\n",
    "    xmin2,xmax2,x_tick_num2 = 0,1,5\n",
    "    x_tick2 = np.linspace(xmin2,xmax2,x_tick_num2)\n",
    "\n",
    "    analysis_info = {'rads': [0,2.5,5,7.5,10,0]}  \n",
    "    theta = np.linspace(0, 2*np.pi, 100)\n",
    "\n",
    "    # Constants\n",
    "    axis_width = 1\n",
    "\n",
    "    # Create subplots with modified layout\n",
    "    fig = make_subplots(\n",
    "        rows=2, cols=3,\n",
    "        column_widths=[0.5, 0.5, 0],\n",
    "        horizontal_spacing = 0.1,\n",
    "        specs=[[{}, {\"rowspan\": 2},{'type': 'polar'}],\n",
    "            [{}, None, None]]\n",
    "    )\n",
    "\n",
    "    # Plot horizontal eye position\n",
    "    for rad in analysis_info['rads']:\n",
    "        fig.add_trace(\n",
    "            go.Scatter(x=x_tick1, y=x_tick1*0+rad, mode='lines', line=dict(color='black', width=axis_width*0.5)),\n",
    "            row=1, col=1\n",
    "        )\n",
    "        fig.add_trace(\n",
    "            go.Scatter(x=x_tick1, y=x_tick1*0-rad, mode='lines', line=dict(color='black', width=axis_width*0.5)),\n",
    "            row=1, col=1\n",
    "        )\n",
    "\n",
    "    # Plot vertical eye position\n",
    "    for rad in analysis_info['rads']:\n",
    "        fig.add_trace(\n",
    "            go.Scatter(x=x_tick2, y=x_tick2*0+rad, mode='lines', line=dict(color='black', width=axis_width*0.5)),\n",
    "            row=2, col=1\n",
    "        )\n",
    "        fig.add_trace(\n",
    "            go.Scatter(x=x_tick2, y=x_tick2*0-rad, mode='lines', line=dict(color='black', width=axis_width*0.5)),\n",
    "            row=2, col=1\n",
    "        )\n",
    "\n",
    "    fig.add_vrect(x0=0, x1=1, row=\"all\", col=1,\n",
    "                fillcolor=\"grey\", opacity=0.15, line_width=0)\n",
    "\n",
    "    # Plot screen view\n",
    "    for rad in analysis_info['rads']:\n",
    "        fig.add_trace(\n",
    "            go.Scatter(x=rad*np.cos(theta), y=rad*np.sin(theta), mode='lines', line=dict(color='black', width=axis_width*0.5)),\n",
    "            row=1, col=2\n",
    "        )\n",
    "\n",
    "    fig.add_vrect(x0=-12.5, x1=12.5, row=\"all\", col=2,\n",
    "                fillcolor=\"grey\", opacity=0.15, line_width=0)\n",
    "\n",
    "    # Update layout\n",
    "    y_data = [-12.5,-10.0,-7.5,-5.0,-2.5,0.0,2.5,5.0,7.5,10.0,12.5]\n",
    "    fig.update_xaxes(title_text=\"Time (%)\", row=1, col=1)\n",
    "    fig.update_xaxes(title_text=\"Time (%)\", row=2, col=1)\n",
    "    fig.update_yaxes(title_text=\"Hor. coord. (dva)\",tickvals=y_data, range = [-12.5,12.5], row=1, col=1, title_standoff=0.15)\n",
    "    fig.update_yaxes(title_text=\"Ver. coord. (dva)\",tickvals=y_data, range = [-12.5,12.5],row=2, col=1, title_standoff=0.15),\n",
    "\n",
    "\n",
    "    fig.update_xaxes(title_text=\"Horizontal coordinates (dva)\", tickvals=y_data,range = [-12.5,12.5], row=1, col=2)\n",
    "    fig.update_yaxes(title_text=\"Vertical coordinates (dva)\", tickvals=y_data,range = [-12.5,12.5], row=1, col=2, title_standoff=0.15)\n",
    "\n",
    "\n",
    "\n",
    "    fig.update_layout(\n",
    "        showlegend=False,\n",
    "        title=f\"Eye Positions {task}, run {run + 1}\",\n",
    "        height=700,\n",
    "        width=1420,  \n",
    "        template=\"simple_white\", \n",
    "        margin=dict(\n",
    "            l=100,\n",
    "            r=10,\n",
    "            b=100,\n",
    "            t=100\n",
    "        )\n",
    "    )\n",
    "\n",
    "\n",
    "    return fig \n"
   ]
  },
  {
   "cell_type": "code",
   "execution_count": 42,
   "metadata": {},
   "outputs": [],
   "source": [
    "# data paths\n",
    "if subject == 'sub-01': \n",
    "    data_mat = sorted(glob.glob(r'/Users/sinakling/projects/PredictEye/locEMexp/data/{}/ses-01/add/*.mat'.format(subject)))\n",
    "    matfile = scipy.io.loadmat(data_mat[0])\n",
    "\n",
    "    data_events = sorted(glob.glob(r'/Users/sinakling/projects/PredictEye/locEMexp/data/{}/ses-01/func/*.tsv'.format(subject)))\n",
    "    data_events = data_events[:2]\n",
    "\n",
    "else: \n",
    "    data_mat = sorted(glob.glob(r'/Users/sinakling/projects/PredictEye/locEMexp/data/{}/ses-02/add/*.mat'.format(subject)))\n",
    "    matfile = scipy.io.loadmat(data_mat[0])\n",
    "\n",
    "    data_events = sorted(glob.glob(r'/Users/sinakling/projects/PredictEye/locEMexp/data/{}/ses-02/func/*.tsv'.format(subject)))\n",
    "    data_events = data_events[:2]\n"
   ]
  },
  {
   "cell_type": "code",
   "execution_count": 43,
   "metadata": {},
   "outputs": [],
   "source": [
    "# extract event files \n",
    "num_run = len(data_events)\n",
    "dfs_runs = []\n",
    "\n",
    "# Read each TSV file \n",
    "for i, run in enumerate(data_events):\n",
    "    df_run = pd.read_csv(run, sep=\"\\t\")\n",
    "    dfs_runs.append(df_run)"
   ]
  },
  {
   "cell_type": "code",
   "execution_count": 44,
   "metadata": {},
   "outputs": [],
   "source": [
    "trial_durations = dfs_runs[0]['duration']*1000\n",
    "run_durations = np.cumsum(trial_durations)\n",
    "\n",
    "trial_durations_2 = dfs_runs[1]['duration']*1000\n",
    "run_durations_2 = np.cumsum(trial_durations_2)\n"
   ]
  },
  {
   "cell_type": "code",
   "execution_count": 45,
   "metadata": {},
   "outputs": [],
   "source": [
    "# load data\n",
    "with open('/Users/sinakling/projects/pRF_analysis/RetinoMaps/eyetracking/dev/PurLoc_SacLoc/behavior_settings.json') as f:\n",
    "\t\tjson_s = f.read()\n",
    "\t\tanalysis_info = json.loads(json_s)\n",
    "\n",
    "\n",
    "main_dir = analysis_info['main_dir_mac']\n",
    "file_dir_save = ensure_save_dir(f'{main_dir}/derivatives/pp_data', subject)\n",
    "\n",
    "h5_filename = f'{file_dir_save}/stats/{subject}_task-{task}_eyedata_sac_stats.h5'\n",
    "h5_file = h5py.File(h5_filename,'r')\n",
    "time_start_trial = np.array(h5_file['time_start_trial'])\n",
    "time_end_trial = np.array(h5_file['time_end_trial'])\n",
    "time_start_seq = np.array(h5_file['time_start_seq'])\n",
    "time_end_seq = np.array(h5_file['time_end_seq'])\n",
    "time_start_eye = np.array(h5_file['time_start_eye'])\n",
    "time_end_eye = np.array(h5_file['time_end_eye'])\n",
    "\n"
   ]
  },
  {
   "cell_type": "code",
   "execution_count": 46,
   "metadata": {},
   "outputs": [],
   "source": [
    "eye_data_run_01_nan_blink_interpol = pd.read_csv(f\"{file_dir_save}/timeseries/{subject}_task-{task}_run_01_eyedata.tsv.gz\", compression='gzip', delimiter='\\t')\n",
    "eye_data_run_01_nan_blink_interpol = eye_data_run_01_nan_blink_interpol[['timestamp', 'x', 'y', 'pupil_size']].to_numpy()\n",
    "eye_data_run_02_nan_blink_interpol = pd.read_csv(f\"{file_dir_save}/timeseries/{subject}_task-{task}_run_02_eyedata.tsv.gz\", compression='gzip', delimiter='\\t')\n",
    "eye_data_run_02_nan_blink_interpol = eye_data_run_02_nan_blink_interpol[['timestamp', 'x', 'y', 'pupil_size']].to_numpy()\n",
    "\n",
    "eye_data_all_runs = [eye_data_run_01_nan_blink_interpol,eye_data_run_02_nan_blink_interpol]"
   ]
  },
  {
   "cell_type": "code",
   "execution_count": 8,
   "metadata": {},
   "outputs": [],
   "source": [
    "# Generate Expected Position \n",
    "# extract fixation point position \n",
    "\n",
    "# in screen coordinates\n",
    "# in trial length \n",
    "\n",
    "saccade_coord_x = matfile['config']['const'][0,0]['pursuit_matX'][0][0][0] # (4,32) = amp, dir\n",
    "saccade_coord_y = matfile['config']['const'][0,0]['pursuit_matY'][0][0][0]\n",
    "\n",
    "\n",
    "amplitude = list(df_run['eyemov_amplitude'])\n",
    "seq_trial = list(df_run['sequence_trial'])\n",
    "\n",
    "sac_expected_x = []\n",
    "sac_expected_y = []\n",
    "\n",
    "for amp, trial in zip(amplitude, seq_trial):\n",
    "    if amp == 5: \n",
    "        x_coord = 960.0\n",
    "    else: \n",
    "        x_coord = saccade_coord_x[amp-1, trial-1]\n",
    "    sac_expected_x.append(x_coord)\n",
    "\n",
    "\n",
    "expected_y = []\n",
    "\n",
    "for amp, trial in zip(amplitude, seq_trial):\n",
    "    if amp == 5: \n",
    "        y_coord = 540.0\n",
    "    else: \n",
    "        y_coord = saccade_coord_y[amp-1, trial-1]\n",
    "    sac_expected_y.append(y_coord)\n",
    "\n",
    "# convert to dva \n",
    "sac_expected_x = (np.array(sac_expected_x) - (analysis_info['center'][0]))/analysis_info['ppd']\n",
    "sac_expected_y =  -1.0*((np.array(sac_expected_y) - (analysis_info['center'][1]))/analysis_info['ppd'])"
   ]
  },
  {
   "cell_type": "code",
   "execution_count": 28,
   "metadata": {},
   "outputs": [
    {
     "name": "stdout",
     "output_type": "stream",
     "text": [
      "249759.0\n",
      "249760\n"
     ]
    }
   ],
   "source": [
    "import numpy as np\n",
    "from scipy.signal import resample\n",
    "\n",
    "fs_eye_tracking = 1000\n",
    "\n",
    "# Assume sac_expected_x is your original target position array and you want to resample it\n",
    "total_duration_trials = time_end_trial[15,8,0] - time_start_trial[0,0,0]\n",
    "print(total_duration_trials)\n",
    "\n",
    "# Number of samples in your eye-tracking data during this period\n",
    "num_eye_tracking_samples = int(total_duration_trials) + 1 # fs_eye_tracking is in Hz\n",
    "print(num_eye_tracking_samples)\n",
    "\n",
    "\n",
    "# Resample sac_expected_x to match the eye-tracking data length\n",
    "sac_x_expected_resampled = resample(sac_expected_x, num_eye_tracking_samples)\n",
    "sac_y_expected_resampled = resample(sac_expected_y, num_eye_tracking_samples)\n",
    "\n",
    "# Now sac_expected_resampled should be aligned with your eye-tracking data in terms of sample size\n"
   ]
  },
  {
   "cell_type": "code",
   "execution_count": 26,
   "metadata": {},
   "outputs": [],
   "source": [
    "#! OLD (use resampling instead)\n",
    "trials_seq = analysis_info['trials_seq']\n",
    "\n",
    "full_prediction = []\n",
    "gaps = []\n",
    "trials = []\n",
    "# Loop through sequences\n",
    "for seq in range(9):\n",
    "    # Get the number of trials for the current sequence\n",
    "    num_trials_in_seq = trials_seq[seq]\n",
    "\n",
    "    # Loop through the trials in the current sequence\n",
    "    for trial in range(num_trials_in_seq):\n",
    "        \n",
    "        # Duration of the current trial\n",
    "        trial_duration = time_end_trial[trial, seq, 0] - time_start_trial[trial, seq, 0]\n",
    "        trials.append(trial_duration)\n",
    "        \n",
    "        # Append the target position for the entire trial duration\n",
    "        full_prediction.extend([sac_expected_y[trial]] * int(trial_duration))\n",
    "        \n",
    "        # Only calculate gaps if it's NOT the last trial in the sequence\n",
    "        if trial < num_trials_in_seq - 1:\n",
    "            gap_duration = time_start_trial[trial + 1, seq, 0] - time_end_trial[trial, seq, 0]\n",
    "            gaps.append(gap_duration)\n",
    "            full_prediction.extend([sac_expected_y[trial]] * int(gap_duration))\n"
   ]
  },
  {
   "cell_type": "code",
   "execution_count": 47,
   "metadata": {},
   "outputs": [],
   "source": [
    "def extract_data(main_dir, subject, task, runs):\n",
    "    '''read tsv.gsv data as pandas dataframes. Use information from json as columns'''\n",
    "    df_runs = []\n",
    "    for run in range(runs):\n",
    "        tsv_file_path = f\"{file_dir_save}/timeseries/{subject}_task-{task}_run_0{run + 1}_eyedata.tsv.gz\"\n",
    "      \n",
    "\n",
    "        df = pd.read_csv(\n",
    "            tsv_file_path, \n",
    "            compression='gzip', \n",
    "            delimiter='\\t', \n",
    "            na_values='n/a'  # Treat 'n/a' as NaN\n",
    "        )\n",
    "\n",
    "        df_runs.append(df)\n",
    "\n",
    "    return df_runs\n",
    "\n",
    "\n",
    "df_sep_runs = extract_data(main_dir, subject, task, num_run)"
   ]
  },
  {
   "cell_type": "code",
   "execution_count": 48,
   "metadata": {},
   "outputs": [],
   "source": [
    "# Expected Position \n",
    "# extract pursuit point position \n",
    "\n",
    "pursuit_coord_x = matfile['config']['const'][0,0]['pursuit_matX'][0][0][0]\n",
    "pursuit_coord_y = matfile['config']['const'][0,0]['pursuit_matY'][0][0][0]\n",
    "\n",
    "amplitude = list(df_run['eyemov_amplitude'])\n",
    "seq_trial = list(df_run['sequence_trial'])\n",
    "\n",
    "purs_expected_x = []\n",
    "\n",
    "\n",
    "for amp, trial in zip(amplitude, seq_trial):\n",
    "    if amp == 5: \n",
    "        x_coord = 960.0\n",
    "    else: \n",
    "        x_coord = pursuit_coord_x[amp-1, trial-1]\n",
    "    purs_expected_x.append(x_coord)\n",
    "\n",
    "\n",
    "purs_expected_y = []\n",
    "\n",
    "for amp, trial in zip(amplitude, seq_trial):\n",
    "    if amp == 5: \n",
    "        y_coord = 540.0\n",
    "    else: \n",
    "        y_coord = pursuit_coord_y[amp-1, trial-1]\n",
    "    purs_expected_y.append(y_coord)\n",
    "    \n",
    "\n",
    "\n",
    "# Convert to dva \n",
    "purs_expected_x = (np.array(purs_expected_x) - (analysis_info['center'][0]))/analysis_info['ppd']\n",
    "purs_expected_y =  -1.0*((np.array(purs_expected_y) - (analysis_info['center'][1]))/analysis_info['ppd'])\n",
    "\n",
    "\n",
    "purs_x_intpl_run_1 = interp1d(purs_expected_x, new_len=int(248800)) # align with length of 1 run \n",
    "purs_y_intpl_run_1 = interp1d(purs_expected_y, new_len=int(248800))  # align with length of 1 run \n",
    "\n",
    "purs_x_intpl_run_2 = interp1d(purs_expected_x, new_len=int(248800)) # align with length of 1 run \n",
    "purs_y_intpl_run_2 = interp1d(purs_expected_y, new_len=int(248800))  # align with length of 1 run \n"
   ]
  },
  {
   "cell_type": "code",
   "execution_count": null,
   "metadata": {},
   "outputs": [],
   "source": [
    "# demonstration of sequence principle\n",
    "\n",
    "for amp, trial in zip(amplitude, seq_trial):\n",
    "    if amp != 5:\n",
    "        plt.scatter(pursuit_coord_x[amp -1 , trial -1 ], pursuit_coord_y[amp - 1, trial - 1])\n",
    "        plt.gca().invert_yaxis()\n",
    "\n",
    "plt.show()"
   ]
  },
  {
   "cell_type": "code",
   "execution_count": 29,
   "metadata": {},
   "outputs": [],
   "source": [
    "# Generate Expected Position \n",
    "# extract fixation point position \n",
    "\n",
    "# in screen coordinates\n",
    "# in trial length \n",
    "\n",
    "saccade_coord_x = matfile['config']['const'][0,0]['pursuit_matX'][0][0][0] # (4,32) = amp, dir\n",
    "saccade_coord_y = matfile['config']['const'][0,0]['pursuit_matY'][0][0][0]\n",
    "\n",
    "\n",
    "amplitude = list(df_run['eyemov_amplitude'])\n",
    "seq_trial = list(df_run['sequence_trial'])\n",
    "\n",
    "sac_expected_x = []\n",
    "sac_expected_y = []\n",
    "\n",
    "for amp, trial in zip(amplitude, seq_trial):\n",
    "    if amp == 5: \n",
    "        x_coord = 960.0\n",
    "    else: \n",
    "        x_coord = saccade_coord_x[amp-1, trial-1]\n",
    "    sac_expected_x.append(x_coord)\n",
    "\n",
    "\n",
    "expected_y = []\n",
    "\n",
    "for amp, trial in zip(amplitude, seq_trial):\n",
    "    if amp == 5: \n",
    "        y_coord = 540.0\n",
    "    else: \n",
    "        y_coord = saccade_coord_y[amp-1, trial-1]\n",
    "    sac_expected_y.append(y_coord)\n",
    "\n",
    "# convert to dva \n",
    "sac_expected_x = (np.array(sac_expected_x) - (analysis_info['center'][0]))/analysis_info['ppd']\n",
    "sac_expected_y =  -1.0*((np.array(sac_expected_y) - (analysis_info['center'][1]))/analysis_info['ppd'])"
   ]
  },
  {
   "cell_type": "code",
   "execution_count": 27,
   "metadata": {},
   "outputs": [
    {
     "name": "stdout",
     "output_type": "stream",
     "text": [
      "Eyetracking slice indices: [19146, 58560, 76472, 115847, 133751, 173157, 191079, 230470]\n",
      "Corresponding Prediction indices: [19010, 58143, 75928, 115022, 132799, 171924, 189719, 228829]\n"
     ]
    }
   ],
   "source": [
    "import numpy as np\n",
    "\n",
    "def calculate_corresponding_indices(array1, array2, slice_indices_1):\n",
    "    L1 = len(array1)\n",
    "    L2 = len(array2)\n",
    "\n",
    "    # Initialize an empty list to store the corresponding indices for array2\n",
    "    corresponding_indices_2 = []\n",
    "\n",
    "    for index in slice_indices_1:\n",
    "        # Calculate the corresponding index for array2 using the proportional mapping\n",
    "        index_2 = round((index / L1) * L2)\n",
    "        corresponding_indices_2.append(index_2)\n",
    "\n",
    "    return corresponding_indices_2\n",
    "\n",
    "# Slice indices for array1\n",
    "slice_indices_1 = [19146, 58560, 76472, 115847,133751, 173157,191079, 230470]\n",
    "\n",
    "# Calculate corresponding indices for array\n",
    "resulting_indices_2 = calculate_corresponding_indices(eye_data_run_01_nan_blink_interpol[:len(df_sep_runs[0]),1], sac_expected_x_run, slice_indices_1)\n",
    "\n",
    "# Output the results\n",
    "print(f\"Eyetracking slice indices: {slice_indices_1}\")\n",
    "print(f\"Corresponding Prediction indices: {resulting_indices_2}\")\n"
   ]
  },
  {
   "cell_type": "code",
   "execution_count": null,
   "metadata": {},
   "outputs": [],
   "source": [
    "# plot moving sequences \n",
    "import plotly.graph_objects as go\n",
    "\n",
    "eye_data_run_1_x = eye_data_run_01_nan_blink_interpol[:,1]\n",
    "eye_data_run_1_y = eye_data_run_01_nan_blink_interpol[:,2]\n",
    "\n",
    "# Define the start and end indices for each slice\n",
    "slice_indices_mov_seq = [(int(run_durations[i]), int(run_durations[i+33])) for i in range(15, 161, 48)]\n",
    "\n",
    "# Plot each slice individually\n",
    "for start, end in slice_indices_mov_seq:\n",
    "    fig = plotly_layout_template(\"PurLoc\",0)\n",
    "\n",
    "    fig.add_trace(go.Scatter(y = eye_data_run_1_x[start:end],showlegend=False,line=dict(color='black', width=2)), row = 1, col = 1)\n",
    "    fig.add_trace(go.Scatter(y = purs_x_intpl_run_1[start:end],showlegend=False,line=dict(color='blue', width=2)), row = 1, col = 1)\n",
    "    fig.add_trace(go.Scatter(y = eye_data_run_1_y[start:end],showlegend=False,line=dict(color='black', width=2)), row = 2, col = 1)\n",
    "    fig.add_trace(go.Scatter(y = purs_y_intpl_run_1[start:end],showlegend=False,line=dict(color='blue', width=2)), row = 2, col = 1)\n",
    "    fig.add_trace(go.Scatter(x = eye_data_run_1_x[start:end], y = eye_data_run_1_y[start:end],showlegend=False,line=dict(color='black', width=2)), row = 1, col = 2)\n",
    "    fig.add_trace(go.Scatter(x = purs_x_intpl_run_1[start:end], y = purs_y_intpl_run_1[start:end],showlegend=False,line=dict(color='blue', width=2)), row = 1, col = 2)\n",
    "\n",
    "\n",
    "    fig.show()\n",
    "\n",
    "    #fig_fn = f\"pursuit_pred_test.pdf\"\n",
    "    #print('Saving {}'.format(fig_fn))\n",
    "    #fig.write_image(fig_fn)"
   ]
  },
  {
   "cell_type": "code",
   "execution_count": null,
   "metadata": {},
   "outputs": [],
   "source": [
    "import plotly.graph_objects as go\n",
    "\n",
    "eye_data_run_2_x = eye_data_run_02_nan_blink_interpol[:,1]\n",
    "eye_data_run_2_y = eye_data_run_02_nan_blink_interpol[:,2]\n",
    "# Define the start and end indices for each slice\n",
    "slice_indices = [(int(run_durations_2[i]), int(run_durations_2[i+33])) for i in range(15, 162, 48)]\n",
    "\n",
    "\n",
    "# Plot each slice individually\n",
    "for start, end in slice_indices:\n",
    "    fig = plotly_layout_template(\"PurLoc\",1)\n",
    "\n",
    "    fig.add_trace(go.Scatter(y = eye_data_run_2_x[start:end],showlegend=False,line=dict(color='black', width=2)), row = 1, col = 1)\n",
    "    fig.add_trace(go.Scatter(y = purs_x_intpl_run_2[start:end],showlegend=False,line=dict(color='blue', width=2)), row = 1, col = 1)\n",
    "    fig.add_trace(go.Scatter(y = eye_data_run_2_y[start:end],showlegend=False,line=dict(color='black', width=2)), row = 2, col = 1)\n",
    "    fig.add_trace(go.Scatter(y = purs_y_intpl_run_2[start:end],showlegend=False,line=dict(color='blue', width=2)), row = 2, col = 1)\n",
    "    fig.add_trace(go.Scatter(x = eye_data_run_2_x[start:end], y = eye_data_run_2_y[start:end],showlegend=False,line=dict(color='black', width=2)), row = 1, col = 2)\n",
    "    fig.add_trace(go.Scatter(x = purs_x_intpl_run_2[start:end], y = purs_y_intpl_run_2[start:end],showlegend=False,line=dict(color='blue', width=2)), row = 1, col = 2)\n",
    "\n",
    "\n",
    "    fig.show()"
   ]
  },
  {
   "cell_type": "code",
   "execution_count": null,
   "metadata": {},
   "outputs": [],
   "source": [
    "import plotly.graph_objects as go\n",
    "eye_mov_seq = analysis_info['eye_mov_seq']\n",
    "eye_mov_seq = [1,2, 3,4,5,6,7,8]\n",
    "\n",
    "for sequence in eye_mov_seq:\n",
    "    seq_eye_data_logic = np.logical_and(eye_data_run_01_nan_blink_interpol[:,0] >= time_start_seq[sequence,0],\\\n",
    "                                        eye_data_run_01_nan_blink_interpol[:,0] <= time_end_seq[sequence,0])\n",
    "    \n",
    "    fig = plotly_layout_template(\"SacLoc\",0)\n",
    "\n",
    "    fig.add_trace(go.Scatter(y = eye_data_run_01_nan_blink_interpol[seq_eye_data_logic][:,1],showlegend=False,line=dict(color='black', width=2)), row = 1, col = 1)\n",
    "    fig.add_trace(go.Scatter(y = sac_x_test[seq_eye_data_logic],showlegend=False,line=dict(color='green', width=2)), row = 1, col = 1)\n",
    "    fig.add_trace(go.Scatter(y = eye_data_run_01_nan_blink_interpol[seq_eye_data_logic][:,2],showlegend=False,line=dict(color='black', width=2)), row = 2, col = 1)\n",
    "    fig.add_trace(go.Scatter(y = sac_y_test[seq_eye_data_logic],showlegend=False,line=dict(color='green', width=2)), row = 2, col = 1)\n",
    "    fig.add_trace(go.Scatter(x = eye_data_run_01_nan_blink_interpol[seq_eye_data_logic][:,1], y = eye_data_run_01_nan_blink_interpol[seq_eye_data_logic][:,2],showlegend=False,line=dict(color='black', width=2)), row = 1, col = 2)\n",
    "    fig.add_trace(go.Scatter(x = sac_x_test[seq_eye_data_logic], y = sac_y_test[seq_eye_data_logic],showlegend=False,line=dict(color='green', width=2)), row = 1, col = 2)\n",
    "\n",
    "    fig.show()\n"
   ]
  },
  {
   "cell_type": "code",
   "execution_count": null,
   "metadata": {},
   "outputs": [],
   "source": [
    "import plotly.graph_objects as go\n",
    "\n",
    "eye_data_run_1_x = eye_data_run_01_nan_blink_interpol[:,1]\n",
    "eye_data_run_1_y = eye_data_run_01_nan_blink_interpol[:,2]\n",
    "\n",
    "# Define the start and end indices for each slice\n",
    "slice_indices = [(int(run_durations[i]), int(run_durations[i+33])) for i in range(15, 161, 48)]\n",
    "slice_indices_exp = [(19695, 58860), (76650, 115847), (133651, 172974), (190490, 230070)]  # accomodating for different length of prediction \n",
    "\n",
    "# Plot each slice individually\n",
    "for (start_eye, end_eye), (start_exp, end_exp) in zip(slice_indices, slice_indices_exp):\n",
    "    fig = plotly_layout_template(\"SacLoc\",0)\n",
    "\n",
    "    fig.add_trace(go.Scatter(y = eye_data_run_1_x[start_eye:end_eye],showlegend=False,line=dict(color='black', width=2)), row = 1, col = 1)\n",
    "    fig.add_trace(go.Scatter(y = sac_expected_x_run[start_exp:end_exp],showlegend=False,line=dict(color='green', width=2)), row = 1, col = 1)\n",
    "    fig.add_trace(go.Scatter(y = eye_data_run_1_y[start_eye:end_eye],showlegend=False,line=dict(color='black', width=2)), row = 2, col = 1)\n",
    "    fig.add_trace(go.Scatter(y = sac_expected_y_run[start_exp:end_exp],showlegend=False,line=dict(color='green', width=2)), row = 2, col = 1)\n",
    "    fig.add_trace(go.Scatter(x = eye_data_run_1_x[start_eye:end_eye], y = eye_data_run_1_y[start_eye:end_eye],showlegend=False,line=dict(color='black', width=2)), row = 1, col = 2)\n",
    "    fig.add_trace(go.Scatter(x = sac_expected_x_run[start_exp:end_exp], y = sac_expected_y_run[start_exp:end_exp],showlegend=False,line=dict(color='green', width=2)), row = 1, col = 2)\n",
    "\n",
    "    fig.show()"
   ]
  },
  {
   "cell_type": "code",
   "execution_count": null,
   "metadata": {},
   "outputs": [],
   "source": [
    "import plotly.graph_objects as go\n",
    "\n",
    "eye_data_run_1_x = eyetracking_data_all_runs_x_intpol[:len(df_sep_runs[0])]\n",
    "eye_data_run_1_y = eyetracking_data_all_runs_y_intpol[:len(df_sep_runs[0])]\n",
    "\n",
    "# Define the start and end indices for each slice\n",
    "slice_indices_fix_seq = [(int(run_durations[i]), int(run_durations[i+15])) for i in range(0, 192, 48)]\n",
    "\n",
    "# Plot each slice individually\n",
    "for start, end in slice_indices_fix_seq:\n",
    "    fig = plotly_layout_template(\"SacLoc\",0)\n",
    "\n",
    "    fig.add_trace(go.Scatter(y = eye_data_run_1_x[start:end],showlegend=False,line=dict(color='black', width=2)), row = 1, col = 1)\n",
    "    fig.add_trace(go.Scatter(y = sac_expected_x_run[start:end],showlegend=False,line=dict(color='green', width=2)), row = 1, col = 1)\n",
    "    fig.add_trace(go.Scatter(y = eye_data_run_1_y[start:end],showlegend=False,line=dict(color='black', width=2)), row = 2, col = 1)\n",
    "    fig.add_trace(go.Scatter(y = sac_expected_y_run[start:end],showlegend=False,line=dict(color='green', width=2)), row = 2, col = 1)\n",
    "    fig.add_trace(go.Scatter(x = eye_data_run_1_x[start:end], y = eye_data_run_1_y[start:end],showlegend=False,line=dict(color='black', width=2)), row = 1, col = 2)\n",
    "    fig.add_trace(go.Scatter(x = sac_expected_x_run[start:end], y = sac_expected_y_run[start:end],showlegend=False,line=dict(color='green', width=2)), row = 1, col = 2)\n",
    "\n",
    "    fig.show()"
   ]
  },
  {
   "cell_type": "code",
   "execution_count": null,
   "metadata": {},
   "outputs": [],
   "source": [
    "# plot fixation sequences\n",
    "\n",
    "eye_data_run_1_x = eyetracking_data_all_runs_x_intpol[:len(df_sep_runs[0])]\n",
    "eye_data_run_1_y = eyetracking_data_all_runs_y_intpol[:len(df_sep_runs[0])]\n",
    "\n",
    "# Define the start and end indices for each slice\n",
    "slice_indices_fix_seq = [(int(run_durations[i]), int(run_durations[i+15])) for i in range(0, 192, 48)]\n",
    "\n",
    "# Plot each slice individually\n",
    "for start, end in slice_indices_fix_seq:\n",
    "    fig = plotly_layout_template(\"PurLoc\",0)\n",
    "\n",
    "    fig.add_trace(go.Scatter(y = eye_data_run_1_x[start:end],showlegend=False,line=dict(color='black', width=2)), row = 1, col = 1)\n",
    "    fig.add_trace(go.Scatter(y = purs_x_intpl_run_1[start:end],showlegend=False,line=dict(color='blue', width=2)), row = 1, col = 1)\n",
    "    fig.add_trace(go.Scatter(y = eye_data_run_1_y[start:end],showlegend=False,line=dict(color='black', width=2)), row = 2, col = 1)\n",
    "    fig.add_trace(go.Scatter(y = purs_y_intpl_run_1[start:end],showlegend=False,line=dict(color='blue', width=2)), row = 2, col = 1)\n",
    "    fig.add_trace(go.Scatter(x = eye_data_run_1_x[start:end], y = eye_data_run_1_y[start:end],showlegend=False,line=dict(color='black', width=2)), row = 1, col = 2)\n",
    "    fig.add_trace(go.Scatter(x = purs_x_intpl_run_1[start:end], y = purs_y_intpl_run_1[start:end],showlegend=False,line=dict(color='blue', width=2)), row = 1, col = 2)\n",
    "\n",
    "\n",
    "    fig.show()"
   ]
  },
  {
   "cell_type": "code",
   "execution_count": null,
   "metadata": {},
   "outputs": [],
   "source": [
    "# plot fixation sequences\n",
    "\n",
    "eye_data_run_2_x = eyetracking_data_all_runs_x_intpol[len(df_sep_runs[0]):]\n",
    "eye_data_run_2_y = eyetracking_data_all_runs_y_intpol[len(df_sep_runs[0]):]\n",
    "\n",
    "# Define the start and end indices for each slice\n",
    "slice_indices_fix_seq = [(int(run_durations_2[i]), int(run_durations_2[i+15])) for i in range(0, 192, 48)]\n",
    "\n",
    "# Plot each slice individually\n",
    "for start, end in slice_indices_fix_seq:\n",
    "    fig = plotly_layout_template(\"PurLoc\",1)\n",
    "\n",
    "    fig.add_trace(go.Scatter(y = eye_data_run_2_x[start:end],showlegend=False,line=dict(color='black', width=2)), row = 1, col = 1)\n",
    "    fig.add_trace(go.Scatter(y = purs_x_intpl_run_2[start:end],showlegend=False,line=dict(color='blue', width=2)), row = 1, col = 1)\n",
    "    fig.add_trace(go.Scatter(y = eye_data_run_2_y[start:end],showlegend=False,line=dict(color='black', width=2)), row = 2, col = 1)\n",
    "    fig.add_trace(go.Scatter(y = purs_y_intpl_run_2[start:end],showlegend=False,line=dict(color='blue', width=2)), row = 2, col = 1)\n",
    "    fig.add_trace(go.Scatter(x = eye_data_run_2_x[start:end], y = eye_data_run_2_y[start:end],showlegend=False,line=dict(color='black', width=2)), row = 1, col = 2)\n",
    "    fig.add_trace(go.Scatter(x = purs_x_intpl_run_2[start:end], y = purs_y_intpl_run_2[start:end],showlegend=False,line=dict(color='blue', width=2)), row = 1, col = 2)\n",
    "\n",
    "\n",
    "    fig.show()"
   ]
  },
  {
   "cell_type": "code",
   "execution_count": 50,
   "metadata": {},
   "outputs": [
    {
     "data": {
      "text/plain": [
       "[<matplotlib.lines.Line2D at 0x1732c9d10>]"
      ]
     },
     "execution_count": 50,
     "metadata": {},
     "output_type": "execute_result"
    },
    {
     "data": {
      "image/png": "[encoded data removed]",
      "text/plain": [
       "<Figure size 2000x1000 with 1 Axes>"
      ]
     },
     "metadata": {},
     "output_type": "display_data"
    }
   ],
   "source": [
    "# Eucledian Distance \n",
    "fig = plt.figure(figsize=(20, 10))\n",
    "\n",
    "#median_gaze = np.nanmedian(eye_data[:int(run_durations[207]), 1:3], axis=0)\n",
    "eucl_dist = np.sqrt((eye_data_run_01_nan_blink_interpol[:len(purs_x_intpl_run_1),1] - purs_x_intpl_run_1)**2 + (eye_data_run_01_nan_blink_interpol[:len(purs_y_intpl_run_1),1]- purs_y_intpl_run_1)**2)\n",
    "#eucl_dist_2 = np.sqrt((- purs_x_intpl_run_2)**2 + ( - purs_y_intpl_run_2)**2)\n",
    "\n",
    "plt.plot(eucl_dist)\n",
    "#plt.plot(eucl_dist_2)"
   ]
  },
  {
   "cell_type": "code",
   "execution_count": 34,
   "metadata": {},
   "outputs": [
    {
     "data": {
      "image/png": "[encoded data removed]",
      "text/plain": [
       "<Figure size 1000x800 with 2 Axes>"
      ]
     },
     "metadata": {},
     "output_type": "display_data"
    }
   ],
   "source": [
    "import matplotlib.pyplot as plt\n",
    "import numpy as np\n",
    "\n",
    "# Example setup (assuming you have the necessary data)\n",
    "x1 = eye_data_run_01_nan_blink_interpol[:len(sac_expected_x_run),1]\n",
    "y1 = eye_data_run_01_nan_blink_interpol[:len(sac_expected_y_run),2]\n",
    "x2 = sac_expected_x_run\n",
    "y2 = sac_expected_y_run\n",
    "\n",
    "# Compute Euclidean distance\n",
    "eucl_dist = np.sqrt((x1 - x2)**2 + (y1 - y2)**2)\n",
    "\n",
    "# Create scatter plot with color coding for the distance\n",
    "plt.figure(figsize=(10, 8))\n",
    "sc = plt.scatter(x1, y1, c=eucl_dist, cmap='viridis', marker='o')\n",
    "\n",
    "# Adding colorbar to show magnitude of distance\n",
    "plt.colorbar(sc, label=\"Euclidean Distance\")\n",
    "\n",
    "# Labels and title\n",
    "plt.xlabel('X Coordinate')\n",
    "plt.ylabel('Y Coordinate')\n",
    "plt.title('2D Scatter Plot with Euclidean Distance')\n",
    "\n",
    "plt.show()\n"
   ]
  },
  {
   "cell_type": "code",
   "execution_count": null,
   "metadata": {},
   "outputs": [],
   "source": [
    "# Eucledian Distance SacLoc\n",
    "fig = plt.figure(figsize=(20, 10))\n",
    "\n",
    "#median_gaze = np.nanmedian(eye_data[:int(run_durations[207]), 1:3], axis=0)\n",
    "eucl_dist_sac = np.sqrt((eye_data_run_01_nan_blink_interpol[:len(sac_expected_x_run),1] - sac_expected_x_run)**2 + (eye_data_run_01_nan_blink_interpol[:len(sac_expected_y_run),2]- sac_expected_y_run)**2)\n",
    "#eucl_dist_2 = np.sqrt((- purs_x_intpl_run_2)**2 + ( - purs_y_intpl_run_2)**2)\n",
    "\n",
    "plt.plot(eucl_dist_sac)\n",
    "#plt.plot(eucl_dist_2)"
   ]
  },
  {
   "cell_type": "code",
   "execution_count": 56,
   "metadata": {},
   "outputs": [],
   "source": [
    "\n",
    "thresholds = np.linspace(0.5, 3.0, 100)\n",
    "precision = []\n",
    "\n",
    "for thr in thresholds: \n",
    "    count = np.sum(eucl_dist < thr)\n",
    "    fraction = count / len(purs_x_intpl_run_1) \n",
    "    precision.append(fraction)\n",
    "\n",
    "np.save(f\"/Users/sinakling/projects/PredictEye/locEMexp/stats/behav_analysis/precision_run_1_x_{subject}\",np.array(precision))"
   ]
  },
  {
   "cell_type": "code",
   "execution_count": 53,
   "metadata": {},
   "outputs": [],
   "source": [
    "precision_sub_1 = np.load(\"/Users/sinakling/projects/PredictEye/locEMexp/stats/behav_analysis/precision_run_1_x_sub_01.npy\")\n",
    "precision_sub_2 = np.load(\"/Users/sinakling/projects/PredictEye/locEMexp/stats/behav_analysis/precision_run_1_x_sub_02.npy\")\n",
    "precision_sub_3 = np.load(\"/Users/sinakling/projects/PredictEye/locEMexp/stats/behav_analysis/precision_run_1_x_sub_03.npy\")\n",
    "precision_sub_4 = np.load(\"/Users/sinakling/projects/PredictEye/locEMexp/stats/behav_analysis/precision_run_1_x_sub_04.npy\")\n",
    "precision_sub_5 = np.load(\"/Users/sinakling/projects/PredictEye/locEMexp/stats/behav_analysis/precision_run_1_x_sub_05.npy\")\n",
    "#precision_sub_6 = np.load(\"/Users/sinakling/projects/PredictEye/locEMexp/stats/behav_analysis/precision_run_1_x_sub_06.npy\")\n",
    "precision_sub_7 = np.load(\"/Users/sinakling/projects/PredictEye/locEMexp/stats/behav_analysis/precision_run_1_x_sub_07.npy\")\n",
    "precision_sub_11 = np.load(\"/Users/sinakling/projects/PredictEye/locEMexp/stats/behav_analysis/precision_run_1_x_sub_11.npy\")\n",
    "\n"
   ]
  },
  {
   "cell_type": "code",
   "execution_count": 57,
   "metadata": {},
   "outputs": [
    {
     "data": {
      "application/vnd.plotly.v1+json": {
       "config": {
        "plotlyServerURL": "https://plot.ly"
       },
       "data": [
        {
         "line": {
          "color": "blue"
         },
         "mode": "lines",
         "name": "Subject 1",
         "type": "scatter",
         "y": [
          0.5009003215434084,
          0.8983681672025724,
          0.9778094855305466,
          0.9919654340836013
         ]
        },
        {
         "line": {
          "color": "cyan"
         },
         "mode": "lines",
         "name": "Subject 2",
         "type": "scatter",
         "y": [
          0.23012459807073954,
          0.6161696141479099,
          0.8732958199356913,
          0.9859606109324759
         ]
        },
        {
         "line": {
          "color": "green"
         },
         "mode": "lines",
         "name": "Subject 3",
         "type": "scatter",
         "y": [
          0.09270498392282958,
          0.33785369774919616,
          0.592540192926045,
          0.8023070739549839
         ]
        },
        {
         "line": {
          "color": "lightgreen"
         },
         "mode": "lines",
         "name": "Subject 4",
         "type": "scatter",
         "y": [
          0.009111736334405145,
          0.060108520900321545,
          0.21059887459807075,
          0.502387459807074
         ]
        },
        {
         "line": {
          "color": "red"
         },
         "mode": "lines",
         "name": "Subject 5",
         "type": "scatter",
         "y": [
          0.1330305466237942,
          0.5066438906752412,
          0.8336254019292605,
          0.9321663987138263
         ]
        },
        {
         "line": {
          "color": "darkred"
         },
         "mode": "lines",
         "name": "Subject 7",
         "type": "scatter",
         "y": [
          0.05510852090032154,
          0.2541921221864952,
          0.5070860128617364,
          0.6203697749196142
         ]
        },
        {
         "line": {
          "color": "brown"
         },
         "mode": "lines",
         "name": "Subject 8",
         "type": "scatter",
         "y": [
          0.20817926045016077,
          0.21879421221864953,
          0.23043408360128617,
          0.23992363344051448,
          0.24984324758842444,
          0.26063906752411575,
          0.2707556270096463,
          0.2796181672025723,
          0.2876728295819936,
          0.2957194533762058,
          0.30440112540192926,
          0.3137138263665595,
          0.3231310289389068,
          0.33219051446945336,
          0.3406792604501608,
          0.34913183279742765,
          0.358741961414791,
          0.36732717041800644,
          0.3763987138263666,
          0.3851527331189711,
          0.39454983922829584,
          0.40265273311897104,
          0.4105184887459807,
          0.41866157556270095,
          0.4264147909967846,
          0.4345618971061093,
          0.44412379421221865,
          0.45311495176848876,
          0.4612138263665595,
          0.46840434083601284,
          0.47510048231511254,
          0.4825522508038585,
          0.4903376205787781,
          0.49787781350482313,
          0.5048593247588424,
          0.5110409967845659,
          0.5168971061093247,
          0.5221101286173634,
          0.5274638263665595,
          0.5326245980707396,
          0.5378496784565916,
          0.5429622186495177,
          0.5484565916398714,
          0.5533239549839228,
          0.5578657556270097,
          0.5624477491961415,
          0.5671945337620579,
          0.5721704180064309,
          0.5771101286173633,
          0.5818890675241157,
          0.5866077170418006,
          0.5910610932475884,
          0.5953577170418006,
          0.6000602893890675,
          0.6041639871382637,
          0.6090152733118971,
          0.6141197749196141,
          0.6189790996784565,
          0.622620578778135,
          0.6267885852090033,
          0.6306872990353698,
          0.6343609324758842,
          0.6380265273311897,
          0.6411334405144694,
          0.6442363344051447,
          0.6474879421221865,
          0.6503657556270096,
          0.6534204180064309,
          0.6568930868167202,
          0.6598271704180064,
          0.662628617363344,
          0.6653416398713826,
          0.6677813504823151,
          0.6706149517684887,
          0.6734244372990353,
          0.6765233118971061,
          0.679943729903537,
          0.6830345659163987,
          0.6860852090032155,
          0.6893689710610933,
          0.692676848874598,
          0.6952893890675241,
          0.6980305466237942,
          0.7009123794212219,
          0.7034163987138263,
          0.7059003215434083,
          0.708621382636656,
          0.7110852090032155,
          0.7134083601286174,
          0.7158520900321543,
          0.718886655948553,
          0.7220900321543409,
          0.724823151125402,
          0.7278336012861736,
          0.7304702572347267,
          0.7328536977491962,
          0.73508038585209,
          0.7373593247588425,
          0.7398633440514469,
          0.7422789389067525
         ]
        }
       ],
       "layout": {
        "font": {
         "color": "black",
         "family": "Arial",
         "size": 12
        },
        "height": 600,
        "paper_bgcolor": "white",
        "plot_bgcolor": "white",
        "shapes": [
         {
          "line": {
           "color": "black",
           "dash": "dash"
          },
          "type": "line",
          "x0": 1,
          "x1": 1,
          "y0": 0,
          "y1": 1
         }
        ],
        "template": {
         "data": {
          "bar": [
           {
            "error_x": {
             "color": "#2a3f5f"
            },
            "error_y": {
             "color": "#2a3f5f"
            },
            "marker": {
             "line": {
              "color": "#E5ECF6",
              "width": 0.5
             },
             "pattern": {
              "fillmode": "overlay",
              "size": 10,
              "solidity": 0.2
             }
            },
            "type": "bar"
           }
          ],
          "barpolar": [
           {
            "marker": {
             "line": {
              "color": "#E5ECF6",
              "width": 0.5
             },
             "pattern": {
              "fillmode": "overlay",
              "size": 10,
              "solidity": 0.2
             }
            },
            "type": "barpolar"
           }
          ],
          "carpet": [
           {
            "aaxis": {
             "endlinecolor": "#2a3f5f",
             "gridcolor": "white",
             "linecolor": "white",
             "minorgridcolor": "white",
             "startlinecolor": "#2a3f5f"
            },
            "baxis": {
             "endlinecolor": "#2a3f5f",
             "gridcolor": "white",
             "linecolor": "white",
             "minorgridcolor": "white",
             "startlinecolor": "#2a3f5f"
            },
            "type": "carpet"
           }
          ],
          "choropleth": [
           {
            "colorbar": {
             "outlinewidth": 0,
             "ticks": ""
            },
            "type": "choropleth"
           }
          ],
          "contour": [
           {
            "colorbar": {
             "outlinewidth": 0,
             "ticks": ""
            },
            "colorscale": [
             [
              0,
              "#0d0887"
             ],
             [
              0.1111111111111111,
              "#46039f"
             ],
             [
              0.2222222222222222,
              "#7201a8"
             ],
             [
              0.3333333333333333,
              "#9c179e"
             ],
             [
              0.4444444444444444,
              "#bd3786"
             ],
             [
              0.5555555555555556,
              "#d8576b"
             ],
             [
              0.6666666666666666,
              "#ed7953"
             ],
             [
              0.7777777777777778,
              "#fb9f3a"
             ],
             [
              0.8888888888888888,
              "#fdca26"
             ],
             [
              1,
              "#f0f921"
             ]
            ],
            "type": "contour"
           }
          ],
          "contourcarpet": [
           {
            "colorbar": {
             "outlinewidth": 0,
             "ticks": ""
            },
            "type": "contourcarpet"
           }
          ],
          "heatmap": [
           {
            "colorbar": {
             "outlinewidth": 0,
             "ticks": ""
            },
            "colorscale": [
             [
              0,
              "#0d0887"
             ],
             [
              0.1111111111111111,
              "#46039f"
             ],
             [
              0.2222222222222222,
              "#7201a8"
             ],
             [
              0.3333333333333333,
              "#9c179e"
             ],
             [
              0.4444444444444444,
              "#bd3786"
             ],
             [
              0.5555555555555556,
              "#d8576b"
             ],
             [
              0.6666666666666666,
              "#ed7953"
             ],
             [
              0.7777777777777778,
              "#fb9f3a"
             ],
             [
              0.8888888888888888,
              "#fdca26"
             ],
             [
              1,
              "#f0f921"
             ]
            ],
            "type": "heatmap"
           }
          ],
          "heatmapgl": [
           {
            "colorbar": {
             "outlinewidth": 0,
             "ticks": ""
            },
            "colorscale": [
             [
              0,
              "#0d0887"
             ],
             [
              0.1111111111111111,
              "#46039f"
             ],
             [
              0.2222222222222222,
              "#7201a8"
             ],
             [
              0.3333333333333333,
              "#9c179e"
             ],
             [
              0.4444444444444444,
              "#bd3786"
             ],
             [
              0.5555555555555556,
              "#d8576b"
             ],
             [
              0.6666666666666666,
              "#ed7953"
             ],
             [
              0.7777777777777778,
              "#fb9f3a"
             ],
             [
              0.8888888888888888,
              "#fdca26"
             ],
             [
              1,
              "#f0f921"
             ]
            ],
            "type": "heatmapgl"
           }
          ],
          "histogram": [
           {
            "marker": {
             "pattern": {
              "fillmode": "overlay",
              "size": 10,
              "solidity": 0.2
             }
            },
            "type": "histogram"
           }
          ],
          "histogram2d": [
           {
            "colorbar": {
             "outlinewidth": 0,
             "ticks": ""
            },
            "colorscale": [
             [
              0,
              "#0d0887"
             ],
             [
              0.1111111111111111,
              "#46039f"
             ],
             [
              0.2222222222222222,
              "#7201a8"
             ],
             [
              0.3333333333333333,
              "#9c179e"
             ],
             [
              0.4444444444444444,
              "#bd3786"
             ],
             [
              0.5555555555555556,
              "#d8576b"
             ],
             [
              0.6666666666666666,
              "#ed7953"
             ],
             [
              0.7777777777777778,
              "#fb9f3a"
             ],
             [
              0.8888888888888888,
              "#fdca26"
             ],
             [
              1,
              "#f0f921"
             ]
            ],
            "type": "histogram2d"
           }
          ],
          "histogram2dcontour": [
           {
            "colorbar": {
             "outlinewidth": 0,
             "ticks": ""
            },
            "colorscale": [
             [
              0,
              "#0d0887"
             ],
             [
              0.1111111111111111,
              "#46039f"
             ],
             [
              0.2222222222222222,
              "#7201a8"
             ],
             [
              0.3333333333333333,
              "#9c179e"
             ],
             [
              0.4444444444444444,
              "#bd3786"
             ],
             [
              0.5555555555555556,
              "#d8576b"
             ],
             [
              0.6666666666666666,
              "#ed7953"
             ],
             [
              0.7777777777777778,
              "#fb9f3a"
             ],
             [
              0.8888888888888888,
              "#fdca26"
             ],
             [
              1,
              "#f0f921"
             ]
            ],
            "type": "histogram2dcontour"
           }
          ],
          "mesh3d": [
           {
            "colorbar": {
             "outlinewidth": 0,
             "ticks": ""
            },
            "type": "mesh3d"
           }
          ],
          "parcoords": [
           {
            "line": {
             "colorbar": {
              "outlinewidth": 0,
              "ticks": ""
             }
            },
            "type": "parcoords"
           }
          ],
          "pie": [
           {
            "automargin": true,
            "type": "pie"
           }
          ],
          "scatter": [
           {
            "fillpattern": {
             "fillmode": "overlay",
             "size": 10,
             "solidity": 0.2
            },
            "type": "scatter"
           }
          ],
          "scatter3d": [
           {
            "line": {
             "colorbar": {
              "outlinewidth": 0,
              "ticks": ""
             }
            },
            "marker": {
             "colorbar": {
              "outlinewidth": 0,
              "ticks": ""
             }
            },
            "type": "scatter3d"
           }
          ],
          "scattercarpet": [
           {
            "marker": {
             "colorbar": {
              "outlinewidth": 0,
              "ticks": ""
             }
            },
            "type": "scattercarpet"
           }
          ],
          "scattergeo": [
           {
            "marker": {
             "colorbar": {
              "outlinewidth": 0,
              "ticks": ""
             }
            },
            "type": "scattergeo"
           }
          ],
          "scattergl": [
           {
            "marker": {
             "colorbar": {
              "outlinewidth": 0,
              "ticks": ""
             }
            },
            "type": "scattergl"
           }
          ],
          "scattermapbox": [
           {
            "marker": {
             "colorbar": {
              "outlinewidth": 0,
              "ticks": ""
             }
            },
            "type": "scattermapbox"
           }
          ],
          "scatterpolar": [
           {
            "marker": {
             "colorbar": {
              "outlinewidth": 0,
              "ticks": ""
             }
            },
            "type": "scatterpolar"
           }
          ],
          "scatterpolargl": [
           {
            "marker": {
             "colorbar": {
              "outlinewidth": 0,
              "ticks": ""
             }
            },
            "type": "scatterpolargl"
           }
          ],
          "scatterternary": [
           {
            "marker": {
             "colorbar": {
              "outlinewidth": 0,
              "ticks": ""
             }
            },
            "type": "scatterternary"
           }
          ],
          "surface": [
           {
            "colorbar": {
             "outlinewidth": 0,
             "ticks": ""
            },
            "colorscale": [
             [
              0,
              "#0d0887"
             ],
             [
              0.1111111111111111,
              "#46039f"
             ],
             [
              0.2222222222222222,
              "#7201a8"
             ],
             [
              0.3333333333333333,
              "#9c179e"
             ],
             [
              0.4444444444444444,
              "#bd3786"
             ],
             [
              0.5555555555555556,
              "#d8576b"
             ],
             [
              0.6666666666666666,
              "#ed7953"
             ],
             [
              0.7777777777777778,
              "#fb9f3a"
             ],
             [
              0.8888888888888888,
              "#fdca26"
             ],
             [
              1,
              "#f0f921"
             ]
            ],
            "type": "surface"
           }
          ],
          "table": [
           {
            "cells": {
             "fill": {
              "color": "#EBF0F8"
             },
             "line": {
              "color": "white"
             }
            },
            "header": {
             "fill": {
              "color": "#C8D4E3"
             },
             "line": {
              "color": "white"
             }
            },
            "type": "table"
           }
          ]
         },
         "layout": {
          "annotationdefaults": {
           "arrowcolor": "#2a3f5f",
           "arrowhead": 0,
           "arrowwidth": 1
          },
          "autotypenumbers": "strict",
          "coloraxis": {
           "colorbar": {
            "outlinewidth": 0,
            "ticks": ""
           }
          },
          "colorscale": {
           "diverging": [
            [
             0,
             "#8e0152"
            ],
            [
             0.1,
             "#c51b7d"
            ],
            [
             0.2,
             "#de77ae"
            ],
            [
             0.3,
             "#f1b6da"
            ],
            [
             0.4,
             "#fde0ef"
            ],
            [
             0.5,
             "#f7f7f7"
            ],
            [
             0.6,
             "#e6f5d0"
            ],
            [
             0.7,
             "#b8e186"
            ],
            [
             0.8,
             "#7fbc41"
            ],
            [
             0.9,
             "#4d9221"
            ],
            [
             1,
             "#276419"
            ]
           ],
           "sequential": [
            [
             0,
             "#0d0887"
            ],
            [
             0.1111111111111111,
             "#46039f"
            ],
            [
             0.2222222222222222,
             "#7201a8"
            ],
            [
             0.3333333333333333,
             "#9c179e"
            ],
            [
             0.4444444444444444,
             "#bd3786"
            ],
            [
             0.5555555555555556,
             "#d8576b"
            ],
            [
             0.6666666666666666,
             "#ed7953"
            ],
            [
             0.7777777777777778,
             "#fb9f3a"
            ],
            [
             0.8888888888888888,
             "#fdca26"
            ],
            [
             1,
             "#f0f921"
            ]
           ],
           "sequentialminus": [
            [
             0,
             "#0d0887"
            ],
            [
             0.1111111111111111,
             "#46039f"
            ],
            [
             0.2222222222222222,
             "#7201a8"
            ],
            [
             0.3333333333333333,
             "#9c179e"
            ],
            [
             0.4444444444444444,
             "#bd3786"
            ],
            [
             0.5555555555555556,
             "#d8576b"
            ],
            [
             0.6666666666666666,
             "#ed7953"
            ],
            [
             0.7777777777777778,
             "#fb9f3a"
            ],
            [
             0.8888888888888888,
             "#fdca26"
            ],
            [
             1,
             "#f0f921"
            ]
           ]
          },
          "colorway": [
           "#636efa",
           "#EF553B",
           "#00cc96",
           "#ab63fa",
           "#FFA15A",
           "#19d3f3",
           "#FF6692",
           "#B6E880",
           "#FF97FF",
           "#FECB52"
          ],
          "font": {
           "color": "#2a3f5f"
          },
          "geo": {
           "bgcolor": "white",
           "lakecolor": "white",
           "landcolor": "#E5ECF6",
           "showlakes": true,
           "showland": true,
           "subunitcolor": "white"
          },
          "hoverlabel": {
           "align": "left"
          },
          "hovermode": "closest",
          "mapbox": {
           "style": "light"
          },
          "paper_bgcolor": "white",
          "plot_bgcolor": "#E5ECF6",
          "polar": {
           "angularaxis": {
            "gridcolor": "white",
            "linecolor": "white",
            "ticks": ""
           },
           "bgcolor": "#E5ECF6",
           "radialaxis": {
            "gridcolor": "white",
            "linecolor": "white",
            "ticks": ""
           }
          },
          "scene": {
           "xaxis": {
            "backgroundcolor": "#E5ECF6",
            "gridcolor": "white",
            "gridwidth": 2,
            "linecolor": "white",
            "showbackground": true,
            "ticks": "",
            "zerolinecolor": "white"
           },
           "yaxis": {
            "backgroundcolor": "#E5ECF6",
            "gridcolor": "white",
            "gridwidth": 2,
            "linecolor": "white",
            "showbackground": true,
            "ticks": "",
            "zerolinecolor": "white"
           },
           "zaxis": {
            "backgroundcolor": "#E5ECF6",
            "gridcolor": "white",
            "gridwidth": 2,
            "linecolor": "white",
            "showbackground": true,
            "ticks": "",
            "zerolinecolor": "white"
           }
          },
          "shapedefaults": {
           "line": {
            "color": "#2a3f5f"
           }
          },
          "ternary": {
           "aaxis": {
            "gridcolor": "white",
            "linecolor": "white",
            "ticks": ""
           },
           "baxis": {
            "gridcolor": "white",
            "linecolor": "white",
            "ticks": ""
           },
           "bgcolor": "#E5ECF6",
           "caxis": {
            "gridcolor": "white",
            "linecolor": "white",
            "ticks": ""
           }
          },
          "title": {
           "x": 0.05
          },
          "xaxis": {
           "automargin": true,
           "gridcolor": "white",
           "linecolor": "white",
           "ticks": "",
           "title": {
            "standoff": 15
           },
           "zerolinecolor": "white",
           "zerolinewidth": 2
          },
          "yaxis": {
           "automargin": true,
           "gridcolor": "white",
           "linecolor": "white",
           "ticks": "",
           "title": {
            "standoff": 15
           },
           "zerolinecolor": "white",
           "zerolinewidth": 2
          }
         }
        },
        "title": {
         "text": "Threshold vs Below Threshold (%)"
        },
        "width": 700,
        "xaxis": {
         "linecolor": "black",
         "range": [
          0,
          2
         ],
         "showgrid": false,
         "title": {
          "text": "Threshold (°)"
         },
         "zeroline": true
        },
        "yaxis": {
         "linecolor": "black",
         "range": [
          0,
          1
         ],
         "showgrid": false,
         "title": {
          "text": "Below threshold (%)"
         },
         "zeroline": true
        }
       }
      }
     },
     "metadata": {},
     "output_type": "display_data"
    }
   ],
   "source": [
    "import plotly.graph_objs as go\n",
    "import numpy as np\n",
    "\n",
    "# Example data for each subject (replace with your actual data)\n",
    "subject_data = {\n",
    "    1: precision_sub_1,\n",
    "    2: precision_sub_2,\n",
    "    3: precision_sub_3,\n",
    "    4: precision_sub_4, \n",
    "    5: precision_sub_5,\n",
    "    7: precision_sub_7,\n",
    "    8: precision,\n",
    "    11: precision_sub_11\n",
    "    \n",
    "}\n",
    "\n",
    "# Define colors for the subjects\n",
    "colors = ['blue', 'cyan', 'green', 'lightgreen','red','darkred','brown'] #\n",
    "\n",
    "# Create traces for each subject\n",
    "traces = []\n",
    "for subject, color in zip(subject_data.keys(), colors):\n",
    "    traces.append(go.Scatter(\n",
    "        y=subject_data[subject],\n",
    "        mode='lines',\n",
    "        name=f'Subject {subject}',\n",
    "        line=dict(color=color)\n",
    "    ))\n",
    "\n",
    "# Create the plot layout with a simple white background and square figure\n",
    "layout = go.Layout(\n",
    "    title=\"Threshold vs Below Threshold (%)\",\n",
    "    xaxis=dict(\n",
    "        title='Threshold (°)',\n",
    "        range=[0, 2],\n",
    "        zeroline=True,       # Add x-axis zero line\n",
    "        linecolor='black',   # Black color for the x-axis line\n",
    "        showgrid=False       # Remove grid lines\n",
    "    ),\n",
    "    yaxis=dict(\n",
    "        title='Below threshold (%)',\n",
    "        range=[0, 1],\n",
    "        zeroline=True,       # Add y-axis zero line\n",
    "        linecolor='black',   # Black color for the y-axis line\n",
    "        showgrid=False       # Remove grid lines\n",
    "    ),\n",
    "    plot_bgcolor='white',  # Set the background to white\n",
    "    paper_bgcolor='white',  # Set the paper background to white\n",
    "    shapes=[  # Vertical line at threshold 1°\n",
    "        dict(\n",
    "            type=\"line\",\n",
    "            x0=1,\n",
    "            x1=1,\n",
    "            y0=0,\n",
    "            y1=1,\n",
    "            line=dict(color=\"black\", dash=\"dash\")\n",
    "        )\n",
    "    ],\n",
    "    font=dict(family=\"Arial\", size=12, color=\"black\"),  # Clean font style\n",
    "    height=600,  # Height of the figure (you can adjust this)\n",
    "    width=700    # Width of the figure (set to be the same as height)\n",
    ")\n",
    "\n",
    "\n",
    "# Create the figure and show it\n",
    "fig = go.Figure(data=traces, layout=layout)\n",
    "fig.show()\n"
   ]
  },
  {
   "cell_type": "code",
   "execution_count": 387,
   "metadata": {},
   "outputs": [
    {
     "data": {
      "application/vnd.plotly.v1+json": {
       "config": {
        "plotlyServerURL": "https://plot.ly"
       },
       "data": [
        {
         "mode": "markers",
         "type": "scatter",
         "y": [
          0.8983681672025724,
          0.6161696141479099,
          0.33785369774919616,
          0.060108520900321545,
          0.5066438906752412,
          0.2541921221864952,
          0.6515554662379421
         ]
        }
       ],
       "layout": {
        "height": 700,
        "showlegend": false,
        "template": {
         "data": {
          "bar": [
           {
            "error_x": {
             "color": "rgb(36,36,36)"
            },
            "error_y": {
             "color": "rgb(36,36,36)"
            },
            "marker": {
             "line": {
              "color": "white",
              "width": 0.5
             },
             "pattern": {
              "fillmode": "overlay",
              "size": 10,
              "solidity": 0.2
             }
            },
            "type": "bar"
           }
          ],
          "barpolar": [
           {
            "marker": {
             "line": {
              "color": "white",
              "width": 0.5
             },
             "pattern": {
              "fillmode": "overlay",
              "size": 10,
              "solidity": 0.2
             }
            },
            "type": "barpolar"
           }
          ],
          "carpet": [
           {
            "aaxis": {
             "endlinecolor": "rgb(36,36,36)",
             "gridcolor": "white",
             "linecolor": "white",
             "minorgridcolor": "white",
             "startlinecolor": "rgb(36,36,36)"
            },
            "baxis": {
             "endlinecolor": "rgb(36,36,36)",
             "gridcolor": "white",
             "linecolor": "white",
             "minorgridcolor": "white",
             "startlinecolor": "rgb(36,36,36)"
            },
            "type": "carpet"
           }
          ],
          "choropleth": [
           {
            "colorbar": {
             "outlinewidth": 1,
             "tickcolor": "rgb(36,36,36)",
             "ticks": "outside"
            },
            "type": "choropleth"
           }
          ],
          "contour": [
           {
            "colorbar": {
             "outlinewidth": 1,
             "tickcolor": "rgb(36,36,36)",
             "ticks": "outside"
            },
            "colorscale": [
             [
              0,
              "#440154"
             ],
             [
              0.1111111111111111,
              "#482878"
             ],
             [
              0.2222222222222222,
              "#3e4989"
             ],
             [
              0.3333333333333333,
              "#31688e"
             ],
             [
              0.4444444444444444,
              "#26828e"
             ],
             [
              0.5555555555555556,
              "#1f9e89"
             ],
             [
              0.6666666666666666,
              "#35b779"
             ],
             [
              0.7777777777777778,
              "#6ece58"
             ],
             [
              0.8888888888888888,
              "#b5de2b"
             ],
             [
              1,
              "#fde725"
             ]
            ],
            "type": "contour"
           }
          ],
          "contourcarpet": [
           {
            "colorbar": {
             "outlinewidth": 1,
             "tickcolor": "rgb(36,36,36)",
             "ticks": "outside"
            },
            "type": "contourcarpet"
           }
          ],
          "heatmap": [
           {
            "colorbar": {
             "outlinewidth": 1,
             "tickcolor": "rgb(36,36,36)",
             "ticks": "outside"
            },
            "colorscale": [
             [
              0,
              "#440154"
             ],
             [
              0.1111111111111111,
              "#482878"
             ],
             [
              0.2222222222222222,
              "#3e4989"
             ],
             [
              0.3333333333333333,
              "#31688e"
             ],
             [
              0.4444444444444444,
              "#26828e"
             ],
             [
              0.5555555555555556,
              "#1f9e89"
             ],
             [
              0.6666666666666666,
              "#35b779"
             ],
             [
              0.7777777777777778,
              "#6ece58"
             ],
             [
              0.8888888888888888,
              "#b5de2b"
             ],
             [
              1,
              "#fde725"
             ]
            ],
            "type": "heatmap"
           }
          ],
          "heatmapgl": [
           {
            "colorbar": {
             "outlinewidth": 1,
             "tickcolor": "rgb(36,36,36)",
             "ticks": "outside"
            },
            "colorscale": [
             [
              0,
              "#440154"
             ],
             [
              0.1111111111111111,
              "#482878"
             ],
             [
              0.2222222222222222,
              "#3e4989"
             ],
             [
              0.3333333333333333,
              "#31688e"
             ],
             [
              0.4444444444444444,
              "#26828e"
             ],
             [
              0.5555555555555556,
              "#1f9e89"
             ],
             [
              0.6666666666666666,
              "#35b779"
             ],
             [
              0.7777777777777778,
              "#6ece58"
             ],
             [
              0.8888888888888888,
              "#b5de2b"
             ],
             [
              1,
              "#fde725"
             ]
            ],
            "type": "heatmapgl"
           }
          ],
          "histogram": [
           {
            "marker": {
             "line": {
              "color": "white",
              "width": 0.6
             }
            },
            "type": "histogram"
           }
          ],
          "histogram2d": [
           {
            "colorbar": {
             "outlinewidth": 1,
             "tickcolor": "rgb(36,36,36)",
             "ticks": "outside"
            },
            "colorscale": [
             [
              0,
              "#440154"
             ],
             [
              0.1111111111111111,
              "#482878"
             ],
             [
              0.2222222222222222,
              "#3e4989"
             ],
             [
              0.3333333333333333,
              "#31688e"
             ],
             [
              0.4444444444444444,
              "#26828e"
             ],
             [
              0.5555555555555556,
              "#1f9e89"
             ],
             [
              0.6666666666666666,
              "#35b779"
             ],
             [
              0.7777777777777778,
              "#6ece58"
             ],
             [
              0.8888888888888888,
              "#b5de2b"
             ],
             [
              1,
              "#fde725"
             ]
            ],
            "type": "histogram2d"
           }
          ],
          "histogram2dcontour": [
           {
            "colorbar": {
             "outlinewidth": 1,
             "tickcolor": "rgb(36,36,36)",
             "ticks": "outside"
            },
            "colorscale": [
             [
              0,
              "#440154"
             ],
             [
              0.1111111111111111,
              "#482878"
             ],
             [
              0.2222222222222222,
              "#3e4989"
             ],
             [
              0.3333333333333333,
              "#31688e"
             ],
             [
              0.4444444444444444,
              "#26828e"
             ],
             [
              0.5555555555555556,
              "#1f9e89"
             ],
             [
              0.6666666666666666,
              "#35b779"
             ],
             [
              0.7777777777777778,
              "#6ece58"
             ],
             [
              0.8888888888888888,
              "#b5de2b"
             ],
             [
              1,
              "#fde725"
             ]
            ],
            "type": "histogram2dcontour"
           }
          ],
          "mesh3d": [
           {
            "colorbar": {
             "outlinewidth": 1,
             "tickcolor": "rgb(36,36,36)",
             "ticks": "outside"
            },
            "type": "mesh3d"
           }
          ],
          "parcoords": [
           {
            "line": {
             "colorbar": {
              "outlinewidth": 1,
              "tickcolor": "rgb(36,36,36)",
              "ticks": "outside"
             }
            },
            "type": "parcoords"
           }
          ],
          "pie": [
           {
            "automargin": true,
            "type": "pie"
           }
          ],
          "scatter": [
           {
            "fillpattern": {
             "fillmode": "overlay",
             "size": 10,
             "solidity": 0.2
            },
            "type": "scatter"
           }
          ],
          "scatter3d": [
           {
            "line": {
             "colorbar": {
              "outlinewidth": 1,
              "tickcolor": "rgb(36,36,36)",
              "ticks": "outside"
             }
            },
            "marker": {
             "colorbar": {
              "outlinewidth": 1,
              "tickcolor": "rgb(36,36,36)",
              "ticks": "outside"
             }
            },
            "type": "scatter3d"
           }
          ],
          "scattercarpet": [
           {
            "marker": {
             "colorbar": {
              "outlinewidth": 1,
              "tickcolor": "rgb(36,36,36)",
              "ticks": "outside"
             }
            },
            "type": "scattercarpet"
           }
          ],
          "scattergeo": [
           {
            "marker": {
             "colorbar": {
              "outlinewidth": 1,
              "tickcolor": "rgb(36,36,36)",
              "ticks": "outside"
             }
            },
            "type": "scattergeo"
           }
          ],
          "scattergl": [
           {
            "marker": {
             "colorbar": {
              "outlinewidth": 1,
              "tickcolor": "rgb(36,36,36)",
              "ticks": "outside"
             }
            },
            "type": "scattergl"
           }
          ],
          "scattermapbox": [
           {
            "marker": {
             "colorbar": {
              "outlinewidth": 1,
              "tickcolor": "rgb(36,36,36)",
              "ticks": "outside"
             }
            },
            "type": "scattermapbox"
           }
          ],
          "scatterpolar": [
           {
            "marker": {
             "colorbar": {
              "outlinewidth": 1,
              "tickcolor": "rgb(36,36,36)",
              "ticks": "outside"
             }
            },
            "type": "scatterpolar"
           }
          ],
          "scatterpolargl": [
           {
            "marker": {
             "colorbar": {
              "outlinewidth": 1,
              "tickcolor": "rgb(36,36,36)",
              "ticks": "outside"
             }
            },
            "type": "scatterpolargl"
           }
          ],
          "scatterternary": [
           {
            "marker": {
             "colorbar": {
              "outlinewidth": 1,
              "tickcolor": "rgb(36,36,36)",
              "ticks": "outside"
             }
            },
            "type": "scatterternary"
           }
          ],
          "surface": [
           {
            "colorbar": {
             "outlinewidth": 1,
             "tickcolor": "rgb(36,36,36)",
             "ticks": "outside"
            },
            "colorscale": [
             [
              0,
              "#440154"
             ],
             [
              0.1111111111111111,
              "#482878"
             ],
             [
              0.2222222222222222,
              "#3e4989"
             ],
             [
              0.3333333333333333,
              "#31688e"
             ],
             [
              0.4444444444444444,
              "#26828e"
             ],
             [
              0.5555555555555556,
              "#1f9e89"
             ],
             [
              0.6666666666666666,
              "#35b779"
             ],
             [
              0.7777777777777778,
              "#6ece58"
             ],
             [
              0.8888888888888888,
              "#b5de2b"
             ],
             [
              1,
              "#fde725"
             ]
            ],
            "type": "surface"
           }
          ],
          "table": [
           {
            "cells": {
             "fill": {
              "color": "rgb(237,237,237)"
             },
             "line": {
              "color": "white"
             }
            },
            "header": {
             "fill": {
              "color": "rgb(217,217,217)"
             },
             "line": {
              "color": "white"
             }
            },
            "type": "table"
           }
          ]
         },
         "layout": {
          "annotationdefaults": {
           "arrowhead": 0,
           "arrowwidth": 1
          },
          "autotypenumbers": "strict",
          "coloraxis": {
           "colorbar": {
            "outlinewidth": 1,
            "tickcolor": "rgb(36,36,36)",
            "ticks": "outside"
           }
          },
          "colorscale": {
           "diverging": [
            [
             0,
             "rgb(103,0,31)"
            ],
            [
             0.1,
             "rgb(178,24,43)"
            ],
            [
             0.2,
             "rgb(214,96,77)"
            ],
            [
             0.3,
             "rgb(244,165,130)"
            ],
            [
             0.4,
             "rgb(253,219,199)"
            ],
            [
             0.5,
             "rgb(247,247,247)"
            ],
            [
             0.6,
             "rgb(209,229,240)"
            ],
            [
             0.7,
             "rgb(146,197,222)"
            ],
            [
             0.8,
             "rgb(67,147,195)"
            ],
            [
             0.9,
             "rgb(33,102,172)"
            ],
            [
             1,
             "rgb(5,48,97)"
            ]
           ],
           "sequential": [
            [
             0,
             "#440154"
            ],
            [
             0.1111111111111111,
             "#482878"
            ],
            [
             0.2222222222222222,
             "#3e4989"
            ],
            [
             0.3333333333333333,
             "#31688e"
            ],
            [
             0.4444444444444444,
             "#26828e"
            ],
            [
             0.5555555555555556,
             "#1f9e89"
            ],
            [
             0.6666666666666666,
             "#35b779"
            ],
            [
             0.7777777777777778,
             "#6ece58"
            ],
            [
             0.8888888888888888,
             "#b5de2b"
            ],
            [
             1,
             "#fde725"
            ]
           ],
           "sequentialminus": [
            [
             0,
             "#440154"
            ],
            [
             0.1111111111111111,
             "#482878"
            ],
            [
             0.2222222222222222,
             "#3e4989"
            ],
            [
             0.3333333333333333,
             "#31688e"
            ],
            [
             0.4444444444444444,
             "#26828e"
            ],
            [
             0.5555555555555556,
             "#1f9e89"
            ],
            [
             0.6666666666666666,
             "#35b779"
            ],
            [
             0.7777777777777778,
             "#6ece58"
            ],
            [
             0.8888888888888888,
             "#b5de2b"
            ],
            [
             1,
             "#fde725"
            ]
           ]
          },
          "colorway": [
           "#1F77B4",
           "#FF7F0E",
           "#2CA02C",
           "#D62728",
           "#9467BD",
           "#8C564B",
           "#E377C2",
           "#7F7F7F",
           "#BCBD22",
           "#17BECF"
          ],
          "font": {
           "color": "rgb(36,36,36)"
          },
          "geo": {
           "bgcolor": "white",
           "lakecolor": "white",
           "landcolor": "white",
           "showlakes": true,
           "showland": true,
           "subunitcolor": "white"
          },
          "hoverlabel": {
           "align": "left"
          },
          "hovermode": "closest",
          "mapbox": {
           "style": "light"
          },
          "paper_bgcolor": "white",
          "plot_bgcolor": "white",
          "polar": {
           "angularaxis": {
            "gridcolor": "rgb(232,232,232)",
            "linecolor": "rgb(36,36,36)",
            "showgrid": false,
            "showline": true,
            "ticks": "outside"
           },
           "bgcolor": "white",
           "radialaxis": {
            "gridcolor": "rgb(232,232,232)",
            "linecolor": "rgb(36,36,36)",
            "showgrid": false,
            "showline": true,
            "ticks": "outside"
           }
          },
          "scene": {
           "xaxis": {
            "backgroundcolor": "white",
            "gridcolor": "rgb(232,232,232)",
            "gridwidth": 2,
            "linecolor": "rgb(36,36,36)",
            "showbackground": true,
            "showgrid": false,
            "showline": true,
            "ticks": "outside",
            "zeroline": false,
            "zerolinecolor": "rgb(36,36,36)"
           },
           "yaxis": {
            "backgroundcolor": "white",
            "gridcolor": "rgb(232,232,232)",
            "gridwidth": 2,
            "linecolor": "rgb(36,36,36)",
            "showbackground": true,
            "showgrid": false,
            "showline": true,
            "ticks": "outside",
            "zeroline": false,
            "zerolinecolor": "rgb(36,36,36)"
           },
           "zaxis": {
            "backgroundcolor": "white",
            "gridcolor": "rgb(232,232,232)",
            "gridwidth": 2,
            "linecolor": "rgb(36,36,36)",
            "showbackground": true,
            "showgrid": false,
            "showline": true,
            "ticks": "outside",
            "zeroline": false,
            "zerolinecolor": "rgb(36,36,36)"
           }
          },
          "shapedefaults": {
           "fillcolor": "black",
           "line": {
            "width": 0
           },
           "opacity": 0.3
          },
          "ternary": {
           "aaxis": {
            "gridcolor": "rgb(232,232,232)",
            "linecolor": "rgb(36,36,36)",
            "showgrid": false,
            "showline": true,
            "ticks": "outside"
           },
           "baxis": {
            "gridcolor": "rgb(232,232,232)",
            "linecolor": "rgb(36,36,36)",
            "showgrid": false,
            "showline": true,
            "ticks": "outside"
           },
           "bgcolor": "white",
           "caxis": {
            "gridcolor": "rgb(232,232,232)",
            "linecolor": "rgb(36,36,36)",
            "showgrid": false,
            "showline": true,
            "ticks": "outside"
           }
          },
          "title": {
           "x": 0.05
          },
          "xaxis": {
           "automargin": true,
           "gridcolor": "rgb(232,232,232)",
           "linecolor": "rgb(36,36,36)",
           "showgrid": false,
           "showline": true,
           "ticks": "outside",
           "title": {
            "standoff": 15
           },
           "zeroline": false,
           "zerolinecolor": "rgb(36,36,36)"
          },
          "yaxis": {
           "automargin": true,
           "gridcolor": "rgb(232,232,232)",
           "linecolor": "rgb(36,36,36)",
           "showgrid": false,
           "showline": true,
           "ticks": "outside",
           "title": {
            "standoff": 15
           },
           "zeroline": false,
           "zerolinecolor": "rgb(36,36,36)"
          }
         }
        },
        "width": 400,
        "xaxis": {
         "title": {
          "text": "1°"
         }
        },
        "yaxis": {
         "range": [
          0,
          1
         ]
        }
       }
      }
     },
     "metadata": {},
     "output_type": "display_data"
    }
   ],
   "source": [
    "threshold_1 = [precision_sub_1[1], precision_sub_2[1], precision_sub_3[1],precision[1], precision_sub_5[1], precision_sub_7[1], precision_sub_11[1]]\n",
    "fig = go.Figure(data=go.Scatter(y = threshold_1, mode='markers'))\n",
    "fig.update_xaxes(title_text=\"1°\")\n",
    "fig.update_yaxes(range = [0,1])\n",
    "   \n",
    "\n",
    "\n",
    "fig.update_layout(\n",
    "    showlegend=False,\n",
    "    height=700,\n",
    "    width=400,  \n",
    "    template=\"simple_white\"\n",
    "    \n",
    ")\n",
    "\n",
    "\n",
    "fig.show()"
   ]
  },
  {
   "cell_type": "code",
   "execution_count": 29,
   "metadata": {},
   "outputs": [
    {
     "name": "stdout",
     "output_type": "stream",
     "text": [
      "97.64712504573471\n"
     ]
    }
   ],
   "source": [
    "# Percentage of valid samples in run(s) (ratio of NaNs after removing blinks to total amount of data points)\n",
    "\n",
    "valid_samples = np.sum(np.isnan(eye_data[:, 1:3]).any(axis=1))\n",
    "total_samples = eye_data.shape[0]\n",
    "valid_ratio = 100 * (1 - valid_samples / total_samples)\n",
    "\n",
    "print(valid_ratio)\n",
    "\n",
    "#NSD paper: if ration of valid samples is below 33 %, data is not used "
   ]
  }
 ],
 "metadata": {
  "kernelspec": {
   "display_name": "skling",
   "language": "python",
   "name": "python3"
  },
  "language_info": {
   "codemirror_mode": {
    "name": "ipython",
    "version": 3
   },
   "file_extension": ".py",
   "mimetype": "text/x-python",
   "name": "python",
   "nbconvert_exporter": "python",
   "pygments_lexer": "ipython3",
   "version": "3.11.7"
  }
 },
 "nbformat": 4,
 "nbformat_minor": 2
}
