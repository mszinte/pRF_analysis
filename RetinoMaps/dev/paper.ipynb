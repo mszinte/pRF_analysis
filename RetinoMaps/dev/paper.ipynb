{
 "cells": [
  {
   "cell_type": "code",
   "execution_count": 1,
   "id": "9ba7903b-a947-40d0-b039-6e001fa98153",
   "metadata": {
    "tags": []
   },
   "outputs": [],
   "source": [
    "# Stop warnings\n",
    "import warnings\n",
    "warnings.filterwarnings(\"ignore\")\n",
    "\n",
    "# Imports\n",
    "\n",
    "import os\n",
    "import sys\n",
    "import time\n",
    "import json\n",
    "import copy\n",
    "import cortex\n",
    "import numpy as np\n",
    "import pandas as pd\n",
    "from scipy import stats\n",
    "import matplotlib.pyplot as plt\n",
    "\n",
    "\n",
    "import plotly.express as px\n",
    "import plotly.graph_objects as go\n",
    "from plotly.subplots import make_subplots\n",
    "\n",
    "\n",
    "sys.path.append(\"{}/../../analysis_code/utils\".format(os.getcwd()))\n",
    "from plot_utils import *\n",
    "from pycortex_utils import draw_cortex, set_pycortex_config_file, load_surface_pycortex, create_colormap, get_rois\n",
    "from surface_utils import load_surface\n",
    "from maths_utils import weighted_regression\n"
   ]
  },
  {
   "cell_type": "code",
   "execution_count": 2,
   "id": "73b605c8-bc74-4ed9-8309-14baa09c4b06",
   "metadata": {
    "tags": []
   },
   "outputs": [],
   "source": [
    "# Import data base\n",
    "main_dir = '/Users/uriel/disks/meso_shared'\n",
    "# main_dir = '/home/ulascombes/disks/meso_shared'\n",
    "\n",
    "project_dir = 'RetinoMaps'\n",
    "suffix = 'Sac_Pur'\n",
    "\n",
    "with open('../settings.json') as f:\n",
    "    json_s = f.read()\n",
    "    analysis_info = json.loads(json_s)\n",
    "rois = analysis_info['rois']\n",
    "subjects = analysis_info['subjects']\n",
    "TR = analysis_info['TR']\n",
    "rois = analysis_info['rois']\n",
    "ecc_threshold = analysis_info['ecc_th']\n",
    "size_threshold = analysis_info['size_th']\n",
    "rsqr_threshold = analysis_info['rsqr_th']\n",
    "amplitude_threshold = analysis_info['amplitude_th']\n",
    "stats_threshold = analysis_info['stats_th']\n",
    "n_threshold = analysis_info['n_th']\n",
    "prf_task_name = analysis_info['prf_task_name']\n",
    "screen_size_cm = analysis_info['screen_size_cm']\n",
    "\n",
    "\n",
    "fig_width = 1440"
   ]
  },
  {
   "cell_type": "code",
   "execution_count": 3,
   "id": "93b55451-1af7-449c-835d-4fa5264743a9",
   "metadata": {
    "tags": []
   },
   "outputs": [],
   "source": [
    "# Plot settings\n",
    "colormap_dict = {'V1': (243, 231, 155),\n",
    "                 'V2': (250, 196, 132),\n",
    "                 'V3': (248, 160, 126),\n",
    "                 'V3AB': (235, 127, 134),\n",
    "                 'LO': (150, 0, 90), \n",
    "                 'VO': (0, 0, 200),\n",
    "                 'hMT+': (0, 25, 255),\n",
    "                 'iIPS': (0, 152, 255),\n",
    "                 'sIPS': (44, 255, 150),\n",
    "                 'iPCS': (151, 255, 0),\n",
    "                 'sPCS': (255, 234, 0),\n",
    "                 'mPCS': (255, 111, 0)\n",
    "                }\n",
    "roi_colors = ['({},{},{})'.format(*rgb) for rgb in colormap_dict.values()]\n",
    "\n",
    "\n",
    "roi_colors_dict = {'V1': 'rgb(243, 231, 155)', \n",
    "                   'V2': 'rgb(250, 196, 132)', \n",
    "                   'V3': 'rgb(248, 160, 126)', \n",
    "                   'V3AB': 'rgb(235, 127, 134)', \n",
    "                   'LO': 'rgb(150, 0, 90)',  \n",
    "                   'VO': 'rgb(0, 0, 200)', \n",
    "                   'hMT+': 'rgb(0, 25, 255)', \n",
    "                   'iIPS': 'rgb(0, 152, 255)', \n",
    "                   'sIPS': 'rgb(44, 255, 150)', \n",
    "                   'iPCS': 'rgb(151, 255, 0)', \n",
    "                   'sPCS': 'rgb(255, 234, 0)', \n",
    "                   'mPCS': 'rgb(255, 111, 0)'}\n"
   ]
  },
  {
   "cell_type": "code",
   "execution_count": 4,
   "id": "7e49d2fe-e136-46b3-9c0a-f8bd8a0cc7ff",
   "metadata": {
    "tags": []
   },
   "outputs": [],
   "source": [
    "# Template settings\n",
    "template_specs = dict(axes_color=\"rgba(0, 0, 0, 1)\",\n",
    "                      axes_width=2,\n",
    "                      axes_font_size=15,\n",
    "                      bg_col=\"rgba(255, 255, 255, 1)\",\n",
    "                      font='Arial',\n",
    "                      title_font_size=15,\n",
    "                      plot_width=1.5)\n",
    "fig_template = plotly_template(template_specs)"
   ]
  },
  {
   "cell_type": "markdown",
   "id": "b33da51d-6773-4f15-a70f-c991da204b24",
   "metadata": {
    "jp-MarkdownHeadingCollapsed": true,
    "tags": []
   },
   "source": [
    "# Participants "
   ]
  },
  {
   "cell_type": "code",
   "execution_count": 28,
   "id": "dbf69d0d-4fe6-4b65-b708-6363edbccfca",
   "metadata": {
    "tags": []
   },
   "outputs": [],
   "source": [
    "participants_fn = '{}/{}/participants.tsv'.format(main_dir, project_dir)"
   ]
  },
  {
   "cell_type": "code",
   "execution_count": 29,
   "id": "c45bff94-a2b4-4455-ad3a-53a180a33b5e",
   "metadata": {
    "tags": []
   },
   "outputs": [],
   "source": [
    "participants = pd.read_table(participants_fn)"
   ]
  },
  {
   "cell_type": "code",
   "execution_count": 34,
   "id": "0912c4af-47de-47ef-aa40-38c30e667f04",
   "metadata": {
    "tags": []
   },
   "outputs": [
    {
     "name": "stdout",
     "output_type": "stream",
     "text": [
      "their is 10 female participant mean age is 29.2 age range is 19-54\n"
     ]
    }
   ],
   "source": [
    "age_mean = participants['age'].mean()\n",
    "age_min = participants['age'].min()\n",
    "age_max = participants['age'].max()\n",
    "n_female = participants.loc[participants['sex']=='F', 'sex'].count()\n",
    "print('their is {} female participant mean age is {} age range is {}-{}'.format(n_female, age_mean, age_min, age_max))"
   ]
  },
  {
   "cell_type": "markdown",
   "id": "7a569db8-e564-46f5-b900-5ed7faaae0f0",
   "metadata": {
    "tags": []
   },
   "source": [
    "# pRF settings "
   ]
  },
  {
   "cell_type": "code",
   "execution_count": 26,
   "id": "59a098d8-641d-4d72-9dc8-cfa4bb6bfe84",
   "metadata": {
    "tags": []
   },
   "outputs": [],
   "source": [
    "prf_events_fn = '{}/{}/sub-02/ses-01/func/sub-02_ses-01_task-pRF_run-01_events.tsv'.format(main_dir, project_dir)"
   ]
  },
  {
   "cell_type": "code",
   "execution_count": 27,
   "id": "2e56e30d-6462-41d7-a5c9-f7c7ee8a9726",
   "metadata": {
    "tags": []
   },
   "outputs": [],
   "source": [
    "prf_events = pd.read_table(prf_events_fn)"
   ]
  },
  {
   "cell_type": "code",
   "execution_count": 24,
   "id": "70195d83-a29b-4668-b3fe-32ad004520c3",
   "metadata": {
    "tags": []
   },
   "outputs": [],
   "source": [
    "blanke_time = prf_events.loc[(prf_events['bar_direction'] == 9) & (prf_events['bar_period'] == 1), 'duration'].sum()\n",
    "blanke_TR = prf_events.loc[(prf_events['bar_direction'] == 9) & (prf_events['bar_period'] == 1), 'duration'].count()\n"
   ]
  },
  {
   "cell_type": "code",
   "execution_count": 25,
   "id": "4f5a7b88-7c70-4d65-b62d-a61217fab60d",
   "metadata": {
    "tags": []
   },
   "outputs": [
    {
     "name": "stdout",
     "output_type": "stream",
     "text": [
      "without stimulus time is 19.21 (16 TRs)\n"
     ]
    }
   ],
   "source": [
    "print('without stimulus time is {} ({} TRs)'.format(blanke_time.round(2), blanke_TR))"
   ]
  }
 ],
 "metadata": {
  "kernelspec": {
   "display_name": "prf_env",
   "language": "python",
   "name": "prf_env"
  },
  "language_info": {
   "codemirror_mode": {
    "name": "ipython",
    "version": 3
   },
   "file_extension": ".py",
   "mimetype": "text/x-python",
   "name": "python",
   "nbconvert_exporter": "python",
   "pygments_lexer": "ipython3",
   "version": "3.11.7"
  }
 },
 "nbformat": 4,
 "nbformat_minor": 5
}
