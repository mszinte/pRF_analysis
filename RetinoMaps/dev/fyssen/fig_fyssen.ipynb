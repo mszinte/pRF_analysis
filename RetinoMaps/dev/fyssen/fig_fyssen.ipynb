{
 "cells": [
  {
   "cell_type": "code",
   "execution_count": 1,
   "id": "1c0dc784-610e-4527-988f-50828b18ca48",
   "metadata": {
    "tags": []
   },
   "outputs": [],
   "source": [
    "# Stop warnings\n",
    "import warnings\n",
    "warnings.filterwarnings(\"ignore\")\n",
    "\n",
    "# Imports\n",
    "\n",
    "import os\n",
    "import sys\n",
    "import time\n",
    "import json\n",
    "import copy\n",
    "import cortex\n",
    "import numpy as np\n",
    "import pandas as pd\n",
    "from scipy import stats\n",
    "import matplotlib.pyplot as plt\n",
    "\n",
    "\n",
    "import plotly.express as px\n",
    "import plotly.graph_objects as go\n",
    "from plotly.subplots import make_subplots\n",
    "\n",
    "\n",
    "sys.path.append(\"{}/../../analysis_code/utils\".format(os.getcwd()))\n",
    "from plot_utils import *\n",
    "from pycortex_utils import draw_cortex, set_pycortex_config_file, load_surface_pycortex, create_colormap, get_rois\n",
    "from surface_utils import load_surface\n",
    "from maths_utils import weighted_regression\n"
   ]
  },
  {
   "cell_type": "code",
   "execution_count": 2,
   "id": "cb988684-cf4c-4ba5-9f6f-0a472caa2c59",
   "metadata": {
    "tags": []
   },
   "outputs": [],
   "source": [
    "# Import data base\n",
    "main_dir = '/Users/uriel/disks/meso_shared'\n",
    "# main_dir = '/home/ulascombes/disks/meso_shared'\n",
    "\n",
    "project_dir = 'RetinoMaps'\n",
    "suffix = 'Sac_Pur'\n",
    "\n",
    "with open('../settings.json') as f:\n",
    "    json_s = f.read()\n",
    "    analysis_info = json.loads(json_s)\n",
    "rois = analysis_info['rois']\n",
    "subjects = analysis_info['subjects']\n",
    "TR = analysis_info['TR']\n",
    "rois = analysis_info['rois']\n",
    "ecc_threshold = analysis_info['ecc_th']\n",
    "size_threshold = analysis_info['size_th']\n",
    "rsqr_threshold = analysis_info['rsqr_th']\n",
    "amplitude_threshold = analysis_info['amplitude_th']\n",
    "stats_threshold = analysis_info['stats_th']\n",
    "n_threshold = analysis_info['n_th']\n",
    "prf_task_name = analysis_info['prf_task_name']\n",
    "format_ = 'fsnative'"
   ]
  },
  {
   "cell_type": "code",
   "execution_count": 3,
   "id": "4aa85d43-9b4c-40f6-8e8d-d76b726d332b",
   "metadata": {
    "tags": []
   },
   "outputs": [],
   "source": [
    "# Plot settings\n",
    "colormap_dict = {'V1': (243, 231, 155),\n",
    "                 'V2': (250, 196, 132),\n",
    "                 'V3': (248, 160, 126),\n",
    "                 'V3AB': (235, 127, 134),\n",
    "                 'LO': (150, 0, 90), \n",
    "                 'VO': (0, 0, 200),\n",
    "                 'hMT+': (0, 25, 255),\n",
    "                 'iIPS': (0, 152, 255),\n",
    "                 'sIPS': (44, 255, 150),\n",
    "                 'iPCS': (151, 255, 0),\n",
    "                 'sPCS': (255, 234, 0),\n",
    "                 'mPCS': (255, 111, 0)\n",
    "                }\n",
    "roi_colors = ['({},{},{})'.format(*rgb) for rgb in colormap_dict.values()]\n",
    "\n",
    "\n",
    "roi_colors_dict = {'V1': 'rgb(243, 231, 155)', \n",
    "                   'V2': 'rgb(250, 196, 132)', \n",
    "                   'V3': 'rgb(248, 160, 126)', \n",
    "                   'V3AB': 'rgb(235, 127, 134)', \n",
    "                   'LO': 'rgb(150, 0, 90)',  \n",
    "                   'VO': 'rgb(0, 0, 200)', \n",
    "                   'hMT+': 'rgb(0, 25, 255)', \n",
    "                   'iIPS': 'rgb(0, 152, 255)', \n",
    "                   'sIPS': 'rgb(44, 255, 150)', \n",
    "                   'iPCS': 'rgb(151, 255, 0)', \n",
    "                   'sPCS': 'rgb(255, 234, 0)', \n",
    "                   'mPCS': 'rgb(255, 111, 0)'}\n"
   ]
  },
  {
   "cell_type": "code",
   "execution_count": 4,
   "id": "c722e9fe-14a1-420a-8a34-c1e1bef0b2b0",
   "metadata": {
    "tags": []
   },
   "outputs": [],
   "source": [
    "# Template settings\n",
    "template_specs = dict(axes_color=\"rgba(0, 0, 0, 1)\",\n",
    "                      axes_width=2,\n",
    "                      axes_font_size=15,\n",
    "                      bg_col=\"rgba(255, 255, 255, 1)\",\n",
    "                      font='Arial',\n",
    "                      title_font_size=15,\n",
    "                      plot_width=1.5)\n",
    "fig_template = plotly_template(template_specs)"
   ]
  },
  {
   "cell_type": "markdown",
   "id": "d037c272-8197-44b8-9e60-189f9fb941d9",
   "metadata": {
    "tags": []
   },
   "source": [
    "# Bar plot "
   ]
  },
  {
   "cell_type": "markdown",
   "id": "e769edec-ac69-492d-85db-621d15a1183c",
   "metadata": {
    "tags": []
   },
   "source": [
    "## make Df "
   ]
  },
  {
   "cell_type": "code",
   "execution_count": 20,
   "id": "9bd7a927-7d5d-4978-9898-cd7884e5fd8d",
   "metadata": {
    "tags": []
   },
   "outputs": [],
   "source": [
    "# make all subject categorie proportions  df\n",
    "rois_area_categorie_df = pd.DataFrame()\n",
    "for subject in subjects :\n",
    "    intertask_tsv_dir ='{}/{}/derivatives/pp_data/{}/{}/intertask/tsv'.format(\n",
    "    main_dir, project_dir, subject, format_)\n",
    "    data = pd.read_table('{}/{}_intertask-all_derivatives_{}.tsv'.format(intertask_tsv_dir, subject, suffix))\n",
    "    subject_rois_area_categorie_df = pd.DataFrame()\n",
    "    for roi in rois : \n",
    "        # Compute categorie proportions \n",
    "        roi_area = data.loc[data['roi'] == roi].shape[0]\n",
    "        roi_area_saccade = data.loc[(data['roi'] == roi) & (data['saccade'] == 'saccade')].shape[0]\n",
    "        roi_area_pursuit = data.loc[(data['roi'] == roi) & (data['pursuit'] == 'pursuit')].shape[0]\n",
    "        roi_area_vision = data.loc[(data['roi'] == roi) & (data['vision'] == 'vision')].shape[0]\n",
    "        roi_area_vision_and_pursuit_and_saccade = data.loc[(data['roi'] == roi) & (data['saccade'] == 'saccade') & (data['pursuit'] == 'pursuit') & (data['vision'] == 'vision'), 'vert_area'].shape[0]\n",
    "\n",
    "        percent_saccade = ((roi_area_saccade * 100)/roi_area)\n",
    "        percent_pursuit = ((roi_area_pursuit * 100)/roi_area)\n",
    "        percent_vision = ((roi_area_vision * 100)/roi_area)\n",
    "        percent_vision_and_pursuit_and_saccade = ((roi_area_vision_and_pursuit_and_saccade * 100)/roi_area)\n",
    "\n",
    "        roi_area_categorie_df = pd.DataFrame({\n",
    "                'subject':[subject],\n",
    "                'roi': [roi],\n",
    "                'saccade': [percent_saccade],\n",
    "                'pursuit': [percent_pursuit],\n",
    "                'vision': [percent_vision],\n",
    "                'all': [percent_vision_and_pursuit_and_saccade]})\n",
    "\n",
    "\n",
    "        subject_rois_area_categorie_df = pd.concat([subject_rois_area_categorie_df, roi_area_categorie_df], ignore_index=True)\n",
    "    \n",
    "    rois_area_categorie_df = pd.concat([rois_area_categorie_df, subject_rois_area_categorie_df], ignore_index=True)\n",
    "\n",
    "\n"
   ]
  },
  {
   "cell_type": "code",
   "execution_count": 21,
   "id": "f3caf185-dc98-4875-a262-46449719fdbb",
   "metadata": {
    "tags": []
   },
   "outputs": [],
   "source": [
    "# make group df \n",
    "median_df = rois_area_categorie_df.groupby(['roi'], sort=False).median(numeric_only=True).reset_index()\n",
    "ci_low_df = rois_area_categorie_df.groupby(['roi'], sort=False).quantile(0.025, numeric_only=True).reset_index()\n",
    "ci_high_df = rois_area_categorie_df.groupby(['roi'], sort=False).quantile(0.975, numeric_only=True).reset_index()\n",
    "\n",
    "median_df = median_df.melt(id_vars=['roi'], \n",
    "                          value_vars=['saccade', 'pursuit', 'vision', 'all'],\n",
    "                          var_name='categorie', \n",
    "                          value_name='median')\n",
    "\n",
    "ci_low_df = ci_low_df.melt(id_vars=['roi'], \n",
    "                          value_vars=['saccade', 'pursuit', 'vision', 'all'],\n",
    "                          var_name='categorie', \n",
    "                          value_name='ci_low')\n",
    "\n",
    "ci_high_df = ci_high_df.melt(id_vars=['roi'], \n",
    "                          value_vars=['saccade', 'pursuit', 'vision', 'all'],\n",
    "                          var_name='categorie', \n",
    "                          value_name='ci_high')\n",
    "\n",
    "\n",
    "group_rois_area_categorie_df = pd.concat([median_df, ci_low_df.drop(columns=['roi', 'categorie']), ci_high_df.drop(columns=['roi', 'categorie'])], axis=1).reset_index(drop=True)\n"
   ]
  },
  {
   "cell_type": "markdown",
   "id": "b58a24b0-490a-43ee-9112-1af310f27a17",
   "metadata": {
    "tags": []
   },
   "source": [
    "## make plot"
   ]
  },
  {
   "cell_type": "code",
   "execution_count": 22,
   "id": "2258802d-a031-4b72-b3b2-1cf65346750d",
   "metadata": {
    "tags": []
   },
   "outputs": [
    {
     "data": {
      "application/vnd.plotly.v1+json": {
       "config": {
        "plotlyServerURL": "https://plot.ly"
       },
       "data": [
        {
         "error_y": {
          "array": [
           17.718591677925545,
           17.873322365079176,
           16.37395934039175,
           27.262459157160848
          ],
          "arrayminus": [
           25.019527869535516,
           27.35689777062546,
           39.48068098177283,
           21.357218311363834
          ],
          "color": "black",
          "thickness": 3,
          "type": "data",
          "visible": true,
          "width": 0
         },
         "marker": {
          "color": "rgb(151, 255, 0)"
         },
         "name": "iPCS",
         "showlegend": true,
         "type": "bar",
         "x": [
          "saccade",
          "pursuit",
          "vision",
          "all"
         ],
         "y": [
          71.83167723599325,
          63.058672406977706,
          80.50080973580674,
          38.42336952866782
         ]
        },
        {
         "error_y": {
          "array": [
           16.955266447187824,
           14.673132080238602,
           11.108845611865547,
           26.25629361991146
          ],
          "arrayminus": [
           26.528190293979534,
           20.48047877776861,
           26.89021926531283,
           15.386604511826253
          ],
          "color": "black",
          "thickness": 3,
          "type": "data",
          "visible": true,
          "width": 0
         },
         "marker": {
          "color": "rgb(255, 234, 0)"
         },
         "name": "sPCS",
         "showlegend": true,
         "type": "bar",
         "x": [
          "saccade",
          "pursuit",
          "vision",
          "all"
         ],
         "y": [
          75.82593530378344,
          70.95626529328811,
          82.9618090735112,
          46.60172345230242
         ]
        },
        {
         "error_y": {
          "array": [
           14.897405518068283,
           27.248699297496188,
           16.298880746003448,
           21.616434698970927
          ],
          "arrayminus": [
           34.062933971583746,
           26.509328279576447,
           24.953346515135344,
           20.993450686776747
          ],
          "color": "black",
          "thickness": 3,
          "type": "data",
          "visible": true,
          "width": 0
         },
         "marker": {
          "color": "rgb(255, 111, 0)"
         },
         "name": "mPCS",
         "showlegend": true,
         "type": "bar",
         "x": [
          "saccade",
          "pursuit",
          "vision",
          "all"
         ],
         "y": [
          67.48318420022144,
          56.10722111521763,
          72.23692468644265,
          32.55095104960205
         ]
        }
       ],
       "layout": {
        "barmode": "group",
        "height": 400,
        "template": {
         "data": {
          "barpolar": [
           {
            "marker": {
             "line": {
              "color": "rgba(0, 0, 0, 1)",
              "width": 1.5
             }
            },
            "showlegend": false,
            "type": "barpolar"
           }
          ],
          "pie": [
           {
            "direction": "clockwise",
            "hole": 0.4,
            "marker": {
             "line": {
              "width": 0
             }
            },
            "rotation": 0,
            "sort": false,
            "textposition": [
             "inside",
             "none"
            ],
            "type": "pie"
           }
          ],
          "violin": [
           {
            "box": {
             "visible": false
            },
            "hoveron": "violins",
            "line": {
             "color": "rgba(0, 0, 0, 1)",
             "width": 1.5
            },
            "meanline": {
             "visible": false
            },
            "points": false,
            "showlegend": false,
            "type": "violin",
            "width": 0.8
           }
          ]
         },
         "layout": {
          "annotationdefaults": {
           "font": {
            "color": "rgba(0, 0, 0, 1)",
            "family": "Arial",
            "size": 15
           }
          },
          "font": {
           "family": "Arial",
           "size": 15
          },
          "plot_bgcolor": "rgba(255, 255, 255, 1)",
          "polar": {
           "angularaxis": {
            "showticklabels": false,
            "ticks": "",
            "visible": false
           },
           "radialaxis": {
            "showticklabels": false,
            "ticks": "",
            "visible": false
           }
          },
          "xaxis": {
           "color": "rgba(0, 0, 0, 1)",
           "hoverformat": ".1f",
           "linewidth": 2,
           "showgrid": false,
           "tickfont": {
            "family": "Arial",
            "size": 15
           },
           "ticklen": 8,
           "ticks": "outside",
           "tickwidth": 2,
           "title": {
            "font": {
             "family": "Arial",
             "size": 15
            }
           },
           "visible": true,
           "zeroline": false,
           "zerolinecolor": "rgba(0, 0, 0, 1)",
           "zerolinewidth": 2
          },
          "yaxis": {
           "color": "rgba(0, 0, 0, 1)",
           "hoverformat": ".1f",
           "linewidth": 2,
           "showgrid": false,
           "tickfont": {
            "family": "Arial",
            "size": 15
           },
           "ticklen": 8,
           "ticks": "outside",
           "tickwidth": 2,
           "title": {
            "font": {
             "family": "Arial",
             "size": 15
            }
           },
           "visible": true,
           "zeroline": false,
           "zerolinecolor": "rgba(0, 0, 0, 1)",
           "zerolinewidth": 2
          }
         }
        },
        "width": 800,
        "xaxis": {
         "autorange": true,
         "range": [
          -0.5,
          3.5
         ],
         "showline": true,
         "type": "category"
        },
        "yaxis": {
         "range": [
          0,
          100
         ],
         "showline": true,
         "title": {
          "text": "Surface percentage (%)"
         },
         "type": "linear"
        }
       }
      },
      "image/png": "[encoded data removed]",
      "text/html": [
       "<div>                            <div id=\"79586d66-a726-473b-9911-e930a1f78fce\" class=\"plotly-graph-div\" style=\"height:400px; width:800px;\"></div>            <script type=\"text/javascript\">                require([\"plotly\"], function(Plotly) {                    window.PLOTLYENV=window.PLOTLYENV || {};                                    if (document.getElementById(\"79586d66-a726-473b-9911-e930a1f78fce\")) {                    Plotly.newPlot(                        \"79586d66-a726-473b-9911-e930a1f78fce\",                        [{\"error_y\":{\"array\":[17.718591677925545,17.873322365079176,16.37395934039175,27.262459157160848],\"arrayminus\":[25.019527869535516,27.35689777062546,39.48068098177283,21.357218311363834],\"color\":\"black\",\"thickness\":3,\"type\":\"data\",\"visible\":true,\"width\":0},\"marker\":{\"color\":\"rgb(151, 255, 0)\"},\"name\":\"iPCS\",\"showlegend\":true,\"x\":[\"saccade\",\"pursuit\",\"vision\",\"all\"],\"y\":[71.83167723599325,63.058672406977706,80.50080973580674,38.42336952866782],\"type\":\"bar\"},{\"error_y\":{\"array\":[16.955266447187824,14.673132080238602,11.108845611865547,26.25629361991146],\"arrayminus\":[26.528190293979534,20.48047877776861,26.89021926531283,15.386604511826253],\"color\":\"black\",\"thickness\":3,\"type\":\"data\",\"visible\":true,\"width\":0},\"marker\":{\"color\":\"rgb(255, 234, 0)\"},\"name\":\"sPCS\",\"showlegend\":true,\"x\":[\"saccade\",\"pursuit\",\"vision\",\"all\"],\"y\":[75.82593530378344,70.95626529328811,82.9618090735112,46.60172345230242],\"type\":\"bar\"},{\"error_y\":{\"array\":[14.897405518068283,27.248699297496188,16.298880746003448,21.616434698970927],\"arrayminus\":[34.062933971583746,26.509328279576447,24.953346515135344,20.993450686776747],\"color\":\"black\",\"thickness\":3,\"type\":\"data\",\"visible\":true,\"width\":0},\"marker\":{\"color\":\"rgb(255, 111, 0)\"},\"name\":\"mPCS\",\"showlegend\":true,\"x\":[\"saccade\",\"pursuit\",\"vision\",\"all\"],\"y\":[67.48318420022144,56.10722111521763,72.23692468644265,32.55095104960205],\"type\":\"bar\"}],                        {\"template\":{\"data\":{\"barpolar\":[{\"marker\":{\"line\":{\"color\":\"rgba(0,0,0,1)\",\"width\":1.5}},\"showlegend\":false,\"type\":\"barpolar\"}],\"pie\":[{\"direction\":\"clockwise\",\"hole\":0.4,\"marker\":{\"line\":{\"width\":0}},\"rotation\":0,\"sort\":false,\"textposition\":[\"inside\",\"none\"],\"type\":\"pie\"}],\"violin\":[{\"box\":{\"visible\":false},\"hoveron\":\"violins\",\"line\":{\"color\":\"rgba(0, 0, 0, 1)\",\"width\":1.5},\"meanline\":{\"visible\":false},\"points\":false,\"showlegend\":false,\"width\":0.8,\"type\":\"violin\"}]},\"layout\":{\"annotationdefaults\":{\"font\":{\"color\":\"rgba(0, 0, 0, 1)\",\"family\":\"Arial\",\"size\":15}},\"font\":{\"family\":\"Arial\",\"size\":15},\"plot_bgcolor\":\"rgba(255, 255, 255, 1)\",\"polar\":{\"angularaxis\":{\"showticklabels\":false,\"ticks\":\"\",\"visible\":false},\"radialaxis\":{\"showticklabels\":false,\"ticks\":\"\",\"visible\":false}},\"xaxis\":{\"color\":\"rgba(0, 0, 0, 1)\",\"hoverformat\":\".1f\",\"linewidth\":2,\"showgrid\":false,\"tickfont\":{\"family\":\"Arial\",\"size\":15},\"ticklen\":8,\"ticks\":\"outside\",\"tickwidth\":2,\"title\":{\"font\":{\"family\":\"Arial\",\"size\":15}},\"visible\":true,\"zeroline\":false,\"zerolinecolor\":\"rgba(0, 0, 0, 1)\",\"zerolinewidth\":2},\"yaxis\":{\"color\":\"rgba(0, 0, 0, 1)\",\"hoverformat\":\".1f\",\"linewidth\":2,\"showgrid\":false,\"tickfont\":{\"family\":\"Arial\",\"size\":15},\"ticklen\":8,\"ticks\":\"outside\",\"tickwidth\":2,\"title\":{\"font\":{\"family\":\"Arial\",\"size\":15}},\"visible\":true,\"zeroline\":false,\"zerolinecolor\":\"rgba(0, 0, 0, 1)\",\"zerolinewidth\":2}}},\"xaxis\":{\"showline\":true},\"yaxis\":{\"title\":{\"text\":\"Surface percentage (%)\"},\"range\":[0,100],\"showline\":true},\"barmode\":\"group\",\"height\":400,\"width\":800},                        {\"responsive\": true}                    ).then(function(){\n",
       "                            \n",
       "var gd = document.getElementById('79586d66-a726-473b-9911-e930a1f78fce');\n",
       "var x = new MutationObserver(function (mutations, observer) {{\n",
       "        var display = window.getComputedStyle(gd).display;\n",
       "        if (!display || display === 'none') {{\n",
       "            console.log([gd, 'removed!']);\n",
       "            Plotly.purge(gd);\n",
       "            observer.disconnect();\n",
       "        }}\n",
       "}});\n",
       "\n",
       "// Listen for the removal of the full notebook cells\n",
       "var notebookContainer = gd.closest('#notebook-container');\n",
       "if (notebookContainer) {{\n",
       "    x.observe(notebookContainer, {childList: true});\n",
       "}}\n",
       "\n",
       "// Listen for the clearing of the current output cell\n",
       "var outputEl = gd.closest('.output');\n",
       "if (outputEl) {{\n",
       "    x.observe(outputEl, {childList: true});\n",
       "}}\n",
       "\n",
       "                        })                };                });            </script>        </div>"
      ]
     },
     "metadata": {},
     "output_type": "display_data"
    }
   ],
   "source": [
    "sub_rois =  ['iPCS', 'sPCS', 'mPCS']\n",
    "fig = go.Figure()\n",
    "for i, roi in enumerate(sub_rois):\n",
    "    df_roi = group_rois_area_categorie_df.loc[group_rois_area_categorie_df['roi']==roi]\n",
    "    fig.add_trace(go.Bar(\n",
    "        x=df_roi['categorie'],\n",
    "        y=df_roi['median'],\n",
    "        name=roi,  \n",
    "        marker=dict(color=roi_colors_dict[roi]), \n",
    "        error_y=dict(\n",
    "            type='data',\n",
    "            array=df_roi['ci_high'] - df_roi['median'], \n",
    "            arrayminus=df_roi['median'] - df_roi['ci_low'],  \n",
    "            visible=True,\n",
    "            thickness=3,\n",
    "            width=0,\n",
    "            color='black'\n",
    "        ),\n",
    "        showlegend=True\n",
    "    ))\n",
    "    \n",
    "fig.update_xaxes(showline=True)\n",
    "fig.update_yaxes(title='Surface percentage (%)', range=[0,100], showline=True)\n",
    "fig.update_layout(template=fig_template, \n",
    "                  barmode='group', \n",
    "                  height=400, \n",
    "                  width=800)\n",
    "\n",
    "fig.show()\n",
    "fig.write_image(\"/Users/uriel/Downloads/Surface_percentage_4.pdf\".format(subject))"
   ]
  },
  {
   "cell_type": "code",
   "execution_count": 23,
   "id": "11d1e91e-5c16-4086-89e6-149605dc8227",
   "metadata": {
    "tags": []
   },
   "outputs": [
    {
     "data": {
      "application/vnd.plotly.v1+json": {
       "config": {
        "plotlyServerURL": "https://plot.ly"
       },
       "data": [
        {
         "error_y": {
          "array": [
           10.958750560279398,
           13.25664553742321,
           6.4873653741776,
           25.126681969830983
          ],
          "arrayminus": [
           17.614518656971185,
           25.61376296933635,
           25.315030617501904,
           22.777563204431473
          ],
          "color": "black",
          "thickness": 3,
          "type": "data",
          "visible": true,
          "width": 0
         },
         "marker": {
          "color": "rgb(0, 152, 255)"
         },
         "name": "iIPS",
         "showlegend": true,
         "type": "bar",
         "x": [
          "saccade",
          "pursuit",
          "vision",
          "all"
         ],
         "y": [
          83.73489458419633,
          77.186173357575,
          91.4578752522252,
          57.901448054655134
         ]
        },
        {
         "error_y": {
          "array": [
           14.553558689339198,
           14.953726608655941,
           9.288934587203357,
           26.056589106464223
          ],
          "arrayminus": [
           14.013289843298395,
           22.065078005072124,
           28.277344487495455,
           20.138016664465113
          ],
          "color": "black",
          "thickness": 3,
          "type": "data",
          "visible": true,
          "width": 0
         },
         "marker": {
          "color": "rgb(44, 255, 150)"
         },
         "name": "sIPS",
         "showlegend": true,
         "type": "bar",
         "x": [
          "saccade",
          "pursuit",
          "vision",
          "all"
         ],
         "y": [
          80.94029150930021,
          76.78809176520186,
          88.14751235420324,
          57.738823978540545
         ]
        }
       ],
       "layout": {
        "barmode": "group",
        "height": 400,
        "template": {
         "data": {
          "barpolar": [
           {
            "marker": {
             "line": {
              "color": "rgba(0, 0, 0, 1)",
              "width": 1.5
             }
            },
            "showlegend": false,
            "type": "barpolar"
           }
          ],
          "pie": [
           {
            "direction": "clockwise",
            "hole": 0.4,
            "marker": {
             "line": {
              "width": 0
             }
            },
            "rotation": 0,
            "sort": false,
            "textposition": [
             "inside",
             "none"
            ],
            "type": "pie"
           }
          ],
          "violin": [
           {
            "box": {
             "visible": false
            },
            "hoveron": "violins",
            "line": {
             "color": "rgba(0, 0, 0, 1)",
             "width": 1.5
            },
            "meanline": {
             "visible": false
            },
            "points": false,
            "showlegend": false,
            "type": "violin",
            "width": 0.8
           }
          ]
         },
         "layout": {
          "annotationdefaults": {
           "font": {
            "color": "rgba(0, 0, 0, 1)",
            "family": "Arial",
            "size": 15
           }
          },
          "font": {
           "family": "Arial",
           "size": 15
          },
          "plot_bgcolor": "rgba(255, 255, 255, 1)",
          "polar": {
           "angularaxis": {
            "showticklabels": false,
            "ticks": "",
            "visible": false
           },
           "radialaxis": {
            "showticklabels": false,
            "ticks": "",
            "visible": false
           }
          },
          "xaxis": {
           "color": "rgba(0, 0, 0, 1)",
           "hoverformat": ".1f",
           "linewidth": 2,
           "showgrid": false,
           "tickfont": {
            "family": "Arial",
            "size": 15
           },
           "ticklen": 8,
           "ticks": "outside",
           "tickwidth": 2,
           "title": {
            "font": {
             "family": "Arial",
             "size": 15
            }
           },
           "visible": true,
           "zeroline": false,
           "zerolinecolor": "rgba(0, 0, 0, 1)",
           "zerolinewidth": 2
          },
          "yaxis": {
           "color": "rgba(0, 0, 0, 1)",
           "hoverformat": ".1f",
           "linewidth": 2,
           "showgrid": false,
           "tickfont": {
            "family": "Arial",
            "size": 15
           },
           "ticklen": 8,
           "ticks": "outside",
           "tickwidth": 2,
           "title": {
            "font": {
             "family": "Arial",
             "size": 15
            }
           },
           "visible": true,
           "zeroline": false,
           "zerolinecolor": "rgba(0, 0, 0, 1)",
           "zerolinewidth": 2
          }
         }
        },
        "width": 800,
        "xaxis": {
         "autorange": true,
         "range": [
          -0.5,
          3.5
         ],
         "showline": true,
         "type": "category"
        },
        "yaxis": {
         "range": [
          0,
          100
         ],
         "showline": true,
         "title": {
          "text": "Surface percentage (%)"
         },
         "type": "linear"
        }
       }
      },
      "image/png": "[encoded data removed]",
      "text/html": [
       "<div>                            <div id=\"c2733b3a-5ac1-4718-8556-60fe77ea12a5\" class=\"plotly-graph-div\" style=\"height:400px; width:800px;\"></div>            <script type=\"text/javascript\">                require([\"plotly\"], function(Plotly) {                    window.PLOTLYENV=window.PLOTLYENV || {};                                    if (document.getElementById(\"c2733b3a-5ac1-4718-8556-60fe77ea12a5\")) {                    Plotly.newPlot(                        \"c2733b3a-5ac1-4718-8556-60fe77ea12a5\",                        [{\"error_y\":{\"array\":[10.958750560279398,13.25664553742321,6.4873653741776,25.126681969830983],\"arrayminus\":[17.614518656971185,25.61376296933635,25.315030617501904,22.777563204431473],\"color\":\"black\",\"thickness\":3,\"type\":\"data\",\"visible\":true,\"width\":0},\"marker\":{\"color\":\"rgb(0, 152, 255)\"},\"name\":\"iIPS\",\"showlegend\":true,\"x\":[\"saccade\",\"pursuit\",\"vision\",\"all\"],\"y\":[83.73489458419633,77.186173357575,91.4578752522252,57.901448054655134],\"type\":\"bar\"},{\"error_y\":{\"array\":[14.553558689339198,14.953726608655941,9.288934587203357,26.056589106464223],\"arrayminus\":[14.013289843298395,22.065078005072124,28.277344487495455,20.138016664465113],\"color\":\"black\",\"thickness\":3,\"type\":\"data\",\"visible\":true,\"width\":0},\"marker\":{\"color\":\"rgb(44, 255, 150)\"},\"name\":\"sIPS\",\"showlegend\":true,\"x\":[\"saccade\",\"pursuit\",\"vision\",\"all\"],\"y\":[80.94029150930021,76.78809176520186,88.14751235420324,57.738823978540545],\"type\":\"bar\"}],                        {\"template\":{\"data\":{\"barpolar\":[{\"marker\":{\"line\":{\"color\":\"rgba(0,0,0,1)\",\"width\":1.5}},\"showlegend\":false,\"type\":\"barpolar\"}],\"pie\":[{\"direction\":\"clockwise\",\"hole\":0.4,\"marker\":{\"line\":{\"width\":0}},\"rotation\":0,\"sort\":false,\"textposition\":[\"inside\",\"none\"],\"type\":\"pie\"}],\"violin\":[{\"box\":{\"visible\":false},\"hoveron\":\"violins\",\"line\":{\"color\":\"rgba(0, 0, 0, 1)\",\"width\":1.5},\"meanline\":{\"visible\":false},\"points\":false,\"showlegend\":false,\"width\":0.8,\"type\":\"violin\"}]},\"layout\":{\"annotationdefaults\":{\"font\":{\"color\":\"rgba(0, 0, 0, 1)\",\"family\":\"Arial\",\"size\":15}},\"font\":{\"family\":\"Arial\",\"size\":15},\"plot_bgcolor\":\"rgba(255, 255, 255, 1)\",\"polar\":{\"angularaxis\":{\"showticklabels\":false,\"ticks\":\"\",\"visible\":false},\"radialaxis\":{\"showticklabels\":false,\"ticks\":\"\",\"visible\":false}},\"xaxis\":{\"color\":\"rgba(0, 0, 0, 1)\",\"hoverformat\":\".1f\",\"linewidth\":2,\"showgrid\":false,\"tickfont\":{\"family\":\"Arial\",\"size\":15},\"ticklen\":8,\"ticks\":\"outside\",\"tickwidth\":2,\"title\":{\"font\":{\"family\":\"Arial\",\"size\":15}},\"visible\":true,\"zeroline\":false,\"zerolinecolor\":\"rgba(0, 0, 0, 1)\",\"zerolinewidth\":2},\"yaxis\":{\"color\":\"rgba(0, 0, 0, 1)\",\"hoverformat\":\".1f\",\"linewidth\":2,\"showgrid\":false,\"tickfont\":{\"family\":\"Arial\",\"size\":15},\"ticklen\":8,\"ticks\":\"outside\",\"tickwidth\":2,\"title\":{\"font\":{\"family\":\"Arial\",\"size\":15}},\"visible\":true,\"zeroline\":false,\"zerolinecolor\":\"rgba(0, 0, 0, 1)\",\"zerolinewidth\":2}}},\"xaxis\":{\"showline\":true},\"yaxis\":{\"title\":{\"text\":\"Surface percentage (%)\"},\"range\":[0,100],\"showline\":true},\"barmode\":\"group\",\"height\":400,\"width\":800},                        {\"responsive\": true}                    ).then(function(){\n",
       "                            \n",
       "var gd = document.getElementById('c2733b3a-5ac1-4718-8556-60fe77ea12a5');\n",
       "var x = new MutationObserver(function (mutations, observer) {{\n",
       "        var display = window.getComputedStyle(gd).display;\n",
       "        if (!display || display === 'none') {{\n",
       "            console.log([gd, 'removed!']);\n",
       "            Plotly.purge(gd);\n",
       "            observer.disconnect();\n",
       "        }}\n",
       "}});\n",
       "\n",
       "// Listen for the removal of the full notebook cells\n",
       "var notebookContainer = gd.closest('#notebook-container');\n",
       "if (notebookContainer) {{\n",
       "    x.observe(notebookContainer, {childList: true});\n",
       "}}\n",
       "\n",
       "// Listen for the clearing of the current output cell\n",
       "var outputEl = gd.closest('.output');\n",
       "if (outputEl) {{\n",
       "    x.observe(outputEl, {childList: true});\n",
       "}}\n",
       "\n",
       "                        })                };                });            </script>        </div>"
      ]
     },
     "metadata": {},
     "output_type": "display_data"
    }
   ],
   "source": [
    "sub_rois =  ['iIPS', 'sIPS']\n",
    "fig = go.Figure()\n",
    "for i, roi in enumerate(sub_rois):\n",
    "    df_roi = group_rois_area_categorie_df.loc[group_rois_area_categorie_df['roi']==roi]\n",
    "    fig.add_trace(go.Bar(\n",
    "        x=df_roi['categorie'],\n",
    "        y=df_roi['median'],\n",
    "        name=roi,  \n",
    "        marker=dict(color=roi_colors_dict[roi]), \n",
    "        error_y=dict(\n",
    "            type='data',\n",
    "            array=df_roi['ci_high'] - df_roi['median'], \n",
    "            arrayminus=df_roi['median'] - df_roi['ci_low'],  \n",
    "            visible=True,\n",
    "            thickness=3,\n",
    "            width=0,\n",
    "            color='black'\n",
    "        ),\n",
    "        showlegend=True\n",
    "    ))\n",
    "    \n",
    "fig.update_xaxes(showline=True)\n",
    "fig.update_yaxes(title='Surface percentage (%)', range=[0,100], showline=True)\n",
    "fig.update_layout(template=fig_template, \n",
    "                  barmode='group',\n",
    "                  height=400, \n",
    "                  width=800)\n",
    "\n",
    "fig.show()\n",
    "fig.write_image(\"/Users/uriel/Downloads/Surface_percentage_3.pdf\".format(subject))"
   ]
  },
  {
   "cell_type": "code",
   "execution_count": 24,
   "id": "8c7a1c13-9eb9-4316-9fc4-a57618bde2d6",
   "metadata": {
    "tags": []
   },
   "outputs": [
    {
     "data": {
      "application/vnd.plotly.v1+json": {
       "config": {
        "plotlyServerURL": "https://plot.ly"
       },
       "data": [
        {
         "error_y": {
          "array": [
           6.914107832742118,
           17.656502344869352,
           2.858865125609867,
           20.195171559681675
          ],
          "arrayminus": [
           23.453642859956403,
           16.85928225914668,
           3.9668807351066846,
           21.711124129485242
          ],
          "color": "black",
          "thickness": 3,
          "type": "data",
          "visible": true,
          "width": 0
         },
         "marker": {
          "color": "rgb(243, 231, 155)"
         },
         "name": "V1",
         "showlegend": true,
         "type": "bar",
         "x": [
          "saccade",
          "pursuit",
          "vision",
          "all"
         ],
         "y": [
          87.49315195401428,
          70.81361881497509,
          96.77508268864665,
          62.00989197456946
         ]
        },
        {
         "error_y": {
          "array": [
           8.916016302318013,
           15.028114075164225,
           2.284788288563817,
           18.908366657390673
          ],
          "arrayminus": [
           25.989341637882482,
           23.626782683593206,
           6.707595965488238,
           26.639603472452606
          ],
          "color": "black",
          "thickness": 3,
          "type": "data",
          "visible": true,
          "width": 0
         },
         "marker": {
          "color": "rgb(250, 196, 132)"
         },
         "name": "V2",
         "showlegend": true,
         "type": "bar",
         "x": [
          "saccade",
          "pursuit",
          "vision",
          "all"
         ],
         "y": [
          87.2052395005235,
          78.38200930804754,
          96.61303100826484,
          69.05634772478885
         ]
        },
        {
         "error_y": {
          "array": [
           12.404975137594292,
           19.575633747549546,
           2.6693013122958007,
           22.71889515418262
          ],
          "arrayminus": [
           30.3377061449605,
           23.884312834635352,
           7.934638132013902,
           26.65572858855819
          ],
          "color": "black",
          "thickness": 3,
          "type": "data",
          "visible": true,
          "width": 0
         },
         "marker": {
          "color": "rgb(248, 160, 126)"
         },
         "name": "V3",
         "showlegend": true,
         "type": "bar",
         "x": [
          "saccade",
          "pursuit",
          "vision",
          "all"
         ],
         "y": [
          82.24002974697655,
          72.42709021406543,
          96.48007438163678,
          61.82504306025683
         ]
        },
        {
         "error_y": {
          "array": [
           5.9498077950544115,
           21.499892215789245,
           1.7978869258977,
           24.093198252982532
          ],
          "arrayminus": [
           31.435668296001403,
           18.099308659211246,
           5.033513532340265,
           26.71620894543237
          ],
          "color": "black",
          "thickness": 3,
          "type": "data",
          "visible": true,
          "width": 0
         },
         "marker": {
          "color": "rgb(235, 127, 134)"
         },
         "name": "V3AB",
         "showlegend": true,
         "type": "bar",
         "x": [
          "saccade",
          "pursuit",
          "vision",
          "all"
         ],
         "y": [
          89.5522551374433,
          73.41015380591685,
          97.79193640626787,
          67.18879010904536
         ]
        },
        {
         "error_y": {
          "array": [
           13.572829057096968,
           22.638817282622654,
           3.75623815609066,
           29.258290685927093
          ],
          "arrayminus": [
           28.120778141741646,
           14.601987566884702,
           13.469213069302867,
           24.473869806075896
          ],
          "color": "black",
          "thickness": 3,
          "type": "data",
          "visible": true,
          "width": 0
         },
         "marker": {
          "color": "rgb(150, 0, 90)"
         },
         "name": "LO",
         "showlegend": true,
         "type": "bar",
         "x": [
          "saccade",
          "pursuit",
          "vision",
          "all"
         ],
         "y": [
          80.81191096111291,
          66.63272458017511,
          95.07870719844927,
          52.53513437769679
         ]
        },
        {
         "error_y": {
          "array": [
           19.514639826898346,
           35.09283740792673,
           10.88651742274395,
           37.82808797640733
          ],
          "arrayminus": [
           32.78374616480735,
           22.467624827710583,
           17.073938586834913,
           22.726863085950253
          ],
          "color": "black",
          "thickness": 3,
          "type": "data",
          "visible": true,
          "width": 0
         },
         "marker": {
          "color": "rgb(0, 0, 200)"
         },
         "name": "VO",
         "showlegend": true,
         "type": "bar",
         "x": [
          "saccade",
          "pursuit",
          "vision",
          "all"
         ],
         "y": [
          72.39091139740083,
          50.830404123884044,
          84.21594496572243,
          36.460672663954014
         ]
        },
        {
         "error_y": {
          "array": [
           15.018728290705852,
           13.287063487105002,
           11.298523258987203,
           22.5146886437677
          ],
          "arrayminus": [
           37.669958543502744,
           27.61198304153522,
           12.065499375983109,
           39.02792359613095
          ],
          "color": "black",
          "thickness": 3,
          "type": "data",
          "visible": true,
          "width": 0
         },
         "marker": {
          "color": "rgb(0, 25, 255)"
         },
         "name": "hMT+",
         "showlegend": true,
         "type": "bar",
         "x": [
          "saccade",
          "pursuit",
          "vision",
          "all"
         ],
         "y": [
          80.14205080389677,
          77.9812901893369,
          86.89826595868672,
          64.46917379965356
         ]
        },
        {
         "error_y": {
          "array": [
           10.958750560279398,
           13.25664553742321,
           6.4873653741776,
           25.126681969830983
          ],
          "arrayminus": [
           17.614518656971185,
           25.61376296933635,
           25.315030617501904,
           22.777563204431473
          ],
          "color": "black",
          "thickness": 3,
          "type": "data",
          "visible": true,
          "width": 0
         },
         "marker": {
          "color": "rgb(0, 152, 255)"
         },
         "name": "iIPS",
         "showlegend": true,
         "type": "bar",
         "x": [
          "saccade",
          "pursuit",
          "vision",
          "all"
         ],
         "y": [
          83.73489458419633,
          77.186173357575,
          91.4578752522252,
          57.901448054655134
         ]
        },
        {
         "error_y": {
          "array": [
           14.553558689339198,
           14.953726608655941,
           9.288934587203357,
           26.056589106464223
          ],
          "arrayminus": [
           14.013289843298395,
           22.065078005072124,
           28.277344487495455,
           20.138016664465113
          ],
          "color": "black",
          "thickness": 3,
          "type": "data",
          "visible": true,
          "width": 0
         },
         "marker": {
          "color": "rgb(44, 255, 150)"
         },
         "name": "sIPS",
         "showlegend": true,
         "type": "bar",
         "x": [
          "saccade",
          "pursuit",
          "vision",
          "all"
         ],
         "y": [
          80.94029150930021,
          76.78809176520186,
          88.14751235420324,
          57.738823978540545
         ]
        },
        {
         "error_y": {
          "array": [
           17.718591677925545,
           17.873322365079176,
           16.37395934039175,
           27.262459157160848
          ],
          "arrayminus": [
           25.019527869535516,
           27.35689777062546,
           39.48068098177283,
           21.357218311363834
          ],
          "color": "black",
          "thickness": 3,
          "type": "data",
          "visible": true,
          "width": 0
         },
         "marker": {
          "color": "rgb(151, 255, 0)"
         },
         "name": "iPCS",
         "showlegend": true,
         "type": "bar",
         "x": [
          "saccade",
          "pursuit",
          "vision",
          "all"
         ],
         "y": [
          71.83167723599325,
          63.058672406977706,
          80.50080973580674,
          38.42336952866782
         ]
        },
        {
         "error_y": {
          "array": [
           16.955266447187824,
           14.673132080238602,
           11.108845611865547,
           26.25629361991146
          ],
          "arrayminus": [
           26.528190293979534,
           20.48047877776861,
           26.89021926531283,
           15.386604511826253
          ],
          "color": "black",
          "thickness": 3,
          "type": "data",
          "visible": true,
          "width": 0
         },
         "marker": {
          "color": "rgb(255, 234, 0)"
         },
         "name": "sPCS",
         "showlegend": true,
         "type": "bar",
         "x": [
          "saccade",
          "pursuit",
          "vision",
          "all"
         ],
         "y": [
          75.82593530378344,
          70.95626529328811,
          82.9618090735112,
          46.60172345230242
         ]
        },
        {
         "error_y": {
          "array": [
           14.897405518068283,
           27.248699297496188,
           16.298880746003448,
           21.616434698970927
          ],
          "arrayminus": [
           34.062933971583746,
           26.509328279576447,
           24.953346515135344,
           20.993450686776747
          ],
          "color": "black",
          "thickness": 3,
          "type": "data",
          "visible": true,
          "width": 0
         },
         "marker": {
          "color": "rgb(255, 111, 0)"
         },
         "name": "mPCS",
         "showlegend": true,
         "type": "bar",
         "x": [
          "saccade",
          "pursuit",
          "vision",
          "all"
         ],
         "y": [
          67.48318420022144,
          56.10722111521763,
          72.23692468644265,
          32.55095104960205
         ]
        }
       ],
       "layout": {
        "autosize": true,
        "barmode": "group",
        "template": {
         "data": {
          "barpolar": [
           {
            "marker": {
             "line": {
              "color": "rgba(0, 0, 0, 1)",
              "width": 1.5
             }
            },
            "showlegend": false,
            "type": "barpolar"
           }
          ],
          "pie": [
           {
            "direction": "clockwise",
            "hole": 0.4,
            "marker": {
             "line": {
              "width": 0
             }
            },
            "rotation": 0,
            "sort": false,
            "textposition": [
             "inside",
             "none"
            ],
            "type": "pie"
           }
          ],
          "violin": [
           {
            "box": {
             "visible": false
            },
            "hoveron": "violins",
            "line": {
             "color": "rgba(0, 0, 0, 1)",
             "width": 1.5
            },
            "meanline": {
             "visible": false
            },
            "points": false,
            "showlegend": false,
            "type": "violin",
            "width": 0.8
           }
          ]
         },
         "layout": {
          "annotationdefaults": {
           "font": {
            "color": "rgba(0, 0, 0, 1)",
            "family": "Arial",
            "size": 15
           }
          },
          "font": {
           "family": "Arial",
           "size": 15
          },
          "plot_bgcolor": "rgba(255, 255, 255, 1)",
          "polar": {
           "angularaxis": {
            "showticklabels": false,
            "ticks": "",
            "visible": false
           },
           "radialaxis": {
            "showticklabels": false,
            "ticks": "",
            "visible": false
           }
          },
          "xaxis": {
           "color": "rgba(0, 0, 0, 1)",
           "hoverformat": ".1f",
           "linewidth": 2,
           "showgrid": false,
           "tickfont": {
            "family": "Arial",
            "size": 15
           },
           "ticklen": 8,
           "ticks": "outside",
           "tickwidth": 2,
           "title": {
            "font": {
             "family": "Arial",
             "size": 15
            }
           },
           "visible": true,
           "zeroline": false,
           "zerolinecolor": "rgba(0, 0, 0, 1)",
           "zerolinewidth": 2
          },
          "yaxis": {
           "color": "rgba(0, 0, 0, 1)",
           "hoverformat": ".1f",
           "linewidth": 2,
           "showgrid": false,
           "tickfont": {
            "family": "Arial",
            "size": 15
           },
           "ticklen": 8,
           "ticks": "outside",
           "tickwidth": 2,
           "title": {
            "font": {
             "family": "Arial",
             "size": 15
            }
           },
           "visible": true,
           "zeroline": false,
           "zerolinecolor": "rgba(0, 0, 0, 1)",
           "zerolinewidth": 2
          }
         }
        },
        "xaxis": {
         "autorange": true,
         "range": [
          -0.5,
          3.5
         ],
         "showline": true,
         "type": "category"
        },
        "yaxis": {
         "range": [
          0,
          100
         ],
         "showline": true,
         "title": {
          "text": "Surface percentage (%)"
         },
         "type": "linear"
        }
       }
      },
      "image/png": "[encoded data removed]",
      "text/html": [
       "<div>                            <div id=\"a1fc0584-a507-4fea-aeb6-9a497a22dc6e\" class=\"plotly-graph-div\" style=\"height:525px; width:100%;\"></div>            <script type=\"text/javascript\">                require([\"plotly\"], function(Plotly) {                    window.PLOTLYENV=window.PLOTLYENV || {};                                    if (document.getElementById(\"a1fc0584-a507-4fea-aeb6-9a497a22dc6e\")) {                    Plotly.newPlot(                        \"a1fc0584-a507-4fea-aeb6-9a497a22dc6e\",                        [{\"error_y\":{\"array\":[6.914107832742118,17.656502344869352,2.858865125609867,20.195171559681675],\"arrayminus\":[23.453642859956403,16.85928225914668,3.9668807351066846,21.711124129485242],\"color\":\"black\",\"thickness\":3,\"type\":\"data\",\"visible\":true,\"width\":0},\"marker\":{\"color\":\"rgb(243, 231, 155)\"},\"name\":\"V1\",\"showlegend\":true,\"x\":[\"saccade\",\"pursuit\",\"vision\",\"all\"],\"y\":[87.49315195401428,70.81361881497509,96.77508268864665,62.00989197456946],\"type\":\"bar\"},{\"error_y\":{\"array\":[8.916016302318013,15.028114075164225,2.284788288563817,18.908366657390673],\"arrayminus\":[25.989341637882482,23.626782683593206,6.707595965488238,26.639603472452606],\"color\":\"black\",\"thickness\":3,\"type\":\"data\",\"visible\":true,\"width\":0},\"marker\":{\"color\":\"rgb(250, 196, 132)\"},\"name\":\"V2\",\"showlegend\":true,\"x\":[\"saccade\",\"pursuit\",\"vision\",\"all\"],\"y\":[87.2052395005235,78.38200930804754,96.61303100826484,69.05634772478885],\"type\":\"bar\"},{\"error_y\":{\"array\":[12.404975137594292,19.575633747549546,2.6693013122958007,22.71889515418262],\"arrayminus\":[30.3377061449605,23.884312834635352,7.934638132013902,26.65572858855819],\"color\":\"black\",\"thickness\":3,\"type\":\"data\",\"visible\":true,\"width\":0},\"marker\":{\"color\":\"rgb(248, 160, 126)\"},\"name\":\"V3\",\"showlegend\":true,\"x\":[\"saccade\",\"pursuit\",\"vision\",\"all\"],\"y\":[82.24002974697655,72.42709021406543,96.48007438163678,61.82504306025683],\"type\":\"bar\"},{\"error_y\":{\"array\":[5.9498077950544115,21.499892215789245,1.7978869258977,24.093198252982532],\"arrayminus\":[31.435668296001403,18.099308659211246,5.033513532340265,26.71620894543237],\"color\":\"black\",\"thickness\":3,\"type\":\"data\",\"visible\":true,\"width\":0},\"marker\":{\"color\":\"rgb(235, 127, 134)\"},\"name\":\"V3AB\",\"showlegend\":true,\"x\":[\"saccade\",\"pursuit\",\"vision\",\"all\"],\"y\":[89.5522551374433,73.41015380591685,97.79193640626787,67.18879010904536],\"type\":\"bar\"},{\"error_y\":{\"array\":[13.572829057096968,22.638817282622654,3.75623815609066,29.258290685927093],\"arrayminus\":[28.120778141741646,14.601987566884702,13.469213069302867,24.473869806075896],\"color\":\"black\",\"thickness\":3,\"type\":\"data\",\"visible\":true,\"width\":0},\"marker\":{\"color\":\"rgb(150, 0, 90)\"},\"name\":\"LO\",\"showlegend\":true,\"x\":[\"saccade\",\"pursuit\",\"vision\",\"all\"],\"y\":[80.81191096111291,66.63272458017511,95.07870719844927,52.53513437769679],\"type\":\"bar\"},{\"error_y\":{\"array\":[19.514639826898346,35.09283740792673,10.88651742274395,37.82808797640733],\"arrayminus\":[32.78374616480735,22.467624827710583,17.073938586834913,22.726863085950253],\"color\":\"black\",\"thickness\":3,\"type\":\"data\",\"visible\":true,\"width\":0},\"marker\":{\"color\":\"rgb(0, 0, 200)\"},\"name\":\"VO\",\"showlegend\":true,\"x\":[\"saccade\",\"pursuit\",\"vision\",\"all\"],\"y\":[72.39091139740083,50.830404123884044,84.21594496572243,36.460672663954014],\"type\":\"bar\"},{\"error_y\":{\"array\":[15.018728290705852,13.287063487105002,11.298523258987203,22.5146886437677],\"arrayminus\":[37.669958543502744,27.61198304153522,12.065499375983109,39.02792359613095],\"color\":\"black\",\"thickness\":3,\"type\":\"data\",\"visible\":true,\"width\":0},\"marker\":{\"color\":\"rgb(0, 25, 255)\"},\"name\":\"hMT+\",\"showlegend\":true,\"x\":[\"saccade\",\"pursuit\",\"vision\",\"all\"],\"y\":[80.14205080389677,77.9812901893369,86.89826595868672,64.46917379965356],\"type\":\"bar\"},{\"error_y\":{\"array\":[10.958750560279398,13.25664553742321,6.4873653741776,25.126681969830983],\"arrayminus\":[17.614518656971185,25.61376296933635,25.315030617501904,22.777563204431473],\"color\":\"black\",\"thickness\":3,\"type\":\"data\",\"visible\":true,\"width\":0},\"marker\":{\"color\":\"rgb(0, 152, 255)\"},\"name\":\"iIPS\",\"showlegend\":true,\"x\":[\"saccade\",\"pursuit\",\"vision\",\"all\"],\"y\":[83.73489458419633,77.186173357575,91.4578752522252,57.901448054655134],\"type\":\"bar\"},{\"error_y\":{\"array\":[14.553558689339198,14.953726608655941,9.288934587203357,26.056589106464223],\"arrayminus\":[14.013289843298395,22.065078005072124,28.277344487495455,20.138016664465113],\"color\":\"black\",\"thickness\":3,\"type\":\"data\",\"visible\":true,\"width\":0},\"marker\":{\"color\":\"rgb(44, 255, 150)\"},\"name\":\"sIPS\",\"showlegend\":true,\"x\":[\"saccade\",\"pursuit\",\"vision\",\"all\"],\"y\":[80.94029150930021,76.78809176520186,88.14751235420324,57.738823978540545],\"type\":\"bar\"},{\"error_y\":{\"array\":[17.718591677925545,17.873322365079176,16.37395934039175,27.262459157160848],\"arrayminus\":[25.019527869535516,27.35689777062546,39.48068098177283,21.357218311363834],\"color\":\"black\",\"thickness\":3,\"type\":\"data\",\"visible\":true,\"width\":0},\"marker\":{\"color\":\"rgb(151, 255, 0)\"},\"name\":\"iPCS\",\"showlegend\":true,\"x\":[\"saccade\",\"pursuit\",\"vision\",\"all\"],\"y\":[71.83167723599325,63.058672406977706,80.50080973580674,38.42336952866782],\"type\":\"bar\"},{\"error_y\":{\"array\":[16.955266447187824,14.673132080238602,11.108845611865547,26.25629361991146],\"arrayminus\":[26.528190293979534,20.48047877776861,26.89021926531283,15.386604511826253],\"color\":\"black\",\"thickness\":3,\"type\":\"data\",\"visible\":true,\"width\":0},\"marker\":{\"color\":\"rgb(255, 234, 0)\"},\"name\":\"sPCS\",\"showlegend\":true,\"x\":[\"saccade\",\"pursuit\",\"vision\",\"all\"],\"y\":[75.82593530378344,70.95626529328811,82.9618090735112,46.60172345230242],\"type\":\"bar\"},{\"error_y\":{\"array\":[14.897405518068283,27.248699297496188,16.298880746003448,21.616434698970927],\"arrayminus\":[34.062933971583746,26.509328279576447,24.953346515135344,20.993450686776747],\"color\":\"black\",\"thickness\":3,\"type\":\"data\",\"visible\":true,\"width\":0},\"marker\":{\"color\":\"rgb(255, 111, 0)\"},\"name\":\"mPCS\",\"showlegend\":true,\"x\":[\"saccade\",\"pursuit\",\"vision\",\"all\"],\"y\":[67.48318420022144,56.10722111521763,72.23692468644265,32.55095104960205],\"type\":\"bar\"}],                        {\"template\":{\"data\":{\"barpolar\":[{\"marker\":{\"line\":{\"color\":\"rgba(0,0,0,1)\",\"width\":1.5}},\"showlegend\":false,\"type\":\"barpolar\"}],\"pie\":[{\"direction\":\"clockwise\",\"hole\":0.4,\"marker\":{\"line\":{\"width\":0}},\"rotation\":0,\"sort\":false,\"textposition\":[\"inside\",\"none\"],\"type\":\"pie\"}],\"violin\":[{\"box\":{\"visible\":false},\"hoveron\":\"violins\",\"line\":{\"color\":\"rgba(0, 0, 0, 1)\",\"width\":1.5},\"meanline\":{\"visible\":false},\"points\":false,\"showlegend\":false,\"width\":0.8,\"type\":\"violin\"}]},\"layout\":{\"annotationdefaults\":{\"font\":{\"color\":\"rgba(0, 0, 0, 1)\",\"family\":\"Arial\",\"size\":15}},\"font\":{\"family\":\"Arial\",\"size\":15},\"plot_bgcolor\":\"rgba(255, 255, 255, 1)\",\"polar\":{\"angularaxis\":{\"showticklabels\":false,\"ticks\":\"\",\"visible\":false},\"radialaxis\":{\"showticklabels\":false,\"ticks\":\"\",\"visible\":false}},\"xaxis\":{\"color\":\"rgba(0, 0, 0, 1)\",\"hoverformat\":\".1f\",\"linewidth\":2,\"showgrid\":false,\"tickfont\":{\"family\":\"Arial\",\"size\":15},\"ticklen\":8,\"ticks\":\"outside\",\"tickwidth\":2,\"title\":{\"font\":{\"family\":\"Arial\",\"size\":15}},\"visible\":true,\"zeroline\":false,\"zerolinecolor\":\"rgba(0, 0, 0, 1)\",\"zerolinewidth\":2},\"yaxis\":{\"color\":\"rgba(0, 0, 0, 1)\",\"hoverformat\":\".1f\",\"linewidth\":2,\"showgrid\":false,\"tickfont\":{\"family\":\"Arial\",\"size\":15},\"ticklen\":8,\"ticks\":\"outside\",\"tickwidth\":2,\"title\":{\"font\":{\"family\":\"Arial\",\"size\":15}},\"visible\":true,\"zeroline\":false,\"zerolinecolor\":\"rgba(0, 0, 0, 1)\",\"zerolinewidth\":2}}},\"xaxis\":{\"showline\":true},\"yaxis\":{\"title\":{\"text\":\"Surface percentage (%)\"},\"range\":[0,100],\"showline\":true},\"barmode\":\"group\"},                        {\"responsive\": true}                    ).then(function(){\n",
       "                            \n",
       "var gd = document.getElementById('a1fc0584-a507-4fea-aeb6-9a497a22dc6e');\n",
       "var x = new MutationObserver(function (mutations, observer) {{\n",
       "        var display = window.getComputedStyle(gd).display;\n",
       "        if (!display || display === 'none') {{\n",
       "            console.log([gd, 'removed!']);\n",
       "            Plotly.purge(gd);\n",
       "            observer.disconnect();\n",
       "        }}\n",
       "}});\n",
       "\n",
       "// Listen for the removal of the full notebook cells\n",
       "var notebookContainer = gd.closest('#notebook-container');\n",
       "if (notebookContainer) {{\n",
       "    x.observe(notebookContainer, {childList: true});\n",
       "}}\n",
       "\n",
       "// Listen for the clearing of the current output cell\n",
       "var outputEl = gd.closest('.output');\n",
       "if (outputEl) {{\n",
       "    x.observe(outputEl, {childList: true});\n",
       "}}\n",
       "\n",
       "                        })                };                });            </script>        </div>"
      ]
     },
     "metadata": {},
     "output_type": "display_data"
    }
   ],
   "source": [
    "sub_rois =  ['V1', 'V2', 'V3', 'V3AB', 'LO', 'VO', 'hMT+', 'iIPS', 'sIPS', 'iPCS', 'sPCS', 'mPCS']\n",
    "fig = go.Figure()\n",
    "for i, roi in enumerate(sub_rois):\n",
    "    df_roi = group_rois_area_categorie_df.loc[group_rois_area_categorie_df['roi']==roi]\n",
    "    fig.add_trace(go.Bar(\n",
    "        x=df_roi['categorie'],\n",
    "        y=df_roi['median'],\n",
    "        name=roi,  \n",
    "        marker=dict(color=roi_colors_dict[roi]), \n",
    "        error_y=dict(\n",
    "            type='data',\n",
    "            array=df_roi['ci_high'] - df_roi['median'], \n",
    "            arrayminus=df_roi['median'] - df_roi['ci_low'],  \n",
    "            visible=True,\n",
    "            thickness=3,\n",
    "            width=0,\n",
    "            color='black'\n",
    "        ),\n",
    "        showlegend=True\n",
    "    ))\n",
    "    \n",
    "fig.update_xaxes(showline=True)\n",
    "fig.update_yaxes(title='Surface percentage (%)', range=[0,100], showline=True)\n",
    "fig.update_layout(template=fig_template, \n",
    "                  barmode='group')\n",
    "\n",
    "fig.show()\n",
    "fig.write_image(\"/Users/uriel/Downloads/Surface_percentage_5.pdf\".format(subject))"
   ]
  },
  {
   "cell_type": "code",
   "execution_count": 53,
   "id": "88c4f14a-7d35-4bff-af5f-dfcc314bebb6",
   "metadata": {
    "tags": []
   },
   "outputs": [
    {
     "data": {
      "application/vnd.plotly.v1+json": {
       "config": {
        "plotlyServerURL": "https://plot.ly"
       },
       "data": [
        {
         "cells": {
          "align": "left",
          "fill": {
           "color": "lavender"
          },
          "values": [
           [
            "iIPS",
            "sIPS",
            "iPCS",
            "sPCS",
            "mPCS",
            "iIPS",
            "sIPS",
            "iPCS",
            "sPCS",
            "mPCS",
            "iIPS",
            "sIPS",
            "iPCS",
            "sPCS",
            "mPCS",
            "iIPS",
            "sIPS",
            "iPCS",
            "sPCS",
            "mPCS"
           ],
           [
            "saccade",
            "saccade",
            "saccade",
            "saccade",
            "saccade",
            "pursuit",
            "pursuit",
            "pursuit",
            "pursuit",
            "pursuit",
            "vision",
            "vision",
            "vision",
            "vision",
            "vision",
            "all",
            "all",
            "all",
            "all",
            "all"
           ],
           [
            58.8,
            62.3,
            47.7,
            49.8,
            29.9,
            50.2,
            59.1,
            41.4,
            44.8,
            24.6,
            64,
            66.1,
            50.8,
            53.6,
            35.6,
            41.7,
            42.8,
            27.8,
            29.2,
            15.2
           ],
           [
            43.5,
            49.5,
            29.3,
            30.6,
            13.9,
            33.7,
            45.6,
            25.2,
            32.2,
            15.9,
            36.7,
            42,
            24.2,
            33.7,
            20.9,
            19.8,
            27.2,
            12.6,
            17.3,
            7
           ],
           [
            67.3,
            72.9,
            58.4,
            61.1,
            39.2,
            65.8,
            69.3,
            55.3,
            59.4,
            38.4,
            68.8,
            72.7,
            62.6,
            61.9,
            43.4,
            58.3,
            59,
            43.2,
            43.5,
            24.9
           ]
          ]
         },
         "header": {
          "align": "left",
          "fill": {
           "color": "paleturquoise"
          },
          "values": [
           "roi",
           "categorie",
           "median",
           "ci_low",
           "ci_high"
          ]
         },
         "type": "table"
        }
       ],
       "layout": {
        "height": 800,
        "template": {
         "data": {
          "barpolar": [
           {
            "marker": {
             "line": {
              "color": "rgba(0, 0, 0, 1)",
              "width": 1.5
             }
            },
            "showlegend": false,
            "type": "barpolar"
           }
          ],
          "pie": [
           {
            "direction": "clockwise",
            "hole": 0.4,
            "marker": {
             "line": {
              "width": 0
             }
            },
            "rotation": 0,
            "sort": false,
            "textposition": [
             "inside",
             "none"
            ],
            "type": "pie"
           }
          ],
          "violin": [
           {
            "box": {
             "visible": false
            },
            "hoveron": "violins",
            "line": {
             "color": "rgba(0, 0, 0, 1)",
             "width": 1.5
            },
            "meanline": {
             "visible": false
            },
            "points": false,
            "showlegend": false,
            "type": "violin",
            "width": 0.8
           }
          ]
         },
         "layout": {
          "annotationdefaults": {
           "font": {
            "color": "rgba(0, 0, 0, 1)",
            "family": "Arial",
            "size": 15
           }
          },
          "font": {
           "family": "Arial",
           "size": 15
          },
          "plot_bgcolor": "rgba(255, 255, 255, 1)",
          "polar": {
           "angularaxis": {
            "showticklabels": false,
            "ticks": "",
            "visible": false
           },
           "radialaxis": {
            "showticklabels": false,
            "ticks": "",
            "visible": false
           }
          },
          "xaxis": {
           "color": "rgba(0, 0, 0, 1)",
           "hoverformat": ".1f",
           "linewidth": 2,
           "showgrid": false,
           "tickfont": {
            "family": "Arial",
            "size": 15
           },
           "ticklen": 8,
           "ticks": "outside",
           "tickwidth": 2,
           "title": {
            "font": {
             "family": "Arial",
             "size": 15
            }
           },
           "visible": true,
           "zeroline": false,
           "zerolinecolor": "rgba(0, 0, 0, 1)",
           "zerolinewidth": 2
          },
          "yaxis": {
           "color": "rgba(0, 0, 0, 1)",
           "hoverformat": ".1f",
           "linewidth": 2,
           "showgrid": false,
           "tickfont": {
            "family": "Arial",
            "size": 15
           },
           "ticklen": 8,
           "ticks": "outside",
           "tickwidth": 2,
           "title": {
            "font": {
             "family": "Arial",
             "size": 15
            }
           },
           "visible": true,
           "zeroline": false,
           "zerolinecolor": "rgba(0, 0, 0, 1)",
           "zerolinewidth": 2
          }
         }
        },
        "width": 800
       }
      },
      "image/png": "[encoded data removed]",
      "text/html": [
       "<div>                            <div id=\"dcabcae3-2f3b-413c-9c81-35c5e1c9775a\" class=\"plotly-graph-div\" style=\"height:800px; width:800px;\"></div>            <script type=\"text/javascript\">                require([\"plotly\"], function(Plotly) {                    window.PLOTLYENV=window.PLOTLYENV || {};                                    if (document.getElementById(\"dcabcae3-2f3b-413c-9c81-35c5e1c9775a\")) {                    Plotly.newPlot(                        \"dcabcae3-2f3b-413c-9c81-35c5e1c9775a\",                        [{\"cells\":{\"align\":\"left\",\"fill\":{\"color\":\"lavender\"},\"values\":[[\"iIPS\",\"sIPS\",\"iPCS\",\"sPCS\",\"mPCS\",\"iIPS\",\"sIPS\",\"iPCS\",\"sPCS\",\"mPCS\",\"iIPS\",\"sIPS\",\"iPCS\",\"sPCS\",\"mPCS\",\"iIPS\",\"sIPS\",\"iPCS\",\"sPCS\",\"mPCS\"],[\"saccade\",\"saccade\",\"saccade\",\"saccade\",\"saccade\",\"pursuit\",\"pursuit\",\"pursuit\",\"pursuit\",\"pursuit\",\"vision\",\"vision\",\"vision\",\"vision\",\"vision\",\"all\",\"all\",\"all\",\"all\",\"all\"],[58.8,62.3,47.7,49.8,29.9,50.2,59.1,41.4,44.8,24.6,64.0,66.1,50.8,53.6,35.6,41.7,42.8,27.8,29.2,15.2],[43.5,49.5,29.3,30.6,13.9,33.7,45.6,25.2,32.2,15.9,36.7,42.0,24.2,33.7,20.9,19.8,27.2,12.6,17.3,7.0],[67.3,72.9,58.4,61.1,39.2,65.8,69.3,55.3,59.4,38.4,68.8,72.7,62.6,61.9,43.4,58.3,59.0,43.2,43.5,24.9]]},\"header\":{\"align\":\"left\",\"fill\":{\"color\":\"paleturquoise\"},\"values\":[\"roi\",\"categorie\",\"median\",\"ci_low\",\"ci_high\"]},\"type\":\"table\"}],                        {\"template\":{\"data\":{\"barpolar\":[{\"marker\":{\"line\":{\"color\":\"rgba(0,0,0,1)\",\"width\":1.5}},\"showlegend\":false,\"type\":\"barpolar\"}],\"pie\":[{\"direction\":\"clockwise\",\"hole\":0.4,\"marker\":{\"line\":{\"width\":0}},\"rotation\":0,\"sort\":false,\"textposition\":[\"inside\",\"none\"],\"type\":\"pie\"}],\"violin\":[{\"box\":{\"visible\":false},\"hoveron\":\"violins\",\"line\":{\"color\":\"rgba(0, 0, 0, 1)\",\"width\":1.5},\"meanline\":{\"visible\":false},\"points\":false,\"showlegend\":false,\"width\":0.8,\"type\":\"violin\"}]},\"layout\":{\"annotationdefaults\":{\"font\":{\"color\":\"rgba(0, 0, 0, 1)\",\"family\":\"Arial\",\"size\":15}},\"font\":{\"family\":\"Arial\",\"size\":15},\"plot_bgcolor\":\"rgba(255, 255, 255, 1)\",\"polar\":{\"angularaxis\":{\"showticklabels\":false,\"ticks\":\"\",\"visible\":false},\"radialaxis\":{\"showticklabels\":false,\"ticks\":\"\",\"visible\":false}},\"xaxis\":{\"color\":\"rgba(0, 0, 0, 1)\",\"hoverformat\":\".1f\",\"linewidth\":2,\"showgrid\":false,\"tickfont\":{\"family\":\"Arial\",\"size\":15},\"ticklen\":8,\"ticks\":\"outside\",\"tickwidth\":2,\"title\":{\"font\":{\"family\":\"Arial\",\"size\":15}},\"visible\":true,\"zeroline\":false,\"zerolinecolor\":\"rgba(0, 0, 0, 1)\",\"zerolinewidth\":2},\"yaxis\":{\"color\":\"rgba(0, 0, 0, 1)\",\"hoverformat\":\".1f\",\"linewidth\":2,\"showgrid\":false,\"tickfont\":{\"family\":\"Arial\",\"size\":15},\"ticklen\":8,\"ticks\":\"outside\",\"tickwidth\":2,\"title\":{\"font\":{\"family\":\"Arial\",\"size\":15}},\"visible\":true,\"zeroline\":false,\"zerolinecolor\":\"rgba(0, 0, 0, 1)\",\"zerolinewidth\":2}}},\"height\":800,\"width\":800},                        {\"responsive\": true}                    ).then(function(){\n",
       "                            \n",
       "var gd = document.getElementById('dcabcae3-2f3b-413c-9c81-35c5e1c9775a');\n",
       "var x = new MutationObserver(function (mutations, observer) {{\n",
       "        var display = window.getComputedStyle(gd).display;\n",
       "        if (!display || display === 'none') {{\n",
       "            console.log([gd, 'removed!']);\n",
       "            Plotly.purge(gd);\n",
       "            observer.disconnect();\n",
       "        }}\n",
       "}});\n",
       "\n",
       "// Listen for the removal of the full notebook cells\n",
       "var notebookContainer = gd.closest('#notebook-container');\n",
       "if (notebookContainer) {{\n",
       "    x.observe(notebookContainer, {childList: true});\n",
       "}}\n",
       "\n",
       "// Listen for the clearing of the current output cell\n",
       "var outputEl = gd.closest('.output');\n",
       "if (outputEl) {{\n",
       "    x.observe(outputEl, {childList: true});\n",
       "}}\n",
       "\n",
       "                        })                };                });            </script>        </div>"
      ]
     },
     "metadata": {},
     "output_type": "display_data"
    }
   ],
   "source": [
    "sub_rois =  ['iIPS', 'sIPS', 'iPCS', 'sPCS', 'mPCS']\n",
    "\n",
    "\n",
    "df_roi = group_rois_area_categorie_df.loc[group_rois_area_categorie_df['roi'].isin(sub_rois)]\n",
    "\n",
    "\n",
    "fig = go.Figure()\n",
    "fig.add_trace(go.Table(header=dict(values=list(df_roi.columns), \n",
    "                                   fill_color='paleturquoise', \n",
    "                                   align='left'), \n",
    "                       cells=dict(values=[df_roi[col].round(1) for col in df_roi.columns], \n",
    "                                  fill_color='lavender', \n",
    "                                  align='left')\n",
    "                      ))\n",
    "\n",
    "fig.update_layout(template=fig_template,\n",
    "                  height=800, \n",
    "                  width=800)\n",
    "fig.write_image(\"/Users/uriel/Downloads/Surface_percentage_table.pdf\".format(subject))\n",
    "fig.show()"
   ]
  },
  {
   "cell_type": "markdown",
   "id": "8878e651-e620-4d0e-a9e3-fb2b78f2d133",
   "metadata": {
    "jp-MarkdownHeadingCollapsed": true,
    "tags": []
   },
   "source": [
    "# Contralaterlity"
   ]
  },
  {
   "cell_type": "code",
   "execution_count": 20,
   "id": "ca19b851-f532-4795-8a38-7f584ad85475",
   "metadata": {
    "tags": []
   },
   "outputs": [],
   "source": [
    "subject = 'group'\n",
    "format_ = '170k'\n",
    "intertask_all_tsv_dir ='{}/{}/derivatives/pp_data/{}/{}/intertask/tsv/tsv_vision_and_pursuit_and_saccade'.format(main_dir, project_dir, subject, format_)\n",
    "data_contralaterality = pd.read_table('{}/{}_vision_and_pursuit_and_saccade_prf_contralaterality_{}.tsv'.format(intertask_all_tsv_dir, subject, suffix))"
   ]
  },
  {
   "cell_type": "code",
   "execution_count": 52,
   "id": "7b4acf92-18c0-4b8a-b197-ec297faf430a",
   "metadata": {
    "tags": []
   },
   "outputs": [],
   "source": [
    "data_contralaterality[['contralaterality_prct', 'ci_down', 'ci_up']] = data_contralaterality[['contralaterality_prct', 'ci_down', 'ci_up']] * 100\n"
   ]
  },
  {
   "cell_type": "code",
   "execution_count": 56,
   "id": "4388ee0d-3092-4dae-8c7a-a476357c7d2c",
   "metadata": {
    "tags": []
   },
   "outputs": [
    {
     "data": {
      "application/vnd.plotly.v1+json": {
       "config": {
        "plotlyServerURL": "https://plot.ly"
       },
       "data": [
        {
         "cells": {
          "align": "left",
          "fill": {
           "color": "lavender"
          },
          "values": [
           [
            "iIPS",
            "sIPS",
            "iPCS",
            "sPCS",
            "mPCS"
           ],
           [
            71.7,
            59.2,
            65.1,
            54.6,
            65.3
           ],
           [
            47.3,
            43.2,
            44.8,
            35.1,
            44.5
           ],
           [
            96.3,
            81.8,
            87.8,
            79.5,
            91
           ]
          ]
         },
         "header": {
          "align": "left",
          "fill": {
           "color": "paleturquoise"
          },
          "values": [
           "roi",
           "contralaterality_prct",
           "ci_down",
           "ci_up"
          ]
         },
         "type": "table"
        }
       ],
       "layout": {
        "height": 800,
        "template": {
         "data": {
          "barpolar": [
           {
            "marker": {
             "line": {
              "color": "rgba(0, 0, 0, 1)",
              "width": 1.5
             }
            },
            "showlegend": false,
            "type": "barpolar"
           }
          ],
          "pie": [
           {
            "direction": "clockwise",
            "hole": 0.4,
            "marker": {
             "line": {
              "width": 0
             }
            },
            "rotation": 0,
            "sort": false,
            "textposition": [
             "inside",
             "none"
            ],
            "type": "pie"
           }
          ],
          "violin": [
           {
            "box": {
             "visible": false
            },
            "hoveron": "violins",
            "line": {
             "color": "rgba(0, 0, 0, 1)",
             "width": 1.5
            },
            "meanline": {
             "visible": false
            },
            "points": false,
            "showlegend": false,
            "type": "violin",
            "width": 0.8
           }
          ]
         },
         "layout": {
          "annotationdefaults": {
           "font": {
            "color": "rgba(0, 0, 0, 1)",
            "family": "Arial",
            "size": 15
           }
          },
          "font": {
           "family": "Arial",
           "size": 15
          },
          "plot_bgcolor": "rgba(255, 255, 255, 1)",
          "polar": {
           "angularaxis": {
            "showticklabels": false,
            "ticks": "",
            "visible": false
           },
           "radialaxis": {
            "showticklabels": false,
            "ticks": "",
            "visible": false
           }
          },
          "xaxis": {
           "color": "rgba(0, 0, 0, 1)",
           "hoverformat": ".1f",
           "linewidth": 2,
           "showgrid": false,
           "tickfont": {
            "family": "Arial",
            "size": 15
           },
           "ticklen": 8,
           "ticks": "outside",
           "tickwidth": 2,
           "title": {
            "font": {
             "family": "Arial",
             "size": 15
            }
           },
           "visible": true,
           "zeroline": false,
           "zerolinecolor": "rgba(0, 0, 0, 1)",
           "zerolinewidth": 2
          },
          "yaxis": {
           "color": "rgba(0, 0, 0, 1)",
           "hoverformat": ".1f",
           "linewidth": 2,
           "showgrid": false,
           "tickfont": {
            "family": "Arial",
            "size": 15
           },
           "ticklen": 8,
           "ticks": "outside",
           "tickwidth": 2,
           "title": {
            "font": {
             "family": "Arial",
             "size": 15
            }
           },
           "visible": true,
           "zeroline": false,
           "zerolinecolor": "rgba(0, 0, 0, 1)",
           "zerolinewidth": 2
          }
         }
        },
        "width": 800
       }
      },
      "image/png": "[encoded data removed]",
      "text/html": [
       "<div>                            <div id=\"e9d8d881-fe0e-436f-9b6d-23e0b0700fde\" class=\"plotly-graph-div\" style=\"height:800px; width:800px;\"></div>            <script type=\"text/javascript\">                require([\"plotly\"], function(Plotly) {                    window.PLOTLYENV=window.PLOTLYENV || {};                                    if (document.getElementById(\"e9d8d881-fe0e-436f-9b6d-23e0b0700fde\")) {                    Plotly.newPlot(                        \"e9d8d881-fe0e-436f-9b6d-23e0b0700fde\",                        [{\"cells\":{\"align\":\"left\",\"fill\":{\"color\":\"lavender\"},\"values\":[[\"iIPS\",\"sIPS\",\"iPCS\",\"sPCS\",\"mPCS\"],[71.7,59.2,65.1,54.6,65.3],[47.3,43.2,44.8,35.1,44.5],[96.3,81.8,87.8,79.5,91.0]]},\"header\":{\"align\":\"left\",\"fill\":{\"color\":\"paleturquoise\"},\"values\":[\"roi\",\"contralaterality_prct\",\"ci_down\",\"ci_up\"]},\"type\":\"table\"}],                        {\"template\":{\"data\":{\"barpolar\":[{\"marker\":{\"line\":{\"color\":\"rgba(0,0,0,1)\",\"width\":1.5}},\"showlegend\":false,\"type\":\"barpolar\"}],\"pie\":[{\"direction\":\"clockwise\",\"hole\":0.4,\"marker\":{\"line\":{\"width\":0}},\"rotation\":0,\"sort\":false,\"textposition\":[\"inside\",\"none\"],\"type\":\"pie\"}],\"violin\":[{\"box\":{\"visible\":false},\"hoveron\":\"violins\",\"line\":{\"color\":\"rgba(0, 0, 0, 1)\",\"width\":1.5},\"meanline\":{\"visible\":false},\"points\":false,\"showlegend\":false,\"width\":0.8,\"type\":\"violin\"}]},\"layout\":{\"annotationdefaults\":{\"font\":{\"color\":\"rgba(0, 0, 0, 1)\",\"family\":\"Arial\",\"size\":15}},\"font\":{\"family\":\"Arial\",\"size\":15},\"plot_bgcolor\":\"rgba(255, 255, 255, 1)\",\"polar\":{\"angularaxis\":{\"showticklabels\":false,\"ticks\":\"\",\"visible\":false},\"radialaxis\":{\"showticklabels\":false,\"ticks\":\"\",\"visible\":false}},\"xaxis\":{\"color\":\"rgba(0, 0, 0, 1)\",\"hoverformat\":\".1f\",\"linewidth\":2,\"showgrid\":false,\"tickfont\":{\"family\":\"Arial\",\"size\":15},\"ticklen\":8,\"ticks\":\"outside\",\"tickwidth\":2,\"title\":{\"font\":{\"family\":\"Arial\",\"size\":15}},\"visible\":true,\"zeroline\":false,\"zerolinecolor\":\"rgba(0, 0, 0, 1)\",\"zerolinewidth\":2},\"yaxis\":{\"color\":\"rgba(0, 0, 0, 1)\",\"hoverformat\":\".1f\",\"linewidth\":2,\"showgrid\":false,\"tickfont\":{\"family\":\"Arial\",\"size\":15},\"ticklen\":8,\"ticks\":\"outside\",\"tickwidth\":2,\"title\":{\"font\":{\"family\":\"Arial\",\"size\":15}},\"visible\":true,\"zeroline\":false,\"zerolinecolor\":\"rgba(0, 0, 0, 1)\",\"zerolinewidth\":2}}},\"height\":800,\"width\":800},                        {\"responsive\": true}                    ).then(function(){\n",
       "                            \n",
       "var gd = document.getElementById('e9d8d881-fe0e-436f-9b6d-23e0b0700fde');\n",
       "var x = new MutationObserver(function (mutations, observer) {{\n",
       "        var display = window.getComputedStyle(gd).display;\n",
       "        if (!display || display === 'none') {{\n",
       "            console.log([gd, 'removed!']);\n",
       "            Plotly.purge(gd);\n",
       "            observer.disconnect();\n",
       "        }}\n",
       "}});\n",
       "\n",
       "// Listen for the removal of the full notebook cells\n",
       "var notebookContainer = gd.closest('#notebook-container');\n",
       "if (notebookContainer) {{\n",
       "    x.observe(notebookContainer, {childList: true});\n",
       "}}\n",
       "\n",
       "// Listen for the clearing of the current output cell\n",
       "var outputEl = gd.closest('.output');\n",
       "if (outputEl) {{\n",
       "    x.observe(outputEl, {childList: true});\n",
       "}}\n",
       "\n",
       "                        })                };                });            </script>        </div>"
      ]
     },
     "metadata": {},
     "output_type": "display_data"
    }
   ],
   "source": [
    "sub_rois =  ['iIPS', 'sIPS', 'iPCS', 'sPCS', 'mPCS']\n",
    "\n",
    "\n",
    "df_roi = data_contralaterality.loc[data_contralaterality['roi'].isin(sub_rois)]\n",
    "\n",
    "\n",
    "fig = go.Figure()\n",
    "fig.add_trace(go.Table(header=dict(values=list(df_roi.columns), \n",
    "                                   fill_color='paleturquoise', \n",
    "                                   align='left'), \n",
    "                       cells=dict(values=[df_roi[col].round(1) for col in df_roi.columns], \n",
    "                                  fill_color='lavender', \n",
    "                                  align='left')\n",
    "                      ))\n",
    "\n",
    "fig.update_layout(template=fig_template,\n",
    "                  height=800, \n",
    "                  width=800)\n",
    "fig.write_image(\"/Users/uriel/Downloads/contralaterality_table.pdf\".format(subject))\n",
    "fig.show()"
   ]
  },
  {
   "cell_type": "markdown",
   "id": "639b1c0c-1188-4c29-910f-fb4e0c1a0f45",
   "metadata": {
    "tags": []
   },
   "source": [
    "# pRF plots"
   ]
  },
  {
   "cell_type": "markdown",
   "id": "2d5402bb-db6a-4d99-ae7b-0d7e160f5042",
   "metadata": {
    "tags": []
   },
   "source": [
    "## Figures settings"
   ]
  },
  {
   "cell_type": "code",
   "execution_count": 1,
   "id": "526c4433-7f39-4759-9a89-0a6e05182903",
   "metadata": {
    "tags": []
   },
   "outputs": [],
   "source": [
    "plot_groups = [['iIPS', 'sIPS'],['iPCS', 'sPCS', 'mPCS']]\n",
    "fig_width = 1440\n",
    "max_ecc = 15\n",
    "\n",
    "# tresholds\n",
    "ecc_th = [0, 15]\n",
    "size_th= [0.1, 20]\n",
    "rsq_th = [0, 1]\n",
    "pcm_th = [0,20]\n",
    "\n",
    "\n",
    "colormap_dict = {'V1': (243, 231, 155),\n",
    "                 'V2': (250, 196, 132),\n",
    "                 'V3': (248, 160, 126),\n",
    "                 'V3AB': (235, 127, 134),\n",
    "                 'LO': (150, 0, 90), \n",
    "                 'VO': (0, 0, 200),\n",
    "                 'hMT+': (0, 25, 255),\n",
    "                 'iIPS': (0, 152, 255),\n",
    "                 'sIPS': (44, 255, 150),\n",
    "                 'iPCS': (151, 255, 0),\n",
    "                 'sPCS': (255, 234, 0),\n",
    "                 'mPCS': (255, 111, 0)\n",
    "                }\n",
    "roi_colors = ['rgb({},{},{})'.format(*rgb) for rgb in colormap_dict.values()]\n",
    "\n",
    "roi_colors_dict = {'V1': 'rgb(243, 231, 155)', \n",
    "                   'V2': 'rgb(250, 196, 132)', \n",
    "                   'V3': 'rgb(248, 160, 126)', \n",
    "                   'V3AB': 'rgb(235, 127, 134)', \n",
    "                   'LO': 'rgb(150, 0, 90)',  \n",
    "                   'VO': 'rgb(0, 0, 200)', \n",
    "                   'hMT+': 'rgb(0, 25, 255)', \n",
    "                   'iIPS': 'rgb(0, 152, 255)', \n",
    "                   'sIPS': 'rgb(44, 255, 150)', \n",
    "                   'iPCS': 'rgb(151, 255, 0)', \n",
    "                   'sPCS': 'rgb(255, 234, 0)', \n",
    "                   'mPCS': 'rgb(255, 111, 0)'}"
   ]
  },
  {
   "cell_type": "markdown",
   "id": "9319526e-1a05-4a27-b3ee-a42407000c4d",
   "metadata": {
    "tags": []
   },
   "source": [
    "## Ecc size"
   ]
  },
  {
   "cell_type": "code",
   "execution_count": 80,
   "id": "655087f6",
   "metadata": {
    "tags": []
   },
   "outputs": [],
   "source": [
    "def prf_ecc_size_plot(df_ecc_size, fig_width, fig_height, rois, roi_colors, plot_groups, max_ecc):\n",
    "    \"\"\"\n",
    "    Make scatter plot for linear relationship between eccentricity and size\n",
    "\n",
    "    Parameters\n",
    "    ----------\n",
    "    df_ecc_size : A data dataframe\n",
    "    fig_width : figure width in pixels\n",
    "    fig_height : figure height in pixels\n",
    "    rois : list of rois\n",
    "    roi_colors : list of rgb colors for plotly\n",
    "    plot_groups : groups of roi to plot together\n",
    "    max_ecc : maximum eccentricity \n",
    "    \n",
    "    Returns\n",
    "    -------\n",
    "    fig : eccentricy as a function of size plot\n",
    "    \"\"\"\n",
    "    \n",
    "    from maths_utils import weighted_regression\n",
    "\n",
    "    # General figure settings\n",
    "    template_specs = dict(axes_color=\"rgba(0, 0, 0, 1)\",\n",
    "                          axes_width=2,\n",
    "                          axes_font_size=15,\n",
    "                          bg_col=\"rgba(255, 255, 255, 1)\",\n",
    "                          font='Arial',\n",
    "                          title_font_size=15,\n",
    "                          plot_width=1.5)\n",
    "    \n",
    "    # General figure settings\n",
    "    fig_template = plotly_template(template_specs)\n",
    "\n",
    "    # General settings\n",
    "    rows, cols = 1, len(plot_groups)\n",
    "    fig = make_subplots(rows=rows, cols=cols, print_grid=False)\n",
    "    for l, line_label in enumerate(plot_groups):\n",
    "        for j, roi in enumerate(line_label):\n",
    "            \n",
    "            # Parametring colors\n",
    "            roi_color = roi_colors[roi]\n",
    "            roi_color_opac = f\"rgba{roi_color[3:-1]}, 0.15)\"\n",
    "            \n",
    "            # Get data\n",
    "            df = df_ecc_size.loc[(df_ecc_size.roi == roi)]\n",
    "            ecc_median = np.array(df.prf_ecc_bins)\n",
    "            size_median = np.array(df.prf_size_bins_median)\n",
    "            r2_median = np.array(df.prf_loo_r2_bins_median)\n",
    "            size_upper_bound = np.array(df.prf_size_bins_ci_upper_bound)\n",
    "            size_lower_bound = np.array(df.prf_size_bins_ci_lower_bound)\n",
    "            \n",
    "            # Linear regression\n",
    "            slope, intercept = weighted_regression(ecc_median, size_median, r2_median, model='linear')\n",
    "            slope_upper, intercept_upper = weighted_regression(ecc_median[np.where(~np.isnan(size_upper_bound))], \n",
    "                                                               size_upper_bound[~np.isnan(size_upper_bound)], \n",
    "                                                               r2_median[np.where(~np.isnan(size_upper_bound))], \n",
    "                                                               model='linear')\n",
    "            \n",
    "            slope_lower, intercept_lower = weighted_regression(ecc_median[np.where(~np.isnan(size_lower_bound))], \n",
    "                                                               size_lower_bound[~np.isnan(size_lower_bound)], \n",
    "                                                               r2_median[np.where(~np.isnan(size_lower_bound))], \n",
    "                                                               model='linear')\n",
    "\n",
    "            line_x = np.linspace(ecc_median[0], ecc_median[-1], 50)\n",
    "            line = slope * line_x + intercept\n",
    "            line_upper = slope_upper * line_x + intercept_upper\n",
    "            line_lower = slope_lower * line_x + intercept_lower\n",
    "\n",
    "            fig.add_trace(go.Scatter(x=line_x, y=line, mode='lines', name=roi, legendgroup=roi, \n",
    "                                      line=dict(color=roi_color, width=3), showlegend=False), \n",
    "                          row=1, col=l+1)\n",
    "\n",
    "            # Error area\n",
    "            fig.add_trace(go.Scatter(x=np.concatenate([line_x, line_x[::-1]]), \n",
    "                                      y=np.concatenate([list(line_upper), list(line_lower[::-1])]), \n",
    "                                      mode='lines', fill='toself', fillcolor=roi_color_opac, \n",
    "                                      line=dict(color=roi_color_opac, width=0), showlegend=False), \n",
    "                          row=1, col=l+1)\n",
    "\n",
    "            # Markers\n",
    "            fig.add_trace(go.Scatter(x=ecc_median, \n",
    "                                     y=size_median, mode='markers', \n",
    "                                     error_y=dict(type='data', \n",
    "                                                  array=size_upper_bound - size_median, \n",
    "                                                  arrayminus=size_median - size_lower_bound,\n",
    "                                                  visible=True, \n",
    "                                                  thickness=3, \n",
    "                                                  width=0, \n",
    "                                                  color=roi_color),\n",
    "                                      marker=dict(color=roi_color,\n",
    "                                                  symbol='square',\n",
    "                                                  size=8, \n",
    "                                                  line=dict(color=roi_color, \n",
    "                                                            width=3)), \n",
    "                                      showlegend=False), \n",
    "                          row=1, col=l + 1)\n",
    "            \n",
    "            # Add legend\n",
    "            annotation = go.layout.Annotation(x=1, y=max_ecc-j*1.5, text=roi, xanchor='left',\n",
    "                                              showarrow=False, font_color=roi_color, \n",
    "                                              font_family=template_specs['font'],\n",
    "                                              font_size=template_specs['axes_font_size'],\n",
    "                                             )\n",
    "            fig.add_annotation(annotation, row=1, col=l+1)\n",
    "            \n",
    "            \n",
    "        # Set axis titles only for the left-most column and bottom-most row\n",
    "        fig.update_yaxes(title_text='pRF size (dva)', row=1, col=1)\n",
    "        fig.update_xaxes(title_text='pRF eccentricity (dva)', range=[0, max_ecc], showline=True, row=1, col=l+1)\n",
    "        fig.update_yaxes(range=[0, max_ecc], showline=True)\n",
    "        fig.update_layout(height=fig_height, width=fig_width, showlegend=False, template=fig_template,\n",
    "                         margin_l=470, margin_r=470, margin_t=50, margin_b=100)\n",
    "        \n",
    "\n",
    "\n",
    "        \n",
    "    return fig"
   ]
  },
  {
   "cell_type": "code",
   "execution_count": 6,
   "id": "8d46d075-a374-4ab0-9d43-643d373e6dbf",
   "metadata": {
    "tags": []
   },
   "outputs": [],
   "source": [
    "subject = 'group'\n",
    "format_ = '170k'\n",
    "intertask_all_tsv_dir ='{}/{}/derivatives/pp_data/{}/{}/intertask/tsv/tsv_vision_and_pursuit_and_saccade'.format(main_dir, project_dir, subject, format_)\n",
    "\n",
    "df_ecc_size = pd.read_table('{}/{}_vision_and_pursuit_and_saccade_prf_ecc_size_{}.tsv'.format(intertask_all_tsv_dir,subject, suffix))\n"
   ]
  },
  {
   "cell_type": "code",
   "execution_count": 12,
   "id": "1a12edef-b6fc-400d-945b-302ccb0e5995",
   "metadata": {
    "tags": []
   },
   "outputs": [],
   "source": [
    "result = stats.linregress(x=df_ecc_size.prf_ecc_bins,\n",
    "                          y=df_ecc_size.prf_size_bins_median,\n",
    "                          alternative='two-sided')"
   ]
  },
  {
   "cell_type": "code",
   "execution_count": 24,
   "id": "256fed81-5324-4ab3-b280-2a30be64758e",
   "metadata": {
    "tags": []
   },
   "outputs": [
    {
     "ename": "KeyError",
     "evalue": "0",
     "output_type": "error",
     "traceback": [
      "\u001b[0;31m---------------------------------------------------------------------------\u001b[0m",
      "\u001b[0;31mKeyError\u001b[0m                                  Traceback (most recent call last)",
      "Cell \u001b[0;32mIn[24], line 2\u001b[0m\n\u001b[1;32m      1\u001b[0m rois \u001b[38;5;241m=\u001b[39m [\u001b[38;5;124m'\u001b[39m\u001b[38;5;124miIPS\u001b[39m\u001b[38;5;124m'\u001b[39m, \u001b[38;5;124m'\u001b[39m\u001b[38;5;124msIPS\u001b[39m\u001b[38;5;124m'\u001b[39m, \u001b[38;5;124m'\u001b[39m\u001b[38;5;124miPCS\u001b[39m\u001b[38;5;124m'\u001b[39m, \u001b[38;5;124m'\u001b[39m\u001b[38;5;124msPCS\u001b[39m\u001b[38;5;124m'\u001b[39m, \u001b[38;5;124m'\u001b[39m\u001b[38;5;124mmPCS\u001b[39m\u001b[38;5;124m'\u001b[39m]\n\u001b[0;32m----> 2\u001b[0m fig \u001b[38;5;241m=\u001b[39m prf_ecc_size_plot(df_ecc_size\u001b[38;5;241m=\u001b[39mdf_ecc_size, fig_width\u001b[38;5;241m=\u001b[39mfig_width, \n\u001b[1;32m      3\u001b[0m                         fig_height\u001b[38;5;241m=\u001b[39m\u001b[38;5;241m400\u001b[39m, rois\u001b[38;5;241m=\u001b[39mrois, roi_colors\u001b[38;5;241m=\u001b[39mroi_colors_dict,\n\u001b[1;32m      4\u001b[0m                         plot_groups\u001b[38;5;241m=\u001b[39mplot_groups, max_ecc\u001b[38;5;241m=\u001b[39mmax_ecc)\n\u001b[1;32m      6\u001b[0m fig\u001b[38;5;241m.\u001b[39mshow()\n\u001b[1;32m      7\u001b[0m fig\u001b[38;5;241m.\u001b[39mwrite_image(\u001b[38;5;124m\"\u001b[39m\u001b[38;5;124m/Users/uriel/Downloads/\u001b[39m\u001b[38;5;132;01m{}\u001b[39;00m\u001b[38;5;124m_ecc_size.pdf\u001b[39m\u001b[38;5;124m\"\u001b[39m\u001b[38;5;241m.\u001b[39mformat(subject))\n",
      "File \u001b[0;32m~/disks/meso_H/projects/pRF_analysis/RetinoMaps/dev/../../analysis_code/utils/plot_utils.py:639\u001b[0m, in \u001b[0;36mprf_ecc_size_plot\u001b[0;34m(df_ecc_size, fig_width, fig_height, rois, roi_colors, plot_groups, max_ecc)\u001b[0m\n\u001b[1;32m    635\u001b[0m \u001b[38;5;28;01mfor\u001b[39;00m l, line_label \u001b[38;5;129;01min\u001b[39;00m \u001b[38;5;28menumerate\u001b[39m(plot_groups):\n\u001b[1;32m    636\u001b[0m     \u001b[38;5;28;01mfor\u001b[39;00m j, roi \u001b[38;5;129;01min\u001b[39;00m \u001b[38;5;28menumerate\u001b[39m(line_label):\n\u001b[1;32m    637\u001b[0m         \n\u001b[1;32m    638\u001b[0m         \u001b[38;5;66;03m# Parametring colors\u001b[39;00m\n\u001b[0;32m--> 639\u001b[0m         roi_color \u001b[38;5;241m=\u001b[39m roi_colors[j \u001b[38;5;241m+\u001b[39m l \u001b[38;5;241m*\u001b[39m \u001b[38;5;241m3\u001b[39m]\n\u001b[1;32m    640\u001b[0m         roi_color_opac \u001b[38;5;241m=\u001b[39m \u001b[38;5;124mf\u001b[39m\u001b[38;5;124m\"\u001b[39m\u001b[38;5;124mrgba\u001b[39m\u001b[38;5;132;01m{\u001b[39;00mroi_color[\u001b[38;5;241m3\u001b[39m:\u001b[38;5;241m-\u001b[39m\u001b[38;5;241m1\u001b[39m]\u001b[38;5;132;01m}\u001b[39;00m\u001b[38;5;124m, 0.15)\u001b[39m\u001b[38;5;124m\"\u001b[39m\n\u001b[1;32m    642\u001b[0m         \u001b[38;5;66;03m# Get data\u001b[39;00m\n",
      "\u001b[0;31mKeyError\u001b[0m: 0"
     ]
    }
   ],
   "source": [
    "rois = ['iIPS', 'sIPS', 'iPCS', 'sPCS', 'mPCS']\n",
    "fig = prf_ecc_size_plot(df_ecc_size=df_ecc_size, fig_width=fig_width, \n",
    "                        fig_height=400, rois=rois, roi_colors=roi_colors_dict,\n",
    "                        plot_groups=plot_groups, max_ecc=max_ecc)\n",
    "\n",
    "fig.show()\n",
    "fig.write_image(\"/Users/uriel/Downloads/{}_ecc_size.pdf\".format(subject))"
   ]
  },
  {
   "cell_type": "code",
   "execution_count": 23,
   "id": "696bc0bf-d057-4b27-be47-abee624262be",
   "metadata": {
    "tags": []
   },
   "outputs": [],
   "source": [
    "df_stats = pd.DataFrame()\n",
    "# for subject in subjects :\n",
    "for subject in subjects :\n",
    "    intertask_all_tsv_dir ='{}/{}/derivatives/pp_data/{}/{}/intertask/tsv/tsv_vision_and_pursuit_and_saccade'.format(main_dir, project_dir, subject, format_)\n",
    "    tsv_dir ='{}/{}/derivatives/pp_data/{}/{}/prf/tsv'.format(main_dir, project_dir, subject, format_)\n",
    "\n",
    "    df_ecc_size = pd.read_table('{}/{}_vision_and_pursuit_and_saccade_prf_ecc_size_{}.tsv'.format(intertask_all_tsv_dir,subject, suffix))\n",
    "    # for roi in rois: \n",
    "    for roi in ['iIPS', 'sIPS', 'iPCS', 'sPCS', 'mPCS']: \n",
    "        df_stats_roi = pd.DataFrame()\n",
    "        # Get data\n",
    "        df_ecc_size_roi = df_ecc_size.loc[(df_ecc_size.roi == roi)]\n",
    "        \n",
    "        ecc_median = np.array(df_ecc_size_roi.prf_ecc_bins)\n",
    "        size_median = np.array(df_ecc_size_roi.prf_size_bins_median)\n",
    "        r2_median = np.array(df_ecc_size_roi.prf_loo_r2_bins_median)\n",
    "\n",
    "\n",
    "        # Creat model \n",
    "        slope, intercept = weighted_regression(ecc_median, size_median, r2_median, model='linear')\n",
    "        \n",
    "        # Load data\n",
    "        df_pRF = pd.read_table('{}/{}_css-all_derivatives.tsv'.format(tsv_dir,subject))\n",
    "        \n",
    "        # Threshold data (replace by nan)\n",
    "        if stats_threshold == 0.05: stats_col = 'corr_pvalue_5pt'\n",
    "        elif stats_threshold == 0.01: stats_col = 'corr_pvalue_1pt'\n",
    "        df_pRF.loc[(df_pRF.amplitude < amplitude_threshold) |\n",
    "                 (df_pRF.prf_ecc < ecc_threshold[0]) | (df_pRF.prf_ecc > ecc_threshold[1]) |\n",
    "                 (df_pRF.prf_size < size_threshold[0]) | (df_pRF.prf_size > size_threshold[1]) | \n",
    "                 (df_pRF.prf_n < n_threshold[0]) | (df_pRF.prf_n > n_threshold[1]) | \n",
    "                 (df_pRF.prf_loo_r2 < rsqr_threshold) |\n",
    "                 (df_pRF[stats_col] > stats_threshold)] = np.nan\n",
    "        df_pRF = df_pRF.dropna()\n",
    "        \n",
    "        \n",
    "        df_pRF_roi = df_pRF.loc[(df_pRF.roi == roi)]\n",
    "        \n",
    "        pred_size_roi = df_pRF_roi.prf_ecc * slope + intercept \n",
    "        \n",
    "        # mask for nan\n",
    "        mask = ~df_pRF_roi.prf_size.isna() & ~pred_size_roi.isna()\n",
    "\n",
    "        # linear regression between model and data \n",
    "        results = stats.linregress(x=pred_size_roi[mask], y=df_pRF_roi.prf_size[mask], alternative='greater')\n",
    "        \n",
    "        df_stats_roi['subject'] = [subject]\n",
    "        df_stats_roi['roi'] = [roi]\n",
    "        df_stats_roi['rvalue'] = [results.rvalue]\n",
    "        df_stats_roi['pvalue'] = [results.pvalue]\n",
    "        \n",
    "        df_stats = pd.concat([df_stats, df_stats_roi])\n",
    "        "
   ]
  },
  {
   "cell_type": "code",
   "execution_count": 24,
   "id": "3db5899d-35f1-40ec-ac3e-62466921ac48",
   "metadata": {
    "tags": []
   },
   "outputs": [],
   "source": [
    "fig = go.Figure()\n",
    "fig.add_trace(go.Table(header=dict(values=list(df_stats.columns), \n",
    "                                   fill_color='paleturquoise', \n",
    "                                   align='left'), \n",
    "                       cells=dict(values=[df_stats[col].round(3) for col in df_stats.columns], \n",
    "                                  fill_color='lavender', \n",
    "                                  align='left')\n",
    "                      ))\n",
    "\n",
    "fig.update_layout(template=fig_template,\n",
    "                  height=2500, \n",
    "                  width=1200)\n",
    "fig.write_image(\"/Users/uriel/Downloads/ecc_size_stats2.pdf\".format(subject))\n",
    "# fig.show()\n"
   ]
  },
  {
   "cell_type": "code",
   "execution_count": 62,
   "id": "05eed556-a339-41ae-b4a5-78fc85e763bb",
   "metadata": {
    "tags": []
   },
   "outputs": [
    {
     "name": "stdout",
     "output_type": "stream",
     "text": [
      "ecc / size relation signifante subjects\n",
      "iIPS\n",
      "all p-value inferior to 1.141755555904516e-16\n",
      "r interval : 0.21 0.68\n",
      "sIPS\n",
      "all p-value inferior to 1.0354895733876582e-46\n",
      "r interval : 0.3 0.7\n",
      "iPCS\n",
      "all p-value inferior to 1.0943433387775678e-18\n",
      "r interval : 0.25 0.75\n",
      "sPCS\n",
      "all p-value inferior to 3.1273594774989264e-26\n",
      "r interval : 0.26 0.71\n",
      "mPCS\n",
      "all p-value inferior to 1.4809249264991066e-15\n",
      "r interval : 0.33 0.73\n"
     ]
    }
   ],
   "source": [
    "print('ecc / size relation signifante subjects')\n",
    "for roi in ['iIPS', 'sIPS', 'iPCS', 'sPCS', 'mPCS'] : \n",
    "    df_stats_roi_significant = df_stats.loc[(df_stats['roi']==roi)&(df_stats['pvalue'] < 0.01)]\n",
    "    \n",
    "    print('{}'. format(roi))\n",
    "    print('all p-value inferior to {}'.format(df_stats_roi_significant['pvalue'].max()))\n",
    "    print('r interval : {} {}'.format(df_stats_roi_significant['rvalue'].min().round(2), df_stats_roi_significant['rvalue'].max().round(2)))\n"
   ]
  },
  {
   "cell_type": "code",
   "execution_count": 80,
   "id": "5d4ef75d-3ca0-4459-b675-fc7d110fe174",
   "metadata": {
    "tags": []
   },
   "outputs": [
    {
     "name": "stdout",
     "output_type": "stream",
     "text": [
      "ecc / size relation non signifante subjects\n",
      "iIPS\n",
      "1 subject(s) is / are not significative : (['sub-11'])\n",
      "all p-value superior to 0.2547203629260645\n",
      "r interval : 0.01 0.01\n",
      "sIPS\n",
      "1 subject(s) is / are not significative : (['sub-11'])\n",
      "all p-value superior to 0.0204775472614259\n",
      "r interval : 0.04 0.04\n",
      "iPCS: no subject non significant\n",
      "sPCS\n",
      "1 subject(s) is / are not significative : (['sub-11'])\n",
      "all p-value superior to 0.5387522755454627\n",
      "r interval : -0.0 -0.0\n",
      "mPCS: no subject non significant\n"
     ]
    }
   ],
   "source": [
    "print('ecc / size relation non signifante subjects')\n",
    "for roi in ['iIPS', 'sIPS', 'iPCS', 'sPCS', 'mPCS']:\n",
    "    df_stats_roi_significant = df_stats.loc[(df_stats['roi'] == roi) & (df_stats['pvalue'] > 0.01)]\n",
    "    \n",
    "    if df_stats_roi_significant.empty:\n",
    "        print('{}: no subject non significant'.format(roi))\n",
    "        continue  # Passer à l'itération suivante si df_stats_roi_significant est vide\n",
    "    \n",
    "    print('{}'.format(roi))\n",
    "    print('{} subject(s) is / are not significative : ({})'.format(df_stats_roi_significant['subject'].shape[0] , df_stats_roi_significant['subject'].values))\n",
    "    print('all p-value superior to {}'.format(df_stats_roi_significant['pvalue'].min()))\n",
    "    print('r interval : {} {}'.format(df_stats_roi_significant['rvalue'].min().round(2), df_stats_roi_significant['rvalue'].max().round(2)))\n"
   ]
  },
  {
   "cell_type": "markdown",
   "id": "b258cdd9-0624-4166-b760-95472a1318e1",
   "metadata": {
    "tags": []
   },
   "source": [
    "## Ecc pRF CM"
   ]
  },
  {
   "cell_type": "code",
   "execution_count": 32,
   "id": "535a517e",
   "metadata": {
    "tags": []
   },
   "outputs": [],
   "source": [
    "def prf_ecc_pcm_plot(df_ecc_pcm, fig_width, fig_height, rois, roi_colors, plot_groups, max_ecc):\n",
    "    \"\"\"\n",
    "    Make scatter plot for relationship between eccentricity and pCM\n",
    "\n",
    "    Parameters\n",
    "    ----------\n",
    "    df_ecc_pcm : dataframe for the plot\n",
    "    fig_width : figure width in pixels\n",
    "    fig_height : figure height in pixels\n",
    "    rois : list of rois\n",
    "    roi_colors : list of rgb colors for plotly\n",
    "    plot_groups : groups of roi to plot together\n",
    "    max_ecc : maximum eccentricity\n",
    "    \n",
    "    Returns\n",
    "    -------\n",
    "    fig : eccentricy as a function of pcm plot\n",
    "    \"\"\"\n",
    "\n",
    "    from maths_utils import weighted_regression\n",
    "    \n",
    "    # General figure settings\n",
    "    template_specs = dict(axes_color=\"rgba(0, 0, 0, 1)\",\n",
    "                          axes_width=2,\n",
    "                          axes_font_size=15,\n",
    "                          bg_col=\"rgba(255, 255, 255, 1)\",\n",
    "                          font='Arial',\n",
    "                          title_font_size=15,\n",
    "                          plot_width=1.5)\n",
    "    \n",
    "    # General figure settings\n",
    "    fig_template = plotly_template(template_specs)\n",
    "\n",
    "    # General settings\n",
    "    rows, cols = 1, len(plot_groups)\n",
    "    fig = make_subplots(rows=rows, cols=cols, print_grid=False)\n",
    "    for l, line_label in enumerate(plot_groups):\n",
    "        for j, roi in enumerate(line_label):\n",
    "\n",
    "            # Parametring colors\n",
    "            roi_color = roi_colors[roi]\n",
    "            roi_color_opac = f\"rgba{roi_color[3:-1]}, 0.15)\"\n",
    "            \n",
    "            # Get data\n",
    "            df = df_ecc_pcm.loc[(df_ecc_pcm.roi == roi)]\n",
    "            ecc_median = np.array(df.prf_ecc_bins)\n",
    "            pcm_median = np.array(df.prf_pcm_bins_median)\n",
    "            r2_median = np.array(df.prf_loo_r2_bins_median)\n",
    "            pcm_upper_bound = np.array(df.prf_pcm_bins_ci_upper_bound)\n",
    "            pcm_lower_bound = np.array(df.prf_pcm_bins_ci_lower_bound)\n",
    "            \n",
    "            # Linear regression\n",
    "            slope, intercept = weighted_regression(ecc_median, pcm_median, r2_median, model='pcm')\n",
    "            \n",
    "            slope_upper, intercept_upper = weighted_regression(ecc_median[~np.isnan(pcm_upper_bound)], \n",
    "                                                               pcm_upper_bound[~np.isnan(pcm_upper_bound)], \n",
    "                                                               r2_median[~np.isnan(pcm_upper_bound)], \n",
    "                                                               model='pcm')\n",
    "            \n",
    "            slope_lower, intercept_lower = weighted_regression(ecc_median[~np.isnan(pcm_lower_bound)], \n",
    "                                                               pcm_lower_bound[~np.isnan(pcm_lower_bound)], \n",
    "                                                               r2_median[~np.isnan(pcm_lower_bound)], \n",
    "                                                               model='pcm')\n",
    "\n",
    "            line_x = np.linspace(ecc_median[0], ecc_median[-1], 50)\n",
    "            line = 1 / (slope * line_x + intercept)\n",
    "            line_upper = 1 / (slope_upper * line_x + intercept_upper)\n",
    "            line_lower = 1 / (slope_lower * line_x + intercept_lower)\n",
    "\n",
    "            fig.add_trace(go.Scatter(x=line_x, \n",
    "                                     y=line, \n",
    "                                     mode='lines', \n",
    "                                     name=roi, \n",
    "                                     legendgroup=roi, \n",
    "                                     line=dict(color=roi_color, width=3), \n",
    "                                     showlegend=False), \n",
    "                          row=1, col=l+1)\n",
    "\n",
    "            # Error area\n",
    "            fig.add_trace(go.Scatter(x=np.concatenate([line_x, line_x[::-1]]),\n",
    "                                      y=np.concatenate([list(line_upper), list(line_lower[::-1])]), \n",
    "                                      mode='lines', fill='toself', fillcolor=roi_color_opac, \n",
    "                                      line=dict(color=roi_color_opac, width=0), showlegend=False), \n",
    "                          row=1, col=l+1)\n",
    "\n",
    "            # Markers\n",
    "            fig.add_trace(go.Scatter(x=ecc_median, \n",
    "                                     y=pcm_median, \n",
    "                                     mode='markers', \n",
    "                                     error_y=dict(type='data', \n",
    "                                                  array=pcm_upper_bound - pcm_median, \n",
    "                                                  arrayminus=pcm_median - pcm_lower_bound,\n",
    "                                                  visible=True, \n",
    "                                                  thickness=3, \n",
    "                                                  width=0, \n",
    "                                                  color=roi_color),\n",
    "                                     marker=dict(color=roi_color, \n",
    "                                                 symbol='square',\n",
    "                                                 size=8, line=dict(color=roi_color,\n",
    "                                                                   width=3)), \n",
    "                                     showlegend=False), \n",
    "                          row=1, col=l + 1)\n",
    "            \n",
    "            # Add legend\n",
    "            annotation = go.layout.Annotation(x=12, y=(20)-j*2, text=roi, xanchor='left',\n",
    "                                              showarrow=False, font_color=roi_color, \n",
    "                                              font_family=template_specs['font'],\n",
    "                                              font_size=template_specs['axes_font_size'],\n",
    "                                             )\n",
    "            fig.add_annotation(annotation, row=1, col=l+1)\n",
    "        \n",
    "\n",
    "        # Set axis titles only for the left-most column and bottom-most row\n",
    "        fig.update_yaxes(title_text='pRF cortical magn. (mm/dva)', row=1, col=1)\n",
    "        fig.update_xaxes(title_text='pRF eccentricity (dva)', range=[0, max_ecc], showline=True, row=1, col=l+1)\n",
    "        fig.update_yaxes(range=[0, 15], showline=True)\n",
    "        fig.update_layout(height=fig_height, width=fig_width, showlegend=False, template=fig_template,\n",
    "                         margin_l=470, margin_r=470, margin_t=50, margin_b=100)\n",
    "        \n",
    "    return fig"
   ]
  },
  {
   "cell_type": "code",
   "execution_count": 34,
   "id": "2319ff40-fe54-4cac-9b36-0a9addd93776",
   "metadata": {
    "tags": []
   },
   "outputs": [],
   "source": [
    "df_ecc_pcm = pd.read_table('{}/{}_vision_and_pursuit_and_saccade_prf_ecc_pcm_{}.tsv'.format(intertask_all_tsv_dir,subject, suffix))"
   ]
  },
  {
   "cell_type": "code",
   "execution_count": 36,
   "id": "4616b310-e929-4680-9b95-b0dfa713ac59",
   "metadata": {
    "tags": []
   },
   "outputs": [
    {
     "data": {
      "application/vnd.plotly.v1+json": {
       "config": {
        "plotlyServerURL": "https://plot.ly"
       },
       "data": [
        {
         "legendgroup": "iIPS",
         "line": {
          "color": "rgb(0, 152, 255)",
          "width": 3
         },
         "mode": "lines",
         "name": "iIPS",
         "showlegend": false,
         "type": "scatter",
         "x": [
          0.7450379431247711,
          0.9934809645827936,
          1.241923986040816,
          1.4903670074988387,
          1.738810028956861,
          1.9872530504148835,
          2.235696071872906,
          2.4841390933309286,
          2.732582114788951,
          2.9810251362469735,
          3.229468157704996,
          3.4779111791630184,
          3.7263542006210413,
          3.9747972220790637,
          4.223240243537086,
          4.471683264995109,
          4.720126286453131,
          4.968569307911154,
          5.217012329369176,
          5.465455350827199,
          5.713898372285221,
          5.962341393743244,
          6.210784415201266,
          6.459227436659289,
          6.707670458117311,
          6.956113479575333,
          7.204556501033356,
          7.452999522491378,
          7.701442543949401,
          7.949885565407423,
          8.198328586865447,
          8.446771608323468,
          8.695214629781491,
          8.943657651239514,
          9.192100672697537,
          9.440543694155558,
          9.68898671561358,
          9.937429737071604,
          10.185872758529626,
          10.434315779987648,
          10.68275880144567,
          10.931201822903693,
          11.179644844361716,
          11.42808786581974,
          11.67653088727776,
          11.924973908735783,
          12.173416930193806,
          12.421859951651829,
          12.670302973109852,
          12.918745994567873
         ],
         "xaxis": "x",
         "y": [
          9.125745099563636,
          8.345932549379665,
          7.688901095409884,
          7.127769243247913,
          6.642968954247374,
          6.219916888161413,
          5.847522200564586,
          5.517200100634973,
          5.2222018723973616,
          4.957148924667825,
          4.717701882770267,
          4.500321165152055,
          4.302090836785076,
          4.120587051966115,
          3.953778451116228,
          3.799949808996868,
          3.65764283903318,
          3.5256098186550817,
          3.4027769088494333,
          3.288214883283587,
          3.18111557765828,
          3.080772796246781,
          2.9865667215550644,
          2.8979510995054456,
          2.8144426402798928,
          2.7356122004101984,
          2.661077406390655,
          2.590496452174188,
          2.523562858235233,
          2.460001022664209,
          2.3995624280802383,
          2.342022394279306,
          2.287177287158214,
          2.2348421108308485,
          2.1848484229323466,
          2.1370425236102344,
          2.0912838771809823,
          2.0474437323099814,
          2.0054039121812064,
          1.9650557507155468,
          1.9262991546742902,
          1.8890417746041661,
          1.8531982701674936,
          1.818689657554548,
          1.7854427284744991,
          1.7533895317298136,
          1.7224669096480996,
          1.6926160827165402,
          1.6637822766709727,
          1.635914387061894
         ],
         "yaxis": "y"
        },
        {
         "fill": "toself",
         "fillcolor": "rgba(0, 152, 255, 0.15)",
         "line": {
          "color": "rgba(0, 152, 255, 0.15)",
          "width": 0
         },
         "mode": "lines",
         "showlegend": false,
         "type": "scatter",
         "x": [
          0.7450379431247711,
          0.9934809645827936,
          1.241923986040816,
          1.4903670074988387,
          1.738810028956861,
          1.9872530504148835,
          2.235696071872906,
          2.4841390933309286,
          2.732582114788951,
          2.9810251362469735,
          3.229468157704996,
          3.4779111791630184,
          3.7263542006210413,
          3.9747972220790637,
          4.223240243537086,
          4.471683264995109,
          4.720126286453131,
          4.968569307911154,
          5.217012329369176,
          5.465455350827199,
          5.713898372285221,
          5.962341393743244,
          6.210784415201266,
          6.459227436659289,
          6.707670458117311,
          6.956113479575333,
          7.204556501033356,
          7.452999522491378,
          7.701442543949401,
          7.949885565407423,
          8.198328586865447,
          8.446771608323468,
          8.695214629781491,
          8.943657651239514,
          9.192100672697537,
          9.440543694155558,
          9.68898671561358,
          9.937429737071604,
          10.185872758529626,
          10.434315779987648,
          10.68275880144567,
          10.931201822903693,
          11.179644844361716,
          11.42808786581974,
          11.67653088727776,
          11.924973908735783,
          12.173416930193806,
          12.421859951651829,
          12.670302973109852,
          12.918745994567873,
          12.918745994567873,
          12.670302973109852,
          12.421859951651829,
          12.173416930193806,
          11.924973908735783,
          11.67653088727776,
          11.42808786581974,
          11.179644844361716,
          10.931201822903693,
          10.68275880144567,
          10.434315779987648,
          10.185872758529626,
          9.937429737071604,
          9.68898671561358,
          9.440543694155558,
          9.192100672697537,
          8.943657651239514,
          8.695214629781491,
          8.446771608323468,
          8.198328586865447,
          7.949885565407423,
          7.701442543949401,
          7.452999522491378,
          7.204556501033356,
          6.956113479575333,
          6.707670458117311,
          6.459227436659289,
          6.210784415201266,
          5.962341393743244,
          5.713898372285221,
          5.465455350827199,
          5.217012329369176,
          4.968569307911154,
          4.720126286453131,
          4.471683264995109,
          4.223240243537086,
          3.9747972220790637,
          3.7263542006210413,
          3.4779111791630184,
          3.229468157704996,
          2.9810251362469735,
          2.732582114788951,
          2.4841390933309286,
          2.235696071872906,
          1.9872530504148835,
          1.738810028956861,
          1.4903670074988387,
          1.241923986040816,
          0.9934809645827936,
          0.7450379431247711
         ],
         "xaxis": "x",
         "y": [
          11.385298019424356,
          10.357378357488855,
          9.499699620753635,
          8.773203955003682,
          8.149932594592403,
          7.6093448310978635,
          7.136010837918258,
          6.718115165119862,
          6.346456970398767,
          6.013764707786522,
          5.714215630852777,
          5.4430920852807185,
          5.196531216875927,
          4.971339757931917,
          4.764854970728052,
          4.5748388633625865,
          4.399396746112811,
          4.236913835541844,
          4.0860054066382885,
          3.9454772313282622,
          3.8142939092759085,
          3.691553313204466,
          3.576465814358111,
          3.4683372764669262,
          3.3665550440784613,
          3.270576327681147,
          3.1799185205592466,
          3.0941510826663463,
          3.0128887034326675,
          2.935785514400801,
          2.862530168318543,
          2.792841637031064,
          2.726465608589063,
          2.6631713861983717,
          2.6027492093103475,
          2.545007931297521,
          2.4897729995411018,
          2.436884692963034,
          2.3861965795180153,
          2.3375741622713124,
          2.290893687700474,
          2.2460410939880706,
          2.202911080488029,
          2.16140628238445,
          2.1214365369260166,
          2.0829182295970123,
          2.045773710246436,
          2.0099307705953,
          1.9753221757241195,
          1.9418852431443958,
          1.3676311416781177,
          1.3908510197905661,
          1.4148729779720661,
          1.439739305784095,
          1.4654953189207003,
          1.492189634816811,
          1.5198744789369962,
          1.5486060258045238,
          1.5784447794563874,
          1.609455998746432,
          1.641710173788001,
          1.6752835608568148,
          1.7102587842974863,
          1.74672551543439,
          1.784781240230691,
          1.8245321295318093,
          1.86609402825106,
          1.9095935829056676,
          1.9551695306170536,
          2.002974177210437,
          2.053175097589776,
          2.105957098387045,
          2.161524491328118,
          2.220103736260124,
          2.2819465259208243,
          2.3473334010537124,
          2.416578005382496,
          2.4900321165887496,
          2.5680916235801003,
          2.651203664424852,
          2.739875196688664,
          2.834683347132075,
          2.9362879872170327,
          3.0454471136474988,
          3.1630357920862493,
          3.2900696657780872,
          3.4277343661287487,
          3.577422629397551,
          3.7407815827404685,
          3.919773605744308,
          4.116755542953735,
          4.334583064359952,
          4.576750008715117,
          4.847577200326982,
          5.152472521272252,
          5.498295716632965,
          5.89388067922092,
          6.350800673390533,
          6.8845194134646315,
          7.516175812582111
         ],
         "yaxis": "y"
        },
        {
         "error_y": {
          "array": [
           1.967447280883789,
           1.8982782363891602,
           1.402831792831421,
           0.4946492910385132,
           0.34619939327240035,
           0.29228442907333374
          ],
          "arrayminus": [
           1.3613917827606201,
           1.4117927551269531,
           1.1216373443603516,
           0.5040159225463867,
           0.3093937039375305,
           0.20359379053115845
          ],
          "color": "rgb(0, 152, 255)",
          "thickness": 3,
          "type": "data",
          "visible": true,
          "width": 0
         },
         "marker": {
          "color": "rgb(0, 152, 255)",
          "line": {
           "color": "rgb(0, 152, 255)",
           "width": 3
          },
          "size": 8,
          "symbol": "square"
         },
         "mode": "markers",
         "showlegend": false,
         "type": "scatter",
         "x": [
          0.7450379431247711,
          1.6802224516868591,
          3.278223752975464,
          5.765391111373901,
          9.082697868347168,
          12.918745994567873
         ],
         "xaxis": "x",
         "y": [
          8.73705530166626,
          7.148244857788086,
          5.081848382949829,
          3.232075333595276,
          2.1134192943573,
          1.5037317276000977
         ],
         "yaxis": "y"
        },
        {
         "legendgroup": "sIPS",
         "line": {
          "color": "rgb(44, 255, 150)",
          "width": 3
         },
         "mode": "lines",
         "name": "sIPS",
         "showlegend": false,
         "type": "scatter",
         "x": [
          0.7520904242992401,
          1.001044176062759,
          1.249997927826278,
          1.498951679589797,
          1.747905431353316,
          1.996859183116835,
          2.245812934880354,
          2.4947666866438727,
          2.743720438407392,
          2.992674190170911,
          3.24162794193443,
          3.4905816936979486,
          3.7395354454614678,
          3.988489197224987,
          4.237442948988505,
          4.4863967007520245,
          4.735350452515544,
          4.984304204279063,
          5.233257956042582,
          5.4822117078061,
          5.7311654595696195,
          5.980119211333139,
          6.229072963096657,
          6.478026714860176,
          6.726980466623695,
          6.975934218387215,
          7.224887970150734,
          7.473841721914252,
          7.722795473677771,
          7.9717492254412905,
          8.220702977204809,
          8.469656728968328,
          8.718610480731847,
          8.967564232495366,
          9.216517984258886,
          9.465471736022405,
          9.714425487785924,
          9.963379239549441,
          10.21233299131296,
          10.46128674307648,
          10.710240494839999,
          10.959194246603518,
          11.208147998367037,
          11.457101750130557,
          11.706055501894074,
          11.955009253657593,
          12.203963005421112,
          12.452916757184632,
          12.70187050894815,
          12.95082426071167
         ],
         "xaxis": "x",
         "y": [
          7.8628100005677375,
          7.251004666956376,
          6.727535086998799,
          6.274557836795799,
          5.878732048651684,
          5.529883485018047,
          5.220117617514967,
          4.943214987811778,
          4.6942093142368995,
          4.469086995979944,
          4.264569126442252,
          4.077950741419754,
          3.9069805049143462,
          3.749769442525181,
          3.6047208570902844,
          3.470475904577711,
          3.345870894334103,
          3.22990346913833,
          3.121705582820596,
          3.0205217331404812,
          2.925691294987825,
          2.8366340802178027,
          2.7528384569051925,
          2.6738515139575716,
          2.599270871734942,
          2.5287378260169837,
          2.461931578739712,
          2.3985643596963997,
          2.3383772827042444,
          2.2811368103853438,
          2.226631725767107,
          2.174670527911303,
          2.1250791838846914,
          2.077699181457191,
          2.032385836616791,
          1.9890068178297626,
          1.9474408553395748,
          1.9075766089902517,
          1.869311672314767,
          1.8325516941309334,
          1.7972096017812684,
          1.763204912554514,
          1.730463121826407,
          1.698915158129051,
          1.668496896760615,
          1.6391487247274645,
          1.6108151508075557,
          1.5834444553682474,
          1.5569883752890312,
          1.531401819950936
         ],
         "yaxis": "y"
        },
        {
         "fill": "toself",
         "fillcolor": "rgba(44, 255, 150, 0.15)",
         "line": {
          "color": "rgba(44, 255, 150, 0.15)",
          "width": 0
         },
         "mode": "lines",
         "showlegend": false,
         "type": "scatter",
         "x": [
          0.7520904242992401,
          1.001044176062759,
          1.249997927826278,
          1.498951679589797,
          1.747905431353316,
          1.996859183116835,
          2.245812934880354,
          2.4947666866438727,
          2.743720438407392,
          2.992674190170911,
          3.24162794193443,
          3.4905816936979486,
          3.7395354454614678,
          3.988489197224987,
          4.237442948988505,
          4.4863967007520245,
          4.735350452515544,
          4.984304204279063,
          5.233257956042582,
          5.4822117078061,
          5.7311654595696195,
          5.980119211333139,
          6.229072963096657,
          6.478026714860176,
          6.726980466623695,
          6.975934218387215,
          7.224887970150734,
          7.473841721914252,
          7.722795473677771,
          7.9717492254412905,
          8.220702977204809,
          8.469656728968328,
          8.718610480731847,
          8.967564232495366,
          9.216517984258886,
          9.465471736022405,
          9.714425487785924,
          9.963379239549441,
          10.21233299131296,
          10.46128674307648,
          10.710240494839999,
          10.959194246603518,
          11.208147998367037,
          11.457101750130557,
          11.706055501894074,
          11.955009253657593,
          12.203963005421112,
          12.452916757184632,
          12.70187050894815,
          12.95082426071167,
          12.95082426071167,
          12.70187050894815,
          12.452916757184632,
          12.203963005421112,
          11.955009253657593,
          11.706055501894074,
          11.457101750130557,
          11.208147998367037,
          10.959194246603518,
          10.710240494839999,
          10.46128674307648,
          10.21233299131296,
          9.963379239549441,
          9.714425487785924,
          9.465471736022405,
          9.216517984258886,
          8.967564232495366,
          8.718610480731847,
          8.469656728968328,
          8.220702977204809,
          7.9717492254412905,
          7.722795473677771,
          7.473841721914252,
          7.224887970150734,
          6.975934218387215,
          6.726980466623695,
          6.478026714860176,
          6.229072963096657,
          5.980119211333139,
          5.7311654595696195,
          5.4822117078061,
          5.233257956042582,
          4.984304204279063,
          4.735350452515544,
          4.4863967007520245,
          4.237442948988505,
          3.988489197224987,
          3.7395354454614678,
          3.4905816936979486,
          3.24162794193443,
          2.992674190170911,
          2.743720438407392,
          2.4947666866438727,
          2.245812934880354,
          1.996859183116835,
          1.747905431353316,
          1.498951679589797,
          1.249997927826278,
          1.001044176062759,
          0.7520904242992401
         ],
         "xaxis": "x",
         "y": [
          10.534167136234199,
          9.553852081828136,
          8.740460314111653,
          8.054702501454114,
          7.468722515130844,
          6.962220635972636,
          6.520054038408385,
          6.130697023550995,
          5.785221863123732,
          5.476605848216878,
          5.199248900769092,
          4.948630699826763,
          4.721062412385571,
          4.513503914203369,
          4.323427194778093,
          4.148712882030472,
          3.987570881771378,
          3.8384788205272637,
          3.700133800089821,
          3.571414222189052,
          3.451349313506066,
          3.339094597857356,
          3.233912004185317,
          3.135153619365451,
          3.0422483297718057,
          2.9546907696204725,
          2.8720321243598925,
          2.7938724357243485,
          2.719854129964789,
          2.649656548271363,
          2.582991302881968,
          2.5195983170261815,
          2.459242434037741,
          2.401710502428975,
          2.3468088607657953,
          2.294361159798596,
          2.2442064702421956,
          2.196197633429927,
          2.1501998192340537,
          2.106089261488583,
          2.0637521459370967,
          2.023083629665879,
          1.9839869742354186,
          1.9463727774211081,
          1.910158290719996,
          1.875266811657194,
          1.841627141499339,
          1.8091731003066638,
          1.7778430923730202,
          1.7475797160497526,
          1.299173653072473,
          1.3202962513862098,
          1.3421170442796735,
          1.36467123109196,
          1.3879964176938886,
          1.4121328257285708,
          1.4371235240697224,
          1.4630146852996406,
          1.489855870420004,
          1.5177003454890758,
          1.5466054344416476,
          1.5766329130091619,
          1.6078494494363527,
          1.6403270986112493,
          1.674143857316674,
          1.7093842896094198,
          1.7461402328825169,
          1.784511597021647,
          1.8246072712976413,
          1.8665461563293784,
          1.91045834171384,
          1.9564864538899438,
          2.0047872036546597,
          2.0555331687071647,
          2.1089148539463656,
          2.1651430813603283,
          2.224451772706048,
          2.28710120241735,
          2.3533818161320093,
          2.4236187330048247,
          2.498177079054912,
          2.577468336184335,
          2.661957939924564,
          2.752174422155394,
          2.848720478178921,
          2.9522864478715247,
          3.063666848442398,
          3.1837807962864146,
          3.3136974288137893,
          3.4546678152098216,
          3.6081653743345248,
          3.775937568712475,
          3.960072723795253,
          4.163087400317571,
          4.388042093930324,
          4.638696588919629,
          4.919721782498752,
          5.236993472089771,
          5.59800765664931,
          6.012480329757599
         ],
         "yaxis": "y"
        },
        {
         "error_y": {
          "array": [
           2.739206314086916,
           1.5918443202972412,
           0.8931488990783691,
           0.505622506141663,
           0.361391961574554,
           0.2279011607170105
          ],
          "arrayminus": [
           1.8708539009094238,
           1.111849069595337,
           1.1197230815887442,
           0.46261870861053467,
           0.2705415487289433,
           0.2137383222579956
          ],
          "color": "rgb(44, 255, 150)",
          "thickness": 3,
          "type": "data",
          "visible": true,
          "width": 0
         },
         "marker": {
          "color": "rgb(44, 255, 150)",
          "line": {
           "color": "rgb(44, 255, 150)",
           "width": 3
          },
          "size": 8,
          "symbol": "square"
         },
         "mode": "markers",
         "showlegend": false,
         "type": "scatter",
         "x": [
          0.7520904242992401,
          1.6297069787979126,
          3.254819869995117,
          5.7784507274627686,
          9.119778633117676,
          12.95082426071167
         ],
         "xaxis": "x",
         "y": [
          7.818614959716797,
          6.032086610794067,
          4.4623777866363525,
          2.878165602684021,
          2.011733949184418,
          1.4966360330581665
         ],
         "yaxis": "y"
        },
        {
         "legendgroup": "iPCS",
         "line": {
          "color": "rgb(151, 255, 0)",
          "width": 3
         },
         "mode": "lines",
         "name": "iPCS",
         "showlegend": false,
         "type": "scatter",
         "x": [
          0.7975650131702423,
          1.0496344955600039,
          1.3017039779497654,
          1.5537734603395268,
          1.8058429427292884,
          2.05791242511905,
          2.3099819075088113,
          2.562051389898573,
          2.8141208722883344,
          3.066190354678096,
          3.3182598370678575,
          3.570329319457619,
          3.8223988018473802,
          4.074468284237142,
          4.326537766626903,
          4.578607249016665,
          4.8306767314064265,
          5.082746213796188,
          5.33481569618595,
          5.586885178575711,
          5.838954660965473,
          6.091024143355234,
          6.343093625744996,
          6.5951631081347575,
          6.847232590524518,
          7.09930207291428,
          7.351371555304041,
          7.603441037693803,
          7.855510520083564,
          8.107580002473327,
          8.359649484863088,
          8.611718967252848,
          8.86378844964261,
          9.115857932032371,
          9.367927414422134,
          9.619996896811895,
          9.872066379201657,
          10.124135861591418,
          10.37620534398118,
          10.62827482637094,
          10.880344308760703,
          11.132413791150464,
          11.384483273540226,
          11.636552755929987,
          11.88862223831975,
          12.14069172070951,
          12.392761203099273,
          12.644830685489033,
          12.896900167878794,
          13.148969650268556
         ],
         "xaxis": "x2",
         "y": [
          2.2406933601786405,
          2.2127446688478445,
          2.1854846091560365,
          2.158888039897917,
          2.1329310289916372,
          2.1075907816539607,
          2.082845573635184,
          2.058674689102817,
          2.035058362800702,
          2.011977726144157,
          1.9894147569421545,
          1.9673522324649735,
          1.9457736856004686,
          1.9246633638643815,
          1.9040061910502843,
          1.8837877313229254,
          1.8639941555752846,
          1.84461220988455,
          1.8256291859158296,
          1.8070328931347095,
          1.7888116327009846,
          1.7709541729260825,
          1.7534497261859863,
          1.736287927189939,
          1.719458812512944,
          1.7029528013071351,
          1.6867606771135562,
          1.6708735707017952,
          1.6552829438703456,
          1.6399805741455136,
          1.6249585403212665,
          1.610209208786587,
          1.5957252205907468,
          1.581499479200454,
          1.5675251389060731,
          1.5537955938371322,
          1.5403044675500739,
          1.5270456031537807,
          1.5140130539407364,
          1.5012010744938815,
          1.4886041122412135,
          1.4762167994320556,
          1.4640339455106315,
          1.4520505298641846,
          1.4402616949243534,
          1.42866273960189,
          1.4172491130360807,
          1.4060164086414064,
          1.394960358435086,
          1.3840768276301576
         ],
         "yaxis": "y2"
        },
        {
         "fill": "toself",
         "fillcolor": "rgba(151, 255, 0, 0.15)",
         "line": {
          "color": "rgba(151, 255, 0, 0.15)",
          "width": 0
         },
         "mode": "lines",
         "showlegend": false,
         "type": "scatter",
         "x": [
          0.7975650131702423,
          1.0496344955600039,
          1.3017039779497654,
          1.5537734603395268,
          1.8058429427292884,
          2.05791242511905,
          2.3099819075088113,
          2.562051389898573,
          2.8141208722883344,
          3.066190354678096,
          3.3182598370678575,
          3.570329319457619,
          3.8223988018473802,
          4.074468284237142,
          4.326537766626903,
          4.578607249016665,
          4.8306767314064265,
          5.082746213796188,
          5.33481569618595,
          5.586885178575711,
          5.838954660965473,
          6.091024143355234,
          6.343093625744996,
          6.5951631081347575,
          6.847232590524518,
          7.09930207291428,
          7.351371555304041,
          7.603441037693803,
          7.855510520083564,
          8.107580002473327,
          8.359649484863088,
          8.611718967252848,
          8.86378844964261,
          9.115857932032371,
          9.367927414422134,
          9.619996896811895,
          9.872066379201657,
          10.124135861591418,
          10.37620534398118,
          10.62827482637094,
          10.880344308760703,
          11.132413791150464,
          11.384483273540226,
          11.636552755929987,
          11.88862223831975,
          12.14069172070951,
          12.392761203099273,
          12.644830685489033,
          12.896900167878794,
          13.148969650268556,
          13.148969650268556,
          12.896900167878794,
          12.644830685489033,
          12.392761203099273,
          12.14069172070951,
          11.88862223831975,
          11.636552755929987,
          11.384483273540226,
          11.132413791150464,
          10.880344308760703,
          10.62827482637094,
          10.37620534398118,
          10.124135861591418,
          9.872066379201657,
          9.619996896811895,
          9.367927414422134,
          9.115857932032371,
          8.86378844964261,
          8.611718967252848,
          8.359649484863088,
          8.107580002473327,
          7.855510520083564,
          7.603441037693803,
          7.351371555304041,
          7.09930207291428,
          6.847232590524518,
          6.5951631081347575,
          6.343093625744996,
          6.091024143355234,
          5.838954660965473,
          5.586885178575711,
          5.33481569618595,
          5.082746213796188,
          4.8306767314064265,
          4.578607249016665,
          4.326537766626903,
          4.074468284237142,
          3.8223988018473802,
          3.570329319457619,
          3.3182598370678575,
          3.066190354678096,
          2.8141208722883344,
          2.562051389898573,
          2.3099819075088113,
          2.05791242511905,
          1.8058429427292884,
          1.5537734603395268,
          1.3017039779497654,
          1.0496344955600039,
          0.7975650131702423
         ],
         "xaxis": "x2",
         "y": [
          2.687357020200241,
          2.6595510601618915,
          2.6323146213046136,
          2.6056303836183603,
          2.57948172234914,
          2.5538526734596148,
          2.528727901128486,
          2.504092667149639,
          2.4799328021027294,
          2.4562346781767332,
          2.432985183536926,
          2.4101716981339854,
          2.3877820708614466,
          2.3658045979746305,
          2.344228002690515,
          2.323041415893832,
          2.3022343578800437,
          2.2817967210707466,
          2.2617187536416328,
          2.2419910440072615,
          2.2226045061108057,
          2.203550365470446,
          2.184820145937404,
          2.1664056571236276,
          2.148298982459941,
          2.130492467848094,
          2.1129787108725213,
          2.0957505505398775,
          2.0788010575164595,
          2.0621235248355676,
          2.04571145904861,
          2.029558571795434,
          2.013658771770893,
          1.9980061570660856,
          1.9825950078640402,
          1.9674197794708486,
          1.9524750956644223,
          1.937755742344102,
          1.9232566614653592,
          1.9089729452447832,
          1.894899830621386,
          1.8810326939611137,
          1.8673670459921805,
          1.8538985269595831,
          1.8406229019878009,
          1.8275360566413243,
          1.814633992673237,
          1.8019128239526152,
          1.7893687725620424,
          1.7769981650569957,
          1.0672577262241554,
          1.0767438531417348,
          1.086400123791582,
          1.0962311571589283,
          1.106241740947942,
          1.1164368393562767,
          1.1268216012835193,
          1.1374013690020552,
          1.1481816873210302,
          1.1591683132764334,
          1.170367226382889,
          1.181784639485507,
          1.1934270102531803,
          1.2053010533579964,
          1.2174137533890366,
          1.2297723785527397,
          1.242384495216308,
          1.2552579833552944,
          1.2684010529716503,
          1.2818222615541026,
          1.295530532658904,
          1.309535175695721,
          1.3238459070108581,
          1.3384728723681532,
          1.3534266709368485,
          1.368718380905629,
          1.3843595868529015,
          1.4003624090154394,
          1.4167395346107865,
          1.4335042513835528,
          1.4506704835620108,
          1.468252830429489,
          1.4862666077351279,
          1.5047278921908716,
          1.5236535693264217,
          1.5430613850015564,
          1.562970000906129,
          1.5833990544125989,
          1.6043692231845967,
          1.625902294988365,
          1.6480212432025265,
          1.6707503085763222,
          1.6941150878479796,
          1.7181426299043072,
          1.7428615402409664,
          1.76830209457159,
          1.7944963625344093,
          1.8214783425591659,
          1.8492841090868906,
          1.8779519734830061
         ],
         "yaxis": "y2"
        },
        {
         "error_y": {
          "array": [
           0.6731653213500977,
           0.33474397659301713,
           0.4050606489181521,
           0.46956402063369773,
           0.5294298529624939,
           0.32254302501678467
          ],
          "arrayminus": [
           0.17197644710540771,
           0.4923869371414189,
           0.3297625780105593,
           0.3462806940078731,
           0.33866018056869507,
           0.3194335699081421
          ],
          "color": "rgb(151, 255, 0)",
          "thickness": 3,
          "type": "data",
          "visible": true,
          "width": 0
         },
         "marker": {
          "color": "rgb(151, 255, 0)",
          "line": {
           "color": "rgb(151, 255, 0)",
           "width": 3
          },
          "size": 8,
          "symbol": "square"
         },
         "mode": "markers",
         "showlegend": false,
         "type": "scatter",
         "x": [
          0.7975650131702423,
          1.7890668511390686,
          3.390022397041321,
          5.878783464431763,
          9.02522897720337,
          13.148969650268556
         ],
         "xaxis": "x2",
         "y": [
          2.2743818759918213,
          2.228818774223328,
          1.831907629966736,
          1.8610573410987852,
          1.6321852803230286,
          1.3579739332199097
         ],
         "yaxis": "y2"
        },
        {
         "legendgroup": "sPCS",
         "line": {
          "color": "rgb(255, 234, 0)",
          "width": 3
         },
         "mode": "lines",
         "name": "sPCS",
         "showlegend": false,
         "type": "scatter",
         "x": [
          0.7512454986572266,
          0.9993887434200365,
          1.2475319881828464,
          1.4956752329456564,
          1.7438184777084662,
          1.991961722471276,
          2.2401049672340863,
          2.488248211996896,
          2.736391456759706,
          2.9845347015225157,
          3.2326779462853255,
          3.4808211910481357,
          3.7289644358109455,
          3.9771076805737553,
          4.2252509253365655,
          4.473394170099375,
          4.721537414862185,
          4.969680659624995,
          5.217823904387805,
          5.4659671491506145,
          5.714110393913424,
          5.962253638676235,
          6.210396883439045,
          6.458540128201855,
          6.706683372964664,
          6.954826617727474,
          7.202969862490284,
          7.451113107253094,
          7.6992563520159045,
          7.947399596778714,
          8.195542841541524,
          8.443686086304334,
          8.691829331067144,
          8.939972575829954,
          9.188115820592763,
          9.436259065355573,
          9.684402310118383,
          9.932545554881193,
          10.180688799644003,
          10.428832044406812,
          10.676975289169622,
          10.925118533932434,
          11.173261778695244,
          11.421405023458053,
          11.669548268220863,
          11.917691512983673,
          12.165834757746483,
          12.413978002509293,
          12.662121247272102,
          12.910264492034912
         ],
         "xaxis": "x2",
         "y": [
          3.3336781208201764,
          3.2537041537196805,
          3.177477396498259,
          3.10474051259367,
          3.035259201290585,
          2.968819676534397,
          2.9052264697734143,
          2.844300509262719,
          2.7858774360792236,
          2.7298061234979745,
          2.675947371643632,
          2.6241727536783883,
          2.5743635933922326,
          2.5264100570618377,
          2.4802103449508905,
          2.4356699699261286,
          2.392701112431117,
          2.3512220425517922,
          2.3111566011709312,
          2.272433733281403,
          2.234987067441668,
          2.19875453613725,
          2.1636780324802247,
          2.1297030992525503,
          2.096778646793074,
          2.064856696654349,
          2.033892148324153,
          2.003842566626333,
          1.974667987693445,
          1.9463307416455953,
          1.918795290321044,
          1.8920280785887673,
          1.8659973979349473,
          1.8406732611573626,
          1.816027287126576,
          1.792032594682842,
          1.7686637048347962,
          1.7458964505118761,
          1.7237078931984668,
          1.7020762458452365,
          1.6809808015130716,
          1.6604018672583505,
          1.6403207028158298,
          1.6207194636778324,
          1.6015811482063447,
          1.5828895484485532,
          1.5646292043567531,
          1.54678536114086,
          1.5293439295062599,
          1.5122914485517904
         ],
         "yaxis": "y2"
        },
        {
         "fill": "toself",
         "fillcolor": "rgba(255, 234, 0, 0.15)",
         "line": {
          "color": "rgba(255, 234, 0, 0.15)",
          "width": 0
         },
         "mode": "lines",
         "showlegend": false,
         "type": "scatter",
         "x": [
          0.7512454986572266,
          0.9993887434200365,
          1.2475319881828464,
          1.4956752329456564,
          1.7438184777084662,
          1.991961722471276,
          2.2401049672340863,
          2.488248211996896,
          2.736391456759706,
          2.9845347015225157,
          3.2326779462853255,
          3.4808211910481357,
          3.7289644358109455,
          3.9771076805737553,
          4.2252509253365655,
          4.473394170099375,
          4.721537414862185,
          4.969680659624995,
          5.217823904387805,
          5.4659671491506145,
          5.714110393913424,
          5.962253638676235,
          6.210396883439045,
          6.458540128201855,
          6.706683372964664,
          6.954826617727474,
          7.202969862490284,
          7.451113107253094,
          7.6992563520159045,
          7.947399596778714,
          8.195542841541524,
          8.443686086304334,
          8.691829331067144,
          8.939972575829954,
          9.188115820592763,
          9.436259065355573,
          9.684402310118383,
          9.932545554881193,
          10.180688799644003,
          10.428832044406812,
          10.676975289169622,
          10.925118533932434,
          11.173261778695244,
          11.421405023458053,
          11.669548268220863,
          11.917691512983673,
          12.165834757746483,
          12.413978002509293,
          12.662121247272102,
          12.910264492034912,
          12.910264492034912,
          12.662121247272102,
          12.413978002509293,
          12.165834757746483,
          11.917691512983673,
          11.669548268220863,
          11.421405023458053,
          11.173261778695244,
          10.925118533932434,
          10.676975289169622,
          10.428832044406812,
          10.180688799644003,
          9.932545554881193,
          9.684402310118383,
          9.436259065355573,
          9.188115820592763,
          8.939972575829954,
          8.691829331067144,
          8.443686086304334,
          8.195542841541524,
          7.947399596778714,
          7.6992563520159045,
          7.451113107253094,
          7.202969862490284,
          6.954826617727474,
          6.706683372964664,
          6.458540128201855,
          6.210396883439045,
          5.962253638676235,
          5.714110393913424,
          5.4659671491506145,
          5.217823904387805,
          4.969680659624995,
          4.721537414862185,
          4.473394170099375,
          4.2252509253365655,
          3.9771076805737553,
          3.7289644358109455,
          3.4808211910481357,
          3.2326779462853255,
          2.9845347015225157,
          2.736391456759706,
          2.488248211996896,
          2.2401049672340863,
          1.991961722471276,
          1.7438184777084662,
          1.4956752329456564,
          1.2475319881828464,
          0.9993887434200365,
          0.7512454986572266
         ],
         "xaxis": "x2",
         "y": [
          4.362017525086474,
          4.250306434861135,
          4.144174300693445,
          4.0432133767813365,
          3.9470547065633426,
          3.8553636172987424,
          3.7678358283632756,
          3.6841940778938027,
          3.6041851889837724,
          3.5275775100303095,
          3.454158674722877,
          3.383733636054465,
          3.3161229360284317,
          3.251161178740579,
          3.1886956794839247,
          3.128585266648617,
          3.0706992166275593,
          3.0149163048142813,
          2.961123958193787,
          2.909217497060393,
          2.859099455114611,
          2.8106789686473284,
          2.763871226757442,
          2.718596975604539,
          2.674782070600544,
          2.6323570712177817,
          2.5912568737557202,
          2.5514203779815148,
          2.512790184054249,
          2.475312316571141,
          2.43893597294568,
          2.4036132936509365,
          2.369299152142999,
          2.3359509625255455,
          2.303528503231833,
          2.2719937551891993,
          2.241310753096976,
          2.211445448594667,
          2.1823655842259244,
          2.1540405772174727,
          2.126441412192707,
          2.0995405420287425,
          2.0733117961447944,
          2.047730295580041,
          2.0227723742817236,
          1.9984155060800177,
          1.9746382368760536,
          1.951420121613996,
          1.9287416656480092,
          1.9065842701506757,
          1.2489071090543697,
          1.2629852118297489,
          1.2773843193381658,
          1.292115537377561,
          1.3071904900257745,
          1.322621350230981,
          1.3384208725946507,
          1.3546024285325948,
          1.371180044017815,
          1.3881684401290688,
          1.405583076651536,
          1.4234401990010157,
          1.4417568887710162,
          1.4605511182333302,
          1.479841809157611,
          1.4996488963546053,
          1.5199933963916212,
          1.5408974819781516,
          1.5623845625751314,
          1.584479371843919,
          1.607208062621788,
          1.6305983101906851,
          1.6546794246965928,
          1.6794824736796468,
          1.7050404157920482,
          1.731388246913958,
          1.7585631600295195,
          1.7866047203989115,
          1.8155550577614414,
          1.845459077533316,
          1.8763646932267803,
          1.9083230826207493,
          1.941388970563746,
          1.9756209416963573,
          2.0110817868524222,
          2.0478388874478446,
          2.0859646428076903,
          2.1255369461335616,
          2.1666397156953567,
          2.2093634888701597,
          2.2538060878777078,
          2.3000733675151994,
          2.3482800569216726,
          2.398550709462486,
          2.451020777290339,
          2.5058378301015747,
          2.5631629411786507,
          2.6231722681345886,
          2.6860588610331697,
          2.752034736979064
         ],
         "yaxis": "y2"
        },
        {
         "error_y": {
          "array": [
           0.6449344158172612,
           0.9946746826171875,
           0.9602783918380733,
           0.7017394304275508,
           0.48230940103530906,
           0.2904929518699646
          ],
          "arrayminus": [
           0.4703958034515381,
           0.46042323112487793,
           0.6146172285079956,
           0.41241341829299927,
           0.2925492525100708,
           0.24155998229980447
          ],
          "color": "rgb(255, 234, 0)",
          "thickness": 3,
          "type": "data",
          "visible": true,
          "width": 0
         },
         "marker": {
          "color": "rgb(255, 234, 0)",
          "line": {
           "color": "rgb(255, 234, 0)",
           "width": 3
          },
          "size": 8,
          "symbol": "square"
         },
         "mode": "markers",
         "showlegend": false,
         "type": "scatter",
         "x": [
          0.7512454986572266,
          1.7110409140586853,
          3.340569257736206,
          5.86808443069458,
          9.009236335754396,
          12.910264492034912
         ],
         "xaxis": "x2",
         "y": [
          3.166483521461487,
          2.94058358669281,
          2.82256543636322,
          2.2948273420333862,
          1.830077826976776,
          1.4296754598617554
         ],
         "yaxis": "y2"
        },
        {
         "legendgroup": "mPCS",
         "line": {
          "color": "rgb(255, 111, 0)",
          "width": 3
         },
         "mode": "lines",
         "name": "mPCS",
         "showlegend": false,
         "type": "scatter",
         "x": [
          0.8027481436729431,
          1.054103744273283,
          1.305459344873623,
          1.5568149454739628,
          1.8081705460743027,
          2.0595261466746426,
          2.3108817472749825,
          2.5622373478753224,
          2.8135929484756623,
          3.0649485490760022,
          3.316304149676342,
          3.567659750276682,
          3.819015350877022,
          4.070370951477361,
          4.321726552077702,
          4.573082152678042,
          4.8244377532783815,
          5.075793353878721,
          5.327148954479061,
          5.578504555079402,
          5.829860155679741,
          6.081215756280081,
          6.332571356880421,
          6.583926957480761,
          6.835282558081101,
          7.08663815868144,
          7.3379937592817805,
          7.589349359882121,
          7.84070496048246,
          8.0920605610828,
          8.343416161683141,
          8.59477176228348,
          8.84612736288382,
          9.09748296348416,
          9.348838564084499,
          9.60019416468484,
          9.85154976528518,
          10.102905365885519,
          10.35426096648586,
          10.6056165670862,
          10.85697216768654,
          11.108327768286879,
          11.359683368887218,
          11.61103896948756,
          11.862394570087899,
          12.113750170688238,
          12.36510577128858,
          12.616461371888919,
          12.867816972489258,
          13.1191725730896
         ],
         "xaxis": "x2",
         "y": [
          1.7208012271366777,
          1.7150150217907323,
          1.7092675983467924,
          1.7035585682050025,
          1.6978875479399869,
          1.692254159215009,
          1.6866580286978334,
          1.6810987879782502,
          1.6755760734872278,
          1.6700895264176503,
          1.6646387926466122,
          1.659223522659225,
          1.653843371473908,
          1.6484979985691293,
          1.64318706781156,
          1.6379102473856157,
          1.6326672097243486,
          1.6274576314416649,
          1.6222811932658343,
          1.617137579974265,
          1.6120264803295157,
          1.6069475870165166,
          1.6019005965809745,
          1.5968852093689325,
          1.591901129467466,
          1.5869480646464817,
          1.5820257263016009,
          1.5771338293981036,
          1.5722720924159086,
          1.5674402372955676,
          1.5626379893852527,
          1.557865077388716,
          1.5531212333141984,
          1.5484061924242707,
          1.5437196931865844,
          1.5390614772255147,
          1.5344312892746768,
          1.529828877130295,
          1.5252539916054113,
          1.5207063864849104,
          1.5161858184813484,
          1.5116920471915667,
          1.5072248350540756,
          1.5027839473071898,
          1.4983691519479039,
          1.4939802196914893,
          1.4896169239317987,
          1.4852790407022658,
          1.4809663486375833,
          1.4766786289360465
         ],
         "yaxis": "y2"
        },
        {
         "fill": "toself",
         "fillcolor": "rgba(255, 111, 0, 0.15)",
         "line": {
          "color": "rgba(255, 111, 0, 0.15)",
          "width": 0
         },
         "mode": "lines",
         "showlegend": false,
         "type": "scatter",
         "x": [
          0.8027481436729431,
          1.054103744273283,
          1.305459344873623,
          1.5568149454739628,
          1.8081705460743027,
          2.0595261466746426,
          2.3108817472749825,
          2.5622373478753224,
          2.8135929484756623,
          3.0649485490760022,
          3.316304149676342,
          3.567659750276682,
          3.819015350877022,
          4.070370951477361,
          4.321726552077702,
          4.573082152678042,
          4.8244377532783815,
          5.075793353878721,
          5.327148954479061,
          5.578504555079402,
          5.829860155679741,
          6.081215756280081,
          6.332571356880421,
          6.583926957480761,
          6.835282558081101,
          7.08663815868144,
          7.3379937592817805,
          7.589349359882121,
          7.84070496048246,
          8.0920605610828,
          8.343416161683141,
          8.59477176228348,
          8.84612736288382,
          9.09748296348416,
          9.348838564084499,
          9.60019416468484,
          9.85154976528518,
          10.102905365885519,
          10.35426096648586,
          10.6056165670862,
          10.85697216768654,
          11.108327768286879,
          11.359683368887218,
          11.61103896948756,
          11.862394570087899,
          12.113750170688238,
          12.36510577128858,
          12.616461371888919,
          12.867816972489258,
          13.1191725730896,
          13.1191725730896,
          12.867816972489258,
          12.616461371888919,
          12.36510577128858,
          12.113750170688238,
          11.862394570087899,
          11.61103896948756,
          11.359683368887218,
          11.108327768286879,
          10.85697216768654,
          10.6056165670862,
          10.35426096648586,
          10.102905365885519,
          9.85154976528518,
          9.60019416468484,
          9.348838564084499,
          9.09748296348416,
          8.84612736288382,
          8.59477176228348,
          8.343416161683141,
          8.0920605610828,
          7.84070496048246,
          7.589349359882121,
          7.3379937592817805,
          7.08663815868144,
          6.835282558081101,
          6.583926957480761,
          6.332571356880421,
          6.081215756280081,
          5.829860155679741,
          5.578504555079402,
          5.327148954479061,
          5.075793353878721,
          4.8244377532783815,
          4.573082152678042,
          4.321726552077702,
          4.070370951477361,
          3.819015350877022,
          3.567659750276682,
          3.316304149676342,
          3.0649485490760022,
          2.8135929484756623,
          2.5622373478753224,
          2.3108817472749825,
          2.0595261466746426,
          1.8081705460743027,
          1.5568149454739628,
          1.305459344873623,
          1.054103744273283,
          0.8027481436729431
         ],
         "xaxis": "x2",
         "y": [
          2.17089629751534,
          2.1627118389305515,
          2.1545888607311396,
          2.1465266727625716,
          2.1385245951616736,
          2.130581958165521,
          2.1226981019245623,
          2.1148723763198842,
          2.107104140784501,
          2.099392764128569,
          2.0917376243684216,
          2.0841381085593382,
          2.0765936126319375,
          2.069103541232117,
          2.061667307564442,
          2.054284333238898,
          2.0469540481209276,
          2.039675890184665,
          2.032449305369288,
          2.0252737474384173,
          2.018148677842481,
          2.011073565583974,
          2.0040478870855436,
          1.9970711260608283,
          1.9901427733879862,
          1.9832623269858478,
          1.9764292916926278,
          1.9696431791471345,
          1.9629035076724213,
          1.9562098021618155,
          1.949561593967273,
          1.9429584207900008,
          1.9363998265732962,
          1.9298853613975473,
          1.9234145813773464,
          1.9169870485606681,
          1.9106023308300588,
          1.9042600018057976,
          1.8979596407509767,
          1.8917008324784632,
          1.885483167259691,
          1.8793062407352512,
          1.8731696538272293,
          1.8670730126532578,
          1.8610159284422378,
          1.8549980174517016,
          1.8490189008867672,
          1.8430782048206595,
          1.8371755601167572,
          1.8313106023521322,
          1.1845211266957416,
          1.1879917201092116,
          1.1914827106493115,
          1.1949942786608247,
          1.198526606620887,
          1.2020798791705944,
          1.2056542831471753,
          1.2092500076167407,
          1.2128672439076194,
          1.2165061856442938,
          1.2201670287819513,
          1.223849971641657,
          1.2275552149461693,
          1.2312829618564043,
          1.2350334180085702,
          1.238806791551981,
          1.2426032931875635,
          1.246423136207079,
          1.250266536533066,
          1.2541337127595273,
          1.2580248861933732,
          1.261940280896638,
          1.2658801237294903,
          1.2698446443940474,
          1.273834075479019,
          1.2778486525051915,
          1.2818886139717809,
          1.2859542014036605,
          1.2900456593994958,
          1.2941632356807997,
          1.2983071811419276,
          1.3024777499010403,
          1.3066751993520491,
          1.3108997902175699,
          1.3151517866029083,
          1.319431456051097,
          1.323739069599013,
          1.3280749018345972,
          1.3324392309552011,
          1.3368323388270906,
          1.3412545110461267,
          1.3457060369996583,
          1.350187209929649,
          1.3546983269970723,
          1.359239689347597,
          1.3638116021786049,
          1.36841437480756,
          1.373048320741769,
          1.3777137577495653,
          1.3824110079329466
         ],
         "yaxis": "y2"
        },
        {
         "error_y": {
          "array": [
           0.23945653438568182,
           0.4285856485366819,
           0.4508501887321479,
           0.5918160676956172,
           0.36254727840423606,
           0.30473101139068604
          ],
          "arrayminus": [
           0.21120965480804443,
           0.4122002720832827,
           0.3514726161956787,
           0.25708568096160866,
           0.3381975293159485,
           0.2585132122039795
          ],
          "color": "rgb(255, 111, 0)",
          "thickness": 3,
          "type": "data",
          "visible": true,
          "width": 0
         },
         "marker": {
          "color": "rgb(255, 111, 0)",
          "line": {
           "color": "rgb(255, 111, 0)",
           "width": 3
          },
          "size": 8,
          "symbol": "square"
         },
         "mode": "markers",
         "showlegend": false,
         "type": "scatter",
         "x": [
          0.8027481436729431,
          1.7592397332191467,
          3.4754515886306763,
          5.990801095962524,
          9.273503303527832,
          13.1191725730896
         ],
         "xaxis": "x2",
         "y": [
          1.7340092658996582,
          1.7029422521591189,
          1.5444732308387756,
          1.6183356046676636,
          1.6178736686706543,
          1.3824997544288635
         ],
         "yaxis": "y2"
        }
       ],
       "layout": {
        "annotations": [
         {
          "font": {
           "color": "rgb(0, 152, 255)",
           "family": "Arial",
           "size": 15
          },
          "showarrow": false,
          "text": "iIPS",
          "x": 12,
          "xanchor": "left",
          "xref": "x",
          "y": 20,
          "yref": "y"
         },
         {
          "font": {
           "color": "rgb(44, 255, 150)",
           "family": "Arial",
           "size": 15
          },
          "showarrow": false,
          "text": "sIPS",
          "x": 12,
          "xanchor": "left",
          "xref": "x",
          "y": 18,
          "yref": "y"
         },
         {
          "font": {
           "color": "rgb(151, 255, 0)",
           "family": "Arial",
           "size": 15
          },
          "showarrow": false,
          "text": "iPCS",
          "x": 12,
          "xanchor": "left",
          "xref": "x2",
          "y": 20,
          "yref": "y2"
         },
         {
          "font": {
           "color": "rgb(255, 234, 0)",
           "family": "Arial",
           "size": 15
          },
          "showarrow": false,
          "text": "sPCS",
          "x": 12,
          "xanchor": "left",
          "xref": "x2",
          "y": 18,
          "yref": "y2"
         },
         {
          "font": {
           "color": "rgb(255, 111, 0)",
           "family": "Arial",
           "size": 15
          },
          "showarrow": false,
          "text": "mPCS",
          "x": 12,
          "xanchor": "left",
          "xref": "x2",
          "y": 16,
          "yref": "y2"
         }
        ],
        "height": 400,
        "margin": {
         "b": 100,
         "l": 470,
         "r": 470,
         "t": 50
        },
        "showlegend": false,
        "template": {
         "data": {
          "barpolar": [
           {
            "marker": {
             "line": {
              "color": "rgba(0, 0, 0, 1)",
              "width": 1.5
             }
            },
            "showlegend": false,
            "type": "barpolar"
           }
          ],
          "pie": [
           {
            "direction": "clockwise",
            "hole": 0.4,
            "marker": {
             "line": {
              "width": 0
             }
            },
            "rotation": 0,
            "sort": false,
            "textposition": [
             "inside",
             "none"
            ],
            "type": "pie"
           }
          ],
          "violin": [
           {
            "box": {
             "visible": false
            },
            "hoveron": "violins",
            "line": {
             "color": "rgba(0, 0, 0, 1)",
             "width": 1.5
            },
            "meanline": {
             "visible": false
            },
            "points": false,
            "showlegend": false,
            "type": "violin",
            "width": 0.8
           }
          ]
         },
         "layout": {
          "annotationdefaults": {
           "font": {
            "color": "rgba(0, 0, 0, 1)",
            "family": "Arial",
            "size": 15
           }
          },
          "font": {
           "family": "Arial",
           "size": 15
          },
          "plot_bgcolor": "rgba(255, 255, 255, 1)",
          "polar": {
           "angularaxis": {
            "showticklabels": false,
            "ticks": "",
            "visible": false
           },
           "radialaxis": {
            "showticklabels": false,
            "ticks": "",
            "visible": false
           }
          },
          "xaxis": {
           "color": "rgba(0, 0, 0, 1)",
           "hoverformat": ".1f",
           "linewidth": 2,
           "showgrid": false,
           "tickfont": {
            "family": "Arial",
            "size": 15
           },
           "ticklen": 8,
           "ticks": "outside",
           "tickwidth": 2,
           "title": {
            "font": {
             "family": "Arial",
             "size": 15
            }
           },
           "visible": true,
           "zeroline": false,
           "zerolinecolor": "rgba(0, 0, 0, 1)",
           "zerolinewidth": 2
          },
          "yaxis": {
           "color": "rgba(0, 0, 0, 1)",
           "hoverformat": ".1f",
           "linewidth": 2,
           "showgrid": false,
           "tickfont": {
            "family": "Arial",
            "size": 15
           },
           "ticklen": 8,
           "ticks": "outside",
           "tickwidth": 2,
           "title": {
            "font": {
             "family": "Arial",
             "size": 15
            }
           },
           "visible": true,
           "zeroline": false,
           "zerolinecolor": "rgba(0, 0, 0, 1)",
           "zerolinewidth": 2
          }
         }
        },
        "width": 1440,
        "xaxis": {
         "anchor": "y",
         "domain": [
          0,
          0.45
         ],
         "range": [
          0,
          15
         ],
         "showline": true,
         "title": {
          "text": "pRF eccentricity (dva)"
         },
         "type": "linear"
        },
        "xaxis2": {
         "anchor": "y2",
         "domain": [
          0.55,
          1
         ],
         "range": [
          0,
          15
         ],
         "showline": true,
         "title": {
          "text": "pRF eccentricity (dva)"
         },
         "type": "linear"
        },
        "yaxis": {
         "anchor": "x",
         "domain": [
          0,
          1
         ],
         "range": [
          0,
          15
         ],
         "showline": true,
         "title": {
          "text": "pRF cortical magn. (mm/dva)"
         },
         "type": "linear"
        },
        "yaxis2": {
         "anchor": "x2",
         "domain": [
          0,
          1
         ],
         "range": [
          0,
          15
         ],
         "showline": true,
         "type": "linear"
        }
       }
      },
      "image/png": "[encoded data removed]",
      "text/html": [
       "<div>                            <div id=\"d3920fb7-ebb0-436f-9ab7-1ab9e88906b4\" class=\"plotly-graph-div\" style=\"height:400px; width:1440px;\"></div>            <script type=\"text/javascript\">                require([\"plotly\"], function(Plotly) {                    window.PLOTLYENV=window.PLOTLYENV || {};                                    if (document.getElementById(\"d3920fb7-ebb0-436f-9ab7-1ab9e88906b4\")) {                    Plotly.newPlot(                        \"d3920fb7-ebb0-436f-9ab7-1ab9e88906b4\",                        [{\"legendgroup\":\"iIPS\",\"line\":{\"color\":\"rgb(0, 152, 255)\",\"width\":3},\"mode\":\"lines\",\"name\":\"iIPS\",\"showlegend\":false,\"x\":[0.7450379431247711,0.9934809645827936,1.241923986040816,1.4903670074988387,1.738810028956861,1.9872530504148835,2.235696071872906,2.4841390933309286,2.732582114788951,2.9810251362469735,3.229468157704996,3.4779111791630184,3.7263542006210413,3.9747972220790637,4.223240243537086,4.471683264995109,4.720126286453131,4.968569307911154,5.217012329369176,5.465455350827199,5.713898372285221,5.962341393743244,6.210784415201266,6.459227436659289,6.707670458117311,6.956113479575333,7.204556501033356,7.452999522491378,7.701442543949401,7.949885565407423,8.198328586865447,8.446771608323468,8.695214629781491,8.943657651239514,9.192100672697537,9.440543694155558,9.68898671561358,9.937429737071604,10.185872758529626,10.434315779987648,10.68275880144567,10.931201822903693,11.179644844361716,11.42808786581974,11.67653088727776,11.924973908735783,12.173416930193806,12.421859951651829,12.670302973109852,12.918745994567873],\"y\":[9.125745099563636,8.345932549379665,7.688901095409884,7.127769243247913,6.642968954247374,6.219916888161413,5.847522200564586,5.517200100634973,5.2222018723973616,4.957148924667825,4.717701882770267,4.500321165152055,4.302090836785076,4.120587051966115,3.953778451116228,3.799949808996868,3.65764283903318,3.5256098186550817,3.4027769088494333,3.288214883283587,3.18111557765828,3.080772796246781,2.9865667215550644,2.8979510995054456,2.8144426402798928,2.7356122004101984,2.661077406390655,2.590496452174188,2.523562858235233,2.460001022664209,2.3995624280802383,2.342022394279306,2.287177287158214,2.2348421108308485,2.1848484229323466,2.1370425236102344,2.0912838771809823,2.0474437323099814,2.0054039121812064,1.9650557507155468,1.9262991546742902,1.8890417746041661,1.8531982701674936,1.818689657554548,1.7854427284744991,1.7533895317298136,1.7224669096480996,1.6926160827165402,1.6637822766709727,1.635914387061894],\"type\":\"scatter\",\"xaxis\":\"x\",\"yaxis\":\"y\"},{\"fill\":\"toself\",\"fillcolor\":\"rgba(0, 152, 255, 0.15)\",\"line\":{\"color\":\"rgba(0, 152, 255, 0.15)\",\"width\":0},\"mode\":\"lines\",\"showlegend\":false,\"x\":[0.7450379431247711,0.9934809645827936,1.241923986040816,1.4903670074988387,1.738810028956861,1.9872530504148835,2.235696071872906,2.4841390933309286,2.732582114788951,2.9810251362469735,3.229468157704996,3.4779111791630184,3.7263542006210413,3.9747972220790637,4.223240243537086,4.471683264995109,4.720126286453131,4.968569307911154,5.217012329369176,5.465455350827199,5.713898372285221,5.962341393743244,6.210784415201266,6.459227436659289,6.707670458117311,6.956113479575333,7.204556501033356,7.452999522491378,7.701442543949401,7.949885565407423,8.198328586865447,8.446771608323468,8.695214629781491,8.943657651239514,9.192100672697537,9.440543694155558,9.68898671561358,9.937429737071604,10.185872758529626,10.434315779987648,10.68275880144567,10.931201822903693,11.179644844361716,11.42808786581974,11.67653088727776,11.924973908735783,12.173416930193806,12.421859951651829,12.670302973109852,12.918745994567873,12.918745994567873,12.670302973109852,12.421859951651829,12.173416930193806,11.924973908735783,11.67653088727776,11.42808786581974,11.179644844361716,10.931201822903693,10.68275880144567,10.434315779987648,10.185872758529626,9.937429737071604,9.68898671561358,9.440543694155558,9.192100672697537,8.943657651239514,8.695214629781491,8.446771608323468,8.198328586865447,7.949885565407423,7.701442543949401,7.452999522491378,7.204556501033356,6.956113479575333,6.707670458117311,6.459227436659289,6.210784415201266,5.962341393743244,5.713898372285221,5.465455350827199,5.217012329369176,4.968569307911154,4.720126286453131,4.471683264995109,4.223240243537086,3.9747972220790637,3.7263542006210413,3.4779111791630184,3.229468157704996,2.9810251362469735,2.732582114788951,2.4841390933309286,2.235696071872906,1.9872530504148835,1.738810028956861,1.4903670074988387,1.241923986040816,0.9934809645827936,0.7450379431247711],\"y\":[11.385298019424356,10.357378357488855,9.499699620753635,8.773203955003682,8.149932594592403,7.6093448310978635,7.136010837918258,6.718115165119862,6.346456970398767,6.013764707786522,5.714215630852777,5.4430920852807185,5.196531216875927,4.971339757931917,4.764854970728052,4.5748388633625865,4.399396746112811,4.236913835541844,4.0860054066382885,3.9454772313282622,3.8142939092759085,3.691553313204466,3.576465814358111,3.4683372764669262,3.3665550440784613,3.270576327681147,3.1799185205592466,3.0941510826663463,3.0128887034326675,2.935785514400801,2.862530168318543,2.792841637031064,2.726465608589063,2.6631713861983717,2.6027492093103475,2.545007931297521,2.4897729995411018,2.436884692963034,2.3861965795180153,2.3375741622713124,2.290893687700474,2.2460410939880706,2.202911080488029,2.16140628238445,2.1214365369260166,2.0829182295970123,2.045773710246436,2.0099307705953,1.9753221757241195,1.9418852431443958,1.3676311416781177,1.3908510197905661,1.4148729779720661,1.439739305784095,1.4654953189207003,1.492189634816811,1.5198744789369962,1.5486060258045238,1.5784447794563874,1.609455998746432,1.641710173788001,1.6752835608568148,1.7102587842974863,1.74672551543439,1.784781240230691,1.8245321295318093,1.86609402825106,1.9095935829056676,1.9551695306170536,2.002974177210437,2.053175097589776,2.105957098387045,2.161524491328118,2.220103736260124,2.2819465259208243,2.3473334010537124,2.416578005382496,2.4900321165887496,2.5680916235801003,2.651203664424852,2.739875196688664,2.834683347132075,2.9362879872170327,3.0454471136474988,3.1630357920862493,3.2900696657780872,3.4277343661287487,3.577422629397551,3.7407815827404685,3.919773605744308,4.116755542953735,4.334583064359952,4.576750008715117,4.847577200326982,5.152472521272252,5.498295716632965,5.89388067922092,6.350800673390533,6.8845194134646315,7.516175812582111],\"type\":\"scatter\",\"xaxis\":\"x\",\"yaxis\":\"y\"},{\"error_y\":{\"array\":[1.967447280883789,1.8982782363891602,1.402831792831421,0.4946492910385132,0.34619939327240035,0.29228442907333374],\"arrayminus\":[1.3613917827606201,1.4117927551269531,1.1216373443603516,0.5040159225463867,0.3093937039375305,0.20359379053115845],\"color\":\"rgb(0, 152, 255)\",\"thickness\":3,\"type\":\"data\",\"visible\":true,\"width\":0},\"marker\":{\"color\":\"rgb(0, 152, 255)\",\"line\":{\"color\":\"rgb(0, 152, 255)\",\"width\":3},\"size\":8,\"symbol\":\"square\"},\"mode\":\"markers\",\"showlegend\":false,\"x\":[0.7450379431247711,1.6802224516868591,3.278223752975464,5.765391111373901,9.082697868347168,12.918745994567873],\"y\":[8.73705530166626,7.148244857788086,5.081848382949829,3.232075333595276,2.1134192943573,1.5037317276000977],\"type\":\"scatter\",\"xaxis\":\"x\",\"yaxis\":\"y\"},{\"legendgroup\":\"sIPS\",\"line\":{\"color\":\"rgb(44, 255, 150)\",\"width\":3},\"mode\":\"lines\",\"name\":\"sIPS\",\"showlegend\":false,\"x\":[0.7520904242992401,1.001044176062759,1.249997927826278,1.498951679589797,1.747905431353316,1.996859183116835,2.245812934880354,2.4947666866438727,2.743720438407392,2.992674190170911,3.24162794193443,3.4905816936979486,3.7395354454614678,3.988489197224987,4.237442948988505,4.4863967007520245,4.735350452515544,4.984304204279063,5.233257956042582,5.4822117078061,5.7311654595696195,5.980119211333139,6.229072963096657,6.478026714860176,6.726980466623695,6.975934218387215,7.224887970150734,7.473841721914252,7.722795473677771,7.9717492254412905,8.220702977204809,8.469656728968328,8.718610480731847,8.967564232495366,9.216517984258886,9.465471736022405,9.714425487785924,9.963379239549441,10.21233299131296,10.46128674307648,10.710240494839999,10.959194246603518,11.208147998367037,11.457101750130557,11.706055501894074,11.955009253657593,12.203963005421112,12.452916757184632,12.70187050894815,12.95082426071167],\"y\":[7.8628100005677375,7.251004666956376,6.727535086998799,6.274557836795799,5.878732048651684,5.529883485018047,5.220117617514967,4.943214987811778,4.6942093142368995,4.469086995979944,4.264569126442252,4.077950741419754,3.9069805049143462,3.749769442525181,3.6047208570902844,3.470475904577711,3.345870894334103,3.22990346913833,3.121705582820596,3.0205217331404812,2.925691294987825,2.8366340802178027,2.7528384569051925,2.6738515139575716,2.599270871734942,2.5287378260169837,2.461931578739712,2.3985643596963997,2.3383772827042444,2.2811368103853438,2.226631725767107,2.174670527911303,2.1250791838846914,2.077699181457191,2.032385836616791,1.9890068178297626,1.9474408553395748,1.9075766089902517,1.869311672314767,1.8325516941309334,1.7972096017812684,1.763204912554514,1.730463121826407,1.698915158129051,1.668496896760615,1.6391487247274645,1.6108151508075557,1.5834444553682474,1.5569883752890312,1.531401819950936],\"type\":\"scatter\",\"xaxis\":\"x\",\"yaxis\":\"y\"},{\"fill\":\"toself\",\"fillcolor\":\"rgba(44, 255, 150, 0.15)\",\"line\":{\"color\":\"rgba(44, 255, 150, 0.15)\",\"width\":0},\"mode\":\"lines\",\"showlegend\":false,\"x\":[0.7520904242992401,1.001044176062759,1.249997927826278,1.498951679589797,1.747905431353316,1.996859183116835,2.245812934880354,2.4947666866438727,2.743720438407392,2.992674190170911,3.24162794193443,3.4905816936979486,3.7395354454614678,3.988489197224987,4.237442948988505,4.4863967007520245,4.735350452515544,4.984304204279063,5.233257956042582,5.4822117078061,5.7311654595696195,5.980119211333139,6.229072963096657,6.478026714860176,6.726980466623695,6.975934218387215,7.224887970150734,7.473841721914252,7.722795473677771,7.9717492254412905,8.220702977204809,8.469656728968328,8.718610480731847,8.967564232495366,9.216517984258886,9.465471736022405,9.714425487785924,9.963379239549441,10.21233299131296,10.46128674307648,10.710240494839999,10.959194246603518,11.208147998367037,11.457101750130557,11.706055501894074,11.955009253657593,12.203963005421112,12.452916757184632,12.70187050894815,12.95082426071167,12.95082426071167,12.70187050894815,12.452916757184632,12.203963005421112,11.955009253657593,11.706055501894074,11.457101750130557,11.208147998367037,10.959194246603518,10.710240494839999,10.46128674307648,10.21233299131296,9.963379239549441,9.714425487785924,9.465471736022405,9.216517984258886,8.967564232495366,8.718610480731847,8.469656728968328,8.220702977204809,7.9717492254412905,7.722795473677771,7.473841721914252,7.224887970150734,6.975934218387215,6.726980466623695,6.478026714860176,6.229072963096657,5.980119211333139,5.7311654595696195,5.4822117078061,5.233257956042582,4.984304204279063,4.735350452515544,4.4863967007520245,4.237442948988505,3.988489197224987,3.7395354454614678,3.4905816936979486,3.24162794193443,2.992674190170911,2.743720438407392,2.4947666866438727,2.245812934880354,1.996859183116835,1.747905431353316,1.498951679589797,1.249997927826278,1.001044176062759,0.7520904242992401],\"y\":[10.534167136234199,9.553852081828136,8.740460314111653,8.054702501454114,7.468722515130844,6.962220635972636,6.520054038408385,6.130697023550995,5.785221863123732,5.476605848216878,5.199248900769092,4.948630699826763,4.721062412385571,4.513503914203369,4.323427194778093,4.148712882030472,3.987570881771378,3.8384788205272637,3.700133800089821,3.571414222189052,3.451349313506066,3.339094597857356,3.233912004185317,3.135153619365451,3.0422483297718057,2.9546907696204725,2.8720321243598925,2.7938724357243485,2.719854129964789,2.649656548271363,2.582991302881968,2.5195983170261815,2.459242434037741,2.401710502428975,2.3468088607657953,2.294361159798596,2.2442064702421956,2.196197633429927,2.1501998192340537,2.106089261488583,2.0637521459370967,2.023083629665879,1.9839869742354186,1.9463727774211081,1.910158290719996,1.875266811657194,1.841627141499339,1.8091731003066638,1.7778430923730202,1.7475797160497526,1.299173653072473,1.3202962513862098,1.3421170442796735,1.36467123109196,1.3879964176938886,1.4121328257285708,1.4371235240697224,1.4630146852996406,1.489855870420004,1.5177003454890758,1.5466054344416476,1.5766329130091619,1.6078494494363527,1.6403270986112493,1.674143857316674,1.7093842896094198,1.7461402328825169,1.784511597021647,1.8246072712976413,1.8665461563293784,1.91045834171384,1.9564864538899438,2.0047872036546597,2.0555331687071647,2.1089148539463656,2.1651430813603283,2.224451772706048,2.28710120241735,2.3533818161320093,2.4236187330048247,2.498177079054912,2.577468336184335,2.661957939924564,2.752174422155394,2.848720478178921,2.9522864478715247,3.063666848442398,3.1837807962864146,3.3136974288137893,3.4546678152098216,3.6081653743345248,3.775937568712475,3.960072723795253,4.163087400317571,4.388042093930324,4.638696588919629,4.919721782498752,5.236993472089771,5.59800765664931,6.012480329757599],\"type\":\"scatter\",\"xaxis\":\"x\",\"yaxis\":\"y\"},{\"error_y\":{\"array\":[2.739206314086916,1.5918443202972412,0.8931488990783691,0.505622506141663,0.361391961574554,0.2279011607170105],\"arrayminus\":[1.8708539009094238,1.111849069595337,1.1197230815887442,0.46261870861053467,0.2705415487289433,0.2137383222579956],\"color\":\"rgb(44, 255, 150)\",\"thickness\":3,\"type\":\"data\",\"visible\":true,\"width\":0},\"marker\":{\"color\":\"rgb(44, 255, 150)\",\"line\":{\"color\":\"rgb(44, 255, 150)\",\"width\":3},\"size\":8,\"symbol\":\"square\"},\"mode\":\"markers\",\"showlegend\":false,\"x\":[0.7520904242992401,1.6297069787979126,3.254819869995117,5.7784507274627686,9.119778633117676,12.95082426071167],\"y\":[7.818614959716797,6.032086610794067,4.4623777866363525,2.878165602684021,2.011733949184418,1.4966360330581665],\"type\":\"scatter\",\"xaxis\":\"x\",\"yaxis\":\"y\"},{\"legendgroup\":\"iPCS\",\"line\":{\"color\":\"rgb(151, 255, 0)\",\"width\":3},\"mode\":\"lines\",\"name\":\"iPCS\",\"showlegend\":false,\"x\":[0.7975650131702423,1.0496344955600039,1.3017039779497654,1.5537734603395268,1.8058429427292884,2.05791242511905,2.3099819075088113,2.562051389898573,2.8141208722883344,3.066190354678096,3.3182598370678575,3.570329319457619,3.8223988018473802,4.074468284237142,4.326537766626903,4.578607249016665,4.8306767314064265,5.082746213796188,5.33481569618595,5.586885178575711,5.838954660965473,6.091024143355234,6.343093625744996,6.5951631081347575,6.847232590524518,7.09930207291428,7.351371555304041,7.603441037693803,7.855510520083564,8.107580002473327,8.359649484863088,8.611718967252848,8.86378844964261,9.115857932032371,9.367927414422134,9.619996896811895,9.872066379201657,10.124135861591418,10.37620534398118,10.62827482637094,10.880344308760703,11.132413791150464,11.384483273540226,11.636552755929987,11.88862223831975,12.14069172070951,12.392761203099273,12.644830685489033,12.896900167878794,13.148969650268556],\"y\":[2.2406933601786405,2.2127446688478445,2.1854846091560365,2.158888039897917,2.1329310289916372,2.1075907816539607,2.082845573635184,2.058674689102817,2.035058362800702,2.011977726144157,1.9894147569421545,1.9673522324649735,1.9457736856004686,1.9246633638643815,1.9040061910502843,1.8837877313229254,1.8639941555752846,1.84461220988455,1.8256291859158296,1.8070328931347095,1.7888116327009846,1.7709541729260825,1.7534497261859863,1.736287927189939,1.719458812512944,1.7029528013071351,1.6867606771135562,1.6708735707017952,1.6552829438703456,1.6399805741455136,1.6249585403212665,1.610209208786587,1.5957252205907468,1.581499479200454,1.5675251389060731,1.5537955938371322,1.5403044675500739,1.5270456031537807,1.5140130539407364,1.5012010744938815,1.4886041122412135,1.4762167994320556,1.4640339455106315,1.4520505298641846,1.4402616949243534,1.42866273960189,1.4172491130360807,1.4060164086414064,1.394960358435086,1.3840768276301576],\"type\":\"scatter\",\"xaxis\":\"x2\",\"yaxis\":\"y2\"},{\"fill\":\"toself\",\"fillcolor\":\"rgba(151, 255, 0, 0.15)\",\"line\":{\"color\":\"rgba(151, 255, 0, 0.15)\",\"width\":0},\"mode\":\"lines\",\"showlegend\":false,\"x\":[0.7975650131702423,1.0496344955600039,1.3017039779497654,1.5537734603395268,1.8058429427292884,2.05791242511905,2.3099819075088113,2.562051389898573,2.8141208722883344,3.066190354678096,3.3182598370678575,3.570329319457619,3.8223988018473802,4.074468284237142,4.326537766626903,4.578607249016665,4.8306767314064265,5.082746213796188,5.33481569618595,5.586885178575711,5.838954660965473,6.091024143355234,6.343093625744996,6.5951631081347575,6.847232590524518,7.09930207291428,7.351371555304041,7.603441037693803,7.855510520083564,8.107580002473327,8.359649484863088,8.611718967252848,8.86378844964261,9.115857932032371,9.367927414422134,9.619996896811895,9.872066379201657,10.124135861591418,10.37620534398118,10.62827482637094,10.880344308760703,11.132413791150464,11.384483273540226,11.636552755929987,11.88862223831975,12.14069172070951,12.392761203099273,12.644830685489033,12.896900167878794,13.148969650268556,13.148969650268556,12.896900167878794,12.644830685489033,12.392761203099273,12.14069172070951,11.88862223831975,11.636552755929987,11.384483273540226,11.132413791150464,10.880344308760703,10.62827482637094,10.37620534398118,10.124135861591418,9.872066379201657,9.619996896811895,9.367927414422134,9.115857932032371,8.86378844964261,8.611718967252848,8.359649484863088,8.107580002473327,7.855510520083564,7.603441037693803,7.351371555304041,7.09930207291428,6.847232590524518,6.5951631081347575,6.343093625744996,6.091024143355234,5.838954660965473,5.586885178575711,5.33481569618595,5.082746213796188,4.8306767314064265,4.578607249016665,4.326537766626903,4.074468284237142,3.8223988018473802,3.570329319457619,3.3182598370678575,3.066190354678096,2.8141208722883344,2.562051389898573,2.3099819075088113,2.05791242511905,1.8058429427292884,1.5537734603395268,1.3017039779497654,1.0496344955600039,0.7975650131702423],\"y\":[2.687357020200241,2.6595510601618915,2.6323146213046136,2.6056303836183603,2.57948172234914,2.5538526734596148,2.528727901128486,2.504092667149639,2.4799328021027294,2.4562346781767332,2.432985183536926,2.4101716981339854,2.3877820708614466,2.3658045979746305,2.344228002690515,2.323041415893832,2.3022343578800437,2.2817967210707466,2.2617187536416328,2.2419910440072615,2.2226045061108057,2.203550365470446,2.184820145937404,2.1664056571236276,2.148298982459941,2.130492467848094,2.1129787108725213,2.0957505505398775,2.0788010575164595,2.0621235248355676,2.04571145904861,2.029558571795434,2.013658771770893,1.9980061570660856,1.9825950078640402,1.9674197794708486,1.9524750956644223,1.937755742344102,1.9232566614653592,1.9089729452447832,1.894899830621386,1.8810326939611137,1.8673670459921805,1.8538985269595831,1.8406229019878009,1.8275360566413243,1.814633992673237,1.8019128239526152,1.7893687725620424,1.7769981650569957,1.0672577262241554,1.0767438531417348,1.086400123791582,1.0962311571589283,1.106241740947942,1.1164368393562767,1.1268216012835193,1.1374013690020552,1.1481816873210302,1.1591683132764334,1.170367226382889,1.181784639485507,1.1934270102531803,1.2053010533579964,1.2174137533890366,1.2297723785527397,1.242384495216308,1.2552579833552944,1.2684010529716503,1.2818222615541026,1.295530532658904,1.309535175695721,1.3238459070108581,1.3384728723681532,1.3534266709368485,1.368718380905629,1.3843595868529015,1.4003624090154394,1.4167395346107865,1.4335042513835528,1.4506704835620108,1.468252830429489,1.4862666077351279,1.5047278921908716,1.5236535693264217,1.5430613850015564,1.562970000906129,1.5833990544125989,1.6043692231845967,1.625902294988365,1.6480212432025265,1.6707503085763222,1.6941150878479796,1.7181426299043072,1.7428615402409664,1.76830209457159,1.7944963625344093,1.8214783425591659,1.8492841090868906,1.8779519734830061],\"type\":\"scatter\",\"xaxis\":\"x2\",\"yaxis\":\"y2\"},{\"error_y\":{\"array\":[0.6731653213500977,0.33474397659301713,0.4050606489181521,0.46956402063369773,0.5294298529624939,0.32254302501678467],\"arrayminus\":[0.17197644710540771,0.4923869371414189,0.3297625780105593,0.3462806940078731,0.33866018056869507,0.3194335699081421],\"color\":\"rgb(151, 255, 0)\",\"thickness\":3,\"type\":\"data\",\"visible\":true,\"width\":0},\"marker\":{\"color\":\"rgb(151, 255, 0)\",\"line\":{\"color\":\"rgb(151, 255, 0)\",\"width\":3},\"size\":8,\"symbol\":\"square\"},\"mode\":\"markers\",\"showlegend\":false,\"x\":[0.7975650131702423,1.7890668511390686,3.390022397041321,5.878783464431763,9.02522897720337,13.148969650268556],\"y\":[2.2743818759918213,2.228818774223328,1.831907629966736,1.8610573410987852,1.6321852803230286,1.3579739332199097],\"type\":\"scatter\",\"xaxis\":\"x2\",\"yaxis\":\"y2\"},{\"legendgroup\":\"sPCS\",\"line\":{\"color\":\"rgb(255, 234, 0)\",\"width\":3},\"mode\":\"lines\",\"name\":\"sPCS\",\"showlegend\":false,\"x\":[0.7512454986572266,0.9993887434200365,1.2475319881828464,1.4956752329456564,1.7438184777084662,1.991961722471276,2.2401049672340863,2.488248211996896,2.736391456759706,2.9845347015225157,3.2326779462853255,3.4808211910481357,3.7289644358109455,3.9771076805737553,4.2252509253365655,4.473394170099375,4.721537414862185,4.969680659624995,5.217823904387805,5.4659671491506145,5.714110393913424,5.962253638676235,6.210396883439045,6.458540128201855,6.706683372964664,6.954826617727474,7.202969862490284,7.451113107253094,7.6992563520159045,7.947399596778714,8.195542841541524,8.443686086304334,8.691829331067144,8.939972575829954,9.188115820592763,9.436259065355573,9.684402310118383,9.932545554881193,10.180688799644003,10.428832044406812,10.676975289169622,10.925118533932434,11.173261778695244,11.421405023458053,11.669548268220863,11.917691512983673,12.165834757746483,12.413978002509293,12.662121247272102,12.910264492034912],\"y\":[3.3336781208201764,3.2537041537196805,3.177477396498259,3.10474051259367,3.035259201290585,2.968819676534397,2.9052264697734143,2.844300509262719,2.7858774360792236,2.7298061234979745,2.675947371643632,2.6241727536783883,2.5743635933922326,2.5264100570618377,2.4802103449508905,2.4356699699261286,2.392701112431117,2.3512220425517922,2.3111566011709312,2.272433733281403,2.234987067441668,2.19875453613725,2.1636780324802247,2.1297030992525503,2.096778646793074,2.064856696654349,2.033892148324153,2.003842566626333,1.974667987693445,1.9463307416455953,1.918795290321044,1.8920280785887673,1.8659973979349473,1.8406732611573626,1.816027287126576,1.792032594682842,1.7686637048347962,1.7458964505118761,1.7237078931984668,1.7020762458452365,1.6809808015130716,1.6604018672583505,1.6403207028158298,1.6207194636778324,1.6015811482063447,1.5828895484485532,1.5646292043567531,1.54678536114086,1.5293439295062599,1.5122914485517904],\"type\":\"scatter\",\"xaxis\":\"x2\",\"yaxis\":\"y2\"},{\"fill\":\"toself\",\"fillcolor\":\"rgba(255, 234, 0, 0.15)\",\"line\":{\"color\":\"rgba(255, 234, 0, 0.15)\",\"width\":0},\"mode\":\"lines\",\"showlegend\":false,\"x\":[0.7512454986572266,0.9993887434200365,1.2475319881828464,1.4956752329456564,1.7438184777084662,1.991961722471276,2.2401049672340863,2.488248211996896,2.736391456759706,2.9845347015225157,3.2326779462853255,3.4808211910481357,3.7289644358109455,3.9771076805737553,4.2252509253365655,4.473394170099375,4.721537414862185,4.969680659624995,5.217823904387805,5.4659671491506145,5.714110393913424,5.962253638676235,6.210396883439045,6.458540128201855,6.706683372964664,6.954826617727474,7.202969862490284,7.451113107253094,7.6992563520159045,7.947399596778714,8.195542841541524,8.443686086304334,8.691829331067144,8.939972575829954,9.188115820592763,9.436259065355573,9.684402310118383,9.932545554881193,10.180688799644003,10.428832044406812,10.676975289169622,10.925118533932434,11.173261778695244,11.421405023458053,11.669548268220863,11.917691512983673,12.165834757746483,12.413978002509293,12.662121247272102,12.910264492034912,12.910264492034912,12.662121247272102,12.413978002509293,12.165834757746483,11.917691512983673,11.669548268220863,11.421405023458053,11.173261778695244,10.925118533932434,10.676975289169622,10.428832044406812,10.180688799644003,9.932545554881193,9.684402310118383,9.436259065355573,9.188115820592763,8.939972575829954,8.691829331067144,8.443686086304334,8.195542841541524,7.947399596778714,7.6992563520159045,7.451113107253094,7.202969862490284,6.954826617727474,6.706683372964664,6.458540128201855,6.210396883439045,5.962253638676235,5.714110393913424,5.4659671491506145,5.217823904387805,4.969680659624995,4.721537414862185,4.473394170099375,4.2252509253365655,3.9771076805737553,3.7289644358109455,3.4808211910481357,3.2326779462853255,2.9845347015225157,2.736391456759706,2.488248211996896,2.2401049672340863,1.991961722471276,1.7438184777084662,1.4956752329456564,1.2475319881828464,0.9993887434200365,0.7512454986572266],\"y\":[4.362017525086474,4.250306434861135,4.144174300693445,4.0432133767813365,3.9470547065633426,3.8553636172987424,3.7678358283632756,3.6841940778938027,3.6041851889837724,3.5275775100303095,3.454158674722877,3.383733636054465,3.3161229360284317,3.251161178740579,3.1886956794839247,3.128585266648617,3.0706992166275593,3.0149163048142813,2.961123958193787,2.909217497060393,2.859099455114611,2.8106789686473284,2.763871226757442,2.718596975604539,2.674782070600544,2.6323570712177817,2.5912568737557202,2.5514203779815148,2.512790184054249,2.475312316571141,2.43893597294568,2.4036132936509365,2.369299152142999,2.3359509625255455,2.303528503231833,2.2719937551891993,2.241310753096976,2.211445448594667,2.1823655842259244,2.1540405772174727,2.126441412192707,2.0995405420287425,2.0733117961447944,2.047730295580041,2.0227723742817236,1.9984155060800177,1.9746382368760536,1.951420121613996,1.9287416656480092,1.9065842701506757,1.2489071090543697,1.2629852118297489,1.2773843193381658,1.292115537377561,1.3071904900257745,1.322621350230981,1.3384208725946507,1.3546024285325948,1.371180044017815,1.3881684401290688,1.405583076651536,1.4234401990010157,1.4417568887710162,1.4605511182333302,1.479841809157611,1.4996488963546053,1.5199933963916212,1.5408974819781516,1.5623845625751314,1.584479371843919,1.607208062621788,1.6305983101906851,1.6546794246965928,1.6794824736796468,1.7050404157920482,1.731388246913958,1.7585631600295195,1.7866047203989115,1.8155550577614414,1.845459077533316,1.8763646932267803,1.9083230826207493,1.941388970563746,1.9756209416963573,2.0110817868524222,2.0478388874478446,2.0859646428076903,2.1255369461335616,2.1666397156953567,2.2093634888701597,2.2538060878777078,2.3000733675151994,2.3482800569216726,2.398550709462486,2.451020777290339,2.5058378301015747,2.5631629411786507,2.6231722681345886,2.6860588610331697,2.752034736979064],\"type\":\"scatter\",\"xaxis\":\"x2\",\"yaxis\":\"y2\"},{\"error_y\":{\"array\":[0.6449344158172612,0.9946746826171875,0.9602783918380733,0.7017394304275508,0.48230940103530906,0.2904929518699646],\"arrayminus\":[0.4703958034515381,0.46042323112487793,0.6146172285079956,0.41241341829299927,0.2925492525100708,0.24155998229980447],\"color\":\"rgb(255, 234, 0)\",\"thickness\":3,\"type\":\"data\",\"visible\":true,\"width\":0},\"marker\":{\"color\":\"rgb(255, 234, 0)\",\"line\":{\"color\":\"rgb(255, 234, 0)\",\"width\":3},\"size\":8,\"symbol\":\"square\"},\"mode\":\"markers\",\"showlegend\":false,\"x\":[0.7512454986572266,1.7110409140586853,3.340569257736206,5.86808443069458,9.009236335754396,12.910264492034912],\"y\":[3.166483521461487,2.94058358669281,2.82256543636322,2.2948273420333862,1.830077826976776,1.4296754598617554],\"type\":\"scatter\",\"xaxis\":\"x2\",\"yaxis\":\"y2\"},{\"legendgroup\":\"mPCS\",\"line\":{\"color\":\"rgb(255, 111, 0)\",\"width\":3},\"mode\":\"lines\",\"name\":\"mPCS\",\"showlegend\":false,\"x\":[0.8027481436729431,1.054103744273283,1.305459344873623,1.5568149454739628,1.8081705460743027,2.0595261466746426,2.3108817472749825,2.5622373478753224,2.8135929484756623,3.0649485490760022,3.316304149676342,3.567659750276682,3.819015350877022,4.070370951477361,4.321726552077702,4.573082152678042,4.8244377532783815,5.075793353878721,5.327148954479061,5.578504555079402,5.829860155679741,6.081215756280081,6.332571356880421,6.583926957480761,6.835282558081101,7.08663815868144,7.3379937592817805,7.589349359882121,7.84070496048246,8.0920605610828,8.343416161683141,8.59477176228348,8.84612736288382,9.09748296348416,9.348838564084499,9.60019416468484,9.85154976528518,10.102905365885519,10.35426096648586,10.6056165670862,10.85697216768654,11.108327768286879,11.359683368887218,11.61103896948756,11.862394570087899,12.113750170688238,12.36510577128858,12.616461371888919,12.867816972489258,13.1191725730896],\"y\":[1.7208012271366777,1.7150150217907323,1.7092675983467924,1.7035585682050025,1.6978875479399869,1.692254159215009,1.6866580286978334,1.6810987879782502,1.6755760734872278,1.6700895264176503,1.6646387926466122,1.659223522659225,1.653843371473908,1.6484979985691293,1.64318706781156,1.6379102473856157,1.6326672097243486,1.6274576314416649,1.6222811932658343,1.617137579974265,1.6120264803295157,1.6069475870165166,1.6019005965809745,1.5968852093689325,1.591901129467466,1.5869480646464817,1.5820257263016009,1.5771338293981036,1.5722720924159086,1.5674402372955676,1.5626379893852527,1.557865077388716,1.5531212333141984,1.5484061924242707,1.5437196931865844,1.5390614772255147,1.5344312892746768,1.529828877130295,1.5252539916054113,1.5207063864849104,1.5161858184813484,1.5116920471915667,1.5072248350540756,1.5027839473071898,1.4983691519479039,1.4939802196914893,1.4896169239317987,1.4852790407022658,1.4809663486375833,1.4766786289360465],\"type\":\"scatter\",\"xaxis\":\"x2\",\"yaxis\":\"y2\"},{\"fill\":\"toself\",\"fillcolor\":\"rgba(255, 111, 0, 0.15)\",\"line\":{\"color\":\"rgba(255, 111, 0, 0.15)\",\"width\":0},\"mode\":\"lines\",\"showlegend\":false,\"x\":[0.8027481436729431,1.054103744273283,1.305459344873623,1.5568149454739628,1.8081705460743027,2.0595261466746426,2.3108817472749825,2.5622373478753224,2.8135929484756623,3.0649485490760022,3.316304149676342,3.567659750276682,3.819015350877022,4.070370951477361,4.321726552077702,4.573082152678042,4.8244377532783815,5.075793353878721,5.327148954479061,5.578504555079402,5.829860155679741,6.081215756280081,6.332571356880421,6.583926957480761,6.835282558081101,7.08663815868144,7.3379937592817805,7.589349359882121,7.84070496048246,8.0920605610828,8.343416161683141,8.59477176228348,8.84612736288382,9.09748296348416,9.348838564084499,9.60019416468484,9.85154976528518,10.102905365885519,10.35426096648586,10.6056165670862,10.85697216768654,11.108327768286879,11.359683368887218,11.61103896948756,11.862394570087899,12.113750170688238,12.36510577128858,12.616461371888919,12.867816972489258,13.1191725730896,13.1191725730896,12.867816972489258,12.616461371888919,12.36510577128858,12.113750170688238,11.862394570087899,11.61103896948756,11.359683368887218,11.108327768286879,10.85697216768654,10.6056165670862,10.35426096648586,10.102905365885519,9.85154976528518,9.60019416468484,9.348838564084499,9.09748296348416,8.84612736288382,8.59477176228348,8.343416161683141,8.0920605610828,7.84070496048246,7.589349359882121,7.3379937592817805,7.08663815868144,6.835282558081101,6.583926957480761,6.332571356880421,6.081215756280081,5.829860155679741,5.578504555079402,5.327148954479061,5.075793353878721,4.8244377532783815,4.573082152678042,4.321726552077702,4.070370951477361,3.819015350877022,3.567659750276682,3.316304149676342,3.0649485490760022,2.8135929484756623,2.5622373478753224,2.3108817472749825,2.0595261466746426,1.8081705460743027,1.5568149454739628,1.305459344873623,1.054103744273283,0.8027481436729431],\"y\":[2.17089629751534,2.1627118389305515,2.1545888607311396,2.1465266727625716,2.1385245951616736,2.130581958165521,2.1226981019245623,2.1148723763198842,2.107104140784501,2.099392764128569,2.0917376243684216,2.0841381085593382,2.0765936126319375,2.069103541232117,2.061667307564442,2.054284333238898,2.0469540481209276,2.039675890184665,2.032449305369288,2.0252737474384173,2.018148677842481,2.011073565583974,2.0040478870855436,1.9970711260608283,1.9901427733879862,1.9832623269858478,1.9764292916926278,1.9696431791471345,1.9629035076724213,1.9562098021618155,1.949561593967273,1.9429584207900008,1.9363998265732962,1.9298853613975473,1.9234145813773464,1.9169870485606681,1.9106023308300588,1.9042600018057976,1.8979596407509767,1.8917008324784632,1.885483167259691,1.8793062407352512,1.8731696538272293,1.8670730126532578,1.8610159284422378,1.8549980174517016,1.8490189008867672,1.8430782048206595,1.8371755601167572,1.8313106023521322,1.1845211266957416,1.1879917201092116,1.1914827106493115,1.1949942786608247,1.198526606620887,1.2020798791705944,1.2056542831471753,1.2092500076167407,1.2128672439076194,1.2165061856442938,1.2201670287819513,1.223849971641657,1.2275552149461693,1.2312829618564043,1.2350334180085702,1.238806791551981,1.2426032931875635,1.246423136207079,1.250266536533066,1.2541337127595273,1.2580248861933732,1.261940280896638,1.2658801237294903,1.2698446443940474,1.273834075479019,1.2778486525051915,1.2818886139717809,1.2859542014036605,1.2900456593994958,1.2941632356807997,1.2983071811419276,1.3024777499010403,1.3066751993520491,1.3108997902175699,1.3151517866029083,1.319431456051097,1.323739069599013,1.3280749018345972,1.3324392309552011,1.3368323388270906,1.3412545110461267,1.3457060369996583,1.350187209929649,1.3546983269970723,1.359239689347597,1.3638116021786049,1.36841437480756,1.373048320741769,1.3777137577495653,1.3824110079329466],\"type\":\"scatter\",\"xaxis\":\"x2\",\"yaxis\":\"y2\"},{\"error_y\":{\"array\":[0.23945653438568182,0.4285856485366819,0.4508501887321479,0.5918160676956172,0.36254727840423606,0.30473101139068604],\"arrayminus\":[0.21120965480804443,0.4122002720832827,0.3514726161956787,0.25708568096160866,0.3381975293159485,0.2585132122039795],\"color\":\"rgb(255, 111, 0)\",\"thickness\":3,\"type\":\"data\",\"visible\":true,\"width\":0},\"marker\":{\"color\":\"rgb(255, 111, 0)\",\"line\":{\"color\":\"rgb(255, 111, 0)\",\"width\":3},\"size\":8,\"symbol\":\"square\"},\"mode\":\"markers\",\"showlegend\":false,\"x\":[0.8027481436729431,1.7592397332191467,3.4754515886306763,5.990801095962524,9.273503303527832,13.1191725730896],\"y\":[1.7340092658996582,1.7029422521591189,1.5444732308387756,1.6183356046676636,1.6178736686706543,1.3824997544288635],\"type\":\"scatter\",\"xaxis\":\"x2\",\"yaxis\":\"y2\"}],                        {\"template\":{\"data\":{\"barpolar\":[{\"marker\":{\"line\":{\"color\":\"rgba(0,0,0,1)\",\"width\":1.5}},\"showlegend\":false,\"type\":\"barpolar\"}],\"pie\":[{\"direction\":\"clockwise\",\"hole\":0.4,\"marker\":{\"line\":{\"width\":0}},\"rotation\":0,\"sort\":false,\"textposition\":[\"inside\",\"none\"],\"type\":\"pie\"}],\"violin\":[{\"box\":{\"visible\":false},\"hoveron\":\"violins\",\"line\":{\"color\":\"rgba(0, 0, 0, 1)\",\"width\":1.5},\"meanline\":{\"visible\":false},\"points\":false,\"showlegend\":false,\"width\":0.8,\"type\":\"violin\"}]},\"layout\":{\"annotationdefaults\":{\"font\":{\"color\":\"rgba(0, 0, 0, 1)\",\"family\":\"Arial\",\"size\":15}},\"font\":{\"family\":\"Arial\",\"size\":15},\"plot_bgcolor\":\"rgba(255, 255, 255, 1)\",\"polar\":{\"angularaxis\":{\"showticklabels\":false,\"ticks\":\"\",\"visible\":false},\"radialaxis\":{\"showticklabels\":false,\"ticks\":\"\",\"visible\":false}},\"xaxis\":{\"color\":\"rgba(0, 0, 0, 1)\",\"hoverformat\":\".1f\",\"linewidth\":2,\"showgrid\":false,\"tickfont\":{\"family\":\"Arial\",\"size\":15},\"ticklen\":8,\"ticks\":\"outside\",\"tickwidth\":2,\"title\":{\"font\":{\"family\":\"Arial\",\"size\":15}},\"visible\":true,\"zeroline\":false,\"zerolinecolor\":\"rgba(0, 0, 0, 1)\",\"zerolinewidth\":2},\"yaxis\":{\"color\":\"rgba(0, 0, 0, 1)\",\"hoverformat\":\".1f\",\"linewidth\":2,\"showgrid\":false,\"tickfont\":{\"family\":\"Arial\",\"size\":15},\"ticklen\":8,\"ticks\":\"outside\",\"tickwidth\":2,\"title\":{\"font\":{\"family\":\"Arial\",\"size\":15}},\"visible\":true,\"zeroline\":false,\"zerolinecolor\":\"rgba(0, 0, 0, 1)\",\"zerolinewidth\":2}}},\"xaxis\":{\"anchor\":\"y\",\"domain\":[0.0,0.45],\"title\":{\"text\":\"pRF eccentricity (dva)\"},\"range\":[0,15],\"showline\":true},\"yaxis\":{\"anchor\":\"x\",\"domain\":[0.0,1.0],\"title\":{\"text\":\"pRF cortical magn. (mm\\u002fdva)\"},\"range\":[0,15],\"showline\":true},\"xaxis2\":{\"anchor\":\"y2\",\"domain\":[0.55,1.0],\"title\":{\"text\":\"pRF eccentricity (dva)\"},\"range\":[0,15],\"showline\":true},\"yaxis2\":{\"anchor\":\"x2\",\"domain\":[0.0,1.0],\"range\":[0,15],\"showline\":true},\"annotations\":[{\"font\":{\"color\":\"rgb(0, 152, 255)\",\"family\":\"Arial\",\"size\":15},\"showarrow\":false,\"text\":\"iIPS\",\"x\":12,\"xanchor\":\"left\",\"xref\":\"x\",\"y\":20,\"yref\":\"y\"},{\"font\":{\"color\":\"rgb(44, 255, 150)\",\"family\":\"Arial\",\"size\":15},\"showarrow\":false,\"text\":\"sIPS\",\"x\":12,\"xanchor\":\"left\",\"xref\":\"x\",\"y\":18,\"yref\":\"y\"},{\"font\":{\"color\":\"rgb(151, 255, 0)\",\"family\":\"Arial\",\"size\":15},\"showarrow\":false,\"text\":\"iPCS\",\"x\":12,\"xanchor\":\"left\",\"xref\":\"x2\",\"y\":20,\"yref\":\"y2\"},{\"font\":{\"color\":\"rgb(255, 234, 0)\",\"family\":\"Arial\",\"size\":15},\"showarrow\":false,\"text\":\"sPCS\",\"x\":12,\"xanchor\":\"left\",\"xref\":\"x2\",\"y\":18,\"yref\":\"y2\"},{\"font\":{\"color\":\"rgb(255, 111, 0)\",\"family\":\"Arial\",\"size\":15},\"showarrow\":false,\"text\":\"mPCS\",\"x\":12,\"xanchor\":\"left\",\"xref\":\"x2\",\"y\":16,\"yref\":\"y2\"}],\"margin\":{\"l\":470,\"r\":470,\"t\":50,\"b\":100},\"height\":400,\"width\":1440,\"showlegend\":false},                        {\"responsive\": true}                    ).then(function(){\n",
       "                            \n",
       "var gd = document.getElementById('d3920fb7-ebb0-436f-9ab7-1ab9e88906b4');\n",
       "var x = new MutationObserver(function (mutations, observer) {{\n",
       "        var display = window.getComputedStyle(gd).display;\n",
       "        if (!display || display === 'none') {{\n",
       "            console.log([gd, 'removed!']);\n",
       "            Plotly.purge(gd);\n",
       "            observer.disconnect();\n",
       "        }}\n",
       "}});\n",
       "\n",
       "// Listen for the removal of the full notebook cells\n",
       "var notebookContainer = gd.closest('#notebook-container');\n",
       "if (notebookContainer) {{\n",
       "    x.observe(notebookContainer, {childList: true});\n",
       "}}\n",
       "\n",
       "// Listen for the clearing of the current output cell\n",
       "var outputEl = gd.closest('.output');\n",
       "if (outputEl) {{\n",
       "    x.observe(outputEl, {childList: true});\n",
       "}}\n",
       "\n",
       "                        })                };                });            </script>        </div>"
      ]
     },
     "metadata": {},
     "output_type": "display_data"
    }
   ],
   "source": [
    "fig2 = prf_ecc_pcm_plot(df_ecc_pcm=df_ecc_pcm, fig_width=fig_width, fig_height=400, \n",
    "                        rois=rois, roi_colors=roi_colors_dict,\n",
    "                        plot_groups=plot_groups, max_ecc=max_ecc)\n",
    "\n",
    "fig2.show()\n",
    "fig2.write_image(\"/Users/uriel/Downloads/{}_ecc_pcm.pdf\".format(subject))"
   ]
  },
  {
   "cell_type": "code",
   "execution_count": 64,
   "id": "9d1e73ac-3e93-4be4-82da-120646de9b62",
   "metadata": {
    "tags": []
   },
   "outputs": [],
   "source": [
    "df_stats_ecc_pcm = pd.DataFrame()\n",
    "for subject in subjects :\n",
    "# for subject in ['sub-07'] :\n",
    "    intertask_all_tsv_dir ='{}/{}/derivatives/pp_data/{}/{}/intertask/tsv/tsv_vision_and_pursuit_and_saccade'.format(main_dir, project_dir, subject, format_)\n",
    "    tsv_dir ='{}/{}/derivatives/pp_data/{}/{}/prf/tsv'.format(main_dir, project_dir, subject, format_)\n",
    "\n",
    "    df_ecc_pcm = pd.read_table('{}/{}_vision_and_pursuit_and_saccade_prf_ecc_pcm_{}.tsv'.format(intertask_all_tsv_dir,subject, suffix))\n",
    "    # for roi in rois: \n",
    "    for roi in ['iIPS', 'sIPS', 'iPCS', 'sPCS', 'mPCS']: \n",
    "    # for roi in ['sIPS']: \n",
    "        df_stats_ecc_pcm_roi = pd.DataFrame()\n",
    "        # Get data\n",
    "        df_ecc_pcm_roi = df_ecc_pcm.loc[(df_ecc_pcm.roi == roi)]\n",
    "        \n",
    "        ecc_median = np.array(df_ecc_pcm_roi.prf_ecc_bins)\n",
    "        pcm_median = np.array(df_ecc_pcm_roi.prf_pcm_bins_median)\n",
    "        r2_median = np.array(df_ecc_pcm_roi.prf_loo_r2_bins_median)\n",
    "\n",
    "\n",
    "        # Creat model \n",
    "        slope, intercept = weighted_regression(ecc_median, pcm_median, r2_median, model='pcm')\n",
    "        \n",
    "        # Load data\n",
    "        df_pRF = pd.read_table('{}/{}_css-all_derivatives.tsv'.format(tsv_dir,subject))\n",
    "        \n",
    "        # Threshold data (replace by nan)\n",
    "        if stats_threshold == 0.05: stats_col = 'corr_pvalue_5pt'\n",
    "        elif stats_threshold == 0.01: stats_col = 'corr_pvalue_1pt'\n",
    "        df_pRF.loc[(df_pRF.amplitude < amplitude_threshold) |\n",
    "                 (df_pRF.prf_ecc < ecc_threshold[0]) | (df_pRF.prf_ecc > ecc_threshold[1]) |\n",
    "                 (df_pRF.prf_size < size_threshold[0]) | (df_pRF.prf_size > size_threshold[1]) | \n",
    "                 (df_pRF.prf_n < n_threshold[0]) | (df_pRF.prf_n > n_threshold[1]) | \n",
    "                 (df_pRF.prf_loo_r2 < rsqr_threshold) |\n",
    "                 (df_pRF[stats_col] > stats_threshold)] = np.nan\n",
    "        df_pRF = df_pRF.dropna()\n",
    "        \n",
    "        \n",
    "        df_pRF_roi = df_pRF.loc[(df_pRF.roi == roi)]\n",
    "        \n",
    "        pred_pcm_roi = 1 / (df_pRF_roi.prf_ecc * slope + intercept) \n",
    "        \n",
    "        # mask for nan\n",
    "        mask = ~df_pRF_roi.pcm_median.isna() & ~pred_pcm_roi.isna()\n",
    "\n",
    "        # linear regression between model and data \n",
    "        results = stats.linregress(x=pred_pcm_roi[mask], y=df_pRF_roi.pcm_median[mask], alternative='greater')\n",
    "        \n",
    "        df_stats_ecc_pcm_roi['subject'] = [subject]\n",
    "        df_stats_ecc_pcm_roi['roi'] = [roi]\n",
    "        df_stats_ecc_pcm_roi['rvalue'] = [results.rvalue]\n",
    "        df_stats_ecc_pcm_roi['pvalue'] = [results.pvalue]\n",
    "        \n",
    "        df_stats_ecc_pcm = pd.concat([df_stats_ecc_pcm, df_stats_ecc_pcm_roi])\n",
    "        "
   ]
  },
  {
   "cell_type": "code",
   "execution_count": 81,
   "id": "62ecf58e-794d-4919-a5e5-8ca608b7a669",
   "metadata": {
    "tags": []
   },
   "outputs": [
    {
     "name": "stdout",
     "output_type": "stream",
     "text": [
      "ecc / pcm relation signifante subjects\n",
      "iIPS\n",
      "all p-value inferior to 2.9033579296071657e-10\n",
      "r interval : 0.14 0.85\n",
      "sIPS\n",
      "all p-value inferior to 1.155012395099104e-68\n",
      "r interval : 0.47 0.84\n",
      "iPCS\n",
      "all p-value inferior to 0.007951947089380643\n",
      "r interval : 0.09 0.73\n",
      "sPCS\n",
      "all p-value inferior to 6.834237191079528e-22\n",
      "r interval : 0.24 0.84\n",
      "mPCS\n",
      "all p-value inferior to 0.008253033586031232\n",
      "r interval : 0.08 0.8\n"
     ]
    }
   ],
   "source": [
    "print('ecc / pcm relation signifante subjects')\n",
    "for roi in ['iIPS', 'sIPS', 'iPCS', 'sPCS', 'mPCS'] : \n",
    "    df_stats_roi_significant = df_stats_ecc_pcm.loc[(df_stats['roi']==roi)&(df_stats_ecc_pcm['pvalue'] < 0.01)]\n",
    "    \n",
    "    print('{}'. format(roi))\n",
    "    print('all p-value inferior to {}'.format(df_stats_roi_significant['pvalue'].max()))\n",
    "    print('r interval : {} {}'.format(df_stats_roi_significant['rvalue'].min().round(2), df_stats_roi_significant['rvalue'].max().round(2)))\n"
   ]
  },
  {
   "cell_type": "code",
   "execution_count": 82,
   "id": "5489cf38-2a0b-4d29-8f41-ed81928d5a66",
   "metadata": {
    "tags": []
   },
   "outputs": [
    {
     "name": "stdout",
     "output_type": "stream",
     "text": [
      "ecc / pcm relation non signifante subjects\n",
      "iIPS: no subject non significant\n",
      "sIPS\n",
      "2 subject(s) is / are not significative : (['sub-02' 'sub-07'])\n",
      "all p-value superior to 0.24951673913945166\n",
      "r interval : -0.14 0.01\n",
      "iPCS\n",
      "5 subject(s) is / are not significative : (['sub-01' 'sub-07' 'sub-09' 'sub-22' 'sub-25'])\n",
      "all p-value superior to 0.11528762556608933\n",
      "r interval : -0.38 0.04\n",
      "sPCS\n",
      "2 subject(s) is / are not significative : (['sub-07' 'sub-23'])\n",
      "all p-value superior to 0.992587301621508\n",
      "r interval : -0.21 -0.05\n",
      "mPCS\n",
      "7 subject(s) is / are not significative : (['sub-03' 'sub-04' 'sub-06' 'sub-09' 'sub-20' 'sub-23' 'sub-25'])\n",
      "all p-value superior to 0.015832897459077816\n",
      "r interval : -0.39 0.09\n"
     ]
    }
   ],
   "source": [
    "print('ecc / pcm relation non signifante subjects')\n",
    "for roi in ['iIPS', 'sIPS', 'iPCS', 'sPCS', 'mPCS']:\n",
    "    df_stats_roi_significant = df_stats_ecc_pcm.loc[(df_stats['roi'] == roi) & (df_stats_ecc_pcm['pvalue'] > 0.01)]\n",
    "    \n",
    "    if df_stats_roi_significant.empty:\n",
    "        print('{}: no subject non significant'.format(roi))\n",
    "        continue  # Passer à l'itération suivante si df_stats_roi_significant est vide\n",
    "    \n",
    "    print('{}'.format(roi))\n",
    "    print('{} subject(s) is / are not significative : ({})'.format(df_stats_roi_significant['subject'].shape[0] , df_stats_roi_significant['subject'].values))\n",
    "    print('all p-value superior to {}'.format(df_stats_roi_significant['pvalue'].min()))\n",
    "    print('r interval : {} {}'.format(df_stats_roi_significant['rvalue'].min().round(2), df_stats_roi_significant['rvalue'].max().round(2)))\n"
   ]
  },
  {
   "cell_type": "code",
   "execution_count": 22,
   "id": "ecf2a470-7751-4293-8147-1478eb7c5904",
   "metadata": {
    "tags": []
   },
   "outputs": [],
   "source": [
    "fig = go.Figure()\n",
    "fig.add_trace(go.Table(header=dict(values=list(df_stats_ecc_pcm.columns), \n",
    "                                   fill_color='paleturquoise', \n",
    "                                   align='left'), \n",
    "                       cells=dict(values=[df_stats_ecc_pcm[col].round(3) for col in df_stats_ecc_pcm.columns], \n",
    "                                  fill_color='lavender', \n",
    "                                  align='left')\n",
    "                      ))\n",
    "\n",
    "fig.update_layout(template=fig_template,\n",
    "                  height=2500, \n",
    "                  width=1200)\n",
    "fig.write_image(\"/Users/uriel/Downloads/ecc_pcm_stats2.pdf\".format(subject))\n",
    "# fig.show()"
   ]
  },
  {
   "cell_type": "markdown",
   "id": "6b718a22-73da-49bd-9924-7ca6044fa361",
   "metadata": {
    "tags": []
   },
   "source": [
    "# Pycortex maps "
   ]
  },
  {
   "cell_type": "markdown",
   "id": "1abbb687",
   "metadata": {
    "tags": []
   },
   "source": [
    "##  intertask"
   ]
  },
  {
   "cell_type": "code",
   "execution_count": 26,
   "id": "bb79cbd3-f1b3-420b-aa20-c52ef1127b32",
   "metadata": {
    "tags": []
   },
   "outputs": [
    {
     "ename": "FileNotFoundError",
     "evalue": "No such file or no access: '/Users/uriel/disks/meso_shared/RetinoMaps/derivatives/pp_data/sub-03/170k/intertask/sub-03_intertask_Sac_Pur.dtseries.nii'",
     "output_type": "error",
     "traceback": [
      "\u001b[0;31m---------------------------------------------------------------------------\u001b[0m",
      "\u001b[0;31mFileNotFoundError\u001b[0m                         Traceback (most recent call last)",
      "File \u001b[0;32m~/softwares/anaconda/envs/prf_env/lib/python3.11/site-packages/nibabel/loadsave.py:100\u001b[0m, in \u001b[0;36mload\u001b[0;34m(filename, **kwargs)\u001b[0m\n\u001b[1;32m     99\u001b[0m \u001b[38;5;28;01mtry\u001b[39;00m:\n\u001b[0;32m--> 100\u001b[0m     stat_result \u001b[38;5;241m=\u001b[39m os\u001b[38;5;241m.\u001b[39mstat(filename)\n\u001b[1;32m    101\u001b[0m \u001b[38;5;28;01mexcept\u001b[39;00m \u001b[38;5;167;01mOSError\u001b[39;00m:\n",
      "\u001b[0;31mFileNotFoundError\u001b[0m: [Errno 2] No such file or directory: '/Users/uriel/disks/meso_shared/RetinoMaps/derivatives/pp_data/sub-03/170k/intertask/sub-03_intertask_Sac_Pur.dtseries.nii'",
      "\nDuring handling of the above exception, another exception occurred:\n",
      "\u001b[0;31mFileNotFoundError\u001b[0m                         Traceback (most recent call last)",
      "Cell \u001b[0;32mIn[26], line 57\u001b[0m\n\u001b[1;32m     53\u001b[0m pur_stats_avg_fn \u001b[38;5;241m=\u001b[39m \u001b[38;5;124m'\u001b[39m\u001b[38;5;132;01m{}\u001b[39;00m\u001b[38;5;124m/\u001b[39m\u001b[38;5;132;01m{}\u001b[39;00m\u001b[38;5;124m_task-\u001b[39m\u001b[38;5;132;01m{}\u001b[39;00m\u001b[38;5;124m_fmriprep_dct_avg_glm-stats_loo-median.dtseries.nii\u001b[39m\u001b[38;5;124m'\u001b[39m\u001b[38;5;241m.\u001b[39mformat(\n\u001b[1;32m     54\u001b[0m     glm_stats_dir, subject, pur_task)\n\u001b[1;32m     56\u001b[0m \u001b[38;5;66;03m#  Load data\u001b[39;00m\n\u001b[0;32m---> 57\u001b[0m results_stats \u001b[38;5;241m=\u001b[39m \u001b[43mload_surface_pycortex\u001b[49m\u001b[43m(\u001b[49m\u001b[43mbrain_fn\u001b[49m\u001b[38;5;241;43m=\u001b[39;49m\u001b[43mstats_avg_fn\u001b[49m\u001b[43m)\u001b[49m\n\u001b[1;32m     58\u001b[0m intertask_mat \u001b[38;5;241m=\u001b[39m results_stats[\u001b[38;5;124m'\u001b[39m\u001b[38;5;124mdata_concat\u001b[39m\u001b[38;5;124m'\u001b[39m]\n\u001b[1;32m     60\u001b[0m results_prf \u001b[38;5;241m=\u001b[39m load_surface_pycortex(brain_fn\u001b[38;5;241m=\u001b[39mprf_stats_avg_fn)\n",
      "File \u001b[0;32m~/disks/meso_H/projects/pRF_analysis/RetinoMaps/dev/../../analysis_code/utils/pycortex_utils.py:325\u001b[0m, in \u001b[0;36mload_surface_pycortex\u001b[0;34m(L_fn, R_fn, brain_fn, return_img, return_hemi_len, return_59k_mask, return_source_data)\u001b[0m\n\u001b[1;32m    322\u001b[0m         result[\u001b[38;5;124m'\u001b[39m\u001b[38;5;124msource_data_R\u001b[39m\u001b[38;5;124m'\u001b[39m] \u001b[38;5;241m=\u001b[39m data_R\n\u001b[1;32m    324\u001b[0m \u001b[38;5;28;01melif\u001b[39;00m brain_fn:\n\u001b[0;32m--> 325\u001b[0m     img, data \u001b[38;5;241m=\u001b[39m \u001b[43mload_surface\u001b[49m\u001b[43m(\u001b[49m\u001b[43mbrain_fn\u001b[49m\u001b[43m)\u001b[49m\n\u001b[1;32m    326\u001b[0m     result\u001b[38;5;241m.\u001b[39mupdate(from_170k_to_59k(img\u001b[38;5;241m=\u001b[39mimg, \n\u001b[1;32m    327\u001b[0m                                     data\u001b[38;5;241m=\u001b[39mdata, \n\u001b[1;32m    328\u001b[0m                                     return_concat_hemis\u001b[38;5;241m=\u001b[39m\u001b[38;5;28;01mTrue\u001b[39;00m, \n\u001b[1;32m    329\u001b[0m                                     return_59k_mask\u001b[38;5;241m=\u001b[39mreturn_59k_mask))\n\u001b[1;32m    331\u001b[0m     \u001b[38;5;28;01mif\u001b[39;00m return_img:\n",
      "File \u001b[0;32m~/disks/meso_H/projects/pRF_analysis/RetinoMaps/dev/../../analysis_code/utils/surface_utils.py:138\u001b[0m, in \u001b[0;36mload_surface\u001b[0;34m(fn)\u001b[0m\n\u001b[1;32m    135\u001b[0m     img, data \u001b[38;5;241m=\u001b[39m load_gifti_image(fn)\n\u001b[1;32m    137\u001b[0m \u001b[38;5;28;01melif\u001b[39;00m fn\u001b[38;5;241m.\u001b[39mendswith(\u001b[38;5;124m'\u001b[39m\u001b[38;5;124m.nii\u001b[39m\u001b[38;5;124m'\u001b[39m):\n\u001b[0;32m--> 138\u001b[0m     img \u001b[38;5;241m=\u001b[39m \u001b[43mnb\u001b[49m\u001b[38;5;241;43m.\u001b[39;49m\u001b[43mload\u001b[49m\u001b[43m(\u001b[49m\u001b[43mfn\u001b[49m\u001b[43m)\u001b[49m\n\u001b[1;32m    139\u001b[0m     data \u001b[38;5;241m=\u001b[39m img\u001b[38;5;241m.\u001b[39mget_fdata()\n\u001b[1;32m    141\u001b[0m \u001b[38;5;28;01melse\u001b[39;00m:\n",
      "File \u001b[0;32m~/softwares/anaconda/envs/prf_env/lib/python3.11/site-packages/nibabel/loadsave.py:102\u001b[0m, in \u001b[0;36mload\u001b[0;34m(filename, **kwargs)\u001b[0m\n\u001b[1;32m    100\u001b[0m     stat_result \u001b[38;5;241m=\u001b[39m os\u001b[38;5;241m.\u001b[39mstat(filename)\n\u001b[1;32m    101\u001b[0m \u001b[38;5;28;01mexcept\u001b[39;00m \u001b[38;5;167;01mOSError\u001b[39;00m:\n\u001b[0;32m--> 102\u001b[0m     \u001b[38;5;28;01mraise\u001b[39;00m \u001b[38;5;167;01mFileNotFoundError\u001b[39;00m(\u001b[38;5;124mf\u001b[39m\u001b[38;5;124m\"\u001b[39m\u001b[38;5;124mNo such file or no access: \u001b[39m\u001b[38;5;124m'\u001b[39m\u001b[38;5;132;01m{\u001b[39;00mfilename\u001b[38;5;132;01m}\u001b[39;00m\u001b[38;5;124m'\u001b[39m\u001b[38;5;124m\"\u001b[39m)\n\u001b[1;32m    103\u001b[0m \u001b[38;5;28;01mif\u001b[39;00m stat_result\u001b[38;5;241m.\u001b[39mst_size \u001b[38;5;241m<\u001b[39m\u001b[38;5;241m=\u001b[39m \u001b[38;5;241m0\u001b[39m:\n\u001b[1;32m    104\u001b[0m     \u001b[38;5;28;01mraise\u001b[39;00m ImageFileError(\u001b[38;5;124mf\u001b[39m\u001b[38;5;124m\"\u001b[39m\u001b[38;5;124mEmpty file: \u001b[39m\u001b[38;5;124m'\u001b[39m\u001b[38;5;132;01m{\u001b[39;00mfilename\u001b[38;5;132;01m}\u001b[39;00m\u001b[38;5;124m'\u001b[39m\u001b[38;5;124m\"\u001b[39m)\n",
      "\u001b[0;31mFileNotFoundError\u001b[0m: No such file or no access: '/Users/uriel/disks/meso_shared/RetinoMaps/derivatives/pp_data/sub-03/170k/intertask/sub-03_intertask_Sac_Pur.dtseries.nii'"
     ]
    }
   ],
   "source": [
    "subject = 'sub-03'\n",
    "pycortex_subject = 'sub-170k'\n",
    "format_ = '170k'\n",
    "extension = 'dtseries.nii'\n",
    "prf_task_name = analysis_info['prf_task_name']\n",
    "alpha_range = analysis_info[\"alpha_range\"]\n",
    "group_tasks = analysis_info['task_intertask']\n",
    "flatmaps_dir = '/Users/uriel/Desktop/flatmaps/'\n",
    "\n",
    "# Maps settings\n",
    "all_idx, pur_idx, sac_idx, pur_sac_idx, prf_idx, prf_pur_idx, prf_sac_idx, \\\n",
    "        prf_pur_sac_idx = 0,1,2,3,4,5,6,7\n",
    "\n",
    "slope_idx, intercept_idx, rvalue_idx, pvalue_idx, stderr_idx, \\\n",
    "    trs_idx, corr_pvalue_5pt_idx, corr_pvalue_1pt_idx = 0, 1, 2, 3, 4, 5, 6, 7\n",
    "\n",
    "# Set pycortex db and colormaps\n",
    "cortex_dir = \"{}/{}/derivatives/pp_data/cortex\".format(main_dir, project_dir)\n",
    "set_pycortex_config_file(cortex_dir)\n",
    "\n",
    "# Define/create colormap\n",
    "colormap_name = 'viridis'\n",
    "colormap_dict = {'n/a': (255, 255, 255),\n",
    "                 'Pursuit':  (227, 119, 194),\n",
    "                 'Saccade': (140, 86, 75),\n",
    "                 'Pursuit_and_Saccade': (148, 103, 189),\n",
    "                 'Vision': (214, 39, 40),\n",
    "                 'Vision_and_Pursuit': (44, 160, 44), \n",
    "                 'Vision_and_Saccade': (255, 127, 14),\n",
    "                 'Vision_and_Pursuit_and_Saccade': (31, 119, 180)}\n",
    "# create_colormap(cortex_dir=cortex_dir, \n",
    "#                 colormap_name=colormap_name, \n",
    "#                 colormap_dict=colormap_dict)\n",
    "\n",
    "suffix = 'Sac_Pur'\n",
    "sac_task = 'SacVELoc'\n",
    "pur_task = 'PurVELoc'\n",
    "\n",
    "# Define directories and fn\n",
    "intertask_dir = \"{}/{}/derivatives/pp_data/{}/{}/intertask\".format(\n",
    "    main_dir, project_dir, subject,format_)\n",
    "prf_stats_dir = \"{}/{}/derivatives/pp_data/{}/{}/prf/prf_derivatives\".format(\n",
    "    main_dir, project_dir, subject,format_)\n",
    "glm_stats_dir = \"{}/{}/derivatives/pp_data/{}/{}/glm/glm_derivatives\".format(\n",
    "    main_dir, project_dir,  subject,format_)\n",
    "\n",
    "stats_avg_fn = '{}/{}_intertask_{}.dtseries.nii'.format(\n",
    "    intertask_dir, subject, suffix)\n",
    "prf_stats_avg_fn = '{}/{}_task-{}_fmriprep_dct_avg_prf-stats_loo-median.dtseries.nii'.format(\n",
    "    prf_stats_dir, subject, prf_task_name)\n",
    "sac_stats_avg_fn = '{}/{}_task-{}_fmriprep_dct_avg_glm-stats_loo-median.dtseries.nii'.format(\n",
    "    glm_stats_dir, subject, sac_task)\n",
    "pur_stats_avg_fn = '{}/{}_task-{}_fmriprep_dct_avg_glm-stats_loo-median.dtseries.nii'.format(\n",
    "    glm_stats_dir, subject, pur_task)\n",
    "\n",
    "#  Load data\n",
    "results_stats = load_surface_pycortex(brain_fn=stats_avg_fn)\n",
    "intertask_mat = results_stats['data_concat']\n",
    "\n",
    "results_prf = load_surface_pycortex(brain_fn=prf_stats_avg_fn)\n",
    "prf_mat = results_prf['data_concat']\n",
    "\n",
    "results_sac = load_surface_pycortex(brain_fn=sac_stats_avg_fn)\n",
    "sac_mat = results_sac['data_concat']\n",
    "\n",
    "results_pur = load_surface_pycortex(brain_fn=pur_stats_avg_fn)\n",
    "pur_mat = results_pur['data_concat']\n",
    "\n",
    "if subject == 'sub-170k': save_svg = save_svg\n",
    "else: save_svg = False\n",
    "\n",
    "\n",
    "# Compute R2 from R\n",
    "prf_mat[rvalue_idx,:] =  prf_mat[rvalue_idx,:]**2\n",
    "sac_mat[rvalue_idx,:] = sac_mat[rvalue_idx,:]**2\n",
    "pur_mat[rvalue_idx,:] = pur_mat[rvalue_idx,:]**2\n",
    "\n",
    "# threshold data\n",
    "# pRF\n",
    "prf_mat_corrected = copy.copy(prf_mat)\n",
    "prf_mat_corrected_th = prf_mat_corrected\n",
    "if analysis_info['stats_th'] == 0.05: stats_th_down = prf_mat_corrected_th[corr_pvalue_5pt_idx,...] <= 0.05\n",
    "elif analysis_info['stats_th'] == 0.01: stats_th_down = prf_mat_corrected_th[corr_pvalue_1pt_idx,...] <= 0.01\n",
    "prf_mat_corrected[rvalue_idx, stats_th_down==False]=0 # put this to zero to not plot it\n",
    "\n",
    "# SacLoc        \n",
    "sac_mat_corrected = copy.copy(sac_mat)\n",
    "sac_mat_corrected_th = sac_mat_corrected\n",
    "if analysis_info['stats_th'] == 0.05: stats_th_down = sac_mat_corrected_th[corr_pvalue_5pt_idx,...] <= 0.05\n",
    "elif analysis_info['stats_th'] == 0.01: stats_th_down = sac_mat_corrected_th[corr_pvalue_1pt_idx,...] <= 0.01\n",
    "sac_mat_corrected[rvalue_idx, stats_th_down==False]=0 # put this to zero to not plot it\n",
    "\n",
    "# PurLoc        \n",
    "pur_mat_corrected = copy.copy(pur_mat)\n",
    "pur_mat_corrected_th = pur_mat_corrected\n",
    "if analysis_info['stats_th'] == 0.05: stats_th_down = pur_mat_corrected_th[corr_pvalue_5pt_idx,...] <= 0.05\n",
    "elif analysis_info['stats_th'] == 0.01: stats_th_down = pur_mat_corrected_th[corr_pvalue_1pt_idx,...] <= 0.01\n",
    "pur_mat_corrected[rvalue_idx, stats_th_down==False]=0 # put this to zero to not plot it\n",
    "\n",
    "#  Creat R2 for the all flatmap\n",
    "rsq_all = np.zeros((intertask_mat[all_idx,...].shape))\n",
    "for vert, categorie in enumerate(intertask_mat[all_idx,...]):\n",
    "    if categorie == 1: rsq_all[vert] = pur_mat_corrected[rvalue_idx,vert]\n",
    "\n",
    "    elif categorie == 2: rsq_all[vert] = sac_mat_corrected[rvalue_idx,vert]\n",
    "\n",
    "    elif categorie == 3: rsq_all[vert] = np.nanmedian([pur_mat_corrected[rvalue_idx,vert], \n",
    "                                                     sac_mat_corrected[rvalue_idx,vert]],\n",
    "                                                    axis=0)\n",
    "\n",
    "    elif categorie == 4: rsq_all[vert] = prf_mat_corrected[rvalue_idx,vert]\n",
    "\n",
    "    elif categorie == 5: rsq_all[vert] = np.nanmedian([prf_mat_corrected[rvalue_idx,vert], \n",
    "                                                     pur_mat_corrected[rvalue_idx,vert]],\n",
    "                                                    axis=0)\n",
    "\n",
    "    elif categorie == 6: rsq_all[vert] = np.nanmedian([prf_mat_corrected[rvalue_idx,vert], \n",
    "                                                     sac_mat_corrected[rvalue_idx,vert]],\n",
    "                                                    axis=0)\n",
    "\n",
    "    elif categorie == 7: rsq_all[vert] = np.nanmedian([prf_mat_corrected[rvalue_idx,vert], \n",
    "                                                      sac_mat_corrected[rvalue_idx,vert], \n",
    "                                                      pur_mat_corrected[rvalue_idx,vert]], \n",
    "                                                    axis=0)\n",
    "\n",
    "#  Creat R2 for the pur_sac flatmap       \n",
    "rsq_pur_sac = np.zeros((intertask_mat[pur_sac_idx,...].shape))\n",
    "for vert, categorie in enumerate(intertask_mat[pur_sac_idx,...]):\n",
    "    if categorie == 3: rsq_pur_sac[vert] = np.nanmedian([pur_mat_corrected[rvalue_idx,vert], \n",
    "                                                       sac_mat_corrected[rvalue_idx,vert]], \n",
    "                                                      axis=0)\n",
    "\n",
    "#  Creat R2 for the prf_pur flatmap               \n",
    "rsq_prf_pur = np.zeros((intertask_mat[prf_pur_idx,...].shape))\n",
    "for vert, categorie in enumerate(intertask_mat[prf_pur_idx,...]):\n",
    "    if categorie == 5: rsq_prf_pur[vert] = np.nanmedian([pur_mat_corrected[rvalue_idx,vert], \n",
    "                                                       sac_mat_corrected[rvalue_idx,vert]], \n",
    "                                                      axis=0)\n",
    "\n",
    "#  Creat R2 for the prf_sac flatmap               \n",
    "rsq_prf_sac = np.zeros((intertask_mat[prf_sac_idx,...].shape))\n",
    "for vert, categorie in enumerate(intertask_mat[prf_sac_idx,...]):\n",
    "    if categorie == 6: rsq_prf_sac[vert] = np.nanmedian([prf_mat_corrected[rvalue_idx,vert], \n",
    "                                                       sac_mat_corrected[rvalue_idx,vert]], \n",
    "                                                      axis=0)\n",
    "\n",
    "#  Creat R2 for the prf_pur_sac flatmap               \n",
    "rsq_prf_pur_sac = np.zeros((intertask_mat[all_idx,...].shape))\n",
    "for vert, categorie in enumerate(intertask_mat[all_idx,...]):\n",
    "    if categorie == 7: rsq_prf_pur_sac[vert] = np.nanmean([prf_mat[rvalue_idx,vert], \n",
    "                                                           sac_mat_corrected[rvalue_idx,vert], \n",
    "                                                           pur_mat_corrected[rvalue_idx,vert]], \n",
    "                                                          axis=0)\n",
    "\n",
    "# Create flatmaps  \n",
    "print('Creating flatmaps...')\n",
    "maps_names = []      \n",
    "\n",
    "# get roi mask \n",
    "rois_dic = get_rois(subject='sub-12', return_concat_hemis=True, return_hemi=None, rois=None, mask=True, atlas_name='mmp_group', surf_size='59k')\n",
    "frontal_mask = rois_dic['iPCS'] | rois_dic['sPCS'] | rois_dic['mPCS']\n",
    "parietal_mask = rois_dic['iIPS'] | rois_dic['sIPS']\n",
    "\n",
    "\n",
    "masks = {'frontal_mask':frontal_mask}\n",
    "# masks = {'parietal_mask':parietal_mask}\n",
    "\n",
    "for mask in masks.keys():\n",
    "    rois_mask = masks[mask]\n",
    "    \n",
    "#     #  Creat the all \n",
    "#     alpha_all = (rsq_all - alpha_range[0])/(alpha_range[1]-alpha_range[0])\n",
    "#     alpha_all[alpha_all>1]=1\n",
    "#     alpha_all[~rois_mask] = 0\n",
    "\n",
    "\n",
    "#     intertask_data_all = intertask_mat[all_idx,...]\n",
    "#     alpha_all[intertask_data_all == 0] = 0\n",
    "#     param_all = {'data': intertask_data_all, \n",
    "#                  'cmap': colormap_name, \n",
    "#                  'alpha': alpha_all, \n",
    "#                  'vmin': 0, \n",
    "#                  'vmax': 7, \n",
    "#                  'cbar': 'discrete_personalized', \n",
    "#                  'cmap_steps': len(colormap_dict),\n",
    "#                  'cmap_dict': colormap_dict,\n",
    "#                  'cortex_type': 'VertexRGB', \n",
    "#                  'description': 'intertask map', \n",
    "#                  'curv_brightness': 0.5, \n",
    "#                  'curv_contrast': 0.25, \n",
    "#                  'add_roi': save_svg, \n",
    "#                  'cbar_label': '', \n",
    "#                  'with_labels': True}\n",
    "#     maps_names.append('all')\n",
    "\n",
    "    #  Creat the vision_and_pursuit_and_saccade flatmap\n",
    "    alpha_prf_pur_sac = (rsq_prf_pur_sac - alpha_range[0])/(alpha_range[1]-alpha_range[0])\n",
    "    alpha_prf_pur_sac[alpha_prf_pur_sac>1]=1\n",
    "    alpha_prf_pur_sac[~rois_mask] = 0\n",
    "\n",
    "\n",
    "    intertask_data_prf_pur_sac = intertask_mat[prf_pur_sac_idx,...]\n",
    "    alpha_prf_pur_sac[intertask_data_prf_pur_sac == 0] = 0\n",
    "    param_vision_and_pursuit_and_saccade = {'data': rsq_prf_pur_sac, \n",
    "                                            'cmap': colormap_name, \n",
    "                                            'alpha': alpha_prf_pur_sac, \n",
    "                                            'vmin': 0, \n",
    "                                            'vmax': 0.4, \n",
    "#                                             'cbar': 'discrete_personalized', \n",
    "                                            'cmap_steps': len(colormap_dict), \n",
    "                                            'cmap_dict': colormap_dict,\n",
    "                                            'cortex_type': 'VertexRGB', \n",
    "                                            'description': 'intertask map', \n",
    "                                            'curv_brightness': 1, \n",
    "                                            'curv_contrast': 0.25, \n",
    "                                            'add_roi': save_svg, \n",
    "                                            'cbar_label': '',  \n",
    "                                            'with_labels': True}\n",
    "    maps_names.append('vision_and_pursuit_and_saccade')\n",
    "    \n",
    "    #  Creat the pursuit flatmap\n",
    "    rsq_pur = pur_mat_corrected[rvalue_idx, :]\n",
    "\n",
    "\n",
    "    alpha_pur = (rsq_pur - alpha_range[0])/(alpha_range[1]-alpha_range[0])\n",
    "    alpha_pur[alpha_pur>1]=1\n",
    "    # alpha_pur[~rois_mask] = 0\n",
    "\n",
    "\n",
    "\n",
    "    intertask_data_pur = intertask_mat[pur_idx,...]\n",
    "    alpha_pur[intertask_data_pur == 0] = 0\n",
    "    param_pursuit = {'data': rsq_pur, \n",
    "                     'cmap': colormap_name, \n",
    "                     'alpha': alpha_pur, \n",
    "                     'vmin': 0, \n",
    "                     'vmax': 0.4, \n",
    "#                      'cbar': 'discrete_personalized', \n",
    "                     'cmap_steps': len(colormap_dict),\n",
    "                     'cmap_dict': colormap_dict,\n",
    "                     'cortex_type': 'VertexRGB', \n",
    "                     'description': 'intertask map',\n",
    "                     'curv_brightness': 1, \n",
    "                     'curv_contrast': 0.25, \n",
    "                     'add_roi': save_svg,\n",
    "                     'cbar_label': '', \n",
    "                     'with_labels': True}\n",
    "    maps_names.append('pursuit')\n",
    "\n",
    "    #  Creat the saccade flatmap\n",
    "    rsq_sac = sac_mat_corrected[rvalue_idx, :]\n",
    "    alpha_sac = (rsq_sac - alpha_range[0])/(alpha_range[1]-alpha_range[0])\n",
    "    alpha_sac[alpha_sac>1]=1\n",
    "    # alpha_sac[~rois_mask] = 0\n",
    "\n",
    "\n",
    "    intertask_data_sac = intertask_mat[sac_idx,...]\n",
    "    alpha_sac[intertask_data_sac == 0] = 0\n",
    "    param_saccade = {'data': rsq_sac, \n",
    "                     'cmap': colormap_name, \n",
    "                     'alpha': alpha_sac, \n",
    "                     'vmin': 0, \n",
    "                     'vmax': 0.4, \n",
    "#                      'cbar': 'discrete_personalized', \n",
    "                     'cmap_steps': len(colormap_dict),\n",
    "                     'cmap_dict': colormap_dict,\n",
    "                     'cortex_type': 'VertexRGB', \n",
    "                     'description': 'intertask map',\n",
    "                     'curv_brightness': 1, \n",
    "                     'curv_contrast': 0.25, \n",
    "                     'add_roi': save_svg,\n",
    "                     'cbar_label': '', \n",
    "                     'with_labels': True}\n",
    "    maps_names.append('saccade')\n",
    "    \n",
    "    #  Creat the vision flatmap\n",
    "    rsq_prf = prf_mat_corrected[rvalue_idx, :].astype(np.float64)\n",
    "    alpha_prf = (rsq_prf - alpha_range[0])/(alpha_range[1]-alpha_range[0])\n",
    "    alpha_prf[alpha_prf>1]=1\n",
    "    # alpha_prf[~rois_mask] = 0\n",
    "\n",
    "\n",
    "    intertask_data_prf = intertask_mat[prf_idx,...]\n",
    "    alpha_prf[intertask_data_prf == 0] = 0\n",
    "    param_vision = {'data': rsq_prf, \n",
    "                    'cmap': colormap_name, \n",
    "                    'alpha': alpha_prf, \n",
    "                    'vmin': 0, \n",
    "                    'vmax': 0.4, \n",
    "#                     'cbar': 'discrete_personalized', \n",
    "                    'cmap_steps': len(colormap_dict),\n",
    "                    'cmap_dict': colormap_dict,\n",
    "                    'cortex_type': 'VertexRGB', \n",
    "                    'description': 'intertask map',\n",
    "                    'curv_brightness': 1, \n",
    "                    'curv_contrast': 0.25, \n",
    "                    'add_roi': save_svg,\n",
    "                    'cbar_label': '',\n",
    "                    'with_labels': True}\n",
    "    maps_names.append('vision')\n",
    "\n",
    "    # draw flatmaps\n",
    "    volumes = {}\n",
    "    for maps_name in maps_names:\n",
    "\n",
    "        # create flatmap\n",
    "        roi_name = '{}'.format(maps_name)\n",
    "        roi_param = {'subject': pycortex_subject, 'xfmname': None, 'roi_name': roi_name}\n",
    "        print(roi_name)\n",
    "        exec('param_{}.update(roi_param)'.format(maps_name))\n",
    "        exec('volume_{maps_name} = draw_cortex(**param_{maps_name})'.format(maps_name = maps_name))\n",
    "        exec(\"plt.savefig('{}/{}_{}_{}_{}.pdf')\".format(flatmaps_dir, subject, maps_name, suffix, mask))\n",
    "        plt.close()\n",
    "\n",
    "\n",
    "\n"
   ]
  },
  {
   "cell_type": "code",
   "execution_count": 12,
   "id": "c4031d6a",
   "metadata": {},
   "outputs": [
    {
     "data": {
      "text/plain": [
       "0.856955378019908"
      ]
     },
     "execution_count": 12,
     "metadata": {},
     "output_type": "execute_result"
    }
   ],
   "source": [
    "rsq_prf.max()"
   ]
  },
  {
   "cell_type": "markdown",
   "id": "30b71e75",
   "metadata": {
    "tags": []
   },
   "source": [
    "## pRF"
   ]
  },
  {
   "cell_type": "code",
   "execution_count": 6,
   "id": "5b5f24ec",
   "metadata": {
    "tags": []
   },
   "outputs": [
    {
     "name": "stdout",
     "output_type": "stream",
     "text": [
      "pRF_ecc\n",
      "Fontconfig warning: ignoring UTF-8: not a valid region tag\n",
      "pRF_size\n",
      "Fontconfig warning: ignoring UTF-8: not a valid region tag\n",
      "pRF_pcm\n",
      "Fontconfig warning: ignoring UTF-8: not a valid region tag\n"
     ]
    }
   ],
   "source": [
    "subject = 'sub-03'\n",
    "pycortex_subject = 'sub-170k'\n",
    "format_ = '170k'\n",
    "extension = 'dtseries.nii'\n",
    "flatmaps_dir = '/Users/uriel/Desktop/flatmaps/'\n",
    "\n",
    "\n",
    "prf_task_name = analysis_info['prf_task_name']\n",
    "maps_names_css = analysis_info['maps_names_css']\n",
    "maps_names_pcm = analysis_info['maps_names_pcm']\n",
    "maps_names_css_stats = analysis_info['maps_names_css_stats']\n",
    "\n",
    "\n",
    "\n",
    "rois_dic = get_rois(subject=subject, return_concat_hemis=True, return_hemi=None, rois=None, mask=True, atlas_name='mmp_group', surf_size='59k')\n",
    "frontal_mask = rois_dic['iPCS'] | rois_dic['sPCS'] | rois_dic['mPCS']\n",
    "parietal_mask = rois_dic['iIPS'] | rois_dic['sIPS']\n",
    "\n",
    "parietal_frontal_mask = rois_dic['iPCS'] | rois_dic['sPCS'] | rois_dic['mPCS'] | rois_dic['iIPS'] | rois_dic['sIPS']\n",
    "save_svg = False\n",
    "# masks = {'frontal_mask':frontal_mask, 'parietal_mask':parietal_mask}\n",
    "# masks = {'parietal_mask':parietal_mask}\n",
    "masks = {'frontal_mask':frontal_mask}\n",
    "\n",
    "\n",
    "for mask in masks.keys():\n",
    "    rois_mask = masks[mask]\n",
    "    all_idx = 0\n",
    "    # Maps settings \n",
    "    for idx, col_name in enumerate(maps_names_css + maps_names_css_stats + maps_names_pcm):\n",
    "        exec(\"{}_idx = idx\".format(col_name))\n",
    "\n",
    "    cmap_polar, cmap_uni, cmap_ecc_size = 'hsv', 'Reds', 'Spectral'\n",
    "    col_offset = 1.0/14.0\n",
    "    cmap_steps = 255\n",
    "\n",
    "    # plot scales\n",
    "    pcm_scale = [0, 10]\n",
    "    size_scale = [0, 10]\n",
    "    ecc_scale = [0, 10]\n",
    "    rsq_scale = [0, 1]\n",
    "    n_scale = [0, 2]\n",
    "\n",
    "\n",
    "    # Define directories and fn\n",
    "    prf_dir = \"{}/{}/derivatives/pp_data/{}/{}/prf\".format(main_dir, project_dir, subject, format_)\n",
    "    prf_deriv_dir = \"{}/prf_derivatives\".format(prf_dir)\n",
    "    intertask_dir = \"{}/{}/derivatives/pp_data/{}/{}/intertask\".format(\n",
    "    main_dir, project_dir, subject,format_)\n",
    "\n",
    "    # Derivatives\n",
    "    deriv_median_fn = '{}/{}_task-{}_fmriprep_dct_avg_prf-deriv_css_loo-median.dtseries.nii'.format(\n",
    "        prf_deriv_dir, subject, prf_task_name)\n",
    "    deriv_results = load_surface_pycortex(brain_fn=deriv_median_fn)\n",
    "    deriv_mat = deriv_results['data_concat']\n",
    "\n",
    "    # Stats\n",
    "    stats_median_fn = '{}/{}_task-{}_fmriprep_dct_avg_prf-stats_loo-median.dtseries.nii'.format(\n",
    "        prf_deriv_dir, subject, prf_task_name)\n",
    "    stats_results = load_surface_pycortex(brain_fn=stats_median_fn)\n",
    "    stats_mat = stats_results['data_concat']\n",
    "\n",
    "    # pRF CM\n",
    "    pcm_median_fn = '{}/{}_task-{}_fmriprep_dct_avg_prf-pcm_css_loo-median.dtseries.nii'.format(\n",
    "        prf_deriv_dir, subject, prf_task_name)\n",
    "    pcm_results = load_surface_pycortex(brain_fn=pcm_median_fn)\n",
    "    pcm_mat = pcm_results['data_concat']\n",
    "\n",
    "    # intertask results \n",
    "    stats_avg_fn = '{}/{}_intertask_{}.dtseries.nii'.format(\n",
    "    intertask_dir, subject, suffix)\n",
    "    results_stats = load_surface_pycortex(brain_fn=stats_avg_fn)\n",
    "    intertask_mat = results_stats['data_concat']\n",
    "    mask_intertask = intertask_mat[all_idx, :] == 7\n",
    "\n",
    "    # Combine mat\n",
    "    all_deriv_mat = np.concatenate((deriv_mat, stats_mat, pcm_mat))\n",
    "\n",
    "    # Threshold mat\n",
    "    all_deriv_mat_th = all_deriv_mat\n",
    "    amp_down = all_deriv_mat_th[amplitude_idx,...] > 0\n",
    "    rsq_down = all_deriv_mat_th[prf_loo_r2_idx,...] >= analysis_info['rsqr_th']\n",
    "    size_th_down = all_deriv_mat_th[prf_size_idx,...] >= analysis_info['size_th'][0]\n",
    "    size_th_up = all_deriv_mat_th[prf_size_idx,...] <= analysis_info['size_th'][1]\n",
    "    ecc_th_down = all_deriv_mat_th[prf_ecc_idx,...] >= analysis_info['ecc_th'][0]\n",
    "    ecc_th_up = all_deriv_mat_th[prf_ecc_idx,...] <= analysis_info['ecc_th'][1]\n",
    "    n_th_down = all_deriv_mat_th[prf_n_idx,...] >= analysis_info['n_th'][0]\n",
    "    n_th_up = all_deriv_mat_th[prf_n_idx,...] <= analysis_info['n_th'][1]\n",
    "    if analysis_info['stats_th'] == 0.05: stats_th_down = all_deriv_mat_th[corr_pvalue_5pt_idx,...] <= 0.05\n",
    "    elif analysis_info['stats_th'] == 0.01: stats_th_down = all_deriv_mat_th[corr_pvalue_1pt_idx,...] <= 0.01\n",
    "    all_th = np.array((amp_down,\n",
    "                       rsq_down,\n",
    "                       size_th_down,size_th_up, \n",
    "                       ecc_th_down, ecc_th_up,\n",
    "                       n_th_down, n_th_up,\n",
    "                       stats_th_down\n",
    "                      )) \n",
    "    all_deriv_mat[prf_loo_r2_idx, np.logical_and.reduce(all_th)==False]=0 # put this to zero to not plot it\n",
    "\n",
    "    # Create flatmaps\n",
    "    maps_names = []\n",
    "\n",
    "    # Loo r-square and alpha\n",
    "    loo_rsq_data = all_deriv_mat[prf_loo_r2_idx,...]\n",
    "    alpha = loo_rsq_data\n",
    "    alpha_range = analysis_info[\"alpha_range\"]\n",
    "    alpha = (alpha - alpha_range[0]) / (alpha_range[1] - alpha_range[0])\n",
    "    alpha[alpha>1]=1\n",
    "\n",
    "    # put alpha to 0 outside non interest roi \n",
    "    alpha[~rois_mask] = 0\n",
    "    alpha[~mask_intertask] = 0\n",
    "\n",
    "    # param_loo_rsq = {'data': loo_rsq_data, \n",
    "    #                  'cmap': cmap_uni, \n",
    "    #                  'alpha': alpha, \n",
    "    #                  'vmin': rsq_scale[0], \n",
    "    #                  'vmax': rsq_scale[1], \n",
    "    #                  'cbar': 'discrete', \n",
    "    #                  'cortex_type': 'VertexRGB',\n",
    "    #                  'description': 'CSS pRF LOO R2',\n",
    "    #                  'curv_brightness':1,\n",
    "    #                  'curv_contrast': 0.1,\n",
    "    #                  'add_roi': save_svg,\n",
    "    #                  'cbar_label': 'pRF LOO R2', \n",
    "    #                  'with_labels': True}\n",
    "    # maps_names.append('loo_rsq')\n",
    "\n",
    "#     # Polar angle\n",
    "#     pol_comp_num = all_deriv_mat[polar_real_idx,...] + 1j * all_deriv_mat[polar_imag_idx,...]\n",
    "#     polar_ang = np.angle(pol_comp_num)\n",
    "#     ang_norm = (polar_ang + np.pi) / (np.pi * 2.0)\n",
    "#     ang_norm = np.fmod(ang_norm + col_offset,1)\n",
    "#     param_polar = {'data': ang_norm, \n",
    "#                    'cmap': cmap_polar, \n",
    "#                    'alpha': alpha, \n",
    "#                    'vmin': 0, \n",
    "#                    'vmax': 1, \n",
    "#                    'cmap_steps': cmap_steps, \n",
    "#                    'cortex_type': 'VertexRGB',\n",
    "#                    'cbar': 'polar', \n",
    "#                    'col_offset': col_offset, \n",
    "#                    'description': 'CSS pRF polar angle', \n",
    "#                    'curv_brightness': 0.1, \n",
    "#                    'curv_contrast': 0.25, \n",
    "#                    'add_roi': save_svg, \n",
    "#                    'with_labels': True}\n",
    "#     exec('param_polar_{cmap_steps} = param_polar'.format(cmap_steps = int(cmap_steps)))\n",
    "#     exec('maps_names.append(\"polar_{cmap_steps}\")'.format(cmap_steps = int(cmap_steps)))\n",
    "\n",
    "    # Eccentricity\n",
    "    ecc_data = all_deriv_mat[prf_ecc_idx,...]\n",
    "    param_ecc = {'data': ecc_data, \n",
    "                 'cmap': cmap_ecc_size, \n",
    "                 'alpha': alpha,\n",
    "                 'vmin': ecc_scale[0], \n",
    "                 'vmax': ecc_scale[1], \n",
    "                 'cbar': 'ecc', \n",
    "                 'cortex_type': 'VertexRGB',\n",
    "                 'description': 'CSS pRF eccentricity', \n",
    "                 'curv_brightness': 1,\n",
    "                 'curv_contrast': 0.25, \n",
    "                 'add_roi': save_svg, \n",
    "                 'with_labels': True}\n",
    "    maps_names.append('ecc')\n",
    "\n",
    "    # Size\n",
    "    size_data = all_deriv_mat[prf_size_idx,...]\n",
    "    param_size = {'data': size_data, \n",
    "                  'cmap': cmap_ecc_size, \n",
    "                  'alpha': alpha, \n",
    "                  'vmin': size_scale[0], \n",
    "                  'vmax': size_scale[1], \n",
    "                  'cbar': 'discrete', \n",
    "                  'cortex_type': 'VertexRGB', \n",
    "                  'description': 'CSS pRF size', \n",
    "                  'curv_brightness': 1, \n",
    "                  'curv_contrast': 0.25, \n",
    "                  'add_roi': False, \n",
    "                  'cbar_label': 'pRF size (dva)',\n",
    "                  'with_labels': True}\n",
    "    maps_names.append('size')\n",
    "\n",
    "    # # n\n",
    "    # n_data = all_deriv_mat[prf_n_idx,...]\n",
    "    # param_n = {'data': n_data, \n",
    "    #            'cmap': cmap_ecc_size, \n",
    "    #            'alpha': alpha, \n",
    "    #            'vmin': n_scale[0], \n",
    "    #            'vmax': n_scale[1], \n",
    "    #            'cbar': 'discrete', \n",
    "    #            'cortex_type': 'VertexRGB', \n",
    "    #            'description': 'CSS pRF n',\n",
    "    #            'curv_brightness': 1, \n",
    "    #            'curv_contrast': 0.1, \n",
    "    #            'add_roi': False, \n",
    "    #            'cbar_label': 'pRF n',\n",
    "    #            'with_labels': True}\n",
    "    # maps_names.append('n')\n",
    "\n",
    "    # pcm\n",
    "    pcm_data = all_deriv_mat[pcm_median_idx,...]\n",
    "    param_pcm = {'data': pcm_data, \n",
    "                 'cmap': cmap_ecc_size, \n",
    "                 'alpha': alpha, \n",
    "                 'vmin': pcm_scale[0], \n",
    "                 'vmax': pcm_scale[1], \n",
    "                 'cbar': 'discrete', \n",
    "                 'cortex_type': 'VertexRGB', \n",
    "                 'description': 'CSS pRF CM',\n",
    "                 'curv_brightness': 1, \n",
    "                 'curv_contrast': 0.25, \n",
    "                 'add_roi': False, \n",
    "                 'cbar_label': 'pRF CM (mm/dva)',\n",
    "                 'with_labels': True}\n",
    "    maps_names.append('pcm')\n",
    "\n",
    "#     maps_names = [element + '_' + mask for element in maps_names]\n",
    "    # draw flatmaps\n",
    "    volumes = {}\n",
    "    for maps_name in maps_names:\n",
    "\n",
    "        # create flatmap\n",
    "        roi_name = 'pRF_{}'.format(maps_name)\n",
    "        roi_param = {'subject': pycortex_subject, 'xfmname': None, 'roi_name': roi_name}\n",
    "        print(roi_name)\n",
    "        exec('param_{}.update(roi_param)'.format(maps_name))\n",
    "        exec('volume_{maps_name} = draw_cortex(**param_{maps_name})'.format(maps_name=maps_name))\n",
    "        exec(\"plt.savefig('{}/{}_task-{}_{}_css_{}.pdf')\".format(flatmaps_dir, subject, prf_task_name, maps_name, mask))\n",
    "        plt.close()\n",
    "\n"
   ]
  },
  {
   "cell_type": "markdown",
   "id": "045acc37",
   "metadata": {
    "tags": []
   },
   "source": [
    "## roi "
   ]
  },
  {
   "cell_type": "code",
   "execution_count": 34,
   "id": "de5ecb40-4d35-4349-b64a-1359755113e3",
   "metadata": {
    "tags": []
   },
   "outputs": [
    {
     "name": "stdout",
     "output_type": "stream",
     "text": [
      "Saving new colormap: /Users/uriel/disks/meso_shared/RetinoMaps/derivatives/pp_data/cortex/colormaps/rois_colors.png\n",
      "Creating flatmaps...\n",
      "Stopping server\n"
     ]
    }
   ],
   "source": [
    "subject = 'sub-03'\n",
    "format_ = '170k'\n",
    "pycortex_subject = 'sub-170k'\n",
    "\n",
    "flatmaps_dir = '/Users/uriel/Downloads/'\n",
    "\n",
    "# Set pycortex db and colormaps\n",
    "cortex_dir = \"{}/{}/derivatives/pp_data/cortex\".format(main_dir, project_dir)\n",
    "set_pycortex_config_file(cortex_dir)\n",
    "\n",
    "# Define/create colormap\n",
    "colormap_name = 'rois_colors'\n",
    "colormap_dict = {'n/a': (255, 255, 255),\n",
    "                 'V1': (243, 231, 155),\n",
    "                 'V2': (250, 196, 132),\n",
    "                 'V3': (248, 160, 126),\n",
    "                 'V3AB': (235, 127, 134),\n",
    "                 'LO': (150, 0, 90), \n",
    "                 'VO': (0, 0, 200),\n",
    "                 'hMT+': (0, 25, 255),\n",
    "                 'iIPS': (0, 152, 255),\n",
    "                 'sIPS': (44, 255, 150),\n",
    "                 'iPCS': (151, 255, 0),\n",
    "                 'sPCS': (255, 234, 0),\n",
    "                 'mPCS': (255, 111, 0)}\n",
    "\n",
    "create_colormap(cortex_dir=cortex_dir, \n",
    "                colormap_name=colormap_name, \n",
    "                colormap_dict=colormap_dict,\n",
    "                recreate=True\n",
    "               )\n",
    "\n",
    "rois_dic = get_rois(subject=subject, return_concat_hemis=True, return_hemi=None, rois=None, mask=True, atlas_name='mmp_group', surf_size='59k')\n",
    "frontal_mask = rois_dic['iPCS'] | rois_dic['sPCS'] | rois_dic['mPCS']\n",
    "parietal_mask = rois_dic['iIPS'] | rois_dic['sIPS']\n",
    "parietal_frontal_mask = rois_dic['iPCS'] | rois_dic['sPCS'] | rois_dic['mPCS'] | rois_dic['iIPS'] | rois_dic['sIPS']\n",
    "\n",
    "# masks = {'frontal_mask':frontal_mask, 'parietal_mask':parietal_mask}\n",
    "masks = {'parietal_frontal_mask':parietal_frontal_mask}\n",
    "\n",
    "for mask in masks.keys():\n",
    "    rois_mask = masks[mask]\n",
    "    # Define directories and fn\n",
    "    rois_dir = \"{}/{}/derivatives/pp_data/{}/{}/rois\".format(main_dir, project_dir, subject,format_)\n",
    "    \n",
    "\n",
    "        \n",
    "\n",
    "    roi_fn = '{}/{}_rois.dtseries.nii'.format(rois_dir, subject)\n",
    "    results = load_surface_pycortex(brain_fn=roi_fn)\n",
    "    roi_mat = results['data_concat']\n",
    "    if subject == 'sub-170k': save_svg = save_svg\n",
    "    else: save_svg = False\n",
    "    \n",
    "#     rois_opacity = 0.5\n",
    "    rois_opacity = 0.2\n",
    "\n",
    "    alpha_mat = roi_mat*0+rois_opacity\n",
    "    alpha_mat[roi_mat==0]=0\n",
    "    \n",
    "    rois_mask = rois_mask.reshape(1,-1)\n",
    "    alpha_mat[~rois_mask] = 0\n",
    "    \n",
    "    print('Creating flatmaps...')\n",
    "\n",
    "    # Rois\n",
    "    roi_name = '{}_rois'.format(prf_task_name)\n",
    "    param_rois = {'subject': pycortex_subject,\n",
    "                  'data': roi_mat, \n",
    "                  'cmap': colormap_name,\n",
    "                  'alpha': alpha_mat,\n",
    "                  'cbar': 'discrete_personalized', \n",
    "                  'vmin': 0,\n",
    "                  'vmax': 12,\n",
    "                  'cmap_steps': len(colormap_dict),\n",
    "                  'cmap_dict': colormap_dict,\n",
    "                  'cortex_type': 'VertexRGB',\n",
    "                  'description': 'Gaussian pRF ROIs',\n",
    "                  'curv_brightness': 1, \n",
    "                  'curv_contrast': 0.25,\n",
    "                  'add_roi': save_svg,\n",
    "                  'with_labels': True,\n",
    "                  'roi_name': roi_name}\n",
    "                  \n",
    "    # Draw flatmaps\n",
    "    volume_roi = draw_cortex(**param_rois)\n",
    "    plt.savefig('{}/{}_task-{}_rois_{}.pdf'.format(flatmaps_dir, subject, prf_task_name, mask))\n",
    "    plt.close()\n"
   ]
  },
  {
   "cell_type": "code",
   "execution_count": 22,
   "id": "37fe03a2",
   "metadata": {},
   "outputs": [],
   "source": [
    "port_num = 25000"
   ]
  },
  {
   "cell_type": "code",
   "execution_count": 37,
   "id": "6293c72e",
   "metadata": {},
   "outputs": [
    {
     "name": "stdout",
     "output_type": "stream",
     "text": [
      "Go to (in 5 s...): http://localhost:25004/\n",
      "Generating new ctm file...\n",
      "wm\n",
      "wm\n",
      "inflated\n",
      "inflated\n",
      "Started server on port 25004\n"
     ]
    }
   ],
   "source": [
    "port_num = port_num + 1\n",
    "print(\"Go to (in 5 s...): http://localhost:{}/\".format(port_num))\n",
    "handle = cortex.webgl.show(data=volume_roi, recache = True, port=port_num, overlays_visible=('sulci','roi'),\n",
    "    labels_visible=())"
   ]
  },
  {
   "cell_type": "code",
   "execution_count": 38,
   "id": "0ff1967c",
   "metadata": {},
   "outputs": [],
   "source": [
    "# inflated\n",
    "inflated_general = {'camera.azimuth':241,\n",
    "                    'camera.altitude':60,\n",
    "                    'camera.radius':430,\n",
    "                    'surface.{subject}.unfold':0.5,\n",
    "                    'surface.{subject}.pivot':46,\n",
    "                    'surface.{subject}.left':True,\n",
    "                    'surface.{subject}.right':True,\n",
    "                    'surface.{subject}.depth':1,\n",
    "                    'surface.{subject}.specularity':0,\n",
    "                    'surface.{subject}.layers':4,\n",
    "                    'surface.{subject}.dither':False,\n",
    "                    'surface.{subject}.colorbar':False,\n",
    "                    'surface.{subject}.sampler':'nearest',\n",
    "                    'surface.{subject}.curvature.brightness':0.25,\n",
    "                    'surface.{subject}.curvature.contrast':0.25,\n",
    "                    'surface.{subject}.curvature.smoothness':1}\n",
    "handle._set_view(**inflated_general)\n",
    "time.sleep(5)\n",
    "\n",
    "inflated_dir = '/Users/uriel/Downloads/'\n",
    "im1 = handle.getImage('{}/inflated_roi.png'.format(inflated_dir),size = (3000, 3000))\n"
   ]
  },
  {
   "cell_type": "code",
   "execution_count": 32,
   "id": "c6b6bf3b",
   "metadata": {},
   "outputs": [],
   "source": [
    "# unflated\n",
    "inflated_general = {'camera.azimuth':241,\n",
    "                    'camera.altitude':60,\n",
    "                    'camera.radius':430,\n",
    "                    'surface.{subject}.unfold':0,\n",
    "                    'surface.{subject}.pivot':46,\n",
    "                    'surface.{subject}.left':True,\n",
    "                    'surface.{subject}.right':True,\n",
    "                    'surface.{subject}.depth':1,\n",
    "                    'surface.{subject}.specularity':0,\n",
    "                    'surface.{subject}.layers':4,\n",
    "                    'surface.{subject}.dither':False,\n",
    "                    'surface.{subject}.colorbar':False,\n",
    "                    'surface.{subject}.sampler':'nearest',\n",
    "                    'surface.{subject}.curvature.brightness':0.25,\n",
    "                    'surface.{subject}.curvature.contrast':0.25,\n",
    "                    'surface.{subject}.curvature.smoothness':1}\n",
    "handle._set_view(**inflated_general)\n",
    "time.sleep(5)\n",
    "\n",
    "inflated_dir = '/Users/uriel/Downloads/'\n",
    "im1 = handle.getImage('{}/unflated_roi.png'.format(inflated_dir),size = (3000, 3000))\n"
   ]
  },
  {
   "cell_type": "markdown",
   "id": "90d0daf5-a764-4511-a630-a478374b11f1",
   "metadata": {
    "tags": []
   },
   "source": [
    "# Voxel time series "
   ]
  },
  {
   "cell_type": "code",
   "execution_count": 6,
   "id": "57f1a146-1ad6-4b5b-9eeb-23a55d726558",
   "metadata": {
    "tags": []
   },
   "outputs": [],
   "source": [
    "# Template settings\n",
    "template_specs = dict(axes_color=\"rgba(0, 0, 0, 1)\",\n",
    "                      axes_width=2,\n",
    "                      axes_font_size=15,\n",
    "                      bg_col=\"rgba(255, 255, 255, 1)\",\n",
    "                      font='Arial',\n",
    "                      title_font_size=15,\n",
    "                      plot_width=1.5)\n",
    "fig_template = plotly_template(template_specs)"
   ]
  },
  {
   "cell_type": "code",
   "execution_count": 5,
   "id": "cada37fa-8433-4f64-9cd1-5abad7f20e45",
   "metadata": {
    "tags": []
   },
   "outputs": [],
   "source": [
    "def gaus_2d_css(gauss_x, gauss_y, gauss_sd, n, screen_side, grain=200):\n",
    "    \"\"\"\n",
    "    Generate 2D Gaussian mesh with CSS model\n",
    "    \n",
    "    Parameters\n",
    "    ----------\n",
    "    gauss_x : mean x Gaussian parameter in dva (e.g. 1 dva)\n",
    "    gauss_y : mean y Gaussian parameter in dva (e.g. 1 dva)\n",
    "    gauss_sd : sd Gaussian parameter in dva (e.g. 1 dva)\n",
    "    screen_side : mesh screen side (square) in dva (e.g. 20 dva from -10 to 10 dva)\n",
    "    n : exponent parameter of the CSS model\n",
    "    grain : grain resolution of the mesh in pixels (default = 200 pixels)\n",
    "    \n",
    "    Returns\n",
    "    -------\n",
    "    x : linspace x of the mesh\n",
    "    y : linspace y of the mesh\n",
    "    z : mesh_z values (to plot)\n",
    "    \n",
    "    \"\"\"\n",
    "    x = np.linspace(-screen_side/2, screen_side/2, grain)\n",
    "    y = np.linspace(-screen_side/2, screen_side/2, grain)\n",
    "    mesh_x, mesh_y = np.meshgrid(x, y)\n",
    "    \n",
    "    gauss_z = 1./(2.*np.pi*gauss_sd*gauss_sd) * np.exp(-((mesh_x-gauss_x)**2./(2.*gauss_sd**2.) + (mesh_y-gauss_y)**2./(2.*gauss_sd**2.)))\n",
    "    \n",
    "    # Apply the CSS model by raising the Gaussian to the power of n\n",
    "    gauss_z_css = gauss_z ** n\n",
    "    \n",
    "    return x, y, gauss_z_css\n"
   ]
  },
  {
   "cell_type": "code",
   "execution_count": 2,
   "id": "14333d13-c58c-4dd8-aa4c-49ff40625634",
   "metadata": {
    "tags": []
   },
   "outputs": [],
   "source": [
    "def draw_timeseries(bold_data, prf_prediction, vox_data, vox_model, TRs, roi):\n",
    "    \n",
    "    # # compute r2 if voxel of model and of data are different\n",
    "    # if vox_data != vox_model:\n",
    "    #     r2_val = pingouin.corr(df.data_fs[vox_data], df.pred_fs[vox_model]).iloc[0]['r']**2\n",
    "    # else:\n",
    "    #     r2_val = df.r2_fs[vox_model]\n",
    "    \n",
    "    \n",
    "    # General figure settings\n",
    "    fig_template = plotly_template(template_specs)\n",
    "    \n",
    "    # Subplot settings\n",
    "    rows, cols = 2, 2\n",
    "    margin_t, margin_b, margin_l, margin_r = 50, 50 ,50 ,50\n",
    "    fig_ratio = 5\n",
    "    fig_height = 1080/fig_ratio + (1080/fig_ratio*0.15) + margin_t+margin_b\n",
    "    fig_width = 1920/fig_ratio + 1920/fig_ratio + margin_l+margin_r\n",
    "    column_widths,row_heights = [1,1],[0.15,1]\n",
    "    sb_specs = [[{},{}],[{},{}]]\n",
    "    hover_data = 'Time: %{x:1.2f} s<br>' + 'z-score: %{y:1.2f}'\n",
    "    hover_model = 'Time: %{x:1.2f} s<br>' + 'z-score: %{y:1.2f}'\n",
    "\n",
    "    xaxis_range = [0,250]\n",
    "    yaxis_range = [-2,3]\n",
    "    yaxis_dtick = 1\n",
    "    x_tickvals = np.linspace(0,208,6)*TR\n",
    "    \n",
    "    lwd_mot = np.array([ 114*TR,  142*TR, 0.5,  0.5])\n",
    "    dwd_mot = np.array([ 80*TR, 80*TR, 0.85,  0.15])\n",
    "    rwd_mot = np.array([ 46*TR,  18*TR, 0.5, 0.5])\n",
    "    uwd_mot = np.array([176*TR, 176*TR, 0.15, 0.85])\n",
    "    \n",
    "    x0_all = np.array([0,16,48,64,96,112,144,160,192])*TR\n",
    "    x1_all = np.array([16,48,64,96,112,144,160,192,208])*TR\n",
    "    \n",
    "    rolling = 3\n",
    "    data_col = 'rgba(0, 0, 0, 1)'\n",
    "    model_col = 'rgba(200, 0, 0, 1)'\n",
    "    subplot_titles = ['<b>{} time series </b> ({})'.format(roi, subject),'','','']\n",
    "    screen_side = 10*2\n",
    "    # prf_xrange = [-8.9,8.9]\n",
    "    # prf_yrange = [-5,5]\n",
    "    prf_xrange = [-10,10]\n",
    "    prf_yrange = [-10,10]    \n",
    "    \n",
    "    x_par_txt = -10\n",
    "    y_par_text = 9\n",
    "    \n",
    "    # avg to have less points\n",
    "    bold_data_reshaped = bold_data.reshape(104, 2, -1)\n",
    "    bold_data_mean = np.mean(bold_data_reshaped, axis=1)\n",
    "    \n",
    "    prf_pred_data_reshaped = prf_pred_data.reshape(104, 2, -1)\n",
    "    prf_pred_data_mean = np.mean(prf_pred_data_reshaped, axis=1)\n",
    "    # create figure\n",
    "    fig = make_subplots(rows=rows, cols=cols, specs=sb_specs, print_grid=False, vertical_spacing=0.05, horizontal_spacing=0.05, \n",
    "                        column_widths=column_widths, row_heights=row_heights,  subplot_titles=subplot_titles)\n",
    "\n",
    "    # Timeseries stim\n",
    "    for x0,x1 in zip(x0_all,x1_all):\n",
    "        fig.add_shape(type='rect', xref='x', yref='y', x0=x0, y0=0, x1=x1, y1=1, \n",
    "                      line_width=2, fillcolor='black', line_color='white')\n",
    "        \n",
    "    for [coord_tp] in zip([rwd_mot, dwd_mot, lwd_mot, uwd_mot]):\n",
    "        fig.add_annotation(ax=coord_tp[0], x=coord_tp[1], ay=coord_tp[2], y=coord_tp[3], \n",
    "                           xref='x', yref='y', axref='x',ayref='y',\n",
    "                           text='', showarrow=True, arrowhead=2, arrowcolor='white')\n",
    "\n",
    "\n",
    "    # time series data\n",
    "    fig.append_trace(go.Scatter(x=np.linspace(0,TRs*TR,104), \n",
    "                                y=bold_data_mean[:,vox_data],                        \n",
    "                                name='<i>data<i>',\n",
    "                                showlegend=True, mode='markers', marker_color=data_col,\n",
    "                                hovertemplate=hover_data,\n",
    "                                line_width=0, opacity=1, marker_size=6),row=2, col=1)\n",
    "    # time series predictions\n",
    "    fig.append_trace(go.Scatter(x=np.linspace(0,TRs*TR,104), \n",
    "                                y=prf_pred_data_mean[:,vox_model],\n",
    "                                name='<i>model<i>',\n",
    "                                showlegend=True, mode='lines', line_color=data_col, \n",
    "                                hovertemplate=hover_model,\n",
    "                                line_width=2, opacity=1),row=2, col=1)\n",
    "\n",
    "    # pRF heatmap\n",
    "    x,y,z = gaus_2d_css(gauss_x=prf_fit_data[x_idx,vox_model], gauss_y=prf_fit_data[y_idx,vox_model], \n",
    "                gauss_sd=prf_fit_data[size_idx,vox_model], n=prf_fit_data[n_idx,vox_model], screen_side=screen_side)\n",
    "    \n",
    "    \n",
    "    fig.append_trace(go.Heatmap(x=x, y=y, z=z,colorscale='viridis', showscale=False, hoverinfo='none'),row=2,col=2)\n",
    "\n",
    "    fig.add_annotation(x=prf_fit_data[x_idx,vox_model], ax=prf_fit_data[x_idx,vox_model], y=prf_yrange[0], ay=prf_yrange[0]-0.5,\n",
    "                       xref='x4', yref='y4', axref='x4',ayref='y4', yanchor=\"top\", showarrow=True,\n",
    "                       text='<i>pRFx</i> = {:1.2g}°'.format(prf_fit_data[x_idx,vox_model]), arrowhead=2, arrowwidth=2.5)\n",
    "\n",
    "    fig.add_annotation(x=prf_xrange[1], ax=prf_xrange[1]+0.5, y=prf_fit_data[y_idx,vox_model], ay=prf_fit_data[y_idx,vox_model],\n",
    "                       xref='x4', yref='y4', axref='x4',ayref='y4', yanchor=\"top\", showarrow=True, \n",
    "                       text='<i>pRFy</i> = {:1.2g}°'.format(prf_fit_data[y_idx,vox_model]), textangle=-90, arrowhead=2, arrowwidth=2.5)\n",
    "    \n",
    "    fig.add_shape(type='line', xref='x4', yref='y4', x0=prf_xrange[0], x1=prf_xrange[1], y0=prf_fit_data[y_idx,vox_model], y1=prf_fit_data[y_idx,vox_model], \n",
    "                      line_width=2, line_color='white', line_dash='dot')\n",
    "    \n",
    "    fig.add_shape(type='line', xref='x4', yref='y4', x0=prf_fit_data[x_idx,vox_model], x1=prf_fit_data[x_idx,vox_model], y0=prf_yrange[0], y1=prf_yrange[1], \n",
    "                      line_width=2, line_color='white', line_dash='dot')     \n",
    "    \n",
    "    fig.add_annotation(x=x_par_txt, y=y_par_text, xref='x4', yref='y4', xanchor=\"left\", font_color='white', showarrow=False,\n",
    "                       text='<i>pRF loo R<sup>2</sup></i> = {:1.2g}'.format(prf_fit_data[r2_idx,vox_model]))\n",
    "    \n",
    "    fig.add_annotation(x=x_par_txt, y=y_par_text-1.5, xref='x4', yref='y4', xanchor=\"left\", font_color='white', showarrow=False,\n",
    "                       text='<i>pRF size</i> = {:1.2g}°'.format(prf_fit_data[size_idx,vox_model]))\n",
    "    \n",
    "    fig.add_annotation(x=x_par_txt, y=y_par_text-3, xref='x4', yref='y4',  xanchor=\"left\", font_color='white', showarrow=False, \n",
    "                       text='<i>pRF ecc</i> = {:1.2g}°'.format(prf_fit_data[ecc_idx,vox_model]))\n",
    "    \n",
    "    fig.add_annotation(x=x_par_txt, y=y_par_text-4.5, xref='x4', yref='y4',  xanchor=\"left\", font_color='white', showarrow=False, \n",
    "                       text='<i>pRF angle</i> = {:3.0f}°'.format(np.angle(prf_fit_data[x_idx,vox_model] + 1j * prf_fit_data[y_idx,vox_model],deg=True)))\n",
    "\n",
    "    # set axis\n",
    "    for row in np.arange(rows):\n",
    "        for col in np.arange(cols):\n",
    "            fig.update_xaxes(visible=True, ticklen=8, linewidth=template_specs['axes_width'], row=row+1, col=col+1)\n",
    "            fig.update_yaxes(visible=True, ticklen=8, linewidth=template_specs['axes_width'], row=row+1, col=col+1)\n",
    "            \n",
    "    fig.update_xaxes(scaleanchor=\"y4\", scaleratio=1, row=2, col=2)\n",
    "    fig.update_yaxes(scaleanchor=\"x4\", scaleratio=1, row=2, col=2)\n",
    "    fig.layout.update(xaxis_range=xaxis_range, xaxis_title='', \n",
    "                      xaxis_visible=False, yaxis_visible=False,\n",
    "                      yaxis_range=[0,1], yaxis_title='',\n",
    "                      xaxis4_range=prf_xrange, xaxis4_title='', \n",
    "                      yaxis4_range=prf_yrange, yaxis4_title='', \n",
    "                      xaxis4_visible=False, yaxis4_visible=False,\n",
    "                      xaxis3_tickvals=x_tickvals, xaxis3_ticktext=np.round(x_tickvals),\n",
    "                      xaxis3_range=xaxis_range, xaxis3_title='Time (seconds)',\n",
    "                      yaxis3_range=yaxis_range, yaxis3_title='z-score',yaxis3_dtick=yaxis_dtick,\n",
    "                      template=fig_template, width=fig_width, height=fig_height, \n",
    "                      margin_l=margin_l+10, margin_r=margin_r-10, margin_t=margin_t-20, margin_b=margin_b+20,\n",
    "                      legend_yanchor='top', legend_y=0.85, legend_xanchor='left', \n",
    "                      legend_x=0.02, legend_bgcolor='rgba(255,255,255,0)')\n",
    "\n",
    "    return fig"
   ]
  },
  {
   "cell_type": "code",
   "execution_count": 7,
   "id": "62fd7468-8b00-4773-8c36-333a53a1ca64",
   "metadata": {
    "tags": []
   },
   "outputs": [],
   "source": [
    "subject = 'sub-03'\n",
    "format_ = 'fsnative'\n",
    "extension = 'func.gii'"
   ]
  },
  {
   "cell_type": "markdown",
   "id": "03386977-4cce-4f97-a343-92e73c5318b3",
   "metadata": {},
   "source": [
    "### pRF"
   ]
  },
  {
   "cell_type": "code",
   "execution_count": null,
   "id": "388a68b1-bc18-4469-a675-799a491794b6",
   "metadata": {},
   "outputs": [],
   "source": [
    "bold_dir = '{}/{}/derivatives/pp_data/{}/{}/func/fmriprep_dct_loo_avg'.format(main_dir, project_dir,subject,format_)\n",
    "bold_fn = '{}/{}_task-pRF_hemi-L_fmriprep_dct_avg_loo-1_bold.{}'.format(bold_dir, subject, extension)\n",
    "bold_img, bold_data = load_surface(fn = bold_fn)"
   ]
  },
  {
   "cell_type": "code",
   "execution_count": 229,
   "id": "90c3a8ac-42f1-4222-a89b-14495faeac0c",
   "metadata": {
    "tags": []
   },
   "outputs": [],
   "source": [
    "prf_dir ='{}/{}/derivatives/pp_data/{}/{}/prf/fit/'.format(main_dir, project_dir,subject,format_)\n",
    "prf_pred_fn = '{}/{}_task-pRF_hemi-L_fmriprep_dct_avg_loo-1_prf-pred_css.func.gii'.format(prf_dir, subject)\n",
    "prf_pred_img, prf_pred_data = load_surface(fn = prf_pred_fn)"
   ]
  },
  {
   "cell_type": "code",
   "execution_count": 230,
   "id": "4c9b4d3a-a678-4ccd-8b3e-2342b534e834",
   "metadata": {
    "tags": []
   },
   "outputs": [],
   "source": [
    "ecc_idx, size_idx, x_idx, y_idx, n_idx, r2_idx = 1,4,7,8,11,12\n",
    "\n",
    "prf_deriv_dir = '{}/{}/derivatives/pp_data/{}/{}/prf/prf_derivatives'.format(main_dir, project_dir,subject,format_)\n",
    "prf_fit_fn = '{}/{}_task-pRF_hemi-L_fmriprep_dct_avg_loo-1_prf-deriv_css.func.gii'.format(prf_deriv_dir, subject)\n",
    "prf_fit_img, prf_fit_data = load_surface(fn = prf_fit_fn)"
   ]
  },
  {
   "cell_type": "code",
   "execution_count": 3,
   "id": "9e418d87-8032-4b71-a017-4c7b8c377689",
   "metadata": {
    "tags": []
   },
   "outputs": [
    {
     "ename": "NameError",
     "evalue": "name 'bold_data' is not defined",
     "output_type": "error",
     "traceback": [
      "\u001b[0;31m---------------------------------------------------------------------------\u001b[0m",
      "\u001b[0;31mNameError\u001b[0m                                 Traceback (most recent call last)",
      "Cell \u001b[0;32mIn[3], line 3\u001b[0m\n\u001b[1;32m      1\u001b[0m \u001b[38;5;66;03m# vertex_to_plot = 9383\u001b[39;00m\n\u001b[0;32m----> 3\u001b[0m fig \u001b[38;5;241m=\u001b[39m draw_timeseries(bold_data\u001b[38;5;241m=\u001b[39mbold_data, prf_prediction\u001b[38;5;241m=\u001b[39mprf_pred_data, vox_data\u001b[38;5;241m=\u001b[39mvertex_to_plot, vox_model\u001b[38;5;241m=\u001b[39mvertex_to_plot, TRs\u001b[38;5;241m=\u001b[39mTRs, roi\u001b[38;5;241m=\u001b[39m\u001b[38;5;124m'\u001b[39m\u001b[38;5;124mV1\u001b[39m\u001b[38;5;124m'\u001b[39m)\n\u001b[1;32m      4\u001b[0m fig\u001b[38;5;241m.\u001b[39mwrite_image(\u001b[38;5;124m'\u001b[39m\u001b[38;5;124m/Users/uriel/Downloads/time_seris.pdf\u001b[39m\u001b[38;5;124m'\u001b[39m)\n\u001b[1;32m      5\u001b[0m fig\u001b[38;5;241m.\u001b[39mshow()\n",
      "\u001b[0;31mNameError\u001b[0m: name 'bold_data' is not defined"
     ]
    }
   ],
   "source": [
    "# vertex_to_plot = 9383\n",
    "\n",
    "fig = draw_timeseries(bold_data=bold_data, prf_prediction=prf_pred_data, vox_data=vertex_to_plot, vox_model=vertex_to_plot, TRs=TRs, roi='V1')\n",
    "fig.write_image('/Users/uriel/Downloads/time_seris.pdf')\n",
    "fig.show()"
   ]
  },
  {
   "cell_type": "code",
   "execution_count": null,
   "id": "df7b197f-aaec-42ee-b80c-437a14b631d2",
   "metadata": {},
   "outputs": [],
   "source": []
  }
 ],
 "metadata": {
  "kernelspec": {
   "display_name": "prf_env",
   "language": "python",
   "name": "prf_env"
  },
  "language_info": {
   "codemirror_mode": {
    "name": "ipython",
    "version": 3
   },
   "file_extension": ".py",
   "mimetype": "text/x-python",
   "name": "python",
   "nbconvert_exporter": "python",
   "pygments_lexer": "ipython3",
   "version": "3.11.7"
  }
 },
 "nbformat": 4,
 "nbformat_minor": 5
}
