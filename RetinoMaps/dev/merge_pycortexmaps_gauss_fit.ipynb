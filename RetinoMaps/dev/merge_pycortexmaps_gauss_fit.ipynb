{
 "cells": [
  {
   "cell_type": "code",
   "execution_count": 1,
   "id": "a8af17d2-eaa9-48a6-96e0-ee47a8b0d5a6",
   "metadata": {
    "tags": []
   },
   "outputs": [],
   "source": [
    "# General imports\n",
    "import os\n",
    "import sys\n",
    "import json\n",
    "import glob\n",
    "from pypdf import PdfWriter"
   ]
  },
  {
   "cell_type": "code",
   "execution_count": 2,
   "id": "0a3eadf8-33a2-45bc-9238-b5eab470089b",
   "metadata": {
    "tags": []
   },
   "outputs": [],
   "source": [
    "main_dir = '/Users/uriel/disks/meso_shared'\n",
    "project_dir = 'RetinoMaps'"
   ]
  },
  {
   "cell_type": "code",
   "execution_count": 10,
   "id": "2cb01c28-9d0d-4186-8130-d3c0f04af751",
   "metadata": {
    "tags": []
   },
   "outputs": [],
   "source": [
    "# load settings\n",
    "with open('../settings.json') as f:\n",
    "    json_s = f.read()\n",
    "    analysis_info = json.loads(json_s)\n",
    "\n",
    "formats = analysis_info['formats']\n",
    "extensions = analysis_info['extensions']\n",
    "prf_task_name = analysis_info['prf_task_name']\n",
    "subjects = analysis_info['subjects']\n",
    "\n",
    "pRF_params = ['ecc', 'polar_255', 'rsq', 'size']\n",
    "# pRF_params = ['ecc']"
   ]
  },
  {
   "cell_type": "code",
   "execution_count": 13,
   "id": "57006481-2e83-4cb7-a7f2-495f2b2eef6a",
   "metadata": {
    "tags": []
   },
   "outputs": [
    {
     "name": "stdout",
     "output_type": "stream",
     "text": [
      "Saving /Users/uriel/Downloads//fsnative_merge_pRF_ecc_maps_old.pdf\n",
      "Saving /Users/uriel/Downloads//170k_merge_pRF_ecc_maps_old.pdf\n",
      "Saving /Users/uriel/Downloads//fsnative_merge_pRF_polar_255_maps_old.pdf\n",
      "Saving /Users/uriel/Downloads//170k_merge_pRF_polar_255_maps_old.pdf\n",
      "Saving /Users/uriel/Downloads//fsnative_merge_pRF_rsq_maps_old.pdf\n",
      "Saving /Users/uriel/Downloads//170k_merge_pRF_rsq_maps_old.pdf\n",
      "Saving /Users/uriel/Downloads//fsnative_merge_pRF_size_maps_old.pdf\n",
      "Saving /Users/uriel/Downloads//170k_merge_pRF_size_maps_old.pdf\n"
     ]
    }
   ],
   "source": [
    "for n_param, pRF_param in enumerate(pRF_params):\n",
    "    \n",
    "    for format_, extension in zip(formats, extensions): \n",
    "        pycortex_all = []\n",
    "\n",
    "        prf_merge_dir = '/Users/uriel/Downloads/'\n",
    "        pycortex_merge_fn = '{}_merge_{}_{}_maps_old.pdf'.format(format_, prf_task_name, pRF_param)\n",
    "        for subject in subjects : \n",
    "            pycortex_dir = '{}/{}/derivatives/pp_data/{}/{}/prf_old/pycortex/flatmaps_avg_gauss_gridfit'.format(main_dir, project_dir, subject, format_)\n",
    "            pycortex_name = '{}_task-{}_{}.pdf'.format(subject, prf_task_name, pRF_param)\n",
    "            pycortex_all += ['{}/{}'.format(pycortex_dir, pycortex_name)]\n",
    "\n",
    "        pycortex_merger = PdfWriter()\n",
    "        for n_page, pycortex_map in enumerate(pycortex_all): \n",
    "            pycortex_merger.append(pycortex_map)\n",
    "\n",
    "        # Export the pdf \n",
    "        merge_fn = \"{}/{}\".format(prf_merge_dir, pycortex_merge_fn)\n",
    "        print(\"Saving {}\".format(merge_fn))\n",
    "        pycortex_merger.write(merge_fn)\n",
    "        pycortex_merger.close()"
   ]
  },
  {
   "cell_type": "code",
   "execution_count": null,
   "id": "9f8c5c51-e3f7-4f86-b427-31e0c0306191",
   "metadata": {},
   "outputs": [],
   "source": []
  }
 ],
 "metadata": {
  "kernelspec": {
   "display_name": "Python 3 (ipykernel)",
   "language": "python",
   "name": "python3"
  },
  "language_info": {
   "codemirror_mode": {
    "name": "ipython",
    "version": 3
   },
   "file_extension": ".py",
   "mimetype": "text/x-python",
   "name": "python",
   "nbconvert_exporter": "python",
   "pygments_lexer": "ipython3",
   "version": "3.11.7"
  }
 },
 "nbformat": 4,
 "nbformat_minor": 5
}
