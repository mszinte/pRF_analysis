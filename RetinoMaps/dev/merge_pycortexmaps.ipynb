{
 "cells": [
  {
   "cell_type": "code",
   "execution_count": 1,
   "id": "a8af17d2-eaa9-48a6-96e0-ee47a8b0d5a6",
   "metadata": {
    "tags": []
   },
   "outputs": [],
   "source": [
    "# General imports\n",
    "import os\n",
    "import sys\n",
    "import json\n",
    "import glob\n",
    "from pypdf import PdfWriter"
   ]
  },
  {
   "cell_type": "code",
   "execution_count": 2,
   "id": "0a3eadf8-33a2-45bc-9238-b5eab470089b",
   "metadata": {
    "tags": []
   },
   "outputs": [],
   "source": [
    "main_dir = '/Users/uriel/disks/meso_shared'\n",
    "project_dir = 'RetinoMaps'"
   ]
  },
  {
   "cell_type": "code",
   "execution_count": 3,
   "id": "2cb01c28-9d0d-4186-8130-d3c0f04af751",
   "metadata": {
    "tags": []
   },
   "outputs": [],
   "source": [
    "# load settings\n",
    "with open('../settings.json') as f:\n",
    "    json_s = f.read()\n",
    "    analysis_info = json.loads(json_s)\n",
    "\n",
    "formats = analysis_info['formats']\n",
    "extensions = analysis_info['extensions']\n",
    "prf_task_name = analysis_info['prf_task_name']\n",
    "subjects = analysis_info['subjects']\n",
    "# suffixs = ['SacVE_PurVE','Sac_Pur']\n",
    "suffixs = ['Sac_Pur']"
   ]
  },
  {
   "cell_type": "code",
   "execution_count": 4,
   "id": "57006481-2e83-4cb7-a7f2-495f2b2eef6a",
   "metadata": {
    "tags": []
   },
   "outputs": [
    {
     "name": "stdout",
     "output_type": "stream",
     "text": [
      "Saving /Users/uriel/Downloads//Sac_Pur_merge_prf-all_maps_fsnative.pdf\n",
      "Saving /Users/uriel/Downloads//Sac_Pur_merge_prf-all_maps_170k.pdf\n"
     ]
    }
   ],
   "source": [
    "pycortex_all = []\n",
    "for format_, extension in zip(formats, extensions): \n",
    "    for suffix in suffixs : \n",
    "        prf_merge_dir = '/Users/uriel/Downloads/'\n",
    "        pycortex_merge_fn = '{}_merge_prf-all_maps_{}.pdf'.format(suffix, format_)\n",
    "        for subject in subjects : \n",
    "            pycortex_dir = '{}/{}/derivatives/pp_data/{}/{}/intertask_glmsingle/pycortex/flatmaps_stats'.format(main_dir, project_dir, subject, format_)\n",
    "            pycortex_name = '{}_vision_and_pursuit_and_saccade_{}.pdf'.format(subject, suffix)\n",
    "            pycortex_all += ['{}/{}'.format(pycortex_dir, pycortex_name)]\n",
    "        \n",
    "        pycortex_merger = PdfWriter()\n",
    "        for n_page, pycortex_map in enumerate(pycortex_all): \n",
    "            pycortex_merger.append(pycortex_map)\n",
    "            \n",
    "        # Export the pdf \n",
    "        merge_fn = \"{}/{}\".format(prf_merge_dir, pycortex_merge_fn)\n",
    "        print(\"Saving {}\".format(merge_fn))\n",
    "        pycortex_merger.write(merge_fn)\n",
    "        pycortex_merger.close()"
   ]
  },
  {
   "cell_type": "code",
   "execution_count": null,
   "id": "9f8c5c51-e3f7-4f86-b427-31e0c0306191",
   "metadata": {},
   "outputs": [],
   "source": []
  }
 ],
 "metadata": {
  "kernelspec": {
   "display_name": "Python 3 (ipykernel)",
   "language": "python",
   "name": "python3"
  },
  "language_info": {
   "codemirror_mode": {
    "name": "ipython",
    "version": 3
   },
   "file_extension": ".py",
   "mimetype": "text/x-python",
   "name": "python",
   "nbconvert_exporter": "python",
   "pygments_lexer": "ipython3",
   "version": "3.11.7"
  }
 },
 "nbformat": 4,
 "nbformat_minor": 5
}
