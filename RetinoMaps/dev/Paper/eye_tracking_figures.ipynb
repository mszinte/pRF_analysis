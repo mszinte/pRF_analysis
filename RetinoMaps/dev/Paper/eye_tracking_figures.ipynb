{
 "cells": [
  {
   "cell_type": "code",
   "execution_count": 9,
   "id": "36318ce1-2060-415e-b2f4-13401ad6e0ba",
   "metadata": {
    "tags": []
   },
   "outputs": [],
   "source": [
    "# Stop warnings\n",
    "import warnings\n",
    "warnings.filterwarnings(\"ignore\")\n",
    "\n",
    "# Debug\n",
    "import ipdb\n",
    "deb = ipdb.set_trace\n",
    "\n",
    "# Imports\n",
    "import os\n",
    "import sys\n",
    "import json\n",
    "import numpy as np\n",
    "import pandas as pd\n",
    "import plotly.graph_objects as go \n",
    "\n",
    "# Personal imports\n",
    "sys.path.append(\"{}/../../../analysis_code/utils\".format(os.getcwd()))\n",
    "from plot_utils import plotly_template"
   ]
  },
  {
   "cell_type": "code",
   "execution_count": 4,
   "id": "75cc5dbf-292e-40d0-80ea-56951610a9ec",
   "metadata": {
    "tags": []
   },
   "outputs": [],
   "source": [
    "main_dir = '/Users/uriel/disks/meso_shared'\n",
    "project_dir = 'RetinoMaps'"
   ]
  },
  {
   "cell_type": "code",
   "execution_count": 34,
   "id": "0b7a5ae4-a2f8-4d18-b63c-dc873edbc5a2",
   "metadata": {
    "tags": []
   },
   "outputs": [],
   "source": [
    "# Load general settings\n",
    "with open('../../settings.json') as f:\n",
    "    json_s = f.read()\n",
    "    analysis_info = json.loads(json_s)\n",
    "tasks = analysis_info['task_intertask'][0]\n",
    "prf_task_name = analysis_info['prf_task_name']"
   ]
  },
  {
   "cell_type": "code",
   "execution_count": 35,
   "id": "80738b4f-bea2-46d5-9ff1-f1de81c8b7a3",
   "metadata": {
    "tags": []
   },
   "outputs": [],
   "source": [
    "# General figure settings\n",
    "template_specs = dict(axes_color=\"rgba(0, 0, 0, 1)\",\n",
    "                      axes_width=2,\n",
    "                      axes_font_size=15,\n",
    "                      bg_col=\"rgba(255, 255, 255, 1)\",\n",
    "                      font='Arial',\n",
    "                      title_font_size=15,\n",
    "                      plot_width=1.5)\n",
    "\n",
    "fig_template = plotly_template(template_specs)\n",
    "\n",
    "colormap_subject_dict = {'sub-01': '#AA0DFE', \n",
    "                         'sub-02': '#3283FE', \n",
    "                         'sub-03': '#85660D', \n",
    "                         'sub-04': '#782AB6', \n",
    "                         'sub-05': '#565656', \n",
    "                         'sub-06': '#1C8356', \n",
    "                         'sub-07': '#16FF32', \n",
    "                         'sub-08': '#F7E1A0', \n",
    "                         'sub-09': '#E2E2E2', \n",
    "                         'sub-11': '#1CBE4F', \n",
    "                         'sub-12': '#C4451C', \n",
    "                         'sub-13': '#DEA0FD', \n",
    "                         'sub-14': '#FBE426', \n",
    "                         'sub-15': '#325A9B', \n",
    "                         'sub-16': '#FEAF16', \n",
    "                         'sub-17': '#F8A19F', \n",
    "                         'sub-18': '#90AD1C', \n",
    "                         'sub-20': '#F6222E', \n",
    "                         'sub-21': '#1CFFCE', \n",
    "                         'sub-22': '#2ED9FF', \n",
    "                         'sub-23': '#B10DA1', \n",
    "                         'sub-24': '#C075A6', \n",
    "                         'sub-25': '#FC1CBF'}"
   ]
  },
  {
   "cell_type": "code",
   "execution_count": 59,
   "id": "23a57bf0-0fd2-44a6-9824-3d5e75199d41",
   "metadata": {
    "tags": []
   },
   "outputs": [
    {
     "name": "stdout",
     "output_type": "stream",
     "text": [
      "Their is 18/20 subject over 70.0% of performance at 2 dva for PurLoc task\n",
      "PurLoc task median is 90.31% with [65.90% - 98.24%] confidence interval\n",
      "\n",
      "Their is 16/20 subject over 70.0% of performance at 2 dva for SacLoc task\n",
      "SacLoc task median is 87.33% with [45.70% - 95.47%] confidence interval\n",
      "\n",
      "Their is 19/19 subject over 70.0% of performance at 2 dva for pRF task\n",
      "pRF task median is 95.67% with [81.65% - 99.49%] confidence interval\n",
      "\n"
     ]
    }
   ],
   "source": [
    "perf_thr_froup = {}\n",
    "for task in tasks:\n",
    "    perf_thr_froup[task] = [] \n",
    "    if task == prf_task_name:\n",
    "        subjects = [s for s in analysis_info['subjects'] if s != 'sub-01']\n",
    "    else:\n",
    "        subjects = analysis_info['subjects']\n",
    "    base_dir = os.path.abspath(os.path.join(os.getcwd(), \"../../../\"))\n",
    "    task_settings_path = os.path.join(base_dir, project_dir, '{}_settings.json'.format(task))\n",
    "    with open(task_settings_path) as f:\n",
    "        settings = json.load(f)\n",
    "    \n",
    "    eye = settings['eye']\n",
    "    num_run = settings['num_run']\n",
    "    num_seq = settings['num_seq']\n",
    "    seq_trs = settings['seq_trs']\n",
    "    eye_mov_seq = settings['eye_mov_seq']\n",
    "    trials_seq = settings['trials_seq']\n",
    "    rads = settings['rads']\n",
    "    pursuits_tr = np.arange(0,seq_trs,2)\n",
    "    saccades_tr = np.arange(1,seq_trs,2)\n",
    "    eyetracking_sampling = settings['eyetrack_sampling']\n",
    "    screen_size = settings['screen_size']\n",
    "    ppd = settings['ppd']\n",
    "    \n",
    "    threshold = settings['threshold']\n",
    "    precision_thr = 0.7\n",
    "           \n",
    "    precision_data = {}\n",
    "    n_sub_sup_thr = 0 \n",
    "    n_sub_tot = 0 \n",
    "    for subject_to_group in subjects:\n",
    "        # Defind directories\n",
    "        eye_tracking_dir = '{}/{}/derivatives/pp_data/{}/eyetracking'.format(\n",
    "            main_dir, project_dir, subject_to_group)\n",
    "        \n",
    "        # Lad data\n",
    "        precision_summary = pd.read_csv(\"{}/stats/{}_task-{}_precision_summary.tsv\".format(\n",
    "            eye_tracking_dir, subject_to_group, task), delimiter='\\t')\n",
    "        precision_one_summary = pd.read_csv(\"{}/stats/{}_task-{}_precision_one_threshold_summary.tsv\".format(\n",
    "            eye_tracking_dir, subject_to_group, task), delimiter='\\t')\n",
    "        \n",
    "        #Concat subjects\n",
    "        precision_data[subject_to_group] = {\n",
    "            \"precision_mean\": precision_summary[\"precision_mean\"],\n",
    "            \"precision_one_thrs_mean\": precision_one_summary[\"precision_one_thrs_mean\"].item()\n",
    "        }\n",
    "        \n",
    "    sorted_precision_data = dict(sorted(precision_data.items(),\n",
    "                                        key=lambda item: item[1][\"precision_one_thrs_mean\"],\n",
    "                                        reverse=True))\n",
    "    \n",
    "    thresholds=np.linspace(0, 9, 100)\n",
    "    for subject_to_group, data in sorted_precision_data.items():\n",
    "        idx = np.where(thresholds == threshold)[0]\n",
    "        perf_thr_froup[task].append(data[\"precision_mean\"][idx[0]])\n",
    "        if data[\"precision_mean\"][idx[0]] > precision_thr:\n",
    "            n_sub_sup_thr += 1\n",
    "        n_sub_tot += 1\n",
    "    \n",
    "    task_median = np.median(perf_thr_froup[task])\n",
    "    task_ci_down = np.percentile(perf_thr_froup[task], 5)\n",
    "    task_ci_up = np.percentile(perf_thr_froup[task], 95)\n",
    "    \n",
    "    print('Their is {}/{} subject over {}% of performance at {} dva for {} task'.format(n_sub_sup_thr, n_sub_tot, precision_thr*100, threshold, task))\n",
    "    print('{} task median is {:.2f}% with [{:.2f}% - {:.2f}%] confidence interval\\n'.format(task, task_median*100, task_ci_down*100, task_ci_up*100))\n",
    "        \n",
    "\n",
    "     \n"
   ]
  },
  {
   "cell_type": "code",
   "execution_count": 50,
   "id": "800d2f34-f659-4ac1-adc2-33d3e86fd4f4",
   "metadata": {
    "tags": []
   },
   "outputs": [
    {
     "data": {
      "text/plain": [
       "0.34392610731511253"
      ]
     },
     "execution_count": 50,
     "metadata": {},
     "output_type": "execute_result"
    }
   ],
   "source": [
    "np.percentile(perf_thr_froup['PurLoc'], 0.05)"
   ]
  },
  {
   "cell_type": "code",
   "execution_count": null,
   "id": "ff39536e-58e8-4852-8483-cd95f8b6a2db",
   "metadata": {},
   "outputs": [],
   "source": []
  }
 ],
 "metadata": {
  "kernelspec": {
   "display_name": "prf_env",
   "language": "python",
   "name": "prf_env"
  },
  "language_info": {
   "codemirror_mode": {
    "name": "ipython",
    "version": 3
   },
   "file_extension": ".py",
   "mimetype": "text/x-python",
   "name": "python",
   "nbconvert_exporter": "python",
   "pygments_lexer": "ipython3",
   "version": "3.11.7"
  }
 },
 "nbformat": 4,
 "nbformat_minor": 5
}
