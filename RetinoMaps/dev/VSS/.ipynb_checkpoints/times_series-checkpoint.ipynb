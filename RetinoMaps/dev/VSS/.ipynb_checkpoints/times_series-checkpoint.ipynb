{
 "cells": [
  {
   "cell_type": "code",
   "execution_count": 1,
   "id": "8f7d5fa4-1680-4064-8841-f9d73085fe28",
   "metadata": {},
   "outputs": [],
   "source": [
    "# Stop warnings\n",
    "import warnings\n",
    "warnings.filterwarnings(\"ignore\")\n",
    "\n",
    "# Imports\n",
    "import os\n",
    "import cv2\n",
    "import sys\n",
    "import time\n",
    "import json\n",
    "import copy\n",
    "import cortex\n",
    "import numpy as np\n",
    "import pandas as pd\n",
    "from PIL import Image\n",
    "import matplotlib.pyplot as plt\n",
    "\n",
    "\n",
    "# Personal imports\n",
    "sys.path.append(\"{}/../../../analysis_code/utils\".format(os.getcwd()))\n",
    "from plot_utils import *\n",
    "from pycortex_utils import draw_cortex, set_pycortex_config_file, load_surface_pycortex, create_colormap, get_rois\n",
    "from surface_utils import load_surface"
   ]
  },
  {
   "cell_type": "code",
   "execution_count": 2,
   "id": "e6af4486-8c8e-468f-9731-f37dd104a7e9",
   "metadata": {
    "tags": []
   },
   "outputs": [],
   "source": [
    "# Directories\n",
    "main_dir = '/Users/uriel/disks/meso_shared'\n",
    "project_dir = 'RetinoMaps'"
   ]
  },
  {
   "cell_type": "code",
   "execution_count": 3,
   "id": "12a32a21-4a67-4aa9-a089-1a7c33f84067",
   "metadata": {
    "tags": []
   },
   "outputs": [],
   "source": [
    "with open('../../settings.json') as f:\n",
    "    json_s = f.read()\n",
    "    analysis_info = json.loads(json_s)"
   ]
  },
  {
   "cell_type": "code",
   "execution_count": 4,
   "id": "fe7144ef-32e4-4c34-8d72-028b8716c010",
   "metadata": {
    "tags": []
   },
   "outputs": [],
   "source": [
    "# Set pycortex db and colormaps\n",
    "cortex_dir = \"{}/{}/derivatives/pp_data/cortex\".format(main_dir, project_dir)\n",
    "set_pycortex_config_file(cortex_dir)\n",
    "\n",
    "# Webgl port\n",
    "port_num = 25000"
   ]
  },
  {
   "cell_type": "markdown",
   "id": "644ffd50-0a2f-4e8f-8340-07b7387ffba1",
   "metadata": {},
   "source": [
    "# pRF time series"
   ]
  },
  {
   "cell_type": "code",
   "execution_count": 5,
   "id": "0d576812-a086-4bc1-996d-5d92bd6a6c08",
   "metadata": {
    "tags": []
   },
   "outputs": [],
   "source": [
    "# Template settings\n",
    "template_specs = dict(axes_color=\"rgba(0, 0, 0, 1)\",\n",
    "                      axes_width=2,\n",
    "                      axes_font_size=15,\n",
    "                      bg_col=\"rgba(255, 255, 255, 1)\",\n",
    "                      font='Arial',\n",
    "                      title_font_size=15,\n",
    "                      plot_width=1.5)\n",
    "fig_template = plotly_template(template_specs)"
   ]
  },
  {
   "cell_type": "markdown",
   "id": "144e0181-67b7-4c3e-b315-b9b15a8d6495",
   "metadata": {},
   "source": [
    "## Functions"
   ]
  },
  {
   "cell_type": "code",
   "execution_count": 6,
   "id": "8b75fb9e-8265-4c1d-8d08-3de7941e52d6",
   "metadata": {
    "tags": []
   },
   "outputs": [],
   "source": [
    "def gaus_2d_css(gauss_x, gauss_y, gauss_sd, n, screen_side, grain=200):\n",
    "    \"\"\"\n",
    "    Generate 2D Gaussian mesh with CSS model\n",
    "    \n",
    "    Parameters\n",
    "    ----------\n",
    "    gauss_x : mean x Gaussian parameter in dva (e.g. 1 dva)\n",
    "    gauss_y : mean y Gaussian parameter in dva (e.g. 1 dva)\n",
    "    gauss_sd : sd Gaussian parameter in dva (e.g. 1 dva)\n",
    "    screen_side : mesh screen side (square) in dva (e.g. 20 dva from -10 to 10 dva)\n",
    "    n : exponent parameter of the CSS model\n",
    "    grain : grain resolution of the mesh in pixels (default = 200 pixels)\n",
    "    \n",
    "    Returns\n",
    "    -------\n",
    "    x : linspace x of the mesh\n",
    "    y : linspace y of the mesh\n",
    "    z : mesh_z values (to plot)\n",
    "    \n",
    "    \"\"\"\n",
    "    x = np.linspace(-screen_side/2, screen_side/2, grain)\n",
    "    y = np.linspace(-screen_side/2, screen_side/2, grain)\n",
    "    mesh_x, mesh_y = np.meshgrid(x, y)\n",
    "    \n",
    "    gauss_z = 1./(2.*np.pi*gauss_sd*gauss_sd) * np.exp(-((mesh_x-gauss_x)**2./(2.*gauss_sd**2.) + (mesh_y-gauss_y)**2./(2.*gauss_sd**2.)))\n",
    "    \n",
    "    # Apply the CSS model by raising the Gaussian to the power of n\n",
    "    gauss_z_css = gauss_z ** n\n",
    "    \n",
    "    return x, y, gauss_z_css"
   ]
  },
  {
   "cell_type": "code",
   "execution_count": null,
   "id": "525de1ff-f2df-4769-b298-4dc19c2ba719",
   "metadata": {},
   "outputs": [],
   "source": [
    "def draw_timeseries(bold_data, prf_prediction, vox_data, vox_model, TRs, roi):\n",
    "    \n",
    "    # # compute r2 if voxel of model and of data are different\n",
    "    # if vox_data != vox_model:\n",
    "    #     r2_val = pingouin.corr(df.data_fs[vox_data], df.pred_fs[vox_model]).iloc[0]['r']**2\n",
    "    # else:\n",
    "    #     r2_val = df.r2_fs[vox_model]\n",
    "    \n",
    "    \n",
    "    # General figure settings\n",
    "    fig_template = plotly_template(template_specs)\n",
    "    \n",
    "    # Subplot settings\n",
    "    rows, cols = 2, 2\n",
    "    margin_t, margin_b, margin_l, margin_r = 50, 50 ,50 ,50\n",
    "    fig_ratio = 5\n",
    "    fig_height = 1080/fig_ratio + (1080/fig_ratio*0.15) + margin_t+margin_b\n",
    "    fig_width = 1920/fig_ratio + 1920/fig_ratio + margin_l+margin_r\n",
    "    column_widths,row_heights = [1,1],[0.15,1]\n",
    "    sb_specs = [[{},{}],[{},{}]]\n",
    "    hover_data = 'Time: %{x:1.2f} s<br>' + 'z-score: %{y:1.2f}'\n",
    "    hover_model = 'Time: %{x:1.2f} s<br>' + 'z-score: %{y:1.2f}'\n",
    "\n",
    "    xaxis_range = [0,250]\n",
    "    yaxis_range = [-2,3]\n",
    "    yaxis_dtick = 1\n",
    "    x_tickvals = np.linspace(0,208,6)*TR\n",
    "    \n",
    "    lwd_mot = np.array([ 114*TR,  142*TR, 0.5,  0.5])\n",
    "    dwd_mot = np.array([ 80*TR, 80*TR, 0.85,  0.15])\n",
    "    rwd_mot = np.array([ 46*TR,  18*TR, 0.5, 0.5])\n",
    "    uwd_mot = np.array([176*TR, 176*TR, 0.15, 0.85])\n",
    "    \n",
    "    x0_all = np.array([0,16,48,64,96,112,144,160,192])*TR\n",
    "    x1_all = np.array([16,48,64,96,112,144,160,192,208])*TR\n",
    "    \n",
    "    rolling = 3\n",
    "    data_col = 'rgba(0, 0, 0, 1)'\n",
    "    model_col = 'rgba(200, 0, 0, 1)'\n",
    "    subplot_titles = ['<b>{} time series </b> ({})'.format(roi, subject),'','','']\n",
    "    screen_side = 10*2\n",
    "    # prf_xrange = [-8.9,8.9]\n",
    "    # prf_yrange = [-5,5]\n",
    "    prf_xrange = [-10,10]\n",
    "    prf_yrange = [-10,10]    \n",
    "    \n",
    "    x_par_txt = -10\n",
    "    y_par_text = 9\n",
    "    \n",
    "    # avg to have less points\n",
    "    bold_data_reshaped = bold_data.reshape(104, 2, -1)\n",
    "    bold_data_mean = np.mean(bold_data_reshaped, axis=1)\n",
    "    \n",
    "    prf_pred_data_reshaped = prf_pred_data.reshape(104, 2, -1)\n",
    "    prf_pred_data_mean = np.mean(prf_pred_data_reshaped, axis=1)\n",
    "    # create figure\n",
    "    fig = make_subplots(rows=rows, cols=cols, specs=sb_specs, print_grid=False, vertical_spacing=0.05, horizontal_spacing=0.05, \n",
    "                        column_widths=column_widths, row_heights=row_heights,  subplot_titles=subplot_titles)\n",
    "\n",
    "    # Timeseries stim\n",
    "    for x0,x1 in zip(x0_all,x1_all):\n",
    "        fig.add_shape(type='rect', xref='x', yref='y', x0=x0, y0=0, x1=x1, y1=1, \n",
    "                      line_width=2, fillcolor='black', line_color='white')\n",
    "        \n",
    "    for [coord_tp] in zip([rwd_mot, dwd_mot, lwd_mot, uwd_mot]):\n",
    "        fig.add_annotation(ax=coord_tp[0], x=coord_tp[1], ay=coord_tp[2], y=coord_tp[3], \n",
    "                           xref='x', yref='y', axref='x',ayref='y',\n",
    "                           text='', showarrow=True, arrowhead=2, arrowcolor='white')\n",
    "\n",
    "\n",
    "    # time series data\n",
    "    fig.append_trace(go.Scatter(x=np.linspace(0,TRs*TR,104), \n",
    "                                y=bold_data_mean[:,vox_data],                        \n",
    "                                name='<i>data<i>',\n",
    "                                showlegend=True, mode='markers', marker_color=data_col,\n",
    "                                hovertemplate=hover_data,\n",
    "                                line_width=0, opacity=1, marker_size=6),row=2, col=1)\n",
    "    # time series predictions\n",
    "    fig.append_trace(go.Scatter(x=np.linspace(0,TRs*TR,104), \n",
    "                                y=prf_pred_data_mean[:,vox_model],\n",
    "                                name='<i>model<i>',\n",
    "                                showlegend=True, mode='lines', line_color=data_col, \n",
    "                                hovertemplate=hover_model,\n",
    "                                line_width=2, opacity=1),row=2, col=1)\n",
    "\n",
    "    # pRF heatmap\n",
    "    x,y,z = gaus_2d_css(gauss_x=prf_fit_data[x_idx,vox_model], gauss_y=prf_fit_data[y_idx,vox_model], \n",
    "                gauss_sd=prf_fit_data[size_idx,vox_model], n=prf_fit_data[n_idx,vox_model], screen_side=screen_side)\n",
    "    \n",
    "    \n",
    "    fig.append_trace(go.Heatmap(x=x, y=y, z=z,colorscale='viridis', showscale=False, hoverinfo='none'),row=2,col=2)\n",
    "\n",
    "    fig.add_annotation(x=prf_fit_data[x_idx,vox_model], ax=prf_fit_data[x_idx,vox_model], y=prf_yrange[0], ay=prf_yrange[0]-0.5,\n",
    "                       xref='x4', yref='y4', axref='x4',ayref='y4', yanchor=\"top\", showarrow=True,\n",
    "                       text='<i>pRFx</i> = {:1.2g}°'.format(prf_fit_data[x_idx,vox_model]), arrowhead=2, arrowwidth=2.5)\n",
    "\n",
    "    fig.add_annotation(x=prf_xrange[1], ax=prf_xrange[1]+0.5, y=prf_fit_data[y_idx,vox_model], ay=prf_fit_data[y_idx,vox_model],\n",
    "                       xref='x4', yref='y4', axref='x4',ayref='y4', yanchor=\"top\", showarrow=True, \n",
    "                       text='<i>pRFy</i> = {:1.2g}°'.format(prf_fit_data[y_idx,vox_model]), textangle=-90, arrowhead=2, arrowwidth=2.5)\n",
    "    \n",
    "    fig.add_shape(type='line', xref='x4', yref='y4', x0=prf_xrange[0], x1=prf_xrange[1], y0=prf_fit_data[y_idx,vox_model], y1=prf_fit_data[y_idx,vox_model], \n",
    "                      line_width=2, line_color='white', line_dash='dot')\n",
    "    \n",
    "    fig.add_shape(type='line', xref='x4', yref='y4', x0=prf_fit_data[x_idx,vox_model], x1=prf_fit_data[x_idx,vox_model], y0=prf_yrange[0], y1=prf_yrange[1], \n",
    "                      line_width=2, line_color='white', line_dash='dot')     \n",
    "    \n",
    "    fig.add_annotation(x=x_par_txt, y=y_par_text, xref='x4', yref='y4', xanchor=\"left\", font_color='white', showarrow=False,\n",
    "                       text='<i>pRF loo R<sup>2</sup></i> = {:1.2g}'.format(prf_fit_data[r2_idx,vox_model]))\n",
    "    \n",
    "    fig.add_annotation(x=x_par_txt, y=y_par_text-1.5, xref='x4', yref='y4', xanchor=\"left\", font_color='white', showarrow=False,\n",
    "                       text='<i>pRF size</i> = {:1.2g}°'.format(prf_fit_data[size_idx,vox_model]))\n",
    "    \n",
    "    fig.add_annotation(x=x_par_txt, y=y_par_text-3, xref='x4', yref='y4',  xanchor=\"left\", font_color='white', showarrow=False, \n",
    "                       text='<i>pRF ecc</i> = {:1.2g}°'.format(prf_fit_data[ecc_idx,vox_model]))\n",
    "    \n",
    "    fig.add_annotation(x=x_par_txt, y=y_par_text-4.5, xref='x4', yref='y4',  xanchor=\"left\", font_color='white', showarrow=False, \n",
    "                       text='<i>pRF angle</i> = {:3.0f}°'.format(np.angle(prf_fit_data[x_idx,vox_model] + 1j * prf_fit_data[y_idx,vox_model],deg=True)))\n",
    "\n",
    "    # set axis\n",
    "    for row in np.arange(rows):\n",
    "        for col in np.arange(cols):\n",
    "            fig.update_xaxes(visible=True, ticklen=8, linewidth=template_specs['axes_width'], row=row+1, col=col+1)\n",
    "            fig.update_yaxes(visible=True, ticklen=8, linewidth=template_specs['axes_width'], row=row+1, col=col+1)\n",
    "            \n",
    "    fig.update_xaxes(scaleanchor=\"y4\", scaleratio=1, row=2, col=2)\n",
    "    fig.update_yaxes(scaleanchor=\"x4\", scaleratio=1, row=2, col=2)\n",
    "    fig.layout.update(xaxis_range=xaxis_range, xaxis_title='', \n",
    "                      xaxis_visible=False, yaxis_visible=False,\n",
    "                      yaxis_range=[0,1], yaxis_title='',\n",
    "                      xaxis4_range=prf_xrange, xaxis4_title='', \n",
    "                      yaxis4_range=prf_yrange, yaxis4_title='', \n",
    "                      xaxis4_visible=False, yaxis4_visible=False,\n",
    "                      xaxis3_tickvals=x_tickvals, xaxis3_ticktext=np.round(x_tickvals),\n",
    "                      xaxis3_range=xaxis_range, xaxis3_title='Time (seconds)',\n",
    "                      yaxis3_range=yaxis_range, yaxis3_title='z-score',yaxis3_dtick=yaxis_dtick,\n",
    "                      template=fig_template, width=fig_width, height=fig_height, \n",
    "                      margin_l=margin_l+10, margin_r=margin_r-10, margin_t=margin_t-20, margin_b=margin_b+20,\n",
    "                      legend_yanchor='top', legend_y=0.85, legend_xanchor='left', \n",
    "                      legend_x=0.02, legend_bgcolor='rgba(255,255,255,0)')\n",
    "\n",
    "    return fig"
   ]
  },
  {
   "cell_type": "markdown",
   "id": "bb12c8f5-9fdb-4595-812f-22cff922887e",
   "metadata": {},
   "source": [
    "## Plots"
   ]
  },
  {
   "cell_type": "code",
   "execution_count": 7,
   "id": "da641039-9141-4e6a-acd2-593067467a37",
   "metadata": {
    "tags": []
   },
   "outputs": [],
   "source": [
    "subject = 'sub-11'\n",
    "format_ = 'fsnative'\n",
    "extension = 'func.gii'"
   ]
  },
  {
   "cell_type": "code",
   "execution_count": null,
   "id": "71ff3ecf-def1-4433-99c5-ad38a5fbd0e4",
   "metadata": {
    "tags": []
   },
   "outputs": [],
   "source": [
    "bold_dir = '{}/{}/derivatives/pp_data/{}/{}/func/fmriprep_dct_loo_avg'.format(main_dir, project_dir,subject,format_)\n",
    "bold_fn = '{}/{}_task-pRF_hemi-L_fmriprep_dct_avg_loo-1_bold.{}'.format(bold_dir, subject, extension)\n",
    "bold_img, bold_data = load_surface(fn = bold_fn)"
   ]
  },
  {
   "cell_type": "code",
   "execution_count": null,
   "id": "e5f7b8fe-cf5b-418c-8933-2bb59d6da2ee",
   "metadata": {
    "tags": []
   },
   "outputs": [],
   "source": [
    "prf_dir ='{}/{}/derivatives/pp_data/{}/{}/prf/fit/'.format(main_dir, project_dir,subject,format_)\n",
    "prf_pred_fn = '{}/{}_task-pRF_hemi-L_fmriprep_dct_avg_loo-1_prf-pred_css.func.gii'.format(prf_dir, subject)\n",
    "prf_pred_img, prf_pred_data = load_surface(fn = prf_pred_fn)"
   ]
  },
  {
   "cell_type": "code",
   "execution_count": null,
   "id": "802f5703-7381-4b67-8f85-408abe47c2b2",
   "metadata": {
    "tags": []
   },
   "outputs": [],
   "source": [
    "ecc_idx, size_idx, x_idx, y_idx, n_idx, r2_idx = 1,4,7,8,11,12\n",
    "\n",
    "prf_deriv_dir = '{}/{}/derivatives/pp_data/{}/{}/prf/prf_derivatives'.format(main_dir, project_dir,subject,format_)\n",
    "prf_fit_fn = '{}/{}_task-pRF_hemi-L_fmriprep_dct_avg_loo-1_prf-deriv_css.func.gii'.format(prf_deriv_dir, subject)\n",
    "prf_fit_img, prf_fit_data = load_surface(fn = prf_fit_fn)"
   ]
  },
  {
   "cell_type": "code",
   "execution_count": null,
   "id": "8c028987-043e-4fa0-bc22-ad3cea1f6293",
   "metadata": {
    "tags": []
   },
   "outputs": [],
   "source": [
    "# vertex_to_plot = 9383\n",
    "\n",
    "fig = draw_timeseries(bold_data=bold_data, prf_prediction=prf_pred_data, vox_data=vertex_to_plot, vox_model=vertex_to_plot, TRs=TRs, roi='V1')\n",
    "fig.write_image('/Users/uriel/Downloads/time_seris.pdf')\n",
    "fig.show()"
   ]
  },
  {
   "cell_type": "markdown",
   "id": "bbdc00b6-5552-42a9-9b46-69cbdf295ea7",
   "metadata": {},
   "source": [
    "# GLM time series"
   ]
  },
  {
   "cell_type": "code",
   "execution_count": null,
   "id": "550dbbf7-a239-49bd-a880-40c928332cbb",
   "metadata": {
    "tags": []
   },
   "outputs": [],
   "source": [
    "# task = 'PurLoc'\n",
    "# task = 'SacLoc'\n",
    "# task = 'SacVELoc'\n",
    "task = 'PurVELoc'"
   ]
  },
  {
   "cell_type": "code",
   "execution_count": null,
   "id": "9bfbe408-169c-46b4-8733-152e800a0aae",
   "metadata": {},
   "outputs": [],
   "source": [
    "bold_glm_dir = '{}/{}/derivatives/pp_data/{}/{}/func/fmriprep_dct_loo_avg'.format(main_dir, project_dir,subject,format_)\n",
    "bold_glm_fn = '{}/{}_task-{}_hemi-L_fmriprep_dct_avg_loo-1_bold.func.gii'.format(bold_dir, subject,task)\n",
    "bold_glm_img,bold_glm_data = load_surface(fn = bold_glm_fn)"
   ]
  }
 ],
 "metadata": {
  "kernelspec": {
   "display_name": "prf_env",
   "language": "python",
   "name": "prf_env"
  },
  "language_info": {
   "codemirror_mode": {
    "name": "ipython",
    "version": 3
   },
   "file_extension": ".py",
   "mimetype": "text/x-python",
   "name": "python",
   "nbconvert_exporter": "python",
   "pygments_lexer": "ipython3",
   "version": "3.11.7"
  }
 },
 "nbformat": 4,
 "nbformat_minor": 5
}
