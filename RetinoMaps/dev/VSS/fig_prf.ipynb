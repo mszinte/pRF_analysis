{
 "cells": [
  {
   "cell_type": "code",
   "execution_count": 1,
   "id": "5abd8998-37bb-4985-9696-6d9266e7eda2",
   "metadata": {
    "tags": []
   },
   "outputs": [],
   "source": [
    "# Stop warnings\n",
    "import warnings\n",
    "warnings.filterwarnings(\"ignore\")\n",
    "\n",
    "# Imports\n",
    "import os\n",
    "import sys\n",
    "import time\n",
    "import json\n",
    "import copy\n",
    "import cortex\n",
    "import numpy as np\n",
    "import pandas as pd\n",
    "from scipy import stats\n",
    "import matplotlib.pyplot as plt\n",
    "\n",
    "# Plotly imports\n",
    "import plotly.express as px\n",
    "import plotly.graph_objects as go\n",
    "from plotly.subplots import make_subplots\n",
    "\n",
    "# Personal imports\n",
    "sys.path.append(\"{}/../../../analysis_code/utils\".format(os.getcwd()))\n",
    "from plot_utils import *\n",
    "from pycortex_utils import draw_cortex, set_pycortex_config_file, load_surface_pycortex, create_colormap, get_rois\n",
    "from surface_utils import load_surface\n",
    "from maths_utils import weighted_regression"
   ]
  },
  {
   "cell_type": "code",
   "execution_count": 2,
   "id": "45501f9e-82bc-4f59-b44a-978d2572299e",
   "metadata": {
    "tags": []
   },
   "outputs": [],
   "source": [
    "# Directories\n",
    "main_dir = '/Users/uriel/disks/meso_shared'\n",
    "project_dir = 'RetinoMaps'"
   ]
  },
  {
   "cell_type": "code",
   "execution_count": 3,
   "id": "e6da2b74-1ac2-467a-a71c-ecd249279d37",
   "metadata": {
    "tags": []
   },
   "outputs": [],
   "source": [
    "# General settings\n",
    "with open('../../settings.json') as f:\n",
    "    json_s = f.read()\n",
    "    analysis_info = json.loads(json_s)\n",
    "TRs = analysis_info['TRs']\n",
    "subjects = analysis_info['subjects']\n",
    "rois = analysis_info['rois']\n",
    "rois_groups = analysis_info['rois_groups']\n",
    "\n",
    "with open('../../figure_settings.json') as f:\n",
    "    json_s = f.read()\n",
    "    figure_info = json.loads(json_s)\n",
    "plot_groups = figure_info['plot_groups']\n",
    "fig_width = figure_info['fig_width']"
   ]
  },
  {
   "cell_type": "code",
   "execution_count": 4,
   "id": "41c8b843-c0be-49e8-8f16-ab4c09977faa",
   "metadata": {
    "tags": []
   },
   "outputs": [],
   "source": [
    "# Set pycortex db and colormaps\n",
    "cortex_dir = \"{}/{}/derivatives/pp_data/cortex\".format(main_dir, project_dir)\n",
    "set_pycortex_config_file(cortex_dir)\n",
    "\n",
    "port_num = 25000"
   ]
  },
  {
   "cell_type": "code",
   "execution_count": 5,
   "id": "54a4cffa-624c-4214-9a35-f21335ad258d",
   "metadata": {
    "tags": []
   },
   "outputs": [],
   "source": [
    "# Template settings\n",
    "template_specs = dict(axes_color=\"rgba(0, 0, 0, 1)\",\n",
    "                      axes_width=2,\n",
    "                      axes_font_size=15,\n",
    "                      bg_col=\"rgba(255, 255, 255, 1)\",\n",
    "                      font='Arial',\n",
    "                      title_font_size=15,\n",
    "                      plot_width=1.5)\n",
    "fig_template = plotly_template(template_specs)\n",
    "standoff = 8"
   ]
  },
  {
   "cell_type": "code",
   "execution_count": 6,
   "id": "5e41589f-a559-45c0-9bec-e1982e321850",
   "metadata": {
    "tags": []
   },
   "outputs": [],
   "source": [
    "# Plot settings\n",
    "roi_colors_dict = {'V1': 'rgb(243, 231, 155)', \n",
    "                   'V2': 'rgb(250, 196, 132)', \n",
    "                   'V3': 'rgb(248, 160, 126)', \n",
    "                   'V3AB': 'rgb(235, 127, 134)', \n",
    "                   'LO': 'rgb(150, 0, 90)',  \n",
    "                   'VO': 'rgb(0, 0, 200)', \n",
    "                   'hMT+': 'rgb(0, 25, 255)', \n",
    "                   'iIPS': 'rgb(0, 152, 255)', \n",
    "                   'sIPS': 'rgb(44, 255, 150)', \n",
    "                   'iPCS': 'rgb(151, 255, 0)', \n",
    "                   'sPCS': 'rgb(255, 234, 0)', \n",
    "                   'mPCS': 'rgb(255, 111, 0)'}\n"
   ]
  },
  {
   "cell_type": "code",
   "execution_count": 9,
   "id": "3274b265-71e4-44f0-99d8-e1810098fcfc",
   "metadata": {
    "tags": []
   },
   "outputs": [],
   "source": [
    "fig_dir = '/Users/uriel/Downloads'"
   ]
  },
  {
   "cell_type": "markdown",
   "id": "1f8b0ccc-c73b-425d-8ec9-285ff7dfd6af",
   "metadata": {
    "jp-MarkdownHeadingCollapsed": true,
    "tags": []
   },
   "source": [
    "# Vertex bar plot group ROI"
   ]
  },
  {
   "cell_type": "markdown",
   "id": "62eea23f-6fe4-4269-b44a-e5d4754c874e",
   "metadata": {
    "tags": []
   },
   "source": [
    "## Make plot"
   ]
  },
  {
   "cell_type": "markdown",
   "id": "0ee5462f-8c0b-4da6-82aa-dc0fe771e18c",
   "metadata": {
    "tags": []
   },
   "source": [
    "### Subject"
   ]
  },
  {
   "cell_type": "code",
   "execution_count": null,
   "id": "8f25be2e-d190-4c89-a48a-bcb66e8216f2",
   "metadata": {
    "tags": []
   },
   "outputs": [],
   "source": [
    "# Specific settings\n",
    "subject = 'sub-01'\n",
    "format_ = '170k'\n",
    "suffix = 'Sac_Pur'"
   ]
  },
  {
   "cell_type": "code",
   "execution_count": null,
   "id": "027e9ede-a078-4081-b455-dc5cec9da4dc",
   "metadata": {
    "tags": []
   },
   "outputs": [],
   "source": [
    "# Load DF \n",
    "tsv_dir = '{}/{}/derivatives/pp_data/{}/{}/intertask/tsv'.format(main_dir, project_dir, subject, format_)\n",
    "active_vertex_roi_tsv_fn = '{}/{}_active_vertex_roi_{}.tsv'.format(tsv_dir, subject, suffix)\n",
    "\n",
    "df_active_vertex_roi = pd.read_table(active_vertex_roi_tsv_fn)"
   ]
  },
  {
   "cell_type": "code",
   "execution_count": null,
   "id": "baad57d9-2398-4ad4-821d-8a4daeb2711c",
   "metadata": {
    "tags": []
   },
   "outputs": [],
   "source": [
    "fig = active_vertex_roi(df_active_vertex_roi=df_active_vertex_roi, fig_height=400, fig_width=fig_width, roi_colors=roi_colors_dict, plot_groups=plot_groups)\n"
   ]
  },
  {
   "cell_type": "code",
   "execution_count": null,
   "id": "d6013d20-9608-47e0-9fec-ae49b48e0983",
   "metadata": {
    "tags": []
   },
   "outputs": [],
   "source": [
    "fig.show()"
   ]
  },
  {
   "cell_type": "code",
   "execution_count": null,
   "id": "51062bc9-05bb-433d-a324-0762b29bdbf9",
   "metadata": {
    "tags": []
   },
   "outputs": [],
   "source": [
    "# plot_groups = [['iIPS', 'sIPS']]\n",
    "plot_groups = [['iPCS', 'sPCS', 'mPCS']]\n",
    "# Subject\n",
    "rows, cols = 1, len(plot_groups)\n",
    "fig = make_subplots(rows=rows, cols=cols, print_grid=False)\n",
    "for l, line_label in enumerate(plot_groups):\n",
    "    for j, roi in enumerate(line_label):\n",
    "        df_roi = df_active_vertex_roi.loc[df_active_vertex_roi['roi']==roi]\n",
    "        fig.add_trace(go.Bar(x=df_roi['categorie'], \n",
    "                             y=df_roi['percentage_active'], \n",
    "                             name=roi,  \n",
    "                             marker=dict(color=roi_colors_dict[roi]), \n",
    "                             showlegend=True), \n",
    "                      row=1, col=l + 1)\n",
    "    \n",
    "fig.update_xaxes(showline=True)\n",
    "fig.update_yaxes(title='Active vertex (%)', \n",
    "                 range=[0,100], \n",
    "                 showline=True)\n",
    "\n",
    "fig.update_layout(template=fig_template, \n",
    "                  barmode='group', \n",
    "                  height=400, \n",
    "                  width=fig_width\n",
    "                 )\n",
    "\n",
    "\n",
    "# Export figure\n",
    "fig_fn = \"{}/{}_active_vertex_roi_{}.pdf\".format(fig_dir, subject, suffix)\n",
    "print('Saving pdf: {}'.format(fig_fn))\n",
    "fig.write_image(fig_fn)"
   ]
  },
  {
   "cell_type": "markdown",
   "id": "8f33bfea-2d39-4e9b-9020-ce8c2c839602",
   "metadata": {
    "jp-MarkdownHeadingCollapsed": true,
    "tags": []
   },
   "source": [
    "### Group "
   ]
  },
  {
   "cell_type": "code",
   "execution_count": null,
   "id": "7686ddbf-ec67-4ca0-bb3d-3c6c51ce232f",
   "metadata": {
    "tags": []
   },
   "outputs": [],
   "source": [
    "# Specific settings\n",
    "subject = 'group'\n",
    "format_ = '170k'\n",
    "suffix = 'Sac_Pur'"
   ]
  },
  {
   "cell_type": "code",
   "execution_count": null,
   "id": "9843ed85-c3cf-4a00-a572-d71d19a7ef77",
   "metadata": {
    "tags": []
   },
   "outputs": [],
   "source": [
    "# Load DF \n",
    "tsv_dir = '{}/{}/derivatives/pp_data/{}/{}/intertask/tsv'.format(main_dir, project_dir, subject, format_)\n",
    "active_vertex_tsv_fn = '{}/{}_active_vertex_roi_{}.tsv'.format(tsv_dir, subject, suffix)\n",
    "\n",
    "df_active_vertex_roi = pd.read_table(active_vertex_tsv_fn)"
   ]
  },
  {
   "cell_type": "code",
   "execution_count": null,
   "id": "df8e734a-4b5d-4270-88e0-29873ed226f9",
   "metadata": {
    "tags": []
   },
   "outputs": [],
   "source": [
    "fig = active_vertex_roi(df_active_vertex_roi=df_active_vertex_roi, fig_height=400, fig_width=fig_width, roi_colors=roi_colors_dict, plot_groups=plot_groups)"
   ]
  },
  {
   "cell_type": "code",
   "execution_count": null,
   "id": "aeb48bea-3755-4129-b39f-2e7271983ad7",
   "metadata": {
    "tags": []
   },
   "outputs": [],
   "source": [
    "fig.show()"
   ]
  },
  {
   "cell_type": "code",
   "execution_count": null,
   "id": "bff7f30b-43d5-452f-b309-55670867380f",
   "metadata": {
    "tags": []
   },
   "outputs": [],
   "source": [
    "# plot_groups = [['iIPS', 'sIPS']]\n",
    "plot_groups = [['iPCS', 'sPCS', 'mPCS']]\n",
    "# group\n",
    "rows, cols = 1, len(plot_groups)\n",
    "fig = make_subplots(rows=rows, cols=cols, print_grid=False)\n",
    "for l, line_label in enumerate(plot_groups):\n",
    "    for j, roi in enumerate(line_label):\n",
    "        df_roi = df_active_vertex_roi.loc[df_active_vertex_roi['roi']==roi]\n",
    "        fig.add_trace(go.Bar(x=df_roi['categorie'], \n",
    "                             y=df_roi['median'], \n",
    "                             name=roi,  \n",
    "                             marker=dict(color=roi_colors_dict[roi]), \n",
    "                             error_y=dict(type='data', \n",
    "                                          array=df_roi['ci_high'] - df_roi['median'], \n",
    "                                          arrayminus=df_roi['median'] - df_roi['ci_low'], \n",
    "                                          visible=True, \n",
    "                                          width=0, \n",
    "                                          color='black'), \n",
    "                             showlegend=True), \n",
    "                      row=1, \n",
    "                      col=l + 1)\n",
    "    \n",
    "fig.update_xaxes(showline=True)\n",
    "fig.update_yaxes(title='Active vertex (%)', \n",
    "                 range=[0,100], \n",
    "                 showline=True)\n",
    "\n",
    "fig.update_layout(template=fig_template, \n",
    "                  barmode='group', \n",
    "                  height=400, \n",
    "                  width=fig_width\n",
    "                 )\n",
    "\n",
    "\n",
    "# Export figure\n",
    "fig_fn = \"{}/{}_active_vertex_roi_{}.pdf\".format(fig_dir, subject, suffix)\n",
    "print('Saving pdf: {}'.format(fig_fn))\n",
    "fig.write_image(fig_fn)"
   ]
  },
  {
   "cell_type": "markdown",
   "id": "7be3d5aa-027c-42a7-ab95-a6a663693993",
   "metadata": {
    "jp-MarkdownHeadingCollapsed": true,
    "tags": []
   },
   "source": [
    "### Values"
   ]
  },
  {
   "cell_type": "code",
   "execution_count": null,
   "id": "a524f980-fb75-4959-a357-8481c73e9668",
   "metadata": {
    "tags": []
   },
   "outputs": [],
   "source": [
    "sub_rois =  ['iIPS', 'sIPS', 'iPCS', 'sPCS', 'mPCS']\n",
    "\n",
    "df_roi = group_rois_area_categorie_df.loc[group_rois_area_categorie_df['roi'].isin(sub_rois)]\n",
    "\n",
    "fig = go.Figure()\n",
    "fig.add_trace(go.Table(header=dict(values=list(df_roi.columns), \n",
    "                                   fill_color='paleturquoise', \n",
    "                                   align='left'), \n",
    "                       cells=dict(values=[df_roi[col].round(1) for col in df_roi.columns], \n",
    "                                  fill_color='lavender', \n",
    "                                  align='left')\n",
    "                      ))\n",
    "\n",
    "fig.update_layout(template=fig_template,\n",
    "                  height=800, \n",
    "                  width=800)\n",
    "fig.write_image(\"/Users/uriel/Downloads/Surface_percentage_table.pdf\".format(subject))\n",
    "fig.show()"
   ]
  },
  {
   "cell_type": "markdown",
   "id": "acadae44-4ad8-4468-919a-4e6146f182ab",
   "metadata": {
    "tags": []
   },
   "source": [
    "# Vertex bar plot MMP ROI"
   ]
  },
  {
   "cell_type": "markdown",
   "id": "6d9cbe15-1e6f-4fff-a9b1-e94bf4d3523c",
   "metadata": {
    "tags": []
   },
   "source": [
    "## Make plot"
   ]
  },
  {
   "cell_type": "markdown",
   "id": "63b79f73-cf6a-46b2-92e1-a52e69080b50",
   "metadata": {
    "jp-MarkdownHeadingCollapsed": true,
    "tags": []
   },
   "source": [
    "### Subject"
   ]
  },
  {
   "cell_type": "code",
   "execution_count": null,
   "id": "e32416c1-920e-499b-993d-11fcc9116185",
   "metadata": {
    "tags": []
   },
   "outputs": [],
   "source": [
    "# Specific settings\n",
    "subject = 'sub-01'\n",
    "format_ = '170k'\n",
    "suffix = 'Sac_Pur'\n",
    "categories = ['saccade', 'pursuit', 'vision', 'all']"
   ]
  },
  {
   "cell_type": "code",
   "execution_count": null,
   "id": "74158c9e-cabd-4f95-be13-5baa9cd7fbfd",
   "metadata": {
    "tags": []
   },
   "outputs": [],
   "source": [
    "# Load DF \n",
    "tsv_dir = '{}/{}/derivatives/pp_data/{}/{}/intertask/tsv'.format(main_dir, project_dir, subject, format_)\n",
    "active_vertex_roi_mmp_tsv_fn = '{}/{}_active_vertex_roi_mmp_{}.tsv'.format(tsv_dir, subject, suffix)\n",
    "\n",
    "df_active_vertex_roi_mmp = pd.read_table(active_vertex_roi_mmp_tsv_fn)"
   ]
  },
  {
   "cell_type": "code",
   "execution_count": null,
   "id": "5a8c8d74-60ae-40ce-8e0b-70bb8069b408",
   "metadata": {
    "tags": []
   },
   "outputs": [],
   "source": [
    "figures = active_vertex_roi_mmp(df_active_vertex_roi_mmp=df_active_vertex_roi_mmp, fig_height=1080, fig_width=1080, roi_colors=roi_colors_dict, plot_groups=plot_groups, categories=categories)\n",
    "\n"
   ]
  },
  {
   "cell_type": "code",
   "execution_count": null,
   "id": "95e1b45a-a343-4daa-9af2-58ed568e3f0a",
   "metadata": {
    "tags": []
   },
   "outputs": [],
   "source": [
    "figures['all'].show()"
   ]
  },
  {
   "cell_type": "code",
   "execution_count": null,
   "id": "44f3c125-9df1-4d1d-a54d-3c0e56ef33a8",
   "metadata": {
    "tags": []
   },
   "outputs": [],
   "source": [
    "categories = ['saccade', 'pursuit', 'vision', 'all']\n",
    "\n",
    "rows, cols = len(plot_groups), 3 \n",
    "\n",
    "for n_cat, categorie in enumerate(categories):\n",
    "    fig = make_subplots(rows=rows, \n",
    "                        cols=cols,  \n",
    "                        horizontal_spacing=0.15, \n",
    "                        vertical_spacing=0.09,\n",
    "                        print_grid=False\n",
    "                       )\n",
    "    \n",
    "    for row_idx, line_label in enumerate(plot_groups):  \n",
    "        for col_idx, roi in enumerate(line_label):      \n",
    "            df_roi = df_active_vertex_roi_mmp.loc[(df_active_vertex_roi_mmp['roi'] == roi) & \n",
    "                                                  (df_active_vertex_roi_mmp['categorie'] == categorie)].sort_values(by='percentage_active', \n",
    "                                                                                                                    ascending=True)\n",
    "\n",
    "            rois_mmp = df_roi['roi_mmp'].unique()\n",
    "            for n_roi_mmp, roi_mmp in enumerate(rois_mmp):\n",
    "                showlegend = (n_roi_mmp == 0)\n",
    "                df_roi_mmp = df_roi[df_roi['roi_mmp'] == roi_mmp]\n",
    "\n",
    "                fig.add_trace(\n",
    "                    go.Bar(x=df_roi_mmp['percentage_active'], \n",
    "                           y=df_roi_mmp['roi_mmp'], \n",
    "                           orientation='h', \n",
    "                           name=roi, \n",
    "                           marker=dict(color=roi_colors_dict[roi]),  \n",
    "                           width=0.9, \n",
    "                           showlegend=showlegend), \n",
    "                    row=row_idx + 1, \n",
    "                    col=col_idx + 1\n",
    "                )\n",
    "\n",
    "\n",
    "            fig.update_xaxes(title=dict(text='Active vertex (%)', standoff=standoff), \n",
    "                             range=[0, 100], \n",
    "                             tickvals=[25, 50, 75, 100],  \n",
    "                             ticktext=[str(val) for val in [25, 50, 75, 100]], \n",
    "                             showline=True, \n",
    "                             row=row_idx + 1, \n",
    "                             col=col_idx + 1\n",
    "                            )\n",
    "\n",
    "\n",
    "            y_title = 'Glasser parcellation' if col_idx == 0 else ''\n",
    "            fig.update_yaxes(title=dict(text=y_title, standoff=standoff), \n",
    "                             showline=True, \n",
    "                             row=row_idx + 1, \n",
    "                             col=col_idx + 1)\n",
    "\n",
    "    fig.update_layout(title='{}'.format(categorie), \n",
    "                      template=fig_template, \n",
    "                      height=1080, \n",
    "                      width=1080, \n",
    "                      margin_l=100, \n",
    "                      margin_r=100, \n",
    "                      margin_t=100, \n",
    "                      margin_b=100)\n",
    "    \n",
    "    # Export figure\n",
    "    fig_fn = \"{}/{}_active_vertex_roi_mmp_{}.pdf\".format(fig_dir, subject, suffix)\n",
    "    print('Saving pdf: {}'.format(fig_fn))\n",
    "    fig.write_image(fig_fn)\n",
    "    fig.show()"
   ]
  },
  {
   "cell_type": "code",
   "execution_count": null,
   "id": "4374afd3-2e11-44ba-9915-8cb59de08581",
   "metadata": {
    "tags": []
   },
   "outputs": [],
   "source": [
    "for subject in subjects : \n",
    "    # Specific settings\n",
    "    format_ = '170k'\n",
    "    suffix = 'Sac_Pur'\n",
    "    # Load DF \n",
    "    tsv_dir = '{}/{}/derivatives/pp_data/{}/{}/intertask/tsv'.format(main_dir, project_dir, subject, format_)\n",
    "    active_vertex_roi_mmp_tsv_fn = '{}/{}_active_vertex_roi_mmp_{}.tsv'.format(tsv_dir, subject, suffix)\n",
    "\n",
    "    df_active_vertex_roi_mmp = pd.read_table(active_vertex_roi_mmp_tsv_fn)\n",
    "    plot_groups = [['iIPS', 'sIPS', ''], ['iPCS', 'sPCS', 'mPCS']]\n",
    "    categories = ['all']\n",
    "\n",
    "    rows, cols = len(plot_groups), 3 \n",
    "\n",
    "    for n_cat, categorie in enumerate(categories):\n",
    "        fig = make_subplots(rows=rows, \n",
    "                            cols=cols,  \n",
    "                            horizontal_spacing=0.15, \n",
    "                            vertical_spacing=0.15,\n",
    "                            print_grid=False\n",
    "                           )\n",
    "\n",
    "        for row_idx, line_label in enumerate(plot_groups):  \n",
    "            for col_idx, roi in enumerate(line_label):      \n",
    "                df_roi = df_active_vertex_roi_mmp.loc[(df_active_vertex_roi_mmp['roi'] == roi) & \n",
    "                                                      (df_active_vertex_roi_mmp['categorie'] == categorie)].sort_values(by='percentage_active', \n",
    "                                                                                                                        ascending=True)\n",
    "\n",
    "                rois_mmp = df_roi['roi_mmp'].unique()\n",
    "                for n_roi_mmp, roi_mmp in enumerate(rois_mmp):\n",
    "                    showlegend = (n_roi_mmp == 0)\n",
    "                    df_roi_mmp = df_roi[df_roi['roi_mmp'] == roi_mmp]\n",
    "\n",
    "                    fig.add_trace(\n",
    "                        go.Bar(x=df_roi_mmp['percentage_active'], \n",
    "                               y=df_roi_mmp['roi_mmp'], \n",
    "                               orientation='h', \n",
    "                               name=roi, \n",
    "                               marker=dict(color=roi_colors_dict[roi]),  \n",
    "                               width=0.9, \n",
    "                               showlegend=showlegend), \n",
    "                        row=row_idx + 1, \n",
    "                        col=col_idx + 1\n",
    "                    )\n",
    "\n",
    "\n",
    "                fig.update_xaxes(title=dict(text='Active vertex (%)', standoff=standoff), \n",
    "                                 range=[0, 100], \n",
    "                                 tickvals=[25, 50, 75, 100],  \n",
    "                                 ticktext=[str(val) for val in [25, 50, 75, 100]], \n",
    "                                 showline=True, \n",
    "                                 row=row_idx + 1, \n",
    "                                 col=col_idx + 1\n",
    "                                )\n",
    "\n",
    "\n",
    "                y_title = 'Glasser parcellation' if col_idx == 0 else ''\n",
    "                fig.update_yaxes(title=dict(text=y_title, standoff=standoff), \n",
    "                                 showline=True, \n",
    "                                 row=row_idx + 1, \n",
    "                                 col=col_idx + 1)\n",
    "\n",
    "        fig.update_layout(title='{} - {}'.format(categorie, subject), \n",
    "                          template=fig_template, \n",
    "                          height=1080, \n",
    "                          width=1080, \n",
    "                          margin_l=100, \n",
    "                          margin_r=100, \n",
    "                          margin_t=100, \n",
    "                          margin_b=100)\n",
    "\n",
    "        # Export figure\n",
    "        fig_fn = \"{}/{}_active_vertex_roi_mmp_{}.pdf\".format(fig_dir, subject, suffix)\n",
    "        print('Saving pdf: {}'.format(fig_fn))\n",
    "        fig.write_image(fig_fn)\n",
    "        # fig.show()"
   ]
  },
  {
   "cell_type": "markdown",
   "id": "c2c75c4e-7094-447c-8648-8a5e82c05e58",
   "metadata": {
    "tags": []
   },
   "source": [
    "### Group"
   ]
  },
  {
   "cell_type": "code",
   "execution_count": 12,
   "id": "d3743989-371b-41ce-aba1-cfb7a254f129",
   "metadata": {
    "tags": []
   },
   "outputs": [],
   "source": [
    "# Specific settings\n",
    "subject = 'group'\n",
    "format_ = '170k'\n",
    "suffix = 'Sac_Pur'\n",
    "categories = ['saccade', 'pursuit', 'vision', 'all']\n",
    "plot_groups = [['iIPS', 'sIPS', ''], ['iPCS', 'sPCS', 'mPCS']]"
   ]
  },
  {
   "cell_type": "code",
   "execution_count": 11,
   "id": "9f033b5d-c3a1-40bc-a5ae-6c1ff0220e04",
   "metadata": {
    "tags": []
   },
   "outputs": [],
   "source": [
    "# Load DF \n",
    "tsv_dir = '{}/{}/derivatives/pp_data/{}/{}/intertask/tsv'.format(main_dir, project_dir, subject, format_)\n",
    "active_vertex_roi_mmp_tsv_fn = '{}/{}_active_vertex_roi_mmp_{}.tsv'.format(tsv_dir, subject, suffix)\n",
    "\n",
    "df_active_vertex_roi_mmp = pd.read_table(active_vertex_roi_mmp_tsv_fn)"
   ]
  },
  {
   "cell_type": "code",
   "execution_count": 21,
   "id": "9a9707ba-11cf-496b-a47e-63cc0d1dd766",
   "metadata": {
    "tags": []
   },
   "outputs": [],
   "source": [
    "categorie = 'all'\n",
    "fig = active_vertex_roi_mmp_plot(df_active_vertex_roi_mmp=df_active_vertex_roi_mmp, fig_height=1080, fig_width=1080, roi_colors=roi_colors_dict, plot_groups=plot_groups, categorie=categorie)\n"
   ]
  },
  {
   "cell_type": "code",
   "execution_count": null,
   "id": "ff078292-a523-4c75-b250-b683e6d222de",
   "metadata": {
    "tags": []
   },
   "outputs": [],
   "source": [
    "fig_fn = \"{}/{}_active_vertex_{}_roi_mmp_{}.pdf\".format(fig_dir, subject,categorie, suffix)\n",
    "fig.write_image(fig_fn)\n",
    "fig.show()"
   ]
  },
  {
   "cell_type": "code",
   "execution_count": null,
   "id": "6fdd2579-9263-4f15-92f8-80618eaee5bc",
   "metadata": {
    "tags": []
   },
   "outputs": [],
   "source": [
    "plot_groups = [['iIPS', 'sIPS', ''], ['iPCS', 'sPCS', 'mPCS']]\n",
    "categories = ['saccade', 'pursuit', 'vision', 'all']\n",
    "\n",
    "rows, cols = len(plot_groups), 3 \n",
    "\n",
    "fig_dir = '/Users/uriel/Downloads'\n",
    "for n_cat, categorie in enumerate(categories):\n",
    "    fig = make_subplots(rows=rows, \n",
    "                        cols=cols,  \n",
    "                        horizontal_spacing=0.15, \n",
    "                        vertical_spacing=0.15,\n",
    "                        print_grid=False\n",
    "                       )\n",
    "    \n",
    "    for row_idx, line_label in enumerate(plot_groups):  \n",
    "        for col_idx, roi in enumerate(line_label):      \n",
    "            df_roi = df_active_vertex_roi_mmp.loc[(df_active_vertex_roi_mmp['roi'] == roi) & \n",
    "                                                  (df_active_vertex_roi_mmp['categorie'] == categorie)].sort_values(by='median', \n",
    "                                                                                                                    ascending=True)\n",
    "\n",
    "            rois_mmp = df_roi['roi_mmp'].unique()\n",
    "            for n_roi_mmp, roi_mmp in enumerate(rois_mmp):\n",
    "                showlegend = (n_roi_mmp == 0)\n",
    "                df_roi_mmp = df_roi[df_roi['roi_mmp'] == roi_mmp]\n",
    "\n",
    "                fig.add_trace(go.Bar(x=df_roi_mmp['median'], \n",
    "                                     y=df_roi_mmp['roi_mmp'], \n",
    "                                     orientation='h', \n",
    "                                     name=roi, \n",
    "                                     marker=dict(color=roi_colors_dict[roi]), \n",
    "                                     error_x=dict(type='data', \n",
    "                                                  array=(df_roi_mmp['ci_high'] - df_roi_mmp['median']).values, \n",
    "                                                  arrayminus=(df_roi_mmp['median'] - df_roi_mmp['ci_low']).values, \n",
    "                                                  visible=True,  \n",
    "                                                  width=0, \n",
    "                                                  color='black'), \n",
    "                                     width=0.9, \n",
    "                                     showlegend=showlegend), \n",
    "                              row=row_idx + 1, \n",
    "                              col=col_idx + 1\n",
    "                             )\n",
    "\n",
    "            fig.update_xaxes(title=dict(text='Active vertex (%)', standoff=standoff), \n",
    "                             range=[0, 100], \n",
    "                             tickvals=[25, 50, 75, 100],  \n",
    "                             ticktext=[str(val) for val in [25, 50, 75, 100]], \n",
    "                             showline=True, \n",
    "                             row=row_idx + 1, \n",
    "                             col=col_idx + 1\n",
    "                            )\n",
    "\n",
    "\n",
    "            y_title = 'Glasser parcellation' if col_idx == 0 else ''\n",
    "            fig.update_yaxes(title=dict(text=y_title, standoff=standoff), \n",
    "                             showline=True, \n",
    "                             row=row_idx + 1, \n",
    "                             col=col_idx + 1)\n",
    "\n",
    "    fig.update_layout(title='{}'.format(categorie), \n",
    "                      template=fig_template, \n",
    "                      height=1080, \n",
    "                      width=1080, \n",
    "                      margin_l=100, \n",
    "                      margin_r=100, \n",
    "                      margin_t=100, \n",
    "                      margin_b=100)\n",
    "\n",
    "    # Export figure\n",
    "    fig_fn = \"{}/{}_active_vertex_{}_roi_mmp_{}.pdf\".format(fig_dir, subject,categorie, suffix)\n",
    "    fig_fn_html = \"{}/{}_active_vertex_{}_roi_mmp_{}.html\".format(fig_dir, subject,categorie, suffix)\n",
    "    print('Saving pdf: {}'.format(fig_fn))\n",
    "    fig.write_image(fig_fn)\n",
    "    fig.write_html(fig_fn_html)\n",
    "    # fig.show()"
   ]
  },
  {
   "cell_type": "code",
   "execution_count": null,
   "id": "234951af-48c5-497b-97e0-83a2637a2290",
   "metadata": {},
   "outputs": [],
   "source": [
    "import plotly.graph_objects as go\n",
    "from plotly.subplots import make_subplots\n",
    "import plotly.io as pio\n",
    "\n",
    "plot_groups = [['iIPS', 'sIPS', ''], ['iPCS', 'sPCS', 'mPCS']]\n",
    "categories = ['saccade', 'pursuit', 'vision', 'all']\n",
    "rows, cols = len(plot_groups), 3 \n",
    "\n",
    "fig_dir = '/Users/uriel/Downloads'\n",
    "html_figures = []  # stockera les parties HTML à insérer\n",
    "\n",
    "for n_cat, categorie in enumerate(categories):\n",
    "    fig = make_subplots(\n",
    "        rows=rows, \n",
    "        cols=cols,  \n",
    "        horizontal_spacing=0.15, \n",
    "        vertical_spacing=0.15,\n",
    "        print_grid=False\n",
    "    )\n",
    "    \n",
    "    for row_idx, line_label in enumerate(plot_groups):  \n",
    "        for col_idx, roi in enumerate(line_label):      \n",
    "            if roi == '':  # sauter les cases vides\n",
    "                continue\n",
    "\n",
    "            df_roi = df_active_vertex_roi_mmp.loc[\n",
    "                (df_active_vertex_roi_mmp['roi'] == roi) & \n",
    "                (df_active_vertex_roi_mmp['categorie'] == categorie)\n",
    "            ].sort_values(by='median', ascending=True)\n",
    "\n",
    "            rois_mmp = df_roi['roi_mmp'].unique()\n",
    "            for n_roi_mmp, roi_mmp in enumerate(rois_mmp):\n",
    "                showlegend = (n_roi_mmp == 0)\n",
    "                df_roi_mmp = df_roi[df_roi['roi_mmp'] == roi_mmp]\n",
    "\n",
    "                fig.add_trace(go.Bar(\n",
    "                    x=df_roi_mmp['median'], \n",
    "                    y=df_roi_mmp['roi_mmp'], \n",
    "                    orientation='h', \n",
    "                    name=roi, \n",
    "                    marker=dict(color=roi_colors_dict[roi]), \n",
    "                    error_x=dict(\n",
    "                        type='data', \n",
    "                        array=(df_roi_mmp['ci_high'] - df_roi_mmp['median']).values, \n",
    "                        arrayminus=(df_roi_mmp['median'] - df_roi_mmp['ci_low']).values, \n",
    "                        visible=True,  \n",
    "                        width=0, \n",
    "                        color='black'\n",
    "                    ), \n",
    "                    width=0.9, \n",
    "                    showlegend=showlegend\n",
    "                ), row=row_idx + 1, col=col_idx + 1)\n",
    "\n",
    "                fig.update_xaxes(\n",
    "                    title=dict(text='Active vertex (%)', standoff=standoff), \n",
    "                    range=[0, 100], \n",
    "                    tickvals=[25, 50, 75, 100],  \n",
    "                    ticktext=[str(val) for val in [25, 50, 75, 100]], \n",
    "                    showline=True, \n",
    "                    row=row_idx + 1, \n",
    "                    col=col_idx + 1\n",
    "                )\n",
    "\n",
    "                y_title = 'Glasser parcellation' if col_idx == 0 else ''\n",
    "                fig.update_yaxes(\n",
    "                    title=dict(text=y_title, standoff=standoff), \n",
    "                    showline=True, \n",
    "                    row=row_idx + 1, \n",
    "                    col=col_idx + 1\n",
    "                )\n",
    "\n",
    "    fig.update_layout(\n",
    "        title='{}'.format(categorie), \n",
    "        template=fig_template, \n",
    "        height=1080, \n",
    "        width=1080, \n",
    "        margin_l=100, \n",
    "        margin_r=100, \n",
    "        margin_t=100, \n",
    "        margin_b=100\n",
    "    )\n",
    "\n",
    "    # Ajouter cette figure à la page HTML\n",
    "    html_piece = pio.to_html(fig, include_plotlyjs=False, full_html=False)\n",
    "    html_figures.append(f\"<h2>{categorie}</h2>\\n{html_piece}\")\n",
    "\n",
    "# Création du contenu HTML avec une grille 2x2\n",
    "html_figures_grid = \"\"\n",
    "for idx, html_piece in enumerate(html_figures):\n",
    "    html_figures_grid += f\"\"\"\n",
    "    <div class=\"plot-item\">\n",
    "        <h3>{categories[idx]}</h3>\n",
    "        {html_piece}\n",
    "    </div>\n",
    "    \"\"\"\n",
    "\n",
    "# Code HTML complet avec CSS pour la grille\n",
    "full_html = f\"\"\"\n",
    "<html>\n",
    "<head>\n",
    "    <title>Figures Active Vertex</title>\n",
    "    <script src=\"https://cdn.plot.ly/plotly-latest.min.js\"></script>\n",
    "    <style>\n",
    "        body {{\n",
    "            font-family: sans-serif;\n",
    "            margin: 20px;\n",
    "        }}\n",
    "        .plot-grid {{\n",
    "            display: grid;\n",
    "            grid-template-columns: 1fr 1fr;\n",
    "            grid-gap: 40px;\n",
    "        }}\n",
    "        .plot-item {{\n",
    "            border: 1px solid #ddd;\n",
    "            padding: 10px;\n",
    "            background-color: #f9f9f9;\n",
    "            box-shadow: 2px 2px 10px rgba(0,0,0,0.05);\n",
    "        }}\n",
    "        h3 {{\n",
    "            text-align: center;\n",
    "        }}\n",
    "    </style>\n",
    "</head>\n",
    "<body>\n",
    "    <h1>Active Vertex Figures (2x2)</h1>\n",
    "    <div class=\"plot-grid\">\n",
    "        {html_figures_grid}\n",
    "    </div>\n",
    "</body>\n",
    "</html>\n",
    "\"\"\"\n",
    "\n",
    "# Sauvegarder dans un seul fichier\n",
    "page_path = f\"{fig_dir}/{subject}_all_active_vertex_roi_mmp_{suffix}.html\"\n",
    "with open(page_path, \"w\") as f:\n",
    "    f.write(full_html)\n",
    "\n",
    "print(f\"✅ Page HTML générée : {page_path}\")"
   ]
  },
  {
   "cell_type": "code",
   "execution_count": null,
   "id": "cc2d40cd-b5be-49ba-a947-adad990685c1",
   "metadata": {},
   "outputs": [],
   "source": []
  }
 ],
 "metadata": {
  "kernelspec": {
   "display_name": "prf_env",
   "language": "python",
   "name": "prf_env"
  },
  "language_info": {
   "codemirror_mode": {
    "name": "ipython",
    "version": 3
   },
   "file_extension": ".py",
   "mimetype": "text/x-python",
   "name": "python",
   "nbconvert_exporter": "python",
   "pygments_lexer": "ipython3",
   "version": "3.11.7"
  }
 },
 "nbformat": 4,
 "nbformat_minor": 5
}
