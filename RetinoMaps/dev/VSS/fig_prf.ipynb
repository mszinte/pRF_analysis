{
 "cells": [
  {
   "cell_type": "code",
   "execution_count": 1,
   "id": "5abd8998-37bb-4985-9696-6d9266e7eda2",
   "metadata": {
    "tags": []
   },
   "outputs": [],
   "source": [
    "# Stop warnings\n",
    "import warnings\n",
    "warnings.filterwarnings(\"ignore\")\n",
    "\n",
    "# Imports\n",
    "import os\n",
    "import sys\n",
    "import time\n",
    "import json\n",
    "import copy\n",
    "import cortex\n",
    "import numpy as np\n",
    "import pandas as pd\n",
    "from scipy import stats\n",
    "import matplotlib.pyplot as plt\n",
    "\n",
    "# Plotly imports\n",
    "import plotly.express as px\n",
    "import plotly.graph_objects as go\n",
    "from plotly.subplots import make_subplots\n",
    "\n",
    "# Personal imports\n",
    "sys.path.append(\"{}/../../../analysis_code/utils\".format(os.getcwd()))\n",
    "from plot_utils import *\n",
    "from pycortex_utils import draw_cortex, set_pycortex_config_file, load_surface_pycortex, create_colormap, get_rois\n",
    "from surface_utils import load_surface\n",
    "from maths_utils import weighted_regression"
   ]
  },
  {
   "cell_type": "code",
   "execution_count": 2,
   "id": "45501f9e-82bc-4f59-b44a-978d2572299e",
   "metadata": {
    "tags": []
   },
   "outputs": [],
   "source": [
    "# Directories\n",
    "main_dir = '/Users/uriel/disks/meso_shared'\n",
    "project_dir = 'RetinoMaps'"
   ]
  },
  {
   "cell_type": "code",
   "execution_count": 3,
   "id": "e6da2b74-1ac2-467a-a71c-ecd249279d37",
   "metadata": {
    "tags": []
   },
   "outputs": [],
   "source": [
    "# General settings\n",
    "with open('../../settings.json') as f:\n",
    "    json_s = f.read()\n",
    "    analysis_info = json.loads(json_s)\n",
    "TRs = analysis_info['TRs']\n",
    "subjects = analysis_info['subjects']\n",
    "rois = analysis_info['rois']\n",
    "rois_groups = analysis_info['rois_groups']\n",
    "\n",
    "with open('../../figure_settings.json') as f:\n",
    "    json_s = f.read()\n",
    "    figure_info = json.loads(json_s)\n",
    "plot_groups = figure_info['plot_groups']\n",
    "fig_width = figure_info['fig_width']"
   ]
  },
  {
   "cell_type": "code",
   "execution_count": 4,
   "id": "41c8b843-c0be-49e8-8f16-ab4c09977faa",
   "metadata": {
    "tags": []
   },
   "outputs": [],
   "source": [
    "# Set pycortex db and colormaps\n",
    "cortex_dir = \"{}/{}/derivatives/pp_data/cortex\".format(main_dir, project_dir)\n",
    "set_pycortex_config_file(cortex_dir)\n",
    "\n",
    "port_num = 25000"
   ]
  },
  {
   "cell_type": "code",
   "execution_count": 5,
   "id": "54a4cffa-624c-4214-9a35-f21335ad258d",
   "metadata": {
    "tags": []
   },
   "outputs": [],
   "source": [
    "# Template settings\n",
    "template_specs = dict(axes_color=\"rgba(0, 0, 0, 1)\",\n",
    "                      axes_width=2,\n",
    "                      axes_font_size=15,\n",
    "                      bg_col=\"rgba(255, 255, 255, 1)\",\n",
    "                      font='Arial',\n",
    "                      title_font_size=15,\n",
    "                      plot_width=1.5)\n",
    "fig_template = plotly_template(template_specs)\n",
    "standoff = 8"
   ]
  },
  {
   "cell_type": "code",
   "execution_count": 6,
   "id": "5e41589f-a559-45c0-9bec-e1982e321850",
   "metadata": {
    "tags": []
   },
   "outputs": [],
   "source": [
    "# Plot settings\n",
    "roi_colors_dict = {'V1': 'rgb(243, 231, 155)', \n",
    "                   'V2': 'rgb(250, 196, 132)', \n",
    "                   'V3': 'rgb(248, 160, 126)', \n",
    "                   'V3AB': 'rgb(235, 127, 134)', \n",
    "                   'LO': 'rgb(150, 0, 90)',  \n",
    "                   'VO': 'rgb(0, 0, 200)', \n",
    "                   'hMT+': 'rgb(0, 25, 255)', \n",
    "                   'iIPS': 'rgb(0, 152, 255)', \n",
    "                   'sIPS': 'rgb(44, 255, 150)', \n",
    "                   'iPCS': 'rgb(151, 255, 0)', \n",
    "                   'sPCS': 'rgb(255, 234, 0)', \n",
    "                   'mPCS': 'rgb(255, 111, 0)'}\n"
   ]
  },
  {
   "cell_type": "code",
   "execution_count": 7,
   "id": "3274b265-71e4-44f0-99d8-e1810098fcfc",
   "metadata": {
    "tags": []
   },
   "outputs": [],
   "source": [
    "fig_dir = '/Users/uriel/Downloads/test'"
   ]
  },
  {
   "cell_type": "markdown",
   "id": "1f8b0ccc-c73b-425d-8ec9-285ff7dfd6af",
   "metadata": {
    "jp-MarkdownHeadingCollapsed": true,
    "tags": []
   },
   "source": [
    "# Vertex bar plot group ROI"
   ]
  },
  {
   "cell_type": "markdown",
   "id": "62eea23f-6fe4-4269-b44a-e5d4754c874e",
   "metadata": {
    "jp-MarkdownHeadingCollapsed": true,
    "tags": []
   },
   "source": [
    "## Make plot"
   ]
  },
  {
   "cell_type": "markdown",
   "id": "0ee5462f-8c0b-4da6-82aa-dc0fe771e18c",
   "metadata": {
    "tags": []
   },
   "source": [
    "### Subject"
   ]
  },
  {
   "cell_type": "code",
   "execution_count": 49,
   "id": "8f25be2e-d190-4c89-a48a-bcb66e8216f2",
   "metadata": {
    "tags": []
   },
   "outputs": [],
   "source": [
    "# Specific settings\n",
    "subject = 'sub-01'\n",
    "format_ = '170k'\n",
    "suffix = 'Sac_Pur'"
   ]
  },
  {
   "cell_type": "code",
   "execution_count": 46,
   "id": "027e9ede-a078-4081-b455-dc5cec9da4dc",
   "metadata": {
    "tags": []
   },
   "outputs": [],
   "source": [
    "# Load DF \n",
    "tsv_dir = '{}/{}/derivatives/pp_data/{}/{}/intertask/tsv'.format(main_dir, project_dir, subject, format_)\n",
    "active_vertex_roi_tsv_fn = '{}/{}_active_vertex_roi_{}.tsv'.format(tsv_dir, subject, suffix)\n",
    "\n",
    "df_active_vertex_roi = pd.read_table(active_vertex_roi_tsv_fn)"
   ]
  },
  {
   "cell_type": "code",
   "execution_count": 48,
   "id": "51062bc9-05bb-433d-a324-0762b29bdbf9",
   "metadata": {
    "tags": []
   },
   "outputs": [
    {
     "data": {
      "application/vnd.plotly.v1+json": {
       "config": {
        "plotlyServerURL": "https://plot.ly"
       },
       "data": [
        {
         "marker": {
          "color": "rgb(151, 255, 0)"
         },
         "name": "iPCS",
         "showlegend": true,
         "type": "bar",
         "x": [
          "saccade",
          "pursuit",
          "vision",
          "all"
         ],
         "xaxis": "x",
         "y": [
          58.18518518518518,
          48.5925925925926,
          26.703703703703702,
          18.666666666666668
         ],
         "yaxis": "y"
        },
        {
         "marker": {
          "color": "rgb(255, 234, 0)"
         },
         "name": "sPCS",
         "showlegend": true,
         "type": "bar",
         "x": [
          "saccade",
          "pursuit",
          "vision",
          "all"
         ],
         "xaxis": "x",
         "y": [
          64.94377162629758,
          64.03546712802768,
          42.30103806228374,
          28.69809688581315
         ],
         "yaxis": "y"
        },
        {
         "marker": {
          "color": "rgb(255, 111, 0)"
         },
         "name": "mPCS",
         "showlegend": true,
         "type": "bar",
         "x": [
          "saccade",
          "pursuit",
          "vision",
          "all"
         ],
         "xaxis": "x",
         "y": [
          49.50495049504951,
          44.37973209085615,
          33.313919627256844,
          16.191030867792662
         ],
         "yaxis": "y"
        }
       ],
       "layout": {
        "barmode": "group",
        "height": 400,
        "template": {
         "data": {
          "barpolar": [
           {
            "marker": {
             "line": {
              "color": "rgba(0, 0, 0, 1)",
              "width": 1.5
             }
            },
            "showlegend": false,
            "type": "barpolar"
           }
          ],
          "pie": [
           {
            "direction": "clockwise",
            "hole": 0.4,
            "marker": {
             "line": {
              "width": 0
             }
            },
            "rotation": 0,
            "sort": false,
            "textposition": [
             "inside",
             "none"
            ],
            "type": "pie"
           }
          ],
          "violin": [
           {
            "box": {
             "visible": false
            },
            "hoveron": "violins",
            "line": {
             "color": "rgba(0, 0, 0, 1)",
             "width": 1.5
            },
            "meanline": {
             "visible": false
            },
            "points": false,
            "showlegend": false,
            "type": "violin",
            "width": 0.8
           }
          ]
         },
         "layout": {
          "annotationdefaults": {
           "font": {
            "color": "rgba(0, 0, 0, 1)",
            "family": "Arial",
            "size": 15
           }
          },
          "font": {
           "family": "Arial",
           "size": 15
          },
          "plot_bgcolor": "rgba(255, 255, 255, 1)",
          "polar": {
           "angularaxis": {
            "showticklabels": false,
            "ticks": "",
            "visible": false
           },
           "radialaxis": {
            "showticklabels": false,
            "ticks": "",
            "visible": false
           }
          },
          "xaxis": {
           "color": "rgba(0, 0, 0, 1)",
           "hoverformat": ".1f",
           "linewidth": 2,
           "showgrid": false,
           "tickfont": {
            "family": "Arial",
            "size": 15
           },
           "ticklen": 8,
           "ticks": "outside",
           "tickwidth": 2,
           "title": {
            "font": {
             "family": "Arial",
             "size": 15
            }
           },
           "visible": true,
           "zeroline": false,
           "zerolinecolor": "rgba(0, 0, 0, 1)",
           "zerolinewidth": 2
          },
          "yaxis": {
           "color": "rgba(0, 0, 0, 1)",
           "hoverformat": ".1f",
           "linewidth": 2,
           "showgrid": false,
           "tickfont": {
            "family": "Arial",
            "size": 15
           },
           "ticklen": 8,
           "ticks": "outside",
           "tickwidth": 2,
           "title": {
            "font": {
             "family": "Arial",
             "size": 15
            }
           },
           "visible": true,
           "zeroline": false,
           "zerolinecolor": "rgba(0, 0, 0, 1)",
           "zerolinewidth": 2
          }
         }
        },
        "width": 1440,
        "xaxis": {
         "anchor": "y",
         "autorange": true,
         "domain": [
          0,
          1
         ],
         "range": [
          -0.5,
          3.5
         ],
         "showline": true,
         "type": "category"
        },
        "yaxis": {
         "anchor": "x",
         "domain": [
          0,
          1
         ],
         "range": [
          0,
          100
         ],
         "showline": true,
         "title": {
          "text": "Active vertex (%)"
         },
         "type": "linear"
        }
       }
      },
      "image/png": "[encoded data removed]",
      "text/html": [
       "<div>                            <div id=\"0e062f8d-6b39-4521-bcc1-8e43bdf52b19\" class=\"plotly-graph-div\" style=\"height:400px; width:1440px;\"></div>            <script type=\"text/javascript\">                require([\"plotly\"], function(Plotly) {                    window.PLOTLYENV=window.PLOTLYENV || {};                                    if (document.getElementById(\"0e062f8d-6b39-4521-bcc1-8e43bdf52b19\")) {                    Plotly.newPlot(                        \"0e062f8d-6b39-4521-bcc1-8e43bdf52b19\",                        [{\"marker\":{\"color\":\"rgb(151, 255, 0)\"},\"name\":\"iPCS\",\"showlegend\":true,\"x\":[\"saccade\",\"pursuit\",\"vision\",\"all\"],\"y\":[58.18518518518518,48.5925925925926,26.703703703703702,18.666666666666668],\"type\":\"bar\",\"xaxis\":\"x\",\"yaxis\":\"y\"},{\"marker\":{\"color\":\"rgb(255, 234, 0)\"},\"name\":\"sPCS\",\"showlegend\":true,\"x\":[\"saccade\",\"pursuit\",\"vision\",\"all\"],\"y\":[64.94377162629758,64.03546712802768,42.30103806228374,28.69809688581315],\"type\":\"bar\",\"xaxis\":\"x\",\"yaxis\":\"y\"},{\"marker\":{\"color\":\"rgb(255, 111, 0)\"},\"name\":\"mPCS\",\"showlegend\":true,\"x\":[\"saccade\",\"pursuit\",\"vision\",\"all\"],\"y\":[49.50495049504951,44.37973209085615,33.313919627256844,16.191030867792662],\"type\":\"bar\",\"xaxis\":\"x\",\"yaxis\":\"y\"}],                        {\"template\":{\"data\":{\"barpolar\":[{\"marker\":{\"line\":{\"color\":\"rgba(0,0,0,1)\",\"width\":1.5}},\"showlegend\":false,\"type\":\"barpolar\"}],\"pie\":[{\"direction\":\"clockwise\",\"hole\":0.4,\"marker\":{\"line\":{\"width\":0}},\"rotation\":0,\"sort\":false,\"textposition\":[\"inside\",\"none\"],\"type\":\"pie\"}],\"violin\":[{\"box\":{\"visible\":false},\"hoveron\":\"violins\",\"line\":{\"color\":\"rgba(0, 0, 0, 1)\",\"width\":1.5},\"meanline\":{\"visible\":false},\"points\":false,\"showlegend\":false,\"width\":0.8,\"type\":\"violin\"}]},\"layout\":{\"annotationdefaults\":{\"font\":{\"color\":\"rgba(0, 0, 0, 1)\",\"family\":\"Arial\",\"size\":15}},\"font\":{\"family\":\"Arial\",\"size\":15},\"plot_bgcolor\":\"rgba(255, 255, 255, 1)\",\"polar\":{\"angularaxis\":{\"showticklabels\":false,\"ticks\":\"\",\"visible\":false},\"radialaxis\":{\"showticklabels\":false,\"ticks\":\"\",\"visible\":false}},\"xaxis\":{\"color\":\"rgba(0, 0, 0, 1)\",\"hoverformat\":\".1f\",\"linewidth\":2,\"showgrid\":false,\"tickfont\":{\"family\":\"Arial\",\"size\":15},\"ticklen\":8,\"ticks\":\"outside\",\"tickwidth\":2,\"title\":{\"font\":{\"family\":\"Arial\",\"size\":15}},\"visible\":true,\"zeroline\":false,\"zerolinecolor\":\"rgba(0, 0, 0, 1)\",\"zerolinewidth\":2},\"yaxis\":{\"color\":\"rgba(0, 0, 0, 1)\",\"hoverformat\":\".1f\",\"linewidth\":2,\"showgrid\":false,\"tickfont\":{\"family\":\"Arial\",\"size\":15},\"ticklen\":8,\"ticks\":\"outside\",\"tickwidth\":2,\"title\":{\"font\":{\"family\":\"Arial\",\"size\":15}},\"visible\":true,\"zeroline\":false,\"zerolinecolor\":\"rgba(0, 0, 0, 1)\",\"zerolinewidth\":2}}},\"xaxis\":{\"anchor\":\"y\",\"domain\":[0.0,1.0],\"showline\":true},\"yaxis\":{\"anchor\":\"x\",\"domain\":[0.0,1.0],\"title\":{\"text\":\"Active vertex (%)\"},\"range\":[0,100],\"showline\":true},\"barmode\":\"group\",\"height\":400,\"width\":1440},                        {\"responsive\": true}                    ).then(function(){\n",
       "                            \n",
       "var gd = document.getElementById('0e062f8d-6b39-4521-bcc1-8e43bdf52b19');\n",
       "var x = new MutationObserver(function (mutations, observer) {{\n",
       "        var display = window.getComputedStyle(gd).display;\n",
       "        if (!display || display === 'none') {{\n",
       "            console.log([gd, 'removed!']);\n",
       "            Plotly.purge(gd);\n",
       "            observer.disconnect();\n",
       "        }}\n",
       "}});\n",
       "\n",
       "// Listen for the removal of the full notebook cells\n",
       "var notebookContainer = gd.closest('#notebook-container');\n",
       "if (notebookContainer) {{\n",
       "    x.observe(notebookContainer, {childList: true});\n",
       "}}\n",
       "\n",
       "// Listen for the clearing of the current output cell\n",
       "var outputEl = gd.closest('.output');\n",
       "if (outputEl) {{\n",
       "    x.observe(outputEl, {childList: true});\n",
       "}}\n",
       "\n",
       "                        })                };                });            </script>        </div>"
      ]
     },
     "metadata": {},
     "output_type": "display_data"
    }
   ],
   "source": [
    "# plot_groups = [['iIPS', 'sIPS']]\n",
    "plot_groups = [['iPCS', 'sPCS', 'mPCS']]\n",
    "# Subject\n",
    "rows, cols = 1, len(plot_groups)\n",
    "fig = make_subplots(rows=rows, cols=cols, print_grid=False)\n",
    "for l, line_label in enumerate(plot_groups):\n",
    "    for j, roi in enumerate(line_label):\n",
    "        df_roi = df_active_vertex_roi.loc[df_active_vertex_roi['roi']==roi]\n",
    "        fig.add_trace(go.Bar(x=df_roi['categorie'], \n",
    "                             y=df_roi['percentage_active'], \n",
    "                             name=roi,  \n",
    "                             marker=dict(color=roi_colors_dict[roi]), \n",
    "                             showlegend=True), \n",
    "                      row=1, col=l + 1)\n",
    "    \n",
    "fig.update_xaxes(showline=True)\n",
    "fig.update_yaxes(title='Active vertex (%)', \n",
    "                 range=[0,100], \n",
    "                 showline=True)\n",
    "\n",
    "fig.update_layout(template=fig_template, \n",
    "                  barmode='group', \n",
    "                  height=400, \n",
    "                  width=fig_width\n",
    "                 )\n",
    "\n",
    "\n",
    "# Export figure\n",
    "fig_fn = \"{}/{}_active_vertex_roi_{}.pdf\".format(fig_dir, subject, suffix)\n",
    "print('Saving pdf: {}'.format(fig_fn))\n",
    "fig.write_image(fig_fn)"
   ]
  },
  {
   "cell_type": "markdown",
   "id": "8f33bfea-2d39-4e9b-9020-ce8c2c839602",
   "metadata": {
    "tags": []
   },
   "source": [
    "### Group "
   ]
  },
  {
   "cell_type": "code",
   "execution_count": 76,
   "id": "7686ddbf-ec67-4ca0-bb3d-3c6c51ce232f",
   "metadata": {
    "tags": []
   },
   "outputs": [],
   "source": [
    "# Specific settings\n",
    "subject = 'group'\n",
    "format_ = '170k'\n",
    "suffix = 'Sac_Pur'"
   ]
  },
  {
   "cell_type": "code",
   "execution_count": 77,
   "id": "9843ed85-c3cf-4a00-a572-d71d19a7ef77",
   "metadata": {
    "tags": []
   },
   "outputs": [],
   "source": [
    "# Load DF \n",
    "tsv_dir = '{}/{}/derivatives/pp_data/{}/{}/intertask/tsv'.format(main_dir, project_dir, subject, format_)\n",
    "active_vertex_tsv_fn = '{}/{}_active_vertex_roi_{}.tsv'.format(tsv_dir, subject, suffix)\n",
    "\n",
    "df_active_vertex_roi = pd.read_table(active_vertex_tsv_fn)"
   ]
  },
  {
   "cell_type": "code",
   "execution_count": 78,
   "id": "bff7f30b-43d5-452f-b309-55670867380f",
   "metadata": {
    "tags": []
   },
   "outputs": [
    {
     "name": "stdout",
     "output_type": "stream",
     "text": [
      "Saving pdf: /Users/uriel/Downloads/group_active_vertex_roi_Sac_Pur.pdf\n"
     ]
    }
   ],
   "source": [
    "# plot_groups = [['iIPS', 'sIPS']]\n",
    "plot_groups = [['iPCS', 'sPCS', 'mPCS']]\n",
    "# group\n",
    "rows, cols = 1, len(plot_groups)\n",
    "fig = make_subplots(rows=rows, cols=cols, print_grid=False)\n",
    "for l, line_label in enumerate(plot_groups):\n",
    "    for j, roi in enumerate(line_label):\n",
    "        df_roi = df_active_vertex_roi.loc[df_active_vertex_roi['roi']==roi]\n",
    "        fig.add_trace(go.Bar(x=df_roi['categorie'], \n",
    "                             y=df_roi['median'], \n",
    "                             name=roi,  \n",
    "                             marker=dict(color=roi_colors_dict[roi]), \n",
    "                             error_y=dict(type='data', \n",
    "                                          array=df_roi['ci_high'] - df_roi['median'], \n",
    "                                          arrayminus=df_roi['median'] - df_roi['ci_low'], \n",
    "                                          visible=True, \n",
    "                                          width=0, \n",
    "                                          color='black'), \n",
    "                             showlegend=True), \n",
    "                      row=1, \n",
    "                      col=l + 1)\n",
    "    \n",
    "fig.update_xaxes(showline=True)\n",
    "fig.update_yaxes(title='Active vertex (%)', \n",
    "                 range=[0,100], \n",
    "                 showline=True)\n",
    "\n",
    "fig.update_layout(template=fig_template, \n",
    "                  barmode='group', \n",
    "                  height=400, \n",
    "                  width=fig_width\n",
    "                 )\n",
    "\n",
    "\n",
    "# Export figure\n",
    "fig_fn = \"{}/{}_active_vertex_roi_{}.pdf\".format(fig_dir, subject, suffix)\n",
    "print('Saving pdf: {}'.format(fig_fn))\n",
    "fig.write_image(fig_fn)"
   ]
  },
  {
   "cell_type": "markdown",
   "id": "7be3d5aa-027c-42a7-ab95-a6a663693993",
   "metadata": {
    "jp-MarkdownHeadingCollapsed": true,
    "tags": []
   },
   "source": [
    "### Values"
   ]
  },
  {
   "cell_type": "code",
   "execution_count": 26,
   "id": "a524f980-fb75-4959-a357-8481c73e9668",
   "metadata": {
    "tags": []
   },
   "outputs": [
    {
     "data": {
      "application/vnd.plotly.v1+json": {
       "config": {
        "plotlyServerURL": "https://plot.ly"
       },
       "data": [
        {
         "cells": {
          "align": "left",
          "fill": {
           "color": "lavender"
          },
          "values": [
           [
            "iIPS",
            "sIPS",
            "iPCS",
            "sPCS",
            "mPCS",
            "iIPS",
            "sIPS",
            "iPCS",
            "sPCS",
            "mPCS",
            "iIPS",
            "sIPS",
            "iPCS",
            "sPCS",
            "mPCS",
            "iIPS",
            "sIPS",
            "iPCS",
            "sPCS",
            "mPCS"
           ],
           [
            "saccade",
            "saccade",
            "saccade",
            "saccade",
            "saccade",
            "pursuit",
            "pursuit",
            "pursuit",
            "pursuit",
            "pursuit",
            "vision",
            "vision",
            "vision",
            "vision",
            "vision",
            "all",
            "all",
            "all",
            "all",
            "all"
           ],
           [
            83.7,
            81.7,
            62.6,
            73.3,
            62.6,
            71.3,
            77.5,
            54.4,
            66.1,
            51.5,
            91,
            86.6,
            66.7,
            79.1,
            74.5,
            59.3,
            56,
            36.5,
            43.1,
            31.8
           ],
           [
            62,
            64.9,
            38.5,
            45.1,
            29.2,
            47.9,
            59.8,
            33,
            47.6,
            33.2,
            52.2,
            55.1,
            31.8,
            49.7,
            43.7,
            28.3,
            35.6,
            16.5,
            25.5,
            14.7
           ],
           [
            95.8,
            95.5,
            76.7,
            90.1,
            81.9,
            93.5,
            90.8,
            72.6,
            87.5,
            80.3,
            97.9,
            95.2,
            82.1,
            91.3,
            90.7,
            83,
            77.3,
            56.7,
            64.1,
            52
           ]
          ]
         },
         "header": {
          "align": "left",
          "fill": {
           "color": "paleturquoise"
          },
          "values": [
           "roi",
           "categorie",
           "median",
           "ci_low",
           "ci_high"
          ]
         },
         "type": "table"
        }
       ],
       "layout": {
        "height": 800,
        "template": {
         "data": {
          "barpolar": [
           {
            "marker": {
             "line": {
              "color": "rgba(0, 0, 0, 1)",
              "width": 1.5
             }
            },
            "showlegend": false,
            "type": "barpolar"
           }
          ],
          "pie": [
           {
            "direction": "clockwise",
            "hole": 0.4,
            "marker": {
             "line": {
              "width": 0
             }
            },
            "rotation": 0,
            "sort": false,
            "textposition": [
             "inside",
             "none"
            ],
            "type": "pie"
           }
          ],
          "violin": [
           {
            "box": {
             "visible": false
            },
            "hoveron": "violins",
            "line": {
             "color": "rgba(0, 0, 0, 1)",
             "width": 1.5
            },
            "meanline": {
             "visible": false
            },
            "points": false,
            "showlegend": false,
            "type": "violin",
            "width": 0.8
           }
          ]
         },
         "layout": {
          "annotationdefaults": {
           "font": {
            "color": "rgba(0, 0, 0, 1)",
            "family": "Arial",
            "size": 15
           }
          },
          "font": {
           "family": "Arial",
           "size": 15
          },
          "plot_bgcolor": "rgba(255, 255, 255, 1)",
          "polar": {
           "angularaxis": {
            "showticklabels": false,
            "ticks": "",
            "visible": false
           },
           "radialaxis": {
            "showticklabels": false,
            "ticks": "",
            "visible": false
           }
          },
          "xaxis": {
           "color": "rgba(0, 0, 0, 1)",
           "hoverformat": ".1f",
           "linewidth": 2,
           "showgrid": false,
           "tickfont": {
            "family": "Arial",
            "size": 15
           },
           "ticklen": 8,
           "ticks": "outside",
           "tickwidth": 2,
           "title": {
            "font": {
             "family": "Arial",
             "size": 15
            }
           },
           "visible": true,
           "zeroline": false,
           "zerolinecolor": "rgba(0, 0, 0, 1)",
           "zerolinewidth": 2
          },
          "yaxis": {
           "color": "rgba(0, 0, 0, 1)",
           "hoverformat": ".1f",
           "linewidth": 2,
           "showgrid": false,
           "tickfont": {
            "family": "Arial",
            "size": 15
           },
           "ticklen": 8,
           "ticks": "outside",
           "tickwidth": 2,
           "title": {
            "font": {
             "family": "Arial",
             "size": 15
            }
           },
           "visible": true,
           "zeroline": false,
           "zerolinecolor": "rgba(0, 0, 0, 1)",
           "zerolinewidth": 2
          }
         }
        },
        "width": 800
       }
      },
      "image/png": "[encoded data removed]",
      "text/html": [
       "<div>                            <div id=\"b670596b-5a4f-4487-8c36-f5bb2a9e769f\" class=\"plotly-graph-div\" style=\"height:800px; width:800px;\"></div>            <script type=\"text/javascript\">                require([\"plotly\"], function(Plotly) {                    window.PLOTLYENV=window.PLOTLYENV || {};                                    if (document.getElementById(\"b670596b-5a4f-4487-8c36-f5bb2a9e769f\")) {                    Plotly.newPlot(                        \"b670596b-5a4f-4487-8c36-f5bb2a9e769f\",                        [{\"cells\":{\"align\":\"left\",\"fill\":{\"color\":\"lavender\"},\"values\":[[\"iIPS\",\"sIPS\",\"iPCS\",\"sPCS\",\"mPCS\",\"iIPS\",\"sIPS\",\"iPCS\",\"sPCS\",\"mPCS\",\"iIPS\",\"sIPS\",\"iPCS\",\"sPCS\",\"mPCS\",\"iIPS\",\"sIPS\",\"iPCS\",\"sPCS\",\"mPCS\"],[\"saccade\",\"saccade\",\"saccade\",\"saccade\",\"saccade\",\"pursuit\",\"pursuit\",\"pursuit\",\"pursuit\",\"pursuit\",\"vision\",\"vision\",\"vision\",\"vision\",\"vision\",\"all\",\"all\",\"all\",\"all\",\"all\"],[83.7,81.7,62.6,73.3,62.6,71.3,77.5,54.4,66.1,51.5,91.0,86.6,66.7,79.1,74.5,59.3,56.0,36.5,43.1,31.8],[62.0,64.9,38.5,45.1,29.2,47.9,59.8,33.0,47.6,33.2,52.2,55.1,31.8,49.7,43.7,28.3,35.6,16.5,25.5,14.7],[95.8,95.5,76.7,90.1,81.9,93.5,90.8,72.6,87.5,80.3,97.9,95.2,82.1,91.3,90.7,83.0,77.3,56.7,64.1,52.0]]},\"header\":{\"align\":\"left\",\"fill\":{\"color\":\"paleturquoise\"},\"values\":[\"roi\",\"categorie\",\"median\",\"ci_low\",\"ci_high\"]},\"type\":\"table\"}],                        {\"template\":{\"data\":{\"barpolar\":[{\"marker\":{\"line\":{\"color\":\"rgba(0,0,0,1)\",\"width\":1.5}},\"showlegend\":false,\"type\":\"barpolar\"}],\"pie\":[{\"direction\":\"clockwise\",\"hole\":0.4,\"marker\":{\"line\":{\"width\":0}},\"rotation\":0,\"sort\":false,\"textposition\":[\"inside\",\"none\"],\"type\":\"pie\"}],\"violin\":[{\"box\":{\"visible\":false},\"hoveron\":\"violins\",\"line\":{\"color\":\"rgba(0, 0, 0, 1)\",\"width\":1.5},\"meanline\":{\"visible\":false},\"points\":false,\"showlegend\":false,\"width\":0.8,\"type\":\"violin\"}]},\"layout\":{\"annotationdefaults\":{\"font\":{\"color\":\"rgba(0, 0, 0, 1)\",\"family\":\"Arial\",\"size\":15}},\"font\":{\"family\":\"Arial\",\"size\":15},\"plot_bgcolor\":\"rgba(255, 255, 255, 1)\",\"polar\":{\"angularaxis\":{\"showticklabels\":false,\"ticks\":\"\",\"visible\":false},\"radialaxis\":{\"showticklabels\":false,\"ticks\":\"\",\"visible\":false}},\"xaxis\":{\"color\":\"rgba(0, 0, 0, 1)\",\"hoverformat\":\".1f\",\"linewidth\":2,\"showgrid\":false,\"tickfont\":{\"family\":\"Arial\",\"size\":15},\"ticklen\":8,\"ticks\":\"outside\",\"tickwidth\":2,\"title\":{\"font\":{\"family\":\"Arial\",\"size\":15}},\"visible\":true,\"zeroline\":false,\"zerolinecolor\":\"rgba(0, 0, 0, 1)\",\"zerolinewidth\":2},\"yaxis\":{\"color\":\"rgba(0, 0, 0, 1)\",\"hoverformat\":\".1f\",\"linewidth\":2,\"showgrid\":false,\"tickfont\":{\"family\":\"Arial\",\"size\":15},\"ticklen\":8,\"ticks\":\"outside\",\"tickwidth\":2,\"title\":{\"font\":{\"family\":\"Arial\",\"size\":15}},\"visible\":true,\"zeroline\":false,\"zerolinecolor\":\"rgba(0, 0, 0, 1)\",\"zerolinewidth\":2}}},\"height\":800,\"width\":800},                        {\"responsive\": true}                    ).then(function(){\n",
       "                            \n",
       "var gd = document.getElementById('b670596b-5a4f-4487-8c36-f5bb2a9e769f');\n",
       "var x = new MutationObserver(function (mutations, observer) {{\n",
       "        var display = window.getComputedStyle(gd).display;\n",
       "        if (!display || display === 'none') {{\n",
       "            console.log([gd, 'removed!']);\n",
       "            Plotly.purge(gd);\n",
       "            observer.disconnect();\n",
       "        }}\n",
       "}});\n",
       "\n",
       "// Listen for the removal of the full notebook cells\n",
       "var notebookContainer = gd.closest('#notebook-container');\n",
       "if (notebookContainer) {{\n",
       "    x.observe(notebookContainer, {childList: true});\n",
       "}}\n",
       "\n",
       "// Listen for the clearing of the current output cell\n",
       "var outputEl = gd.closest('.output');\n",
       "if (outputEl) {{\n",
       "    x.observe(outputEl, {childList: true});\n",
       "}}\n",
       "\n",
       "                        })                };                });            </script>        </div>"
      ]
     },
     "metadata": {},
     "output_type": "display_data"
    }
   ],
   "source": [
    "sub_rois =  ['iIPS', 'sIPS', 'iPCS', 'sPCS', 'mPCS']\n",
    "\n",
    "df_roi = group_rois_area_categorie_df.loc[group_rois_area_categorie_df['roi'].isin(sub_rois)]\n",
    "\n",
    "fig = go.Figure()\n",
    "fig.add_trace(go.Table(header=dict(values=list(df_roi.columns), \n",
    "                                   fill_color='paleturquoise', \n",
    "                                   align='left'), \n",
    "                       cells=dict(values=[df_roi[col].round(1) for col in df_roi.columns], \n",
    "                                  fill_color='lavender', \n",
    "                                  align='left')\n",
    "                      ))\n",
    "\n",
    "fig.update_layout(template=fig_template,\n",
    "                  height=800, \n",
    "                  width=800)\n",
    "fig.write_image(\"/Users/uriel/Downloads/Surface_percentage_table.pdf\".format(subject))\n",
    "fig.show()"
   ]
  },
  {
   "cell_type": "markdown",
   "id": "acadae44-4ad8-4468-919a-4e6146f182ab",
   "metadata": {},
   "source": [
    "# Vertex bar plot MMP ROI"
   ]
  },
  {
   "cell_type": "markdown",
   "id": "6d9cbe15-1e6f-4fff-a9b1-e94bf4d3523c",
   "metadata": {},
   "source": [
    "## Make plot"
   ]
  },
  {
   "cell_type": "markdown",
   "id": "63b79f73-cf6a-46b2-92e1-a52e69080b50",
   "metadata": {},
   "source": [
    "### Subject"
   ]
  },
  {
   "cell_type": "code",
   "execution_count": 51,
   "id": "e32416c1-920e-499b-993d-11fcc9116185",
   "metadata": {
    "tags": []
   },
   "outputs": [],
   "source": [
    "# Specific settings\n",
    "subject = 'sub-01'\n",
    "format_ = '170k'\n",
    "suffix = 'Sac_Pur'"
   ]
  },
  {
   "cell_type": "code",
   "execution_count": 54,
   "id": "74158c9e-cabd-4f95-be13-5baa9cd7fbfd",
   "metadata": {
    "tags": []
   },
   "outputs": [],
   "source": [
    "# Load DF \n",
    "tsv_dir = '{}/{}/derivatives/pp_data/{}/{}/intertask/tsv'.format(main_dir, project_dir, subject, format_)\n",
    "active_vertex_roi_mmp_tsv_fn = '{}/{}_active_vertex_roi_mmp_{}.tsv'.format(tsv_dir, subject, suffix)\n",
    "\n",
    "df_active_vertex_roi_mmp = pd.read_table(active_vertex_roi_mmp_tsv_fn)"
   ]
  },
  {
   "cell_type": "code",
   "execution_count": 67,
   "id": "44f3c125-9df1-4d1d-a54d-3c0e56ef33a8",
   "metadata": {
    "tags": []
   },
   "outputs": [],
   "source": [
    "categories = ['saccade', 'pursuit', 'vision', 'all']\n",
    "\n",
    "rows, cols = len(plot_groups), 3 \n",
    "\n",
    "for n_cat, categorie in enumerate(categories):\n",
    "    fig = make_subplots(rows=rows, \n",
    "                        cols=cols,  \n",
    "                        horizontal_spacing=0.15, \n",
    "                        vertical_spacing=0.15,\n",
    "                        print_grid=False\n",
    "                       )\n",
    "    \n",
    "    for row_idx, line_label in enumerate(plot_groups):  \n",
    "        for col_idx, roi in enumerate(line_label):      \n",
    "            df_roi = df_active_vertex_roi_mmp.loc[(df_active_vertex_roi_mmp['roi'] == roi) & \n",
    "                                                  (df_active_vertex_roi_mmp['categorie'] == categorie)].sort_values(by='percentage_active', \n",
    "                                                                                                                    ascending=True)\n",
    "\n",
    "            rois_mmp = df_roi['roi_mmp'].unique()\n",
    "            for n_roi_mmp, roi_mmp in enumerate(rois_mmp):\n",
    "                showlegend = (n_roi_mmp == 0)\n",
    "                df_roi_mmp = df_roi[df_roi['roi_mmp'] == roi_mmp]\n",
    "\n",
    "                fig.add_trace(\n",
    "                    go.Bar(x=df_roi_mmp['percentage_active'], \n",
    "                           y=df_roi_mmp['roi_mmp'], \n",
    "                           orientation='h', \n",
    "                           name=roi, \n",
    "                           marker=dict(color=roi_colors_dict[roi]),  \n",
    "                           width=0.9, \n",
    "                           showlegend=showlegend), \n",
    "                    row=row_idx + 1, \n",
    "                    col=col_idx + 1\n",
    "                )\n",
    "\n",
    "\n",
    "            fig.update_xaxes(title=dict(text='Active vertex (%)', standoff=standoff), \n",
    "                             range=[0, 100], \n",
    "                             tickvals=[25, 50, 75, 100],  \n",
    "                             ticktext=[str(val) for val in [25, 50, 75, 100]], \n",
    "                             showline=True, \n",
    "                             row=row_idx + 1, \n",
    "                             col=col_idx + 1\n",
    "                            )\n",
    "\n",
    "\n",
    "            y_title = 'Glasser parcellation' if col_idx == 0 else ''\n",
    "            fig.update_yaxes(title=dict(text=y_title, standoff=standoff), \n",
    "                             showline=True, \n",
    "                             row=row_idx + 1, \n",
    "                             col=col_idx + 1)\n",
    "\n",
    "    fig.update_layout(title='{}'.format(categorie), \n",
    "                      template=fig_template, \n",
    "                      height=1080, \n",
    "                      width=1080, \n",
    "                      margin_l=100, \n",
    "                      margin_r=100, \n",
    "                      margin_t=100, \n",
    "                      margin_b=100)\n",
    "    \n",
    "    # Export figure\n",
    "    fig_fn = \"{}/{}_active_vertex_roi_mmp_{}.pdf\".format(fig_dir, subject, suffix)\n",
    "    print('Saving pdf: {}'.format(fig_fn))\n",
    "    fig.write_image(fig_fn)\n",
    "    # fig.show()"
   ]
  },
  {
   "cell_type": "code",
   "execution_count": 8,
   "id": "4374afd3-2e11-44ba-9915-8cb59de08581",
   "metadata": {
    "tags": []
   },
   "outputs": [
    {
     "name": "stdout",
     "output_type": "stream",
     "text": [
      "Saving pdf: /Users/uriel/Downloads/test/sub-01_active_vertex_roi_mmp_Sac_Pur.pdf\n",
      "Saving pdf: /Users/uriel/Downloads/test/sub-02_active_vertex_roi_mmp_Sac_Pur.pdf\n",
      "Saving pdf: /Users/uriel/Downloads/test/sub-03_active_vertex_roi_mmp_Sac_Pur.pdf\n",
      "Saving pdf: /Users/uriel/Downloads/test/sub-04_active_vertex_roi_mmp_Sac_Pur.pdf\n",
      "Saving pdf: /Users/uriel/Downloads/test/sub-05_active_vertex_roi_mmp_Sac_Pur.pdf\n",
      "Saving pdf: /Users/uriel/Downloads/test/sub-06_active_vertex_roi_mmp_Sac_Pur.pdf\n",
      "Saving pdf: /Users/uriel/Downloads/test/sub-07_active_vertex_roi_mmp_Sac_Pur.pdf\n",
      "Saving pdf: /Users/uriel/Downloads/test/sub-08_active_vertex_roi_mmp_Sac_Pur.pdf\n",
      "Saving pdf: /Users/uriel/Downloads/test/sub-09_active_vertex_roi_mmp_Sac_Pur.pdf\n",
      "Saving pdf: /Users/uriel/Downloads/test/sub-11_active_vertex_roi_mmp_Sac_Pur.pdf\n",
      "Saving pdf: /Users/uriel/Downloads/test/sub-12_active_vertex_roi_mmp_Sac_Pur.pdf\n",
      "Saving pdf: /Users/uriel/Downloads/test/sub-13_active_vertex_roi_mmp_Sac_Pur.pdf\n",
      "Saving pdf: /Users/uriel/Downloads/test/sub-14_active_vertex_roi_mmp_Sac_Pur.pdf\n",
      "Saving pdf: /Users/uriel/Downloads/test/sub-17_active_vertex_roi_mmp_Sac_Pur.pdf\n",
      "Saving pdf: /Users/uriel/Downloads/test/sub-20_active_vertex_roi_mmp_Sac_Pur.pdf\n",
      "Saving pdf: /Users/uriel/Downloads/test/sub-21_active_vertex_roi_mmp_Sac_Pur.pdf\n",
      "Saving pdf: /Users/uriel/Downloads/test/sub-22_active_vertex_roi_mmp_Sac_Pur.pdf\n",
      "Saving pdf: /Users/uriel/Downloads/test/sub-23_active_vertex_roi_mmp_Sac_Pur.pdf\n",
      "Saving pdf: /Users/uriel/Downloads/test/sub-24_active_vertex_roi_mmp_Sac_Pur.pdf\n",
      "Saving pdf: /Users/uriel/Downloads/test/sub-25_active_vertex_roi_mmp_Sac_Pur.pdf\n"
     ]
    }
   ],
   "source": [
    "for subject in subjects : \n",
    "    # Specific settings\n",
    "    format_ = '170k'\n",
    "    suffix = 'Sac_Pur'\n",
    "    # Load DF \n",
    "    tsv_dir = '{}/{}/derivatives/pp_data/{}/{}/intertask/tsv'.format(main_dir, project_dir, subject, format_)\n",
    "    active_vertex_roi_mmp_tsv_fn = '{}/{}_active_vertex_roi_mmp_{}.tsv'.format(tsv_dir, subject, suffix)\n",
    "\n",
    "    df_active_vertex_roi_mmp = pd.read_table(active_vertex_roi_mmp_tsv_fn)\n",
    "    plot_groups = [['iIPS', 'sIPS', ''], ['iPCS', 'sPCS', 'mPCS']]\n",
    "    categories = ['all']\n",
    "\n",
    "    rows, cols = len(plot_groups), 3 \n",
    "\n",
    "    for n_cat, categorie in enumerate(categories):\n",
    "        fig = make_subplots(rows=rows, \n",
    "                            cols=cols,  \n",
    "                            horizontal_spacing=0.15, \n",
    "                            vertical_spacing=0.15,\n",
    "                            print_grid=False\n",
    "                           )\n",
    "\n",
    "        for row_idx, line_label in enumerate(plot_groups):  \n",
    "            for col_idx, roi in enumerate(line_label):      \n",
    "                df_roi = df_active_vertex_roi_mmp.loc[(df_active_vertex_roi_mmp['roi'] == roi) & \n",
    "                                                      (df_active_vertex_roi_mmp['categorie'] == categorie)].sort_values(by='percentage_active', \n",
    "                                                                                                                        ascending=True)\n",
    "\n",
    "                rois_mmp = df_roi['roi_mmp'].unique()\n",
    "                for n_roi_mmp, roi_mmp in enumerate(rois_mmp):\n",
    "                    showlegend = (n_roi_mmp == 0)\n",
    "                    df_roi_mmp = df_roi[df_roi['roi_mmp'] == roi_mmp]\n",
    "\n",
    "                    fig.add_trace(\n",
    "                        go.Bar(x=df_roi_mmp['percentage_active'], \n",
    "                               y=df_roi_mmp['roi_mmp'], \n",
    "                               orientation='h', \n",
    "                               name=roi, \n",
    "                               marker=dict(color=roi_colors_dict[roi]),  \n",
    "                               width=0.9, \n",
    "                               showlegend=showlegend), \n",
    "                        row=row_idx + 1, \n",
    "                        col=col_idx + 1\n",
    "                    )\n",
    "\n",
    "\n",
    "                fig.update_xaxes(title=dict(text='Active vertex (%)', standoff=standoff), \n",
    "                                 range=[0, 100], \n",
    "                                 tickvals=[25, 50, 75, 100],  \n",
    "                                 ticktext=[str(val) for val in [25, 50, 75, 100]], \n",
    "                                 showline=True, \n",
    "                                 row=row_idx + 1, \n",
    "                                 col=col_idx + 1\n",
    "                                )\n",
    "\n",
    "\n",
    "                y_title = 'Glasser parcellation' if col_idx == 0 else ''\n",
    "                fig.update_yaxes(title=dict(text=y_title, standoff=standoff), \n",
    "                                 showline=True, \n",
    "                                 row=row_idx + 1, \n",
    "                                 col=col_idx + 1)\n",
    "\n",
    "        fig.update_layout(title='{} - {}'.format(categorie, subject), \n",
    "                          template=fig_template, \n",
    "                          height=1080, \n",
    "                          width=1080, \n",
    "                          margin_l=100, \n",
    "                          margin_r=100, \n",
    "                          margin_t=100, \n",
    "                          margin_b=100)\n",
    "\n",
    "        # Export figure\n",
    "        fig_fn = \"{}/{}_active_vertex_roi_mmp_{}.pdf\".format(fig_dir, subject, suffix)\n",
    "        print('Saving pdf: {}'.format(fig_fn))\n",
    "        fig.write_image(fig_fn)\n",
    "        # fig.show()"
   ]
  },
  {
   "cell_type": "markdown",
   "id": "c2c75c4e-7094-447c-8648-8a5e82c05e58",
   "metadata": {},
   "source": [
    "### Group"
   ]
  },
  {
   "cell_type": "code",
   "execution_count": 9,
   "id": "d3743989-371b-41ce-aba1-cfb7a254f129",
   "metadata": {
    "tags": []
   },
   "outputs": [],
   "source": [
    "# Specific settings\n",
    "subject = 'group'\n",
    "format_ = '170k'\n",
    "suffix = 'Sac_Pur'"
   ]
  },
  {
   "cell_type": "code",
   "execution_count": 10,
   "id": "9f033b5d-c3a1-40bc-a5ae-6c1ff0220e04",
   "metadata": {
    "tags": []
   },
   "outputs": [],
   "source": [
    "# Load DF \n",
    "tsv_dir = '{}/{}/derivatives/pp_data/{}/{}/intertask/tsv'.format(main_dir, project_dir, subject, format_)\n",
    "active_vertex_roi_mmp_tsv_fn = '{}/{}_active_vertex_roi_mmp_{}.tsv'.format(tsv_dir, subject, suffix)\n",
    "\n",
    "df_active_vertex_roi_mmp = pd.read_table(active_vertex_roi_mmp_tsv_fn)"
   ]
  },
  {
   "cell_type": "code",
   "execution_count": 11,
   "id": "6fdd2579-9263-4f15-92f8-80618eaee5bc",
   "metadata": {
    "tags": []
   },
   "outputs": [
    {
     "name": "stdout",
     "output_type": "stream",
     "text": [
      "Saving pdf: /Users/uriel/Downloads/test/group_active_vertex_saccade_roi_mmp_Sac_Pur.pdf\n",
      "Saving pdf: /Users/uriel/Downloads/test/group_active_vertex_pursuit_roi_mmp_Sac_Pur.pdf\n",
      "Saving pdf: /Users/uriel/Downloads/test/group_active_vertex_vision_roi_mmp_Sac_Pur.pdf\n",
      "Saving pdf: /Users/uriel/Downloads/test/group_active_vertex_all_roi_mmp_Sac_Pur.pdf\n"
     ]
    }
   ],
   "source": [
    "plot_groups = [['iIPS', 'sIPS', ''], ['iPCS', 'sPCS', 'mPCS']]\n",
    "categories = ['saccade', 'pursuit', 'vision', 'all']\n",
    "\n",
    "rows, cols = len(plot_groups), 3 \n",
    "\n",
    "for n_cat, categorie in enumerate(categories):\n",
    "    fig = make_subplots(rows=rows, \n",
    "                        cols=cols,  \n",
    "                        horizontal_spacing=0.15, \n",
    "                        vertical_spacing=0.15,\n",
    "                        print_grid=False\n",
    "                       )\n",
    "    \n",
    "    for row_idx, line_label in enumerate(plot_groups):  \n",
    "        for col_idx, roi in enumerate(line_label):      \n",
    "            df_roi = df_active_vertex_roi_mmp.loc[(df_active_vertex_roi_mmp['roi'] == roi) & \n",
    "                                                  (df_active_vertex_roi_mmp['categorie'] == categorie)].sort_values(by='median', \n",
    "                                                                                                                    ascending=True)\n",
    "\n",
    "            rois_mmp = df_roi['roi_mmp'].unique()\n",
    "            for n_roi_mmp, roi_mmp in enumerate(rois_mmp):\n",
    "                showlegend = (n_roi_mmp == 0)\n",
    "                df_roi_mmp = df_roi[df_roi['roi_mmp'] == roi_mmp]\n",
    "\n",
    "                fig.add_trace(go.Bar(x=df_roi_mmp['median'], \n",
    "                                     y=df_roi_mmp['roi_mmp'], \n",
    "                                     orientation='h', \n",
    "                                     name=roi, \n",
    "                                     marker=dict(color=roi_colors_dict[roi]), \n",
    "                                     error_x=dict(type='data', \n",
    "                                                  array=(df_roi_mmp['ci_high'] - df_roi_mmp['median']).values, \n",
    "                                                  arrayminus=(df_roi_mmp['median'] - df_roi_mmp['ci_low']).values, \n",
    "                                                  visible=True,  \n",
    "                                                  width=0, \n",
    "                                                  color='black'), \n",
    "                                     width=0.9, \n",
    "                                     showlegend=showlegend), \n",
    "                              row=row_idx + 1, \n",
    "                              col=col_idx + 1\n",
    "                             )\n",
    "\n",
    "            fig.update_xaxes(title=dict(text='Active vertex (%)', standoff=standoff), \n",
    "                             range=[0, 100], \n",
    "                             tickvals=[25, 50, 75, 100],  \n",
    "                             ticktext=[str(val) for val in [25, 50, 75, 100]], \n",
    "                             showline=True, \n",
    "                             row=row_idx + 1, \n",
    "                             col=col_idx + 1\n",
    "                            )\n",
    "\n",
    "\n",
    "            y_title = 'Glasser parcellation' if col_idx == 0 else ''\n",
    "            fig.update_yaxes(title=dict(text=y_title, standoff=standoff), \n",
    "                             showline=True, \n",
    "                             row=row_idx + 1, \n",
    "                             col=col_idx + 1)\n",
    "\n",
    "    fig.update_layout(title='{}'.format(categorie), \n",
    "                      template=fig_template, \n",
    "                      height=1080, \n",
    "                      width=1080, \n",
    "                      margin_l=100, \n",
    "                      margin_r=100, \n",
    "                      margin_t=100, \n",
    "                      margin_b=100)\n",
    "\n",
    "    # Export figure\n",
    "    fig_fn = \"{}/{}_active_vertex_{}_roi_mmp_{}.pdf\".format(fig_dir, subject,categorie, suffix)\n",
    "    print('Saving pdf: {}'.format(fig_fn))\n",
    "    fig.write_image(fig_fn)\n",
    "    # fig.show()"
   ]
  },
  {
   "cell_type": "code",
   "execution_count": null,
   "id": "234951af-48c5-497b-97e0-83a2637a2290",
   "metadata": {},
   "outputs": [],
   "source": []
  }
 ],
 "metadata": {
  "kernelspec": {
   "display_name": "prf_env",
   "language": "python",
   "name": "prf_env"
  },
  "language_info": {
   "codemirror_mode": {
    "name": "ipython",
    "version": 3
   },
   "file_extension": ".py",
   "mimetype": "text/x-python",
   "name": "python",
   "nbconvert_exporter": "python",
   "pygments_lexer": "ipython3",
   "version": "3.11.7"
  }
 },
 "nbformat": 4,
 "nbformat_minor": 5
}
